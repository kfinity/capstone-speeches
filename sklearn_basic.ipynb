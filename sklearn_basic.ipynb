{
 "cells": [
  {
   "cell_type": "code",
   "execution_count": 1,
   "metadata": {},
   "outputs": [],
   "source": [
    "import pandas as pd\n",
    "import numpy as np\n",
    "import json\n",
    "import nltk\n",
    "\n",
    "from nltk.corpus import stopwords\n",
    "from sklearn.feature_extraction.text import TfidfVectorizer\n",
    "\n",
    "# local library\n",
    "from preproc import *"
   ]
  },
  {
   "cell_type": "code",
   "execution_count": 2,
   "metadata": {},
   "outputs": [],
   "source": [
    "with open('speeches.json') as f:\n",
    "    speeches = json.load(f)"
   ]
  },
  {
   "cell_type": "code",
   "execution_count": 3,
   "metadata": {},
   "outputs": [
    {
     "data": {
      "text/html": [
       "<div>\n",
       "<style scoped>\n",
       "    .dataframe tbody tr th:only-of-type {\n",
       "        vertical-align: middle;\n",
       "    }\n",
       "\n",
       "    .dataframe tbody tr th {\n",
       "        vertical-align: top;\n",
       "    }\n",
       "\n",
       "    .dataframe thead th {\n",
       "        text-align: right;\n",
       "    }\n",
       "</style>\n",
       "<table border=\"1\" class=\"dataframe\">\n",
       "  <thead>\n",
       "    <tr style=\"text-align: right;\">\n",
       "      <th></th>\n",
       "      <th>index</th>\n",
       "      <th>speaker</th>\n",
       "      <th>date</th>\n",
       "      <th>speech</th>\n",
       "      <th>title</th>\n",
       "    </tr>\n",
       "    <tr>\n",
       "      <th>id</th>\n",
       "      <th></th>\n",
       "      <th></th>\n",
       "      <th></th>\n",
       "      <th></th>\n",
       "      <th></th>\n",
       "    </tr>\n",
       "  </thead>\n",
       "  <tbody>\n",
       "    <tr>\n",
       "      <th>oWlLZZ8pcp8</th>\n",
       "      <td>13</td>\n",
       "      <td>trump</td>\n",
       "      <td>2019-04-28T02:07:41Z</td>\n",
       "      <td>[Music] [Music] [Music] [Music] [Music] [Appla...</td>\n",
       "      <td>Watch Live: President Trump's MAGA Rally in Gr...</td>\n",
       "    </tr>\n",
       "    <tr>\n",
       "      <th>Z6N1WdJgnLo</th>\n",
       "      <td>52</td>\n",
       "      <td>biden</td>\n",
       "      <td>2019-04-29T21:04:46Z</td>\n",
       "      <td>[Applause] [Music] my name [Applause] thank yo...</td>\n",
       "      <td>Joe Biden holds first 2020 campaign rally</td>\n",
       "    </tr>\n",
       "    <tr>\n",
       "      <th>WIwGrZKdsY0</th>\n",
       "      <td>14</td>\n",
       "      <td>trump</td>\n",
       "      <td>2019-05-09T03:55:17Z</td>\n",
       "      <td>[Music] from the leaves of Minnesota [Music] a...</td>\n",
       "      <td>FULL RALLY: President Trump in Panama City Bea...</td>\n",
       "    </tr>\n",
       "    <tr>\n",
       "      <th>u-AEAq7jzcU</th>\n",
       "      <td>53</td>\n",
       "      <td>biden</td>\n",
       "      <td>2019-05-18T19:53:18Z</td>\n",
       "      <td>so let's do this please welcome my husband Joe...</td>\n",
       "      <td>Joe Biden speaks during a campaign rally in Ph...</td>\n",
       "    </tr>\n",
       "    <tr>\n",
       "      <th>GgINUxecNrg</th>\n",
       "      <td>15</td>\n",
       "      <td>trump</td>\n",
       "      <td>2019-05-21T00:39:36Z</td>\n",
       "      <td>[Music] from the laser Minnesota [Music] the T...</td>\n",
       "      <td>FULL RALLY: President Trump in Montoursville, ...</td>\n",
       "    </tr>\n",
       "    <tr>\n",
       "      <th>...</th>\n",
       "      <td>...</td>\n",
       "      <td>...</td>\n",
       "      <td>...</td>\n",
       "      <td>...</td>\n",
       "      <td>...</td>\n",
       "    </tr>\n",
       "    <tr>\n",
       "      <th>uBigQgyIPkE</th>\n",
       "      <td>12</td>\n",
       "      <td>biden</td>\n",
       "      <td>2020-09-03T04:25:23Z</td>\n",
       "      <td>that's why i'm speaking to you today the incum...</td>\n",
       "      <td>Joe Biden's full campaign speech HD 8/31/2020</td>\n",
       "    </tr>\n",
       "    <tr>\n",
       "      <th>SqNtc-t0Cr0</th>\n",
       "      <td>11</td>\n",
       "      <td>trump</td>\n",
       "      <td>2020-09-03T16:59:53Z</td>\n",
       "      <td>[Music] i was given a video of donald trump du...</td>\n",
       "      <td>FULL: Breaking down the Trump \"hot-mic\" tape w...</td>\n",
       "    </tr>\n",
       "    <tr>\n",
       "      <th>QHTgRNP_1VI</th>\n",
       "      <td>51</td>\n",
       "      <td>trump</td>\n",
       "      <td>2020-09-04T00:59:45Z</td>\n",
       "      <td>[Applause] [Applause] [Music] [Applause] so th...</td>\n",
       "      <td>Trump delivers campaign remarks at Arnold Palm...</td>\n",
       "    </tr>\n",
       "    <tr>\n",
       "      <th>KWLoD36kLfM</th>\n",
       "      <td>87</td>\n",
       "      <td>trump</td>\n",
       "      <td>2020-09-09T01:39:01Z</td>\n",
       "      <td>[Music] god well thank you very much thank you...</td>\n",
       "      <td>Raw Video: President Trump Full Speech at Rall...</td>\n",
       "    </tr>\n",
       "    <tr>\n",
       "      <th>wPK7ojxRNk4</th>\n",
       "      <td>88</td>\n",
       "      <td>pence</td>\n",
       "      <td>2020-09-14T17:12:58Z</td>\n",
       "      <td>hello wisconsin [Applause] to congressman styl...</td>\n",
       "      <td>Pence campaigns in Wisconsin | FULL REMARKS</td>\n",
       "    </tr>\n",
       "  </tbody>\n",
       "</table>\n",
       "<p>85 rows × 5 columns</p>\n",
       "</div>"
      ],
      "text/plain": [
       "             index speaker                  date  \\\n",
       "id                                                 \n",
       "oWlLZZ8pcp8     13   trump  2019-04-28T02:07:41Z   \n",
       "Z6N1WdJgnLo     52   biden  2019-04-29T21:04:46Z   \n",
       "WIwGrZKdsY0     14   trump  2019-05-09T03:55:17Z   \n",
       "u-AEAq7jzcU     53   biden  2019-05-18T19:53:18Z   \n",
       "GgINUxecNrg     15   trump  2019-05-21T00:39:36Z   \n",
       "...            ...     ...                   ...   \n",
       "uBigQgyIPkE     12   biden  2020-09-03T04:25:23Z   \n",
       "SqNtc-t0Cr0     11   trump  2020-09-03T16:59:53Z   \n",
       "QHTgRNP_1VI     51   trump  2020-09-04T00:59:45Z   \n",
       "KWLoD36kLfM     87   trump  2020-09-09T01:39:01Z   \n",
       "wPK7ojxRNk4     88   pence  2020-09-14T17:12:58Z   \n",
       "\n",
       "                                                        speech  \\\n",
       "id                                                               \n",
       "oWlLZZ8pcp8  [Music] [Music] [Music] [Music] [Music] [Appla...   \n",
       "Z6N1WdJgnLo  [Applause] [Music] my name [Applause] thank yo...   \n",
       "WIwGrZKdsY0  [Music] from the leaves of Minnesota [Music] a...   \n",
       "u-AEAq7jzcU  so let's do this please welcome my husband Joe...   \n",
       "GgINUxecNrg  [Music] from the laser Minnesota [Music] the T...   \n",
       "...                                                        ...   \n",
       "uBigQgyIPkE  that's why i'm speaking to you today the incum...   \n",
       "SqNtc-t0Cr0  [Music] i was given a video of donald trump du...   \n",
       "QHTgRNP_1VI  [Applause] [Applause] [Music] [Applause] so th...   \n",
       "KWLoD36kLfM  [Music] god well thank you very much thank you...   \n",
       "wPK7ojxRNk4  hello wisconsin [Applause] to congressman styl...   \n",
       "\n",
       "                                                         title  \n",
       "id                                                              \n",
       "oWlLZZ8pcp8  Watch Live: President Trump's MAGA Rally in Gr...  \n",
       "Z6N1WdJgnLo          Joe Biden holds first 2020 campaign rally  \n",
       "WIwGrZKdsY0  FULL RALLY: President Trump in Panama City Bea...  \n",
       "u-AEAq7jzcU  Joe Biden speaks during a campaign rally in Ph...  \n",
       "GgINUxecNrg  FULL RALLY: President Trump in Montoursville, ...  \n",
       "...                                                        ...  \n",
       "uBigQgyIPkE      Joe Biden's full campaign speech HD 8/31/2020  \n",
       "SqNtc-t0Cr0  FULL: Breaking down the Trump \"hot-mic\" tape w...  \n",
       "QHTgRNP_1VI  Trump delivers campaign remarks at Arnold Palm...  \n",
       "KWLoD36kLfM  Raw Video: President Trump Full Speech at Rall...  \n",
       "wPK7ojxRNk4        Pence campaigns in Wisconsin | FULL REMARKS  \n",
       "\n",
       "[85 rows x 5 columns]"
      ]
     },
     "execution_count": 3,
     "metadata": {},
     "output_type": "execute_result"
    }
   ],
   "source": [
    "bow = create_bow(speeches)\n",
    "bow"
   ]
  },
  {
   "cell_type": "markdown",
   "metadata": {},
   "source": [
    "## Create TFIDF"
   ]
  },
  {
   "cell_type": "code",
   "execution_count": 57,
   "metadata": {},
   "outputs": [],
   "source": [
    "sw = stopwords.words('english')\n",
    "# add custom words\n",
    "sw.append('applause')\n",
    "\n",
    "\n",
    "vectorizer = TfidfVectorizer(max_features=4000, # only top 4k words\n",
    "                             min_df=3,          # words must appear in this many speeches to count\n",
    "                             max_df=0.8,        # only \n",
    "                             stop_words=sw\n",
    "                            )\n",
    "\n",
    "tfidf = vectorizer.fit_transform(bow['speech'])"
   ]
  },
  {
   "cell_type": "code",
   "execution_count": 10,
   "metadata": {},
   "outputs": [
    {
     "data": {
      "text/plain": [
       "(85, 4000)"
      ]
     },
     "execution_count": 10,
     "metadata": {},
     "output_type": "execute_result"
    }
   ],
   "source": [
    "tfidf.shape"
   ]
  },
  {
   "cell_type": "code",
   "execution_count": 64,
   "metadata": {},
   "outputs": [
    {
     "data": {
      "text/plain": [
       "id\n",
       "oWlLZZ8pcp8    [Music] [Music] [Music] [Music] [Music] [Appla...\n",
       "Z6N1WdJgnLo    [Applause] [Music] my name [Applause] thank yo...\n",
       "WIwGrZKdsY0    [Music] from the leaves of Minnesota [Music] a...\n",
       "u-AEAq7jzcU    so let's do this please welcome my husband Joe...\n",
       "GgINUxecNrg    [Music] from the laser Minnesota [Music] the T...\n",
       "                                     ...                        \n",
       "uBigQgyIPkE    that's why i'm speaking to you today the incum...\n",
       "SqNtc-t0Cr0    [Music] i was given a video of donald trump du...\n",
       "QHTgRNP_1VI    [Applause] [Applause] [Music] [Applause] so th...\n",
       "KWLoD36kLfM    [Music] god well thank you very much thank you...\n",
       "wPK7ojxRNk4    hello wisconsin [Applause] to congressman styl...\n",
       "Name: speech, Length: 85, dtype: object"
      ]
     },
     "execution_count": 64,
     "metadata": {},
     "output_type": "execute_result"
    }
   ],
   "source": [
    "bow['speech']"
   ]
  },
  {
   "cell_type": "code",
   "execution_count": 28,
   "metadata": {},
   "outputs": [],
   "source": [
    "#vocab_r = {value : key for (key, value) in vectorizer.vocabulary_.items()}"
   ]
  },
  {
   "cell_type": "code",
   "execution_count": null,
   "metadata": {},
   "outputs": [],
   "source": [
    "#df = pd.DataFrame(tfidf.toarray().T)\n",
    "#df.index.name = 'myindex'\n",
    "#df['term_str'] = df.apply(lambda x: vocab_r[x.name], 1)"
   ]
  },
  {
   "cell_type": "code",
   "execution_count": 58,
   "metadata": {},
   "outputs": [
    {
     "data": {
      "text/html": [
       "<div>\n",
       "<style scoped>\n",
       "    .dataframe tbody tr th:only-of-type {\n",
       "        vertical-align: middle;\n",
       "    }\n",
       "\n",
       "    .dataframe tbody tr th {\n",
       "        vertical-align: top;\n",
       "    }\n",
       "\n",
       "    .dataframe thead th {\n",
       "        text-align: right;\n",
       "    }\n",
       "</style>\n",
       "<table border=\"1\" class=\"dataframe\">\n",
       "  <thead>\n",
       "    <tr style=\"text-align: right;\">\n",
       "      <th></th>\n",
       "      <th>00</th>\n",
       "      <th>000</th>\n",
       "      <th>10</th>\n",
       "      <th>100</th>\n",
       "      <th>11</th>\n",
       "      <th>12</th>\n",
       "      <th>120</th>\n",
       "      <th>125</th>\n",
       "      <th>12th</th>\n",
       "      <th>13</th>\n",
       "      <th>...</th>\n",
       "      <th>york</th>\n",
       "      <th>young</th>\n",
       "      <th>younger</th>\n",
       "      <th>youngest</th>\n",
       "      <th>youth</th>\n",
       "      <th>youtube</th>\n",
       "      <th>yuma</th>\n",
       "      <th>zero</th>\n",
       "      <th>zip</th>\n",
       "      <th>zones</th>\n",
       "    </tr>\n",
       "    <tr>\n",
       "      <th>speech</th>\n",
       "      <th></th>\n",
       "      <th></th>\n",
       "      <th></th>\n",
       "      <th></th>\n",
       "      <th></th>\n",
       "      <th></th>\n",
       "      <th></th>\n",
       "      <th></th>\n",
       "      <th></th>\n",
       "      <th></th>\n",
       "      <th></th>\n",
       "      <th></th>\n",
       "      <th></th>\n",
       "      <th></th>\n",
       "      <th></th>\n",
       "      <th></th>\n",
       "      <th></th>\n",
       "      <th></th>\n",
       "      <th></th>\n",
       "      <th></th>\n",
       "      <th></th>\n",
       "    </tr>\n",
       "  </thead>\n",
       "  <tbody>\n",
       "    <tr>\n",
       "      <th>0</th>\n",
       "      <td>0.0</td>\n",
       "      <td>0.047301</td>\n",
       "      <td>0.007106</td>\n",
       "      <td>0.015161</td>\n",
       "      <td>0.0</td>\n",
       "      <td>0.028566</td>\n",
       "      <td>0.0</td>\n",
       "      <td>0.0</td>\n",
       "      <td>0.0</td>\n",
       "      <td>0.0</td>\n",
       "      <td>...</td>\n",
       "      <td>0.024659</td>\n",
       "      <td>0.007482</td>\n",
       "      <td>0.0</td>\n",
       "      <td>0.0</td>\n",
       "      <td>0.013835</td>\n",
       "      <td>0.0</td>\n",
       "      <td>0.0</td>\n",
       "      <td>0.021408</td>\n",
       "      <td>0.0</td>\n",
       "      <td>0.010704</td>\n",
       "    </tr>\n",
       "    <tr>\n",
       "      <th>1</th>\n",
       "      <td>0.0</td>\n",
       "      <td>0.020306</td>\n",
       "      <td>0.000000</td>\n",
       "      <td>0.026033</td>\n",
       "      <td>0.0</td>\n",
       "      <td>0.000000</td>\n",
       "      <td>0.0</td>\n",
       "      <td>0.0</td>\n",
       "      <td>0.0</td>\n",
       "      <td>0.0</td>\n",
       "      <td>...</td>\n",
       "      <td>0.000000</td>\n",
       "      <td>0.000000</td>\n",
       "      <td>0.0</td>\n",
       "      <td>0.0</td>\n",
       "      <td>0.000000</td>\n",
       "      <td>0.0</td>\n",
       "      <td>0.0</td>\n",
       "      <td>0.000000</td>\n",
       "      <td>0.0</td>\n",
       "      <td>0.000000</td>\n",
       "    </tr>\n",
       "  </tbody>\n",
       "</table>\n",
       "<p>2 rows × 4000 columns</p>\n",
       "</div>"
      ],
      "text/plain": [
       "         00       000        10       100   11        12  120  125  12th   13  \\\n",
       "speech                                                                          \n",
       "0       0.0  0.047301  0.007106  0.015161  0.0  0.028566  0.0  0.0   0.0  0.0   \n",
       "1       0.0  0.020306  0.000000  0.026033  0.0  0.000000  0.0  0.0   0.0  0.0   \n",
       "\n",
       "        ...      york     young  younger  youngest     youth  youtube  yuma  \\\n",
       "speech  ...                                                                   \n",
       "0       ...  0.024659  0.007482      0.0       0.0  0.013835      0.0   0.0   \n",
       "1       ...  0.000000  0.000000      0.0       0.0  0.000000      0.0   0.0   \n",
       "\n",
       "            zero  zip     zones  \n",
       "speech                           \n",
       "0       0.021408  0.0  0.010704  \n",
       "1       0.000000  0.0  0.000000  \n",
       "\n",
       "[2 rows x 4000 columns]"
      ]
     },
     "execution_count": 58,
     "metadata": {},
     "output_type": "execute_result"
    }
   ],
   "source": [
    "tfidf = pd.DataFrame(tfidf.toarray())\n",
    "tfidf.index.name = 'speech'\n",
    "#tfidf.columns = tfidf.apply(lambda x: vocab_r[x.name])\n",
    "tfidf.columns = vectorizer.get_feature_names()\n",
    "tfidf.head(2)"
   ]
  },
  {
   "cell_type": "code",
   "execution_count": 68,
   "metadata": {},
   "outputs": [],
   "source": [
    "tfidf['videoId'] = bow.index.values\n",
    "tfidf = tfidf.set_index('videoId')"
   ]
  },
  {
   "cell_type": "markdown",
   "metadata": {},
   "source": [
    "## Sentiment Analysis - VADER"
   ]
  },
  {
   "cell_type": "code",
   "execution_count": 55,
   "metadata": {},
   "outputs": [],
   "source": [
    "from vaderSentiment.vaderSentiment import SentimentIntensityAnalyzer\n",
    "\n",
    "analyzer = SentimentIntensityAnalyzer()\n",
    "\n",
    "bow['polarity_score'] = bow.apply(lambda x: analyzer.polarity_scores(x.speech), 1)\n",
    "\n",
    "#for sentence in sentences:\n",
    "#    vs = analyzer.polarity_scores(sentence)\n",
    "#    print(\"{:-<65} {}\".format(sentence, str(vs)))"
   ]
  },
  {
   "cell_type": "code",
   "execution_count": 56,
   "metadata": {},
   "outputs": [
    {
     "data": {
      "text/html": [
       "<div>\n",
       "<style scoped>\n",
       "    .dataframe tbody tr th:only-of-type {\n",
       "        vertical-align: middle;\n",
       "    }\n",
       "\n",
       "    .dataframe tbody tr th {\n",
       "        vertical-align: top;\n",
       "    }\n",
       "\n",
       "    .dataframe thead th {\n",
       "        text-align: right;\n",
       "    }\n",
       "</style>\n",
       "<table border=\"1\" class=\"dataframe\">\n",
       "  <thead>\n",
       "    <tr style=\"text-align: right;\">\n",
       "      <th></th>\n",
       "      <th>index</th>\n",
       "      <th>speaker</th>\n",
       "      <th>date</th>\n",
       "      <th>speech</th>\n",
       "      <th>title</th>\n",
       "      <th>polarity_score</th>\n",
       "    </tr>\n",
       "    <tr>\n",
       "      <th>id</th>\n",
       "      <th></th>\n",
       "      <th></th>\n",
       "      <th></th>\n",
       "      <th></th>\n",
       "      <th></th>\n",
       "      <th></th>\n",
       "    </tr>\n",
       "  </thead>\n",
       "  <tbody>\n",
       "    <tr>\n",
       "      <th>oWlLZZ8pcp8</th>\n",
       "      <td>13</td>\n",
       "      <td>trump</td>\n",
       "      <td>2019-04-28T02:07:41Z</td>\n",
       "      <td>[Music] [Music] [Music] [Music] [Music] [Appla...</td>\n",
       "      <td>Watch Live: President Trump's MAGA Rally in Gr...</td>\n",
       "      <td>{'neg': 0.092, 'neu': 0.726, 'pos': 0.182, 'co...</td>\n",
       "    </tr>\n",
       "    <tr>\n",
       "      <th>Z6N1WdJgnLo</th>\n",
       "      <td>52</td>\n",
       "      <td>biden</td>\n",
       "      <td>2019-04-29T21:04:46Z</td>\n",
       "      <td>[Applause] [Music] my name [Applause] thank yo...</td>\n",
       "      <td>Joe Biden holds first 2020 campaign rally</td>\n",
       "      <td>{'neg': 0.068, 'neu': 0.765, 'pos': 0.166, 'co...</td>\n",
       "    </tr>\n",
       "    <tr>\n",
       "      <th>WIwGrZKdsY0</th>\n",
       "      <td>14</td>\n",
       "      <td>trump</td>\n",
       "      <td>2019-05-09T03:55:17Z</td>\n",
       "      <td>[Music] from the leaves of Minnesota [Music] a...</td>\n",
       "      <td>FULL RALLY: President Trump in Panama City Bea...</td>\n",
       "      <td>{'neg': 0.088, 'neu': 0.735, 'pos': 0.177, 'co...</td>\n",
       "    </tr>\n",
       "    <tr>\n",
       "      <th>u-AEAq7jzcU</th>\n",
       "      <td>53</td>\n",
       "      <td>biden</td>\n",
       "      <td>2019-05-18T19:53:18Z</td>\n",
       "      <td>so let's do this please welcome my husband Joe...</td>\n",
       "      <td>Joe Biden speaks during a campaign rally in Ph...</td>\n",
       "      <td>{'neg': 0.079, 'neu': 0.759, 'pos': 0.161, 'co...</td>\n",
       "    </tr>\n",
       "    <tr>\n",
       "      <th>GgINUxecNrg</th>\n",
       "      <td>15</td>\n",
       "      <td>trump</td>\n",
       "      <td>2019-05-21T00:39:36Z</td>\n",
       "      <td>[Music] from the laser Minnesota [Music] the T...</td>\n",
       "      <td>FULL RALLY: President Trump in Montoursville, ...</td>\n",
       "      <td>{'neg': 0.082, 'neu': 0.706, 'pos': 0.212, 'co...</td>\n",
       "    </tr>\n",
       "    <tr>\n",
       "      <th>...</th>\n",
       "      <td>...</td>\n",
       "      <td>...</td>\n",
       "      <td>...</td>\n",
       "      <td>...</td>\n",
       "      <td>...</td>\n",
       "      <td>...</td>\n",
       "    </tr>\n",
       "    <tr>\n",
       "      <th>uBigQgyIPkE</th>\n",
       "      <td>12</td>\n",
       "      <td>biden</td>\n",
       "      <td>2020-09-03T04:25:23Z</td>\n",
       "      <td>that's why i'm speaking to you today the incum...</td>\n",
       "      <td>Joe Biden's full campaign speech HD 8/31/2020</td>\n",
       "      <td>{'neg': 0.142, 'neu': 0.707, 'pos': 0.151, 'co...</td>\n",
       "    </tr>\n",
       "    <tr>\n",
       "      <th>SqNtc-t0Cr0</th>\n",
       "      <td>11</td>\n",
       "      <td>trump</td>\n",
       "      <td>2020-09-03T16:59:53Z</td>\n",
       "      <td>[Music] i was given a video of donald trump du...</td>\n",
       "      <td>FULL: Breaking down the Trump \"hot-mic\" tape w...</td>\n",
       "      <td>{'neg': 0.059, 'neu': 0.831, 'pos': 0.11, 'com...</td>\n",
       "    </tr>\n",
       "    <tr>\n",
       "      <th>QHTgRNP_1VI</th>\n",
       "      <td>51</td>\n",
       "      <td>trump</td>\n",
       "      <td>2020-09-04T00:59:45Z</td>\n",
       "      <td>[Applause] [Applause] [Music] [Applause] so th...</td>\n",
       "      <td>Trump delivers campaign remarks at Arnold Palm...</td>\n",
       "      <td>{'neg': 0.098, 'neu': 0.753, 'pos': 0.149, 'co...</td>\n",
       "    </tr>\n",
       "    <tr>\n",
       "      <th>KWLoD36kLfM</th>\n",
       "      <td>87</td>\n",
       "      <td>trump</td>\n",
       "      <td>2020-09-09T01:39:01Z</td>\n",
       "      <td>[Music] god well thank you very much thank you...</td>\n",
       "      <td>Raw Video: President Trump Full Speech at Rall...</td>\n",
       "      <td>{'neg': 0.083, 'neu': 0.744, 'pos': 0.173, 'co...</td>\n",
       "    </tr>\n",
       "    <tr>\n",
       "      <th>wPK7ojxRNk4</th>\n",
       "      <td>88</td>\n",
       "      <td>pence</td>\n",
       "      <td>2020-09-14T17:12:58Z</td>\n",
       "      <td>hello wisconsin [Applause] to congressman styl...</td>\n",
       "      <td>Pence campaigns in Wisconsin | FULL REMARKS</td>\n",
       "      <td>{'neg': 0.056, 'neu': 0.769, 'pos': 0.175, 'co...</td>\n",
       "    </tr>\n",
       "  </tbody>\n",
       "</table>\n",
       "<p>85 rows × 6 columns</p>\n",
       "</div>"
      ],
      "text/plain": [
       "             index speaker                  date  \\\n",
       "id                                                 \n",
       "oWlLZZ8pcp8     13   trump  2019-04-28T02:07:41Z   \n",
       "Z6N1WdJgnLo     52   biden  2019-04-29T21:04:46Z   \n",
       "WIwGrZKdsY0     14   trump  2019-05-09T03:55:17Z   \n",
       "u-AEAq7jzcU     53   biden  2019-05-18T19:53:18Z   \n",
       "GgINUxecNrg     15   trump  2019-05-21T00:39:36Z   \n",
       "...            ...     ...                   ...   \n",
       "uBigQgyIPkE     12   biden  2020-09-03T04:25:23Z   \n",
       "SqNtc-t0Cr0     11   trump  2020-09-03T16:59:53Z   \n",
       "QHTgRNP_1VI     51   trump  2020-09-04T00:59:45Z   \n",
       "KWLoD36kLfM     87   trump  2020-09-09T01:39:01Z   \n",
       "wPK7ojxRNk4     88   pence  2020-09-14T17:12:58Z   \n",
       "\n",
       "                                                        speech  \\\n",
       "id                                                               \n",
       "oWlLZZ8pcp8  [Music] [Music] [Music] [Music] [Music] [Appla...   \n",
       "Z6N1WdJgnLo  [Applause] [Music] my name [Applause] thank yo...   \n",
       "WIwGrZKdsY0  [Music] from the leaves of Minnesota [Music] a...   \n",
       "u-AEAq7jzcU  so let's do this please welcome my husband Joe...   \n",
       "GgINUxecNrg  [Music] from the laser Minnesota [Music] the T...   \n",
       "...                                                        ...   \n",
       "uBigQgyIPkE  that's why i'm speaking to you today the incum...   \n",
       "SqNtc-t0Cr0  [Music] i was given a video of donald trump du...   \n",
       "QHTgRNP_1VI  [Applause] [Applause] [Music] [Applause] so th...   \n",
       "KWLoD36kLfM  [Music] god well thank you very much thank you...   \n",
       "wPK7ojxRNk4  hello wisconsin [Applause] to congressman styl...   \n",
       "\n",
       "                                                         title  \\\n",
       "id                                                               \n",
       "oWlLZZ8pcp8  Watch Live: President Trump's MAGA Rally in Gr...   \n",
       "Z6N1WdJgnLo          Joe Biden holds first 2020 campaign rally   \n",
       "WIwGrZKdsY0  FULL RALLY: President Trump in Panama City Bea...   \n",
       "u-AEAq7jzcU  Joe Biden speaks during a campaign rally in Ph...   \n",
       "GgINUxecNrg  FULL RALLY: President Trump in Montoursville, ...   \n",
       "...                                                        ...   \n",
       "uBigQgyIPkE      Joe Biden's full campaign speech HD 8/31/2020   \n",
       "SqNtc-t0Cr0  FULL: Breaking down the Trump \"hot-mic\" tape w...   \n",
       "QHTgRNP_1VI  Trump delivers campaign remarks at Arnold Palm...   \n",
       "KWLoD36kLfM  Raw Video: President Trump Full Speech at Rall...   \n",
       "wPK7ojxRNk4        Pence campaigns in Wisconsin | FULL REMARKS   \n",
       "\n",
       "                                                polarity_score  \n",
       "id                                                              \n",
       "oWlLZZ8pcp8  {'neg': 0.092, 'neu': 0.726, 'pos': 0.182, 'co...  \n",
       "Z6N1WdJgnLo  {'neg': 0.068, 'neu': 0.765, 'pos': 0.166, 'co...  \n",
       "WIwGrZKdsY0  {'neg': 0.088, 'neu': 0.735, 'pos': 0.177, 'co...  \n",
       "u-AEAq7jzcU  {'neg': 0.079, 'neu': 0.759, 'pos': 0.161, 'co...  \n",
       "GgINUxecNrg  {'neg': 0.082, 'neu': 0.706, 'pos': 0.212, 'co...  \n",
       "...                                                        ...  \n",
       "uBigQgyIPkE  {'neg': 0.142, 'neu': 0.707, 'pos': 0.151, 'co...  \n",
       "SqNtc-t0Cr0  {'neg': 0.059, 'neu': 0.831, 'pos': 0.11, 'com...  \n",
       "QHTgRNP_1VI  {'neg': 0.098, 'neu': 0.753, 'pos': 0.149, 'co...  \n",
       "KWLoD36kLfM  {'neg': 0.083, 'neu': 0.744, 'pos': 0.173, 'co...  \n",
       "wPK7ojxRNk4  {'neg': 0.056, 'neu': 0.769, 'pos': 0.175, 'co...  \n",
       "\n",
       "[85 rows x 6 columns]"
      ]
     },
     "execution_count": 56,
     "metadata": {},
     "output_type": "execute_result"
    }
   ],
   "source": [
    "bow"
   ]
  },
  {
   "cell_type": "code",
   "execution_count": 57,
   "metadata": {},
   "outputs": [
    {
     "data": {
      "text/plain": [
       "{'neg': 0.068, 'neu': 0.765, 'pos': 0.166, 'compound': 0.9999}"
      ]
     },
     "execution_count": 57,
     "metadata": {},
     "output_type": "execute_result"
    }
   ],
   "source": [
    "bow.loc['Z6N1WdJgnLo','polarity_score']"
   ]
  },
  {
   "cell_type": "code",
   "execution_count": 58,
   "metadata": {},
   "outputs": [],
   "source": [
    "bow['compound'] = [s.get('compound') for s in bow['polarity_score']]\n",
    "bow['pos'] = [s.get('pos') for s in bow['polarity_score']]\n",
    "bow['neg'] = [s.get('neg') for s in bow['polarity_score']]\n",
    "bow['len'] = bow['speech'].str.len()"
   ]
  },
  {
   "cell_type": "code",
   "execution_count": 62,
   "metadata": {},
   "outputs": [
    {
     "data": {
      "text/html": [
       "<div>\n",
       "<style scoped>\n",
       "    .dataframe tbody tr th:only-of-type {\n",
       "        vertical-align: middle;\n",
       "    }\n",
       "\n",
       "    .dataframe tbody tr th {\n",
       "        vertical-align: top;\n",
       "    }\n",
       "\n",
       "    .dataframe thead th {\n",
       "        text-align: right;\n",
       "    }\n",
       "</style>\n",
       "<table border=\"1\" class=\"dataframe\">\n",
       "  <thead>\n",
       "    <tr style=\"text-align: right;\">\n",
       "      <th></th>\n",
       "      <th>index</th>\n",
       "      <th>speaker</th>\n",
       "      <th>date</th>\n",
       "      <th>speech</th>\n",
       "      <th>title</th>\n",
       "      <th>polarity_score</th>\n",
       "      <th>compound</th>\n",
       "      <th>pos</th>\n",
       "      <th>neg</th>\n",
       "      <th>len</th>\n",
       "    </tr>\n",
       "    <tr>\n",
       "      <th>id</th>\n",
       "      <th></th>\n",
       "      <th></th>\n",
       "      <th></th>\n",
       "      <th></th>\n",
       "      <th></th>\n",
       "      <th></th>\n",
       "      <th></th>\n",
       "      <th></th>\n",
       "      <th></th>\n",
       "      <th></th>\n",
       "    </tr>\n",
       "  </thead>\n",
       "  <tbody>\n",
       "    <tr>\n",
       "      <th>oWlLZZ8pcp8</th>\n",
       "      <td>13</td>\n",
       "      <td>trump</td>\n",
       "      <td>2019-04-28T02:07:41Z</td>\n",
       "      <td>[Music] [Music] [Music] [Music] [Music] [Appla...</td>\n",
       "      <td>Watch Live: President Trump's MAGA Rally in Gr...</td>\n",
       "      <td>{'neg': 0.092, 'neu': 0.726, 'pos': 0.182, 'co...</td>\n",
       "      <td>1.0000</td>\n",
       "      <td>0.182</td>\n",
       "      <td>0.092</td>\n",
       "      <td>51179</td>\n",
       "    </tr>\n",
       "    <tr>\n",
       "      <th>Z6N1WdJgnLo</th>\n",
       "      <td>52</td>\n",
       "      <td>biden</td>\n",
       "      <td>2019-04-29T21:04:46Z</td>\n",
       "      <td>[Applause] [Music] my name [Applause] thank yo...</td>\n",
       "      <td>Joe Biden holds first 2020 campaign rally</td>\n",
       "      <td>{'neg': 0.068, 'neu': 0.765, 'pos': 0.166, 'co...</td>\n",
       "      <td>0.9999</td>\n",
       "      <td>0.166</td>\n",
       "      <td>0.068</td>\n",
       "      <td>21023</td>\n",
       "    </tr>\n",
       "    <tr>\n",
       "      <th>WIwGrZKdsY0</th>\n",
       "      <td>14</td>\n",
       "      <td>trump</td>\n",
       "      <td>2019-05-09T03:55:17Z</td>\n",
       "      <td>[Music] from the leaves of Minnesota [Music] a...</td>\n",
       "      <td>FULL RALLY: President Trump in Panama City Bea...</td>\n",
       "      <td>{'neg': 0.088, 'neu': 0.735, 'pos': 0.177, 'co...</td>\n",
       "      <td>1.0000</td>\n",
       "      <td>0.177</td>\n",
       "      <td>0.088</td>\n",
       "      <td>58321</td>\n",
       "    </tr>\n",
       "    <tr>\n",
       "      <th>u-AEAq7jzcU</th>\n",
       "      <td>53</td>\n",
       "      <td>biden</td>\n",
       "      <td>2019-05-18T19:53:18Z</td>\n",
       "      <td>so let's do this please welcome my husband Joe...</td>\n",
       "      <td>Joe Biden speaks during a campaign rally in Ph...</td>\n",
       "      <td>{'neg': 0.079, 'neu': 0.759, 'pos': 0.161, 'co...</td>\n",
       "      <td>0.9999</td>\n",
       "      <td>0.161</td>\n",
       "      <td>0.079</td>\n",
       "      <td>21153</td>\n",
       "    </tr>\n",
       "    <tr>\n",
       "      <th>GgINUxecNrg</th>\n",
       "      <td>15</td>\n",
       "      <td>trump</td>\n",
       "      <td>2019-05-21T00:39:36Z</td>\n",
       "      <td>[Music] from the laser Minnesota [Music] the T...</td>\n",
       "      <td>FULL RALLY: President Trump in Montoursville, ...</td>\n",
       "      <td>{'neg': 0.082, 'neu': 0.706, 'pos': 0.212, 'co...</td>\n",
       "      <td>1.0000</td>\n",
       "      <td>0.212</td>\n",
       "      <td>0.082</td>\n",
       "      <td>39271</td>\n",
       "    </tr>\n",
       "    <tr>\n",
       "      <th>S7j1hYXD0uk</th>\n",
       "      <td>72</td>\n",
       "      <td>harris</td>\n",
       "      <td>2019-06-10T03:00:01Z</td>\n",
       "      <td>it's good to be back with you it is great to b...</td>\n",
       "      <td>Full speech: Kamala Harris | Iowa Democrats’ H...</td>\n",
       "      <td>{'neg': 0.084, 'neu': 0.776, 'pos': 0.14, 'com...</td>\n",
       "      <td>0.9871</td>\n",
       "      <td>0.140</td>\n",
       "      <td>0.084</td>\n",
       "      <td>3766</td>\n",
       "    </tr>\n",
       "    <tr>\n",
       "      <th>yE2sMLutWZA</th>\n",
       "      <td>76</td>\n",
       "      <td>pence</td>\n",
       "      <td>2019-06-19T01:03:06Z</td>\n",
       "      <td>well hello Florida it is great to be back in t...</td>\n",
       "      <td>VP Mike Pence introduces President Trump at 20...</td>\n",
       "      <td>{'neg': 0.046, 'neu': 0.716, 'pos': 0.238, 'co...</td>\n",
       "      <td>0.9998</td>\n",
       "      <td>0.238</td>\n",
       "      <td>0.046</td>\n",
       "      <td>6944</td>\n",
       "    </tr>\n",
       "    <tr>\n",
       "      <th>MEqINP-TuV8</th>\n",
       "      <td>16</td>\n",
       "      <td>trump</td>\n",
       "      <td>2019-06-19T01:48:35Z</td>\n",
       "      <td>[Applause] it has been my honor to serve as fi...</td>\n",
       "      <td>TRUMP 2020: President Trump Re-Election Campai...</td>\n",
       "      <td>{'neg': 0.09, 'neu': 0.709, 'pos': 0.202, 'com...</td>\n",
       "      <td>1.0000</td>\n",
       "      <td>0.202</td>\n",
       "      <td>0.090</td>\n",
       "      <td>41933</td>\n",
       "    </tr>\n",
       "    <tr>\n",
       "      <th>xH-iCVFTb6w</th>\n",
       "      <td>46</td>\n",
       "      <td>trump</td>\n",
       "      <td>2019-07-05T15:19:57Z</td>\n",
       "      <td>[Applause] [Music] [Applause] [Music] hello Am...</td>\n",
       "      <td>President Trump COMPLETE REMARKS at July 4th \"...</td>\n",
       "      <td>{'neg': 0.083, 'neu': 0.711, 'pos': 0.206, 'co...</td>\n",
       "      <td>1.0000</td>\n",
       "      <td>0.206</td>\n",
       "      <td>0.083</td>\n",
       "      <td>23723</td>\n",
       "    </tr>\n",
       "    <tr>\n",
       "      <th>Vd65smKGDVo</th>\n",
       "      <td>77</td>\n",
       "      <td>pence</td>\n",
       "      <td>2019-07-17T23:25:05Z</td>\n",
       "      <td>[Music] [Music] hello North Carolina it is gre...</td>\n",
       "      <td>AMERICA IS BACK: VP Pence amps up crowd during...</td>\n",
       "      <td>{'neg': 0.032, 'neu': 0.754, 'pos': 0.214, 'co...</td>\n",
       "      <td>0.9998</td>\n",
       "      <td>0.214</td>\n",
       "      <td>0.032</td>\n",
       "      <td>6599</td>\n",
       "    </tr>\n",
       "    <tr>\n",
       "      <th>6qvB5tHRNOI</th>\n",
       "      <td>17</td>\n",
       "      <td>trump</td>\n",
       "      <td>2019-07-18T01:09:59Z</td>\n",
       "      <td>of America President Donald Trump [Applause] [...</td>\n",
       "      <td>FULL RALLY: President Trump Rally in Greenvill...</td>\n",
       "      <td>{'neg': 0.094, 'neu': 0.7, 'pos': 0.206, 'comp...</td>\n",
       "      <td>1.0000</td>\n",
       "      <td>0.206</td>\n",
       "      <td>0.094</td>\n",
       "      <td>59158</td>\n",
       "    </tr>\n",
       "    <tr>\n",
       "      <th>17Xl75GwOaM</th>\n",
       "      <td>18</td>\n",
       "      <td>trump</td>\n",
       "      <td>2019-08-02T01:11:44Z</td>\n",
       "      <td>[Music] [Applause] thank you all thank you ver...</td>\n",
       "      <td>FULL RALLY: President Trump on Democrats, Econ...</td>\n",
       "      <td>{'neg': 0.084, 'neu': 0.72, 'pos': 0.196, 'com...</td>\n",
       "      <td>1.0000</td>\n",
       "      <td>0.196</td>\n",
       "      <td>0.084</td>\n",
       "      <td>46163</td>\n",
       "    </tr>\n",
       "    <tr>\n",
       "      <th>OFvx5F1yM-g</th>\n",
       "      <td>54</td>\n",
       "      <td>biden</td>\n",
       "      <td>2019-08-07T21:43:53Z</td>\n",
       "      <td>folks thank you very very much for being here ...</td>\n",
       "      <td>Full Speech: Biden Condemns Trump’s Rhetoric A...</td>\n",
       "      <td>{'neg': 0.132, 'neu': 0.723, 'pos': 0.145, 'co...</td>\n",
       "      <td>0.9719</td>\n",
       "      <td>0.145</td>\n",
       "      <td>0.132</td>\n",
       "      <td>15846</td>\n",
       "    </tr>\n",
       "    <tr>\n",
       "      <th>zc5RMAfg9mA</th>\n",
       "      <td>19</td>\n",
       "      <td>trump</td>\n",
       "      <td>2019-08-16T01:28:24Z</td>\n",
       "      <td>[Applause] [Music] [Applause] ladies and gentl...</td>\n",
       "      <td>Pres. Trump New Hampshire Rally in Manchester ...</td>\n",
       "      <td>{'neg': 0.081, 'neu': 0.718, 'pos': 0.201, 'co...</td>\n",
       "      <td>1.0000</td>\n",
       "      <td>0.201</td>\n",
       "      <td>0.081</td>\n",
       "      <td>54366</td>\n",
       "    </tr>\n",
       "    <tr>\n",
       "      <th>Hh__w1FA548</th>\n",
       "      <td>55</td>\n",
       "      <td>biden</td>\n",
       "      <td>2019-08-19T12:45:01Z</td>\n",
       "      <td>ladies and gentlemen welcome to the stage form...</td>\n",
       "      <td>Full speech: Joe Biden speaks at the Iowa Demo...</td>\n",
       "      <td>{'neg': 0.103, 'neu': 0.801, 'pos': 0.096, 'co...</td>\n",
       "      <td>-0.9723</td>\n",
       "      <td>0.096</td>\n",
       "      <td>0.103</td>\n",
       "      <td>5090</td>\n",
       "    </tr>\n",
       "    <tr>\n",
       "      <th>u_aN19uB7og</th>\n",
       "      <td>78</td>\n",
       "      <td>pence</td>\n",
       "      <td>2019-09-09T23:20:41Z</td>\n",
       "      <td>Carolina senator Taylor's lieutenant governor ...</td>\n",
       "      <td>\"HE'S THE REAL DEAL\": VP Pence speaks at Trump...</td>\n",
       "      <td>{'neg': 0.031, 'neu': 0.751, 'pos': 0.218, 'co...</td>\n",
       "      <td>0.9999</td>\n",
       "      <td>0.218</td>\n",
       "      <td>0.031</td>\n",
       "      <td>7554</td>\n",
       "    </tr>\n",
       "    <tr>\n",
       "      <th>xa7MY2_pmxU</th>\n",
       "      <td>20</td>\n",
       "      <td>trump</td>\n",
       "      <td>2019-09-10T00:54:02Z</td>\n",
       "      <td>[Music] from the leaves of Minnesota to the hi...</td>\n",
       "      <td>Watch LIVE President Trump campaign rally in F...</td>\n",
       "      <td>{'neg': 0.069, 'neu': 0.725, 'pos': 0.205, 'co...</td>\n",
       "      <td>1.0000</td>\n",
       "      <td>0.205</td>\n",
       "      <td>0.069</td>\n",
       "      <td>53748</td>\n",
       "    </tr>\n",
       "    <tr>\n",
       "      <th>anAbeaQ96Ho</th>\n",
       "      <td>21</td>\n",
       "      <td>trump</td>\n",
       "      <td>2019-09-20T02:59:09Z</td>\n",
       "      <td>ladies and gentlemen please welcome the Presid...</td>\n",
       "      <td>FULL SPEECH President Donald Trump Rally - Rio...</td>\n",
       "      <td>{'neg': 0.077, 'neu': 0.741, 'pos': 0.181, 'co...</td>\n",
       "      <td>1.0000</td>\n",
       "      <td>0.181</td>\n",
       "      <td>0.077</td>\n",
       "      <td>61159</td>\n",
       "    </tr>\n",
       "    <tr>\n",
       "      <th>sL1UF0KDwsE</th>\n",
       "      <td>56</td>\n",
       "      <td>biden</td>\n",
       "      <td>2019-10-03T20:05:37Z</td>\n",
       "      <td>last week the House of Representatives open an...</td>\n",
       "      <td>Joe Biden's Full Remarks in Reno, Nevada | Joe...</td>\n",
       "      <td>{'neg': 0.144, 'neu': 0.732, 'pos': 0.125, 'co...</td>\n",
       "      <td>-0.9957</td>\n",
       "      <td>0.125</td>\n",
       "      <td>0.144</td>\n",
       "      <td>13126</td>\n",
       "    </tr>\n",
       "    <tr>\n",
       "      <th>vT3O5WFYUxo</th>\n",
       "      <td>22</td>\n",
       "      <td>trump</td>\n",
       "      <td>2019-10-11T03:05:55Z</td>\n",
       "      <td>[Music] see the shine from Detroit down to Hou...</td>\n",
       "      <td>FULL RALLY: President Trump rally in Minneapol...</td>\n",
       "      <td>{'neg': 0.096, 'neu': 0.711, 'pos': 0.193, 'co...</td>\n",
       "      <td>1.0000</td>\n",
       "      <td>0.193</td>\n",
       "      <td>0.096</td>\n",
       "      <td>63730</td>\n",
       "    </tr>\n",
       "  </tbody>\n",
       "</table>\n",
       "</div>"
      ],
      "text/plain": [
       "             index speaker                  date  \\\n",
       "id                                                 \n",
       "oWlLZZ8pcp8     13   trump  2019-04-28T02:07:41Z   \n",
       "Z6N1WdJgnLo     52   biden  2019-04-29T21:04:46Z   \n",
       "WIwGrZKdsY0     14   trump  2019-05-09T03:55:17Z   \n",
       "u-AEAq7jzcU     53   biden  2019-05-18T19:53:18Z   \n",
       "GgINUxecNrg     15   trump  2019-05-21T00:39:36Z   \n",
       "S7j1hYXD0uk     72  harris  2019-06-10T03:00:01Z   \n",
       "yE2sMLutWZA     76   pence  2019-06-19T01:03:06Z   \n",
       "MEqINP-TuV8     16   trump  2019-06-19T01:48:35Z   \n",
       "xH-iCVFTb6w     46   trump  2019-07-05T15:19:57Z   \n",
       "Vd65smKGDVo     77   pence  2019-07-17T23:25:05Z   \n",
       "6qvB5tHRNOI     17   trump  2019-07-18T01:09:59Z   \n",
       "17Xl75GwOaM     18   trump  2019-08-02T01:11:44Z   \n",
       "OFvx5F1yM-g     54   biden  2019-08-07T21:43:53Z   \n",
       "zc5RMAfg9mA     19   trump  2019-08-16T01:28:24Z   \n",
       "Hh__w1FA548     55   biden  2019-08-19T12:45:01Z   \n",
       "u_aN19uB7og     78   pence  2019-09-09T23:20:41Z   \n",
       "xa7MY2_pmxU     20   trump  2019-09-10T00:54:02Z   \n",
       "anAbeaQ96Ho     21   trump  2019-09-20T02:59:09Z   \n",
       "sL1UF0KDwsE     56   biden  2019-10-03T20:05:37Z   \n",
       "vT3O5WFYUxo     22   trump  2019-10-11T03:05:55Z   \n",
       "\n",
       "                                                        speech  \\\n",
       "id                                                               \n",
       "oWlLZZ8pcp8  [Music] [Music] [Music] [Music] [Music] [Appla...   \n",
       "Z6N1WdJgnLo  [Applause] [Music] my name [Applause] thank yo...   \n",
       "WIwGrZKdsY0  [Music] from the leaves of Minnesota [Music] a...   \n",
       "u-AEAq7jzcU  so let's do this please welcome my husband Joe...   \n",
       "GgINUxecNrg  [Music] from the laser Minnesota [Music] the T...   \n",
       "S7j1hYXD0uk  it's good to be back with you it is great to b...   \n",
       "yE2sMLutWZA  well hello Florida it is great to be back in t...   \n",
       "MEqINP-TuV8  [Applause] it has been my honor to serve as fi...   \n",
       "xH-iCVFTb6w  [Applause] [Music] [Applause] [Music] hello Am...   \n",
       "Vd65smKGDVo  [Music] [Music] hello North Carolina it is gre...   \n",
       "6qvB5tHRNOI  of America President Donald Trump [Applause] [...   \n",
       "17Xl75GwOaM  [Music] [Applause] thank you all thank you ver...   \n",
       "OFvx5F1yM-g  folks thank you very very much for being here ...   \n",
       "zc5RMAfg9mA  [Applause] [Music] [Applause] ladies and gentl...   \n",
       "Hh__w1FA548  ladies and gentlemen welcome to the stage form...   \n",
       "u_aN19uB7og  Carolina senator Taylor's lieutenant governor ...   \n",
       "xa7MY2_pmxU  [Music] from the leaves of Minnesota to the hi...   \n",
       "anAbeaQ96Ho  ladies and gentlemen please welcome the Presid...   \n",
       "sL1UF0KDwsE  last week the House of Representatives open an...   \n",
       "vT3O5WFYUxo  [Music] see the shine from Detroit down to Hou...   \n",
       "\n",
       "                                                         title  \\\n",
       "id                                                               \n",
       "oWlLZZ8pcp8  Watch Live: President Trump's MAGA Rally in Gr...   \n",
       "Z6N1WdJgnLo          Joe Biden holds first 2020 campaign rally   \n",
       "WIwGrZKdsY0  FULL RALLY: President Trump in Panama City Bea...   \n",
       "u-AEAq7jzcU  Joe Biden speaks during a campaign rally in Ph...   \n",
       "GgINUxecNrg  FULL RALLY: President Trump in Montoursville, ...   \n",
       "S7j1hYXD0uk  Full speech: Kamala Harris | Iowa Democrats’ H...   \n",
       "yE2sMLutWZA  VP Mike Pence introduces President Trump at 20...   \n",
       "MEqINP-TuV8  TRUMP 2020: President Trump Re-Election Campai...   \n",
       "xH-iCVFTb6w  President Trump COMPLETE REMARKS at July 4th \"...   \n",
       "Vd65smKGDVo  AMERICA IS BACK: VP Pence amps up crowd during...   \n",
       "6qvB5tHRNOI  FULL RALLY: President Trump Rally in Greenvill...   \n",
       "17Xl75GwOaM  FULL RALLY: President Trump on Democrats, Econ...   \n",
       "OFvx5F1yM-g  Full Speech: Biden Condemns Trump’s Rhetoric A...   \n",
       "zc5RMAfg9mA  Pres. Trump New Hampshire Rally in Manchester ...   \n",
       "Hh__w1FA548  Full speech: Joe Biden speaks at the Iowa Demo...   \n",
       "u_aN19uB7og  \"HE'S THE REAL DEAL\": VP Pence speaks at Trump...   \n",
       "xa7MY2_pmxU  Watch LIVE President Trump campaign rally in F...   \n",
       "anAbeaQ96Ho  FULL SPEECH President Donald Trump Rally - Rio...   \n",
       "sL1UF0KDwsE  Joe Biden's Full Remarks in Reno, Nevada | Joe...   \n",
       "vT3O5WFYUxo  FULL RALLY: President Trump rally in Minneapol...   \n",
       "\n",
       "                                                polarity_score  compound  \\\n",
       "id                                                                         \n",
       "oWlLZZ8pcp8  {'neg': 0.092, 'neu': 0.726, 'pos': 0.182, 'co...    1.0000   \n",
       "Z6N1WdJgnLo  {'neg': 0.068, 'neu': 0.765, 'pos': 0.166, 'co...    0.9999   \n",
       "WIwGrZKdsY0  {'neg': 0.088, 'neu': 0.735, 'pos': 0.177, 'co...    1.0000   \n",
       "u-AEAq7jzcU  {'neg': 0.079, 'neu': 0.759, 'pos': 0.161, 'co...    0.9999   \n",
       "GgINUxecNrg  {'neg': 0.082, 'neu': 0.706, 'pos': 0.212, 'co...    1.0000   \n",
       "S7j1hYXD0uk  {'neg': 0.084, 'neu': 0.776, 'pos': 0.14, 'com...    0.9871   \n",
       "yE2sMLutWZA  {'neg': 0.046, 'neu': 0.716, 'pos': 0.238, 'co...    0.9998   \n",
       "MEqINP-TuV8  {'neg': 0.09, 'neu': 0.709, 'pos': 0.202, 'com...    1.0000   \n",
       "xH-iCVFTb6w  {'neg': 0.083, 'neu': 0.711, 'pos': 0.206, 'co...    1.0000   \n",
       "Vd65smKGDVo  {'neg': 0.032, 'neu': 0.754, 'pos': 0.214, 'co...    0.9998   \n",
       "6qvB5tHRNOI  {'neg': 0.094, 'neu': 0.7, 'pos': 0.206, 'comp...    1.0000   \n",
       "17Xl75GwOaM  {'neg': 0.084, 'neu': 0.72, 'pos': 0.196, 'com...    1.0000   \n",
       "OFvx5F1yM-g  {'neg': 0.132, 'neu': 0.723, 'pos': 0.145, 'co...    0.9719   \n",
       "zc5RMAfg9mA  {'neg': 0.081, 'neu': 0.718, 'pos': 0.201, 'co...    1.0000   \n",
       "Hh__w1FA548  {'neg': 0.103, 'neu': 0.801, 'pos': 0.096, 'co...   -0.9723   \n",
       "u_aN19uB7og  {'neg': 0.031, 'neu': 0.751, 'pos': 0.218, 'co...    0.9999   \n",
       "xa7MY2_pmxU  {'neg': 0.069, 'neu': 0.725, 'pos': 0.205, 'co...    1.0000   \n",
       "anAbeaQ96Ho  {'neg': 0.077, 'neu': 0.741, 'pos': 0.181, 'co...    1.0000   \n",
       "sL1UF0KDwsE  {'neg': 0.144, 'neu': 0.732, 'pos': 0.125, 'co...   -0.9957   \n",
       "vT3O5WFYUxo  {'neg': 0.096, 'neu': 0.711, 'pos': 0.193, 'co...    1.0000   \n",
       "\n",
       "               pos    neg    len  \n",
       "id                                \n",
       "oWlLZZ8pcp8  0.182  0.092  51179  \n",
       "Z6N1WdJgnLo  0.166  0.068  21023  \n",
       "WIwGrZKdsY0  0.177  0.088  58321  \n",
       "u-AEAq7jzcU  0.161  0.079  21153  \n",
       "GgINUxecNrg  0.212  0.082  39271  \n",
       "S7j1hYXD0uk  0.140  0.084   3766  \n",
       "yE2sMLutWZA  0.238  0.046   6944  \n",
       "MEqINP-TuV8  0.202  0.090  41933  \n",
       "xH-iCVFTb6w  0.206  0.083  23723  \n",
       "Vd65smKGDVo  0.214  0.032   6599  \n",
       "6qvB5tHRNOI  0.206  0.094  59158  \n",
       "17Xl75GwOaM  0.196  0.084  46163  \n",
       "OFvx5F1yM-g  0.145  0.132  15846  \n",
       "zc5RMAfg9mA  0.201  0.081  54366  \n",
       "Hh__w1FA548  0.096  0.103   5090  \n",
       "u_aN19uB7og  0.218  0.031   7554  \n",
       "xa7MY2_pmxU  0.205  0.069  53748  \n",
       "anAbeaQ96Ho  0.181  0.077  61159  \n",
       "sL1UF0KDwsE  0.125  0.144  13126  \n",
       "vT3O5WFYUxo  0.193  0.096  63730  "
      ]
     },
     "execution_count": 62,
     "metadata": {},
     "output_type": "execute_result"
    }
   ],
   "source": [
    "bow.head(20)"
   ]
  },
  {
   "cell_type": "code",
   "execution_count": 60,
   "metadata": {},
   "outputs": [
    {
     "data": {
      "application/vnd.plotly.v1+json": {
       "config": {
        "plotlyServerURL": "https://plot.ly"
       },
       "data": [
        {
         "customdata": [
          [
           "Watch Live: President Trump's MAGA Rally in Green Bay (Full) | NBC News"
          ],
          [
           "FULL RALLY: President Trump in Panama City Beach, Florida"
          ],
          [
           "FULL RALLY: President Trump in Montoursville, Pennsylvania"
          ],
          [
           "TRUMP 2020: President Trump Re-Election Campaign Rally - FULL SPEECH"
          ],
          [
           "President Trump COMPLETE REMARKS at July 4th \"Salute to America\" (C-SPAN)"
          ],
          [
           "FULL RALLY: President Trump Rally in Greenville, North Carolina"
          ],
          [
           "FULL RALLY: President Trump on Democrats, Economy in Cincinnati, Ohio"
          ],
          [
           "Pres. Trump New Hampshire Rally in Manchester | ABC News Live Coverage"
          ],
          [
           "Watch LIVE President Trump campaign rally in Fayetteville, North Carolina | ABC News"
          ],
          [
           "FULL SPEECH President Donald Trump Rally - Rio Rancho, NM. 2019"
          ],
          [
           "FULL RALLY: President Trump rally in Minneapolis, MN"
          ],
          [
           "FULL TRUMP RALLY: President Trump holds campaign rally in Dallas, Texas"
          ],
          [
           "Watch Live: President Donald Trump Speaks At Mississippi Campaign Rally | NBC News"
          ],
          [
           "FULL RALLY: President Trump in Lexington, Kentucky"
          ],
          [
           "Watch Live: President Donald Trump Speaks At A Keep America Great Rally In Louisiana | NBC News"
          ],
          [
           "FULL RALLY: President Trump Monroe, Louisiana"
          ],
          [
           "FULL RALLY: President Trump in Bossier City, Louisiana"
          ],
          [
           "KEEP AMERICA GREAT: President Trump FULL RALLY in Florida"
          ],
          [
           "President Donald Trump speaks at his Hershey rally (full speech)"
          ],
          [
           "Full Video: President Trump speaks at campaign rally in Battle Creek"
          ],
          [
           "FULL RALLY: President Trump talks impeachment and more in Toledo, Ohio"
          ],
          [
           "Donald Trump hosts \"Keep America Great\" rally in Milwaukee, Wis."
          ],
          [
           "Trump Rally in Wildwood New Jersey, Jan. 28, 2020, full speech"
          ],
          [
           "LIVE: President Trump in Des Moines, IA"
          ],
          [
           "LIVE: State of the Union Address"
          ],
          [
           "LIVE: President Trump in Manchester, NH"
          ],
          [
           "LIVE: President Trump in Phoenix, AZ"
          ],
          [
           "LIVE: President Trump in Colorado Springs, CO"
          ],
          [
           "LIVE: President Trump in Las Vegas, NV"
          ],
          [
           "LIVE: President Trump in North Charleston, SC"
          ],
          [
           "LIVE: President Trump in Charlotte, NC"
          ],
          [
           "LIVE: President Trump in Tulsa, Oklahoma"
          ],
          [
           "Trump addresses crowd of young Americans at Arizona rally | FULL"
          ],
          [
           "President Trump's full speech at Mount Rushmore | USA TODAY"
          ],
          [
           "President Trump goes one-on-one with Chris Wallace | Full Interview"
          ],
          [
           "AXIOS on HBO: President Trump Exclusive Interview (Full Episode) | HBO"
          ],
          [
           "Trump offers Lebanon assistance following explosion, touts' coronavirus response | FULL"
          ],
          [
           "Trump slams Kamala Harris, makes 2020 predictions | Full Interview"
          ],
          [
           "WATCH LIVE: President Trump comes to Minnesota for Mankato campaign stop"
          ],
          [
           "WATCH: President Trump in Yuma, AZ"
          ],
          [
           "Trump Delivers Remarks at Mariotti Building Products in Old Forge, Pennsylvania"
          ],
          [
           "President Donald Trump's Full Republican National Convention Speech | NBC10 Philadelphia"
          ],
          [
           "President Trump's Full RNC 2020 Speech | NowThis"
          ],
          [
           "Jacob Blake protests: Trump announces funding for Kenosha police, businesses during visit | FULL"
          ],
          [
           "President Trump designates Wilmington, NC as the first American World War II Heritage City | FULL"
          ],
          [
           "FULL: Breaking down the Trump \"hot-mic\" tape with David Corn"
          ],
          [
           "Trump delivers campaign remarks at Arnold Palmer Regional Airport"
          ],
          [
           "Raw Video: President Trump Full Speech at Rally in Winston-Salem, NC (High Quality) 9/8/20"
          ]
         ],
         "hovertemplate": "speaker=trump<br>pos=%{x}<br>neg=%{y}<br>len=%{marker.size}<br>title=%{customdata[0]}<extra></extra>",
         "legendgroup": "trump",
         "marker": {
          "color": "#636efa",
          "size": [
           51179,
           58321,
           39271,
           41933,
           23723,
           59158,
           46163,
           54366,
           53748,
           61159,
           63730,
           56937,
           55933,
           50291,
           46373,
           43798,
           43215,
           55954,
           53329,
           76459,
           63636,
           55479,
           39858,
           63134,
           37435,
           36857,
           49456,
           66439,
           75031,
           53812,
           44276,
           66431,
           61779,
           20819,
           40044,
           46260,
           28871,
           39521,
           28871,
           34340,
           55968,
           39917,
           39811,
           45799,
           11722,
           15156,
           74826,
           69410
          ],
          "sizemode": "area",
          "sizeref": 191.1475,
          "symbol": "circle"
         },
         "mode": "markers",
         "name": "trump",
         "orientation": "v",
         "showlegend": true,
         "type": "scatter",
         "x": [
          0.182,
          0.177,
          0.212,
          0.202,
          0.206,
          0.206,
          0.196,
          0.201,
          0.205,
          0.181,
          0.193,
          0.178,
          0.184,
          0.185,
          0.193,
          0.182,
          0.186,
          0.172,
          0.165,
          0.159,
          0.167,
          0.173,
          0.198,
          0.181,
          0.199,
          0.204,
          0.198,
          0.187,
          0.174,
          0.19,
          0.197,
          0.166,
          0.19,
          0.227,
          0.126,
          0.146,
          0.145,
          0.126,
          0.145,
          0.161,
          0.145,
          0.18,
          0.18,
          0.204,
          0.285,
          0.11,
          0.149,
          0.173
         ],
         "xaxis": "x",
         "y": [
          0.092,
          0.088,
          0.082,
          0.09,
          0.083,
          0.094,
          0.084,
          0.081,
          0.069,
          0.077,
          0.096,
          0.093,
          0.1,
          0.088,
          0.084,
          0.089,
          0.11,
          0.088,
          0.113,
          0.095,
          0.101,
          0.108,
          0.092,
          0.095,
          0.093,
          0.107,
          0.103,
          0.086,
          0.099,
          0.104,
          0.096,
          0.099,
          0.091,
          0.089,
          0.095,
          0.106,
          0.064,
          0.089,
          0.064,
          0.1,
          0.095,
          0.105,
          0.105,
          0.079,
          0.061,
          0.059,
          0.098,
          0.083
         ],
         "yaxis": "y"
        },
        {
         "customdata": [
          [
           "Joe Biden holds first 2020 campaign rally"
          ],
          [
           "Joe Biden speaks during a campaign rally in Philadelphia"
          ],
          [
           "Full Speech: Biden Condemns Trump’s Rhetoric And White Nationalism | NBC News"
          ],
          [
           "Full speech: Joe Biden speaks at the Iowa Democratic Wing Ding"
          ],
          [
           "Joe Biden's Full Remarks in Reno, Nevada | Joe Biden for President"
          ],
          [
           "Joe Biden Speaks in Scranton, Pennsylvania"
          ],
          [
           "CAMPAIGN 2020: Joe Biden's full 2020 King Day at the Dome speech"
          ],
          [
           "I'm about to take the stage from California. Tune in to watch live:"
          ],
          [
           "I'm about to take the stage from Mississippi. Tune in to watch live:"
          ],
          [
           "I'm about to take the stage from Philadelphia. Tune in to watch live:"
          ],
          [
           "Joe Biden delivers remarks on the impact of the Coronavirus on Young Americans. Tune in:"
          ],
          [
           "Joe Biden Delivers Remarks on Implementation & Oversight of CARES Act | Joe Biden For President"
          ],
          [
           "Joe Biden remarks on Protests"
          ],
          [
           "Vice President Biden Delivers Remarks On Having a Safer Economic Reopening"
          ],
          [
           "Vice President Biden's Remarks at Global Pride | Joe Biden For President"
          ],
          [
           "Vice President Biden delivers remarks on Trump’s failure to protect the American people"
          ],
          [
           "Joe Biden Delivers Remarks On His “Build Back Better” Plan For An Equitable Clean Energy Future"
          ],
          [
           "Joe Biden Unveils $775 Billion ‘Build Back Better’ Plan to Boost Child and Elderly Care"
          ],
          [
           "Joe Biden introduces Kamala Harris as running mate"
          ],
          [
           "Joe Biden speaks at the 2020 Democratic National Convention | Full Speech"
          ],
          [
           "FULL VIDEO: Joe Biden delivers remarks on violence across America"
          ],
          [
           "FULL VIDEO: Joe Biden makes remarks on education and takes questions in Wilmington, Delaware"
          ],
          [
           "Joe Biden's full campaign speech HD 8/31/2020"
          ]
         ],
         "hovertemplate": "speaker=biden<br>pos=%{x}<br>neg=%{y}<br>len=%{marker.size}<br>title=%{customdata[0]}<extra></extra>",
         "legendgroup": "biden",
         "marker": {
          "color": "#EF553B",
          "size": [
           21023,
           21153,
           15846,
           5090,
           13126,
           36968,
           4197,
           8226,
           11705,
           6974,
           27963,
           23838,
           16234,
           12059,
           795,
           32807,
           16178,
           17990,
           24616,
           18179,
           17602,
           33886,
           16834
          ],
          "sizemode": "area",
          "sizeref": 191.1475,
          "symbol": "circle"
         },
         "mode": "markers",
         "name": "biden",
         "orientation": "v",
         "showlegend": true,
         "type": "scatter",
         "x": [
          0.166,
          0.161,
          0.145,
          0.096,
          0.125,
          0.134,
          0.167,
          0.169,
          0.205,
          0.161,
          0.115,
          0.124,
          0.155,
          0.122,
          0.327,
          0.101,
          0.157,
          0.196,
          0.156,
          0.192,
          0.149,
          0.118,
          0.151
         ],
         "xaxis": "x",
         "y": [
          0.068,
          0.079,
          0.132,
          0.103,
          0.144,
          0.071,
          0.108,
          0.076,
          0.048,
          0.053,
          0.057,
          0.076,
          0.141,
          0.116,
          0.124,
          0.075,
          0.093,
          0.064,
          0.088,
          0.101,
          0.136,
          0.067,
          0.142
         ],
         "yaxis": "y"
        },
        {
         "customdata": [
          [
           "Full speech: Kamala Harris | Iowa Democrats’ Hall of Fame event (6/19)"
          ],
          [
           "Democratic VP candidate Kamala Harris speaks at Joe Biden event"
          ],
          [
           "WATCH: Kamala Harris’ full speech at the 2020 Democratic National Convention | 2020 DNC Night 3"
          ],
          [
           "Kamala Harris to discuss Trump's response to coronavirus"
          ]
         ],
         "hovertemplate": "speaker=harris<br>pos=%{x}<br>neg=%{y}<br>len=%{marker.size}<br>title=%{customdata[0]}<extra></extra>",
         "legendgroup": "harris",
         "marker": {
          "color": "#00cc96",
          "size": [
           3766,
           11234,
           11349,
           13430
          ],
          "sizemode": "area",
          "sizeref": 191.1475,
          "symbol": "circle"
         },
         "mode": "markers",
         "name": "harris",
         "orientation": "v",
         "showlegend": true,
         "type": "scatter",
         "x": [
          0.14,
          0.16,
          0.198,
          0.126
         ],
         "xaxis": "x",
         "y": [
          0.084,
          0.082,
          0.081,
          0.129
         ],
         "yaxis": "y"
        },
        {
         "customdata": [
          [
           "VP Mike Pence introduces President Trump at 2020 re-election rally"
          ],
          [
           "AMERICA IS BACK: VP Pence amps up crowd during Trump rally"
          ],
          [
           "\"HE'S THE REAL DEAL\": VP Pence speaks at Trump rally in Fayetteville, NC"
          ],
          [
           "VP Pence FULL Remarks At 2019 IAC Conference  10-21-2019"
          ],
          [
           "Vice President Mike Pence speaks at the Trump rally in Hershey"
          ],
          [
           "VP Pence OpenING Speech First 2020 KAG Rally | Toledo OH | 1-09-20 20"
          ],
          [
           "Vice President Mike Pence speaks at a Make America Great Again Rally in Tulsa, OK | FULL SPEECH"
          ],
          [
           "JUST IN: Pence responds to Kamala Harris being chosen as Joe Biden's 2020 running mate"
          ],
          [
           "WATCH LIVE: Mike Pence speaks at Trump campaign event in Michigan"
          ],
          [
           "Pence campaigns in Wisconsin | FULL REMARKS"
          ]
         ],
         "hovertemplate": "speaker=pence<br>pos=%{x}<br>neg=%{y}<br>len=%{marker.size}<br>title=%{customdata[0]}<extra></extra>",
         "legendgroup": "pence",
         "marker": {
          "color": "#ab63fa",
          "size": [
           6944,
           6599,
           7554,
           13688,
           8182,
           8391,
           10639,
           26163,
           26163,
           25837
          ],
          "sizemode": "area",
          "sizeref": 191.1475,
          "symbol": "circle"
         },
         "mode": "markers",
         "name": "pence",
         "orientation": "v",
         "showlegend": true,
         "type": "scatter",
         "x": [
          0.238,
          0.214,
          0.218,
          0.228,
          0.217,
          0.228,
          0.19,
          0.227,
          0.227,
          0.175
         ],
         "xaxis": "x",
         "y": [
          0.046,
          0.032,
          0.031,
          0.011,
          0.028,
          0.049,
          0.041,
          0.023,
          0.023,
          0.056
         ],
         "yaxis": "y"
        }
       ],
       "layout": {
        "legend": {
         "itemsizing": "constant",
         "title": {
          "text": "speaker"
         },
         "tracegroupgap": 0
        },
        "margin": {
         "t": 60
        },
        "template": {
         "data": {
          "bar": [
           {
            "error_x": {
             "color": "#2a3f5f"
            },
            "error_y": {
             "color": "#2a3f5f"
            },
            "marker": {
             "line": {
              "color": "#E5ECF6",
              "width": 0.5
             }
            },
            "type": "bar"
           }
          ],
          "barpolar": [
           {
            "marker": {
             "line": {
              "color": "#E5ECF6",
              "width": 0.5
             }
            },
            "type": "barpolar"
           }
          ],
          "carpet": [
           {
            "aaxis": {
             "endlinecolor": "#2a3f5f",
             "gridcolor": "white",
             "linecolor": "white",
             "minorgridcolor": "white",
             "startlinecolor": "#2a3f5f"
            },
            "baxis": {
             "endlinecolor": "#2a3f5f",
             "gridcolor": "white",
             "linecolor": "white",
             "minorgridcolor": "white",
             "startlinecolor": "#2a3f5f"
            },
            "type": "carpet"
           }
          ],
          "choropleth": [
           {
            "colorbar": {
             "outlinewidth": 0,
             "ticks": ""
            },
            "type": "choropleth"
           }
          ],
          "contour": [
           {
            "colorbar": {
             "outlinewidth": 0,
             "ticks": ""
            },
            "colorscale": [
             [
              0,
              "#0d0887"
             ],
             [
              0.1111111111111111,
              "#46039f"
             ],
             [
              0.2222222222222222,
              "#7201a8"
             ],
             [
              0.3333333333333333,
              "#9c179e"
             ],
             [
              0.4444444444444444,
              "#bd3786"
             ],
             [
              0.5555555555555556,
              "#d8576b"
             ],
             [
              0.6666666666666666,
              "#ed7953"
             ],
             [
              0.7777777777777778,
              "#fb9f3a"
             ],
             [
              0.8888888888888888,
              "#fdca26"
             ],
             [
              1,
              "#f0f921"
             ]
            ],
            "type": "contour"
           }
          ],
          "contourcarpet": [
           {
            "colorbar": {
             "outlinewidth": 0,
             "ticks": ""
            },
            "type": "contourcarpet"
           }
          ],
          "heatmap": [
           {
            "colorbar": {
             "outlinewidth": 0,
             "ticks": ""
            },
            "colorscale": [
             [
              0,
              "#0d0887"
             ],
             [
              0.1111111111111111,
              "#46039f"
             ],
             [
              0.2222222222222222,
              "#7201a8"
             ],
             [
              0.3333333333333333,
              "#9c179e"
             ],
             [
              0.4444444444444444,
              "#bd3786"
             ],
             [
              0.5555555555555556,
              "#d8576b"
             ],
             [
              0.6666666666666666,
              "#ed7953"
             ],
             [
              0.7777777777777778,
              "#fb9f3a"
             ],
             [
              0.8888888888888888,
              "#fdca26"
             ],
             [
              1,
              "#f0f921"
             ]
            ],
            "type": "heatmap"
           }
          ],
          "heatmapgl": [
           {
            "colorbar": {
             "outlinewidth": 0,
             "ticks": ""
            },
            "colorscale": [
             [
              0,
              "#0d0887"
             ],
             [
              0.1111111111111111,
              "#46039f"
             ],
             [
              0.2222222222222222,
              "#7201a8"
             ],
             [
              0.3333333333333333,
              "#9c179e"
             ],
             [
              0.4444444444444444,
              "#bd3786"
             ],
             [
              0.5555555555555556,
              "#d8576b"
             ],
             [
              0.6666666666666666,
              "#ed7953"
             ],
             [
              0.7777777777777778,
              "#fb9f3a"
             ],
             [
              0.8888888888888888,
              "#fdca26"
             ],
             [
              1,
              "#f0f921"
             ]
            ],
            "type": "heatmapgl"
           }
          ],
          "histogram": [
           {
            "marker": {
             "colorbar": {
              "outlinewidth": 0,
              "ticks": ""
             }
            },
            "type": "histogram"
           }
          ],
          "histogram2d": [
           {
            "colorbar": {
             "outlinewidth": 0,
             "ticks": ""
            },
            "colorscale": [
             [
              0,
              "#0d0887"
             ],
             [
              0.1111111111111111,
              "#46039f"
             ],
             [
              0.2222222222222222,
              "#7201a8"
             ],
             [
              0.3333333333333333,
              "#9c179e"
             ],
             [
              0.4444444444444444,
              "#bd3786"
             ],
             [
              0.5555555555555556,
              "#d8576b"
             ],
             [
              0.6666666666666666,
              "#ed7953"
             ],
             [
              0.7777777777777778,
              "#fb9f3a"
             ],
             [
              0.8888888888888888,
              "#fdca26"
             ],
             [
              1,
              "#f0f921"
             ]
            ],
            "type": "histogram2d"
           }
          ],
          "histogram2dcontour": [
           {
            "colorbar": {
             "outlinewidth": 0,
             "ticks": ""
            },
            "colorscale": [
             [
              0,
              "#0d0887"
             ],
             [
              0.1111111111111111,
              "#46039f"
             ],
             [
              0.2222222222222222,
              "#7201a8"
             ],
             [
              0.3333333333333333,
              "#9c179e"
             ],
             [
              0.4444444444444444,
              "#bd3786"
             ],
             [
              0.5555555555555556,
              "#d8576b"
             ],
             [
              0.6666666666666666,
              "#ed7953"
             ],
             [
              0.7777777777777778,
              "#fb9f3a"
             ],
             [
              0.8888888888888888,
              "#fdca26"
             ],
             [
              1,
              "#f0f921"
             ]
            ],
            "type": "histogram2dcontour"
           }
          ],
          "mesh3d": [
           {
            "colorbar": {
             "outlinewidth": 0,
             "ticks": ""
            },
            "type": "mesh3d"
           }
          ],
          "parcoords": [
           {
            "line": {
             "colorbar": {
              "outlinewidth": 0,
              "ticks": ""
             }
            },
            "type": "parcoords"
           }
          ],
          "pie": [
           {
            "automargin": true,
            "type": "pie"
           }
          ],
          "scatter": [
           {
            "marker": {
             "colorbar": {
              "outlinewidth": 0,
              "ticks": ""
             }
            },
            "type": "scatter"
           }
          ],
          "scatter3d": [
           {
            "line": {
             "colorbar": {
              "outlinewidth": 0,
              "ticks": ""
             }
            },
            "marker": {
             "colorbar": {
              "outlinewidth": 0,
              "ticks": ""
             }
            },
            "type": "scatter3d"
           }
          ],
          "scattercarpet": [
           {
            "marker": {
             "colorbar": {
              "outlinewidth": 0,
              "ticks": ""
             }
            },
            "type": "scattercarpet"
           }
          ],
          "scattergeo": [
           {
            "marker": {
             "colorbar": {
              "outlinewidth": 0,
              "ticks": ""
             }
            },
            "type": "scattergeo"
           }
          ],
          "scattergl": [
           {
            "marker": {
             "colorbar": {
              "outlinewidth": 0,
              "ticks": ""
             }
            },
            "type": "scattergl"
           }
          ],
          "scattermapbox": [
           {
            "marker": {
             "colorbar": {
              "outlinewidth": 0,
              "ticks": ""
             }
            },
            "type": "scattermapbox"
           }
          ],
          "scatterpolar": [
           {
            "marker": {
             "colorbar": {
              "outlinewidth": 0,
              "ticks": ""
             }
            },
            "type": "scatterpolar"
           }
          ],
          "scatterpolargl": [
           {
            "marker": {
             "colorbar": {
              "outlinewidth": 0,
              "ticks": ""
             }
            },
            "type": "scatterpolargl"
           }
          ],
          "scatterternary": [
           {
            "marker": {
             "colorbar": {
              "outlinewidth": 0,
              "ticks": ""
             }
            },
            "type": "scatterternary"
           }
          ],
          "surface": [
           {
            "colorbar": {
             "outlinewidth": 0,
             "ticks": ""
            },
            "colorscale": [
             [
              0,
              "#0d0887"
             ],
             [
              0.1111111111111111,
              "#46039f"
             ],
             [
              0.2222222222222222,
              "#7201a8"
             ],
             [
              0.3333333333333333,
              "#9c179e"
             ],
             [
              0.4444444444444444,
              "#bd3786"
             ],
             [
              0.5555555555555556,
              "#d8576b"
             ],
             [
              0.6666666666666666,
              "#ed7953"
             ],
             [
              0.7777777777777778,
              "#fb9f3a"
             ],
             [
              0.8888888888888888,
              "#fdca26"
             ],
             [
              1,
              "#f0f921"
             ]
            ],
            "type": "surface"
           }
          ],
          "table": [
           {
            "cells": {
             "fill": {
              "color": "#EBF0F8"
             },
             "line": {
              "color": "white"
             }
            },
            "header": {
             "fill": {
              "color": "#C8D4E3"
             },
             "line": {
              "color": "white"
             }
            },
            "type": "table"
           }
          ]
         },
         "layout": {
          "annotationdefaults": {
           "arrowcolor": "#2a3f5f",
           "arrowhead": 0,
           "arrowwidth": 1
          },
          "coloraxis": {
           "colorbar": {
            "outlinewidth": 0,
            "ticks": ""
           }
          },
          "colorscale": {
           "diverging": [
            [
             0,
             "#8e0152"
            ],
            [
             0.1,
             "#c51b7d"
            ],
            [
             0.2,
             "#de77ae"
            ],
            [
             0.3,
             "#f1b6da"
            ],
            [
             0.4,
             "#fde0ef"
            ],
            [
             0.5,
             "#f7f7f7"
            ],
            [
             0.6,
             "#e6f5d0"
            ],
            [
             0.7,
             "#b8e186"
            ],
            [
             0.8,
             "#7fbc41"
            ],
            [
             0.9,
             "#4d9221"
            ],
            [
             1,
             "#276419"
            ]
           ],
           "sequential": [
            [
             0,
             "#0d0887"
            ],
            [
             0.1111111111111111,
             "#46039f"
            ],
            [
             0.2222222222222222,
             "#7201a8"
            ],
            [
             0.3333333333333333,
             "#9c179e"
            ],
            [
             0.4444444444444444,
             "#bd3786"
            ],
            [
             0.5555555555555556,
             "#d8576b"
            ],
            [
             0.6666666666666666,
             "#ed7953"
            ],
            [
             0.7777777777777778,
             "#fb9f3a"
            ],
            [
             0.8888888888888888,
             "#fdca26"
            ],
            [
             1,
             "#f0f921"
            ]
           ],
           "sequentialminus": [
            [
             0,
             "#0d0887"
            ],
            [
             0.1111111111111111,
             "#46039f"
            ],
            [
             0.2222222222222222,
             "#7201a8"
            ],
            [
             0.3333333333333333,
             "#9c179e"
            ],
            [
             0.4444444444444444,
             "#bd3786"
            ],
            [
             0.5555555555555556,
             "#d8576b"
            ],
            [
             0.6666666666666666,
             "#ed7953"
            ],
            [
             0.7777777777777778,
             "#fb9f3a"
            ],
            [
             0.8888888888888888,
             "#fdca26"
            ],
            [
             1,
             "#f0f921"
            ]
           ]
          },
          "colorway": [
           "#636efa",
           "#EF553B",
           "#00cc96",
           "#ab63fa",
           "#FFA15A",
           "#19d3f3",
           "#FF6692",
           "#B6E880",
           "#FF97FF",
           "#FECB52"
          ],
          "font": {
           "color": "#2a3f5f"
          },
          "geo": {
           "bgcolor": "white",
           "lakecolor": "white",
           "landcolor": "#E5ECF6",
           "showlakes": true,
           "showland": true,
           "subunitcolor": "white"
          },
          "hoverlabel": {
           "align": "left"
          },
          "hovermode": "closest",
          "mapbox": {
           "style": "light"
          },
          "paper_bgcolor": "white",
          "plot_bgcolor": "#E5ECF6",
          "polar": {
           "angularaxis": {
            "gridcolor": "white",
            "linecolor": "white",
            "ticks": ""
           },
           "bgcolor": "#E5ECF6",
           "radialaxis": {
            "gridcolor": "white",
            "linecolor": "white",
            "ticks": ""
           }
          },
          "scene": {
           "xaxis": {
            "backgroundcolor": "#E5ECF6",
            "gridcolor": "white",
            "gridwidth": 2,
            "linecolor": "white",
            "showbackground": true,
            "ticks": "",
            "zerolinecolor": "white"
           },
           "yaxis": {
            "backgroundcolor": "#E5ECF6",
            "gridcolor": "white",
            "gridwidth": 2,
            "linecolor": "white",
            "showbackground": true,
            "ticks": "",
            "zerolinecolor": "white"
           },
           "zaxis": {
            "backgroundcolor": "#E5ECF6",
            "gridcolor": "white",
            "gridwidth": 2,
            "linecolor": "white",
            "showbackground": true,
            "ticks": "",
            "zerolinecolor": "white"
           }
          },
          "shapedefaults": {
           "line": {
            "color": "#2a3f5f"
           }
          },
          "ternary": {
           "aaxis": {
            "gridcolor": "white",
            "linecolor": "white",
            "ticks": ""
           },
           "baxis": {
            "gridcolor": "white",
            "linecolor": "white",
            "ticks": ""
           },
           "bgcolor": "#E5ECF6",
           "caxis": {
            "gridcolor": "white",
            "linecolor": "white",
            "ticks": ""
           }
          },
          "title": {
           "x": 0.05
          },
          "xaxis": {
           "automargin": true,
           "gridcolor": "white",
           "linecolor": "white",
           "ticks": "",
           "title": {
            "standoff": 15
           },
           "zerolinecolor": "white",
           "zerolinewidth": 2
          },
          "yaxis": {
           "automargin": true,
           "gridcolor": "white",
           "linecolor": "white",
           "ticks": "",
           "title": {
            "standoff": 15
           },
           "zerolinecolor": "white",
           "zerolinewidth": 2
          }
         }
        },
        "xaxis": {
         "anchor": "y",
         "domain": [
          0,
          1
         ],
         "title": {
          "text": "pos"
         }
        },
        "yaxis": {
         "anchor": "x",
         "domain": [
          0,
          1
         ],
         "title": {
          "text": "neg"
         }
        }
       }
      },
      "text/html": [
       "<div>\n",
       "        \n",
       "        \n",
       "            <div id=\"1ad16a45-7480-4847-a212-cbc9cd6abfc4\" class=\"plotly-graph-div\" style=\"height:525px; width:100%;\"></div>\n",
       "            <script type=\"text/javascript\">\n",
       "                require([\"plotly\"], function(Plotly) {\n",
       "                    window.PLOTLYENV=window.PLOTLYENV || {};\n",
       "                    \n",
       "                if (document.getElementById(\"1ad16a45-7480-4847-a212-cbc9cd6abfc4\")) {\n",
       "                    Plotly.newPlot(\n",
       "                        '1ad16a45-7480-4847-a212-cbc9cd6abfc4',\n",
       "                        [{\"customdata\": [[\"Watch Live: President Trump's MAGA Rally in Green Bay (Full) | NBC News\"], [\"FULL RALLY: President Trump in Panama City Beach, Florida\"], [\"FULL RALLY: President Trump in Montoursville, Pennsylvania\"], [\"TRUMP 2020: President Trump Re-Election Campaign Rally - FULL SPEECH\"], [\"President Trump COMPLETE REMARKS at July 4th \\\"Salute to America\\\" (C-SPAN)\"], [\"FULL RALLY: President Trump Rally in Greenville, North Carolina\"], [\"FULL RALLY: President Trump on Democrats, Economy in Cincinnati, Ohio\"], [\"Pres. Trump New Hampshire Rally in Manchester | ABC News Live Coverage\"], [\"Watch LIVE President Trump campaign rally in Fayetteville, North Carolina | ABC News\"], [\"FULL SPEECH President Donald Trump Rally - Rio Rancho, NM. 2019\"], [\"FULL RALLY: President Trump rally in Minneapolis, MN\"], [\"FULL TRUMP RALLY: President Trump holds campaign rally in Dallas, Texas\"], [\"Watch Live: President Donald Trump Speaks At Mississippi Campaign Rally | NBC News\"], [\"FULL RALLY: President Trump in Lexington, Kentucky\"], [\"Watch Live: President Donald Trump Speaks At A Keep America Great Rally In Louisiana | NBC News\"], [\"FULL RALLY: President Trump Monroe, Louisiana\"], [\"FULL RALLY: President Trump in Bossier City, Louisiana\"], [\"KEEP AMERICA GREAT: President Trump FULL RALLY in Florida\"], [\"President Donald Trump speaks at his Hershey rally (full speech)\"], [\"Full Video: President Trump speaks at campaign rally in Battle Creek\"], [\"FULL RALLY: President Trump talks impeachment and more in Toledo, Ohio\"], [\"Donald Trump hosts \\\"Keep America Great\\\" rally in Milwaukee, Wis.\"], [\"Trump Rally in Wildwood New Jersey, Jan. 28, 2020, full speech\"], [\"LIVE: President Trump in Des Moines, IA\"], [\"LIVE: State of the Union Address\"], [\"LIVE: President Trump in Manchester, NH\"], [\"LIVE: President Trump in Phoenix, AZ\"], [\"LIVE: President Trump in Colorado Springs, CO\"], [\"LIVE: President Trump in Las Vegas, NV\"], [\"LIVE: President Trump in North Charleston, SC\"], [\"LIVE: President Trump in Charlotte, NC\"], [\"LIVE: President Trump in Tulsa, Oklahoma\"], [\"Trump addresses crowd of young Americans at Arizona rally | FULL\"], [\"President Trump's full speech at Mount Rushmore | USA TODAY\"], [\"President Trump goes one-on-one with Chris Wallace | Full Interview\"], [\"AXIOS on HBO: President Trump Exclusive Interview (Full Episode) | HBO\"], [\"Trump offers Lebanon assistance following explosion, touts' coronavirus response | FULL\"], [\"Trump slams Kamala Harris, makes 2020 predictions | Full Interview\"], [\"WATCH LIVE: President Trump comes to Minnesota for Mankato campaign stop\"], [\"WATCH: President Trump in Yuma, AZ\"], [\"Trump Delivers Remarks at Mariotti Building Products in Old Forge, Pennsylvania\"], [\"President Donald Trump's Full Republican National Convention Speech | NBC10 Philadelphia\"], [\"President Trump's Full RNC 2020 Speech | NowThis\"], [\"Jacob Blake protests: Trump announces funding for Kenosha police, businesses during visit | FULL\"], [\"President Trump designates Wilmington, NC as the first American World War II Heritage City | FULL\"], [\"FULL: Breaking down the Trump \\\"hot-mic\\\" tape with David Corn\"], [\"Trump delivers campaign remarks at Arnold Palmer Regional Airport\"], [\"Raw Video: President Trump Full Speech at Rally in Winston-Salem, NC (High Quality) 9/8/20\"]], \"hovertemplate\": \"speaker=trump<br>pos=%{x}<br>neg=%{y}<br>len=%{marker.size}<br>title=%{customdata[0]}<extra></extra>\", \"legendgroup\": \"trump\", \"marker\": {\"color\": \"#636efa\", \"size\": [51179, 58321, 39271, 41933, 23723, 59158, 46163, 54366, 53748, 61159, 63730, 56937, 55933, 50291, 46373, 43798, 43215, 55954, 53329, 76459, 63636, 55479, 39858, 63134, 37435, 36857, 49456, 66439, 75031, 53812, 44276, 66431, 61779, 20819, 40044, 46260, 28871, 39521, 28871, 34340, 55968, 39917, 39811, 45799, 11722, 15156, 74826, 69410], \"sizemode\": \"area\", \"sizeref\": 191.1475, \"symbol\": \"circle\"}, \"mode\": \"markers\", \"name\": \"trump\", \"orientation\": \"v\", \"showlegend\": true, \"type\": \"scatter\", \"x\": [0.182, 0.177, 0.212, 0.202, 0.206, 0.206, 0.196, 0.201, 0.205, 0.181, 0.193, 0.178, 0.184, 0.185, 0.193, 0.182, 0.186, 0.172, 0.165, 0.159, 0.167, 0.173, 0.198, 0.181, 0.199, 0.204, 0.198, 0.187, 0.174, 0.19, 0.197, 0.166, 0.19, 0.227, 0.126, 0.146, 0.145, 0.126, 0.145, 0.161, 0.145, 0.18, 0.18, 0.204, 0.285, 0.11, 0.149, 0.173], \"xaxis\": \"x\", \"y\": [0.092, 0.088, 0.082, 0.09, 0.083, 0.094, 0.084, 0.081, 0.069, 0.077, 0.096, 0.093, 0.1, 0.088, 0.084, 0.089, 0.11, 0.088, 0.113, 0.095, 0.101, 0.108, 0.092, 0.095, 0.093, 0.107, 0.103, 0.086, 0.099, 0.104, 0.096, 0.099, 0.091, 0.089, 0.095, 0.106, 0.064, 0.089, 0.064, 0.1, 0.095, 0.105, 0.105, 0.079, 0.061, 0.059, 0.098, 0.083], \"yaxis\": \"y\"}, {\"customdata\": [[\"Joe Biden holds first 2020 campaign rally\"], [\"Joe Biden speaks during a campaign rally in Philadelphia\"], [\"Full Speech: Biden Condemns Trump\\u2019s Rhetoric And White Nationalism | NBC News\"], [\"Full speech: Joe Biden speaks at the Iowa Democratic Wing Ding\"], [\"Joe Biden's Full Remarks in Reno, Nevada | Joe Biden for President\"], [\"Joe Biden Speaks in Scranton, Pennsylvania\"], [\"CAMPAIGN 2020: Joe Biden's full 2020 King Day at the Dome speech\"], [\"I'm about to take the stage from California. Tune in to watch live:\"], [\"I'm about to take the stage from Mississippi. Tune in to watch live:\"], [\"I'm about to take the stage from Philadelphia. Tune in to watch live:\"], [\"Joe Biden delivers remarks on the impact of the Coronavirus on Young Americans. Tune in:\"], [\"Joe Biden Delivers Remarks on Implementation & Oversight of CARES Act | Joe Biden For President\"], [\"Joe Biden remarks on Protests\"], [\"Vice President Biden Delivers Remarks On Having a Safer Economic Reopening\"], [\"Vice President Biden's Remarks at Global Pride | Joe Biden For President\"], [\"Vice President Biden delivers remarks on Trump\\u2019s failure to protect the American people\"], [\"Joe Biden Delivers Remarks On His \\u201cBuild Back Better\\u201d Plan For An Equitable Clean Energy Future\"], [\"Joe Biden Unveils $775 Billion \\u2018Build Back Better\\u2019 Plan to Boost Child and Elderly Care\"], [\"Joe Biden introduces Kamala Harris as running mate\"], [\"Joe Biden speaks at the 2020 Democratic National Convention | Full Speech\"], [\"FULL VIDEO: Joe Biden delivers remarks on violence across America\"], [\"FULL VIDEO: Joe Biden makes remarks on education and takes questions in Wilmington, Delaware\"], [\"Joe Biden's full campaign speech HD 8/31/2020\"]], \"hovertemplate\": \"speaker=biden<br>pos=%{x}<br>neg=%{y}<br>len=%{marker.size}<br>title=%{customdata[0]}<extra></extra>\", \"legendgroup\": \"biden\", \"marker\": {\"color\": \"#EF553B\", \"size\": [21023, 21153, 15846, 5090, 13126, 36968, 4197, 8226, 11705, 6974, 27963, 23838, 16234, 12059, 795, 32807, 16178, 17990, 24616, 18179, 17602, 33886, 16834], \"sizemode\": \"area\", \"sizeref\": 191.1475, \"symbol\": \"circle\"}, \"mode\": \"markers\", \"name\": \"biden\", \"orientation\": \"v\", \"showlegend\": true, \"type\": \"scatter\", \"x\": [0.166, 0.161, 0.145, 0.096, 0.125, 0.134, 0.167, 0.169, 0.205, 0.161, 0.115, 0.124, 0.155, 0.122, 0.327, 0.101, 0.157, 0.196, 0.156, 0.192, 0.149, 0.118, 0.151], \"xaxis\": \"x\", \"y\": [0.068, 0.079, 0.132, 0.103, 0.144, 0.071, 0.108, 0.076, 0.048, 0.053, 0.057, 0.076, 0.141, 0.116, 0.124, 0.075, 0.093, 0.064, 0.088, 0.101, 0.136, 0.067, 0.142], \"yaxis\": \"y\"}, {\"customdata\": [[\"Full speech: Kamala Harris | Iowa Democrats\\u2019 Hall of Fame event (6/19)\"], [\"Democratic VP candidate Kamala Harris speaks at Joe Biden event\"], [\"WATCH: Kamala Harris\\u2019 full speech at the 2020 Democratic National Convention | 2020 DNC Night 3\"], [\"Kamala Harris to discuss Trump's response to coronavirus\"]], \"hovertemplate\": \"speaker=harris<br>pos=%{x}<br>neg=%{y}<br>len=%{marker.size}<br>title=%{customdata[0]}<extra></extra>\", \"legendgroup\": \"harris\", \"marker\": {\"color\": \"#00cc96\", \"size\": [3766, 11234, 11349, 13430], \"sizemode\": \"area\", \"sizeref\": 191.1475, \"symbol\": \"circle\"}, \"mode\": \"markers\", \"name\": \"harris\", \"orientation\": \"v\", \"showlegend\": true, \"type\": \"scatter\", \"x\": [0.14, 0.16, 0.198, 0.126], \"xaxis\": \"x\", \"y\": [0.084, 0.082, 0.081, 0.129], \"yaxis\": \"y\"}, {\"customdata\": [[\"VP Mike Pence introduces President Trump at 2020 re-election rally\"], [\"AMERICA IS BACK: VP Pence amps up crowd during Trump rally\"], [\"\\\"HE'S THE REAL DEAL\\\": VP Pence speaks at Trump rally in Fayetteville, NC\"], [\"VP Pence FULL Remarks At 2019 IAC Conference  10-21-2019\"], [\"Vice President Mike Pence speaks at the Trump rally in Hershey\"], [\"VP Pence OpenING Speech First 2020 KAG Rally | Toledo OH | 1-09-20 20\"], [\"Vice President Mike Pence speaks at a Make America Great Again Rally in Tulsa, OK | FULL SPEECH\"], [\"JUST IN: Pence responds to Kamala Harris being chosen as Joe Biden's 2020 running mate\"], [\"WATCH LIVE: Mike Pence speaks at Trump campaign event in Michigan\"], [\"Pence campaigns in Wisconsin | FULL REMARKS\"]], \"hovertemplate\": \"speaker=pence<br>pos=%{x}<br>neg=%{y}<br>len=%{marker.size}<br>title=%{customdata[0]}<extra></extra>\", \"legendgroup\": \"pence\", \"marker\": {\"color\": \"#ab63fa\", \"size\": [6944, 6599, 7554, 13688, 8182, 8391, 10639, 26163, 26163, 25837], \"sizemode\": \"area\", \"sizeref\": 191.1475, \"symbol\": \"circle\"}, \"mode\": \"markers\", \"name\": \"pence\", \"orientation\": \"v\", \"showlegend\": true, \"type\": \"scatter\", \"x\": [0.238, 0.214, 0.218, 0.228, 0.217, 0.228, 0.19, 0.227, 0.227, 0.175], \"xaxis\": \"x\", \"y\": [0.046, 0.032, 0.031, 0.011, 0.028, 0.049, 0.041, 0.023, 0.023, 0.056], \"yaxis\": \"y\"}],\n",
       "                        {\"legend\": {\"itemsizing\": \"constant\", \"title\": {\"text\": \"speaker\"}, \"tracegroupgap\": 0}, \"margin\": {\"t\": 60}, \"template\": {\"data\": {\"bar\": [{\"error_x\": {\"color\": \"#2a3f5f\"}, \"error_y\": {\"color\": \"#2a3f5f\"}, \"marker\": {\"line\": {\"color\": \"#E5ECF6\", \"width\": 0.5}}, \"type\": \"bar\"}], \"barpolar\": [{\"marker\": {\"line\": {\"color\": \"#E5ECF6\", \"width\": 0.5}}, \"type\": \"barpolar\"}], \"carpet\": [{\"aaxis\": {\"endlinecolor\": \"#2a3f5f\", \"gridcolor\": \"white\", \"linecolor\": \"white\", \"minorgridcolor\": \"white\", \"startlinecolor\": \"#2a3f5f\"}, \"baxis\": {\"endlinecolor\": \"#2a3f5f\", \"gridcolor\": \"white\", \"linecolor\": \"white\", \"minorgridcolor\": \"white\", \"startlinecolor\": \"#2a3f5f\"}, \"type\": \"carpet\"}], \"choropleth\": [{\"colorbar\": {\"outlinewidth\": 0, \"ticks\": \"\"}, \"type\": \"choropleth\"}], \"contour\": [{\"colorbar\": {\"outlinewidth\": 0, \"ticks\": \"\"}, \"colorscale\": [[0.0, \"#0d0887\"], [0.1111111111111111, \"#46039f\"], [0.2222222222222222, \"#7201a8\"], [0.3333333333333333, \"#9c179e\"], [0.4444444444444444, \"#bd3786\"], [0.5555555555555556, \"#d8576b\"], [0.6666666666666666, \"#ed7953\"], [0.7777777777777778, \"#fb9f3a\"], [0.8888888888888888, \"#fdca26\"], [1.0, \"#f0f921\"]], \"type\": \"contour\"}], \"contourcarpet\": [{\"colorbar\": {\"outlinewidth\": 0, \"ticks\": \"\"}, \"type\": \"contourcarpet\"}], \"heatmap\": [{\"colorbar\": {\"outlinewidth\": 0, \"ticks\": \"\"}, \"colorscale\": [[0.0, \"#0d0887\"], [0.1111111111111111, \"#46039f\"], [0.2222222222222222, \"#7201a8\"], [0.3333333333333333, \"#9c179e\"], [0.4444444444444444, \"#bd3786\"], [0.5555555555555556, \"#d8576b\"], [0.6666666666666666, \"#ed7953\"], [0.7777777777777778, \"#fb9f3a\"], [0.8888888888888888, \"#fdca26\"], [1.0, \"#f0f921\"]], \"type\": \"heatmap\"}], \"heatmapgl\": [{\"colorbar\": {\"outlinewidth\": 0, \"ticks\": \"\"}, \"colorscale\": [[0.0, \"#0d0887\"], [0.1111111111111111, \"#46039f\"], [0.2222222222222222, \"#7201a8\"], [0.3333333333333333, \"#9c179e\"], [0.4444444444444444, \"#bd3786\"], [0.5555555555555556, \"#d8576b\"], [0.6666666666666666, \"#ed7953\"], [0.7777777777777778, \"#fb9f3a\"], [0.8888888888888888, \"#fdca26\"], [1.0, \"#f0f921\"]], \"type\": \"heatmapgl\"}], \"histogram\": [{\"marker\": {\"colorbar\": {\"outlinewidth\": 0, \"ticks\": \"\"}}, \"type\": \"histogram\"}], \"histogram2d\": [{\"colorbar\": {\"outlinewidth\": 0, \"ticks\": \"\"}, \"colorscale\": [[0.0, \"#0d0887\"], [0.1111111111111111, \"#46039f\"], [0.2222222222222222, \"#7201a8\"], [0.3333333333333333, \"#9c179e\"], [0.4444444444444444, \"#bd3786\"], [0.5555555555555556, \"#d8576b\"], [0.6666666666666666, \"#ed7953\"], [0.7777777777777778, \"#fb9f3a\"], [0.8888888888888888, \"#fdca26\"], [1.0, \"#f0f921\"]], \"type\": \"histogram2d\"}], \"histogram2dcontour\": [{\"colorbar\": {\"outlinewidth\": 0, \"ticks\": \"\"}, \"colorscale\": [[0.0, \"#0d0887\"], [0.1111111111111111, \"#46039f\"], [0.2222222222222222, \"#7201a8\"], [0.3333333333333333, \"#9c179e\"], [0.4444444444444444, \"#bd3786\"], [0.5555555555555556, \"#d8576b\"], [0.6666666666666666, \"#ed7953\"], [0.7777777777777778, \"#fb9f3a\"], [0.8888888888888888, \"#fdca26\"], [1.0, \"#f0f921\"]], \"type\": \"histogram2dcontour\"}], \"mesh3d\": [{\"colorbar\": {\"outlinewidth\": 0, \"ticks\": \"\"}, \"type\": \"mesh3d\"}], \"parcoords\": [{\"line\": {\"colorbar\": {\"outlinewidth\": 0, \"ticks\": \"\"}}, \"type\": \"parcoords\"}], \"pie\": [{\"automargin\": true, \"type\": \"pie\"}], \"scatter\": [{\"marker\": {\"colorbar\": {\"outlinewidth\": 0, \"ticks\": \"\"}}, \"type\": \"scatter\"}], \"scatter3d\": [{\"line\": {\"colorbar\": {\"outlinewidth\": 0, \"ticks\": \"\"}}, \"marker\": {\"colorbar\": {\"outlinewidth\": 0, \"ticks\": \"\"}}, \"type\": \"scatter3d\"}], \"scattercarpet\": [{\"marker\": {\"colorbar\": {\"outlinewidth\": 0, \"ticks\": \"\"}}, \"type\": \"scattercarpet\"}], \"scattergeo\": [{\"marker\": {\"colorbar\": {\"outlinewidth\": 0, \"ticks\": \"\"}}, \"type\": \"scattergeo\"}], \"scattergl\": [{\"marker\": {\"colorbar\": {\"outlinewidth\": 0, \"ticks\": \"\"}}, \"type\": \"scattergl\"}], \"scattermapbox\": [{\"marker\": {\"colorbar\": {\"outlinewidth\": 0, \"ticks\": \"\"}}, \"type\": \"scattermapbox\"}], \"scatterpolar\": [{\"marker\": {\"colorbar\": {\"outlinewidth\": 0, \"ticks\": \"\"}}, \"type\": \"scatterpolar\"}], \"scatterpolargl\": [{\"marker\": {\"colorbar\": {\"outlinewidth\": 0, \"ticks\": \"\"}}, \"type\": \"scatterpolargl\"}], \"scatterternary\": [{\"marker\": {\"colorbar\": {\"outlinewidth\": 0, \"ticks\": \"\"}}, \"type\": \"scatterternary\"}], \"surface\": [{\"colorbar\": {\"outlinewidth\": 0, \"ticks\": \"\"}, \"colorscale\": [[0.0, \"#0d0887\"], [0.1111111111111111, \"#46039f\"], [0.2222222222222222, \"#7201a8\"], [0.3333333333333333, \"#9c179e\"], [0.4444444444444444, \"#bd3786\"], [0.5555555555555556, \"#d8576b\"], [0.6666666666666666, \"#ed7953\"], [0.7777777777777778, \"#fb9f3a\"], [0.8888888888888888, \"#fdca26\"], [1.0, \"#f0f921\"]], \"type\": \"surface\"}], \"table\": [{\"cells\": {\"fill\": {\"color\": \"#EBF0F8\"}, \"line\": {\"color\": \"white\"}}, \"header\": {\"fill\": {\"color\": \"#C8D4E3\"}, \"line\": {\"color\": \"white\"}}, \"type\": \"table\"}]}, \"layout\": {\"annotationdefaults\": {\"arrowcolor\": \"#2a3f5f\", \"arrowhead\": 0, \"arrowwidth\": 1}, \"coloraxis\": {\"colorbar\": {\"outlinewidth\": 0, \"ticks\": \"\"}}, \"colorscale\": {\"diverging\": [[0, \"#8e0152\"], [0.1, \"#c51b7d\"], [0.2, \"#de77ae\"], [0.3, \"#f1b6da\"], [0.4, \"#fde0ef\"], [0.5, \"#f7f7f7\"], [0.6, \"#e6f5d0\"], [0.7, \"#b8e186\"], [0.8, \"#7fbc41\"], [0.9, \"#4d9221\"], [1, \"#276419\"]], \"sequential\": [[0.0, \"#0d0887\"], [0.1111111111111111, \"#46039f\"], [0.2222222222222222, \"#7201a8\"], [0.3333333333333333, \"#9c179e\"], [0.4444444444444444, \"#bd3786\"], [0.5555555555555556, \"#d8576b\"], [0.6666666666666666, \"#ed7953\"], [0.7777777777777778, \"#fb9f3a\"], [0.8888888888888888, \"#fdca26\"], [1.0, \"#f0f921\"]], \"sequentialminus\": [[0.0, \"#0d0887\"], [0.1111111111111111, \"#46039f\"], [0.2222222222222222, \"#7201a8\"], [0.3333333333333333, \"#9c179e\"], [0.4444444444444444, \"#bd3786\"], [0.5555555555555556, \"#d8576b\"], [0.6666666666666666, \"#ed7953\"], [0.7777777777777778, \"#fb9f3a\"], [0.8888888888888888, \"#fdca26\"], [1.0, \"#f0f921\"]]}, \"colorway\": [\"#636efa\", \"#EF553B\", \"#00cc96\", \"#ab63fa\", \"#FFA15A\", \"#19d3f3\", \"#FF6692\", \"#B6E880\", \"#FF97FF\", \"#FECB52\"], \"font\": {\"color\": \"#2a3f5f\"}, \"geo\": {\"bgcolor\": \"white\", \"lakecolor\": \"white\", \"landcolor\": \"#E5ECF6\", \"showlakes\": true, \"showland\": true, \"subunitcolor\": \"white\"}, \"hoverlabel\": {\"align\": \"left\"}, \"hovermode\": \"closest\", \"mapbox\": {\"style\": \"light\"}, \"paper_bgcolor\": \"white\", \"plot_bgcolor\": \"#E5ECF6\", \"polar\": {\"angularaxis\": {\"gridcolor\": \"white\", \"linecolor\": \"white\", \"ticks\": \"\"}, \"bgcolor\": \"#E5ECF6\", \"radialaxis\": {\"gridcolor\": \"white\", \"linecolor\": \"white\", \"ticks\": \"\"}}, \"scene\": {\"xaxis\": {\"backgroundcolor\": \"#E5ECF6\", \"gridcolor\": \"white\", \"gridwidth\": 2, \"linecolor\": \"white\", \"showbackground\": true, \"ticks\": \"\", \"zerolinecolor\": \"white\"}, \"yaxis\": {\"backgroundcolor\": \"#E5ECF6\", \"gridcolor\": \"white\", \"gridwidth\": 2, \"linecolor\": \"white\", \"showbackground\": true, \"ticks\": \"\", \"zerolinecolor\": \"white\"}, \"zaxis\": {\"backgroundcolor\": \"#E5ECF6\", \"gridcolor\": \"white\", \"gridwidth\": 2, \"linecolor\": \"white\", \"showbackground\": true, \"ticks\": \"\", \"zerolinecolor\": \"white\"}}, \"shapedefaults\": {\"line\": {\"color\": \"#2a3f5f\"}}, \"ternary\": {\"aaxis\": {\"gridcolor\": \"white\", \"linecolor\": \"white\", \"ticks\": \"\"}, \"baxis\": {\"gridcolor\": \"white\", \"linecolor\": \"white\", \"ticks\": \"\"}, \"bgcolor\": \"#E5ECF6\", \"caxis\": {\"gridcolor\": \"white\", \"linecolor\": \"white\", \"ticks\": \"\"}}, \"title\": {\"x\": 0.05}, \"xaxis\": {\"automargin\": true, \"gridcolor\": \"white\", \"linecolor\": \"white\", \"ticks\": \"\", \"title\": {\"standoff\": 15}, \"zerolinecolor\": \"white\", \"zerolinewidth\": 2}, \"yaxis\": {\"automargin\": true, \"gridcolor\": \"white\", \"linecolor\": \"white\", \"ticks\": \"\", \"title\": {\"standoff\": 15}, \"zerolinecolor\": \"white\", \"zerolinewidth\": 2}}}, \"xaxis\": {\"anchor\": \"y\", \"domain\": [0.0, 1.0], \"title\": {\"text\": \"pos\"}}, \"yaxis\": {\"anchor\": \"x\", \"domain\": [0.0, 1.0], \"title\": {\"text\": \"neg\"}}},\n",
       "                        {\"responsive\": true}\n",
       "                    ).then(function(){\n",
       "                            \n",
       "var gd = document.getElementById('1ad16a45-7480-4847-a212-cbc9cd6abfc4');\n",
       "var x = new MutationObserver(function (mutations, observer) {{\n",
       "        var display = window.getComputedStyle(gd).display;\n",
       "        if (!display || display === 'none') {{\n",
       "            console.log([gd, 'removed!']);\n",
       "            Plotly.purge(gd);\n",
       "            observer.disconnect();\n",
       "        }}\n",
       "}});\n",
       "\n",
       "// Listen for the removal of the full notebook cells\n",
       "var notebookContainer = gd.closest('#notebook-container');\n",
       "if (notebookContainer) {{\n",
       "    x.observe(notebookContainer, {childList: true});\n",
       "}}\n",
       "\n",
       "// Listen for the clearing of the current output cell\n",
       "var outputEl = gd.closest('.output');\n",
       "if (outputEl) {{\n",
       "    x.observe(outputEl, {childList: true});\n",
       "}}\n",
       "\n",
       "                        })\n",
       "                };\n",
       "                });\n",
       "            </script>\n",
       "        </div>"
      ]
     },
     "metadata": {},
     "output_type": "display_data"
    }
   ],
   "source": [
    "import plotly.express as px\n",
    "\n",
    "fig = px.scatter(bow, x=\"pos\", y=\"neg\", color=\"speaker\", size=\"len\", hover_data=[\"title\"])\n",
    "fig.show()"
   ]
  },
  {
   "cell_type": "code",
   "execution_count": 63,
   "metadata": {},
   "outputs": [
    {
     "data": {
      "application/vnd.plotly.v1+json": {
       "config": {
        "plotlyServerURL": "https://plot.ly"
       },
       "data": [
        {
         "customdata": [
          [
           "Watch Live: President Trump's MAGA Rally in Green Bay (Full) | NBC News"
          ],
          [
           "FULL RALLY: President Trump in Panama City Beach, Florida"
          ],
          [
           "FULL RALLY: President Trump in Montoursville, Pennsylvania"
          ],
          [
           "TRUMP 2020: President Trump Re-Election Campaign Rally - FULL SPEECH"
          ],
          [
           "President Trump COMPLETE REMARKS at July 4th \"Salute to America\" (C-SPAN)"
          ],
          [
           "FULL RALLY: President Trump Rally in Greenville, North Carolina"
          ],
          [
           "FULL RALLY: President Trump on Democrats, Economy in Cincinnati, Ohio"
          ],
          [
           "Pres. Trump New Hampshire Rally in Manchester | ABC News Live Coverage"
          ],
          [
           "Watch LIVE President Trump campaign rally in Fayetteville, North Carolina | ABC News"
          ],
          [
           "FULL SPEECH President Donald Trump Rally - Rio Rancho, NM. 2019"
          ],
          [
           "FULL RALLY: President Trump rally in Minneapolis, MN"
          ],
          [
           "FULL TRUMP RALLY: President Trump holds campaign rally in Dallas, Texas"
          ],
          [
           "Watch Live: President Donald Trump Speaks At Mississippi Campaign Rally | NBC News"
          ],
          [
           "FULL RALLY: President Trump in Lexington, Kentucky"
          ],
          [
           "Watch Live: President Donald Trump Speaks At A Keep America Great Rally In Louisiana | NBC News"
          ],
          [
           "FULL RALLY: President Trump Monroe, Louisiana"
          ],
          [
           "FULL RALLY: President Trump in Bossier City, Louisiana"
          ],
          [
           "KEEP AMERICA GREAT: President Trump FULL RALLY in Florida"
          ],
          [
           "President Donald Trump speaks at his Hershey rally (full speech)"
          ],
          [
           "Full Video: President Trump speaks at campaign rally in Battle Creek"
          ],
          [
           "FULL RALLY: President Trump talks impeachment and more in Toledo, Ohio"
          ],
          [
           "Donald Trump hosts \"Keep America Great\" rally in Milwaukee, Wis."
          ],
          [
           "Trump Rally in Wildwood New Jersey, Jan. 28, 2020, full speech"
          ],
          [
           "LIVE: President Trump in Des Moines, IA"
          ],
          [
           "LIVE: State of the Union Address"
          ],
          [
           "LIVE: President Trump in Manchester, NH"
          ],
          [
           "LIVE: President Trump in Phoenix, AZ"
          ],
          [
           "LIVE: President Trump in Colorado Springs, CO"
          ],
          [
           "LIVE: President Trump in Las Vegas, NV"
          ],
          [
           "LIVE: President Trump in North Charleston, SC"
          ],
          [
           "LIVE: President Trump in Charlotte, NC"
          ],
          [
           "LIVE: President Trump in Tulsa, Oklahoma"
          ],
          [
           "Trump addresses crowd of young Americans at Arizona rally | FULL"
          ],
          [
           "President Trump's full speech at Mount Rushmore | USA TODAY"
          ],
          [
           "President Trump goes one-on-one with Chris Wallace | Full Interview"
          ],
          [
           "AXIOS on HBO: President Trump Exclusive Interview (Full Episode) | HBO"
          ],
          [
           "Trump offers Lebanon assistance following explosion, touts' coronavirus response | FULL"
          ],
          [
           "Trump slams Kamala Harris, makes 2020 predictions | Full Interview"
          ],
          [
           "WATCH LIVE: President Trump comes to Minnesota for Mankato campaign stop"
          ],
          [
           "WATCH: President Trump in Yuma, AZ"
          ],
          [
           "Trump Delivers Remarks at Mariotti Building Products in Old Forge, Pennsylvania"
          ],
          [
           "President Donald Trump's Full Republican National Convention Speech | NBC10 Philadelphia"
          ],
          [
           "President Trump's Full RNC 2020 Speech | NowThis"
          ],
          [
           "Jacob Blake protests: Trump announces funding for Kenosha police, businesses during visit | FULL"
          ],
          [
           "President Trump designates Wilmington, NC as the first American World War II Heritage City | FULL"
          ],
          [
           "FULL: Breaking down the Trump \"hot-mic\" tape with David Corn"
          ],
          [
           "Trump delivers campaign remarks at Arnold Palmer Regional Airport"
          ],
          [
           "Raw Video: President Trump Full Speech at Rally in Winston-Salem, NC (High Quality) 9/8/20"
          ]
         ],
         "hovertemplate": "speaker=trump<br>date=%{x}<br>neg=%{y}<br>len=%{marker.size}<br>title=%{customdata[0]}<extra></extra>",
         "legendgroup": "trump",
         "marker": {
          "color": "#636efa",
          "size": [
           51179,
           58321,
           39271,
           41933,
           23723,
           59158,
           46163,
           54366,
           53748,
           61159,
           63730,
           56937,
           55933,
           50291,
           46373,
           43798,
           43215,
           55954,
           53329,
           76459,
           63636,
           55479,
           39858,
           63134,
           37435,
           36857,
           49456,
           66439,
           75031,
           53812,
           44276,
           66431,
           61779,
           20819,
           40044,
           46260,
           28871,
           39521,
           28871,
           34340,
           55968,
           39917,
           39811,
           45799,
           11722,
           15156,
           74826,
           69410
          ],
          "sizemode": "area",
          "sizeref": 191.1475,
          "symbol": "circle"
         },
         "mode": "markers",
         "name": "trump",
         "orientation": "v",
         "showlegend": true,
         "type": "scatter",
         "x": [
          "2019-04-28T02:07:41Z",
          "2019-05-09T03:55:17Z",
          "2019-05-21T00:39:36Z",
          "2019-06-19T01:48:35Z",
          "2019-07-05T15:19:57Z",
          "2019-07-18T01:09:59Z",
          "2019-08-02T01:11:44Z",
          "2019-08-16T01:28:24Z",
          "2019-09-10T00:54:02Z",
          "2019-09-20T02:59:09Z",
          "2019-10-11T03:05:55Z",
          "2019-10-18T02:33:13Z",
          "2019-11-02T02:18:54Z",
          "2019-11-05T01:55:14Z",
          "2019-11-07T03:09:45Z",
          "2019-11-07T03:13:40Z",
          "2019-11-15T04:19:23Z",
          "2019-11-27T02:14:29Z",
          "2019-12-11T15:33:15Z",
          "2019-12-20T21:48:33Z",
          "2020-01-10T02:26:58Z",
          "2020-01-15T02:45:40Z",
          "2020-01-29T06:59:18Z",
          "2020-01-31T03:12:02Z",
          "2020-02-05T08:14:03Z",
          "2020-02-11T01:38:10Z",
          "2020-02-20T04:32:33Z",
          "2020-02-21T04:03:34Z",
          "2020-02-21T22:43:46Z",
          "2020-02-29T02:10:45Z",
          "2020-03-03T01:55:29Z",
          "2020-06-21T02:24:14Z",
          "2020-06-24T00:17:44Z",
          "2020-07-04T19:25:54Z",
          "2020-07-19T19:30:10Z",
          "2020-08-04T03:57:59Z",
          "2020-08-04T22:46:52Z",
          "2020-08-13T13:30:08Z",
          "2020-08-17T19:56:13Z",
          "2020-08-18T22:31:25Z",
          "2020-08-20T20:44:15Z",
          "2020-08-28T22:42:26Z",
          "2020-08-30T15:59:49Z",
          "2020-09-01T19:54:33Z",
          "2020-09-02T18:54:58Z",
          "2020-09-03T16:59:53Z",
          "2020-09-04T00:59:45Z",
          "2020-09-09T01:39:01Z"
         ],
         "xaxis": "x",
         "y": [
          0.092,
          0.088,
          0.082,
          0.09,
          0.083,
          0.094,
          0.084,
          0.081,
          0.069,
          0.077,
          0.096,
          0.093,
          0.1,
          0.088,
          0.084,
          0.089,
          0.11,
          0.088,
          0.113,
          0.095,
          0.101,
          0.108,
          0.092,
          0.095,
          0.093,
          0.107,
          0.103,
          0.086,
          0.099,
          0.104,
          0.096,
          0.099,
          0.091,
          0.089,
          0.095,
          0.106,
          0.064,
          0.089,
          0.064,
          0.1,
          0.095,
          0.105,
          0.105,
          0.079,
          0.061,
          0.059,
          0.098,
          0.083
         ],
         "yaxis": "y"
        },
        {
         "customdata": [
          [
           "Joe Biden holds first 2020 campaign rally"
          ],
          [
           "Joe Biden speaks during a campaign rally in Philadelphia"
          ],
          [
           "Full Speech: Biden Condemns Trump’s Rhetoric And White Nationalism | NBC News"
          ],
          [
           "Full speech: Joe Biden speaks at the Iowa Democratic Wing Ding"
          ],
          [
           "Joe Biden's Full Remarks in Reno, Nevada | Joe Biden for President"
          ],
          [
           "Joe Biden Speaks in Scranton, Pennsylvania"
          ],
          [
           "CAMPAIGN 2020: Joe Biden's full 2020 King Day at the Dome speech"
          ],
          [
           "I'm about to take the stage from California. Tune in to watch live:"
          ],
          [
           "I'm about to take the stage from Mississippi. Tune in to watch live:"
          ],
          [
           "I'm about to take the stage from Philadelphia. Tune in to watch live:"
          ],
          [
           "Joe Biden delivers remarks on the impact of the Coronavirus on Young Americans. Tune in:"
          ],
          [
           "Joe Biden Delivers Remarks on Implementation & Oversight of CARES Act | Joe Biden For President"
          ],
          [
           "Joe Biden remarks on Protests"
          ],
          [
           "Vice President Biden Delivers Remarks On Having a Safer Economic Reopening"
          ],
          [
           "Vice President Biden's Remarks at Global Pride | Joe Biden For President"
          ],
          [
           "Vice President Biden delivers remarks on Trump’s failure to protect the American people"
          ],
          [
           "Joe Biden Delivers Remarks On His “Build Back Better” Plan For An Equitable Clean Energy Future"
          ],
          [
           "Joe Biden Unveils $775 Billion ‘Build Back Better’ Plan to Boost Child and Elderly Care"
          ],
          [
           "Joe Biden introduces Kamala Harris as running mate"
          ],
          [
           "Joe Biden speaks at the 2020 Democratic National Convention | Full Speech"
          ],
          [
           "FULL VIDEO: Joe Biden delivers remarks on violence across America"
          ],
          [
           "FULL VIDEO: Joe Biden makes remarks on education and takes questions in Wilmington, Delaware"
          ],
          [
           "Joe Biden's full campaign speech HD 8/31/2020"
          ]
         ],
         "hovertemplate": "speaker=biden<br>date=%{x}<br>neg=%{y}<br>len=%{marker.size}<br>title=%{customdata[0]}<extra></extra>",
         "legendgroup": "biden",
         "marker": {
          "color": "#EF553B",
          "size": [
           21023,
           21153,
           15846,
           5090,
           13126,
           36968,
           4197,
           8226,
           11705,
           6974,
           27963,
           23838,
           16234,
           12059,
           795,
           32807,
           16178,
           17990,
           24616,
           18179,
           17602,
           33886,
           16834
          ],
          "sizemode": "area",
          "sizeref": 191.1475,
          "symbol": "circle"
         },
         "mode": "markers",
         "name": "biden",
         "orientation": "v",
         "showlegend": true,
         "type": "scatter",
         "x": [
          "2019-04-29T21:04:46Z",
          "2019-05-18T19:53:18Z",
          "2019-08-07T21:43:53Z",
          "2019-08-19T12:45:01Z",
          "2019-10-03T20:05:37Z",
          "2019-10-23T16:04:10Z",
          "2020-01-21T02:18:03Z",
          "2020-03-04T03:52:43Z",
          "2020-03-08T21:31:27Z",
          "2020-03-11T03:04:25Z",
          "2020-03-25T18:11:44Z",
          "2020-04-02T21:16:46Z",
          "2020-06-02T16:10:27Z",
          "2020-06-17T18:54:20Z",
          "2020-06-29T19:46:46Z",
          "2020-06-30T18:07:35Z",
          "2020-07-14T18:58:46Z",
          "2020-07-21T18:32:25Z",
          "2020-08-12T22:29:45Z",
          "2020-08-21T03:33:24Z",
          "2020-08-31T18:11:49Z",
          "2020-09-02T18:08:28Z",
          "2020-09-03T04:25:23Z"
         ],
         "xaxis": "x",
         "y": [
          0.068,
          0.079,
          0.132,
          0.103,
          0.144,
          0.071,
          0.108,
          0.076,
          0.048,
          0.053,
          0.057,
          0.076,
          0.141,
          0.116,
          0.124,
          0.075,
          0.093,
          0.064,
          0.088,
          0.101,
          0.136,
          0.067,
          0.142
         ],
         "yaxis": "y"
        },
        {
         "customdata": [
          [
           "Full speech: Kamala Harris | Iowa Democrats’ Hall of Fame event (6/19)"
          ],
          [
           "Democratic VP candidate Kamala Harris speaks at Joe Biden event"
          ],
          [
           "WATCH: Kamala Harris’ full speech at the 2020 Democratic National Convention | 2020 DNC Night 3"
          ],
          [
           "Kamala Harris to discuss Trump's response to coronavirus"
          ]
         ],
         "hovertemplate": "speaker=harris<br>date=%{x}<br>neg=%{y}<br>len=%{marker.size}<br>title=%{customdata[0]}<extra></extra>",
         "legendgroup": "harris",
         "marker": {
          "color": "#00cc96",
          "size": [
           3766,
           11234,
           11349,
           13430
          ],
          "sizemode": "area",
          "sizeref": 191.1475,
          "symbol": "circle"
         },
         "mode": "markers",
         "name": "harris",
         "orientation": "v",
         "showlegend": true,
         "type": "scatter",
         "x": [
          "2019-06-10T03:00:01Z",
          "2020-08-12T22:17:49Z",
          "2020-08-20T03:41:13Z",
          "2020-08-27T19:30:31Z"
         ],
         "xaxis": "x",
         "y": [
          0.084,
          0.082,
          0.081,
          0.129
         ],
         "yaxis": "y"
        },
        {
         "customdata": [
          [
           "VP Mike Pence introduces President Trump at 2020 re-election rally"
          ],
          [
           "AMERICA IS BACK: VP Pence amps up crowd during Trump rally"
          ],
          [
           "\"HE'S THE REAL DEAL\": VP Pence speaks at Trump rally in Fayetteville, NC"
          ],
          [
           "VP Pence FULL Remarks At 2019 IAC Conference  10-21-2019"
          ],
          [
           "Vice President Mike Pence speaks at the Trump rally in Hershey"
          ],
          [
           "VP Pence OpenING Speech First 2020 KAG Rally | Toledo OH | 1-09-20 20"
          ],
          [
           "Vice President Mike Pence speaks at a Make America Great Again Rally in Tulsa, OK | FULL SPEECH"
          ],
          [
           "JUST IN: Pence responds to Kamala Harris being chosen as Joe Biden's 2020 running mate"
          ],
          [
           "WATCH LIVE: Mike Pence speaks at Trump campaign event in Michigan"
          ],
          [
           "Pence campaigns in Wisconsin | FULL REMARKS"
          ]
         ],
         "hovertemplate": "speaker=pence<br>date=%{x}<br>neg=%{y}<br>len=%{marker.size}<br>title=%{customdata[0]}<extra></extra>",
         "legendgroup": "pence",
         "marker": {
          "color": "#ab63fa",
          "size": [
           6944,
           6599,
           7554,
           13688,
           8182,
           8391,
           10639,
           26163,
           26163,
           25837
          ],
          "sizemode": "area",
          "sizeref": 191.1475,
          "symbol": "circle"
         },
         "mode": "markers",
         "name": "pence",
         "orientation": "v",
         "showlegend": true,
         "type": "scatter",
         "x": [
          "2019-06-19T01:03:06Z",
          "2019-07-17T23:25:05Z",
          "2019-09-09T23:20:41Z",
          "2019-10-22T05:26:53Z",
          "2019-12-11T12:41:31Z",
          "2020-01-15T03:38:47Z",
          "2020-06-21T01:40:09Z",
          "2020-08-11T23:53:58Z",
          "2020-08-28T22:41:29Z",
          "2020-09-14T17:12:58Z"
         ],
         "xaxis": "x",
         "y": [
          0.046,
          0.032,
          0.031,
          0.011,
          0.028,
          0.049,
          0.041,
          0.023,
          0.023,
          0.056
         ],
         "yaxis": "y"
        }
       ],
       "layout": {
        "legend": {
         "itemsizing": "constant",
         "title": {
          "text": "speaker"
         },
         "tracegroupgap": 0
        },
        "margin": {
         "t": 60
        },
        "template": {
         "data": {
          "bar": [
           {
            "error_x": {
             "color": "#2a3f5f"
            },
            "error_y": {
             "color": "#2a3f5f"
            },
            "marker": {
             "line": {
              "color": "#E5ECF6",
              "width": 0.5
             }
            },
            "type": "bar"
           }
          ],
          "barpolar": [
           {
            "marker": {
             "line": {
              "color": "#E5ECF6",
              "width": 0.5
             }
            },
            "type": "barpolar"
           }
          ],
          "carpet": [
           {
            "aaxis": {
             "endlinecolor": "#2a3f5f",
             "gridcolor": "white",
             "linecolor": "white",
             "minorgridcolor": "white",
             "startlinecolor": "#2a3f5f"
            },
            "baxis": {
             "endlinecolor": "#2a3f5f",
             "gridcolor": "white",
             "linecolor": "white",
             "minorgridcolor": "white",
             "startlinecolor": "#2a3f5f"
            },
            "type": "carpet"
           }
          ],
          "choropleth": [
           {
            "colorbar": {
             "outlinewidth": 0,
             "ticks": ""
            },
            "type": "choropleth"
           }
          ],
          "contour": [
           {
            "colorbar": {
             "outlinewidth": 0,
             "ticks": ""
            },
            "colorscale": [
             [
              0,
              "#0d0887"
             ],
             [
              0.1111111111111111,
              "#46039f"
             ],
             [
              0.2222222222222222,
              "#7201a8"
             ],
             [
              0.3333333333333333,
              "#9c179e"
             ],
             [
              0.4444444444444444,
              "#bd3786"
             ],
             [
              0.5555555555555556,
              "#d8576b"
             ],
             [
              0.6666666666666666,
              "#ed7953"
             ],
             [
              0.7777777777777778,
              "#fb9f3a"
             ],
             [
              0.8888888888888888,
              "#fdca26"
             ],
             [
              1,
              "#f0f921"
             ]
            ],
            "type": "contour"
           }
          ],
          "contourcarpet": [
           {
            "colorbar": {
             "outlinewidth": 0,
             "ticks": ""
            },
            "type": "contourcarpet"
           }
          ],
          "heatmap": [
           {
            "colorbar": {
             "outlinewidth": 0,
             "ticks": ""
            },
            "colorscale": [
             [
              0,
              "#0d0887"
             ],
             [
              0.1111111111111111,
              "#46039f"
             ],
             [
              0.2222222222222222,
              "#7201a8"
             ],
             [
              0.3333333333333333,
              "#9c179e"
             ],
             [
              0.4444444444444444,
              "#bd3786"
             ],
             [
              0.5555555555555556,
              "#d8576b"
             ],
             [
              0.6666666666666666,
              "#ed7953"
             ],
             [
              0.7777777777777778,
              "#fb9f3a"
             ],
             [
              0.8888888888888888,
              "#fdca26"
             ],
             [
              1,
              "#f0f921"
             ]
            ],
            "type": "heatmap"
           }
          ],
          "heatmapgl": [
           {
            "colorbar": {
             "outlinewidth": 0,
             "ticks": ""
            },
            "colorscale": [
             [
              0,
              "#0d0887"
             ],
             [
              0.1111111111111111,
              "#46039f"
             ],
             [
              0.2222222222222222,
              "#7201a8"
             ],
             [
              0.3333333333333333,
              "#9c179e"
             ],
             [
              0.4444444444444444,
              "#bd3786"
             ],
             [
              0.5555555555555556,
              "#d8576b"
             ],
             [
              0.6666666666666666,
              "#ed7953"
             ],
             [
              0.7777777777777778,
              "#fb9f3a"
             ],
             [
              0.8888888888888888,
              "#fdca26"
             ],
             [
              1,
              "#f0f921"
             ]
            ],
            "type": "heatmapgl"
           }
          ],
          "histogram": [
           {
            "marker": {
             "colorbar": {
              "outlinewidth": 0,
              "ticks": ""
             }
            },
            "type": "histogram"
           }
          ],
          "histogram2d": [
           {
            "colorbar": {
             "outlinewidth": 0,
             "ticks": ""
            },
            "colorscale": [
             [
              0,
              "#0d0887"
             ],
             [
              0.1111111111111111,
              "#46039f"
             ],
             [
              0.2222222222222222,
              "#7201a8"
             ],
             [
              0.3333333333333333,
              "#9c179e"
             ],
             [
              0.4444444444444444,
              "#bd3786"
             ],
             [
              0.5555555555555556,
              "#d8576b"
             ],
             [
              0.6666666666666666,
              "#ed7953"
             ],
             [
              0.7777777777777778,
              "#fb9f3a"
             ],
             [
              0.8888888888888888,
              "#fdca26"
             ],
             [
              1,
              "#f0f921"
             ]
            ],
            "type": "histogram2d"
           }
          ],
          "histogram2dcontour": [
           {
            "colorbar": {
             "outlinewidth": 0,
             "ticks": ""
            },
            "colorscale": [
             [
              0,
              "#0d0887"
             ],
             [
              0.1111111111111111,
              "#46039f"
             ],
             [
              0.2222222222222222,
              "#7201a8"
             ],
             [
              0.3333333333333333,
              "#9c179e"
             ],
             [
              0.4444444444444444,
              "#bd3786"
             ],
             [
              0.5555555555555556,
              "#d8576b"
             ],
             [
              0.6666666666666666,
              "#ed7953"
             ],
             [
              0.7777777777777778,
              "#fb9f3a"
             ],
             [
              0.8888888888888888,
              "#fdca26"
             ],
             [
              1,
              "#f0f921"
             ]
            ],
            "type": "histogram2dcontour"
           }
          ],
          "mesh3d": [
           {
            "colorbar": {
             "outlinewidth": 0,
             "ticks": ""
            },
            "type": "mesh3d"
           }
          ],
          "parcoords": [
           {
            "line": {
             "colorbar": {
              "outlinewidth": 0,
              "ticks": ""
             }
            },
            "type": "parcoords"
           }
          ],
          "pie": [
           {
            "automargin": true,
            "type": "pie"
           }
          ],
          "scatter": [
           {
            "marker": {
             "colorbar": {
              "outlinewidth": 0,
              "ticks": ""
             }
            },
            "type": "scatter"
           }
          ],
          "scatter3d": [
           {
            "line": {
             "colorbar": {
              "outlinewidth": 0,
              "ticks": ""
             }
            },
            "marker": {
             "colorbar": {
              "outlinewidth": 0,
              "ticks": ""
             }
            },
            "type": "scatter3d"
           }
          ],
          "scattercarpet": [
           {
            "marker": {
             "colorbar": {
              "outlinewidth": 0,
              "ticks": ""
             }
            },
            "type": "scattercarpet"
           }
          ],
          "scattergeo": [
           {
            "marker": {
             "colorbar": {
              "outlinewidth": 0,
              "ticks": ""
             }
            },
            "type": "scattergeo"
           }
          ],
          "scattergl": [
           {
            "marker": {
             "colorbar": {
              "outlinewidth": 0,
              "ticks": ""
             }
            },
            "type": "scattergl"
           }
          ],
          "scattermapbox": [
           {
            "marker": {
             "colorbar": {
              "outlinewidth": 0,
              "ticks": ""
             }
            },
            "type": "scattermapbox"
           }
          ],
          "scatterpolar": [
           {
            "marker": {
             "colorbar": {
              "outlinewidth": 0,
              "ticks": ""
             }
            },
            "type": "scatterpolar"
           }
          ],
          "scatterpolargl": [
           {
            "marker": {
             "colorbar": {
              "outlinewidth": 0,
              "ticks": ""
             }
            },
            "type": "scatterpolargl"
           }
          ],
          "scatterternary": [
           {
            "marker": {
             "colorbar": {
              "outlinewidth": 0,
              "ticks": ""
             }
            },
            "type": "scatterternary"
           }
          ],
          "surface": [
           {
            "colorbar": {
             "outlinewidth": 0,
             "ticks": ""
            },
            "colorscale": [
             [
              0,
              "#0d0887"
             ],
             [
              0.1111111111111111,
              "#46039f"
             ],
             [
              0.2222222222222222,
              "#7201a8"
             ],
             [
              0.3333333333333333,
              "#9c179e"
             ],
             [
              0.4444444444444444,
              "#bd3786"
             ],
             [
              0.5555555555555556,
              "#d8576b"
             ],
             [
              0.6666666666666666,
              "#ed7953"
             ],
             [
              0.7777777777777778,
              "#fb9f3a"
             ],
             [
              0.8888888888888888,
              "#fdca26"
             ],
             [
              1,
              "#f0f921"
             ]
            ],
            "type": "surface"
           }
          ],
          "table": [
           {
            "cells": {
             "fill": {
              "color": "#EBF0F8"
             },
             "line": {
              "color": "white"
             }
            },
            "header": {
             "fill": {
              "color": "#C8D4E3"
             },
             "line": {
              "color": "white"
             }
            },
            "type": "table"
           }
          ]
         },
         "layout": {
          "annotationdefaults": {
           "arrowcolor": "#2a3f5f",
           "arrowhead": 0,
           "arrowwidth": 1
          },
          "coloraxis": {
           "colorbar": {
            "outlinewidth": 0,
            "ticks": ""
           }
          },
          "colorscale": {
           "diverging": [
            [
             0,
             "#8e0152"
            ],
            [
             0.1,
             "#c51b7d"
            ],
            [
             0.2,
             "#de77ae"
            ],
            [
             0.3,
             "#f1b6da"
            ],
            [
             0.4,
             "#fde0ef"
            ],
            [
             0.5,
             "#f7f7f7"
            ],
            [
             0.6,
             "#e6f5d0"
            ],
            [
             0.7,
             "#b8e186"
            ],
            [
             0.8,
             "#7fbc41"
            ],
            [
             0.9,
             "#4d9221"
            ],
            [
             1,
             "#276419"
            ]
           ],
           "sequential": [
            [
             0,
             "#0d0887"
            ],
            [
             0.1111111111111111,
             "#46039f"
            ],
            [
             0.2222222222222222,
             "#7201a8"
            ],
            [
             0.3333333333333333,
             "#9c179e"
            ],
            [
             0.4444444444444444,
             "#bd3786"
            ],
            [
             0.5555555555555556,
             "#d8576b"
            ],
            [
             0.6666666666666666,
             "#ed7953"
            ],
            [
             0.7777777777777778,
             "#fb9f3a"
            ],
            [
             0.8888888888888888,
             "#fdca26"
            ],
            [
             1,
             "#f0f921"
            ]
           ],
           "sequentialminus": [
            [
             0,
             "#0d0887"
            ],
            [
             0.1111111111111111,
             "#46039f"
            ],
            [
             0.2222222222222222,
             "#7201a8"
            ],
            [
             0.3333333333333333,
             "#9c179e"
            ],
            [
             0.4444444444444444,
             "#bd3786"
            ],
            [
             0.5555555555555556,
             "#d8576b"
            ],
            [
             0.6666666666666666,
             "#ed7953"
            ],
            [
             0.7777777777777778,
             "#fb9f3a"
            ],
            [
             0.8888888888888888,
             "#fdca26"
            ],
            [
             1,
             "#f0f921"
            ]
           ]
          },
          "colorway": [
           "#636efa",
           "#EF553B",
           "#00cc96",
           "#ab63fa",
           "#FFA15A",
           "#19d3f3",
           "#FF6692",
           "#B6E880",
           "#FF97FF",
           "#FECB52"
          ],
          "font": {
           "color": "#2a3f5f"
          },
          "geo": {
           "bgcolor": "white",
           "lakecolor": "white",
           "landcolor": "#E5ECF6",
           "showlakes": true,
           "showland": true,
           "subunitcolor": "white"
          },
          "hoverlabel": {
           "align": "left"
          },
          "hovermode": "closest",
          "mapbox": {
           "style": "light"
          },
          "paper_bgcolor": "white",
          "plot_bgcolor": "#E5ECF6",
          "polar": {
           "angularaxis": {
            "gridcolor": "white",
            "linecolor": "white",
            "ticks": ""
           },
           "bgcolor": "#E5ECF6",
           "radialaxis": {
            "gridcolor": "white",
            "linecolor": "white",
            "ticks": ""
           }
          },
          "scene": {
           "xaxis": {
            "backgroundcolor": "#E5ECF6",
            "gridcolor": "white",
            "gridwidth": 2,
            "linecolor": "white",
            "showbackground": true,
            "ticks": "",
            "zerolinecolor": "white"
           },
           "yaxis": {
            "backgroundcolor": "#E5ECF6",
            "gridcolor": "white",
            "gridwidth": 2,
            "linecolor": "white",
            "showbackground": true,
            "ticks": "",
            "zerolinecolor": "white"
           },
           "zaxis": {
            "backgroundcolor": "#E5ECF6",
            "gridcolor": "white",
            "gridwidth": 2,
            "linecolor": "white",
            "showbackground": true,
            "ticks": "",
            "zerolinecolor": "white"
           }
          },
          "shapedefaults": {
           "line": {
            "color": "#2a3f5f"
           }
          },
          "ternary": {
           "aaxis": {
            "gridcolor": "white",
            "linecolor": "white",
            "ticks": ""
           },
           "baxis": {
            "gridcolor": "white",
            "linecolor": "white",
            "ticks": ""
           },
           "bgcolor": "#E5ECF6",
           "caxis": {
            "gridcolor": "white",
            "linecolor": "white",
            "ticks": ""
           }
          },
          "title": {
           "x": 0.05
          },
          "xaxis": {
           "automargin": true,
           "gridcolor": "white",
           "linecolor": "white",
           "ticks": "",
           "title": {
            "standoff": 15
           },
           "zerolinecolor": "white",
           "zerolinewidth": 2
          },
          "yaxis": {
           "automargin": true,
           "gridcolor": "white",
           "linecolor": "white",
           "ticks": "",
           "title": {
            "standoff": 15
           },
           "zerolinecolor": "white",
           "zerolinewidth": 2
          }
         }
        },
        "xaxis": {
         "anchor": "y",
         "domain": [
          0,
          1
         ],
         "title": {
          "text": "date"
         }
        },
        "yaxis": {
         "anchor": "x",
         "domain": [
          0,
          1
         ],
         "title": {
          "text": "neg"
         }
        }
       }
      },
      "text/html": [
       "<div>\n",
       "        \n",
       "        \n",
       "            <div id=\"0eb46b9b-cc71-40ea-bd66-1edf002c3755\" class=\"plotly-graph-div\" style=\"height:525px; width:100%;\"></div>\n",
       "            <script type=\"text/javascript\">\n",
       "                require([\"plotly\"], function(Plotly) {\n",
       "                    window.PLOTLYENV=window.PLOTLYENV || {};\n",
       "                    \n",
       "                if (document.getElementById(\"0eb46b9b-cc71-40ea-bd66-1edf002c3755\")) {\n",
       "                    Plotly.newPlot(\n",
       "                        '0eb46b9b-cc71-40ea-bd66-1edf002c3755',\n",
       "                        [{\"customdata\": [[\"Watch Live: President Trump's MAGA Rally in Green Bay (Full) | NBC News\"], [\"FULL RALLY: President Trump in Panama City Beach, Florida\"], [\"FULL RALLY: President Trump in Montoursville, Pennsylvania\"], [\"TRUMP 2020: President Trump Re-Election Campaign Rally - FULL SPEECH\"], [\"President Trump COMPLETE REMARKS at July 4th \\\"Salute to America\\\" (C-SPAN)\"], [\"FULL RALLY: President Trump Rally in Greenville, North Carolina\"], [\"FULL RALLY: President Trump on Democrats, Economy in Cincinnati, Ohio\"], [\"Pres. Trump New Hampshire Rally in Manchester | ABC News Live Coverage\"], [\"Watch LIVE President Trump campaign rally in Fayetteville, North Carolina | ABC News\"], [\"FULL SPEECH President Donald Trump Rally - Rio Rancho, NM. 2019\"], [\"FULL RALLY: President Trump rally in Minneapolis, MN\"], [\"FULL TRUMP RALLY: President Trump holds campaign rally in Dallas, Texas\"], [\"Watch Live: President Donald Trump Speaks At Mississippi Campaign Rally | NBC News\"], [\"FULL RALLY: President Trump in Lexington, Kentucky\"], [\"Watch Live: President Donald Trump Speaks At A Keep America Great Rally In Louisiana | NBC News\"], [\"FULL RALLY: President Trump Monroe, Louisiana\"], [\"FULL RALLY: President Trump in Bossier City, Louisiana\"], [\"KEEP AMERICA GREAT: President Trump FULL RALLY in Florida\"], [\"President Donald Trump speaks at his Hershey rally (full speech)\"], [\"Full Video: President Trump speaks at campaign rally in Battle Creek\"], [\"FULL RALLY: President Trump talks impeachment and more in Toledo, Ohio\"], [\"Donald Trump hosts \\\"Keep America Great\\\" rally in Milwaukee, Wis.\"], [\"Trump Rally in Wildwood New Jersey, Jan. 28, 2020, full speech\"], [\"LIVE: President Trump in Des Moines, IA\"], [\"LIVE: State of the Union Address\"], [\"LIVE: President Trump in Manchester, NH\"], [\"LIVE: President Trump in Phoenix, AZ\"], [\"LIVE: President Trump in Colorado Springs, CO\"], [\"LIVE: President Trump in Las Vegas, NV\"], [\"LIVE: President Trump in North Charleston, SC\"], [\"LIVE: President Trump in Charlotte, NC\"], [\"LIVE: President Trump in Tulsa, Oklahoma\"], [\"Trump addresses crowd of young Americans at Arizona rally | FULL\"], [\"President Trump's full speech at Mount Rushmore | USA TODAY\"], [\"President Trump goes one-on-one with Chris Wallace | Full Interview\"], [\"AXIOS on HBO: President Trump Exclusive Interview (Full Episode) | HBO\"], [\"Trump offers Lebanon assistance following explosion, touts' coronavirus response | FULL\"], [\"Trump slams Kamala Harris, makes 2020 predictions | Full Interview\"], [\"WATCH LIVE: President Trump comes to Minnesota for Mankato campaign stop\"], [\"WATCH: President Trump in Yuma, AZ\"], [\"Trump Delivers Remarks at Mariotti Building Products in Old Forge, Pennsylvania\"], [\"President Donald Trump's Full Republican National Convention Speech | NBC10 Philadelphia\"], [\"President Trump's Full RNC 2020 Speech | NowThis\"], [\"Jacob Blake protests: Trump announces funding for Kenosha police, businesses during visit | FULL\"], [\"President Trump designates Wilmington, NC as the first American World War II Heritage City | FULL\"], [\"FULL: Breaking down the Trump \\\"hot-mic\\\" tape with David Corn\"], [\"Trump delivers campaign remarks at Arnold Palmer Regional Airport\"], [\"Raw Video: President Trump Full Speech at Rally in Winston-Salem, NC (High Quality) 9/8/20\"]], \"hovertemplate\": \"speaker=trump<br>date=%{x}<br>neg=%{y}<br>len=%{marker.size}<br>title=%{customdata[0]}<extra></extra>\", \"legendgroup\": \"trump\", \"marker\": {\"color\": \"#636efa\", \"size\": [51179, 58321, 39271, 41933, 23723, 59158, 46163, 54366, 53748, 61159, 63730, 56937, 55933, 50291, 46373, 43798, 43215, 55954, 53329, 76459, 63636, 55479, 39858, 63134, 37435, 36857, 49456, 66439, 75031, 53812, 44276, 66431, 61779, 20819, 40044, 46260, 28871, 39521, 28871, 34340, 55968, 39917, 39811, 45799, 11722, 15156, 74826, 69410], \"sizemode\": \"area\", \"sizeref\": 191.1475, \"symbol\": \"circle\"}, \"mode\": \"markers\", \"name\": \"trump\", \"orientation\": \"v\", \"showlegend\": true, \"type\": \"scatter\", \"x\": [\"2019-04-28T02:07:41Z\", \"2019-05-09T03:55:17Z\", \"2019-05-21T00:39:36Z\", \"2019-06-19T01:48:35Z\", \"2019-07-05T15:19:57Z\", \"2019-07-18T01:09:59Z\", \"2019-08-02T01:11:44Z\", \"2019-08-16T01:28:24Z\", \"2019-09-10T00:54:02Z\", \"2019-09-20T02:59:09Z\", \"2019-10-11T03:05:55Z\", \"2019-10-18T02:33:13Z\", \"2019-11-02T02:18:54Z\", \"2019-11-05T01:55:14Z\", \"2019-11-07T03:09:45Z\", \"2019-11-07T03:13:40Z\", \"2019-11-15T04:19:23Z\", \"2019-11-27T02:14:29Z\", \"2019-12-11T15:33:15Z\", \"2019-12-20T21:48:33Z\", \"2020-01-10T02:26:58Z\", \"2020-01-15T02:45:40Z\", \"2020-01-29T06:59:18Z\", \"2020-01-31T03:12:02Z\", \"2020-02-05T08:14:03Z\", \"2020-02-11T01:38:10Z\", \"2020-02-20T04:32:33Z\", \"2020-02-21T04:03:34Z\", \"2020-02-21T22:43:46Z\", \"2020-02-29T02:10:45Z\", \"2020-03-03T01:55:29Z\", \"2020-06-21T02:24:14Z\", \"2020-06-24T00:17:44Z\", \"2020-07-04T19:25:54Z\", \"2020-07-19T19:30:10Z\", \"2020-08-04T03:57:59Z\", \"2020-08-04T22:46:52Z\", \"2020-08-13T13:30:08Z\", \"2020-08-17T19:56:13Z\", \"2020-08-18T22:31:25Z\", \"2020-08-20T20:44:15Z\", \"2020-08-28T22:42:26Z\", \"2020-08-30T15:59:49Z\", \"2020-09-01T19:54:33Z\", \"2020-09-02T18:54:58Z\", \"2020-09-03T16:59:53Z\", \"2020-09-04T00:59:45Z\", \"2020-09-09T01:39:01Z\"], \"xaxis\": \"x\", \"y\": [0.092, 0.088, 0.082, 0.09, 0.083, 0.094, 0.084, 0.081, 0.069, 0.077, 0.096, 0.093, 0.1, 0.088, 0.084, 0.089, 0.11, 0.088, 0.113, 0.095, 0.101, 0.108, 0.092, 0.095, 0.093, 0.107, 0.103, 0.086, 0.099, 0.104, 0.096, 0.099, 0.091, 0.089, 0.095, 0.106, 0.064, 0.089, 0.064, 0.1, 0.095, 0.105, 0.105, 0.079, 0.061, 0.059, 0.098, 0.083], \"yaxis\": \"y\"}, {\"customdata\": [[\"Joe Biden holds first 2020 campaign rally\"], [\"Joe Biden speaks during a campaign rally in Philadelphia\"], [\"Full Speech: Biden Condemns Trump\\u2019s Rhetoric And White Nationalism | NBC News\"], [\"Full speech: Joe Biden speaks at the Iowa Democratic Wing Ding\"], [\"Joe Biden's Full Remarks in Reno, Nevada | Joe Biden for President\"], [\"Joe Biden Speaks in Scranton, Pennsylvania\"], [\"CAMPAIGN 2020: Joe Biden's full 2020 King Day at the Dome speech\"], [\"I'm about to take the stage from California. Tune in to watch live:\"], [\"I'm about to take the stage from Mississippi. Tune in to watch live:\"], [\"I'm about to take the stage from Philadelphia. Tune in to watch live:\"], [\"Joe Biden delivers remarks on the impact of the Coronavirus on Young Americans. Tune in:\"], [\"Joe Biden Delivers Remarks on Implementation & Oversight of CARES Act | Joe Biden For President\"], [\"Joe Biden remarks on Protests\"], [\"Vice President Biden Delivers Remarks On Having a Safer Economic Reopening\"], [\"Vice President Biden's Remarks at Global Pride | Joe Biden For President\"], [\"Vice President Biden delivers remarks on Trump\\u2019s failure to protect the American people\"], [\"Joe Biden Delivers Remarks On His \\u201cBuild Back Better\\u201d Plan For An Equitable Clean Energy Future\"], [\"Joe Biden Unveils $775 Billion \\u2018Build Back Better\\u2019 Plan to Boost Child and Elderly Care\"], [\"Joe Biden introduces Kamala Harris as running mate\"], [\"Joe Biden speaks at the 2020 Democratic National Convention | Full Speech\"], [\"FULL VIDEO: Joe Biden delivers remarks on violence across America\"], [\"FULL VIDEO: Joe Biden makes remarks on education and takes questions in Wilmington, Delaware\"], [\"Joe Biden's full campaign speech HD 8/31/2020\"]], \"hovertemplate\": \"speaker=biden<br>date=%{x}<br>neg=%{y}<br>len=%{marker.size}<br>title=%{customdata[0]}<extra></extra>\", \"legendgroup\": \"biden\", \"marker\": {\"color\": \"#EF553B\", \"size\": [21023, 21153, 15846, 5090, 13126, 36968, 4197, 8226, 11705, 6974, 27963, 23838, 16234, 12059, 795, 32807, 16178, 17990, 24616, 18179, 17602, 33886, 16834], \"sizemode\": \"area\", \"sizeref\": 191.1475, \"symbol\": \"circle\"}, \"mode\": \"markers\", \"name\": \"biden\", \"orientation\": \"v\", \"showlegend\": true, \"type\": \"scatter\", \"x\": [\"2019-04-29T21:04:46Z\", \"2019-05-18T19:53:18Z\", \"2019-08-07T21:43:53Z\", \"2019-08-19T12:45:01Z\", \"2019-10-03T20:05:37Z\", \"2019-10-23T16:04:10Z\", \"2020-01-21T02:18:03Z\", \"2020-03-04T03:52:43Z\", \"2020-03-08T21:31:27Z\", \"2020-03-11T03:04:25Z\", \"2020-03-25T18:11:44Z\", \"2020-04-02T21:16:46Z\", \"2020-06-02T16:10:27Z\", \"2020-06-17T18:54:20Z\", \"2020-06-29T19:46:46Z\", \"2020-06-30T18:07:35Z\", \"2020-07-14T18:58:46Z\", \"2020-07-21T18:32:25Z\", \"2020-08-12T22:29:45Z\", \"2020-08-21T03:33:24Z\", \"2020-08-31T18:11:49Z\", \"2020-09-02T18:08:28Z\", \"2020-09-03T04:25:23Z\"], \"xaxis\": \"x\", \"y\": [0.068, 0.079, 0.132, 0.103, 0.144, 0.071, 0.108, 0.076, 0.048, 0.053, 0.057, 0.076, 0.141, 0.116, 0.124, 0.075, 0.093, 0.064, 0.088, 0.101, 0.136, 0.067, 0.142], \"yaxis\": \"y\"}, {\"customdata\": [[\"Full speech: Kamala Harris | Iowa Democrats\\u2019 Hall of Fame event (6/19)\"], [\"Democratic VP candidate Kamala Harris speaks at Joe Biden event\"], [\"WATCH: Kamala Harris\\u2019 full speech at the 2020 Democratic National Convention | 2020 DNC Night 3\"], [\"Kamala Harris to discuss Trump's response to coronavirus\"]], \"hovertemplate\": \"speaker=harris<br>date=%{x}<br>neg=%{y}<br>len=%{marker.size}<br>title=%{customdata[0]}<extra></extra>\", \"legendgroup\": \"harris\", \"marker\": {\"color\": \"#00cc96\", \"size\": [3766, 11234, 11349, 13430], \"sizemode\": \"area\", \"sizeref\": 191.1475, \"symbol\": \"circle\"}, \"mode\": \"markers\", \"name\": \"harris\", \"orientation\": \"v\", \"showlegend\": true, \"type\": \"scatter\", \"x\": [\"2019-06-10T03:00:01Z\", \"2020-08-12T22:17:49Z\", \"2020-08-20T03:41:13Z\", \"2020-08-27T19:30:31Z\"], \"xaxis\": \"x\", \"y\": [0.084, 0.082, 0.081, 0.129], \"yaxis\": \"y\"}, {\"customdata\": [[\"VP Mike Pence introduces President Trump at 2020 re-election rally\"], [\"AMERICA IS BACK: VP Pence amps up crowd during Trump rally\"], [\"\\\"HE'S THE REAL DEAL\\\": VP Pence speaks at Trump rally in Fayetteville, NC\"], [\"VP Pence FULL Remarks At 2019 IAC Conference  10-21-2019\"], [\"Vice President Mike Pence speaks at the Trump rally in Hershey\"], [\"VP Pence OpenING Speech First 2020 KAG Rally | Toledo OH | 1-09-20 20\"], [\"Vice President Mike Pence speaks at a Make America Great Again Rally in Tulsa, OK | FULL SPEECH\"], [\"JUST IN: Pence responds to Kamala Harris being chosen as Joe Biden's 2020 running mate\"], [\"WATCH LIVE: Mike Pence speaks at Trump campaign event in Michigan\"], [\"Pence campaigns in Wisconsin | FULL REMARKS\"]], \"hovertemplate\": \"speaker=pence<br>date=%{x}<br>neg=%{y}<br>len=%{marker.size}<br>title=%{customdata[0]}<extra></extra>\", \"legendgroup\": \"pence\", \"marker\": {\"color\": \"#ab63fa\", \"size\": [6944, 6599, 7554, 13688, 8182, 8391, 10639, 26163, 26163, 25837], \"sizemode\": \"area\", \"sizeref\": 191.1475, \"symbol\": \"circle\"}, \"mode\": \"markers\", \"name\": \"pence\", \"orientation\": \"v\", \"showlegend\": true, \"type\": \"scatter\", \"x\": [\"2019-06-19T01:03:06Z\", \"2019-07-17T23:25:05Z\", \"2019-09-09T23:20:41Z\", \"2019-10-22T05:26:53Z\", \"2019-12-11T12:41:31Z\", \"2020-01-15T03:38:47Z\", \"2020-06-21T01:40:09Z\", \"2020-08-11T23:53:58Z\", \"2020-08-28T22:41:29Z\", \"2020-09-14T17:12:58Z\"], \"xaxis\": \"x\", \"y\": [0.046, 0.032, 0.031, 0.011, 0.028, 0.049, 0.041, 0.023, 0.023, 0.056], \"yaxis\": \"y\"}],\n",
       "                        {\"legend\": {\"itemsizing\": \"constant\", \"title\": {\"text\": \"speaker\"}, \"tracegroupgap\": 0}, \"margin\": {\"t\": 60}, \"template\": {\"data\": {\"bar\": [{\"error_x\": {\"color\": \"#2a3f5f\"}, \"error_y\": {\"color\": \"#2a3f5f\"}, \"marker\": {\"line\": {\"color\": \"#E5ECF6\", \"width\": 0.5}}, \"type\": \"bar\"}], \"barpolar\": [{\"marker\": {\"line\": {\"color\": \"#E5ECF6\", \"width\": 0.5}}, \"type\": \"barpolar\"}], \"carpet\": [{\"aaxis\": {\"endlinecolor\": \"#2a3f5f\", \"gridcolor\": \"white\", \"linecolor\": \"white\", \"minorgridcolor\": \"white\", \"startlinecolor\": \"#2a3f5f\"}, \"baxis\": {\"endlinecolor\": \"#2a3f5f\", \"gridcolor\": \"white\", \"linecolor\": \"white\", \"minorgridcolor\": \"white\", \"startlinecolor\": \"#2a3f5f\"}, \"type\": \"carpet\"}], \"choropleth\": [{\"colorbar\": {\"outlinewidth\": 0, \"ticks\": \"\"}, \"type\": \"choropleth\"}], \"contour\": [{\"colorbar\": {\"outlinewidth\": 0, \"ticks\": \"\"}, \"colorscale\": [[0.0, \"#0d0887\"], [0.1111111111111111, \"#46039f\"], [0.2222222222222222, \"#7201a8\"], [0.3333333333333333, \"#9c179e\"], [0.4444444444444444, \"#bd3786\"], [0.5555555555555556, \"#d8576b\"], [0.6666666666666666, \"#ed7953\"], [0.7777777777777778, \"#fb9f3a\"], [0.8888888888888888, \"#fdca26\"], [1.0, \"#f0f921\"]], \"type\": \"contour\"}], \"contourcarpet\": [{\"colorbar\": {\"outlinewidth\": 0, \"ticks\": \"\"}, \"type\": \"contourcarpet\"}], \"heatmap\": [{\"colorbar\": {\"outlinewidth\": 0, \"ticks\": \"\"}, \"colorscale\": [[0.0, \"#0d0887\"], [0.1111111111111111, \"#46039f\"], [0.2222222222222222, \"#7201a8\"], [0.3333333333333333, \"#9c179e\"], [0.4444444444444444, \"#bd3786\"], [0.5555555555555556, \"#d8576b\"], [0.6666666666666666, \"#ed7953\"], [0.7777777777777778, \"#fb9f3a\"], [0.8888888888888888, \"#fdca26\"], [1.0, \"#f0f921\"]], \"type\": \"heatmap\"}], \"heatmapgl\": [{\"colorbar\": {\"outlinewidth\": 0, \"ticks\": \"\"}, \"colorscale\": [[0.0, \"#0d0887\"], [0.1111111111111111, \"#46039f\"], [0.2222222222222222, \"#7201a8\"], [0.3333333333333333, \"#9c179e\"], [0.4444444444444444, \"#bd3786\"], [0.5555555555555556, \"#d8576b\"], [0.6666666666666666, \"#ed7953\"], [0.7777777777777778, \"#fb9f3a\"], [0.8888888888888888, \"#fdca26\"], [1.0, \"#f0f921\"]], \"type\": \"heatmapgl\"}], \"histogram\": [{\"marker\": {\"colorbar\": {\"outlinewidth\": 0, \"ticks\": \"\"}}, \"type\": \"histogram\"}], \"histogram2d\": [{\"colorbar\": {\"outlinewidth\": 0, \"ticks\": \"\"}, \"colorscale\": [[0.0, \"#0d0887\"], [0.1111111111111111, \"#46039f\"], [0.2222222222222222, \"#7201a8\"], [0.3333333333333333, \"#9c179e\"], [0.4444444444444444, \"#bd3786\"], [0.5555555555555556, \"#d8576b\"], [0.6666666666666666, \"#ed7953\"], [0.7777777777777778, \"#fb9f3a\"], [0.8888888888888888, \"#fdca26\"], [1.0, \"#f0f921\"]], \"type\": \"histogram2d\"}], \"histogram2dcontour\": [{\"colorbar\": {\"outlinewidth\": 0, \"ticks\": \"\"}, \"colorscale\": [[0.0, \"#0d0887\"], [0.1111111111111111, \"#46039f\"], [0.2222222222222222, \"#7201a8\"], [0.3333333333333333, \"#9c179e\"], [0.4444444444444444, \"#bd3786\"], [0.5555555555555556, \"#d8576b\"], [0.6666666666666666, \"#ed7953\"], [0.7777777777777778, \"#fb9f3a\"], [0.8888888888888888, \"#fdca26\"], [1.0, \"#f0f921\"]], \"type\": \"histogram2dcontour\"}], \"mesh3d\": [{\"colorbar\": {\"outlinewidth\": 0, \"ticks\": \"\"}, \"type\": \"mesh3d\"}], \"parcoords\": [{\"line\": {\"colorbar\": {\"outlinewidth\": 0, \"ticks\": \"\"}}, \"type\": \"parcoords\"}], \"pie\": [{\"automargin\": true, \"type\": \"pie\"}], \"scatter\": [{\"marker\": {\"colorbar\": {\"outlinewidth\": 0, \"ticks\": \"\"}}, \"type\": \"scatter\"}], \"scatter3d\": [{\"line\": {\"colorbar\": {\"outlinewidth\": 0, \"ticks\": \"\"}}, \"marker\": {\"colorbar\": {\"outlinewidth\": 0, \"ticks\": \"\"}}, \"type\": \"scatter3d\"}], \"scattercarpet\": [{\"marker\": {\"colorbar\": {\"outlinewidth\": 0, \"ticks\": \"\"}}, \"type\": \"scattercarpet\"}], \"scattergeo\": [{\"marker\": {\"colorbar\": {\"outlinewidth\": 0, \"ticks\": \"\"}}, \"type\": \"scattergeo\"}], \"scattergl\": [{\"marker\": {\"colorbar\": {\"outlinewidth\": 0, \"ticks\": \"\"}}, \"type\": \"scattergl\"}], \"scattermapbox\": [{\"marker\": {\"colorbar\": {\"outlinewidth\": 0, \"ticks\": \"\"}}, \"type\": \"scattermapbox\"}], \"scatterpolar\": [{\"marker\": {\"colorbar\": {\"outlinewidth\": 0, \"ticks\": \"\"}}, \"type\": \"scatterpolar\"}], \"scatterpolargl\": [{\"marker\": {\"colorbar\": {\"outlinewidth\": 0, \"ticks\": \"\"}}, \"type\": \"scatterpolargl\"}], \"scatterternary\": [{\"marker\": {\"colorbar\": {\"outlinewidth\": 0, \"ticks\": \"\"}}, \"type\": \"scatterternary\"}], \"surface\": [{\"colorbar\": {\"outlinewidth\": 0, \"ticks\": \"\"}, \"colorscale\": [[0.0, \"#0d0887\"], [0.1111111111111111, \"#46039f\"], [0.2222222222222222, \"#7201a8\"], [0.3333333333333333, \"#9c179e\"], [0.4444444444444444, \"#bd3786\"], [0.5555555555555556, \"#d8576b\"], [0.6666666666666666, \"#ed7953\"], [0.7777777777777778, \"#fb9f3a\"], [0.8888888888888888, \"#fdca26\"], [1.0, \"#f0f921\"]], \"type\": \"surface\"}], \"table\": [{\"cells\": {\"fill\": {\"color\": \"#EBF0F8\"}, \"line\": {\"color\": \"white\"}}, \"header\": {\"fill\": {\"color\": \"#C8D4E3\"}, \"line\": {\"color\": \"white\"}}, \"type\": \"table\"}]}, \"layout\": {\"annotationdefaults\": {\"arrowcolor\": \"#2a3f5f\", \"arrowhead\": 0, \"arrowwidth\": 1}, \"coloraxis\": {\"colorbar\": {\"outlinewidth\": 0, \"ticks\": \"\"}}, \"colorscale\": {\"diverging\": [[0, \"#8e0152\"], [0.1, \"#c51b7d\"], [0.2, \"#de77ae\"], [0.3, \"#f1b6da\"], [0.4, \"#fde0ef\"], [0.5, \"#f7f7f7\"], [0.6, \"#e6f5d0\"], [0.7, \"#b8e186\"], [0.8, \"#7fbc41\"], [0.9, \"#4d9221\"], [1, \"#276419\"]], \"sequential\": [[0.0, \"#0d0887\"], [0.1111111111111111, \"#46039f\"], [0.2222222222222222, \"#7201a8\"], [0.3333333333333333, \"#9c179e\"], [0.4444444444444444, \"#bd3786\"], [0.5555555555555556, \"#d8576b\"], [0.6666666666666666, \"#ed7953\"], [0.7777777777777778, \"#fb9f3a\"], [0.8888888888888888, \"#fdca26\"], [1.0, \"#f0f921\"]], \"sequentialminus\": [[0.0, \"#0d0887\"], [0.1111111111111111, \"#46039f\"], [0.2222222222222222, \"#7201a8\"], [0.3333333333333333, \"#9c179e\"], [0.4444444444444444, \"#bd3786\"], [0.5555555555555556, \"#d8576b\"], [0.6666666666666666, \"#ed7953\"], [0.7777777777777778, \"#fb9f3a\"], [0.8888888888888888, \"#fdca26\"], [1.0, \"#f0f921\"]]}, \"colorway\": [\"#636efa\", \"#EF553B\", \"#00cc96\", \"#ab63fa\", \"#FFA15A\", \"#19d3f3\", \"#FF6692\", \"#B6E880\", \"#FF97FF\", \"#FECB52\"], \"font\": {\"color\": \"#2a3f5f\"}, \"geo\": {\"bgcolor\": \"white\", \"lakecolor\": \"white\", \"landcolor\": \"#E5ECF6\", \"showlakes\": true, \"showland\": true, \"subunitcolor\": \"white\"}, \"hoverlabel\": {\"align\": \"left\"}, \"hovermode\": \"closest\", \"mapbox\": {\"style\": \"light\"}, \"paper_bgcolor\": \"white\", \"plot_bgcolor\": \"#E5ECF6\", \"polar\": {\"angularaxis\": {\"gridcolor\": \"white\", \"linecolor\": \"white\", \"ticks\": \"\"}, \"bgcolor\": \"#E5ECF6\", \"radialaxis\": {\"gridcolor\": \"white\", \"linecolor\": \"white\", \"ticks\": \"\"}}, \"scene\": {\"xaxis\": {\"backgroundcolor\": \"#E5ECF6\", \"gridcolor\": \"white\", \"gridwidth\": 2, \"linecolor\": \"white\", \"showbackground\": true, \"ticks\": \"\", \"zerolinecolor\": \"white\"}, \"yaxis\": {\"backgroundcolor\": \"#E5ECF6\", \"gridcolor\": \"white\", \"gridwidth\": 2, \"linecolor\": \"white\", \"showbackground\": true, \"ticks\": \"\", \"zerolinecolor\": \"white\"}, \"zaxis\": {\"backgroundcolor\": \"#E5ECF6\", \"gridcolor\": \"white\", \"gridwidth\": 2, \"linecolor\": \"white\", \"showbackground\": true, \"ticks\": \"\", \"zerolinecolor\": \"white\"}}, \"shapedefaults\": {\"line\": {\"color\": \"#2a3f5f\"}}, \"ternary\": {\"aaxis\": {\"gridcolor\": \"white\", \"linecolor\": \"white\", \"ticks\": \"\"}, \"baxis\": {\"gridcolor\": \"white\", \"linecolor\": \"white\", \"ticks\": \"\"}, \"bgcolor\": \"#E5ECF6\", \"caxis\": {\"gridcolor\": \"white\", \"linecolor\": \"white\", \"ticks\": \"\"}}, \"title\": {\"x\": 0.05}, \"xaxis\": {\"automargin\": true, \"gridcolor\": \"white\", \"linecolor\": \"white\", \"ticks\": \"\", \"title\": {\"standoff\": 15}, \"zerolinecolor\": \"white\", \"zerolinewidth\": 2}, \"yaxis\": {\"automargin\": true, \"gridcolor\": \"white\", \"linecolor\": \"white\", \"ticks\": \"\", \"title\": {\"standoff\": 15}, \"zerolinecolor\": \"white\", \"zerolinewidth\": 2}}}, \"xaxis\": {\"anchor\": \"y\", \"domain\": [0.0, 1.0], \"title\": {\"text\": \"date\"}}, \"yaxis\": {\"anchor\": \"x\", \"domain\": [0.0, 1.0], \"title\": {\"text\": \"neg\"}}},\n",
       "                        {\"responsive\": true}\n",
       "                    ).then(function(){\n",
       "                            \n",
       "var gd = document.getElementById('0eb46b9b-cc71-40ea-bd66-1edf002c3755');\n",
       "var x = new MutationObserver(function (mutations, observer) {{\n",
       "        var display = window.getComputedStyle(gd).display;\n",
       "        if (!display || display === 'none') {{\n",
       "            console.log([gd, 'removed!']);\n",
       "            Plotly.purge(gd);\n",
       "            observer.disconnect();\n",
       "        }}\n",
       "}});\n",
       "\n",
       "// Listen for the removal of the full notebook cells\n",
       "var notebookContainer = gd.closest('#notebook-container');\n",
       "if (notebookContainer) {{\n",
       "    x.observe(notebookContainer, {childList: true});\n",
       "}}\n",
       "\n",
       "// Listen for the clearing of the current output cell\n",
       "var outputEl = gd.closest('.output');\n",
       "if (outputEl) {{\n",
       "    x.observe(outputEl, {childList: true});\n",
       "}}\n",
       "\n",
       "                        })\n",
       "                };\n",
       "                });\n",
       "            </script>\n",
       "        </div>"
      ]
     },
     "metadata": {},
     "output_type": "display_data"
    }
   ],
   "source": [
    "fig = px.scatter(bow, x=\"date\", y=\"neg\", color=\"speaker\", size=\"len\", hover_data=[\"title\"])\n",
    "fig.show()"
   ]
  },
  {
   "cell_type": "code",
   "execution_count": null,
   "metadata": {},
   "outputs": [],
   "source": []
  },
  {
   "cell_type": "markdown",
   "metadata": {},
   "source": [
    "## Basic logistic regression classifier"
   ]
  },
  {
   "cell_type": "code",
   "execution_count": 106,
   "metadata": {},
   "outputs": [],
   "source": [
    "from sklearn.model_selection import train_test_split\n",
    "\n",
    "X_train, X_test, y_train, y_test  = train_test_split(\n",
    "        tfidf, \n",
    "        bow['speaker'],\n",
    "        train_size=0.80, \n",
    "        random_state=951)"
   ]
  },
  {
   "cell_type": "code",
   "execution_count": 107,
   "metadata": {},
   "outputs": [],
   "source": [
    "from sklearn.linear_model import LogisticRegression\n",
    "log_model = LogisticRegression()\n",
    "log_model = log_model.fit(X=X_train, y=y_train)\n",
    "y_pred = log_model.predict(X_test)"
   ]
  },
  {
   "cell_type": "code",
   "execution_count": 108,
   "metadata": {},
   "outputs": [
    {
     "name": "stdout",
     "output_type": "stream",
     "text": [
      "0.8823529411764706\n"
     ]
    }
   ],
   "source": [
    "from sklearn.metrics import accuracy_score\n",
    "print(accuracy_score(y_test, y_pred))"
   ]
  },
  {
   "cell_type": "code",
   "execution_count": 109,
   "metadata": {},
   "outputs": [],
   "source": [
    "bow_test = bow[bow.index.isin(X_test.index.values)].copy()\n",
    "#bow_xtest['pred_speaker'] = y_pred\n",
    "xt = X_test.copy()\n",
    "xt['pred_speaker'] = y_pred\n",
    "bow_test = bow_test.join(xt['pred_speaker'])"
   ]
  },
  {
   "cell_type": "code",
   "execution_count": 111,
   "metadata": {},
   "outputs": [
    {
     "data": {
      "text/html": [
       "<div>\n",
       "<style scoped>\n",
       "    .dataframe tbody tr th:only-of-type {\n",
       "        vertical-align: middle;\n",
       "    }\n",
       "\n",
       "    .dataframe tbody tr th {\n",
       "        vertical-align: top;\n",
       "    }\n",
       "\n",
       "    .dataframe thead th {\n",
       "        text-align: right;\n",
       "    }\n",
       "</style>\n",
       "<table border=\"1\" class=\"dataframe\">\n",
       "  <thead>\n",
       "    <tr style=\"text-align: right;\">\n",
       "      <th></th>\n",
       "      <th>speaker</th>\n",
       "      <th>pred_speaker</th>\n",
       "      <th>title</th>\n",
       "    </tr>\n",
       "    <tr>\n",
       "      <th>id</th>\n",
       "      <th></th>\n",
       "      <th></th>\n",
       "      <th></th>\n",
       "    </tr>\n",
       "  </thead>\n",
       "  <tbody>\n",
       "    <tr>\n",
       "      <th>oWlLZZ8pcp8</th>\n",
       "      <td>trump</td>\n",
       "      <td>trump</td>\n",
       "      <td>Watch Live: President Trump's MAGA Rally in Gr...</td>\n",
       "    </tr>\n",
       "    <tr>\n",
       "      <th>xH-iCVFTb6w</th>\n",
       "      <td>trump</td>\n",
       "      <td>trump</td>\n",
       "      <td>President Trump COMPLETE REMARKS at July 4th \"...</td>\n",
       "    </tr>\n",
       "    <tr>\n",
       "      <th>zc5RMAfg9mA</th>\n",
       "      <td>trump</td>\n",
       "      <td>trump</td>\n",
       "      <td>Pres. Trump New Hampshire Rally in Manchester ...</td>\n",
       "    </tr>\n",
       "    <tr>\n",
       "      <th>u_aN19uB7og</th>\n",
       "      <td>pence</td>\n",
       "      <td>trump</td>\n",
       "      <td>\"HE'S THE REAL DEAL\": VP Pence speaks at Trump...</td>\n",
       "    </tr>\n",
       "    <tr>\n",
       "      <th>xa7MY2_pmxU</th>\n",
       "      <td>trump</td>\n",
       "      <td>trump</td>\n",
       "      <td>Watch LIVE President Trump campaign rally in F...</td>\n",
       "    </tr>\n",
       "    <tr>\n",
       "      <th>anAbeaQ96Ho</th>\n",
       "      <td>trump</td>\n",
       "      <td>trump</td>\n",
       "      <td>FULL SPEECH President Donald Trump Rally - Rio...</td>\n",
       "    </tr>\n",
       "    <tr>\n",
       "      <th>sL1UF0KDwsE</th>\n",
       "      <td>biden</td>\n",
       "      <td>biden</td>\n",
       "      <td>Joe Biden's Full Remarks in Reno, Nevada | Joe...</td>\n",
       "    </tr>\n",
       "    <tr>\n",
       "      <th>t5C98Fnl0M4</th>\n",
       "      <td>trump</td>\n",
       "      <td>trump</td>\n",
       "      <td>President Donald Trump speaks at his Hershey r...</td>\n",
       "    </tr>\n",
       "    <tr>\n",
       "      <th>_5ryKmfBm9E</th>\n",
       "      <td>pence</td>\n",
       "      <td>trump</td>\n",
       "      <td>VP Pence OpenING Speech First 2020 KAG Rally |...</td>\n",
       "    </tr>\n",
       "    <tr>\n",
       "      <th>WXtnH_r1HC8</th>\n",
       "      <td>trump</td>\n",
       "      <td>trump</td>\n",
       "      <td>LIVE: State of the Union Address</td>\n",
       "    </tr>\n",
       "    <tr>\n",
       "      <th>no0MnomPzLw</th>\n",
       "      <td>trump</td>\n",
       "      <td>trump</td>\n",
       "      <td>LIVE: President Trump in North Charleston, SC</td>\n",
       "    </tr>\n",
       "    <tr>\n",
       "      <th>GwLjM8EqP2o</th>\n",
       "      <td>pence</td>\n",
       "      <td>pence</td>\n",
       "      <td>Vice President Mike Pence speaks at a Make Ame...</td>\n",
       "    </tr>\n",
       "    <tr>\n",
       "      <th>m9fQZVl7H9M</th>\n",
       "      <td>trump</td>\n",
       "      <td>trump</td>\n",
       "      <td>Trump addresses crowd of young Americans at Ar...</td>\n",
       "    </tr>\n",
       "    <tr>\n",
       "      <th>m_lYduRUumA</th>\n",
       "      <td>biden</td>\n",
       "      <td>biden</td>\n",
       "      <td>Vice President Biden's Remarks at Global Pride...</td>\n",
       "    </tr>\n",
       "    <tr>\n",
       "      <th>LAu-Sq8oegs</th>\n",
       "      <td>trump</td>\n",
       "      <td>trump</td>\n",
       "      <td>Trump offers Lebanon assistance following expl...</td>\n",
       "    </tr>\n",
       "    <tr>\n",
       "      <th>bk_LxkjjF1g</th>\n",
       "      <td>trump</td>\n",
       "      <td>trump</td>\n",
       "      <td>WATCH: President Trump in Yuma, AZ</td>\n",
       "    </tr>\n",
       "    <tr>\n",
       "      <th>RGualDMvwAo</th>\n",
       "      <td>trump</td>\n",
       "      <td>trump</td>\n",
       "      <td>President Trump's Full RNC 2020 Speech | NowThis</td>\n",
       "    </tr>\n",
       "  </tbody>\n",
       "</table>\n",
       "</div>"
      ],
      "text/plain": [
       "            speaker pred_speaker  \\\n",
       "id                                 \n",
       "oWlLZZ8pcp8   trump        trump   \n",
       "xH-iCVFTb6w   trump        trump   \n",
       "zc5RMAfg9mA   trump        trump   \n",
       "u_aN19uB7og   pence        trump   \n",
       "xa7MY2_pmxU   trump        trump   \n",
       "anAbeaQ96Ho   trump        trump   \n",
       "sL1UF0KDwsE   biden        biden   \n",
       "t5C98Fnl0M4   trump        trump   \n",
       "_5ryKmfBm9E   pence        trump   \n",
       "WXtnH_r1HC8   trump        trump   \n",
       "no0MnomPzLw   trump        trump   \n",
       "GwLjM8EqP2o   pence        pence   \n",
       "m9fQZVl7H9M   trump        trump   \n",
       "m_lYduRUumA   biden        biden   \n",
       "LAu-Sq8oegs   trump        trump   \n",
       "bk_LxkjjF1g   trump        trump   \n",
       "RGualDMvwAo   trump        trump   \n",
       "\n",
       "                                                         title  \n",
       "id                                                              \n",
       "oWlLZZ8pcp8  Watch Live: President Trump's MAGA Rally in Gr...  \n",
       "xH-iCVFTb6w  President Trump COMPLETE REMARKS at July 4th \"...  \n",
       "zc5RMAfg9mA  Pres. Trump New Hampshire Rally in Manchester ...  \n",
       "u_aN19uB7og  \"HE'S THE REAL DEAL\": VP Pence speaks at Trump...  \n",
       "xa7MY2_pmxU  Watch LIVE President Trump campaign rally in F...  \n",
       "anAbeaQ96Ho  FULL SPEECH President Donald Trump Rally - Rio...  \n",
       "sL1UF0KDwsE  Joe Biden's Full Remarks in Reno, Nevada | Joe...  \n",
       "t5C98Fnl0M4  President Donald Trump speaks at his Hershey r...  \n",
       "_5ryKmfBm9E  VP Pence OpenING Speech First 2020 KAG Rally |...  \n",
       "WXtnH_r1HC8                   LIVE: State of the Union Address  \n",
       "no0MnomPzLw      LIVE: President Trump in North Charleston, SC  \n",
       "GwLjM8EqP2o  Vice President Mike Pence speaks at a Make Ame...  \n",
       "m9fQZVl7H9M  Trump addresses crowd of young Americans at Ar...  \n",
       "m_lYduRUumA  Vice President Biden's Remarks at Global Pride...  \n",
       "LAu-Sq8oegs  Trump offers Lebanon assistance following expl...  \n",
       "bk_LxkjjF1g                 WATCH: President Trump in Yuma, AZ  \n",
       "RGualDMvwAo   President Trump's Full RNC 2020 Speech | NowThis  "
      ]
     },
     "execution_count": 111,
     "metadata": {},
     "output_type": "execute_result"
    }
   ],
   "source": [
    "bow_test[['speaker','pred_speaker','title']]"
   ]
  },
  {
   "cell_type": "code",
   "execution_count": 85,
   "metadata": {},
   "outputs": [],
   "source": []
  },
  {
   "cell_type": "code",
   "execution_count": null,
   "metadata": {},
   "outputs": [],
   "source": []
  }
 ],
 "metadata": {
  "kernelspec": {
   "display_name": "Python 3",
   "language": "python",
   "name": "python3"
  },
  "language_info": {
   "codemirror_mode": {
    "name": "ipython",
    "version": 3
   },
   "file_extension": ".py",
   "mimetype": "text/x-python",
   "name": "python",
   "nbconvert_exporter": "python",
   "pygments_lexer": "ipython3",
   "version": "3.8.3"
  }
 },
 "nbformat": 4,
 "nbformat_minor": 4
}
