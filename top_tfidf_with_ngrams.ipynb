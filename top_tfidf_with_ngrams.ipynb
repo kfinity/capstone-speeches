{
 "cells": [
  {
   "cell_type": "code",
   "execution_count": 1,
   "metadata": {},
   "outputs": [],
   "source": [
    "import pandas as pd\n",
    "import numpy as np\n",
    "import json\n",
    "\n",
    "from nltk.corpus import stopwords\n",
    "from sklearn.feature_extraction.text import CountVectorizer\n",
    "from sklearn.feature_extraction.text import TfidfTransformer\n",
    "from scipy.linalg import norm\n",
    "\n",
    "# local library\n",
    "from preproc import *"
   ]
  },
  {
   "cell_type": "code",
   "execution_count": 2,
   "metadata": {},
   "outputs": [],
   "source": [
    "sw = set(stopwords.words('english') + [\"[applause]\", \"[music]\"] \\\n",
    "    + [\"that's\", \"they'll\", \"they're\", \"we'll\", \"we're\", \"i'm\", \"i'll\", \"they've\",\n",
    " \"i've\", \"here's\", \"it'll\", \"we've\", \"let's\", \"he's\", \"there's\", \"i'd\", \"what's\"])"
   ]
  },
  {
   "cell_type": "code",
   "execution_count": 3,
   "metadata": {},
   "outputs": [],
   "source": [
    "with open('speeches.json') as f:\n",
    "    speeches = json.load(f)"
   ]
  },
  {
   "cell_type": "code",
   "execution_count": 4,
   "metadata": {},
   "outputs": [
    {
     "data": {
      "text/html": [
       "<div>\n",
       "<style scoped>\n",
       "    .dataframe tbody tr th:only-of-type {\n",
       "        vertical-align: middle;\n",
       "    }\n",
       "\n",
       "    .dataframe tbody tr th {\n",
       "        vertical-align: top;\n",
       "    }\n",
       "\n",
       "    .dataframe thead th {\n",
       "        text-align: right;\n",
       "    }\n",
       "</style>\n",
       "<table border=\"1\" class=\"dataframe\">\n",
       "  <thead>\n",
       "    <tr style=\"text-align: right;\">\n",
       "      <th></th>\n",
       "      <th>index</th>\n",
       "      <th>speaker</th>\n",
       "      <th>date</th>\n",
       "      <th>speech</th>\n",
       "      <th>title</th>\n",
       "      <th>transcript_type</th>\n",
       "    </tr>\n",
       "    <tr>\n",
       "      <th>id</th>\n",
       "      <th></th>\n",
       "      <th></th>\n",
       "      <th></th>\n",
       "      <th></th>\n",
       "      <th></th>\n",
       "      <th></th>\n",
       "    </tr>\n",
       "  </thead>\n",
       "  <tbody>\n",
       "    <tr>\n",
       "      <th>oWlLZZ8pcp8</th>\n",
       "      <td>8</td>\n",
       "      <td>trump</td>\n",
       "      <td>2019-04-28T02:07:41Z</td>\n",
       "      <td>[Music] [Music] [Music] [Music] [Music] [Appla...</td>\n",
       "      <td>Watch Live: President Trump's MAGA Rally in Gr...</td>\n",
       "      <td>speech</td>\n",
       "    </tr>\n",
       "    <tr>\n",
       "      <th>Z6N1WdJgnLo</th>\n",
       "      <td>47</td>\n",
       "      <td>biden</td>\n",
       "      <td>2019-04-29T21:04:46Z</td>\n",
       "      <td>[Applause] [Music] my name [Applause] thank yo...</td>\n",
       "      <td>Joe Biden holds first 2020 campaign rally</td>\n",
       "      <td>speech</td>\n",
       "    </tr>\n",
       "    <tr>\n",
       "      <th>WIwGrZKdsY0</th>\n",
       "      <td>9</td>\n",
       "      <td>trump</td>\n",
       "      <td>2019-05-09T03:55:17Z</td>\n",
       "      <td>[Music] from the leaves of Minnesota [Music] a...</td>\n",
       "      <td>FULL RALLY: President Trump in Panama City Bea...</td>\n",
       "      <td>speech</td>\n",
       "    </tr>\n",
       "    <tr>\n",
       "      <th>u-AEAq7jzcU</th>\n",
       "      <td>48</td>\n",
       "      <td>biden</td>\n",
       "      <td>2019-05-18T19:53:18Z</td>\n",
       "      <td>so let's do this please welcome my husband Joe...</td>\n",
       "      <td>Joe Biden speaks during a campaign rally in Ph...</td>\n",
       "      <td>speech</td>\n",
       "    </tr>\n",
       "    <tr>\n",
       "      <th>GgINUxecNrg</th>\n",
       "      <td>10</td>\n",
       "      <td>trump</td>\n",
       "      <td>2019-05-21T00:39:36Z</td>\n",
       "      <td>[Music] from the laser Minnesota [Music] the T...</td>\n",
       "      <td>FULL RALLY: President Trump in Montoursville, ...</td>\n",
       "      <td>speech</td>\n",
       "    </tr>\n",
       "    <tr>\n",
       "      <th>...</th>\n",
       "      <td>...</td>\n",
       "      <td>...</td>\n",
       "      <td>...</td>\n",
       "      <td>...</td>\n",
       "      <td>...</td>\n",
       "      <td>...</td>\n",
       "    </tr>\n",
       "    <tr>\n",
       "      <th>4lGvJJKfekk</th>\n",
       "      <td>166</td>\n",
       "      <td>biden</td>\n",
       "      <td>2020-10-24T19:04:05Z</td>\n",
       "      <td>today a lot of things have happened today okay...</td>\n",
       "      <td>Reaction to Hunter Biden’s Business Partner Sp...</td>\n",
       "      <td>speech</td>\n",
       "    </tr>\n",
       "    <tr>\n",
       "      <th>RzKt6YTnbuk</th>\n",
       "      <td>168</td>\n",
       "      <td>trump</td>\n",
       "      <td>2020-10-25T04:40:11Z</td>\n",
       "      <td>from the lakes of minnesota to the hills of te...</td>\n",
       "      <td>President Donald Trump FULL SPEECH at Circlevi...</td>\n",
       "      <td>speech</td>\n",
       "    </tr>\n",
       "    <tr>\n",
       "      <th>KrI1V281Wl4</th>\n",
       "      <td>169</td>\n",
       "      <td>pence</td>\n",
       "      <td>2020-10-25T10:24:34Z</td>\n",
       "      <td>from the lakes of minnesota to the hills of te...</td>\n",
       "      <td>FULL LIVE EVENT Vice President Mike Pence Lake...</td>\n",
       "      <td>speech</td>\n",
       "    </tr>\n",
       "    <tr>\n",
       "      <th>8fjmmw7TNPY</th>\n",
       "      <td>171</td>\n",
       "      <td>biden</td>\n",
       "      <td>2020-10-26T07:19:29Z</td>\n",
       "      <td>let's just start with the endorsement i mean y...</td>\n",
       "      <td>Talk Time 🔴 Watch Joe Biden’s Full Interview W...</td>\n",
       "      <td>interview</td>\n",
       "    </tr>\n",
       "    <tr>\n",
       "      <th>qJVhGXSZO9Y</th>\n",
       "      <td>170</td>\n",
       "      <td>trump</td>\n",
       "      <td>2020-10-26T13:00:10Z</td>\n",
       "      <td>[Music] [Applause] [Music] [Applause] [Music] ...</td>\n",
       "      <td>Donald and Melania Trump: A Love Story for the...</td>\n",
       "      <td>speech</td>\n",
       "    </tr>\n",
       "  </tbody>\n",
       "</table>\n",
       "<p>172 rows × 6 columns</p>\n",
       "</div>"
      ],
      "text/plain": [
       "             index speaker                  date  \\\n",
       "id                                                 \n",
       "oWlLZZ8pcp8      8   trump  2019-04-28T02:07:41Z   \n",
       "Z6N1WdJgnLo     47   biden  2019-04-29T21:04:46Z   \n",
       "WIwGrZKdsY0      9   trump  2019-05-09T03:55:17Z   \n",
       "u-AEAq7jzcU     48   biden  2019-05-18T19:53:18Z   \n",
       "GgINUxecNrg     10   trump  2019-05-21T00:39:36Z   \n",
       "...            ...     ...                   ...   \n",
       "4lGvJJKfekk    166   biden  2020-10-24T19:04:05Z   \n",
       "RzKt6YTnbuk    168   trump  2020-10-25T04:40:11Z   \n",
       "KrI1V281Wl4    169   pence  2020-10-25T10:24:34Z   \n",
       "8fjmmw7TNPY    171   biden  2020-10-26T07:19:29Z   \n",
       "qJVhGXSZO9Y    170   trump  2020-10-26T13:00:10Z   \n",
       "\n",
       "                                                        speech  \\\n",
       "id                                                               \n",
       "oWlLZZ8pcp8  [Music] [Music] [Music] [Music] [Music] [Appla...   \n",
       "Z6N1WdJgnLo  [Applause] [Music] my name [Applause] thank yo...   \n",
       "WIwGrZKdsY0  [Music] from the leaves of Minnesota [Music] a...   \n",
       "u-AEAq7jzcU  so let's do this please welcome my husband Joe...   \n",
       "GgINUxecNrg  [Music] from the laser Minnesota [Music] the T...   \n",
       "...                                                        ...   \n",
       "4lGvJJKfekk  today a lot of things have happened today okay...   \n",
       "RzKt6YTnbuk  from the lakes of minnesota to the hills of te...   \n",
       "KrI1V281Wl4  from the lakes of minnesota to the hills of te...   \n",
       "8fjmmw7TNPY  let's just start with the endorsement i mean y...   \n",
       "qJVhGXSZO9Y  [Music] [Applause] [Music] [Applause] [Music] ...   \n",
       "\n",
       "                                                         title transcript_type  \n",
       "id                                                                              \n",
       "oWlLZZ8pcp8  Watch Live: President Trump's MAGA Rally in Gr...          speech  \n",
       "Z6N1WdJgnLo          Joe Biden holds first 2020 campaign rally          speech  \n",
       "WIwGrZKdsY0  FULL RALLY: President Trump in Panama City Bea...          speech  \n",
       "u-AEAq7jzcU  Joe Biden speaks during a campaign rally in Ph...          speech  \n",
       "GgINUxecNrg  FULL RALLY: President Trump in Montoursville, ...          speech  \n",
       "...                                                        ...             ...  \n",
       "4lGvJJKfekk  Reaction to Hunter Biden’s Business Partner Sp...          speech  \n",
       "RzKt6YTnbuk  President Donald Trump FULL SPEECH at Circlevi...          speech  \n",
       "KrI1V281Wl4  FULL LIVE EVENT Vice President Mike Pence Lake...          speech  \n",
       "8fjmmw7TNPY  Talk Time 🔴 Watch Joe Biden’s Full Interview W...       interview  \n",
       "qJVhGXSZO9Y  Donald and Melania Trump: A Love Story for the...          speech  \n",
       "\n",
       "[172 rows x 6 columns]"
      ]
     },
     "execution_count": 4,
     "metadata": {},
     "output_type": "execute_result"
    }
   ],
   "source": [
    "bow = create_bow(speeches)\n",
    "bow"
   ]
  },
  {
   "cell_type": "code",
   "execution_count": 5,
   "metadata": {},
   "outputs": [],
   "source": [
    "#bow[['speaker','date','title','transcript_type','speech']].to_csv('data/speeches.csv')"
   ]
  },
  {
   "cell_type": "code",
   "execution_count": 17,
   "metadata": {},
   "outputs": [],
   "source": [
    "import string\n",
    "import re\n",
    "from nltk.tokenize import WhitespaceTokenizer\n",
    "from nltk.stem.snowball import SnowballStemmer\n",
    "\n",
    "def my_tokenizer(document):\n",
    "        #tk = WhitespaceTokenizer()\n",
    "        stemmer = SnowballStemmer(\"english\")\n",
    "        # Break the sentence into tokens based on whitespace\n",
    "        for token in document.split():\n",
    "            # Apply preprocessing to the token\n",
    "            token = token.lower().strip()\n",
    "            token = re.sub(r'[_*:!?& ]', '', token).rstrip('.,')\n",
    "\n",
    "            # If punctuation, ignore token and continue\n",
    "            if all(char in set(string.punctuation) for char in token):\n",
    "                continue\n",
    "                \n",
    "            # if empty str, continue\n",
    "            if token == '':\n",
    "                continue\n",
    "                \n",
    "            # skip stopwords\n",
    "            if token in sw:\n",
    "                continue\n",
    "\n",
    "            # stem the token and yield\n",
    "            stem = stemmer.stem(token)\n",
    "            yield token"
   ]
  },
  {
   "cell_type": "code",
   "execution_count": 18,
   "metadata": {},
   "outputs": [],
   "source": [
    "# testing. no better than nltk out of the box\n",
    "from spacy.tokenizer import Tokenizer\n",
    "from spacy.lang.en import English\n",
    "import re\n",
    "\n",
    "nlp = nlp = English(disable=['ner','parser','tagger']) # , disable=['ner','parser','tagger']\n",
    "\n",
    "def spacy_tokenize(text):\n",
    "    text = text.lower().replace('[applause]','').replace('[music]','')\n",
    "    tokens = [x.text for x in nlp(text)]\n",
    "    tokens = [re.sub(r'[_*:!?& ]', '', tok) for tok in tokens]\n",
    "    tokens = [tok for tok in tokens if tok != '']\n",
    "    return tokens\n",
    "    #text.lower().strip().strip('_').strip('*')"
   ]
  },
  {
   "cell_type": "markdown",
   "metadata": {},
   "source": [
    "# Combined 1,2,3 grams"
   ]
  },
  {
   "cell_type": "code",
   "execution_count": 27,
   "metadata": {},
   "outputs": [],
   "source": [
    "# \n",
    "\n",
    "vectorizer = CountVectorizer(max_features=5000, # only top 5k words\n",
    "                             min_df=2,          # words must appear in this many speeches to count\n",
    "                             #max_df=0.9,        # words can't appear in more % of speeches than this.  \n",
    "                             stop_words=stopwords.words('english'),\n",
    "                             tokenizer=my_tokenizer,\n",
    "                             ngram_range=(1,1)  # (1,3) combined unigrams, bigrams, trigrams\n",
    "                            )\n",
    "\n",
    "counts = vectorizer.fit_transform(bow['speech'])"
   ]
  },
  {
   "cell_type": "code",
   "execution_count": 28,
   "metadata": {},
   "outputs": [],
   "source": [
    "counts_df = pd.DataFrame(counts.toarray())\n",
    "counts_df.index.name = 'speech'\n",
    "#tfidf.columns = tfidf.apply(lambda x: vocab_r[x.name])\n",
    "counts_df.columns = vectorizer.get_feature_names()"
   ]
  },
  {
   "cell_type": "code",
   "execution_count": 29,
   "metadata": {},
   "outputs": [
    {
     "data": {
      "text/html": [
       "<div>\n",
       "<style scoped>\n",
       "    .dataframe tbody tr th:only-of-type {\n",
       "        vertical-align: middle;\n",
       "    }\n",
       "\n",
       "    .dataframe tbody tr th {\n",
       "        vertical-align: top;\n",
       "    }\n",
       "\n",
       "    .dataframe thead th {\n",
       "        text-align: right;\n",
       "    }\n",
       "</style>\n",
       "<table border=\"1\" class=\"dataframe\">\n",
       "  <thead>\n",
       "    <tr style=\"text-align: right;\">\n",
       "      <th></th>\n",
       "      <th>$10,000</th>\n",
       "      <th>(applause)</th>\n",
       "      <th>000</th>\n",
       "      <th>1</th>\n",
       "      <th>1%</th>\n",
       "      <th>1.5</th>\n",
       "      <th>1.6</th>\n",
       "      <th>1.8</th>\n",
       "      <th>10</th>\n",
       "      <th>10%</th>\n",
       "      <th>...</th>\n",
       "      <th>younger</th>\n",
       "      <th>youngest</th>\n",
       "      <th>youth</th>\n",
       "      <th>youtube</th>\n",
       "      <th>zero</th>\n",
       "      <th>zip</th>\n",
       "      <th>zone</th>\n",
       "      <th>zones</th>\n",
       "      <th>zoom</th>\n",
       "      <th>♪</th>\n",
       "    </tr>\n",
       "    <tr>\n",
       "      <th>speech</th>\n",
       "      <th></th>\n",
       "      <th></th>\n",
       "      <th></th>\n",
       "      <th></th>\n",
       "      <th></th>\n",
       "      <th></th>\n",
       "      <th></th>\n",
       "      <th></th>\n",
       "      <th></th>\n",
       "      <th></th>\n",
       "      <th></th>\n",
       "      <th></th>\n",
       "      <th></th>\n",
       "      <th></th>\n",
       "      <th></th>\n",
       "      <th></th>\n",
       "      <th></th>\n",
       "      <th></th>\n",
       "      <th></th>\n",
       "      <th></th>\n",
       "      <th></th>\n",
       "    </tr>\n",
       "  </thead>\n",
       "  <tbody>\n",
       "    <tr>\n",
       "      <th>0</th>\n",
       "      <td>0</td>\n",
       "      <td>0</td>\n",
       "      <td>0</td>\n",
       "      <td>0</td>\n",
       "      <td>0</td>\n",
       "      <td>0</td>\n",
       "      <td>0</td>\n",
       "      <td>1</td>\n",
       "      <td>1</td>\n",
       "      <td>0</td>\n",
       "      <td>...</td>\n",
       "      <td>0</td>\n",
       "      <td>0</td>\n",
       "      <td>1</td>\n",
       "      <td>0</td>\n",
       "      <td>2</td>\n",
       "      <td>0</td>\n",
       "      <td>0</td>\n",
       "      <td>1</td>\n",
       "      <td>0</td>\n",
       "      <td>0</td>\n",
       "    </tr>\n",
       "    <tr>\n",
       "      <th>1</th>\n",
       "      <td>0</td>\n",
       "      <td>0</td>\n",
       "      <td>0</td>\n",
       "      <td>0</td>\n",
       "      <td>0</td>\n",
       "      <td>0</td>\n",
       "      <td>0</td>\n",
       "      <td>0</td>\n",
       "      <td>0</td>\n",
       "      <td>0</td>\n",
       "      <td>...</td>\n",
       "      <td>0</td>\n",
       "      <td>0</td>\n",
       "      <td>0</td>\n",
       "      <td>0</td>\n",
       "      <td>0</td>\n",
       "      <td>0</td>\n",
       "      <td>0</td>\n",
       "      <td>0</td>\n",
       "      <td>0</td>\n",
       "      <td>0</td>\n",
       "    </tr>\n",
       "    <tr>\n",
       "      <th>2</th>\n",
       "      <td>0</td>\n",
       "      <td>0</td>\n",
       "      <td>0</td>\n",
       "      <td>1</td>\n",
       "      <td>1</td>\n",
       "      <td>0</td>\n",
       "      <td>0</td>\n",
       "      <td>0</td>\n",
       "      <td>4</td>\n",
       "      <td>0</td>\n",
       "      <td>...</td>\n",
       "      <td>0</td>\n",
       "      <td>0</td>\n",
       "      <td>0</td>\n",
       "      <td>0</td>\n",
       "      <td>0</td>\n",
       "      <td>0</td>\n",
       "      <td>0</td>\n",
       "      <td>0</td>\n",
       "      <td>0</td>\n",
       "      <td>0</td>\n",
       "    </tr>\n",
       "  </tbody>\n",
       "</table>\n",
       "<p>3 rows × 5000 columns</p>\n",
       "</div>"
      ],
      "text/plain": [
       "        $10,000  (applause)  000  1  1%  1.5  1.6  1.8  10  10%  ...  younger  \\\n",
       "speech                                                           ...            \n",
       "0             0           0    0  0   0    0    0    1   1    0  ...        0   \n",
       "1             0           0    0  0   0    0    0    0   0    0  ...        0   \n",
       "2             0           0    0  1   1    0    0    0   4    0  ...        0   \n",
       "\n",
       "        youngest  youth  youtube  zero  zip  zone  zones  zoom  ♪  \n",
       "speech                                                             \n",
       "0              0      1        0     2    0     0      1     0  0  \n",
       "1              0      0        0     0    0     0      0     0  0  \n",
       "2              0      0        0     0    0     0      0     0  0  \n",
       "\n",
       "[3 rows x 5000 columns]"
      ]
     },
     "execution_count": 29,
     "metadata": {},
     "output_type": "execute_result"
    }
   ],
   "source": [
    "counts_df.head(3)"
   ]
  },
  {
   "cell_type": "code",
   "execution_count": 30,
   "metadata": {},
   "outputs": [],
   "source": [
    "# convert counts into tfidf\n",
    "transformer = TfidfTransformer(smooth_idf=False)\n",
    "tfidf = transformer.fit_transform(counts)"
   ]
  },
  {
   "cell_type": "code",
   "execution_count": 31,
   "metadata": {},
   "outputs": [],
   "source": [
    "tfidf_df = pd.DataFrame(tfidf.toarray())\n",
    "tfidf_df.index.name = 'speech'\n",
    "tfidf_df.columns = vectorizer.get_feature_names()\n",
    "tfidf_df['videoId'] = bow.index.values\n",
    "tfidf_df = tfidf_df.set_index('videoId')"
   ]
  },
  {
   "cell_type": "code",
   "execution_count": 33,
   "metadata": {},
   "outputs": [],
   "source": [
    "tfidf_df['_speaker'] = tfidf_df.apply(lambda x: bow.loc[x.name].speaker, 1)\n",
    "tfidf_df = tfidf_df.reset_index().set_index(['videoId','_speaker'])"
   ]
  },
  {
   "cell_type": "code",
   "execution_count": 34,
   "metadata": {},
   "outputs": [
    {
     "data": {
      "text/html": [
       "<div>\n",
       "<style scoped>\n",
       "    .dataframe tbody tr th:only-of-type {\n",
       "        vertical-align: middle;\n",
       "    }\n",
       "\n",
       "    .dataframe tbody tr th {\n",
       "        vertical-align: top;\n",
       "    }\n",
       "\n",
       "    .dataframe thead th {\n",
       "        text-align: right;\n",
       "    }\n",
       "</style>\n",
       "<table border=\"1\" class=\"dataframe\">\n",
       "  <thead>\n",
       "    <tr style=\"text-align: right;\">\n",
       "      <th></th>\n",
       "      <th></th>\n",
       "      <th>$10,000</th>\n",
       "      <th>(applause)</th>\n",
       "      <th>000</th>\n",
       "      <th>1</th>\n",
       "      <th>1%</th>\n",
       "      <th>1.5</th>\n",
       "      <th>1.6</th>\n",
       "      <th>1.8</th>\n",
       "      <th>10</th>\n",
       "      <th>10%</th>\n",
       "      <th>...</th>\n",
       "      <th>younger</th>\n",
       "      <th>youngest</th>\n",
       "      <th>youth</th>\n",
       "      <th>youtube</th>\n",
       "      <th>zero</th>\n",
       "      <th>zip</th>\n",
       "      <th>zone</th>\n",
       "      <th>zones</th>\n",
       "      <th>zoom</th>\n",
       "      <th>♪</th>\n",
       "    </tr>\n",
       "    <tr>\n",
       "      <th>videoId</th>\n",
       "      <th>_speaker</th>\n",
       "      <th></th>\n",
       "      <th></th>\n",
       "      <th></th>\n",
       "      <th></th>\n",
       "      <th></th>\n",
       "      <th></th>\n",
       "      <th></th>\n",
       "      <th></th>\n",
       "      <th></th>\n",
       "      <th></th>\n",
       "      <th></th>\n",
       "      <th></th>\n",
       "      <th></th>\n",
       "      <th></th>\n",
       "      <th></th>\n",
       "      <th></th>\n",
       "      <th></th>\n",
       "      <th></th>\n",
       "      <th></th>\n",
       "      <th></th>\n",
       "      <th></th>\n",
       "    </tr>\n",
       "  </thead>\n",
       "  <tbody>\n",
       "    <tr>\n",
       "      <th>oWlLZZ8pcp8</th>\n",
       "      <th>trump</th>\n",
       "      <td>0.0</td>\n",
       "      <td>0.0</td>\n",
       "      <td>0.0</td>\n",
       "      <td>0.000000</td>\n",
       "      <td>0.000000</td>\n",
       "      <td>0.0</td>\n",
       "      <td>0.0</td>\n",
       "      <td>0.010493</td>\n",
       "      <td>0.004879</td>\n",
       "      <td>0.000000</td>\n",
       "      <td>...</td>\n",
       "      <td>0.0</td>\n",
       "      <td>0.0</td>\n",
       "      <td>0.010664</td>\n",
       "      <td>0.0</td>\n",
       "      <td>0.014624</td>\n",
       "      <td>0.0</td>\n",
       "      <td>0.0</td>\n",
       "      <td>0.008445</td>\n",
       "      <td>0.0</td>\n",
       "      <td>0.0</td>\n",
       "    </tr>\n",
       "    <tr>\n",
       "      <th>Z6N1WdJgnLo</th>\n",
       "      <th>biden</th>\n",
       "      <td>0.0</td>\n",
       "      <td>0.0</td>\n",
       "      <td>0.0</td>\n",
       "      <td>0.000000</td>\n",
       "      <td>0.000000</td>\n",
       "      <td>0.0</td>\n",
       "      <td>0.0</td>\n",
       "      <td>0.000000</td>\n",
       "      <td>0.000000</td>\n",
       "      <td>0.000000</td>\n",
       "      <td>...</td>\n",
       "      <td>0.0</td>\n",
       "      <td>0.0</td>\n",
       "      <td>0.000000</td>\n",
       "      <td>0.0</td>\n",
       "      <td>0.000000</td>\n",
       "      <td>0.0</td>\n",
       "      <td>0.0</td>\n",
       "      <td>0.000000</td>\n",
       "      <td>0.0</td>\n",
       "      <td>0.0</td>\n",
       "    </tr>\n",
       "    <tr>\n",
       "      <th>WIwGrZKdsY0</th>\n",
       "      <th>trump</th>\n",
       "      <td>0.0</td>\n",
       "      <td>0.0</td>\n",
       "      <td>0.0</td>\n",
       "      <td>0.007626</td>\n",
       "      <td>0.011493</td>\n",
       "      <td>0.0</td>\n",
       "      <td>0.0</td>\n",
       "      <td>0.000000</td>\n",
       "      <td>0.017054</td>\n",
       "      <td>0.000000</td>\n",
       "      <td>...</td>\n",
       "      <td>0.0</td>\n",
       "      <td>0.0</td>\n",
       "      <td>0.000000</td>\n",
       "      <td>0.0</td>\n",
       "      <td>0.000000</td>\n",
       "      <td>0.0</td>\n",
       "      <td>0.0</td>\n",
       "      <td>0.000000</td>\n",
       "      <td>0.0</td>\n",
       "      <td>0.0</td>\n",
       "    </tr>\n",
       "    <tr>\n",
       "      <th>u-AEAq7jzcU</th>\n",
       "      <th>biden</th>\n",
       "      <td>0.0</td>\n",
       "      <td>0.0</td>\n",
       "      <td>0.0</td>\n",
       "      <td>0.000000</td>\n",
       "      <td>0.000000</td>\n",
       "      <td>0.0</td>\n",
       "      <td>0.0</td>\n",
       "      <td>0.000000</td>\n",
       "      <td>0.010501</td>\n",
       "      <td>0.000000</td>\n",
       "      <td>...</td>\n",
       "      <td>0.0</td>\n",
       "      <td>0.0</td>\n",
       "      <td>0.000000</td>\n",
       "      <td>0.0</td>\n",
       "      <td>0.000000</td>\n",
       "      <td>0.0</td>\n",
       "      <td>0.0</td>\n",
       "      <td>0.000000</td>\n",
       "      <td>0.0</td>\n",
       "      <td>0.0</td>\n",
       "    </tr>\n",
       "    <tr>\n",
       "      <th>GgINUxecNrg</th>\n",
       "      <th>trump</th>\n",
       "      <td>0.0</td>\n",
       "      <td>0.0</td>\n",
       "      <td>0.0</td>\n",
       "      <td>0.020538</td>\n",
       "      <td>0.015476</td>\n",
       "      <td>0.0</td>\n",
       "      <td>0.0</td>\n",
       "      <td>0.000000</td>\n",
       "      <td>0.000000</td>\n",
       "      <td>0.016461</td>\n",
       "      <td>...</td>\n",
       "      <td>0.0</td>\n",
       "      <td>0.0</td>\n",
       "      <td>0.000000</td>\n",
       "      <td>0.0</td>\n",
       "      <td>0.000000</td>\n",
       "      <td>0.0</td>\n",
       "      <td>0.0</td>\n",
       "      <td>0.000000</td>\n",
       "      <td>0.0</td>\n",
       "      <td>0.0</td>\n",
       "    </tr>\n",
       "  </tbody>\n",
       "</table>\n",
       "<p>5 rows × 5000 columns</p>\n",
       "</div>"
      ],
      "text/plain": [
       "                      $10,000  (applause)  000         1        1%  1.5  1.6  \\\n",
       "videoId     _speaker                                                           \n",
       "oWlLZZ8pcp8 trump         0.0         0.0  0.0  0.000000  0.000000  0.0  0.0   \n",
       "Z6N1WdJgnLo biden         0.0         0.0  0.0  0.000000  0.000000  0.0  0.0   \n",
       "WIwGrZKdsY0 trump         0.0         0.0  0.0  0.007626  0.011493  0.0  0.0   \n",
       "u-AEAq7jzcU biden         0.0         0.0  0.0  0.000000  0.000000  0.0  0.0   \n",
       "GgINUxecNrg trump         0.0         0.0  0.0  0.020538  0.015476  0.0  0.0   \n",
       "\n",
       "                           1.8        10       10%  ...  younger  youngest  \\\n",
       "videoId     _speaker                                ...                      \n",
       "oWlLZZ8pcp8 trump     0.010493  0.004879  0.000000  ...      0.0       0.0   \n",
       "Z6N1WdJgnLo biden     0.000000  0.000000  0.000000  ...      0.0       0.0   \n",
       "WIwGrZKdsY0 trump     0.000000  0.017054  0.000000  ...      0.0       0.0   \n",
       "u-AEAq7jzcU biden     0.000000  0.010501  0.000000  ...      0.0       0.0   \n",
       "GgINUxecNrg trump     0.000000  0.000000  0.016461  ...      0.0       0.0   \n",
       "\n",
       "                         youth  youtube      zero  zip  zone     zones  zoom  \\\n",
       "videoId     _speaker                                                           \n",
       "oWlLZZ8pcp8 trump     0.010664      0.0  0.014624  0.0   0.0  0.008445   0.0   \n",
       "Z6N1WdJgnLo biden     0.000000      0.0  0.000000  0.0   0.0  0.000000   0.0   \n",
       "WIwGrZKdsY0 trump     0.000000      0.0  0.000000  0.0   0.0  0.000000   0.0   \n",
       "u-AEAq7jzcU biden     0.000000      0.0  0.000000  0.0   0.0  0.000000   0.0   \n",
       "GgINUxecNrg trump     0.000000      0.0  0.000000  0.0   0.0  0.000000   0.0   \n",
       "\n",
       "                        ♪  \n",
       "videoId     _speaker       \n",
       "oWlLZZ8pcp8 trump     0.0  \n",
       "Z6N1WdJgnLo biden     0.0  \n",
       "WIwGrZKdsY0 trump     0.0  \n",
       "u-AEAq7jzcU biden     0.0  \n",
       "GgINUxecNrg trump     0.0  \n",
       "\n",
       "[5 rows x 5000 columns]"
      ]
     },
     "execution_count": 34,
     "metadata": {},
     "output_type": "execute_result"
    }
   ],
   "source": [
    "tfidf_df.head()"
   ]
  },
  {
   "cell_type": "code",
   "execution_count": 99,
   "metadata": {},
   "outputs": [],
   "source": [
    "# collapse to speaker-only\n",
    "tfidf_speaker = tfidf_df.reset_index().drop(columns=\"videoId\").groupby(['_speaker']).mean()\n",
    "# Normalize doc vector lengths\n",
    "tfidf_speaker = tfidf_speaker.apply(lambda x: x / norm(x), 1)\n",
    "# transpose for easier filtering\n",
    "tfidf_speaker = tfidf_speaker.T.reset_index()"
   ]
  },
  {
   "cell_type": "code",
   "execution_count": 100,
   "metadata": {},
   "outputs": [
    {
     "data": {
      "text/html": [
       "<div>\n",
       "<style scoped>\n",
       "    .dataframe tbody tr th:only-of-type {\n",
       "        vertical-align: middle;\n",
       "    }\n",
       "\n",
       "    .dataframe tbody tr th {\n",
       "        vertical-align: top;\n",
       "    }\n",
       "\n",
       "    .dataframe thead th {\n",
       "        text-align: right;\n",
       "    }\n",
       "</style>\n",
       "<table border=\"1\" class=\"dataframe\">\n",
       "  <thead>\n",
       "    <tr style=\"text-align: right;\">\n",
       "      <th>_speaker</th>\n",
       "      <th>index</th>\n",
       "      <th>biden</th>\n",
       "      <th>harris</th>\n",
       "      <th>pence</th>\n",
       "      <th>trump</th>\n",
       "    </tr>\n",
       "  </thead>\n",
       "  <tbody>\n",
       "    <tr>\n",
       "      <th>2278</th>\n",
       "      <td>know</td>\n",
       "      <td>0.208280</td>\n",
       "      <td>0.242533</td>\n",
       "      <td>0.140335</td>\n",
       "      <td>0.257837</td>\n",
       "    </tr>\n",
       "    <tr>\n",
       "      <th>3323</th>\n",
       "      <td>president</td>\n",
       "      <td>0.196802</td>\n",
       "      <td>0.119059</td>\n",
       "      <td>0.349722</td>\n",
       "      <td>0.114591</td>\n",
       "    </tr>\n",
       "    <tr>\n",
       "      <th>3170</th>\n",
       "      <td>people</td>\n",
       "      <td>0.179366</td>\n",
       "      <td>0.177081</td>\n",
       "      <td>0.080696</td>\n",
       "      <td>0.202203</td>\n",
       "    </tr>\n",
       "    <tr>\n",
       "      <th>1740</th>\n",
       "      <td>going</td>\n",
       "      <td>0.174345</td>\n",
       "      <td>0.093455</td>\n",
       "      <td>0.116853</td>\n",
       "      <td>0.172811</td>\n",
       "    </tr>\n",
       "    <tr>\n",
       "      <th>2451</th>\n",
       "      <td>like</td>\n",
       "      <td>0.149356</td>\n",
       "      <td>0.249279</td>\n",
       "      <td>0.047812</td>\n",
       "      <td>0.165026</td>\n",
       "    </tr>\n",
       "    <tr>\n",
       "      <th>1686</th>\n",
       "      <td>get</td>\n",
       "      <td>0.148178</td>\n",
       "      <td>0.110462</td>\n",
       "      <td>0.023441</td>\n",
       "      <td>0.116853</td>\n",
       "    </tr>\n",
       "    <tr>\n",
       "      <th>4522</th>\n",
       "      <td>trump</td>\n",
       "      <td>0.140494</td>\n",
       "      <td>0.103819</td>\n",
       "      <td>0.196248</td>\n",
       "      <td>0.067371</td>\n",
       "    </tr>\n",
       "    <tr>\n",
       "      <th>3020</th>\n",
       "      <td>one</td>\n",
       "      <td>0.139142</td>\n",
       "      <td>0.119123</td>\n",
       "      <td>0.073671</td>\n",
       "      <td>0.141360</td>\n",
       "    </tr>\n",
       "    <tr>\n",
       "      <th>4579</th>\n",
       "      <td>uh</td>\n",
       "      <td>0.130603</td>\n",
       "      <td>0.140087</td>\n",
       "      <td>0.021307</td>\n",
       "      <td>0.081168</td>\n",
       "    </tr>\n",
       "    <tr>\n",
       "      <th>4637</th>\n",
       "      <td>us</td>\n",
       "      <td>0.124190</td>\n",
       "      <td>0.108960</td>\n",
       "      <td>0.042675</td>\n",
       "      <td>0.081601</td>\n",
       "    </tr>\n",
       "  </tbody>\n",
       "</table>\n",
       "</div>"
      ],
      "text/plain": [
       "_speaker      index     biden    harris     pence     trump\n",
       "2278           know  0.208280  0.242533  0.140335  0.257837\n",
       "3323      president  0.196802  0.119059  0.349722  0.114591\n",
       "3170         people  0.179366  0.177081  0.080696  0.202203\n",
       "1740          going  0.174345  0.093455  0.116853  0.172811\n",
       "2451           like  0.149356  0.249279  0.047812  0.165026\n",
       "1686            get  0.148178  0.110462  0.023441  0.116853\n",
       "4522          trump  0.140494  0.103819  0.196248  0.067371\n",
       "3020            one  0.139142  0.119123  0.073671  0.141360\n",
       "4579             uh  0.130603  0.140087  0.021307  0.081168\n",
       "4637             us  0.124190  0.108960  0.042675  0.081601"
      ]
     },
     "execution_count": 100,
     "metadata": {},
     "output_type": "execute_result"
    }
   ],
   "source": [
    "tfidf_speaker.sort_values('biden', ascending=False).head(10)#[['index']].values"
   ]
  },
  {
   "cell_type": "code",
   "execution_count": 101,
   "metadata": {},
   "outputs": [],
   "source": [
    "# alternate method of speaker-only TFIDF\n",
    "# collapse speech-level counts first\n",
    "counts_df['videoId'] = bow.index.values\n",
    "counts_df = counts_df.set_index('videoId')\n",
    "counts_df['_speaker'] = counts_df.apply(lambda x: bow.loc[x.name].speaker, 1)\n",
    "counts_df = counts_df.reset_index().set_index(['_speaker']).drop(columns=['videoId'])\n"
   ]
  },
  {
   "cell_type": "code",
   "execution_count": 102,
   "metadata": {},
   "outputs": [],
   "source": [
    "# convert counts into tfidf\n",
    "transformer = TfidfTransformer(smooth_idf=True)\n",
    "tfidf_speaker2 = transformer.fit_transform(counts_df.sum(level='_speaker'))\n",
    "tfidf_speaker2 = pd.DataFrame(tfidf_speaker2.toarray())\n",
    "tfidf_speaker2.columns = vectorizer.get_feature_names()\n",
    "tfidf_speaker2['_speaker'] = counts_df.sum(level='_speaker').index.values\n",
    "tfidf_speaker2 = tfidf_speaker2.set_index('_speaker')\n",
    "tfidf_speaker2.index.name = 'speaker'\n",
    "# Normalize doc vector lengths\n",
    "#tfidf_speaker2 = tfidf_speaker2.apply(lambda x: x / norm(x), 1)\n",
    "# transpose for easier filtering\n",
    "tfidf_speaker2 = tfidf_speaker2.T.reset_index()"
   ]
  },
  {
   "cell_type": "code",
   "execution_count": 103,
   "metadata": {},
   "outputs": [
    {
     "data": {
      "text/html": [
       "<div>\n",
       "<style scoped>\n",
       "    .dataframe tbody tr th:only-of-type {\n",
       "        vertical-align: middle;\n",
       "    }\n",
       "\n",
       "    .dataframe tbody tr th {\n",
       "        vertical-align: top;\n",
       "    }\n",
       "\n",
       "    .dataframe thead th {\n",
       "        text-align: right;\n",
       "    }\n",
       "</style>\n",
       "<table border=\"1\" class=\"dataframe\">\n",
       "  <thead>\n",
       "    <tr style=\"text-align: right;\">\n",
       "      <th>speaker</th>\n",
       "      <th>index</th>\n",
       "      <th>trump</th>\n",
       "      <th>biden</th>\n",
       "      <th>harris</th>\n",
       "      <th>pence</th>\n",
       "    </tr>\n",
       "  </thead>\n",
       "  <tbody>\n",
       "    <tr>\n",
       "      <th>2278</th>\n",
       "      <td>know</td>\n",
       "      <td>0.322709</td>\n",
       "      <td>0.304774</td>\n",
       "      <td>0.391039</td>\n",
       "      <td>0.203782</td>\n",
       "    </tr>\n",
       "    <tr>\n",
       "      <th>2451</th>\n",
       "      <td>like</td>\n",
       "      <td>0.230380</td>\n",
       "      <td>0.300739</td>\n",
       "      <td>0.488900</td>\n",
       "      <td>0.067373</td>\n",
       "    </tr>\n",
       "    <tr>\n",
       "      <th>1740</th>\n",
       "      <td>going</td>\n",
       "      <td>0.202824</td>\n",
       "      <td>0.210356</td>\n",
       "      <td>0.143123</td>\n",
       "      <td>0.181325</td>\n",
       "    </tr>\n",
       "    <tr>\n",
       "      <th>4579</th>\n",
       "      <td>uh</td>\n",
       "      <td>0.051914</td>\n",
       "      <td>0.199327</td>\n",
       "      <td>0.192869</td>\n",
       "      <td>0.023289</td>\n",
       "    </tr>\n",
       "    <tr>\n",
       "      <th>3170</th>\n",
       "      <td>people</td>\n",
       "      <td>0.239565</td>\n",
       "      <td>0.197982</td>\n",
       "      <td>0.190015</td>\n",
       "      <td>0.121438</td>\n",
       "    </tr>\n",
       "    <tr>\n",
       "      <th>1686</th>\n",
       "      <td>get</td>\n",
       "      <td>0.137235</td>\n",
       "      <td>0.184532</td>\n",
       "      <td>0.136598</td>\n",
       "      <td>0.034518</td>\n",
       "    </tr>\n",
       "    <tr>\n",
       "      <th>3020</th>\n",
       "      <td>one</td>\n",
       "      <td>0.164178</td>\n",
       "      <td>0.179421</td>\n",
       "      <td>0.144346</td>\n",
       "      <td>0.097316</td>\n",
       "    </tr>\n",
       "    <tr>\n",
       "      <th>3653</th>\n",
       "      <td>right</td>\n",
       "      <td>0.175337</td>\n",
       "      <td>0.167586</td>\n",
       "      <td>0.143123</td>\n",
       "      <td>0.088167</td>\n",
       "    </tr>\n",
       "    <tr>\n",
       "      <th>3323</th>\n",
       "      <td>president</td>\n",
       "      <td>0.113829</td>\n",
       "      <td>0.159247</td>\n",
       "      <td>0.075435</td>\n",
       "      <td>0.415050</td>\n",
       "    </tr>\n",
       "    <tr>\n",
       "      <th>4368</th>\n",
       "      <td>think</td>\n",
       "      <td>0.117912</td>\n",
       "      <td>0.148218</td>\n",
       "      <td>0.119473</td>\n",
       "      <td>0.066957</td>\n",
       "    </tr>\n",
       "  </tbody>\n",
       "</table>\n",
       "</div>"
      ],
      "text/plain": [
       "speaker      index     trump     biden    harris     pence\n",
       "2278          know  0.322709  0.304774  0.391039  0.203782\n",
       "2451          like  0.230380  0.300739  0.488900  0.067373\n",
       "1740         going  0.202824  0.210356  0.143123  0.181325\n",
       "4579            uh  0.051914  0.199327  0.192869  0.023289\n",
       "3170        people  0.239565  0.197982  0.190015  0.121438\n",
       "1686           get  0.137235  0.184532  0.136598  0.034518\n",
       "3020           one  0.164178  0.179421  0.144346  0.097316\n",
       "3653         right  0.175337  0.167586  0.143123  0.088167\n",
       "3323     president  0.113829  0.159247  0.075435  0.415050\n",
       "4368         think  0.117912  0.148218  0.119473  0.066957"
      ]
     },
     "execution_count": 103,
     "metadata": {},
     "output_type": "execute_result"
    }
   ],
   "source": [
    "tfidf_speaker2.loc[~tfidf_speaker2['index'].isin(stopwords.words('english'))].sort_values('biden', ascending=False).head(10)#\\\n",
    "    #.reset_index()[['index']].values"
   ]
  },
  {
   "cell_type": "code",
   "execution_count": 104,
   "metadata": {},
   "outputs": [
    {
     "data": {
      "text/html": [
       "<div>\n",
       "<style scoped>\n",
       "    .dataframe tbody tr th:only-of-type {\n",
       "        vertical-align: middle;\n",
       "    }\n",
       "\n",
       "    .dataframe tbody tr th {\n",
       "        vertical-align: top;\n",
       "    }\n",
       "\n",
       "    .dataframe thead th {\n",
       "        text-align: right;\n",
       "    }\n",
       "</style>\n",
       "<table border=\"1\" class=\"dataframe\">\n",
       "  <thead>\n",
       "    <tr style=\"text-align: right;\">\n",
       "      <th>_speaker</th>\n",
       "      <th>index</th>\n",
       "      <th>biden</th>\n",
       "      <th>harris</th>\n",
       "      <th>pence</th>\n",
       "      <th>trump</th>\n",
       "    </tr>\n",
       "  </thead>\n",
       "  <tbody>\n",
       "    <tr>\n",
       "      <th>2278</th>\n",
       "      <td>know</td>\n",
       "      <td>0.208280</td>\n",
       "      <td>0.242533</td>\n",
       "      <td>0.140335</td>\n",
       "      <td>0.257837</td>\n",
       "    </tr>\n",
       "    <tr>\n",
       "      <th>3323</th>\n",
       "      <td>president</td>\n",
       "      <td>0.196802</td>\n",
       "      <td>0.119059</td>\n",
       "      <td>0.349722</td>\n",
       "      <td>0.114591</td>\n",
       "    </tr>\n",
       "    <tr>\n",
       "      <th>3170</th>\n",
       "      <td>people</td>\n",
       "      <td>0.179366</td>\n",
       "      <td>0.177081</td>\n",
       "      <td>0.080696</td>\n",
       "      <td>0.202203</td>\n",
       "    </tr>\n",
       "    <tr>\n",
       "      <th>1740</th>\n",
       "      <td>going</td>\n",
       "      <td>0.174345</td>\n",
       "      <td>0.093455</td>\n",
       "      <td>0.116853</td>\n",
       "      <td>0.172811</td>\n",
       "    </tr>\n",
       "    <tr>\n",
       "      <th>2451</th>\n",
       "      <td>like</td>\n",
       "      <td>0.149356</td>\n",
       "      <td>0.249279</td>\n",
       "      <td>0.047812</td>\n",
       "      <td>0.165026</td>\n",
       "    </tr>\n",
       "    <tr>\n",
       "      <th>1686</th>\n",
       "      <td>get</td>\n",
       "      <td>0.148178</td>\n",
       "      <td>0.110462</td>\n",
       "      <td>0.023441</td>\n",
       "      <td>0.116853</td>\n",
       "    </tr>\n",
       "    <tr>\n",
       "      <th>4522</th>\n",
       "      <td>trump</td>\n",
       "      <td>0.140494</td>\n",
       "      <td>0.103819</td>\n",
       "      <td>0.196248</td>\n",
       "      <td>0.067371</td>\n",
       "    </tr>\n",
       "    <tr>\n",
       "      <th>3020</th>\n",
       "      <td>one</td>\n",
       "      <td>0.139142</td>\n",
       "      <td>0.119123</td>\n",
       "      <td>0.073671</td>\n",
       "      <td>0.141360</td>\n",
       "    </tr>\n",
       "    <tr>\n",
       "      <th>4579</th>\n",
       "      <td>uh</td>\n",
       "      <td>0.130603</td>\n",
       "      <td>0.140087</td>\n",
       "      <td>0.021307</td>\n",
       "      <td>0.081168</td>\n",
       "    </tr>\n",
       "    <tr>\n",
       "      <th>4637</th>\n",
       "      <td>us</td>\n",
       "      <td>0.124190</td>\n",
       "      <td>0.108960</td>\n",
       "      <td>0.042675</td>\n",
       "      <td>0.081601</td>\n",
       "    </tr>\n",
       "  </tbody>\n",
       "</table>\n",
       "</div>"
      ],
      "text/plain": [
       "_speaker      index     biden    harris     pence     trump\n",
       "2278           know  0.208280  0.242533  0.140335  0.257837\n",
       "3323      president  0.196802  0.119059  0.349722  0.114591\n",
       "3170         people  0.179366  0.177081  0.080696  0.202203\n",
       "1740          going  0.174345  0.093455  0.116853  0.172811\n",
       "2451           like  0.149356  0.249279  0.047812  0.165026\n",
       "1686            get  0.148178  0.110462  0.023441  0.116853\n",
       "4522          trump  0.140494  0.103819  0.196248  0.067371\n",
       "3020            one  0.139142  0.119123  0.073671  0.141360\n",
       "4579             uh  0.130603  0.140087  0.021307  0.081168\n",
       "4637             us  0.124190  0.108960  0.042675  0.081601"
      ]
     },
     "execution_count": 104,
     "metadata": {},
     "output_type": "execute_result"
    }
   ],
   "source": [
    "# compare to speech-collapsed-into-speaker\n",
    "tfidf_speaker.sort_values('biden', ascending=False).head(10)#[['index']].values"
   ]
  },
  {
   "cell_type": "code",
   "execution_count": 17,
   "metadata": {},
   "outputs": [
    {
     "data": {
      "text/html": [
       "<div>\n",
       "<style scoped>\n",
       "    .dataframe tbody tr th:only-of-type {\n",
       "        vertical-align: middle;\n",
       "    }\n",
       "\n",
       "    .dataframe tbody tr th {\n",
       "        vertical-align: top;\n",
       "    }\n",
       "\n",
       "    .dataframe thead th {\n",
       "        text-align: right;\n",
       "    }\n",
       "</style>\n",
       "<table border=\"1\" class=\"dataframe\">\n",
       "  <thead>\n",
       "    <tr style=\"text-align: right;\">\n",
       "      <th></th>\n",
       "      <th>biden</th>\n",
       "      <th>trump</th>\n",
       "      <th>harris</th>\n",
       "      <th>pence</th>\n",
       "    </tr>\n",
       "  </thead>\n",
       "  <tbody>\n",
       "    <tr>\n",
       "      <th>0</th>\n",
       "      <td>know</td>\n",
       "      <td>know</td>\n",
       "      <td>like</td>\n",
       "      <td>president</td>\n",
       "    </tr>\n",
       "    <tr>\n",
       "      <th>1</th>\n",
       "      <td>president</td>\n",
       "      <td>people</td>\n",
       "      <td>know</td>\n",
       "      <td>president donald trump</td>\n",
       "    </tr>\n",
       "    <tr>\n",
       "      <th>2</th>\n",
       "      <td>people</td>\n",
       "      <td>said</td>\n",
       "      <td>um</td>\n",
       "      <td>president donald</td>\n",
       "    </tr>\n",
       "    <tr>\n",
       "      <th>3</th>\n",
       "      <td>going</td>\n",
       "      <td>great</td>\n",
       "      <td>people</td>\n",
       "      <td>trump</td>\n",
       "    </tr>\n",
       "    <tr>\n",
       "      <th>4</th>\n",
       "      <td>like</td>\n",
       "      <td>going</td>\n",
       "      <td>uh</td>\n",
       "      <td>years</td>\n",
       "    </tr>\n",
       "    <tr>\n",
       "      <th>5</th>\n",
       "      <td>uh</td>\n",
       "      <td>like</td>\n",
       "      <td>would</td>\n",
       "      <td>america</td>\n",
       "    </tr>\n",
       "    <tr>\n",
       "      <th>6</th>\n",
       "      <td>get</td>\n",
       "      <td>want</td>\n",
       "      <td>right</td>\n",
       "      <td>know</td>\n",
       "    </tr>\n",
       "    <tr>\n",
       "      <th>7</th>\n",
       "      <td>one</td>\n",
       "      <td>right</td>\n",
       "      <td>one</td>\n",
       "      <td>donald trump</td>\n",
       "    </tr>\n",
       "    <tr>\n",
       "      <th>8</th>\n",
       "      <td>trump</td>\n",
       "      <td>one</td>\n",
       "      <td>affordable care</td>\n",
       "      <td>donald</td>\n",
       "    </tr>\n",
       "    <tr>\n",
       "      <th>9</th>\n",
       "      <td>us</td>\n",
       "      <td>thank</td>\n",
       "      <td>yeah</td>\n",
       "      <td>american</td>\n",
       "    </tr>\n",
       "  </tbody>\n",
       "</table>\n",
       "</div>"
      ],
      "text/plain": [
       "       biden   trump           harris                   pence\n",
       "0       know    know             like               president\n",
       "1  president  people             know  president donald trump\n",
       "2     people    said               um        president donald\n",
       "3      going   great           people                   trump\n",
       "4       like   going               uh                   years\n",
       "5         uh    like            would                 america\n",
       "6        get    want            right                    know\n",
       "7        one   right              one            donald trump\n",
       "8      trump     one  affordable care                  donald\n",
       "9         us   thank             yeah                american"
      ]
     },
     "execution_count": 17,
     "metadata": {},
     "output_type": "execute_result"
    }
   ],
   "source": [
    "top10 = pd.DataFrame(tfidf_speaker.sort_values('biden', ascending=False).head(10)[['index']].values)\n",
    "top10.columns = ['biden']\n",
    "top10['trump'] = tfidf_speaker.sort_values('trump', ascending=False).head(10)[['index']].values\n",
    "top10['harris'] = tfidf_speaker.sort_values('harris', ascending=False).head(10)[['index']].values\n",
    "top10['pence'] = tfidf_speaker.sort_values('pence', ascending=False).head(10)[['index']].values\n",
    "top10"
   ]
  },
  {
   "cell_type": "code",
   "execution_count": 18,
   "metadata": {},
   "outputs": [],
   "source": [
    "tfidf_speaker['avg'] = np.mean(tfidf_speaker, axis=1)"
   ]
  },
  {
   "cell_type": "code",
   "execution_count": 19,
   "metadata": {},
   "outputs": [
    {
     "data": {
      "text/plain": [
       "Index(['index', 'biden', 'harris', 'pence', 'trump', 'avg'], dtype='object', name='_speaker')"
      ]
     },
     "execution_count": 19,
     "metadata": {},
     "output_type": "execute_result"
    }
   ],
   "source": [
    "tfidf_speaker.columns"
   ]
  },
  {
   "cell_type": "code",
   "execution_count": 22,
   "metadata": {},
   "outputs": [],
   "source": [
    "from sklearn.metrics.pairwise import cosine_similarity\n",
    "cs = cosine_similarity(tfidf_short)\n",
    "csdf = pd.DataFrame(data=cs, index=['biden','harris','pence','trump'], columns=['biden','harris','pence','trump'])"
   ]
  },
  {
   "cell_type": "code",
   "execution_count": 23,
   "metadata": {},
   "outputs": [
    {
     "data": {
      "text/html": [
       "<div>\n",
       "<style scoped>\n",
       "    .dataframe tbody tr th:only-of-type {\n",
       "        vertical-align: middle;\n",
       "    }\n",
       "\n",
       "    .dataframe tbody tr th {\n",
       "        vertical-align: top;\n",
       "    }\n",
       "\n",
       "    .dataframe thead th {\n",
       "        text-align: right;\n",
       "    }\n",
       "</style>\n",
       "<table border=\"1\" class=\"dataframe\">\n",
       "  <thead>\n",
       "    <tr style=\"text-align: right;\">\n",
       "      <th></th>\n",
       "      <th>biden</th>\n",
       "      <th>harris</th>\n",
       "      <th>pence</th>\n",
       "      <th>trump</th>\n",
       "    </tr>\n",
       "  </thead>\n",
       "  <tbody>\n",
       "    <tr>\n",
       "      <th>biden</th>\n",
       "      <td>1.000000</td>\n",
       "      <td>0.770182</td>\n",
       "      <td>0.591001</td>\n",
       "      <td>0.812160</td>\n",
       "    </tr>\n",
       "    <tr>\n",
       "      <th>harris</th>\n",
       "      <td>0.770182</td>\n",
       "      <td>1.000000</td>\n",
       "      <td>0.478395</td>\n",
       "      <td>0.734717</td>\n",
       "    </tr>\n",
       "    <tr>\n",
       "      <th>pence</th>\n",
       "      <td>0.591001</td>\n",
       "      <td>0.478395</td>\n",
       "      <td>1.000000</td>\n",
       "      <td>0.595842</td>\n",
       "    </tr>\n",
       "    <tr>\n",
       "      <th>trump</th>\n",
       "      <td>0.812160</td>\n",
       "      <td>0.734717</td>\n",
       "      <td>0.595842</td>\n",
       "      <td>1.000000</td>\n",
       "    </tr>\n",
       "  </tbody>\n",
       "</table>\n",
       "</div>"
      ],
      "text/plain": [
       "           biden    harris     pence     trump\n",
       "biden   1.000000  0.770182  0.591001  0.812160\n",
       "harris  0.770182  1.000000  0.478395  0.734717\n",
       "pence   0.591001  0.478395  1.000000  0.595842\n",
       "trump   0.812160  0.734717  0.595842  1.000000"
      ]
     },
     "execution_count": 23,
     "metadata": {},
     "output_type": "execute_result"
    }
   ],
   "source": [
    "csdf"
   ]
  },
  {
   "cell_type": "code",
   "execution_count": 16,
   "metadata": {},
   "outputs": [],
   "source": [
    "# let's look at cosine similarity for all the speeches\n",
    "from sklearn.metrics.pairwise import cosine_similarity\n",
    "tfidf_df_mean = tfidf_df.mean()\n",
    "tfidf_a = tfidf_df.T\n",
    "tfidf_a['avg'] = tfidf_df_mean\n",
    "all_sp = tfidf_a.sort_values(['avg'], ascending=False)\\\n",
    "    .drop(columns=['avg'])\\\n",
    "    .head(30000).T\n",
    "\n",
    "csa = cosine_similarity(all_sp)\n",
    "csadf = pd.DataFrame(data=csa, index=bow.index, columns=bow.index)"
   ]
  },
  {
   "cell_type": "code",
   "execution_count": 17,
   "metadata": {},
   "outputs": [
    {
     "data": {
      "text/html": [
       "<div>\n",
       "<style scoped>\n",
       "    .dataframe tbody tr th:only-of-type {\n",
       "        vertical-align: middle;\n",
       "    }\n",
       "\n",
       "    .dataframe tbody tr th {\n",
       "        vertical-align: top;\n",
       "    }\n",
       "\n",
       "    .dataframe thead th {\n",
       "        text-align: right;\n",
       "    }\n",
       "</style>\n",
       "<table border=\"1\" class=\"dataframe\">\n",
       "  <thead>\n",
       "    <tr style=\"text-align: right;\">\n",
       "      <th>id</th>\n",
       "      <th>oWlLZZ8pcp8</th>\n",
       "      <th>Z6N1WdJgnLo</th>\n",
       "      <th>WIwGrZKdsY0</th>\n",
       "      <th>u-AEAq7jzcU</th>\n",
       "      <th>GgINUxecNrg</th>\n",
       "      <th>S7j1hYXD0uk</th>\n",
       "      <th>yE2sMLutWZA</th>\n",
       "      <th>MEqINP-TuV8</th>\n",
       "      <th>xH-iCVFTb6w</th>\n",
       "      <th>Vd65smKGDVo</th>\n",
       "      <th>...</th>\n",
       "      <th>X_GInHCSOEc</th>\n",
       "      <th>W6QWULSog5I</th>\n",
       "      <th>qFmTXoNnUks</th>\n",
       "      <th>HNJ1n0nBb8k</th>\n",
       "      <th>Xwx_9f1zxjk</th>\n",
       "      <th>3NUl7qoedtw</th>\n",
       "      <th>VF6kAXnRMLs</th>\n",
       "      <th>eGhM2w3Wt_M</th>\n",
       "      <th>BmSSNWScR_c</th>\n",
       "      <th>4lGvJJKfekk</th>\n",
       "    </tr>\n",
       "    <tr>\n",
       "      <th>id</th>\n",
       "      <th></th>\n",
       "      <th></th>\n",
       "      <th></th>\n",
       "      <th></th>\n",
       "      <th></th>\n",
       "      <th></th>\n",
       "      <th></th>\n",
       "      <th></th>\n",
       "      <th></th>\n",
       "      <th></th>\n",
       "      <th></th>\n",
       "      <th></th>\n",
       "      <th></th>\n",
       "      <th></th>\n",
       "      <th></th>\n",
       "      <th></th>\n",
       "      <th></th>\n",
       "      <th></th>\n",
       "      <th></th>\n",
       "      <th></th>\n",
       "      <th></th>\n",
       "    </tr>\n",
       "  </thead>\n",
       "  <tbody>\n",
       "    <tr>\n",
       "      <th>oWlLZZ8pcp8</th>\n",
       "      <td>1.000000</td>\n",
       "      <td>0.424373</td>\n",
       "      <td>0.763841</td>\n",
       "      <td>0.409552</td>\n",
       "      <td>0.681015</td>\n",
       "      <td>0.282231</td>\n",
       "      <td>0.267768</td>\n",
       "      <td>0.677255</td>\n",
       "      <td>0.280649</td>\n",
       "      <td>0.219133</td>\n",
       "      <td>...</td>\n",
       "      <td>0.356677</td>\n",
       "      <td>0.436982</td>\n",
       "      <td>0.435281</td>\n",
       "      <td>0.401092</td>\n",
       "      <td>0.403666</td>\n",
       "      <td>0.436982</td>\n",
       "      <td>0.309612</td>\n",
       "      <td>0.325384</td>\n",
       "      <td>0.615758</td>\n",
       "      <td>0.331617</td>\n",
       "    </tr>\n",
       "    <tr>\n",
       "      <th>Z6N1WdJgnLo</th>\n",
       "      <td>0.424373</td>\n",
       "      <td>1.000000</td>\n",
       "      <td>0.458000</td>\n",
       "      <td>0.493844</td>\n",
       "      <td>0.448534</td>\n",
       "      <td>0.275262</td>\n",
       "      <td>0.199437</td>\n",
       "      <td>0.416777</td>\n",
       "      <td>0.204535</td>\n",
       "      <td>0.181064</td>\n",
       "      <td>...</td>\n",
       "      <td>0.266301</td>\n",
       "      <td>0.427140</td>\n",
       "      <td>0.298895</td>\n",
       "      <td>0.293774</td>\n",
       "      <td>0.293766</td>\n",
       "      <td>0.427140</td>\n",
       "      <td>0.330769</td>\n",
       "      <td>0.306363</td>\n",
       "      <td>0.373197</td>\n",
       "      <td>0.258014</td>\n",
       "    </tr>\n",
       "    <tr>\n",
       "      <th>WIwGrZKdsY0</th>\n",
       "      <td>0.763841</td>\n",
       "      <td>0.458000</td>\n",
       "      <td>1.000000</td>\n",
       "      <td>0.460827</td>\n",
       "      <td>0.688681</td>\n",
       "      <td>0.272893</td>\n",
       "      <td>0.245406</td>\n",
       "      <td>0.679570</td>\n",
       "      <td>0.307138</td>\n",
       "      <td>0.204337</td>\n",
       "      <td>...</td>\n",
       "      <td>0.339755</td>\n",
       "      <td>0.468476</td>\n",
       "      <td>0.474096</td>\n",
       "      <td>0.390889</td>\n",
       "      <td>0.394805</td>\n",
       "      <td>0.468476</td>\n",
       "      <td>0.331223</td>\n",
       "      <td>0.360635</td>\n",
       "      <td>0.633390</td>\n",
       "      <td>0.350351</td>\n",
       "    </tr>\n",
       "    <tr>\n",
       "      <th>u-AEAq7jzcU</th>\n",
       "      <td>0.409552</td>\n",
       "      <td>0.493844</td>\n",
       "      <td>0.460827</td>\n",
       "      <td>1.000000</td>\n",
       "      <td>0.437212</td>\n",
       "      <td>0.261972</td>\n",
       "      <td>0.293186</td>\n",
       "      <td>0.440069</td>\n",
       "      <td>0.279091</td>\n",
       "      <td>0.258455</td>\n",
       "      <td>...</td>\n",
       "      <td>0.348476</td>\n",
       "      <td>0.458098</td>\n",
       "      <td>0.311049</td>\n",
       "      <td>0.351984</td>\n",
       "      <td>0.354150</td>\n",
       "      <td>0.458098</td>\n",
       "      <td>0.356430</td>\n",
       "      <td>0.348511</td>\n",
       "      <td>0.388029</td>\n",
       "      <td>0.281364</td>\n",
       "    </tr>\n",
       "    <tr>\n",
       "      <th>GgINUxecNrg</th>\n",
       "      <td>0.681015</td>\n",
       "      <td>0.448534</td>\n",
       "      <td>0.688681</td>\n",
       "      <td>0.437212</td>\n",
       "      <td>1.000000</td>\n",
       "      <td>0.283652</td>\n",
       "      <td>0.294626</td>\n",
       "      <td>0.680670</td>\n",
       "      <td>0.278249</td>\n",
       "      <td>0.244923</td>\n",
       "      <td>...</td>\n",
       "      <td>0.364739</td>\n",
       "      <td>0.451681</td>\n",
       "      <td>0.425435</td>\n",
       "      <td>0.400648</td>\n",
       "      <td>0.407576</td>\n",
       "      <td>0.451681</td>\n",
       "      <td>0.303675</td>\n",
       "      <td>0.346627</td>\n",
       "      <td>0.561921</td>\n",
       "      <td>0.309462</td>\n",
       "    </tr>\n",
       "    <tr>\n",
       "      <th>...</th>\n",
       "      <td>...</td>\n",
       "      <td>...</td>\n",
       "      <td>...</td>\n",
       "      <td>...</td>\n",
       "      <td>...</td>\n",
       "      <td>...</td>\n",
       "      <td>...</td>\n",
       "      <td>...</td>\n",
       "      <td>...</td>\n",
       "      <td>...</td>\n",
       "      <td>...</td>\n",
       "      <td>...</td>\n",
       "      <td>...</td>\n",
       "      <td>...</td>\n",
       "      <td>...</td>\n",
       "      <td>...</td>\n",
       "      <td>...</td>\n",
       "      <td>...</td>\n",
       "      <td>...</td>\n",
       "      <td>...</td>\n",
       "      <td>...</td>\n",
       "    </tr>\n",
       "    <tr>\n",
       "      <th>3NUl7qoedtw</th>\n",
       "      <td>0.436982</td>\n",
       "      <td>0.427140</td>\n",
       "      <td>0.468476</td>\n",
       "      <td>0.458098</td>\n",
       "      <td>0.451681</td>\n",
       "      <td>0.275932</td>\n",
       "      <td>0.241769</td>\n",
       "      <td>0.416715</td>\n",
       "      <td>0.207450</td>\n",
       "      <td>0.211101</td>\n",
       "      <td>...</td>\n",
       "      <td>0.412797</td>\n",
       "      <td>1.000000</td>\n",
       "      <td>0.369231</td>\n",
       "      <td>0.430031</td>\n",
       "      <td>0.437432</td>\n",
       "      <td>1.000000</td>\n",
       "      <td>0.392129</td>\n",
       "      <td>0.478830</td>\n",
       "      <td>0.447937</td>\n",
       "      <td>0.324893</td>\n",
       "    </tr>\n",
       "    <tr>\n",
       "      <th>VF6kAXnRMLs</th>\n",
       "      <td>0.309612</td>\n",
       "      <td>0.330769</td>\n",
       "      <td>0.331223</td>\n",
       "      <td>0.356430</td>\n",
       "      <td>0.303675</td>\n",
       "      <td>0.228508</td>\n",
       "      <td>0.252255</td>\n",
       "      <td>0.317140</td>\n",
       "      <td>0.192284</td>\n",
       "      <td>0.227229</td>\n",
       "      <td>...</td>\n",
       "      <td>0.316609</td>\n",
       "      <td>0.392129</td>\n",
       "      <td>0.263775</td>\n",
       "      <td>0.327335</td>\n",
       "      <td>0.321085</td>\n",
       "      <td>0.392129</td>\n",
       "      <td>1.000000</td>\n",
       "      <td>0.296893</td>\n",
       "      <td>0.311038</td>\n",
       "      <td>0.201345</td>\n",
       "    </tr>\n",
       "    <tr>\n",
       "      <th>eGhM2w3Wt_M</th>\n",
       "      <td>0.325384</td>\n",
       "      <td>0.306363</td>\n",
       "      <td>0.360635</td>\n",
       "      <td>0.348511</td>\n",
       "      <td>0.346627</td>\n",
       "      <td>0.227342</td>\n",
       "      <td>0.214445</td>\n",
       "      <td>0.331874</td>\n",
       "      <td>0.214678</td>\n",
       "      <td>0.183397</td>\n",
       "      <td>...</td>\n",
       "      <td>0.360854</td>\n",
       "      <td>0.478830</td>\n",
       "      <td>0.255371</td>\n",
       "      <td>0.370304</td>\n",
       "      <td>0.387622</td>\n",
       "      <td>0.478830</td>\n",
       "      <td>0.296893</td>\n",
       "      <td>1.000000</td>\n",
       "      <td>0.350197</td>\n",
       "      <td>0.267766</td>\n",
       "    </tr>\n",
       "    <tr>\n",
       "      <th>BmSSNWScR_c</th>\n",
       "      <td>0.615758</td>\n",
       "      <td>0.373197</td>\n",
       "      <td>0.633390</td>\n",
       "      <td>0.388029</td>\n",
       "      <td>0.561921</td>\n",
       "      <td>0.239727</td>\n",
       "      <td>0.239868</td>\n",
       "      <td>0.557834</td>\n",
       "      <td>0.282894</td>\n",
       "      <td>0.294272</td>\n",
       "      <td>...</td>\n",
       "      <td>0.361609</td>\n",
       "      <td>0.447937</td>\n",
       "      <td>0.456285</td>\n",
       "      <td>0.399606</td>\n",
       "      <td>0.399930</td>\n",
       "      <td>0.447937</td>\n",
       "      <td>0.311038</td>\n",
       "      <td>0.350197</td>\n",
       "      <td>1.000000</td>\n",
       "      <td>0.396985</td>\n",
       "    </tr>\n",
       "    <tr>\n",
       "      <th>4lGvJJKfekk</th>\n",
       "      <td>0.331617</td>\n",
       "      <td>0.258014</td>\n",
       "      <td>0.350351</td>\n",
       "      <td>0.281364</td>\n",
       "      <td>0.309462</td>\n",
       "      <td>0.146677</td>\n",
       "      <td>0.134015</td>\n",
       "      <td>0.303583</td>\n",
       "      <td>0.140820</td>\n",
       "      <td>0.113415</td>\n",
       "      <td>...</td>\n",
       "      <td>0.275437</td>\n",
       "      <td>0.324893</td>\n",
       "      <td>0.463009</td>\n",
       "      <td>0.290473</td>\n",
       "      <td>0.294598</td>\n",
       "      <td>0.324893</td>\n",
       "      <td>0.201345</td>\n",
       "      <td>0.267766</td>\n",
       "      <td>0.396985</td>\n",
       "      <td>1.000000</td>\n",
       "    </tr>\n",
       "  </tbody>\n",
       "</table>\n",
       "<p>168 rows × 168 columns</p>\n",
       "</div>"
      ],
      "text/plain": [
       "id           oWlLZZ8pcp8  Z6N1WdJgnLo  WIwGrZKdsY0  u-AEAq7jzcU  GgINUxecNrg  \\\n",
       "id                                                                             \n",
       "oWlLZZ8pcp8     1.000000     0.424373     0.763841     0.409552     0.681015   \n",
       "Z6N1WdJgnLo     0.424373     1.000000     0.458000     0.493844     0.448534   \n",
       "WIwGrZKdsY0     0.763841     0.458000     1.000000     0.460827     0.688681   \n",
       "u-AEAq7jzcU     0.409552     0.493844     0.460827     1.000000     0.437212   \n",
       "GgINUxecNrg     0.681015     0.448534     0.688681     0.437212     1.000000   \n",
       "...                  ...          ...          ...          ...          ...   \n",
       "3NUl7qoedtw     0.436982     0.427140     0.468476     0.458098     0.451681   \n",
       "VF6kAXnRMLs     0.309612     0.330769     0.331223     0.356430     0.303675   \n",
       "eGhM2w3Wt_M     0.325384     0.306363     0.360635     0.348511     0.346627   \n",
       "BmSSNWScR_c     0.615758     0.373197     0.633390     0.388029     0.561921   \n",
       "4lGvJJKfekk     0.331617     0.258014     0.350351     0.281364     0.309462   \n",
       "\n",
       "id           S7j1hYXD0uk  yE2sMLutWZA  MEqINP-TuV8  xH-iCVFTb6w  Vd65smKGDVo  \\\n",
       "id                                                                             \n",
       "oWlLZZ8pcp8     0.282231     0.267768     0.677255     0.280649     0.219133   \n",
       "Z6N1WdJgnLo     0.275262     0.199437     0.416777     0.204535     0.181064   \n",
       "WIwGrZKdsY0     0.272893     0.245406     0.679570     0.307138     0.204337   \n",
       "u-AEAq7jzcU     0.261972     0.293186     0.440069     0.279091     0.258455   \n",
       "GgINUxecNrg     0.283652     0.294626     0.680670     0.278249     0.244923   \n",
       "...                  ...          ...          ...          ...          ...   \n",
       "3NUl7qoedtw     0.275932     0.241769     0.416715     0.207450     0.211101   \n",
       "VF6kAXnRMLs     0.228508     0.252255     0.317140     0.192284     0.227229   \n",
       "eGhM2w3Wt_M     0.227342     0.214445     0.331874     0.214678     0.183397   \n",
       "BmSSNWScR_c     0.239727     0.239868     0.557834     0.282894     0.294272   \n",
       "4lGvJJKfekk     0.146677     0.134015     0.303583     0.140820     0.113415   \n",
       "\n",
       "id           ...  X_GInHCSOEc  W6QWULSog5I  qFmTXoNnUks  HNJ1n0nBb8k  \\\n",
       "id           ...                                                       \n",
       "oWlLZZ8pcp8  ...     0.356677     0.436982     0.435281     0.401092   \n",
       "Z6N1WdJgnLo  ...     0.266301     0.427140     0.298895     0.293774   \n",
       "WIwGrZKdsY0  ...     0.339755     0.468476     0.474096     0.390889   \n",
       "u-AEAq7jzcU  ...     0.348476     0.458098     0.311049     0.351984   \n",
       "GgINUxecNrg  ...     0.364739     0.451681     0.425435     0.400648   \n",
       "...          ...          ...          ...          ...          ...   \n",
       "3NUl7qoedtw  ...     0.412797     1.000000     0.369231     0.430031   \n",
       "VF6kAXnRMLs  ...     0.316609     0.392129     0.263775     0.327335   \n",
       "eGhM2w3Wt_M  ...     0.360854     0.478830     0.255371     0.370304   \n",
       "BmSSNWScR_c  ...     0.361609     0.447937     0.456285     0.399606   \n",
       "4lGvJJKfekk  ...     0.275437     0.324893     0.463009     0.290473   \n",
       "\n",
       "id           Xwx_9f1zxjk  3NUl7qoedtw  VF6kAXnRMLs  eGhM2w3Wt_M  BmSSNWScR_c  \\\n",
       "id                                                                             \n",
       "oWlLZZ8pcp8     0.403666     0.436982     0.309612     0.325384     0.615758   \n",
       "Z6N1WdJgnLo     0.293766     0.427140     0.330769     0.306363     0.373197   \n",
       "WIwGrZKdsY0     0.394805     0.468476     0.331223     0.360635     0.633390   \n",
       "u-AEAq7jzcU     0.354150     0.458098     0.356430     0.348511     0.388029   \n",
       "GgINUxecNrg     0.407576     0.451681     0.303675     0.346627     0.561921   \n",
       "...                  ...          ...          ...          ...          ...   \n",
       "3NUl7qoedtw     0.437432     1.000000     0.392129     0.478830     0.447937   \n",
       "VF6kAXnRMLs     0.321085     0.392129     1.000000     0.296893     0.311038   \n",
       "eGhM2w3Wt_M     0.387622     0.478830     0.296893     1.000000     0.350197   \n",
       "BmSSNWScR_c     0.399930     0.447937     0.311038     0.350197     1.000000   \n",
       "4lGvJJKfekk     0.294598     0.324893     0.201345     0.267766     0.396985   \n",
       "\n",
       "id           4lGvJJKfekk  \n",
       "id                        \n",
       "oWlLZZ8pcp8     0.331617  \n",
       "Z6N1WdJgnLo     0.258014  \n",
       "WIwGrZKdsY0     0.350351  \n",
       "u-AEAq7jzcU     0.281364  \n",
       "GgINUxecNrg     0.309462  \n",
       "...                  ...  \n",
       "3NUl7qoedtw     0.324893  \n",
       "VF6kAXnRMLs     0.201345  \n",
       "eGhM2w3Wt_M     0.267766  \n",
       "BmSSNWScR_c     0.396985  \n",
       "4lGvJJKfekk     1.000000  \n",
       "\n",
       "[168 rows x 168 columns]"
      ]
     },
     "execution_count": 17,
     "metadata": {},
     "output_type": "execute_result"
    }
   ],
   "source": [
    "csadf"
   ]
  },
  {
   "cell_type": "code",
   "execution_count": 18,
   "metadata": {},
   "outputs": [],
   "source": [
    "csadf.to_csv('speech_similarity.csv')"
   ]
  },
  {
   "cell_type": "markdown",
   "metadata": {},
   "source": [
    "## Hierarchical Cluster Analysis and Dendrograms"
   ]
  },
  {
   "cell_type": "code",
   "execution_count": 37,
   "metadata": {},
   "outputs": [],
   "source": [
    "import scipy.cluster.hierarchy as sch\n",
    "def hca(sims, linkage_method='ward', color_thresh=.3, figsize=(10, 30)):\n",
    "    tree = sch.linkage(sims, method=linkage_method)\n",
    "    labels = bow.speaker.values \n",
    "    plt.figure()\n",
    "    fig, axes = plt.subplots(figsize=figsize)\n",
    "    dendrogram = sch.dendrogram(tree, \n",
    "                                labels=labels, \n",
    "                                orientation=\"left\", \n",
    "                                count_sort=True,\n",
    "                                distance_sort=True,\n",
    "                                above_threshold_color='.75',\n",
    "                                color_threshold=color_thresh\n",
    "                               )\n",
    "    plt.tick_params(axis='both', which='major', labelsize=14)"
   ]
  },
  {
   "cell_type": "code",
   "execution_count": 39,
   "metadata": {},
   "outputs": [
    {
     "data": {
      "text/plain": [
       "<Figure size 432x288 with 0 Axes>"
      ]
     },
     "metadata": {},
     "output_type": "display_data"
    },
    {
     "data": {
      "image/png": "[encoded data removed]",
      "text/plain": [
       "<Figure size 720x2160 with 1 Axes>"
      ]
     },
     "metadata": {
      "needs_background": "light"
     },
     "output_type": "display_data"
    }
   ],
   "source": [
    "from scipy.spatial.distance import pdist\n",
    "from matplotlib import pyplot as plt\n",
    "\n",
    "all_sp = tfidf_df\n",
    "L1 = all_sp.apply(lambda x: x / x.sum(), 1)\n",
    "\n",
    "PAIRS = pd.DataFrame(index=pd.MultiIndex.from_product([bow.index.tolist(), bow.index.tolist()])).reset_index()\n",
    "PAIRS = PAIRS[PAIRS.level_0 < PAIRS.level_1].set_index(['level_0','level_1'])\n",
    "PAIRS.index.names = ['speech_a', 'speech_b']\n",
    "\n",
    "PAIRS['cosine'] = pdist(L1, 'cosine')\n",
    "PAIRS['cityblock'] = pdist(L1, 'cityblock')\n",
    "\n",
    "hca(PAIRS['cosine'], color_thresh=2)\n",
    "#hca(PAIRS['cityblock'], color_thresh=4.6)"
   ]
  },
  {
   "cell_type": "markdown",
   "metadata": {},
   "source": [
    "### Group 0 (red): Trump rallies\n",
    "1 speech labeled \"harris\", actually titled \"Trump blasts Joe Biden, mocks Kamala Harris at..\" bxuykoOlwjA\n",
    "1 \"pence\" speech, but the first 1.5 hours are random crowd talking, followed by a short Pence speech\n",
    "\n",
    "### Group 1 (purple): Formal, \"presidential\" speeches\n",
    "33/61 speeches Biden\n",
    "15 trump, 11 harris, 2 pence\n",
    "Interestingly, these Trump speeches are not rallies, but major public appearances - SOTU, RNC, 4th of July, 60 minutes, etc.\n",
    "\n",
    "### Group 2 (blue): Pence speeches (21/26)\n",
    "1 \"biden\" actually Pence\n",
    "\n",
    "### Group 3 (green): Casual talk\n",
    "7 interviews, a couple press conferences, several miscategorized talk shows"
   ]
  },
  {
   "cell_type": "code",
   "execution_count": 52,
   "metadata": {},
   "outputs": [],
   "source": [
    "tree = sch.linkage(PAIRS['cosine'], method='ward')\n",
    "cuts = sch.cut_tree(tree, height=2)\n",
    "bow['group'] = cuts\n",
    "bow['date'] = pd.to_datetime(bow['date'])"
   ]
  },
  {
   "cell_type": "code",
   "execution_count": 96,
   "metadata": {},
   "outputs": [
    {
     "data": {
      "image/png": "[encoded data removed]",
      "text/plain": [
       "<Figure size 432x288 with 1 Axes>"
      ]
     },
     "metadata": {
      "needs_background": "light"
     },
     "output_type": "display_data"
    }
   ],
   "source": [
    "ax = bow.sort_values(['date']).reset_index().plot.scatter('date','group')\n",
    "plt.setp(ax.get_xticklabels(), rotation=45)\n",
    "plt.title('Clusters plotted by date')\n",
    "plt.show()"
   ]
  },
  {
   "cell_type": "code",
   "execution_count": 92,
   "metadata": {},
   "outputs": [
    {
     "data": {
      "text/html": [
       "<div>\n",
       "<style scoped>\n",
       "    .dataframe tbody tr th:only-of-type {\n",
       "        vertical-align: middle;\n",
       "    }\n",
       "\n",
       "    .dataframe tbody tr th {\n",
       "        vertical-align: top;\n",
       "    }\n",
       "\n",
       "    .dataframe thead th {\n",
       "        text-align: right;\n",
       "    }\n",
       "</style>\n",
       "<table border=\"1\" class=\"dataframe\">\n",
       "  <thead>\n",
       "    <tr style=\"text-align: right;\">\n",
       "      <th></th>\n",
       "      <th>date</th>\n",
       "    </tr>\n",
       "    <tr>\n",
       "      <th>speaker</th>\n",
       "      <th></th>\n",
       "    </tr>\n",
       "  </thead>\n",
       "  <tbody>\n",
       "    <tr>\n",
       "      <th>biden</th>\n",
       "      <td>8</td>\n",
       "    </tr>\n",
       "    <tr>\n",
       "      <th>harris</th>\n",
       "      <td>8</td>\n",
       "    </tr>\n",
       "    <tr>\n",
       "      <th>pence</th>\n",
       "      <td>1</td>\n",
       "    </tr>\n",
       "    <tr>\n",
       "      <th>trump</th>\n",
       "      <td>13</td>\n",
       "    </tr>\n",
       "  </tbody>\n",
       "</table>\n",
       "</div>"
      ],
      "text/plain": [
       "         date\n",
       "speaker      \n",
       "biden       8\n",
       "harris      8\n",
       "pence       1\n",
       "trump      13"
      ]
     },
     "execution_count": 92,
     "metadata": {},
     "output_type": "execute_result"
    }
   ],
   "source": [
    "bow[bow['group']==3][['speaker','date']].groupby('speaker').count()"
   ]
  },
  {
   "cell_type": "code",
   "execution_count": 98,
   "metadata": {
    "scrolled": true
   },
   "outputs": [
    {
     "data": {
      "text/html": [
       "<div>\n",
       "<style scoped>\n",
       "    .dataframe tbody tr th:only-of-type {\n",
       "        vertical-align: middle;\n",
       "    }\n",
       "\n",
       "    .dataframe tbody tr th {\n",
       "        vertical-align: top;\n",
       "    }\n",
       "\n",
       "    .dataframe thead th {\n",
       "        text-align: right;\n",
       "    }\n",
       "</style>\n",
       "<table border=\"1\" class=\"dataframe\">\n",
       "  <thead>\n",
       "    <tr style=\"text-align: right;\">\n",
       "      <th></th>\n",
       "      <th>speaker</th>\n",
       "      <th>date</th>\n",
       "      <th>title</th>\n",
       "      <th>transcript_type</th>\n",
       "    </tr>\n",
       "    <tr>\n",
       "      <th>id</th>\n",
       "      <th></th>\n",
       "      <th></th>\n",
       "      <th></th>\n",
       "      <th></th>\n",
       "    </tr>\n",
       "  </thead>\n",
       "  <tbody>\n",
       "    <tr>\n",
       "      <th>8fjmmw7TNPY</th>\n",
       "      <td>biden</td>\n",
       "      <td>2020-10-26 07:19:29+00:00</td>\n",
       "      <td>Talk Time 🔴 Watch Joe Biden’s Full Interview W...</td>\n",
       "      <td>interview</td>\n",
       "    </tr>\n",
       "    <tr>\n",
       "      <th>dx1PDSKMl6s</th>\n",
       "      <td>biden</td>\n",
       "      <td>2020-10-19 16:00:30+00:00</td>\n",
       "      <td>Noam Chomsky / Bad Faith Debate on Voting for ...</td>\n",
       "      <td>speech</td>\n",
       "    </tr>\n",
       "    <tr>\n",
       "      <th>I-8BtQg6F2A</th>\n",
       "      <td>biden</td>\n",
       "      <td>2020-10-17 16:16:42+00:00</td>\n",
       "      <td>War Room: Pandemic Ep 443 -The CCP's Ownership...</td>\n",
       "      <td>speech</td>\n",
       "    </tr>\n",
       "    <tr>\n",
       "      <th>0uvbOXfFEi8</th>\n",
       "      <td>biden</td>\n",
       "      <td>2020-10-13 03:05:59+00:00</td>\n",
       "      <td>Joe Biden's Body Language - Interview About Ta...</td>\n",
       "      <td>interview</td>\n",
       "    </tr>\n",
       "    <tr>\n",
       "      <th>8gvkshtY1kk</th>\n",
       "      <td>biden</td>\n",
       "      <td>2020-09-25 16:37:24+00:00</td>\n",
       "      <td>\"Benjamin Crump Interview, Joe Biden Interview...</td>\n",
       "      <td>interview</td>\n",
       "    </tr>\n",
       "    <tr>\n",
       "      <th>w1q10K8Cmic</th>\n",
       "      <td>biden</td>\n",
       "      <td>2020-09-30 02:57:05+00:00</td>\n",
       "      <td>9-3-20 Biden Visits Kenosha, full livestream c...</td>\n",
       "      <td>speech</td>\n",
       "    </tr>\n",
       "    <tr>\n",
       "      <th>NKbhNPHxGdI</th>\n",
       "      <td>biden</td>\n",
       "      <td>2020-10-06 20:58:17+00:00</td>\n",
       "      <td>FULL VIDEO: Joe Biden delivers address on nati...</td>\n",
       "      <td>speech</td>\n",
       "    </tr>\n",
       "    <tr>\n",
       "      <th>4lGvJJKfekk</th>\n",
       "      <td>biden</td>\n",
       "      <td>2020-10-24 19:04:05+00:00</td>\n",
       "      <td>Reaction to Hunter Biden’s Business Partner Sp...</td>\n",
       "      <td>speech</td>\n",
       "    </tr>\n",
       "    <tr>\n",
       "      <th>tes38JVOLM0</th>\n",
       "      <td>harris</td>\n",
       "      <td>2020-10-21 01:47:37+00:00</td>\n",
       "      <td>Kamala Harris gets REAL with CJ McCollum, Dono...</td>\n",
       "      <td>speech</td>\n",
       "    </tr>\n",
       "    <tr>\n",
       "      <th>7Ol3RSIykPc</th>\n",
       "      <td>harris</td>\n",
       "      <td>2020-10-12 12:00:11+00:00</td>\n",
       "      <td>How Facebook opened Pandora’s box - Tristan Ha...</td>\n",
       "      <td>speech</td>\n",
       "    </tr>\n",
       "    <tr>\n",
       "      <th>K39Emjp4wJ0</th>\n",
       "      <td>harris</td>\n",
       "      <td>2020-10-10 02:48:25+00:00</td>\n",
       "      <td>Lindsey Graham Jaime Harrison debate forum: fu...</td>\n",
       "      <td>speech</td>\n",
       "    </tr>\n",
       "    <tr>\n",
       "      <th>OR7aIiZgkSU</th>\n",
       "      <td>harris</td>\n",
       "      <td>2020-10-09 12:00:11+00:00</td>\n",
       "      <td>LisaRaye, Trump's COVID-19, \"Tiny\" Harris, and...</td>\n",
       "      <td>speech</td>\n",
       "    </tr>\n",
       "    <tr>\n",
       "      <th>sNzvRHEU4P0</th>\n",
       "      <td>harris</td>\n",
       "      <td>2020-10-08 18:36:41+00:00</td>\n",
       "      <td>How I know BLM is Full of Crap: Kamala Harris,...</td>\n",
       "      <td>speech</td>\n",
       "    </tr>\n",
       "    <tr>\n",
       "      <th>LADHrlBeygs</th>\n",
       "      <td>harris</td>\n",
       "      <td>2020-10-04 23:43:20+00:00</td>\n",
       "      <td>ROARR 98.7 EPISODE OO7: ALEX HARRIS</td>\n",
       "      <td>speech</td>\n",
       "    </tr>\n",
       "    <tr>\n",
       "      <th>75QgFPgSySA</th>\n",
       "      <td>harris</td>\n",
       "      <td>2020-10-02 03:57:12+00:00</td>\n",
       "      <td>Could life exist on other planets? John Harris</td>\n",
       "      <td>speech</td>\n",
       "    </tr>\n",
       "    <tr>\n",
       "      <th>A9D_RLWyxZU</th>\n",
       "      <td>harris</td>\n",
       "      <td>2020-10-04 07:17:42+00:00</td>\n",
       "      <td>Jaime Harrison mops the floor with Lindsey Gra...</td>\n",
       "      <td>speech</td>\n",
       "    </tr>\n",
       "    <tr>\n",
       "      <th>WX1wwgm9GZ0</th>\n",
       "      <td>pence</td>\n",
       "      <td>2020-10-02 19:58:52+00:00</td>\n",
       "      <td>Canvas + O365 Integration with Jeff Pence</td>\n",
       "      <td>speech</td>\n",
       "    </tr>\n",
       "    <tr>\n",
       "      <th>AvbHCvg2DS4</th>\n",
       "      <td>trump</td>\n",
       "      <td>2020-10-05 19:39:35+00:00</td>\n",
       "      <td>White House physician provides update on Trump...</td>\n",
       "      <td>speech</td>\n",
       "    </tr>\n",
       "    <tr>\n",
       "      <th>sKCkM-f2Qk4</th>\n",
       "      <td>trump</td>\n",
       "      <td>2020-10-06 03:16:46+00:00</td>\n",
       "      <td>LIVE: Trump Returns to the White House With Co...</td>\n",
       "      <td>speech</td>\n",
       "    </tr>\n",
       "    <tr>\n",
       "      <th>yortSGqDpIc</th>\n",
       "      <td>trump</td>\n",
       "      <td>2020-10-07 01:21:31+00:00</td>\n",
       "      <td>Trump backs out of relief talks as he continue...</td>\n",
       "      <td>speech</td>\n",
       "    </tr>\n",
       "    <tr>\n",
       "      <th>6Zg1ij9NtUM</th>\n",
       "      <td>trump</td>\n",
       "      <td>2020-09-28 20:11:10+00:00</td>\n",
       "      <td>Trump Gives Update On Coronavirus Testing Stra...</td>\n",
       "      <td>speech</td>\n",
       "    </tr>\n",
       "    <tr>\n",
       "      <th>-bHGb17kejM</th>\n",
       "      <td>trump</td>\n",
       "      <td>2020-09-23 22:54:43+00:00</td>\n",
       "      <td>President Trump holds press conference at the ...</td>\n",
       "      <td>speech</td>\n",
       "    </tr>\n",
       "    <tr>\n",
       "      <th>AZ1tNqhazlE</th>\n",
       "      <td>trump</td>\n",
       "      <td>2020-09-18 19:47:02+00:00</td>\n",
       "      <td>Trump talks COVID-19 vaccine distribution, Tik...</td>\n",
       "      <td>speech</td>\n",
       "    </tr>\n",
       "    <tr>\n",
       "      <th>lLsae1X4gx4</th>\n",
       "      <td>trump</td>\n",
       "      <td>2020-09-01 19:54:33+00:00</td>\n",
       "      <td>Jacob Blake protests: Trump announces funding ...</td>\n",
       "      <td>speech</td>\n",
       "    </tr>\n",
       "    <tr>\n",
       "      <th>IOJSI0Zfjcc</th>\n",
       "      <td>trump</td>\n",
       "      <td>2020-08-17 19:56:13+00:00</td>\n",
       "      <td>WATCH LIVE: President Trump comes to Minnesota...</td>\n",
       "      <td>speech</td>\n",
       "    </tr>\n",
       "    <tr>\n",
       "      <th>XuljlCg7g98</th>\n",
       "      <td>trump</td>\n",
       "      <td>2020-08-13 13:30:08+00:00</td>\n",
       "      <td>Trump slams Kamala Harris, makes 2020 predicti...</td>\n",
       "      <td>interview</td>\n",
       "    </tr>\n",
       "    <tr>\n",
       "      <th>LAu-Sq8oegs</th>\n",
       "      <td>trump</td>\n",
       "      <td>2020-08-04 22:46:52+00:00</td>\n",
       "      <td>Trump offers Lebanon assistance following expl...</td>\n",
       "      <td>speech</td>\n",
       "    </tr>\n",
       "    <tr>\n",
       "      <th>zaaTZkqsaxY</th>\n",
       "      <td>trump</td>\n",
       "      <td>2020-08-04 03:57:59+00:00</td>\n",
       "      <td>AXIOS on HBO: President Trump Exclusive Interv...</td>\n",
       "      <td>interview</td>\n",
       "    </tr>\n",
       "    <tr>\n",
       "      <th>qFmTXoNnUks</th>\n",
       "      <td>trump</td>\n",
       "      <td>2020-10-22 17:23:25+00:00</td>\n",
       "      <td>Trump releases 60 Minutes interview FULL on th...</td>\n",
       "      <td>interview</td>\n",
       "    </tr>\n",
       "    <tr>\n",
       "      <th>W6XdpDOH1JA</th>\n",
       "      <td>trump</td>\n",
       "      <td>2020-07-19 19:30:10+00:00</td>\n",
       "      <td>President Trump goes one-on-one with Chris Wal...</td>\n",
       "      <td>interview</td>\n",
       "    </tr>\n",
       "  </tbody>\n",
       "</table>\n",
       "</div>"
      ],
      "text/plain": [
       "            speaker                      date  \\\n",
       "id                                              \n",
       "8fjmmw7TNPY   biden 2020-10-26 07:19:29+00:00   \n",
       "dx1PDSKMl6s   biden 2020-10-19 16:00:30+00:00   \n",
       "I-8BtQg6F2A   biden 2020-10-17 16:16:42+00:00   \n",
       "0uvbOXfFEi8   biden 2020-10-13 03:05:59+00:00   \n",
       "8gvkshtY1kk   biden 2020-09-25 16:37:24+00:00   \n",
       "w1q10K8Cmic   biden 2020-09-30 02:57:05+00:00   \n",
       "NKbhNPHxGdI   biden 2020-10-06 20:58:17+00:00   \n",
       "4lGvJJKfekk   biden 2020-10-24 19:04:05+00:00   \n",
       "tes38JVOLM0  harris 2020-10-21 01:47:37+00:00   \n",
       "7Ol3RSIykPc  harris 2020-10-12 12:00:11+00:00   \n",
       "K39Emjp4wJ0  harris 2020-10-10 02:48:25+00:00   \n",
       "OR7aIiZgkSU  harris 2020-10-09 12:00:11+00:00   \n",
       "sNzvRHEU4P0  harris 2020-10-08 18:36:41+00:00   \n",
       "LADHrlBeygs  harris 2020-10-04 23:43:20+00:00   \n",
       "75QgFPgSySA  harris 2020-10-02 03:57:12+00:00   \n",
       "A9D_RLWyxZU  harris 2020-10-04 07:17:42+00:00   \n",
       "WX1wwgm9GZ0   pence 2020-10-02 19:58:52+00:00   \n",
       "AvbHCvg2DS4   trump 2020-10-05 19:39:35+00:00   \n",
       "sKCkM-f2Qk4   trump 2020-10-06 03:16:46+00:00   \n",
       "yortSGqDpIc   trump 2020-10-07 01:21:31+00:00   \n",
       "6Zg1ij9NtUM   trump 2020-09-28 20:11:10+00:00   \n",
       "-bHGb17kejM   trump 2020-09-23 22:54:43+00:00   \n",
       "AZ1tNqhazlE   trump 2020-09-18 19:47:02+00:00   \n",
       "lLsae1X4gx4   trump 2020-09-01 19:54:33+00:00   \n",
       "IOJSI0Zfjcc   trump 2020-08-17 19:56:13+00:00   \n",
       "XuljlCg7g98   trump 2020-08-13 13:30:08+00:00   \n",
       "LAu-Sq8oegs   trump 2020-08-04 22:46:52+00:00   \n",
       "zaaTZkqsaxY   trump 2020-08-04 03:57:59+00:00   \n",
       "qFmTXoNnUks   trump 2020-10-22 17:23:25+00:00   \n",
       "W6XdpDOH1JA   trump 2020-07-19 19:30:10+00:00   \n",
       "\n",
       "                                                         title transcript_type  \n",
       "id                                                                              \n",
       "8fjmmw7TNPY  Talk Time 🔴 Watch Joe Biden’s Full Interview W...       interview  \n",
       "dx1PDSKMl6s  Noam Chomsky / Bad Faith Debate on Voting for ...          speech  \n",
       "I-8BtQg6F2A  War Room: Pandemic Ep 443 -The CCP's Ownership...          speech  \n",
       "0uvbOXfFEi8  Joe Biden's Body Language - Interview About Ta...       interview  \n",
       "8gvkshtY1kk  \"Benjamin Crump Interview, Joe Biden Interview...       interview  \n",
       "w1q10K8Cmic  9-3-20 Biden Visits Kenosha, full livestream c...          speech  \n",
       "NKbhNPHxGdI  FULL VIDEO: Joe Biden delivers address on nati...          speech  \n",
       "4lGvJJKfekk  Reaction to Hunter Biden’s Business Partner Sp...          speech  \n",
       "tes38JVOLM0  Kamala Harris gets REAL with CJ McCollum, Dono...          speech  \n",
       "7Ol3RSIykPc  How Facebook opened Pandora’s box - Tristan Ha...          speech  \n",
       "K39Emjp4wJ0  Lindsey Graham Jaime Harrison debate forum: fu...          speech  \n",
       "OR7aIiZgkSU  LisaRaye, Trump's COVID-19, \"Tiny\" Harris, and...          speech  \n",
       "sNzvRHEU4P0  How I know BLM is Full of Crap: Kamala Harris,...          speech  \n",
       "LADHrlBeygs                ROARR 98.7 EPISODE OO7: ALEX HARRIS          speech  \n",
       "75QgFPgSySA     Could life exist on other planets? John Harris          speech  \n",
       "A9D_RLWyxZU  Jaime Harrison mops the floor with Lindsey Gra...          speech  \n",
       "WX1wwgm9GZ0          Canvas + O365 Integration with Jeff Pence          speech  \n",
       "AvbHCvg2DS4  White House physician provides update on Trump...          speech  \n",
       "sKCkM-f2Qk4  LIVE: Trump Returns to the White House With Co...          speech  \n",
       "yortSGqDpIc  Trump backs out of relief talks as he continue...          speech  \n",
       "6Zg1ij9NtUM  Trump Gives Update On Coronavirus Testing Stra...          speech  \n",
       "-bHGb17kejM  President Trump holds press conference at the ...          speech  \n",
       "AZ1tNqhazlE  Trump talks COVID-19 vaccine distribution, Tik...          speech  \n",
       "lLsae1X4gx4  Jacob Blake protests: Trump announces funding ...          speech  \n",
       "IOJSI0Zfjcc  WATCH LIVE: President Trump comes to Minnesota...          speech  \n",
       "XuljlCg7g98  Trump slams Kamala Harris, makes 2020 predicti...       interview  \n",
       "LAu-Sq8oegs  Trump offers Lebanon assistance following expl...          speech  \n",
       "zaaTZkqsaxY  AXIOS on HBO: President Trump Exclusive Interv...       interview  \n",
       "qFmTXoNnUks  Trump releases 60 Minutes interview FULL on th...       interview  \n",
       "W6XdpDOH1JA  President Trump goes one-on-one with Chris Wal...       interview  "
      ]
     },
     "execution_count": 98,
     "metadata": {},
     "output_type": "execute_result"
    }
   ],
   "source": [
    "bow[bow['group']==3].sort_values(['speaker'])[['speaker','date','title','transcript_type']].head(30)"
   ]
  },
  {
   "cell_type": "markdown",
   "metadata": {},
   "source": [
    "## Principal Components Analysis"
   ]
  },
  {
   "cell_type": "code",
   "execution_count": 99,
   "metadata": {},
   "outputs": [],
   "source": [
    "from sklearn.decomposition import PCA\n",
    "from scipy.linalg import norm\n",
    "\n",
    "# normalize vectors\n",
    "tfidf_df = tfidf_df.apply(lambda x: x / norm(x), 1)\n",
    "# center vectors\n",
    "tfidf_df = tfidf_df - tfidf_df.mean()\n",
    "\n",
    "pca = PCA(n_components=4)\n",
    "pca.fit(tfidf_df)\n",
    "\n",
    "# term loadings = eigenvectors * eigenvalues\n",
    "loadings = pd.DataFrame(pca.components_).T * np.sqrt(pca.explained_variance_)\n",
    "\n",
    "# doc-component matrix\n",
    "dcm = pd.DataFrame(pca.transform(tfidf_df))\n",
    "dcm.index = [tfidf_df.index[i][0] for i in dcm.index.values]"
   ]
  },
  {
   "cell_type": "code",
   "execution_count": 114,
   "metadata": {},
   "outputs": [],
   "source": [
    "dcm.index.name = \"id\"\n",
    "dcm['title'] = dcm.apply(lambda x: bow.loc[x.name].title, 1)\n",
    "dcm['speaker'] = dcm.apply(lambda x: bow.loc[x.name].speaker, 1)\n",
    "dcm['group'] = dcm.apply(lambda x: bow.loc[x.name].group, 1)\n",
    "dcm['date'] = dcm.apply(lambda x: bow.loc[x.name].date, 1)"
   ]
  },
  {
   "cell_type": "code",
   "execution_count": 131,
   "metadata": {},
   "outputs": [
    {
     "data": {
      "application/vnd.plotly.v1+json": {
       "config": {
        "plotlyServerURL": "https://plot.ly"
       },
       "data": [
        {
         "hovertemplate": "<b>%{hovertext}</b><br><br>speaker=trump<br>0=%{x}<br>1=%{y}<extra></extra>",
         "hovertext": [
          "Watch Live: President Trump's MAGA Rally in Green Bay (Full) | NBC News",
          "FULL RALLY: President Trump in Panama City Beach, Florida",
          "FULL RALLY: President Trump in Montoursville, Pennsylvania",
          "TRUMP 2020: President Trump Re-Election Campaign Rally - FULL SPEECH",
          "President Trump COMPLETE REMARKS at July 4th \"Salute to America\" (C-SPAN)",
          "FULL RALLY: President Trump Rally in Greenville, North Carolina",
          "FULL RALLY: President Trump on Democrats, Economy in Cincinnati, Ohio",
          "Pres. Trump New Hampshire Rally in Manchester | ABC News Live Coverage",
          "Watch LIVE President Trump campaign rally in Fayetteville, North Carolina | ABC News",
          "FULL SPEECH President Donald Trump Rally - Rio Rancho, NM. 2019",
          "FULL RALLY: President Trump rally in Minneapolis, MN",
          "FULL TRUMP RALLY: President Trump holds campaign rally in Dallas, Texas",
          "Watch Live: President Donald Trump Speaks At Mississippi Campaign Rally | NBC News",
          "FULL RALLY: President Trump in Lexington, Kentucky",
          "Watch Live: President Donald Trump Speaks At A Keep America Great Rally In Louisiana | NBC News",
          "FULL RALLY: President Trump Monroe, Louisiana",
          "FULL RALLY: President Trump in Bossier City, Louisiana",
          "KEEP AMERICA GREAT: President Trump FULL RALLY in Florida",
          "President Donald Trump speaks at his Hershey rally (full speech)",
          "Full Video: President Trump speaks at campaign rally in Battle Creek",
          "FULL RALLY: President Trump talks impeachment and more in Toledo, Ohio",
          "Donald Trump hosts \"Keep America Great\" rally in Milwaukee, Wis.",
          "Trump Rally in Wildwood New Jersey, Jan. 28, 2020, full speech",
          "LIVE: President Trump in Des Moines, IA",
          "LIVE: State of the Union Address",
          "LIVE: President Trump in Manchester, NH",
          "LIVE: President Trump in Phoenix, AZ",
          "LIVE: President Trump in Colorado Springs, CO",
          "LIVE: President Trump in Las Vegas, NV",
          "LIVE: President Trump in North Charleston, SC",
          "LIVE: President Trump in Charlotte, NC",
          "LIVE: President Trump in Tulsa, Oklahoma",
          "Trump addresses crowd of young Americans at Arizona rally | FULL",
          "President Trump's full speech at Mount Rushmore | USA TODAY",
          "President Trump goes one-on-one with Chris Wallace | Full Interview",
          "AXIOS on HBO: President Trump Exclusive Interview (Full Episode) | HBO",
          "Trump offers Lebanon assistance following explosion, touts' coronavirus response | FULL",
          "Trump slams Kamala Harris, makes 2020 predictions | Full Interview",
          "WATCH LIVE: President Trump comes to Minnesota for Mankato campaign stop",
          "WATCH: President Trump in Yuma, AZ",
          "Trump Delivers Remarks at Mariotti Building Products in Old Forge, Pennsylvania",
          "President Donald Trump's Full Republican National Convention Speech | NBC10 Philadelphia",
          "President Trump's Full RNC 2020 Speech | NowThis",
          "Jacob Blake protests: Trump announces funding for Kenosha police, businesses during visit | FULL",
          "President Trump designates Wilmington, NC as the first American World War II Heritage City | FULL",
          "Trump delivers campaign remarks at Arnold Palmer Regional Airport",
          "Raw Video: President Trump Full Speech at Rally in Winston-Salem, NC (High Quality) 9/8/20",
          "FULL RALLY: President Trump campaigns in Freeland, Michigan",
          "Trump delivers remarks from Minden, Nevada",
          "Trump holds a campaign event in Henderson, Nevada",
          "LIVE: Trump's full speech at the White House Conference on American History (Sept. 17) | NTD",
          "FULL RALLY: President Trump in Mosinee, Wisconsin",
          "Trump talks COVID-19 vaccine distribution, TikTok ban | FULL",
          "Live: Trump Holds Campaign Rally In North Carolina | NBC News",
          "President Trump FULL Speech at Vandalia, OH Campaign Rally (High Quality!) 9/21/20",
          "President Trump holds press conference at the White House",
          "President Trump holds a freewheeling campaign rally in Jacksonville, FL | FULL RALLY",
          "FULL: Trump campaign speech in Atlanta",
          "🔴LIVE: PRESIDENT DONALD TRUMP FULL SPEECH AT MIDDLETOWN, PA RALLY...",
          "Trump: What's The Deal? Full Documentary (1991)",
          "Trump Gives Update On Coronavirus Testing Strategy | NBC News",
          "President Trump FULL Speech at Vandalia, OH Campaign Rally High Quality! 92120",
          "RAW VIDEO: President Donald Trump FULL SPEECH at Duluth, MN Rally 9/30/20",
          "The president's taxes: A story to 'Trump' all the others? | The Listening Post",
          "President Trump’s Doctor Provides Health Update from Walter Reed | NBC News",
          "White House physician provides update on Trump's condition - 10/5 (FULL LIVE STREAM)",
          "LIVE: Trump Returns to the White House With Covid-19 and Without a Face Mask | Happening Today",
          "Trump backs out of relief talks as he continues to downplay virus",
          "President Trump Rally On Rush Limbaugh's Show - 09/10/20 (FULL)",
          "The Trump Administration's First Term Corruption | The Daily Show",
          "\"I'M BACK\" President Trump First Rally Since BEATING Covid-19 | Full Rally | 10/12/20",
          "RAW VIDEO: President Donald Trump FULL SPEECH at Johnstown, PA Rally 10/13/20",
          "WATCH LIVE: Trump holds campaign rally in Greenville, North Carolina",
          "President Donald Trump FULL SPEECH at Greenville, NC Rally 10/15/20",
          "Trump speaks at  'Make America Great Again' rally in Georgia",
          "Full speech: President Trump holds campaign rally in Muskegon",
          "President Trump Newport Beach Supporters Emptied On To Via Lido on DAN-O-VISION...",
          "Trump’s First Term Trips Abroad | The Daily Show",
          "\"TIME TO WIN\" President Trump FULL RALLY In Erie, Pennsylvania",
          "Trump releases 60 Minutes interview FULL on the #LieStream",
          "President Trump's '60 Minutes' interview",
          "Live: President Trump Delivers Remarks In North Carolina | NBC News",
          "President Donald Trump FULL SPEECH at Circleville, OH Rally 10/24/20",
          "Donald and Melania Trump: A Love Story for the Ages | The Daily Social Distancing Show"
         ],
         "legendgroup": "trump",
         "marker": {
          "color": "#636efa",
          "symbol": "circle"
         },
         "mode": "markers",
         "name": "trump",
         "orientation": "v",
         "showlegend": true,
         "type": "scatter",
         "x": [
          -0.30085779871141993,
          -0.33153841765415937,
          -0.24504188540491162,
          -0.16415656975770843,
          0.15573121476623825,
          -0.27934330473151503,
          -0.29502543514980295,
          -0.2598542874118875,
          -0.24434455770827396,
          -0.3013864231083293,
          -0.3061475548757585,
          -0.3364684601430409,
          -0.2628846842114903,
          -0.21385541011689954,
          -0.18922111859167362,
          -0.18119957054750735,
          -0.1565620844768506,
          -0.3155758919998299,
          -0.2835490952914606,
          -0.3711425125728012,
          -0.3306909054338514,
          -0.30230898356133806,
          -0.16970289034513555,
          -0.3341140128381742,
          0.11198977169658678,
          -0.2483302686615636,
          -0.2681119853137398,
          -0.29381577594029606,
          -0.37577094650092324,
          -0.28786418030290334,
          -0.2536734007102243,
          -0.3286651730869744,
          -0.24173569955626703,
          0.18471240174394107,
          -0.21915978099032857,
          -0.1952862255382235,
          -0.15139467878509158,
          -0.2275251083404953,
          -0.15139467878509158,
          -0.2642289363491418,
          -0.334815178311477,
          0.06777999815628626,
          0.0678927170647917,
          -0.10844410251058482,
          -0.006001588390411384,
          -0.37321768887311535,
          -0.3117323321960828,
          -0.3003423058132365,
          -0.30893770609261756,
          -0.24901321994067488,
          0.23938690576408586,
          -0.36434941745867533,
          -0.07295914607088938,
          -0.3763142634573851,
          -0.3338260278305292,
          -0.0599593168329434,
          -0.3105274218971082,
          -0.2545416401749822,
          -0.34222234323715167,
          0.10463457777646491,
          0.13854168639141298,
          0.2998218191455441,
          -0.23769159377232588,
          0.15303587348202158,
          0.13839633319639555,
          0.048844848288605136,
          -0.18867329392739304,
          -0.18867329392739304,
          0.28206458253101013,
          0.36865003979402866,
          -0.28225310643421964,
          -0.28298692462863184,
          0.36408271648788987,
          0.36408271648788987,
          -0.381674995276596,
          0.3808211982903769,
          0.044026222402440134,
          0.18129928553498537,
          -0.2891986064754926,
          -0.2327552749439976,
          0.03521209649643447,
          -0.2785861845310634,
          -0.3480092162838542,
          0.044214096073137914
         ],
         "xaxis": "x",
         "y": [
          -0.20657841288704593,
          -0.1613884522502093,
          -0.18927351808091908,
          -0.22451784556827523,
          0.07999707565545638,
          -0.18577245306842186,
          -0.149675254249613,
          -0.21903057629205683,
          -0.18482192444803755,
          -0.1856257051104772,
          -0.17308042084989492,
          -0.1737710972700074,
          -0.13218298607444282,
          -0.12481619754813275,
          -0.11970103822564448,
          -0.12155180474139746,
          -0.12267050573610244,
          -0.18123303625745618,
          -0.16468616456646476,
          -0.15309612058406488,
          -0.18858181362046847,
          -0.18135826441576353,
          -0.14888640796888214,
          -0.18040868325760404,
          -0.03128716737781182,
          -0.1491203413510211,
          -0.1905082008255192,
          -0.14977324536966538,
          -0.13788682546995357,
          -0.1735484181295793,
          -0.1592389429524119,
          -0.161279715895839,
          -0.12982200538679536,
          0.031485967683935176,
          0.05993090063585563,
          0.13003744521411867,
          0.2143125962619139,
          0.03570730160850228,
          0.2143125962619139,
          -0.15100047266973285,
          -0.14778601083096854,
          -0.16663577487775091,
          -0.16535039153133455,
          0.1359119007610913,
          0.0298020489510273,
          -0.1252604111959263,
          -0.21758782110806843,
          -0.19744456718354475,
          -0.16146603409377386,
          -0.16419054305780995,
          0.10693921901005936,
          -0.1791114282546193,
          0.17322821919939924,
          -0.15262267987503053,
          -0.14015678034801596,
          0.265615148784748,
          -0.16831633621109687,
          -0.034482659498349444,
          -0.1304727799962693,
          0.11856229930323225,
          0.23406945108716765,
          0.24095981160808383,
          -0.1629812760883817,
          0.12064621881336068,
          0.31360390336485705,
          0.474299431233543,
          0.5230782898285364,
          0.5230782898285364,
          -0.0920279617081198,
          -0.3224745114212239,
          -0.20153327296897627,
          -0.16987222952668266,
          -0.3271728610330319,
          -0.3271728610330319,
          -0.14525073474796169,
          -0.2862770860422157,
          0.3020250690725156,
          0.2639712634253396,
          -0.18424745117188393,
          0.1279837851470189,
          0.015624361023828321,
          -0.14533214046469392,
          -0.16523588529723207,
          0.269519166826783
         ],
         "yaxis": "y"
        },
        {
         "hovertemplate": "<b>%{hovertext}</b><br><br>speaker=biden<br>0=%{x}<br>1=%{y}<extra></extra>",
         "hovertext": [
          "Joe Biden holds first 2020 campaign rally",
          "Joe Biden speaks during a campaign rally in Philadelphia",
          "Full Speech: Biden Condemns Trump’s Rhetoric And White Nationalism | NBC News",
          "Full speech: Joe Biden speaks at the Iowa Democratic Wing Ding",
          "Joe Biden's Full Remarks in Reno, Nevada | Joe Biden for President",
          "Joe Biden Speaks in Scranton, Pennsylvania",
          "CAMPAIGN 2020: Joe Biden's full 2020 King Day at the Dome speech",
          "I'm about to take the stage from California. Tune in to watch live:",
          "I'm about to take the stage from Mississippi. Tune in to watch live:",
          "I'm about to take the stage from Philadelphia. Tune in to watch live:",
          "Joe Biden delivers remarks on the impact of the Coronavirus on Young Americans. Tune in:",
          "Joe Biden Delivers Remarks on Implementation & Oversight of CARES Act | Joe Biden For President",
          "Joe Biden remarks on Protests",
          "Vice President Biden Delivers Remarks On Having a Safer Economic Reopening",
          "Vice President Biden's Remarks at Global Pride | Joe Biden For President",
          "Vice President Biden delivers remarks on Trump’s failure to protect the American people",
          "Joe Biden Delivers Remarks On His “Build Back Better” Plan For An Equitable Clean Energy Future",
          "Joe Biden Unveils $775 Billion ‘Build Back Better’ Plan to Boost Child and Elderly Care",
          "Joe Biden introduces Kamala Harris as running mate",
          "Joe Biden speaks at the 2020 Democratic National Convention | Full Speech",
          "FULL VIDEO: Joe Biden delivers remarks on violence across America",
          "FULL VIDEO: Joe Biden makes remarks on education and takes questions in Wilmington, Delaware",
          "Joe Biden's full campaign speech HD 8/31/2020",
          "Joe Biden Speech on The Supreme Court & Justice Ruth Bader Ginsburg LIVE",
          "Live: Biden speaks in Wisconsin",
          "\"Benjamin Crump Interview, Joe Biden Interview, Ask The CLO and more\" | Full Show 09.25.20",
          "9-3-20 Biden Visits Kenosha, full livestream coverage",
          "Joe Biden holds campaign event in Pennsylvania",
          "Stop Joe Biden Rally in Delaware FULL | The Frontline with Joe & Joe",
          "Stop Joe Biden Rally in Delaware FULL | The Frontline with Joe & Joe",
          "FULL VIDEO: Joe Biden delivers address on national unity",
          "Biden & Harris full campaign speeches HD 10/8/2020",
          "Live: Biden Holds Campaign Event In Pennsylvania  | NBC News",
          "Joe Biden holds drive-in rally at UAW Local 14 in Toledo | FULL RALLY",
          "Joe Biden's Body Language - Interview About Tara Reade (Full Interview)",
          "Former Vice President Joe Biden Town Hall Interview",
          "War Room: Pandemic Ep 443 -The CCP's Ownership of Joe Biden Pt.1 (w/ Rudy Giuliani)",
          "Noam Chomsky / Bad Faith Debate on Voting for Biden (ft. Ben Burgis)",
          "Social Media and the Hunter Biden Report",
          "Pence BLASTS Biden, Harris in campaign speech | FULL REMARKS",
          "Live: Biden Delivers Remarks on Coronavirus and the Economy | NBC News",
          "Reaction to Hunter Biden’s Business Partner Speaking Up",
          "Talk Time 🔴 Watch Joe Biden’s Full Interview With Craig Melvin   TODAY"
         ],
         "legendgroup": "biden",
         "marker": {
          "color": "#EF553B",
          "symbol": "circle"
         },
         "mode": "markers",
         "name": "biden",
         "orientation": "v",
         "showlegend": true,
         "type": "scatter",
         "x": [
          0.008881233706986933,
          0.08288317135254931,
          0.3058277376266325,
          0.25090371186214117,
          0.18000952793283453,
          -0.07285696398325303,
          0.1891511365244897,
          0.127930287611408,
          0.12811737171150886,
          0.24629286043426618,
          -0.029709902990718698,
          0.041742205907384033,
          0.20238125985391378,
          0.23939207509372024,
          0.20416838695498232,
          0.13058784462266992,
          0.16386225844956323,
          0.07593781851004781,
          0.18800051364015294,
          0.16461664837001716,
          0.28772481331352023,
          0.026308039099862016,
          0.29656994373083206,
          0.23811359976907312,
          0.01225317945263156,
          -0.14960734921326932,
          -0.2280453240378846,
          0.04725605397124822,
          0.06243476241518541,
          0.062381216781802626,
          -0.18867329392739304,
          0.35229922067996683,
          0.02327940119327656,
          0.12063595999836475,
          -0.19260206006645159,
          0.07016728063571993,
          -0.07878495384091588,
          -0.14153066165972952,
          0.0009144081009251752,
          0.31612266395638394,
          0.19989568771438646,
          -0.10755633019456998,
          -0.11868538410976383
         ],
         "xaxis": "x",
         "y": [
          0.09649328334802257,
          0.04390488308816577,
          0.06426564031110162,
          0.1130344012849092,
          0.10038501419295538,
          0.0731469060917897,
          0.2513691035946816,
          0.13183735488212545,
          0.05172061115578631,
          0.07850828050136645,
          0.14945315022467692,
          0.09476335823869055,
          0.11253227667182492,
          0.16356577357345506,
          0.331226803858163,
          0.1278700216946236,
          0.09708193898585069,
          0.1990411267615886,
          0.00023932090064173397,
          0.001094135960130503,
          0.013717294526883687,
          0.14811778541406628,
          0.019116078265429666,
          0.14668617767366396,
          0.04891870368895173,
          0.23953225464125547,
          0.27551477888475756,
          0.027833856024723762,
          0.20945714686485456,
          0.21631289599316178,
          0.5230782898285364,
          -0.14659566243389774,
          0.0028280698504500553,
          -0.05491775006230858,
          0.29858676258414635,
          0.21489880782680804,
          0.18487719956691018,
          0.45122393895974827,
          0.30418815706320473,
          -0.33584548602661796,
          0.1363655956846259,
          0.1868765937195434,
          0.22763703353335427
         ],
         "yaxis": "y"
        },
        {
         "hovertemplate": "<b>%{hovertext}</b><br><br>speaker=harris<br>0=%{x}<br>1=%{y}<extra></extra>",
         "hovertext": [
          "Full speech: Kamala Harris | Iowa Democrats’ Hall of Fame event (6/19)",
          "Democratic VP candidate Kamala Harris speaks at Joe Biden event",
          "WATCH: Kamala Harris’ full speech at the 2020 Democratic National Convention | 2020 DNC Night 3",
          "Kamala Harris to discuss Trump's response to coronavirus",
          "Kamala Harris Responds LIVE to Trump’s Supreme Court Nomination",
          "Kamala Harris full incredible  speech on Supreme Court and the election.",
          "Could life exist on other planets? John Harris",
          "Jaime Harrison mops the floor with Lindsey Graham - South Carolina Debate",
          "ROARR 98.7 EPISODE OO7: ALEX HARRIS",
          "In The Loop: Kamala Harris' Record & Can COVID Treatments Impact President's Brain Function?",
          "How I know BLM is Full of Crap: Kamala Harris, Joe Biden Far Worse than Trump on Justice Reform",
          "LisaRaye, Trump's COVID-19, \"Tiny\" Harris, and More! FULL EPISODE | #WindDownWeekend",
          "Lindsey Graham Jaime Harrison debate forum: full video",
          "How Facebook opened Pandora’s box - Tristan Harris | Andrew Yang | Yang Speaks",
          "Kamala Harris grills Amy Coney Barrett on health care at confirmation hearing",
          "Kamala Harris Early Vote Mobilization Event in Orlando, Florida",
          "Trump blasts Joe Biden, mocks Kamala Harris at Tucson, Arizona rally | FULL",
          "Kamala Harris gets REAL with CJ McCollum, Donovan Mitchell, and Tobias: Remaking America Roundtable",
          "Former President Obama speaks in Philadelphia for Biden-Harris campaign — 10/21/2020",
          "Kamala Harris Democratic, vice presidential nominee, attends voting event in Atlanta"
         ],
         "legendgroup": "harris",
         "marker": {
          "color": "#00cc96",
          "symbol": "circle"
         },
         "mode": "markers",
         "name": "harris",
         "orientation": "v",
         "showlegend": true,
         "type": "scatter",
         "x": [
          0.1494015651818697,
          0.1777680794217908,
          0.21232835623360935,
          0.2699744480479118,
          0.3046532219728483,
          0.2998218191455441,
          -0.04651118413576665,
          -0.003875633565972413,
          -0.18867329392739304,
          0.15271015123671175,
          0.020204966398337847,
          -0.27133948858028795,
          0.02388389586845568,
          -0.17541836778025366,
          0.2338331211503957,
          0.18129928553498537,
          -0.25446537759243976,
          -0.09751616076863157,
          0.03521209649643447,
          0.11055423340419566
         ],
         "xaxis": "x",
         "y": [
          0.1315294169604697,
          0.07187737508706687,
          0.1542884990042932,
          0.09027356384696393,
          0.23650332781753255,
          0.24095981160808383,
          0.31765547283959716,
          0.1772208026138625,
          0.5230782898285364,
          0.22793449489780016,
          0.24969665320154916,
          0.3000741150570438,
          0.2243000251903101,
          0.4562760430045921,
          0.26477412623471364,
          0.2639712634253396,
          -0.18483240259564257,
          0.27532594400723004,
          0.015624361023828321,
          0.09272362998912963
         ],
         "yaxis": "y"
        },
        {
         "hovertemplate": "<b>%{hovertext}</b><br><br>speaker=pence<br>0=%{x}<br>1=%{y}<extra></extra>",
         "hovertext": [
          "VP Mike Pence introduces President Trump at 2020 re-election rally",
          "AMERICA IS BACK: VP Pence amps up crowd during Trump rally",
          "\"HE'S THE REAL DEAL\": VP Pence speaks at Trump rally in Fayetteville, NC",
          "VP Pence FULL Remarks At 2019 IAC Conference  10-21-2019",
          "Vice President Mike Pence speaks at the Trump rally in Hershey",
          "VP Pence OpenING Speech First 2020 KAG Rally | Toledo OH | 1-09-20 20",
          "Vice President Mike Pence speaks at a Make America Great Again Rally in Tulsa, OK | FULL SPEECH",
          "JUST IN: Pence responds to Kamala Harris being chosen as Joe Biden's 2020 running mate",
          "WATCH LIVE: Mike Pence speaks at Trump campaign event in Michigan",
          "Pence campaigns in Wisconsin | FULL REMARKS",
          "Full video: Vice President Mike Pence holds campaign rally in Gilford",
          "LIVE: Pence Hosts Presidential Debate Watch Party in Lititz, Pennsylvania",
          "Mike Pence in Atlanta: Why and when is he here?",
          "Canvas + O365 Integration with Jeff Pence",
          "Pence attends a 'Make America Great Again!' event in Nevada",
          "Mike Pence holds 'Make American Great Again' event in Arizona",
          "WATCH Full Speech: Vice President Mike Pence hosts a \"Latinos for Trump\" event in Orlando.",
          "#LiveStream #USElections2020 #Pence holds campaign rally at The Villages in Florida | 10-10-20",
          "WATCH: Vice President Pence in Waukesha, WI #Wisconsin",
          "Full Speech: Mike Pence Rallies Supporters in Grand Rapids",
          "VP Pence in Selma (Full speech)",
          "Pence campaigns in Pennsylvania",
          "VP Pence holds 'Make America Great Again!' event",
          "Full speech: Vice President Pence holds campaign rally in Waterford Township, Michigan",
          "FULL LIVE EVENT Vice President Mike Pence Lakeland, Florida 10/24/2020"
         ],
         "legendgroup": "pence",
         "marker": {
          "color": "#ab63fa",
          "symbol": "circle"
         },
         "mode": "markers",
         "name": "pence",
         "orientation": "v",
         "showlegend": true,
         "type": "scatter",
         "x": [
          0.4868634415866346,
          0.4855630333599324,
          0.33471336979261385,
          0.23695382621669944,
          0.4296238385923676,
          0.44149817142861547,
          0.4622563655186018,
          0.396866227623057,
          0.396866227623057,
          0.31467734118035506,
          0.3118775255825811,
          0.30822621113355997,
          0.08265496987079751,
          -0.0026266704762137713,
          0.28206458253101013,
          0.35229922067996683,
          0.42559964616433477,
          0.36865003979402866,
          0.36002789510737454,
          0.36408271648788987,
          0.3808211982903769,
          0.3102791880642647,
          0.36461501119855505,
          0.3051338294599344,
          -0.3480092162838542
         ],
         "xaxis": "x",
         "y": [
          -0.18287668949649963,
          -0.1562772888542506,
          -0.07230165660863502,
          0.19264949075859555,
          -0.2093778728121431,
          -0.22722548349238564,
          -0.26425462847236697,
          -0.2599869997492286,
          -0.2599869997492286,
          -0.31024891152599593,
          -0.24574513141570936,
          -0.31598169229624423,
          0.14319740827167027,
          0.3666068488456747,
          -0.0920279617081198,
          -0.14659566243389774,
          -0.3207886386316728,
          -0.3224745114212239,
          -0.30815185778332266,
          -0.3271728610330319,
          -0.2862770860422157,
          -0.33520589410851687,
          -0.31736557945167543,
          -0.34415642845254074,
          -0.16523588529723207
         ],
         "yaxis": "y"
        }
       ],
       "layout": {
        "legend": {
         "title": {
          "text": "speaker"
         },
         "tracegroupgap": 0
        },
        "margin": {
         "t": 60
        },
        "template": {
         "data": {
          "bar": [
           {
            "error_x": {
             "color": "#2a3f5f"
            },
            "error_y": {
             "color": "#2a3f5f"
            },
            "marker": {
             "line": {
              "color": "#E5ECF6",
              "width": 0.5
             }
            },
            "type": "bar"
           }
          ],
          "barpolar": [
           {
            "marker": {
             "line": {
              "color": "#E5ECF6",
              "width": 0.5
             }
            },
            "type": "barpolar"
           }
          ],
          "carpet": [
           {
            "aaxis": {
             "endlinecolor": "#2a3f5f",
             "gridcolor": "white",
             "linecolor": "white",
             "minorgridcolor": "white",
             "startlinecolor": "#2a3f5f"
            },
            "baxis": {
             "endlinecolor": "#2a3f5f",
             "gridcolor": "white",
             "linecolor": "white",
             "minorgridcolor": "white",
             "startlinecolor": "#2a3f5f"
            },
            "type": "carpet"
           }
          ],
          "choropleth": [
           {
            "colorbar": {
             "outlinewidth": 0,
             "ticks": ""
            },
            "type": "choropleth"
           }
          ],
          "contour": [
           {
            "colorbar": {
             "outlinewidth": 0,
             "ticks": ""
            },
            "colorscale": [
             [
              0,
              "#0d0887"
             ],
             [
              0.1111111111111111,
              "#46039f"
             ],
             [
              0.2222222222222222,
              "#7201a8"
             ],
             [
              0.3333333333333333,
              "#9c179e"
             ],
             [
              0.4444444444444444,
              "#bd3786"
             ],
             [
              0.5555555555555556,
              "#d8576b"
             ],
             [
              0.6666666666666666,
              "#ed7953"
             ],
             [
              0.7777777777777778,
              "#fb9f3a"
             ],
             [
              0.8888888888888888,
              "#fdca26"
             ],
             [
              1,
              "#f0f921"
             ]
            ],
            "type": "contour"
           }
          ],
          "contourcarpet": [
           {
            "colorbar": {
             "outlinewidth": 0,
             "ticks": ""
            },
            "type": "contourcarpet"
           }
          ],
          "heatmap": [
           {
            "colorbar": {
             "outlinewidth": 0,
             "ticks": ""
            },
            "colorscale": [
             [
              0,
              "#0d0887"
             ],
             [
              0.1111111111111111,
              "#46039f"
             ],
             [
              0.2222222222222222,
              "#7201a8"
             ],
             [
              0.3333333333333333,
              "#9c179e"
             ],
             [
              0.4444444444444444,
              "#bd3786"
             ],
             [
              0.5555555555555556,
              "#d8576b"
             ],
             [
              0.6666666666666666,
              "#ed7953"
             ],
             [
              0.7777777777777778,
              "#fb9f3a"
             ],
             [
              0.8888888888888888,
              "#fdca26"
             ],
             [
              1,
              "#f0f921"
             ]
            ],
            "type": "heatmap"
           }
          ],
          "heatmapgl": [
           {
            "colorbar": {
             "outlinewidth": 0,
             "ticks": ""
            },
            "colorscale": [
             [
              0,
              "#0d0887"
             ],
             [
              0.1111111111111111,
              "#46039f"
             ],
             [
              0.2222222222222222,
              "#7201a8"
             ],
             [
              0.3333333333333333,
              "#9c179e"
             ],
             [
              0.4444444444444444,
              "#bd3786"
             ],
             [
              0.5555555555555556,
              "#d8576b"
             ],
             [
              0.6666666666666666,
              "#ed7953"
             ],
             [
              0.7777777777777778,
              "#fb9f3a"
             ],
             [
              0.8888888888888888,
              "#fdca26"
             ],
             [
              1,
              "#f0f921"
             ]
            ],
            "type": "heatmapgl"
           }
          ],
          "histogram": [
           {
            "marker": {
             "colorbar": {
              "outlinewidth": 0,
              "ticks": ""
             }
            },
            "type": "histogram"
           }
          ],
          "histogram2d": [
           {
            "colorbar": {
             "outlinewidth": 0,
             "ticks": ""
            },
            "colorscale": [
             [
              0,
              "#0d0887"
             ],
             [
              0.1111111111111111,
              "#46039f"
             ],
             [
              0.2222222222222222,
              "#7201a8"
             ],
             [
              0.3333333333333333,
              "#9c179e"
             ],
             [
              0.4444444444444444,
              "#bd3786"
             ],
             [
              0.5555555555555556,
              "#d8576b"
             ],
             [
              0.6666666666666666,
              "#ed7953"
             ],
             [
              0.7777777777777778,
              "#fb9f3a"
             ],
             [
              0.8888888888888888,
              "#fdca26"
             ],
             [
              1,
              "#f0f921"
             ]
            ],
            "type": "histogram2d"
           }
          ],
          "histogram2dcontour": [
           {
            "colorbar": {
             "outlinewidth": 0,
             "ticks": ""
            },
            "colorscale": [
             [
              0,
              "#0d0887"
             ],
             [
              0.1111111111111111,
              "#46039f"
             ],
             [
              0.2222222222222222,
              "#7201a8"
             ],
             [
              0.3333333333333333,
              "#9c179e"
             ],
             [
              0.4444444444444444,
              "#bd3786"
             ],
             [
              0.5555555555555556,
              "#d8576b"
             ],
             [
              0.6666666666666666,
              "#ed7953"
             ],
             [
              0.7777777777777778,
              "#fb9f3a"
             ],
             [
              0.8888888888888888,
              "#fdca26"
             ],
             [
              1,
              "#f0f921"
             ]
            ],
            "type": "histogram2dcontour"
           }
          ],
          "mesh3d": [
           {
            "colorbar": {
             "outlinewidth": 0,
             "ticks": ""
            },
            "type": "mesh3d"
           }
          ],
          "parcoords": [
           {
            "line": {
             "colorbar": {
              "outlinewidth": 0,
              "ticks": ""
             }
            },
            "type": "parcoords"
           }
          ],
          "pie": [
           {
            "automargin": true,
            "type": "pie"
           }
          ],
          "scatter": [
           {
            "marker": {
             "colorbar": {
              "outlinewidth": 0,
              "ticks": ""
             }
            },
            "type": "scatter"
           }
          ],
          "scatter3d": [
           {
            "line": {
             "colorbar": {
              "outlinewidth": 0,
              "ticks": ""
             }
            },
            "marker": {
             "colorbar": {
              "outlinewidth": 0,
              "ticks": ""
             }
            },
            "type": "scatter3d"
           }
          ],
          "scattercarpet": [
           {
            "marker": {
             "colorbar": {
              "outlinewidth": 0,
              "ticks": ""
             }
            },
            "type": "scattercarpet"
           }
          ],
          "scattergeo": [
           {
            "marker": {
             "colorbar": {
              "outlinewidth": 0,
              "ticks": ""
             }
            },
            "type": "scattergeo"
           }
          ],
          "scattergl": [
           {
            "marker": {
             "colorbar": {
              "outlinewidth": 0,
              "ticks": ""
             }
            },
            "type": "scattergl"
           }
          ],
          "scattermapbox": [
           {
            "marker": {
             "colorbar": {
              "outlinewidth": 0,
              "ticks": ""
             }
            },
            "type": "scattermapbox"
           }
          ],
          "scatterpolar": [
           {
            "marker": {
             "colorbar": {
              "outlinewidth": 0,
              "ticks": ""
             }
            },
            "type": "scatterpolar"
           }
          ],
          "scatterpolargl": [
           {
            "marker": {
             "colorbar": {
              "outlinewidth": 0,
              "ticks": ""
             }
            },
            "type": "scatterpolargl"
           }
          ],
          "scatterternary": [
           {
            "marker": {
             "colorbar": {
              "outlinewidth": 0,
              "ticks": ""
             }
            },
            "type": "scatterternary"
           }
          ],
          "surface": [
           {
            "colorbar": {
             "outlinewidth": 0,
             "ticks": ""
            },
            "colorscale": [
             [
              0,
              "#0d0887"
             ],
             [
              0.1111111111111111,
              "#46039f"
             ],
             [
              0.2222222222222222,
              "#7201a8"
             ],
             [
              0.3333333333333333,
              "#9c179e"
             ],
             [
              0.4444444444444444,
              "#bd3786"
             ],
             [
              0.5555555555555556,
              "#d8576b"
             ],
             [
              0.6666666666666666,
              "#ed7953"
             ],
             [
              0.7777777777777778,
              "#fb9f3a"
             ],
             [
              0.8888888888888888,
              "#fdca26"
             ],
             [
              1,
              "#f0f921"
             ]
            ],
            "type": "surface"
           }
          ],
          "table": [
           {
            "cells": {
             "fill": {
              "color": "#EBF0F8"
             },
             "line": {
              "color": "white"
             }
            },
            "header": {
             "fill": {
              "color": "#C8D4E3"
             },
             "line": {
              "color": "white"
             }
            },
            "type": "table"
           }
          ]
         },
         "layout": {
          "annotationdefaults": {
           "arrowcolor": "#2a3f5f",
           "arrowhead": 0,
           "arrowwidth": 1
          },
          "coloraxis": {
           "colorbar": {
            "outlinewidth": 0,
            "ticks": ""
           }
          },
          "colorscale": {
           "diverging": [
            [
             0,
             "#8e0152"
            ],
            [
             0.1,
             "#c51b7d"
            ],
            [
             0.2,
             "#de77ae"
            ],
            [
             0.3,
             "#f1b6da"
            ],
            [
             0.4,
             "#fde0ef"
            ],
            [
             0.5,
             "#f7f7f7"
            ],
            [
             0.6,
             "#e6f5d0"
            ],
            [
             0.7,
             "#b8e186"
            ],
            [
             0.8,
             "#7fbc41"
            ],
            [
             0.9,
             "#4d9221"
            ],
            [
             1,
             "#276419"
            ]
           ],
           "sequential": [
            [
             0,
             "#0d0887"
            ],
            [
             0.1111111111111111,
             "#46039f"
            ],
            [
             0.2222222222222222,
             "#7201a8"
            ],
            [
             0.3333333333333333,
             "#9c179e"
            ],
            [
             0.4444444444444444,
             "#bd3786"
            ],
            [
             0.5555555555555556,
             "#d8576b"
            ],
            [
             0.6666666666666666,
             "#ed7953"
            ],
            [
             0.7777777777777778,
             "#fb9f3a"
            ],
            [
             0.8888888888888888,
             "#fdca26"
            ],
            [
             1,
             "#f0f921"
            ]
           ],
           "sequentialminus": [
            [
             0,
             "#0d0887"
            ],
            [
             0.1111111111111111,
             "#46039f"
            ],
            [
             0.2222222222222222,
             "#7201a8"
            ],
            [
             0.3333333333333333,
             "#9c179e"
            ],
            [
             0.4444444444444444,
             "#bd3786"
            ],
            [
             0.5555555555555556,
             "#d8576b"
            ],
            [
             0.6666666666666666,
             "#ed7953"
            ],
            [
             0.7777777777777778,
             "#fb9f3a"
            ],
            [
             0.8888888888888888,
             "#fdca26"
            ],
            [
             1,
             "#f0f921"
            ]
           ]
          },
          "colorway": [
           "#636efa",
           "#EF553B",
           "#00cc96",
           "#ab63fa",
           "#FFA15A",
           "#19d3f3",
           "#FF6692",
           "#B6E880",
           "#FF97FF",
           "#FECB52"
          ],
          "font": {
           "color": "#2a3f5f"
          },
          "geo": {
           "bgcolor": "white",
           "lakecolor": "white",
           "landcolor": "#E5ECF6",
           "showlakes": true,
           "showland": true,
           "subunitcolor": "white"
          },
          "hoverlabel": {
           "align": "left"
          },
          "hovermode": "closest",
          "mapbox": {
           "style": "light"
          },
          "paper_bgcolor": "white",
          "plot_bgcolor": "#E5ECF6",
          "polar": {
           "angularaxis": {
            "gridcolor": "white",
            "linecolor": "white",
            "ticks": ""
           },
           "bgcolor": "#E5ECF6",
           "radialaxis": {
            "gridcolor": "white",
            "linecolor": "white",
            "ticks": ""
           }
          },
          "scene": {
           "xaxis": {
            "backgroundcolor": "#E5ECF6",
            "gridcolor": "white",
            "gridwidth": 2,
            "linecolor": "white",
            "showbackground": true,
            "ticks": "",
            "zerolinecolor": "white"
           },
           "yaxis": {
            "backgroundcolor": "#E5ECF6",
            "gridcolor": "white",
            "gridwidth": 2,
            "linecolor": "white",
            "showbackground": true,
            "ticks": "",
            "zerolinecolor": "white"
           },
           "zaxis": {
            "backgroundcolor": "#E5ECF6",
            "gridcolor": "white",
            "gridwidth": 2,
            "linecolor": "white",
            "showbackground": true,
            "ticks": "",
            "zerolinecolor": "white"
           }
          },
          "shapedefaults": {
           "line": {
            "color": "#2a3f5f"
           }
          },
          "ternary": {
           "aaxis": {
            "gridcolor": "white",
            "linecolor": "white",
            "ticks": ""
           },
           "baxis": {
            "gridcolor": "white",
            "linecolor": "white",
            "ticks": ""
           },
           "bgcolor": "#E5ECF6",
           "caxis": {
            "gridcolor": "white",
            "linecolor": "white",
            "ticks": ""
           }
          },
          "title": {
           "x": 0.05
          },
          "xaxis": {
           "automargin": true,
           "gridcolor": "white",
           "linecolor": "white",
           "ticks": "",
           "title": {
            "standoff": 15
           },
           "zerolinecolor": "white",
           "zerolinewidth": 2
          },
          "yaxis": {
           "automargin": true,
           "gridcolor": "white",
           "linecolor": "white",
           "ticks": "",
           "title": {
            "standoff": 15
           },
           "zerolinecolor": "white",
           "zerolinewidth": 2
          }
         }
        },
        "xaxis": {
         "anchor": "y",
         "domain": [
          0,
          1
         ],
         "title": {
          "text": "0"
         }
        },
        "yaxis": {
         "anchor": "x",
         "domain": [
          0,
          1
         ],
         "title": {
          "text": "1"
         }
        }
       }
      },
      "text/html": [
       "<div>\n",
       "        \n",
       "        \n",
       "            <div id=\"19cbca12-6ac5-41d7-80e7-656f859502e6\" class=\"plotly-graph-div\" style=\"height:525px; width:100%;\"></div>\n",
       "            <script type=\"text/javascript\">\n",
       "                require([\"plotly\"], function(Plotly) {\n",
       "                    window.PLOTLYENV=window.PLOTLYENV || {};\n",
       "                    \n",
       "                if (document.getElementById(\"19cbca12-6ac5-41d7-80e7-656f859502e6\")) {\n",
       "                    Plotly.newPlot(\n",
       "                        '19cbca12-6ac5-41d7-80e7-656f859502e6',\n",
       "                        [{\"hovertemplate\": \"<b>%{hovertext}</b><br><br>speaker=trump<br>0=%{x}<br>1=%{y}<extra></extra>\", \"hovertext\": [\"Watch Live: President Trump's MAGA Rally in Green Bay (Full) | NBC News\", \"FULL RALLY: President Trump in Panama City Beach, Florida\", \"FULL RALLY: President Trump in Montoursville, Pennsylvania\", \"TRUMP 2020: President Trump Re-Election Campaign Rally - FULL SPEECH\", \"President Trump COMPLETE REMARKS at July 4th \\\"Salute to America\\\" (C-SPAN)\", \"FULL RALLY: President Trump Rally in Greenville, North Carolina\", \"FULL RALLY: President Trump on Democrats, Economy in Cincinnati, Ohio\", \"Pres. Trump New Hampshire Rally in Manchester | ABC News Live Coverage\", \"Watch LIVE President Trump campaign rally in Fayetteville, North Carolina | ABC News\", \"FULL SPEECH President Donald Trump Rally - Rio Rancho, NM. 2019\", \"FULL RALLY: President Trump rally in Minneapolis, MN\", \"FULL TRUMP RALLY: President Trump holds campaign rally in Dallas, Texas\", \"Watch Live: President Donald Trump Speaks At Mississippi Campaign Rally | NBC News\", \"FULL RALLY: President Trump in Lexington, Kentucky\", \"Watch Live: President Donald Trump Speaks At A Keep America Great Rally In Louisiana | NBC News\", \"FULL RALLY: President Trump Monroe, Louisiana\", \"FULL RALLY: President Trump in Bossier City, Louisiana\", \"KEEP AMERICA GREAT: President Trump FULL RALLY in Florida\", \"President Donald Trump speaks at his Hershey rally (full speech)\", \"Full Video: President Trump speaks at campaign rally in Battle Creek\", \"FULL RALLY: President Trump talks impeachment and more in Toledo, Ohio\", \"Donald Trump hosts \\\"Keep America Great\\\" rally in Milwaukee, Wis.\", \"Trump Rally in Wildwood New Jersey, Jan. 28, 2020, full speech\", \"LIVE: President Trump in Des Moines, IA\", \"LIVE: State of the Union Address\", \"LIVE: President Trump in Manchester, NH\", \"LIVE: President Trump in Phoenix, AZ\", \"LIVE: President Trump in Colorado Springs, CO\", \"LIVE: President Trump in Las Vegas, NV\", \"LIVE: President Trump in North Charleston, SC\", \"LIVE: President Trump in Charlotte, NC\", \"LIVE: President Trump in Tulsa, Oklahoma\", \"Trump addresses crowd of young Americans at Arizona rally | FULL\", \"President Trump's full speech at Mount Rushmore | USA TODAY\", \"President Trump goes one-on-one with Chris Wallace | Full Interview\", \"AXIOS on HBO: President Trump Exclusive Interview (Full Episode) | HBO\", \"Trump offers Lebanon assistance following explosion, touts' coronavirus response | FULL\", \"Trump slams Kamala Harris, makes 2020 predictions | Full Interview\", \"WATCH LIVE: President Trump comes to Minnesota for Mankato campaign stop\", \"WATCH: President Trump in Yuma, AZ\", \"Trump Delivers Remarks at Mariotti Building Products in Old Forge, Pennsylvania\", \"President Donald Trump's Full Republican National Convention Speech | NBC10 Philadelphia\", \"President Trump's Full RNC 2020 Speech | NowThis\", \"Jacob Blake protests: Trump announces funding for Kenosha police, businesses during visit | FULL\", \"President Trump designates Wilmington, NC as the first American World War II Heritage City | FULL\", \"Trump delivers campaign remarks at Arnold Palmer Regional Airport\", \"Raw Video: President Trump Full Speech at Rally in Winston-Salem, NC (High Quality) 9/8/20\", \"FULL RALLY: President Trump campaigns in Freeland, Michigan\", \"Trump delivers remarks from Minden, Nevada\", \"Trump holds a campaign event in Henderson, Nevada\", \"LIVE: Trump's full speech at the White House Conference on American History (Sept. 17) | NTD\", \"FULL RALLY: President Trump in Mosinee, Wisconsin\", \"Trump talks COVID-19 vaccine distribution, TikTok ban | FULL\", \"Live: Trump Holds Campaign Rally In North Carolina | NBC News\", \"President Trump FULL Speech at Vandalia, OH Campaign Rally (High Quality!) 9/21/20\", \"President Trump holds press conference at the White House\", \"President Trump holds a freewheeling campaign rally in Jacksonville, FL | FULL RALLY\", \"FULL: Trump campaign speech in Atlanta\", \"\\ud83d\\udd34LIVE: PRESIDENT DONALD TRUMP FULL SPEECH AT MIDDLETOWN, PA RALLY...\", \"Trump: What's The Deal? Full Documentary (1991)\", \"Trump Gives Update On Coronavirus Testing Strategy | NBC News\", \"President Trump FULL Speech at Vandalia, OH Campaign Rally High Quality! 92120\", \"RAW VIDEO: President Donald Trump FULL SPEECH at Duluth, MN Rally 9/30/20\", \"The president's taxes: A story to 'Trump' all the others? | The Listening Post\", \"President Trump\\u2019s Doctor Provides Health Update from Walter Reed | NBC News\", \"White House physician provides update on Trump's condition - 10/5 (FULL LIVE STREAM)\", \"LIVE: Trump Returns to the White House With Covid-19 and Without a Face Mask | Happening Today\", \"Trump backs out of relief talks as he continues to downplay virus\", \"President Trump Rally On Rush Limbaugh's Show - 09/10/20 (FULL)\", \"The Trump Administration's First Term Corruption | The Daily Show\", \"\\\"I'M BACK\\\" President Trump First Rally Since BEATING Covid-19 | Full Rally | 10/12/20\", \"RAW VIDEO: President Donald Trump FULL SPEECH at Johnstown, PA Rally 10/13/20\", \"WATCH LIVE: Trump holds campaign rally in Greenville, North Carolina\", \"President Donald Trump FULL SPEECH at Greenville, NC Rally 10/15/20\", \"Trump speaks at  'Make America Great Again' rally in Georgia\", \"Full speech: President Trump holds campaign rally in Muskegon\", \"President Trump Newport Beach Supporters Emptied On To Via Lido on DAN-O-VISION...\", \"Trump\\u2019s First Term Trips Abroad | The Daily Show\", \"\\\"TIME TO WIN\\\" President Trump FULL RALLY In Erie, Pennsylvania\", \"Trump releases 60 Minutes interview FULL on the #LieStream\", \"President Trump's '60 Minutes' interview\", \"Live: President Trump Delivers Remarks In North Carolina | NBC News\", \"President Donald Trump FULL SPEECH at Circleville, OH Rally 10/24/20\", \"Donald and Melania Trump: A Love Story for the Ages | The Daily Social Distancing Show\"], \"legendgroup\": \"trump\", \"marker\": {\"color\": \"#636efa\", \"symbol\": \"circle\"}, \"mode\": \"markers\", \"name\": \"trump\", \"orientation\": \"v\", \"showlegend\": true, \"type\": \"scatter\", \"x\": [-0.30085779871141993, -0.33153841765415937, -0.24504188540491162, -0.16415656975770843, 0.15573121476623825, -0.27934330473151503, -0.29502543514980295, -0.2598542874118875, -0.24434455770827396, -0.3013864231083293, -0.3061475548757585, -0.3364684601430409, -0.2628846842114903, -0.21385541011689954, -0.18922111859167362, -0.18119957054750735, -0.1565620844768506, -0.3155758919998299, -0.2835490952914606, -0.3711425125728012, -0.3306909054338514, -0.30230898356133806, -0.16970289034513555, -0.3341140128381742, 0.11198977169658678, -0.2483302686615636, -0.2681119853137398, -0.29381577594029606, -0.37577094650092324, -0.28786418030290334, -0.2536734007102243, -0.3286651730869744, -0.24173569955626703, 0.18471240174394107, -0.21915978099032857, -0.1952862255382235, -0.15139467878509158, -0.2275251083404953, -0.15139467878509158, -0.2642289363491418, -0.334815178311477, 0.06777999815628626, 0.0678927170647917, -0.10844410251058482, -0.006001588390411384, -0.37321768887311535, -0.3117323321960828, -0.3003423058132365, -0.30893770609261756, -0.24901321994067488, 0.23938690576408586, -0.36434941745867533, -0.07295914607088938, -0.3763142634573851, -0.3338260278305292, -0.0599593168329434, -0.3105274218971082, -0.2545416401749822, -0.34222234323715167, 0.10463457777646491, 0.13854168639141298, 0.2998218191455441, -0.23769159377232588, 0.15303587348202158, 0.13839633319639555, 0.048844848288605136, -0.18867329392739304, -0.18867329392739304, 0.28206458253101013, 0.36865003979402866, -0.28225310643421964, -0.28298692462863184, 0.36408271648788987, 0.36408271648788987, -0.381674995276596, 0.3808211982903769, 0.044026222402440134, 0.18129928553498537, -0.2891986064754926, -0.2327552749439976, 0.03521209649643447, -0.2785861845310634, -0.3480092162838542, 0.044214096073137914], \"xaxis\": \"x\", \"y\": [-0.20657841288704593, -0.1613884522502093, -0.18927351808091908, -0.22451784556827523, 0.07999707565545638, -0.18577245306842186, -0.149675254249613, -0.21903057629205683, -0.18482192444803755, -0.1856257051104772, -0.17308042084989492, -0.1737710972700074, -0.13218298607444282, -0.12481619754813275, -0.11970103822564448, -0.12155180474139746, -0.12267050573610244, -0.18123303625745618, -0.16468616456646476, -0.15309612058406488, -0.18858181362046847, -0.18135826441576353, -0.14888640796888214, -0.18040868325760404, -0.03128716737781182, -0.1491203413510211, -0.1905082008255192, -0.14977324536966538, -0.13788682546995357, -0.1735484181295793, -0.1592389429524119, -0.161279715895839, -0.12982200538679536, 0.031485967683935176, 0.05993090063585563, 0.13003744521411867, 0.2143125962619139, 0.03570730160850228, 0.2143125962619139, -0.15100047266973285, -0.14778601083096854, -0.16663577487775091, -0.16535039153133455, 0.1359119007610913, 0.0298020489510273, -0.1252604111959263, -0.21758782110806843, -0.19744456718354475, -0.16146603409377386, -0.16419054305780995, 0.10693921901005936, -0.1791114282546193, 0.17322821919939924, -0.15262267987503053, -0.14015678034801596, 0.265615148784748, -0.16831633621109687, -0.034482659498349444, -0.1304727799962693, 0.11856229930323225, 0.23406945108716765, 0.24095981160808383, -0.1629812760883817, 0.12064621881336068, 0.31360390336485705, 0.474299431233543, 0.5230782898285364, 0.5230782898285364, -0.0920279617081198, -0.3224745114212239, -0.20153327296897627, -0.16987222952668266, -0.3271728610330319, -0.3271728610330319, -0.14525073474796169, -0.2862770860422157, 0.3020250690725156, 0.2639712634253396, -0.18424745117188393, 0.1279837851470189, 0.015624361023828321, -0.14533214046469392, -0.16523588529723207, 0.269519166826783], \"yaxis\": \"y\"}, {\"hovertemplate\": \"<b>%{hovertext}</b><br><br>speaker=biden<br>0=%{x}<br>1=%{y}<extra></extra>\", \"hovertext\": [\"Joe Biden holds first 2020 campaign rally\", \"Joe Biden speaks during a campaign rally in Philadelphia\", \"Full Speech: Biden Condemns Trump\\u2019s Rhetoric And White Nationalism | NBC News\", \"Full speech: Joe Biden speaks at the Iowa Democratic Wing Ding\", \"Joe Biden's Full Remarks in Reno, Nevada | Joe Biden for President\", \"Joe Biden Speaks in Scranton, Pennsylvania\", \"CAMPAIGN 2020: Joe Biden's full 2020 King Day at the Dome speech\", \"I'm about to take the stage from California. Tune in to watch live:\", \"I'm about to take the stage from Mississippi. Tune in to watch live:\", \"I'm about to take the stage from Philadelphia. Tune in to watch live:\", \"Joe Biden delivers remarks on the impact of the Coronavirus on Young Americans. Tune in:\", \"Joe Biden Delivers Remarks on Implementation & Oversight of CARES Act | Joe Biden For President\", \"Joe Biden remarks on Protests\", \"Vice President Biden Delivers Remarks On Having a Safer Economic Reopening\", \"Vice President Biden's Remarks at Global Pride | Joe Biden For President\", \"Vice President Biden delivers remarks on Trump\\u2019s failure to protect the American people\", \"Joe Biden Delivers Remarks On His \\u201cBuild Back Better\\u201d Plan For An Equitable Clean Energy Future\", \"Joe Biden Unveils $775 Billion \\u2018Build Back Better\\u2019 Plan to Boost Child and Elderly Care\", \"Joe Biden introduces Kamala Harris as running mate\", \"Joe Biden speaks at the 2020 Democratic National Convention | Full Speech\", \"FULL VIDEO: Joe Biden delivers remarks on violence across America\", \"FULL VIDEO: Joe Biden makes remarks on education and takes questions in Wilmington, Delaware\", \"Joe Biden's full campaign speech HD 8/31/2020\", \"Joe Biden Speech on The Supreme Court & Justice Ruth Bader Ginsburg LIVE\", \"Live: Biden speaks in Wisconsin\", \"\\\"Benjamin Crump Interview, Joe Biden Interview, Ask The CLO and more\\\" | Full Show 09.25.20\", \"9-3-20 Biden Visits Kenosha, full livestream coverage\", \"Joe Biden holds campaign event in Pennsylvania\", \"Stop Joe Biden Rally in Delaware FULL | The Frontline with Joe & Joe\", \"Stop Joe Biden Rally in Delaware FULL | The Frontline with Joe & Joe\", \"FULL VIDEO: Joe Biden delivers address on national unity\", \"Biden & Harris full campaign speeches HD 10/8/2020\", \"Live: Biden Holds Campaign Event In Pennsylvania  | NBC News\", \"Joe Biden holds drive-in rally at UAW Local 14 in Toledo | FULL RALLY\", \"Joe Biden's Body Language - Interview About Tara Reade (Full Interview)\", \"Former Vice President Joe Biden Town Hall Interview\", \"War Room: Pandemic Ep 443 -The CCP's Ownership of Joe Biden Pt.1 (w/ Rudy Giuliani)\", \"Noam Chomsky / Bad Faith Debate on Voting for Biden (ft. Ben Burgis)\", \"Social Media and the Hunter Biden Report\", \"Pence BLASTS Biden, Harris in campaign speech | FULL REMARKS\", \"Live: Biden Delivers Remarks on Coronavirus and the Economy | NBC News\", \"Reaction to Hunter Biden\\u2019s Business Partner Speaking Up\", \"Talk Time \\ud83d\\udd34 Watch Joe Biden\\u2019s Full Interview With Craig Melvin   TODAY\"], \"legendgroup\": \"biden\", \"marker\": {\"color\": \"#EF553B\", \"symbol\": \"circle\"}, \"mode\": \"markers\", \"name\": \"biden\", \"orientation\": \"v\", \"showlegend\": true, \"type\": \"scatter\", \"x\": [0.008881233706986933, 0.08288317135254931, 0.3058277376266325, 0.25090371186214117, 0.18000952793283453, -0.07285696398325303, 0.1891511365244897, 0.127930287611408, 0.12811737171150886, 0.24629286043426618, -0.029709902990718698, 0.041742205907384033, 0.20238125985391378, 0.23939207509372024, 0.20416838695498232, 0.13058784462266992, 0.16386225844956323, 0.07593781851004781, 0.18800051364015294, 0.16461664837001716, 0.28772481331352023, 0.026308039099862016, 0.29656994373083206, 0.23811359976907312, 0.01225317945263156, -0.14960734921326932, -0.2280453240378846, 0.04725605397124822, 0.06243476241518541, 0.062381216781802626, -0.18867329392739304, 0.35229922067996683, 0.02327940119327656, 0.12063595999836475, -0.19260206006645159, 0.07016728063571993, -0.07878495384091588, -0.14153066165972952, 0.0009144081009251752, 0.31612266395638394, 0.19989568771438646, -0.10755633019456998, -0.11868538410976383], \"xaxis\": \"x\", \"y\": [0.09649328334802257, 0.04390488308816577, 0.06426564031110162, 0.1130344012849092, 0.10038501419295538, 0.0731469060917897, 0.2513691035946816, 0.13183735488212545, 0.05172061115578631, 0.07850828050136645, 0.14945315022467692, 0.09476335823869055, 0.11253227667182492, 0.16356577357345506, 0.331226803858163, 0.1278700216946236, 0.09708193898585069, 0.1990411267615886, 0.00023932090064173397, 0.001094135960130503, 0.013717294526883687, 0.14811778541406628, 0.019116078265429666, 0.14668617767366396, 0.04891870368895173, 0.23953225464125547, 0.27551477888475756, 0.027833856024723762, 0.20945714686485456, 0.21631289599316178, 0.5230782898285364, -0.14659566243389774, 0.0028280698504500553, -0.05491775006230858, 0.29858676258414635, 0.21489880782680804, 0.18487719956691018, 0.45122393895974827, 0.30418815706320473, -0.33584548602661796, 0.1363655956846259, 0.1868765937195434, 0.22763703353335427], \"yaxis\": \"y\"}, {\"hovertemplate\": \"<b>%{hovertext}</b><br><br>speaker=harris<br>0=%{x}<br>1=%{y}<extra></extra>\", \"hovertext\": [\"Full speech: Kamala Harris | Iowa Democrats\\u2019 Hall of Fame event (6/19)\", \"Democratic VP candidate Kamala Harris speaks at Joe Biden event\", \"WATCH: Kamala Harris\\u2019 full speech at the 2020 Democratic National Convention | 2020 DNC Night 3\", \"Kamala Harris to discuss Trump's response to coronavirus\", \"Kamala Harris Responds LIVE to Trump\\u2019s Supreme Court Nomination\", \"Kamala Harris full incredible  speech on Supreme Court and the election.\", \"Could life exist on other planets? John Harris\", \"Jaime Harrison mops the floor with Lindsey Graham - South Carolina Debate\", \"ROARR 98.7 EPISODE OO7: ALEX HARRIS\", \"In The Loop: Kamala Harris' Record & Can COVID Treatments Impact President's Brain Function?\", \"How I know BLM is Full of Crap: Kamala Harris, Joe Biden Far Worse than Trump on Justice Reform\", \"LisaRaye, Trump's COVID-19, \\\"Tiny\\\" Harris, and More! FULL EPISODE | #WindDownWeekend\", \"Lindsey Graham Jaime Harrison debate forum: full video\", \"How Facebook opened Pandora\\u2019s box - Tristan Harris | Andrew Yang | Yang Speaks\", \"Kamala Harris grills Amy Coney Barrett on health care at confirmation hearing\", \"Kamala Harris Early Vote Mobilization Event in Orlando, Florida\", \"Trump blasts Joe Biden, mocks Kamala Harris at Tucson, Arizona rally | FULL\", \"Kamala Harris gets REAL with CJ McCollum, Donovan Mitchell, and Tobias: Remaking America Roundtable\", \"Former President Obama speaks in Philadelphia for Biden-Harris campaign \\u2014 10/21/2020\", \"Kamala Harris Democratic, vice presidential nominee, attends voting event in Atlanta\"], \"legendgroup\": \"harris\", \"marker\": {\"color\": \"#00cc96\", \"symbol\": \"circle\"}, \"mode\": \"markers\", \"name\": \"harris\", \"orientation\": \"v\", \"showlegend\": true, \"type\": \"scatter\", \"x\": [0.1494015651818697, 0.1777680794217908, 0.21232835623360935, 0.2699744480479118, 0.3046532219728483, 0.2998218191455441, -0.04651118413576665, -0.003875633565972413, -0.18867329392739304, 0.15271015123671175, 0.020204966398337847, -0.27133948858028795, 0.02388389586845568, -0.17541836778025366, 0.2338331211503957, 0.18129928553498537, -0.25446537759243976, -0.09751616076863157, 0.03521209649643447, 0.11055423340419566], \"xaxis\": \"x\", \"y\": [0.1315294169604697, 0.07187737508706687, 0.1542884990042932, 0.09027356384696393, 0.23650332781753255, 0.24095981160808383, 0.31765547283959716, 0.1772208026138625, 0.5230782898285364, 0.22793449489780016, 0.24969665320154916, 0.3000741150570438, 0.2243000251903101, 0.4562760430045921, 0.26477412623471364, 0.2639712634253396, -0.18483240259564257, 0.27532594400723004, 0.015624361023828321, 0.09272362998912963], \"yaxis\": \"y\"}, {\"hovertemplate\": \"<b>%{hovertext}</b><br><br>speaker=pence<br>0=%{x}<br>1=%{y}<extra></extra>\", \"hovertext\": [\"VP Mike Pence introduces President Trump at 2020 re-election rally\", \"AMERICA IS BACK: VP Pence amps up crowd during Trump rally\", \"\\\"HE'S THE REAL DEAL\\\": VP Pence speaks at Trump rally in Fayetteville, NC\", \"VP Pence FULL Remarks At 2019 IAC Conference  10-21-2019\", \"Vice President Mike Pence speaks at the Trump rally in Hershey\", \"VP Pence OpenING Speech First 2020 KAG Rally | Toledo OH | 1-09-20 20\", \"Vice President Mike Pence speaks at a Make America Great Again Rally in Tulsa, OK | FULL SPEECH\", \"JUST IN: Pence responds to Kamala Harris being chosen as Joe Biden's 2020 running mate\", \"WATCH LIVE: Mike Pence speaks at Trump campaign event in Michigan\", \"Pence campaigns in Wisconsin | FULL REMARKS\", \"Full video: Vice President Mike Pence holds campaign rally in Gilford\", \"LIVE: Pence Hosts Presidential Debate Watch Party in Lititz, Pennsylvania\", \"Mike Pence in Atlanta: Why and when is he here?\", \"Canvas + O365 Integration with Jeff Pence\", \"Pence attends a 'Make America Great Again!' event in Nevada\", \"Mike Pence holds 'Make American Great Again' event in Arizona\", \"WATCH Full Speech: Vice President Mike Pence hosts a \\\"Latinos for Trump\\\" event in Orlando.\", \"#LiveStream #USElections2020 #Pence holds campaign rally at The Villages in Florida | 10-10-20\", \"WATCH: Vice President Pence in Waukesha, WI #Wisconsin\", \"Full Speech: Mike Pence Rallies Supporters in Grand Rapids\", \"VP Pence in Selma (Full speech)\", \"Pence campaigns in Pennsylvania\", \"VP Pence holds 'Make America Great Again!' event\", \"Full speech: Vice President Pence holds campaign rally in Waterford Township, Michigan\", \"FULL LIVE EVENT Vice President Mike Pence Lakeland, Florida 10/24/2020\"], \"legendgroup\": \"pence\", \"marker\": {\"color\": \"#ab63fa\", \"symbol\": \"circle\"}, \"mode\": \"markers\", \"name\": \"pence\", \"orientation\": \"v\", \"showlegend\": true, \"type\": \"scatter\", \"x\": [0.4868634415866346, 0.4855630333599324, 0.33471336979261385, 0.23695382621669944, 0.4296238385923676, 0.44149817142861547, 0.4622563655186018, 0.396866227623057, 0.396866227623057, 0.31467734118035506, 0.3118775255825811, 0.30822621113355997, 0.08265496987079751, -0.0026266704762137713, 0.28206458253101013, 0.35229922067996683, 0.42559964616433477, 0.36865003979402866, 0.36002789510737454, 0.36408271648788987, 0.3808211982903769, 0.3102791880642647, 0.36461501119855505, 0.3051338294599344, -0.3480092162838542], \"xaxis\": \"x\", \"y\": [-0.18287668949649963, -0.1562772888542506, -0.07230165660863502, 0.19264949075859555, -0.2093778728121431, -0.22722548349238564, -0.26425462847236697, -0.2599869997492286, -0.2599869997492286, -0.31024891152599593, -0.24574513141570936, -0.31598169229624423, 0.14319740827167027, 0.3666068488456747, -0.0920279617081198, -0.14659566243389774, -0.3207886386316728, -0.3224745114212239, -0.30815185778332266, -0.3271728610330319, -0.2862770860422157, -0.33520589410851687, -0.31736557945167543, -0.34415642845254074, -0.16523588529723207], \"yaxis\": \"y\"}],\n",
       "                        {\"legend\": {\"title\": {\"text\": \"speaker\"}, \"tracegroupgap\": 0}, \"margin\": {\"t\": 60}, \"template\": {\"data\": {\"bar\": [{\"error_x\": {\"color\": \"#2a3f5f\"}, \"error_y\": {\"color\": \"#2a3f5f\"}, \"marker\": {\"line\": {\"color\": \"#E5ECF6\", \"width\": 0.5}}, \"type\": \"bar\"}], \"barpolar\": [{\"marker\": {\"line\": {\"color\": \"#E5ECF6\", \"width\": 0.5}}, \"type\": \"barpolar\"}], \"carpet\": [{\"aaxis\": {\"endlinecolor\": \"#2a3f5f\", \"gridcolor\": \"white\", \"linecolor\": \"white\", \"minorgridcolor\": \"white\", \"startlinecolor\": \"#2a3f5f\"}, \"baxis\": {\"endlinecolor\": \"#2a3f5f\", \"gridcolor\": \"white\", \"linecolor\": \"white\", \"minorgridcolor\": \"white\", \"startlinecolor\": \"#2a3f5f\"}, \"type\": \"carpet\"}], \"choropleth\": [{\"colorbar\": {\"outlinewidth\": 0, \"ticks\": \"\"}, \"type\": \"choropleth\"}], \"contour\": [{\"colorbar\": {\"outlinewidth\": 0, \"ticks\": \"\"}, \"colorscale\": [[0.0, \"#0d0887\"], [0.1111111111111111, \"#46039f\"], [0.2222222222222222, \"#7201a8\"], [0.3333333333333333, \"#9c179e\"], [0.4444444444444444, \"#bd3786\"], [0.5555555555555556, \"#d8576b\"], [0.6666666666666666, \"#ed7953\"], [0.7777777777777778, \"#fb9f3a\"], [0.8888888888888888, \"#fdca26\"], [1.0, \"#f0f921\"]], \"type\": \"contour\"}], \"contourcarpet\": [{\"colorbar\": {\"outlinewidth\": 0, \"ticks\": \"\"}, \"type\": \"contourcarpet\"}], \"heatmap\": [{\"colorbar\": {\"outlinewidth\": 0, \"ticks\": \"\"}, \"colorscale\": [[0.0, \"#0d0887\"], [0.1111111111111111, \"#46039f\"], [0.2222222222222222, \"#7201a8\"], [0.3333333333333333, \"#9c179e\"], [0.4444444444444444, \"#bd3786\"], [0.5555555555555556, \"#d8576b\"], [0.6666666666666666, \"#ed7953\"], [0.7777777777777778, \"#fb9f3a\"], [0.8888888888888888, \"#fdca26\"], [1.0, \"#f0f921\"]], \"type\": \"heatmap\"}], \"heatmapgl\": [{\"colorbar\": {\"outlinewidth\": 0, \"ticks\": \"\"}, \"colorscale\": [[0.0, \"#0d0887\"], [0.1111111111111111, \"#46039f\"], [0.2222222222222222, \"#7201a8\"], [0.3333333333333333, \"#9c179e\"], [0.4444444444444444, \"#bd3786\"], [0.5555555555555556, \"#d8576b\"], [0.6666666666666666, \"#ed7953\"], [0.7777777777777778, \"#fb9f3a\"], [0.8888888888888888, \"#fdca26\"], [1.0, \"#f0f921\"]], \"type\": \"heatmapgl\"}], \"histogram\": [{\"marker\": {\"colorbar\": {\"outlinewidth\": 0, \"ticks\": \"\"}}, \"type\": \"histogram\"}], \"histogram2d\": [{\"colorbar\": {\"outlinewidth\": 0, \"ticks\": \"\"}, \"colorscale\": [[0.0, \"#0d0887\"], [0.1111111111111111, \"#46039f\"], [0.2222222222222222, \"#7201a8\"], [0.3333333333333333, \"#9c179e\"], [0.4444444444444444, \"#bd3786\"], [0.5555555555555556, \"#d8576b\"], [0.6666666666666666, \"#ed7953\"], [0.7777777777777778, \"#fb9f3a\"], [0.8888888888888888, \"#fdca26\"], [1.0, \"#f0f921\"]], \"type\": \"histogram2d\"}], \"histogram2dcontour\": [{\"colorbar\": {\"outlinewidth\": 0, \"ticks\": \"\"}, \"colorscale\": [[0.0, \"#0d0887\"], [0.1111111111111111, \"#46039f\"], [0.2222222222222222, \"#7201a8\"], [0.3333333333333333, \"#9c179e\"], [0.4444444444444444, \"#bd3786\"], [0.5555555555555556, \"#d8576b\"], [0.6666666666666666, \"#ed7953\"], [0.7777777777777778, \"#fb9f3a\"], [0.8888888888888888, \"#fdca26\"], [1.0, \"#f0f921\"]], \"type\": \"histogram2dcontour\"}], \"mesh3d\": [{\"colorbar\": {\"outlinewidth\": 0, \"ticks\": \"\"}, \"type\": \"mesh3d\"}], \"parcoords\": [{\"line\": {\"colorbar\": {\"outlinewidth\": 0, \"ticks\": \"\"}}, \"type\": \"parcoords\"}], \"pie\": [{\"automargin\": true, \"type\": \"pie\"}], \"scatter\": [{\"marker\": {\"colorbar\": {\"outlinewidth\": 0, \"ticks\": \"\"}}, \"type\": \"scatter\"}], \"scatter3d\": [{\"line\": {\"colorbar\": {\"outlinewidth\": 0, \"ticks\": \"\"}}, \"marker\": {\"colorbar\": {\"outlinewidth\": 0, \"ticks\": \"\"}}, \"type\": \"scatter3d\"}], \"scattercarpet\": [{\"marker\": {\"colorbar\": {\"outlinewidth\": 0, \"ticks\": \"\"}}, \"type\": \"scattercarpet\"}], \"scattergeo\": [{\"marker\": {\"colorbar\": {\"outlinewidth\": 0, \"ticks\": \"\"}}, \"type\": \"scattergeo\"}], \"scattergl\": [{\"marker\": {\"colorbar\": {\"outlinewidth\": 0, \"ticks\": \"\"}}, \"type\": \"scattergl\"}], \"scattermapbox\": [{\"marker\": {\"colorbar\": {\"outlinewidth\": 0, \"ticks\": \"\"}}, \"type\": \"scattermapbox\"}], \"scatterpolar\": [{\"marker\": {\"colorbar\": {\"outlinewidth\": 0, \"ticks\": \"\"}}, \"type\": \"scatterpolar\"}], \"scatterpolargl\": [{\"marker\": {\"colorbar\": {\"outlinewidth\": 0, \"ticks\": \"\"}}, \"type\": \"scatterpolargl\"}], \"scatterternary\": [{\"marker\": {\"colorbar\": {\"outlinewidth\": 0, \"ticks\": \"\"}}, \"type\": \"scatterternary\"}], \"surface\": [{\"colorbar\": {\"outlinewidth\": 0, \"ticks\": \"\"}, \"colorscale\": [[0.0, \"#0d0887\"], [0.1111111111111111, \"#46039f\"], [0.2222222222222222, \"#7201a8\"], [0.3333333333333333, \"#9c179e\"], [0.4444444444444444, \"#bd3786\"], [0.5555555555555556, \"#d8576b\"], [0.6666666666666666, \"#ed7953\"], [0.7777777777777778, \"#fb9f3a\"], [0.8888888888888888, \"#fdca26\"], [1.0, \"#f0f921\"]], \"type\": \"surface\"}], \"table\": [{\"cells\": {\"fill\": {\"color\": \"#EBF0F8\"}, \"line\": {\"color\": \"white\"}}, \"header\": {\"fill\": {\"color\": \"#C8D4E3\"}, \"line\": {\"color\": \"white\"}}, \"type\": \"table\"}]}, \"layout\": {\"annotationdefaults\": {\"arrowcolor\": \"#2a3f5f\", \"arrowhead\": 0, \"arrowwidth\": 1}, \"coloraxis\": {\"colorbar\": {\"outlinewidth\": 0, \"ticks\": \"\"}}, \"colorscale\": {\"diverging\": [[0, \"#8e0152\"], [0.1, \"#c51b7d\"], [0.2, \"#de77ae\"], [0.3, \"#f1b6da\"], [0.4, \"#fde0ef\"], [0.5, \"#f7f7f7\"], [0.6, \"#e6f5d0\"], [0.7, \"#b8e186\"], [0.8, \"#7fbc41\"], [0.9, \"#4d9221\"], [1, \"#276419\"]], \"sequential\": [[0.0, \"#0d0887\"], [0.1111111111111111, \"#46039f\"], [0.2222222222222222, \"#7201a8\"], [0.3333333333333333, \"#9c179e\"], [0.4444444444444444, \"#bd3786\"], [0.5555555555555556, \"#d8576b\"], [0.6666666666666666, \"#ed7953\"], [0.7777777777777778, \"#fb9f3a\"], [0.8888888888888888, \"#fdca26\"], [1.0, \"#f0f921\"]], \"sequentialminus\": [[0.0, \"#0d0887\"], [0.1111111111111111, \"#46039f\"], [0.2222222222222222, \"#7201a8\"], [0.3333333333333333, \"#9c179e\"], [0.4444444444444444, \"#bd3786\"], [0.5555555555555556, \"#d8576b\"], [0.6666666666666666, \"#ed7953\"], [0.7777777777777778, \"#fb9f3a\"], [0.8888888888888888, \"#fdca26\"], [1.0, \"#f0f921\"]]}, \"colorway\": [\"#636efa\", \"#EF553B\", \"#00cc96\", \"#ab63fa\", \"#FFA15A\", \"#19d3f3\", \"#FF6692\", \"#B6E880\", \"#FF97FF\", \"#FECB52\"], \"font\": {\"color\": \"#2a3f5f\"}, \"geo\": {\"bgcolor\": \"white\", \"lakecolor\": \"white\", \"landcolor\": \"#E5ECF6\", \"showlakes\": true, \"showland\": true, \"subunitcolor\": \"white\"}, \"hoverlabel\": {\"align\": \"left\"}, \"hovermode\": \"closest\", \"mapbox\": {\"style\": \"light\"}, \"paper_bgcolor\": \"white\", \"plot_bgcolor\": \"#E5ECF6\", \"polar\": {\"angularaxis\": {\"gridcolor\": \"white\", \"linecolor\": \"white\", \"ticks\": \"\"}, \"bgcolor\": \"#E5ECF6\", \"radialaxis\": {\"gridcolor\": \"white\", \"linecolor\": \"white\", \"ticks\": \"\"}}, \"scene\": {\"xaxis\": {\"backgroundcolor\": \"#E5ECF6\", \"gridcolor\": \"white\", \"gridwidth\": 2, \"linecolor\": \"white\", \"showbackground\": true, \"ticks\": \"\", \"zerolinecolor\": \"white\"}, \"yaxis\": {\"backgroundcolor\": \"#E5ECF6\", \"gridcolor\": \"white\", \"gridwidth\": 2, \"linecolor\": \"white\", \"showbackground\": true, \"ticks\": \"\", \"zerolinecolor\": \"white\"}, \"zaxis\": {\"backgroundcolor\": \"#E5ECF6\", \"gridcolor\": \"white\", \"gridwidth\": 2, \"linecolor\": \"white\", \"showbackground\": true, \"ticks\": \"\", \"zerolinecolor\": \"white\"}}, \"shapedefaults\": {\"line\": {\"color\": \"#2a3f5f\"}}, \"ternary\": {\"aaxis\": {\"gridcolor\": \"white\", \"linecolor\": \"white\", \"ticks\": \"\"}, \"baxis\": {\"gridcolor\": \"white\", \"linecolor\": \"white\", \"ticks\": \"\"}, \"bgcolor\": \"#E5ECF6\", \"caxis\": {\"gridcolor\": \"white\", \"linecolor\": \"white\", \"ticks\": \"\"}}, \"title\": {\"x\": 0.05}, \"xaxis\": {\"automargin\": true, \"gridcolor\": \"white\", \"linecolor\": \"white\", \"ticks\": \"\", \"title\": {\"standoff\": 15}, \"zerolinecolor\": \"white\", \"zerolinewidth\": 2}, \"yaxis\": {\"automargin\": true, \"gridcolor\": \"white\", \"linecolor\": \"white\", \"ticks\": \"\", \"title\": {\"standoff\": 15}, \"zerolinecolor\": \"white\", \"zerolinewidth\": 2}}}, \"xaxis\": {\"anchor\": \"y\", \"domain\": [0.0, 1.0], \"title\": {\"text\": \"0\"}}, \"yaxis\": {\"anchor\": \"x\", \"domain\": [0.0, 1.0], \"title\": {\"text\": \"1\"}}},\n",
       "                        {\"responsive\": true}\n",
       "                    ).then(function(){\n",
       "                            \n",
       "var gd = document.getElementById('19cbca12-6ac5-41d7-80e7-656f859502e6');\n",
       "var x = new MutationObserver(function (mutations, observer) {{\n",
       "        var display = window.getComputedStyle(gd).display;\n",
       "        if (!display || display === 'none') {{\n",
       "            console.log([gd, 'removed!']);\n",
       "            Plotly.purge(gd);\n",
       "            observer.disconnect();\n",
       "        }}\n",
       "}});\n",
       "\n",
       "// Listen for the removal of the full notebook cells\n",
       "var notebookContainer = gd.closest('#notebook-container');\n",
       "if (notebookContainer) {{\n",
       "    x.observe(notebookContainer, {childList: true});\n",
       "}}\n",
       "\n",
       "// Listen for the clearing of the current output cell\n",
       "var outputEl = gd.closest('.output');\n",
       "if (outputEl) {{\n",
       "    x.observe(outputEl, {childList: true});\n",
       "}}\n",
       "\n",
       "                        })\n",
       "                };\n",
       "                });\n",
       "            </script>\n",
       "        </div>"
      ]
     },
     "metadata": {},
     "output_type": "display_data"
    }
   ],
   "source": [
    "import plotly_express as px\n",
    "fig = px.scatter(dcm, 0, 1, \n",
    "                    color='speaker', \n",
    "                    hover_name='title')\n",
    "fig.show()"
   ]
  },
  {
   "cell_type": "code",
   "execution_count": 118,
   "metadata": {},
   "outputs": [],
   "source": [
    "loadings['trump_rally'] = (loadings[0]+loadings[1])*-1\n",
    "loadings['pence'] = loadings[0]+(loadings[1]*-1)\n",
    "\n",
    "# put term strings back as index\n",
    "loadings.index = [tfidf_df.T.index[i] for i in loadings.index.values]\n",
    "loadings.index.name = 'term'"
   ]
  },
  {
   "cell_type": "code",
   "execution_count": 127,
   "metadata": {},
   "outputs": [
    {
     "data": {
      "text/plain": [
       "term\n",
       "great     0.089000\n",
       "said      0.086894\n",
       "know      0.080922\n",
       "want      0.061515\n",
       "going     0.055990\n",
       "right     0.053159\n",
       "people    0.053129\n",
       "say       0.045182\n",
       "got       0.042612\n",
       "never     0.037536\n",
       "Name: trump_rally, dtype: float64"
      ]
     },
     "execution_count": 127,
     "metadata": {},
     "output_type": "execute_result"
    }
   ],
   "source": [
    "loadings['trump_rally'].sort_values(ascending=False).head(10)"
   ]
  },
  {
   "cell_type": "code",
   "execution_count": 128,
   "metadata": {},
   "outputs": [
    {
     "data": {
      "text/plain": [
       "term\n",
       "president    0.132200\n",
       "trump        0.074095\n",
       "donald       0.065693\n",
       "america      0.063130\n",
       "american     0.060440\n",
       "years        0.059848\n",
       "joe          0.043356\n",
       "four         0.042074\n",
       "every        0.040798\n",
       "freedom      0.040311\n",
       "Name: pence, dtype: float64"
      ]
     },
     "execution_count": 128,
     "metadata": {},
     "output_type": "execute_result"
    }
   ],
   "source": [
    "loadings['pence'].sort_values(ascending=False).head(10)"
   ]
  },
  {
   "cell_type": "code",
   "execution_count": 129,
   "metadata": {},
   "outputs": [
    {
     "data": {
      "text/plain": [
       "term\n",
       "uh            0.047372\n",
       "like          0.035231\n",
       "um            0.034790\n",
       "yeah          0.033515\n",
       "atlanta       0.010821\n",
       "act           0.010455\n",
       "(applause)    0.009768\n",
       "affordable    0.009714\n",
       "kind          0.009638\n",
       "oxygen        0.008461\n",
       "Name: 1, dtype: float64"
      ]
     },
     "execution_count": 129,
     "metadata": {},
     "output_type": "execute_result"
    }
   ],
   "source": [
    "loadings[1].sort_values(ascending=False).head(10)"
   ]
  },
  {
   "cell_type": "code",
   "execution_count": 133,
   "metadata": {},
   "outputs": [
    {
     "data": {
      "application/vnd.plotly.v1+json": {
       "config": {
        "plotlyServerURL": "https://plot.ly"
       },
       "data": [
        {
         "hovertemplate": "<b>%{hovertext}</b><br><br>0=%{x}<br>1=%{y}<br>group=%{marker.color}<extra></extra>",
         "hovertext": [
          "Watch Live: President Trump's MAGA Rally in Green Bay (Full) | NBC News",
          "Joe Biden holds first 2020 campaign rally",
          "FULL RALLY: President Trump in Panama City Beach, Florida",
          "Joe Biden speaks during a campaign rally in Philadelphia",
          "FULL RALLY: President Trump in Montoursville, Pennsylvania",
          "Full speech: Kamala Harris | Iowa Democrats’ Hall of Fame event (6/19)",
          "VP Mike Pence introduces President Trump at 2020 re-election rally",
          "TRUMP 2020: President Trump Re-Election Campaign Rally - FULL SPEECH",
          "President Trump COMPLETE REMARKS at July 4th \"Salute to America\" (C-SPAN)",
          "AMERICA IS BACK: VP Pence amps up crowd during Trump rally",
          "FULL RALLY: President Trump Rally in Greenville, North Carolina",
          "FULL RALLY: President Trump on Democrats, Economy in Cincinnati, Ohio",
          "Full Speech: Biden Condemns Trump’s Rhetoric And White Nationalism | NBC News",
          "Pres. Trump New Hampshire Rally in Manchester | ABC News Live Coverage",
          "Full speech: Joe Biden speaks at the Iowa Democratic Wing Ding",
          "\"HE'S THE REAL DEAL\": VP Pence speaks at Trump rally in Fayetteville, NC",
          "Watch LIVE President Trump campaign rally in Fayetteville, North Carolina | ABC News",
          "FULL SPEECH President Donald Trump Rally - Rio Rancho, NM. 2019",
          "Joe Biden's Full Remarks in Reno, Nevada | Joe Biden for President",
          "FULL RALLY: President Trump rally in Minneapolis, MN",
          "FULL TRUMP RALLY: President Trump holds campaign rally in Dallas, Texas",
          "VP Pence FULL Remarks At 2019 IAC Conference  10-21-2019",
          "Joe Biden Speaks in Scranton, Pennsylvania",
          "Watch Live: President Donald Trump Speaks At Mississippi Campaign Rally | NBC News",
          "FULL RALLY: President Trump in Lexington, Kentucky",
          "Watch Live: President Donald Trump Speaks At A Keep America Great Rally In Louisiana | NBC News",
          "FULL RALLY: President Trump Monroe, Louisiana",
          "FULL RALLY: President Trump in Bossier City, Louisiana",
          "KEEP AMERICA GREAT: President Trump FULL RALLY in Florida",
          "Vice President Mike Pence speaks at the Trump rally in Hershey",
          "President Donald Trump speaks at his Hershey rally (full speech)",
          "Full Video: President Trump speaks at campaign rally in Battle Creek",
          "FULL RALLY: President Trump talks impeachment and more in Toledo, Ohio",
          "Donald Trump hosts \"Keep America Great\" rally in Milwaukee, Wis.",
          "VP Pence OpenING Speech First 2020 KAG Rally | Toledo OH | 1-09-20 20",
          "CAMPAIGN 2020: Joe Biden's full 2020 King Day at the Dome speech",
          "Trump Rally in Wildwood New Jersey, Jan. 28, 2020, full speech",
          "LIVE: President Trump in Des Moines, IA",
          "LIVE: State of the Union Address",
          "LIVE: President Trump in Manchester, NH",
          "LIVE: President Trump in Phoenix, AZ",
          "LIVE: President Trump in Colorado Springs, CO",
          "LIVE: President Trump in Las Vegas, NV",
          "LIVE: President Trump in North Charleston, SC",
          "LIVE: President Trump in Charlotte, NC",
          "I'm about to take the stage from California. Tune in to watch live:",
          "I'm about to take the stage from Mississippi. Tune in to watch live:",
          "I'm about to take the stage from Philadelphia. Tune in to watch live:",
          "Joe Biden delivers remarks on the impact of the Coronavirus on Young Americans. Tune in:",
          "Joe Biden Delivers Remarks on Implementation & Oversight of CARES Act | Joe Biden For President",
          "Joe Biden remarks on Protests",
          "Vice President Biden Delivers Remarks On Having a Safer Economic Reopening",
          "Vice President Mike Pence speaks at a Make America Great Again Rally in Tulsa, OK | FULL SPEECH",
          "LIVE: President Trump in Tulsa, Oklahoma",
          "Trump addresses crowd of young Americans at Arizona rally | FULL",
          "Vice President Biden's Remarks at Global Pride | Joe Biden For President",
          "Vice President Biden delivers remarks on Trump’s failure to protect the American people",
          "President Trump's full speech at Mount Rushmore | USA TODAY",
          "Joe Biden Delivers Remarks On His “Build Back Better” Plan For An Equitable Clean Energy Future",
          "President Trump goes one-on-one with Chris Wallace | Full Interview",
          "Joe Biden Unveils $775 Billion ‘Build Back Better’ Plan to Boost Child and Elderly Care",
          "AXIOS on HBO: President Trump Exclusive Interview (Full Episode) | HBO",
          "Trump offers Lebanon assistance following explosion, touts' coronavirus response | FULL",
          "JUST IN: Pence responds to Kamala Harris being chosen as Joe Biden's 2020 running mate",
          "Democratic VP candidate Kamala Harris speaks at Joe Biden event",
          "Joe Biden introduces Kamala Harris as running mate",
          "Trump slams Kamala Harris, makes 2020 predictions | Full Interview",
          "WATCH LIVE: President Trump comes to Minnesota for Mankato campaign stop",
          "WATCH: President Trump in Yuma, AZ",
          "WATCH: Kamala Harris’ full speech at the 2020 Democratic National Convention | 2020 DNC Night 3",
          "Trump Delivers Remarks at Mariotti Building Products in Old Forge, Pennsylvania",
          "Joe Biden speaks at the 2020 Democratic National Convention | Full Speech",
          "Kamala Harris to discuss Trump's response to coronavirus",
          "WATCH LIVE: Mike Pence speaks at Trump campaign event in Michigan",
          "President Donald Trump's Full Republican National Convention Speech | NBC10 Philadelphia",
          "President Trump's Full RNC 2020 Speech | NowThis",
          "FULL VIDEO: Joe Biden delivers remarks on violence across America",
          "Jacob Blake protests: Trump announces funding for Kenosha police, businesses during visit | FULL",
          "FULL VIDEO: Joe Biden makes remarks on education and takes questions in Wilmington, Delaware",
          "President Trump designates Wilmington, NC as the first American World War II Heritage City | FULL",
          "Joe Biden's full campaign speech HD 8/31/2020",
          "Trump delivers campaign remarks at Arnold Palmer Regional Airport",
          "Raw Video: President Trump Full Speech at Rally in Winston-Salem, NC (High Quality) 9/8/20",
          "FULL RALLY: President Trump campaigns in Freeland, Michigan",
          "Trump delivers remarks from Minden, Nevada",
          "Trump holds a campaign event in Henderson, Nevada",
          "Pence campaigns in Wisconsin | FULL REMARKS",
          "LIVE: Trump's full speech at the White House Conference on American History (Sept. 17) | NTD",
          "FULL RALLY: President Trump in Mosinee, Wisconsin",
          "Trump talks COVID-19 vaccine distribution, TikTok ban | FULL",
          "Live: Trump Holds Campaign Rally In North Carolina | NBC News",
          "Joe Biden Speech on The Supreme Court & Justice Ruth Bader Ginsburg LIVE",
          "Live: Biden speaks in Wisconsin",
          "President Trump FULL Speech at Vandalia, OH Campaign Rally (High Quality!) 9/21/20",
          "Full video: Vice President Mike Pence holds campaign rally in Gilford",
          "President Trump holds press conference at the White House",
          "President Trump holds a freewheeling campaign rally in Jacksonville, FL | FULL RALLY",
          "\"Benjamin Crump Interview, Joe Biden Interview, Ask The CLO and more\" | Full Show 09.25.20",
          "FULL: Trump campaign speech in Atlanta",
          "🔴LIVE: PRESIDENT DONALD TRUMP FULL SPEECH AT MIDDLETOWN, PA RALLY...",
          "Trump: What's The Deal? Full Documentary (1991)",
          "Kamala Harris Responds LIVE to Trump’s Supreme Court Nomination",
          "Trump Gives Update On Coronavirus Testing Strategy | NBC News",
          "Kamala Harris full incredible  speech on Supreme Court and the election.",
          "LIVE: Pence Hosts Presidential Debate Watch Party in Lititz, Pennsylvania",
          "9-3-20 Biden Visits Kenosha, full livestream coverage",
          "President Trump FULL Speech at Vandalia, OH Campaign Rally High Quality! 92120",
          "Joe Biden holds campaign event in Pennsylvania",
          "Mike Pence in Atlanta: Why and when is he here?",
          "RAW VIDEO: President Donald Trump FULL SPEECH at Duluth, MN Rally 9/30/20",
          "Could life exist on other planets? John Harris",
          "Canvas + O365 Integration with Jeff Pence",
          "The president's taxes: A story to 'Trump' all the others? | The Listening Post",
          "Stop Joe Biden Rally in Delaware FULL | The Frontline with Joe & Joe",
          "Stop Joe Biden Rally in Delaware FULL | The Frontline with Joe & Joe",
          "Jaime Harrison mops the floor with Lindsey Graham - South Carolina Debate",
          "President Trump’s Doctor Provides Health Update from Walter Reed | NBC News",
          "ROARR 98.7 EPISODE OO7: ALEX HARRIS",
          "White House physician provides update on Trump's condition - 10/5 (FULL LIVE STREAM)",
          "LIVE: Trump Returns to the White House With Covid-19 and Without a Face Mask | Happening Today",
          "FULL VIDEO: Joe Biden delivers address on national unity",
          "In The Loop: Kamala Harris' Record & Can COVID Treatments Impact President's Brain Function?",
          "Trump backs out of relief talks as he continues to downplay virus",
          "Pence attends a 'Make America Great Again!' event in Nevada",
          "How I know BLM is Full of Crap: Kamala Harris, Joe Biden Far Worse than Trump on Justice Reform",
          "Mike Pence holds 'Make American Great Again' event in Arizona",
          "LisaRaye, Trump's COVID-19, \"Tiny\" Harris, and More! FULL EPISODE | #WindDownWeekend",
          "President Trump Rally On Rush Limbaugh's Show - 09/10/20 (FULL)",
          "Biden & Harris full campaign speeches HD 10/8/2020",
          "Lindsey Graham Jaime Harrison debate forum: full video",
          "WATCH Full Speech: Vice President Mike Pence hosts a \"Latinos for Trump\" event in Orlando.",
          "Live: Biden Holds Campaign Event In Pennsylvania  | NBC News",
          "#LiveStream #USElections2020 #Pence holds campaign rally at The Villages in Florida | 10-10-20",
          "How Facebook opened Pandora’s box - Tristan Harris | Andrew Yang | Yang Speaks",
          "The Trump Administration's First Term Corruption | The Daily Show",
          "Joe Biden holds drive-in rally at UAW Local 14 in Toledo | FULL RALLY",
          "\"I'M BACK\" President Trump First Rally Since BEATING Covid-19 | Full Rally | 10/12/20",
          "Joe Biden's Body Language - Interview About Tara Reade (Full Interview)",
          "WATCH: Vice President Pence in Waukesha, WI #Wisconsin",
          "Kamala Harris grills Amy Coney Barrett on health care at confirmation hearing",
          "RAW VIDEO: President Donald Trump FULL SPEECH at Johnstown, PA Rally 10/13/20",
          "Full Speech: Mike Pence Rallies Supporters in Grand Rapids",
          "WATCH LIVE: Trump holds campaign rally in Greenville, North Carolina",
          "President Donald Trump FULL SPEECH at Greenville, NC Rally 10/15/20",
          "Former Vice President Joe Biden Town Hall Interview",
          "VP Pence in Selma (Full speech)",
          "Trump speaks at  'Make America Great Again' rally in Georgia",
          "War Room: Pandemic Ep 443 -The CCP's Ownership of Joe Biden Pt.1 (w/ Rudy Giuliani)",
          "Full speech: President Trump holds campaign rally in Muskegon",
          "President Trump Newport Beach Supporters Emptied On To Via Lido on DAN-O-VISION...",
          "Noam Chomsky / Bad Faith Debate on Voting for Biden (ft. Ben Burgis)",
          "Kamala Harris Early Vote Mobilization Event in Orlando, Florida",
          "Pence campaigns in Pennsylvania",
          "Trump blasts Joe Biden, mocks Kamala Harris at Tucson, Arizona rally | FULL",
          "Trump’s First Term Trips Abroad | The Daily Show",
          "\"TIME TO WIN\" President Trump FULL RALLY In Erie, Pennsylvania",
          "Kamala Harris gets REAL with CJ McCollum, Donovan Mitchell, and Tobias: Remaking America Roundtable",
          "Social Media and the Hunter Biden Report",
          "VP Pence holds 'Make America Great Again!' event",
          "Former President Obama speaks in Philadelphia for Biden-Harris campaign — 10/21/2020",
          "Trump releases 60 Minutes interview FULL on the #LieStream",
          "Pence BLASTS Biden, Harris in campaign speech | FULL REMARKS",
          "Full speech: Vice President Pence holds campaign rally in Waterford Township, Michigan",
          "President Trump's '60 Minutes' interview",
          "Live: Biden Delivers Remarks on Coronavirus and the Economy | NBC News",
          "Kamala Harris Democratic, vice presidential nominee, attends voting event in Atlanta",
          "Live: President Trump Delivers Remarks In North Carolina | NBC News",
          "Reaction to Hunter Biden’s Business Partner Speaking Up",
          "President Donald Trump FULL SPEECH at Circleville, OH Rally 10/24/20",
          "FULL LIVE EVENT Vice President Mike Pence Lakeland, Florida 10/24/2020",
          "Talk Time 🔴 Watch Joe Biden’s Full Interview With Craig Melvin   TODAY",
          "Donald and Melania Trump: A Love Story for the Ages | The Daily Social Distancing Show"
         ],
         "legendgroup": "",
         "marker": {
          "color": [
           0,
           1,
           0,
           1,
           0,
           1,
           2,
           0,
           1,
           2,
           0,
           0,
           1,
           0,
           1,
           2,
           0,
           0,
           1,
           0,
           0,
           1,
           1,
           0,
           0,
           0,
           0,
           0,
           0,
           2,
           0,
           0,
           0,
           0,
           2,
           1,
           0,
           0,
           1,
           0,
           0,
           0,
           0,
           0,
           0,
           1,
           1,
           1,
           1,
           1,
           1,
           1,
           2,
           0,
           0,
           1,
           1,
           1,
           1,
           3,
           1,
           3,
           3,
           2,
           1,
           1,
           3,
           3,
           0,
           1,
           0,
           1,
           1,
           2,
           1,
           1,
           1,
           3,
           1,
           1,
           1,
           0,
           0,
           0,
           0,
           0,
           2,
           1,
           0,
           3,
           0,
           1,
           1,
           0,
           2,
           3,
           0,
           3,
           0,
           0,
           1,
           1,
           3,
           1,
           2,
           3,
           1,
           1,
           1,
           0,
           3,
           3,
           1,
           1,
           1,
           3,
           1,
           3,
           3,
           3,
           3,
           1,
           3,
           2,
           3,
           2,
           3,
           2,
           2,
           3,
           2,
           1,
           2,
           3,
           2,
           1,
           0,
           3,
           2,
           1,
           0,
           2,
           2,
           2,
           1,
           2,
           0,
           3,
           2,
           1,
           3,
           1,
           2,
           0,
           1,
           0,
           3,
           1,
           2,
           1,
           3,
           2,
           2,
           1,
           1,
           1,
           0,
           3,
           0,
           0,
           3,
           1
          ],
          "coloraxis": "coloraxis",
          "symbol": "circle"
         },
         "mode": "markers",
         "name": "",
         "orientation": "v",
         "showlegend": false,
         "type": "scatter",
         "x": [
          -0.30085779871141993,
          0.008881233706986933,
          -0.33153841765415937,
          0.08288317135254931,
          -0.24504188540491162,
          0.1494015651818697,
          0.4868634415866346,
          -0.16415656975770843,
          0.15573121476623825,
          0.4855630333599324,
          -0.27934330473151503,
          -0.29502543514980295,
          0.3058277376266325,
          -0.2598542874118875,
          0.25090371186214117,
          0.33471336979261385,
          -0.24434455770827396,
          -0.3013864231083293,
          0.18000952793283453,
          -0.3061475548757585,
          -0.3364684601430409,
          0.23695382621669944,
          -0.07285696398325303,
          -0.2628846842114903,
          -0.21385541011689954,
          -0.18922111859167362,
          -0.18119957054750735,
          -0.1565620844768506,
          -0.3155758919998299,
          0.4296238385923676,
          -0.2835490952914606,
          -0.3711425125728012,
          -0.3306909054338514,
          -0.30230898356133806,
          0.44149817142861547,
          0.1891511365244897,
          -0.16970289034513555,
          -0.3341140128381742,
          0.11198977169658678,
          -0.2483302686615636,
          -0.2681119853137398,
          -0.29381577594029606,
          -0.37577094650092324,
          -0.28786418030290334,
          -0.2536734007102243,
          0.127930287611408,
          0.12811737171150886,
          0.24629286043426618,
          -0.029709902990718698,
          0.041742205907384033,
          0.20238125985391378,
          0.23939207509372024,
          0.4622563655186018,
          -0.3286651730869744,
          -0.24173569955626703,
          0.20416838695498232,
          0.13058784462266992,
          0.18471240174394107,
          0.16386225844956323,
          -0.21915978099032857,
          0.07593781851004781,
          -0.1952862255382235,
          -0.15139467878509158,
          0.396866227623057,
          0.1777680794217908,
          0.18800051364015294,
          -0.2275251083404953,
          -0.15139467878509158,
          -0.2642289363491418,
          0.21232835623360935,
          -0.334815178311477,
          0.16461664837001716,
          0.2699744480479118,
          0.396866227623057,
          0.06777999815628626,
          0.0678927170647917,
          0.28772481331352023,
          -0.10844410251058482,
          0.026308039099862016,
          -0.006001588390411384,
          0.29656994373083206,
          -0.37321768887311535,
          -0.3117323321960828,
          -0.3003423058132365,
          -0.30893770609261756,
          -0.24901321994067488,
          0.31467734118035506,
          0.23938690576408586,
          -0.36434941745867533,
          -0.07295914607088938,
          -0.3763142634573851,
          0.23811359976907312,
          0.01225317945263156,
          -0.3338260278305292,
          0.3118775255825811,
          -0.0599593168329434,
          -0.3105274218971082,
          -0.14960734921326932,
          -0.2545416401749822,
          -0.34222234323715167,
          0.10463457777646491,
          0.3046532219728483,
          0.13854168639141298,
          0.2998218191455441,
          0.30822621113355997,
          -0.2280453240378846,
          0.2998218191455441,
          0.04725605397124822,
          0.08265496987079751,
          -0.23769159377232588,
          -0.04651118413576665,
          -0.0026266704762137713,
          0.15303587348202158,
          0.06243476241518541,
          0.062381216781802626,
          -0.003875633565972413,
          0.13839633319639555,
          -0.18867329392739304,
          0.048844848288605136,
          -0.18867329392739304,
          -0.18867329392739304,
          0.15271015123671175,
          -0.18867329392739304,
          0.28206458253101013,
          0.020204966398337847,
          0.35229922067996683,
          -0.27133948858028795,
          0.28206458253101013,
          0.35229922067996683,
          0.02388389586845568,
          0.42559964616433477,
          0.02327940119327656,
          0.36865003979402866,
          -0.17541836778025366,
          0.36865003979402866,
          0.12063595999836475,
          -0.28225310643421964,
          -0.19260206006645159,
          0.36002789510737454,
          0.2338331211503957,
          -0.28298692462863184,
          0.36408271648788987,
          0.36408271648788987,
          0.36408271648788987,
          0.07016728063571993,
          0.3808211982903769,
          -0.381674995276596,
          -0.07878495384091588,
          0.3808211982903769,
          0.044026222402440134,
          -0.14153066165972952,
          0.18129928553498537,
          0.3102791880642647,
          -0.25446537759243976,
          0.18129928553498537,
          -0.2891986064754926,
          -0.09751616076863157,
          0.0009144081009251752,
          0.36461501119855505,
          0.03521209649643447,
          -0.2327552749439976,
          0.31612266395638394,
          0.3051338294599344,
          0.03521209649643447,
          0.19989568771438646,
          0.11055423340419566,
          -0.2785861845310634,
          -0.10755633019456998,
          -0.3480092162838542,
          -0.3480092162838542,
          -0.11868538410976383,
          0.044214096073137914
         ],
         "xaxis": "x",
         "y": [
          -0.20657841288704593,
          0.09649328334802257,
          -0.1613884522502093,
          0.04390488308816577,
          -0.18927351808091908,
          0.1315294169604697,
          -0.18287668949649963,
          -0.22451784556827523,
          0.07999707565545638,
          -0.1562772888542506,
          -0.18577245306842186,
          -0.149675254249613,
          0.06426564031110162,
          -0.21903057629205683,
          0.1130344012849092,
          -0.07230165660863502,
          -0.18482192444803755,
          -0.1856257051104772,
          0.10038501419295538,
          -0.17308042084989492,
          -0.1737710972700074,
          0.19264949075859555,
          0.0731469060917897,
          -0.13218298607444282,
          -0.12481619754813275,
          -0.11970103822564448,
          -0.12155180474139746,
          -0.12267050573610244,
          -0.18123303625745618,
          -0.2093778728121431,
          -0.16468616456646476,
          -0.15309612058406488,
          -0.18858181362046847,
          -0.18135826441576353,
          -0.22722548349238564,
          0.2513691035946816,
          -0.14888640796888214,
          -0.18040868325760404,
          -0.03128716737781182,
          -0.1491203413510211,
          -0.1905082008255192,
          -0.14977324536966538,
          -0.13788682546995357,
          -0.1735484181295793,
          -0.1592389429524119,
          0.13183735488212545,
          0.05172061115578631,
          0.07850828050136645,
          0.14945315022467692,
          0.09476335823869055,
          0.11253227667182492,
          0.16356577357345506,
          -0.26425462847236697,
          -0.161279715895839,
          -0.12982200538679536,
          0.331226803858163,
          0.1278700216946236,
          0.031485967683935176,
          0.09708193898585069,
          0.05993090063585563,
          0.1990411267615886,
          0.13003744521411867,
          0.2143125962619139,
          -0.2599869997492286,
          0.07187737508706687,
          0.00023932090064173397,
          0.03570730160850228,
          0.2143125962619139,
          -0.15100047266973285,
          0.1542884990042932,
          -0.14778601083096854,
          0.001094135960130503,
          0.09027356384696393,
          -0.2599869997492286,
          -0.16663577487775091,
          -0.16535039153133455,
          0.013717294526883687,
          0.1359119007610913,
          0.14811778541406628,
          0.0298020489510273,
          0.019116078265429666,
          -0.1252604111959263,
          -0.21758782110806843,
          -0.19744456718354475,
          -0.16146603409377386,
          -0.16419054305780995,
          -0.31024891152599593,
          0.10693921901005936,
          -0.1791114282546193,
          0.17322821919939924,
          -0.15262267987503053,
          0.14668617767366396,
          0.04891870368895173,
          -0.14015678034801596,
          -0.24574513141570936,
          0.265615148784748,
          -0.16831633621109687,
          0.23953225464125547,
          -0.034482659498349444,
          -0.1304727799962693,
          0.11856229930323225,
          0.23650332781753255,
          0.23406945108716765,
          0.24095981160808383,
          -0.31598169229624423,
          0.27551477888475756,
          0.24095981160808383,
          0.027833856024723762,
          0.14319740827167027,
          -0.1629812760883817,
          0.31765547283959716,
          0.3666068488456747,
          0.12064621881336068,
          0.20945714686485456,
          0.21631289599316178,
          0.1772208026138625,
          0.31360390336485705,
          0.5230782898285364,
          0.474299431233543,
          0.5230782898285364,
          0.5230782898285364,
          0.22793449489780016,
          0.5230782898285364,
          -0.0920279617081198,
          0.24969665320154916,
          -0.14659566243389774,
          0.3000741150570438,
          -0.0920279617081198,
          -0.14659566243389774,
          0.2243000251903101,
          -0.3207886386316728,
          0.0028280698504500553,
          -0.3224745114212239,
          0.4562760430045921,
          -0.3224745114212239,
          -0.05491775006230858,
          -0.20153327296897627,
          0.29858676258414635,
          -0.30815185778332266,
          0.26477412623471364,
          -0.16987222952668266,
          -0.3271728610330319,
          -0.3271728610330319,
          -0.3271728610330319,
          0.21489880782680804,
          -0.2862770860422157,
          -0.14525073474796169,
          0.18487719956691018,
          -0.2862770860422157,
          0.3020250690725156,
          0.45122393895974827,
          0.2639712634253396,
          -0.33520589410851687,
          -0.18483240259564257,
          0.2639712634253396,
          -0.18424745117188393,
          0.27532594400723004,
          0.30418815706320473,
          -0.31736557945167543,
          0.015624361023828321,
          0.1279837851470189,
          -0.33584548602661796,
          -0.34415642845254074,
          0.015624361023828321,
          0.1363655956846259,
          0.09272362998912963,
          -0.14533214046469392,
          0.1868765937195434,
          -0.16523588529723207,
          -0.16523588529723207,
          0.22763703353335427,
          0.269519166826783
         ],
         "yaxis": "y"
        }
       ],
       "layout": {
        "coloraxis": {
         "colorbar": {
          "title": {
           "text": "group"
          }
         },
         "colorscale": [
          [
           0,
           "#0d0887"
          ],
          [
           0.1111111111111111,
           "#46039f"
          ],
          [
           0.2222222222222222,
           "#7201a8"
          ],
          [
           0.3333333333333333,
           "#9c179e"
          ],
          [
           0.4444444444444444,
           "#bd3786"
          ],
          [
           0.5555555555555556,
           "#d8576b"
          ],
          [
           0.6666666666666666,
           "#ed7953"
          ],
          [
           0.7777777777777778,
           "#fb9f3a"
          ],
          [
           0.8888888888888888,
           "#fdca26"
          ],
          [
           1,
           "#f0f921"
          ]
         ]
        },
        "legend": {
         "tracegroupgap": 0
        },
        "margin": {
         "t": 60
        },
        "template": {
         "data": {
          "bar": [
           {
            "error_x": {
             "color": "#2a3f5f"
            },
            "error_y": {
             "color": "#2a3f5f"
            },
            "marker": {
             "line": {
              "color": "#E5ECF6",
              "width": 0.5
             }
            },
            "type": "bar"
           }
          ],
          "barpolar": [
           {
            "marker": {
             "line": {
              "color": "#E5ECF6",
              "width": 0.5
             }
            },
            "type": "barpolar"
           }
          ],
          "carpet": [
           {
            "aaxis": {
             "endlinecolor": "#2a3f5f",
             "gridcolor": "white",
             "linecolor": "white",
             "minorgridcolor": "white",
             "startlinecolor": "#2a3f5f"
            },
            "baxis": {
             "endlinecolor": "#2a3f5f",
             "gridcolor": "white",
             "linecolor": "white",
             "minorgridcolor": "white",
             "startlinecolor": "#2a3f5f"
            },
            "type": "carpet"
           }
          ],
          "choropleth": [
           {
            "colorbar": {
             "outlinewidth": 0,
             "ticks": ""
            },
            "type": "choropleth"
           }
          ],
          "contour": [
           {
            "colorbar": {
             "outlinewidth": 0,
             "ticks": ""
            },
            "colorscale": [
             [
              0,
              "#0d0887"
             ],
             [
              0.1111111111111111,
              "#46039f"
             ],
             [
              0.2222222222222222,
              "#7201a8"
             ],
             [
              0.3333333333333333,
              "#9c179e"
             ],
             [
              0.4444444444444444,
              "#bd3786"
             ],
             [
              0.5555555555555556,
              "#d8576b"
             ],
             [
              0.6666666666666666,
              "#ed7953"
             ],
             [
              0.7777777777777778,
              "#fb9f3a"
             ],
             [
              0.8888888888888888,
              "#fdca26"
             ],
             [
              1,
              "#f0f921"
             ]
            ],
            "type": "contour"
           }
          ],
          "contourcarpet": [
           {
            "colorbar": {
             "outlinewidth": 0,
             "ticks": ""
            },
            "type": "contourcarpet"
           }
          ],
          "heatmap": [
           {
            "colorbar": {
             "outlinewidth": 0,
             "ticks": ""
            },
            "colorscale": [
             [
              0,
              "#0d0887"
             ],
             [
              0.1111111111111111,
              "#46039f"
             ],
             [
              0.2222222222222222,
              "#7201a8"
             ],
             [
              0.3333333333333333,
              "#9c179e"
             ],
             [
              0.4444444444444444,
              "#bd3786"
             ],
             [
              0.5555555555555556,
              "#d8576b"
             ],
             [
              0.6666666666666666,
              "#ed7953"
             ],
             [
              0.7777777777777778,
              "#fb9f3a"
             ],
             [
              0.8888888888888888,
              "#fdca26"
             ],
             [
              1,
              "#f0f921"
             ]
            ],
            "type": "heatmap"
           }
          ],
          "heatmapgl": [
           {
            "colorbar": {
             "outlinewidth": 0,
             "ticks": ""
            },
            "colorscale": [
             [
              0,
              "#0d0887"
             ],
             [
              0.1111111111111111,
              "#46039f"
             ],
             [
              0.2222222222222222,
              "#7201a8"
             ],
             [
              0.3333333333333333,
              "#9c179e"
             ],
             [
              0.4444444444444444,
              "#bd3786"
             ],
             [
              0.5555555555555556,
              "#d8576b"
             ],
             [
              0.6666666666666666,
              "#ed7953"
             ],
             [
              0.7777777777777778,
              "#fb9f3a"
             ],
             [
              0.8888888888888888,
              "#fdca26"
             ],
             [
              1,
              "#f0f921"
             ]
            ],
            "type": "heatmapgl"
           }
          ],
          "histogram": [
           {
            "marker": {
             "colorbar": {
              "outlinewidth": 0,
              "ticks": ""
             }
            },
            "type": "histogram"
           }
          ],
          "histogram2d": [
           {
            "colorbar": {
             "outlinewidth": 0,
             "ticks": ""
            },
            "colorscale": [
             [
              0,
              "#0d0887"
             ],
             [
              0.1111111111111111,
              "#46039f"
             ],
             [
              0.2222222222222222,
              "#7201a8"
             ],
             [
              0.3333333333333333,
              "#9c179e"
             ],
             [
              0.4444444444444444,
              "#bd3786"
             ],
             [
              0.5555555555555556,
              "#d8576b"
             ],
             [
              0.6666666666666666,
              "#ed7953"
             ],
             [
              0.7777777777777778,
              "#fb9f3a"
             ],
             [
              0.8888888888888888,
              "#fdca26"
             ],
             [
              1,
              "#f0f921"
             ]
            ],
            "type": "histogram2d"
           }
          ],
          "histogram2dcontour": [
           {
            "colorbar": {
             "outlinewidth": 0,
             "ticks": ""
            },
            "colorscale": [
             [
              0,
              "#0d0887"
             ],
             [
              0.1111111111111111,
              "#46039f"
             ],
             [
              0.2222222222222222,
              "#7201a8"
             ],
             [
              0.3333333333333333,
              "#9c179e"
             ],
             [
              0.4444444444444444,
              "#bd3786"
             ],
             [
              0.5555555555555556,
              "#d8576b"
             ],
             [
              0.6666666666666666,
              "#ed7953"
             ],
             [
              0.7777777777777778,
              "#fb9f3a"
             ],
             [
              0.8888888888888888,
              "#fdca26"
             ],
             [
              1,
              "#f0f921"
             ]
            ],
            "type": "histogram2dcontour"
           }
          ],
          "mesh3d": [
           {
            "colorbar": {
             "outlinewidth": 0,
             "ticks": ""
            },
            "type": "mesh3d"
           }
          ],
          "parcoords": [
           {
            "line": {
             "colorbar": {
              "outlinewidth": 0,
              "ticks": ""
             }
            },
            "type": "parcoords"
           }
          ],
          "pie": [
           {
            "automargin": true,
            "type": "pie"
           }
          ],
          "scatter": [
           {
            "marker": {
             "colorbar": {
              "outlinewidth": 0,
              "ticks": ""
             }
            },
            "type": "scatter"
           }
          ],
          "scatter3d": [
           {
            "line": {
             "colorbar": {
              "outlinewidth": 0,
              "ticks": ""
             }
            },
            "marker": {
             "colorbar": {
              "outlinewidth": 0,
              "ticks": ""
             }
            },
            "type": "scatter3d"
           }
          ],
          "scattercarpet": [
           {
            "marker": {
             "colorbar": {
              "outlinewidth": 0,
              "ticks": ""
             }
            },
            "type": "scattercarpet"
           }
          ],
          "scattergeo": [
           {
            "marker": {
             "colorbar": {
              "outlinewidth": 0,
              "ticks": ""
             }
            },
            "type": "scattergeo"
           }
          ],
          "scattergl": [
           {
            "marker": {
             "colorbar": {
              "outlinewidth": 0,
              "ticks": ""
             }
            },
            "type": "scattergl"
           }
          ],
          "scattermapbox": [
           {
            "marker": {
             "colorbar": {
              "outlinewidth": 0,
              "ticks": ""
             }
            },
            "type": "scattermapbox"
           }
          ],
          "scatterpolar": [
           {
            "marker": {
             "colorbar": {
              "outlinewidth": 0,
              "ticks": ""
             }
            },
            "type": "scatterpolar"
           }
          ],
          "scatterpolargl": [
           {
            "marker": {
             "colorbar": {
              "outlinewidth": 0,
              "ticks": ""
             }
            },
            "type": "scatterpolargl"
           }
          ],
          "scatterternary": [
           {
            "marker": {
             "colorbar": {
              "outlinewidth": 0,
              "ticks": ""
             }
            },
            "type": "scatterternary"
           }
          ],
          "surface": [
           {
            "colorbar": {
             "outlinewidth": 0,
             "ticks": ""
            },
            "colorscale": [
             [
              0,
              "#0d0887"
             ],
             [
              0.1111111111111111,
              "#46039f"
             ],
             [
              0.2222222222222222,
              "#7201a8"
             ],
             [
              0.3333333333333333,
              "#9c179e"
             ],
             [
              0.4444444444444444,
              "#bd3786"
             ],
             [
              0.5555555555555556,
              "#d8576b"
             ],
             [
              0.6666666666666666,
              "#ed7953"
             ],
             [
              0.7777777777777778,
              "#fb9f3a"
             ],
             [
              0.8888888888888888,
              "#fdca26"
             ],
             [
              1,
              "#f0f921"
             ]
            ],
            "type": "surface"
           }
          ],
          "table": [
           {
            "cells": {
             "fill": {
              "color": "#EBF0F8"
             },
             "line": {
              "color": "white"
             }
            },
            "header": {
             "fill": {
              "color": "#C8D4E3"
             },
             "line": {
              "color": "white"
             }
            },
            "type": "table"
           }
          ]
         },
         "layout": {
          "annotationdefaults": {
           "arrowcolor": "#2a3f5f",
           "arrowhead": 0,
           "arrowwidth": 1
          },
          "coloraxis": {
           "colorbar": {
            "outlinewidth": 0,
            "ticks": ""
           }
          },
          "colorscale": {
           "diverging": [
            [
             0,
             "#8e0152"
            ],
            [
             0.1,
             "#c51b7d"
            ],
            [
             0.2,
             "#de77ae"
            ],
            [
             0.3,
             "#f1b6da"
            ],
            [
             0.4,
             "#fde0ef"
            ],
            [
             0.5,
             "#f7f7f7"
            ],
            [
             0.6,
             "#e6f5d0"
            ],
            [
             0.7,
             "#b8e186"
            ],
            [
             0.8,
             "#7fbc41"
            ],
            [
             0.9,
             "#4d9221"
            ],
            [
             1,
             "#276419"
            ]
           ],
           "sequential": [
            [
             0,
             "#0d0887"
            ],
            [
             0.1111111111111111,
             "#46039f"
            ],
            [
             0.2222222222222222,
             "#7201a8"
            ],
            [
             0.3333333333333333,
             "#9c179e"
            ],
            [
             0.4444444444444444,
             "#bd3786"
            ],
            [
             0.5555555555555556,
             "#d8576b"
            ],
            [
             0.6666666666666666,
             "#ed7953"
            ],
            [
             0.7777777777777778,
             "#fb9f3a"
            ],
            [
             0.8888888888888888,
             "#fdca26"
            ],
            [
             1,
             "#f0f921"
            ]
           ],
           "sequentialminus": [
            [
             0,
             "#0d0887"
            ],
            [
             0.1111111111111111,
             "#46039f"
            ],
            [
             0.2222222222222222,
             "#7201a8"
            ],
            [
             0.3333333333333333,
             "#9c179e"
            ],
            [
             0.4444444444444444,
             "#bd3786"
            ],
            [
             0.5555555555555556,
             "#d8576b"
            ],
            [
             0.6666666666666666,
             "#ed7953"
            ],
            [
             0.7777777777777778,
             "#fb9f3a"
            ],
            [
             0.8888888888888888,
             "#fdca26"
            ],
            [
             1,
             "#f0f921"
            ]
           ]
          },
          "colorway": [
           "#636efa",
           "#EF553B",
           "#00cc96",
           "#ab63fa",
           "#FFA15A",
           "#19d3f3",
           "#FF6692",
           "#B6E880",
           "#FF97FF",
           "#FECB52"
          ],
          "font": {
           "color": "#2a3f5f"
          },
          "geo": {
           "bgcolor": "white",
           "lakecolor": "white",
           "landcolor": "#E5ECF6",
           "showlakes": true,
           "showland": true,
           "subunitcolor": "white"
          },
          "hoverlabel": {
           "align": "left"
          },
          "hovermode": "closest",
          "mapbox": {
           "style": "light"
          },
          "paper_bgcolor": "white",
          "plot_bgcolor": "#E5ECF6",
          "polar": {
           "angularaxis": {
            "gridcolor": "white",
            "linecolor": "white",
            "ticks": ""
           },
           "bgcolor": "#E5ECF6",
           "radialaxis": {
            "gridcolor": "white",
            "linecolor": "white",
            "ticks": ""
           }
          },
          "scene": {
           "xaxis": {
            "backgroundcolor": "#E5ECF6",
            "gridcolor": "white",
            "gridwidth": 2,
            "linecolor": "white",
            "showbackground": true,
            "ticks": "",
            "zerolinecolor": "white"
           },
           "yaxis": {
            "backgroundcolor": "#E5ECF6",
            "gridcolor": "white",
            "gridwidth": 2,
            "linecolor": "white",
            "showbackground": true,
            "ticks": "",
            "zerolinecolor": "white"
           },
           "zaxis": {
            "backgroundcolor": "#E5ECF6",
            "gridcolor": "white",
            "gridwidth": 2,
            "linecolor": "white",
            "showbackground": true,
            "ticks": "",
            "zerolinecolor": "white"
           }
          },
          "shapedefaults": {
           "line": {
            "color": "#2a3f5f"
           }
          },
          "ternary": {
           "aaxis": {
            "gridcolor": "white",
            "linecolor": "white",
            "ticks": ""
           },
           "baxis": {
            "gridcolor": "white",
            "linecolor": "white",
            "ticks": ""
           },
           "bgcolor": "#E5ECF6",
           "caxis": {
            "gridcolor": "white",
            "linecolor": "white",
            "ticks": ""
           }
          },
          "title": {
           "x": 0.05
          },
          "xaxis": {
           "automargin": true,
           "gridcolor": "white",
           "linecolor": "white",
           "ticks": "",
           "title": {
            "standoff": 15
           },
           "zerolinecolor": "white",
           "zerolinewidth": 2
          },
          "yaxis": {
           "automargin": true,
           "gridcolor": "white",
           "linecolor": "white",
           "ticks": "",
           "title": {
            "standoff": 15
           },
           "zerolinecolor": "white",
           "zerolinewidth": 2
          }
         }
        },
        "xaxis": {
         "anchor": "y",
         "domain": [
          0,
          1
         ],
         "title": {
          "text": "0"
         }
        },
        "yaxis": {
         "anchor": "x",
         "domain": [
          0,
          1
         ],
         "title": {
          "text": "1"
         }
        }
       }
      },
      "text/html": [
       "<div>\n",
       "        \n",
       "        \n",
       "            <div id=\"f3afded7-9ae9-4a50-ab42-9cd8e1700775\" class=\"plotly-graph-div\" style=\"height:525px; width:100%;\"></div>\n",
       "            <script type=\"text/javascript\">\n",
       "                require([\"plotly\"], function(Plotly) {\n",
       "                    window.PLOTLYENV=window.PLOTLYENV || {};\n",
       "                    \n",
       "                if (document.getElementById(\"f3afded7-9ae9-4a50-ab42-9cd8e1700775\")) {\n",
       "                    Plotly.newPlot(\n",
       "                        'f3afded7-9ae9-4a50-ab42-9cd8e1700775',\n",
       "                        [{\"hovertemplate\": \"<b>%{hovertext}</b><br><br>0=%{x}<br>1=%{y}<br>group=%{marker.color}<extra></extra>\", \"hovertext\": [\"Watch Live: President Trump's MAGA Rally in Green Bay (Full) | NBC News\", \"Joe Biden holds first 2020 campaign rally\", \"FULL RALLY: President Trump in Panama City Beach, Florida\", \"Joe Biden speaks during a campaign rally in Philadelphia\", \"FULL RALLY: President Trump in Montoursville, Pennsylvania\", \"Full speech: Kamala Harris | Iowa Democrats\\u2019 Hall of Fame event (6/19)\", \"VP Mike Pence introduces President Trump at 2020 re-election rally\", \"TRUMP 2020: President Trump Re-Election Campaign Rally - FULL SPEECH\", \"President Trump COMPLETE REMARKS at July 4th \\\"Salute to America\\\" (C-SPAN)\", \"AMERICA IS BACK: VP Pence amps up crowd during Trump rally\", \"FULL RALLY: President Trump Rally in Greenville, North Carolina\", \"FULL RALLY: President Trump on Democrats, Economy in Cincinnati, Ohio\", \"Full Speech: Biden Condemns Trump\\u2019s Rhetoric And White Nationalism | NBC News\", \"Pres. Trump New Hampshire Rally in Manchester | ABC News Live Coverage\", \"Full speech: Joe Biden speaks at the Iowa Democratic Wing Ding\", \"\\\"HE'S THE REAL DEAL\\\": VP Pence speaks at Trump rally in Fayetteville, NC\", \"Watch LIVE President Trump campaign rally in Fayetteville, North Carolina | ABC News\", \"FULL SPEECH President Donald Trump Rally - Rio Rancho, NM. 2019\", \"Joe Biden's Full Remarks in Reno, Nevada | Joe Biden for President\", \"FULL RALLY: President Trump rally in Minneapolis, MN\", \"FULL TRUMP RALLY: President Trump holds campaign rally in Dallas, Texas\", \"VP Pence FULL Remarks At 2019 IAC Conference  10-21-2019\", \"Joe Biden Speaks in Scranton, Pennsylvania\", \"Watch Live: President Donald Trump Speaks At Mississippi Campaign Rally | NBC News\", \"FULL RALLY: President Trump in Lexington, Kentucky\", \"Watch Live: President Donald Trump Speaks At A Keep America Great Rally In Louisiana | NBC News\", \"FULL RALLY: President Trump Monroe, Louisiana\", \"FULL RALLY: President Trump in Bossier City, Louisiana\", \"KEEP AMERICA GREAT: President Trump FULL RALLY in Florida\", \"Vice President Mike Pence speaks at the Trump rally in Hershey\", \"President Donald Trump speaks at his Hershey rally (full speech)\", \"Full Video: President Trump speaks at campaign rally in Battle Creek\", \"FULL RALLY: President Trump talks impeachment and more in Toledo, Ohio\", \"Donald Trump hosts \\\"Keep America Great\\\" rally in Milwaukee, Wis.\", \"VP Pence OpenING Speech First 2020 KAG Rally | Toledo OH | 1-09-20 20\", \"CAMPAIGN 2020: Joe Biden's full 2020 King Day at the Dome speech\", \"Trump Rally in Wildwood New Jersey, Jan. 28, 2020, full speech\", \"LIVE: President Trump in Des Moines, IA\", \"LIVE: State of the Union Address\", \"LIVE: President Trump in Manchester, NH\", \"LIVE: President Trump in Phoenix, AZ\", \"LIVE: President Trump in Colorado Springs, CO\", \"LIVE: President Trump in Las Vegas, NV\", \"LIVE: President Trump in North Charleston, SC\", \"LIVE: President Trump in Charlotte, NC\", \"I'm about to take the stage from California. Tune in to watch live:\", \"I'm about to take the stage from Mississippi. Tune in to watch live:\", \"I'm about to take the stage from Philadelphia. Tune in to watch live:\", \"Joe Biden delivers remarks on the impact of the Coronavirus on Young Americans. Tune in:\", \"Joe Biden Delivers Remarks on Implementation & Oversight of CARES Act | Joe Biden For President\", \"Joe Biden remarks on Protests\", \"Vice President Biden Delivers Remarks On Having a Safer Economic Reopening\", \"Vice President Mike Pence speaks at a Make America Great Again Rally in Tulsa, OK | FULL SPEECH\", \"LIVE: President Trump in Tulsa, Oklahoma\", \"Trump addresses crowd of young Americans at Arizona rally | FULL\", \"Vice President Biden's Remarks at Global Pride | Joe Biden For President\", \"Vice President Biden delivers remarks on Trump\\u2019s failure to protect the American people\", \"President Trump's full speech at Mount Rushmore | USA TODAY\", \"Joe Biden Delivers Remarks On His \\u201cBuild Back Better\\u201d Plan For An Equitable Clean Energy Future\", \"President Trump goes one-on-one with Chris Wallace | Full Interview\", \"Joe Biden Unveils $775 Billion \\u2018Build Back Better\\u2019 Plan to Boost Child and Elderly Care\", \"AXIOS on HBO: President Trump Exclusive Interview (Full Episode) | HBO\", \"Trump offers Lebanon assistance following explosion, touts' coronavirus response | FULL\", \"JUST IN: Pence responds to Kamala Harris being chosen as Joe Biden's 2020 running mate\", \"Democratic VP candidate Kamala Harris speaks at Joe Biden event\", \"Joe Biden introduces Kamala Harris as running mate\", \"Trump slams Kamala Harris, makes 2020 predictions | Full Interview\", \"WATCH LIVE: President Trump comes to Minnesota for Mankato campaign stop\", \"WATCH: President Trump in Yuma, AZ\", \"WATCH: Kamala Harris\\u2019 full speech at the 2020 Democratic National Convention | 2020 DNC Night 3\", \"Trump Delivers Remarks at Mariotti Building Products in Old Forge, Pennsylvania\", \"Joe Biden speaks at the 2020 Democratic National Convention | Full Speech\", \"Kamala Harris to discuss Trump's response to coronavirus\", \"WATCH LIVE: Mike Pence speaks at Trump campaign event in Michigan\", \"President Donald Trump's Full Republican National Convention Speech | NBC10 Philadelphia\", \"President Trump's Full RNC 2020 Speech | NowThis\", \"FULL VIDEO: Joe Biden delivers remarks on violence across America\", \"Jacob Blake protests: Trump announces funding for Kenosha police, businesses during visit | FULL\", \"FULL VIDEO: Joe Biden makes remarks on education and takes questions in Wilmington, Delaware\", \"President Trump designates Wilmington, NC as the first American World War II Heritage City | FULL\", \"Joe Biden's full campaign speech HD 8/31/2020\", \"Trump delivers campaign remarks at Arnold Palmer Regional Airport\", \"Raw Video: President Trump Full Speech at Rally in Winston-Salem, NC (High Quality) 9/8/20\", \"FULL RALLY: President Trump campaigns in Freeland, Michigan\", \"Trump delivers remarks from Minden, Nevada\", \"Trump holds a campaign event in Henderson, Nevada\", \"Pence campaigns in Wisconsin | FULL REMARKS\", \"LIVE: Trump's full speech at the White House Conference on American History (Sept. 17) | NTD\", \"FULL RALLY: President Trump in Mosinee, Wisconsin\", \"Trump talks COVID-19 vaccine distribution, TikTok ban | FULL\", \"Live: Trump Holds Campaign Rally In North Carolina | NBC News\", \"Joe Biden Speech on The Supreme Court & Justice Ruth Bader Ginsburg LIVE\", \"Live: Biden speaks in Wisconsin\", \"President Trump FULL Speech at Vandalia, OH Campaign Rally (High Quality!) 9/21/20\", \"Full video: Vice President Mike Pence holds campaign rally in Gilford\", \"President Trump holds press conference at the White House\", \"President Trump holds a freewheeling campaign rally in Jacksonville, FL | FULL RALLY\", \"\\\"Benjamin Crump Interview, Joe Biden Interview, Ask The CLO and more\\\" | Full Show 09.25.20\", \"FULL: Trump campaign speech in Atlanta\", \"\\ud83d\\udd34LIVE: PRESIDENT DONALD TRUMP FULL SPEECH AT MIDDLETOWN, PA RALLY...\", \"Trump: What's The Deal? Full Documentary (1991)\", \"Kamala Harris Responds LIVE to Trump\\u2019s Supreme Court Nomination\", \"Trump Gives Update On Coronavirus Testing Strategy | NBC News\", \"Kamala Harris full incredible  speech on Supreme Court and the election.\", \"LIVE: Pence Hosts Presidential Debate Watch Party in Lititz, Pennsylvania\", \"9-3-20 Biden Visits Kenosha, full livestream coverage\", \"President Trump FULL Speech at Vandalia, OH Campaign Rally High Quality! 92120\", \"Joe Biden holds campaign event in Pennsylvania\", \"Mike Pence in Atlanta: Why and when is he here?\", \"RAW VIDEO: President Donald Trump FULL SPEECH at Duluth, MN Rally 9/30/20\", \"Could life exist on other planets? John Harris\", \"Canvas + O365 Integration with Jeff Pence\", \"The president's taxes: A story to 'Trump' all the others? | The Listening Post\", \"Stop Joe Biden Rally in Delaware FULL | The Frontline with Joe & Joe\", \"Stop Joe Biden Rally in Delaware FULL | The Frontline with Joe & Joe\", \"Jaime Harrison mops the floor with Lindsey Graham - South Carolina Debate\", \"President Trump\\u2019s Doctor Provides Health Update from Walter Reed | NBC News\", \"ROARR 98.7 EPISODE OO7: ALEX HARRIS\", \"White House physician provides update on Trump's condition - 10/5 (FULL LIVE STREAM)\", \"LIVE: Trump Returns to the White House With Covid-19 and Without a Face Mask | Happening Today\", \"FULL VIDEO: Joe Biden delivers address on national unity\", \"In The Loop: Kamala Harris' Record & Can COVID Treatments Impact President's Brain Function?\", \"Trump backs out of relief talks as he continues to downplay virus\", \"Pence attends a 'Make America Great Again!' event in Nevada\", \"How I know BLM is Full of Crap: Kamala Harris, Joe Biden Far Worse than Trump on Justice Reform\", \"Mike Pence holds 'Make American Great Again' event in Arizona\", \"LisaRaye, Trump's COVID-19, \\\"Tiny\\\" Harris, and More! FULL EPISODE | #WindDownWeekend\", \"President Trump Rally On Rush Limbaugh's Show - 09/10/20 (FULL)\", \"Biden & Harris full campaign speeches HD 10/8/2020\", \"Lindsey Graham Jaime Harrison debate forum: full video\", \"WATCH Full Speech: Vice President Mike Pence hosts a \\\"Latinos for Trump\\\" event in Orlando.\", \"Live: Biden Holds Campaign Event In Pennsylvania  | NBC News\", \"#LiveStream #USElections2020 #Pence holds campaign rally at The Villages in Florida | 10-10-20\", \"How Facebook opened Pandora\\u2019s box - Tristan Harris | Andrew Yang | Yang Speaks\", \"The Trump Administration's First Term Corruption | The Daily Show\", \"Joe Biden holds drive-in rally at UAW Local 14 in Toledo | FULL RALLY\", \"\\\"I'M BACK\\\" President Trump First Rally Since BEATING Covid-19 | Full Rally | 10/12/20\", \"Joe Biden's Body Language - Interview About Tara Reade (Full Interview)\", \"WATCH: Vice President Pence in Waukesha, WI #Wisconsin\", \"Kamala Harris grills Amy Coney Barrett on health care at confirmation hearing\", \"RAW VIDEO: President Donald Trump FULL SPEECH at Johnstown, PA Rally 10/13/20\", \"Full Speech: Mike Pence Rallies Supporters in Grand Rapids\", \"WATCH LIVE: Trump holds campaign rally in Greenville, North Carolina\", \"President Donald Trump FULL SPEECH at Greenville, NC Rally 10/15/20\", \"Former Vice President Joe Biden Town Hall Interview\", \"VP Pence in Selma (Full speech)\", \"Trump speaks at  'Make America Great Again' rally in Georgia\", \"War Room: Pandemic Ep 443 -The CCP's Ownership of Joe Biden Pt.1 (w/ Rudy Giuliani)\", \"Full speech: President Trump holds campaign rally in Muskegon\", \"President Trump Newport Beach Supporters Emptied On To Via Lido on DAN-O-VISION...\", \"Noam Chomsky / Bad Faith Debate on Voting for Biden (ft. Ben Burgis)\", \"Kamala Harris Early Vote Mobilization Event in Orlando, Florida\", \"Pence campaigns in Pennsylvania\", \"Trump blasts Joe Biden, mocks Kamala Harris at Tucson, Arizona rally | FULL\", \"Trump\\u2019s First Term Trips Abroad | The Daily Show\", \"\\\"TIME TO WIN\\\" President Trump FULL RALLY In Erie, Pennsylvania\", \"Kamala Harris gets REAL with CJ McCollum, Donovan Mitchell, and Tobias: Remaking America Roundtable\", \"Social Media and the Hunter Biden Report\", \"VP Pence holds 'Make America Great Again!' event\", \"Former President Obama speaks in Philadelphia for Biden-Harris campaign \\u2014 10/21/2020\", \"Trump releases 60 Minutes interview FULL on the #LieStream\", \"Pence BLASTS Biden, Harris in campaign speech | FULL REMARKS\", \"Full speech: Vice President Pence holds campaign rally in Waterford Township, Michigan\", \"President Trump's '60 Minutes' interview\", \"Live: Biden Delivers Remarks on Coronavirus and the Economy | NBC News\", \"Kamala Harris Democratic, vice presidential nominee, attends voting event in Atlanta\", \"Live: President Trump Delivers Remarks In North Carolina | NBC News\", \"Reaction to Hunter Biden\\u2019s Business Partner Speaking Up\", \"President Donald Trump FULL SPEECH at Circleville, OH Rally 10/24/20\", \"FULL LIVE EVENT Vice President Mike Pence Lakeland, Florida 10/24/2020\", \"Talk Time \\ud83d\\udd34 Watch Joe Biden\\u2019s Full Interview With Craig Melvin   TODAY\", \"Donald and Melania Trump: A Love Story for the Ages | The Daily Social Distancing Show\"], \"legendgroup\": \"\", \"marker\": {\"color\": [0, 1, 0, 1, 0, 1, 2, 0, 1, 2, 0, 0, 1, 0, 1, 2, 0, 0, 1, 0, 0, 1, 1, 0, 0, 0, 0, 0, 0, 2, 0, 0, 0, 0, 2, 1, 0, 0, 1, 0, 0, 0, 0, 0, 0, 1, 1, 1, 1, 1, 1, 1, 2, 0, 0, 1, 1, 1, 1, 3, 1, 3, 3, 2, 1, 1, 3, 3, 0, 1, 0, 1, 1, 2, 1, 1, 1, 3, 1, 1, 1, 0, 0, 0, 0, 0, 2, 1, 0, 3, 0, 1, 1, 0, 2, 3, 0, 3, 0, 0, 1, 1, 3, 1, 2, 3, 1, 1, 1, 0, 3, 3, 1, 1, 1, 3, 1, 3, 3, 3, 3, 1, 3, 2, 3, 2, 3, 2, 2, 3, 2, 1, 2, 3, 2, 1, 0, 3, 2, 1, 0, 2, 2, 2, 1, 2, 0, 3, 2, 1, 3, 1, 2, 0, 1, 0, 3, 1, 2, 1, 3, 2, 2, 1, 1, 1, 0, 3, 0, 0, 3, 1], \"coloraxis\": \"coloraxis\", \"symbol\": \"circle\"}, \"mode\": \"markers\", \"name\": \"\", \"orientation\": \"v\", \"showlegend\": false, \"type\": \"scatter\", \"x\": [-0.30085779871141993, 0.008881233706986933, -0.33153841765415937, 0.08288317135254931, -0.24504188540491162, 0.1494015651818697, 0.4868634415866346, -0.16415656975770843, 0.15573121476623825, 0.4855630333599324, -0.27934330473151503, -0.29502543514980295, 0.3058277376266325, -0.2598542874118875, 0.25090371186214117, 0.33471336979261385, -0.24434455770827396, -0.3013864231083293, 0.18000952793283453, -0.3061475548757585, -0.3364684601430409, 0.23695382621669944, -0.07285696398325303, -0.2628846842114903, -0.21385541011689954, -0.18922111859167362, -0.18119957054750735, -0.1565620844768506, -0.3155758919998299, 0.4296238385923676, -0.2835490952914606, -0.3711425125728012, -0.3306909054338514, -0.30230898356133806, 0.44149817142861547, 0.1891511365244897, -0.16970289034513555, -0.3341140128381742, 0.11198977169658678, -0.2483302686615636, -0.2681119853137398, -0.29381577594029606, -0.37577094650092324, -0.28786418030290334, -0.2536734007102243, 0.127930287611408, 0.12811737171150886, 0.24629286043426618, -0.029709902990718698, 0.041742205907384033, 0.20238125985391378, 0.23939207509372024, 0.4622563655186018, -0.3286651730869744, -0.24173569955626703, 0.20416838695498232, 0.13058784462266992, 0.18471240174394107, 0.16386225844956323, -0.21915978099032857, 0.07593781851004781, -0.1952862255382235, -0.15139467878509158, 0.396866227623057, 0.1777680794217908, 0.18800051364015294, -0.2275251083404953, -0.15139467878509158, -0.2642289363491418, 0.21232835623360935, -0.334815178311477, 0.16461664837001716, 0.2699744480479118, 0.396866227623057, 0.06777999815628626, 0.0678927170647917, 0.28772481331352023, -0.10844410251058482, 0.026308039099862016, -0.006001588390411384, 0.29656994373083206, -0.37321768887311535, -0.3117323321960828, -0.3003423058132365, -0.30893770609261756, -0.24901321994067488, 0.31467734118035506, 0.23938690576408586, -0.36434941745867533, -0.07295914607088938, -0.3763142634573851, 0.23811359976907312, 0.01225317945263156, -0.3338260278305292, 0.3118775255825811, -0.0599593168329434, -0.3105274218971082, -0.14960734921326932, -0.2545416401749822, -0.34222234323715167, 0.10463457777646491, 0.3046532219728483, 0.13854168639141298, 0.2998218191455441, 0.30822621113355997, -0.2280453240378846, 0.2998218191455441, 0.04725605397124822, 0.08265496987079751, -0.23769159377232588, -0.04651118413576665, -0.0026266704762137713, 0.15303587348202158, 0.06243476241518541, 0.062381216781802626, -0.003875633565972413, 0.13839633319639555, -0.18867329392739304, 0.048844848288605136, -0.18867329392739304, -0.18867329392739304, 0.15271015123671175, -0.18867329392739304, 0.28206458253101013, 0.020204966398337847, 0.35229922067996683, -0.27133948858028795, 0.28206458253101013, 0.35229922067996683, 0.02388389586845568, 0.42559964616433477, 0.02327940119327656, 0.36865003979402866, -0.17541836778025366, 0.36865003979402866, 0.12063595999836475, -0.28225310643421964, -0.19260206006645159, 0.36002789510737454, 0.2338331211503957, -0.28298692462863184, 0.36408271648788987, 0.36408271648788987, 0.36408271648788987, 0.07016728063571993, 0.3808211982903769, -0.381674995276596, -0.07878495384091588, 0.3808211982903769, 0.044026222402440134, -0.14153066165972952, 0.18129928553498537, 0.3102791880642647, -0.25446537759243976, 0.18129928553498537, -0.2891986064754926, -0.09751616076863157, 0.0009144081009251752, 0.36461501119855505, 0.03521209649643447, -0.2327552749439976, 0.31612266395638394, 0.3051338294599344, 0.03521209649643447, 0.19989568771438646, 0.11055423340419566, -0.2785861845310634, -0.10755633019456998, -0.3480092162838542, -0.3480092162838542, -0.11868538410976383, 0.044214096073137914], \"xaxis\": \"x\", \"y\": [-0.20657841288704593, 0.09649328334802257, -0.1613884522502093, 0.04390488308816577, -0.18927351808091908, 0.1315294169604697, -0.18287668949649963, -0.22451784556827523, 0.07999707565545638, -0.1562772888542506, -0.18577245306842186, -0.149675254249613, 0.06426564031110162, -0.21903057629205683, 0.1130344012849092, -0.07230165660863502, -0.18482192444803755, -0.1856257051104772, 0.10038501419295538, -0.17308042084989492, -0.1737710972700074, 0.19264949075859555, 0.0731469060917897, -0.13218298607444282, -0.12481619754813275, -0.11970103822564448, -0.12155180474139746, -0.12267050573610244, -0.18123303625745618, -0.2093778728121431, -0.16468616456646476, -0.15309612058406488, -0.18858181362046847, -0.18135826441576353, -0.22722548349238564, 0.2513691035946816, -0.14888640796888214, -0.18040868325760404, -0.03128716737781182, -0.1491203413510211, -0.1905082008255192, -0.14977324536966538, -0.13788682546995357, -0.1735484181295793, -0.1592389429524119, 0.13183735488212545, 0.05172061115578631, 0.07850828050136645, 0.14945315022467692, 0.09476335823869055, 0.11253227667182492, 0.16356577357345506, -0.26425462847236697, -0.161279715895839, -0.12982200538679536, 0.331226803858163, 0.1278700216946236, 0.031485967683935176, 0.09708193898585069, 0.05993090063585563, 0.1990411267615886, 0.13003744521411867, 0.2143125962619139, -0.2599869997492286, 0.07187737508706687, 0.00023932090064173397, 0.03570730160850228, 0.2143125962619139, -0.15100047266973285, 0.1542884990042932, -0.14778601083096854, 0.001094135960130503, 0.09027356384696393, -0.2599869997492286, -0.16663577487775091, -0.16535039153133455, 0.013717294526883687, 0.1359119007610913, 0.14811778541406628, 0.0298020489510273, 0.019116078265429666, -0.1252604111959263, -0.21758782110806843, -0.19744456718354475, -0.16146603409377386, -0.16419054305780995, -0.31024891152599593, 0.10693921901005936, -0.1791114282546193, 0.17322821919939924, -0.15262267987503053, 0.14668617767366396, 0.04891870368895173, -0.14015678034801596, -0.24574513141570936, 0.265615148784748, -0.16831633621109687, 0.23953225464125547, -0.034482659498349444, -0.1304727799962693, 0.11856229930323225, 0.23650332781753255, 0.23406945108716765, 0.24095981160808383, -0.31598169229624423, 0.27551477888475756, 0.24095981160808383, 0.027833856024723762, 0.14319740827167027, -0.1629812760883817, 0.31765547283959716, 0.3666068488456747, 0.12064621881336068, 0.20945714686485456, 0.21631289599316178, 0.1772208026138625, 0.31360390336485705, 0.5230782898285364, 0.474299431233543, 0.5230782898285364, 0.5230782898285364, 0.22793449489780016, 0.5230782898285364, -0.0920279617081198, 0.24969665320154916, -0.14659566243389774, 0.3000741150570438, -0.0920279617081198, -0.14659566243389774, 0.2243000251903101, -0.3207886386316728, 0.0028280698504500553, -0.3224745114212239, 0.4562760430045921, -0.3224745114212239, -0.05491775006230858, -0.20153327296897627, 0.29858676258414635, -0.30815185778332266, 0.26477412623471364, -0.16987222952668266, -0.3271728610330319, -0.3271728610330319, -0.3271728610330319, 0.21489880782680804, -0.2862770860422157, -0.14525073474796169, 0.18487719956691018, -0.2862770860422157, 0.3020250690725156, 0.45122393895974827, 0.2639712634253396, -0.33520589410851687, -0.18483240259564257, 0.2639712634253396, -0.18424745117188393, 0.27532594400723004, 0.30418815706320473, -0.31736557945167543, 0.015624361023828321, 0.1279837851470189, -0.33584548602661796, -0.34415642845254074, 0.015624361023828321, 0.1363655956846259, 0.09272362998912963, -0.14533214046469392, 0.1868765937195434, -0.16523588529723207, -0.16523588529723207, 0.22763703353335427, 0.269519166826783], \"yaxis\": \"y\"}],\n",
       "                        {\"coloraxis\": {\"colorbar\": {\"title\": {\"text\": \"group\"}}, \"colorscale\": [[0.0, \"#0d0887\"], [0.1111111111111111, \"#46039f\"], [0.2222222222222222, \"#7201a8\"], [0.3333333333333333, \"#9c179e\"], [0.4444444444444444, \"#bd3786\"], [0.5555555555555556, \"#d8576b\"], [0.6666666666666666, \"#ed7953\"], [0.7777777777777778, \"#fb9f3a\"], [0.8888888888888888, \"#fdca26\"], [1.0, \"#f0f921\"]]}, \"legend\": {\"tracegroupgap\": 0}, \"margin\": {\"t\": 60}, \"template\": {\"data\": {\"bar\": [{\"error_x\": {\"color\": \"#2a3f5f\"}, \"error_y\": {\"color\": \"#2a3f5f\"}, \"marker\": {\"line\": {\"color\": \"#E5ECF6\", \"width\": 0.5}}, \"type\": \"bar\"}], \"barpolar\": [{\"marker\": {\"line\": {\"color\": \"#E5ECF6\", \"width\": 0.5}}, \"type\": \"barpolar\"}], \"carpet\": [{\"aaxis\": {\"endlinecolor\": \"#2a3f5f\", \"gridcolor\": \"white\", \"linecolor\": \"white\", \"minorgridcolor\": \"white\", \"startlinecolor\": \"#2a3f5f\"}, \"baxis\": {\"endlinecolor\": \"#2a3f5f\", \"gridcolor\": \"white\", \"linecolor\": \"white\", \"minorgridcolor\": \"white\", \"startlinecolor\": \"#2a3f5f\"}, \"type\": \"carpet\"}], \"choropleth\": [{\"colorbar\": {\"outlinewidth\": 0, \"ticks\": \"\"}, \"type\": \"choropleth\"}], \"contour\": [{\"colorbar\": {\"outlinewidth\": 0, \"ticks\": \"\"}, \"colorscale\": [[0.0, \"#0d0887\"], [0.1111111111111111, \"#46039f\"], [0.2222222222222222, \"#7201a8\"], [0.3333333333333333, \"#9c179e\"], [0.4444444444444444, \"#bd3786\"], [0.5555555555555556, \"#d8576b\"], [0.6666666666666666, \"#ed7953\"], [0.7777777777777778, \"#fb9f3a\"], [0.8888888888888888, \"#fdca26\"], [1.0, \"#f0f921\"]], \"type\": \"contour\"}], \"contourcarpet\": [{\"colorbar\": {\"outlinewidth\": 0, \"ticks\": \"\"}, \"type\": \"contourcarpet\"}], \"heatmap\": [{\"colorbar\": {\"outlinewidth\": 0, \"ticks\": \"\"}, \"colorscale\": [[0.0, \"#0d0887\"], [0.1111111111111111, \"#46039f\"], [0.2222222222222222, \"#7201a8\"], [0.3333333333333333, \"#9c179e\"], [0.4444444444444444, \"#bd3786\"], [0.5555555555555556, \"#d8576b\"], [0.6666666666666666, \"#ed7953\"], [0.7777777777777778, \"#fb9f3a\"], [0.8888888888888888, \"#fdca26\"], [1.0, \"#f0f921\"]], \"type\": \"heatmap\"}], \"heatmapgl\": [{\"colorbar\": {\"outlinewidth\": 0, \"ticks\": \"\"}, \"colorscale\": [[0.0, \"#0d0887\"], [0.1111111111111111, \"#46039f\"], [0.2222222222222222, \"#7201a8\"], [0.3333333333333333, \"#9c179e\"], [0.4444444444444444, \"#bd3786\"], [0.5555555555555556, \"#d8576b\"], [0.6666666666666666, \"#ed7953\"], [0.7777777777777778, \"#fb9f3a\"], [0.8888888888888888, \"#fdca26\"], [1.0, \"#f0f921\"]], \"type\": \"heatmapgl\"}], \"histogram\": [{\"marker\": {\"colorbar\": {\"outlinewidth\": 0, \"ticks\": \"\"}}, \"type\": \"histogram\"}], \"histogram2d\": [{\"colorbar\": {\"outlinewidth\": 0, \"ticks\": \"\"}, \"colorscale\": [[0.0, \"#0d0887\"], [0.1111111111111111, \"#46039f\"], [0.2222222222222222, \"#7201a8\"], [0.3333333333333333, \"#9c179e\"], [0.4444444444444444, \"#bd3786\"], [0.5555555555555556, \"#d8576b\"], [0.6666666666666666, \"#ed7953\"], [0.7777777777777778, \"#fb9f3a\"], [0.8888888888888888, \"#fdca26\"], [1.0, \"#f0f921\"]], \"type\": \"histogram2d\"}], \"histogram2dcontour\": [{\"colorbar\": {\"outlinewidth\": 0, \"ticks\": \"\"}, \"colorscale\": [[0.0, \"#0d0887\"], [0.1111111111111111, \"#46039f\"], [0.2222222222222222, \"#7201a8\"], [0.3333333333333333, \"#9c179e\"], [0.4444444444444444, \"#bd3786\"], [0.5555555555555556, \"#d8576b\"], [0.6666666666666666, \"#ed7953\"], [0.7777777777777778, \"#fb9f3a\"], [0.8888888888888888, \"#fdca26\"], [1.0, \"#f0f921\"]], \"type\": \"histogram2dcontour\"}], \"mesh3d\": [{\"colorbar\": {\"outlinewidth\": 0, \"ticks\": \"\"}, \"type\": \"mesh3d\"}], \"parcoords\": [{\"line\": {\"colorbar\": {\"outlinewidth\": 0, \"ticks\": \"\"}}, \"type\": \"parcoords\"}], \"pie\": [{\"automargin\": true, \"type\": \"pie\"}], \"scatter\": [{\"marker\": {\"colorbar\": {\"outlinewidth\": 0, \"ticks\": \"\"}}, \"type\": \"scatter\"}], \"scatter3d\": [{\"line\": {\"colorbar\": {\"outlinewidth\": 0, \"ticks\": \"\"}}, \"marker\": {\"colorbar\": {\"outlinewidth\": 0, \"ticks\": \"\"}}, \"type\": \"scatter3d\"}], \"scattercarpet\": [{\"marker\": {\"colorbar\": {\"outlinewidth\": 0, \"ticks\": \"\"}}, \"type\": \"scattercarpet\"}], \"scattergeo\": [{\"marker\": {\"colorbar\": {\"outlinewidth\": 0, \"ticks\": \"\"}}, \"type\": \"scattergeo\"}], \"scattergl\": [{\"marker\": {\"colorbar\": {\"outlinewidth\": 0, \"ticks\": \"\"}}, \"type\": \"scattergl\"}], \"scattermapbox\": [{\"marker\": {\"colorbar\": {\"outlinewidth\": 0, \"ticks\": \"\"}}, \"type\": \"scattermapbox\"}], \"scatterpolar\": [{\"marker\": {\"colorbar\": {\"outlinewidth\": 0, \"ticks\": \"\"}}, \"type\": \"scatterpolar\"}], \"scatterpolargl\": [{\"marker\": {\"colorbar\": {\"outlinewidth\": 0, \"ticks\": \"\"}}, \"type\": \"scatterpolargl\"}], \"scatterternary\": [{\"marker\": {\"colorbar\": {\"outlinewidth\": 0, \"ticks\": \"\"}}, \"type\": \"scatterternary\"}], \"surface\": [{\"colorbar\": {\"outlinewidth\": 0, \"ticks\": \"\"}, \"colorscale\": [[0.0, \"#0d0887\"], [0.1111111111111111, \"#46039f\"], [0.2222222222222222, \"#7201a8\"], [0.3333333333333333, \"#9c179e\"], [0.4444444444444444, \"#bd3786\"], [0.5555555555555556, \"#d8576b\"], [0.6666666666666666, \"#ed7953\"], [0.7777777777777778, \"#fb9f3a\"], [0.8888888888888888, \"#fdca26\"], [1.0, \"#f0f921\"]], \"type\": \"surface\"}], \"table\": [{\"cells\": {\"fill\": {\"color\": \"#EBF0F8\"}, \"line\": {\"color\": \"white\"}}, \"header\": {\"fill\": {\"color\": \"#C8D4E3\"}, \"line\": {\"color\": \"white\"}}, \"type\": \"table\"}]}, \"layout\": {\"annotationdefaults\": {\"arrowcolor\": \"#2a3f5f\", \"arrowhead\": 0, \"arrowwidth\": 1}, \"coloraxis\": {\"colorbar\": {\"outlinewidth\": 0, \"ticks\": \"\"}}, \"colorscale\": {\"diverging\": [[0, \"#8e0152\"], [0.1, \"#c51b7d\"], [0.2, \"#de77ae\"], [0.3, \"#f1b6da\"], [0.4, \"#fde0ef\"], [0.5, \"#f7f7f7\"], [0.6, \"#e6f5d0\"], [0.7, \"#b8e186\"], [0.8, \"#7fbc41\"], [0.9, \"#4d9221\"], [1, \"#276419\"]], \"sequential\": [[0.0, \"#0d0887\"], [0.1111111111111111, \"#46039f\"], [0.2222222222222222, \"#7201a8\"], [0.3333333333333333, \"#9c179e\"], [0.4444444444444444, \"#bd3786\"], [0.5555555555555556, \"#d8576b\"], [0.6666666666666666, \"#ed7953\"], [0.7777777777777778, \"#fb9f3a\"], [0.8888888888888888, \"#fdca26\"], [1.0, \"#f0f921\"]], \"sequentialminus\": [[0.0, \"#0d0887\"], [0.1111111111111111, \"#46039f\"], [0.2222222222222222, \"#7201a8\"], [0.3333333333333333, \"#9c179e\"], [0.4444444444444444, \"#bd3786\"], [0.5555555555555556, \"#d8576b\"], [0.6666666666666666, \"#ed7953\"], [0.7777777777777778, \"#fb9f3a\"], [0.8888888888888888, \"#fdca26\"], [1.0, \"#f0f921\"]]}, \"colorway\": [\"#636efa\", \"#EF553B\", \"#00cc96\", \"#ab63fa\", \"#FFA15A\", \"#19d3f3\", \"#FF6692\", \"#B6E880\", \"#FF97FF\", \"#FECB52\"], \"font\": {\"color\": \"#2a3f5f\"}, \"geo\": {\"bgcolor\": \"white\", \"lakecolor\": \"white\", \"landcolor\": \"#E5ECF6\", \"showlakes\": true, \"showland\": true, \"subunitcolor\": \"white\"}, \"hoverlabel\": {\"align\": \"left\"}, \"hovermode\": \"closest\", \"mapbox\": {\"style\": \"light\"}, \"paper_bgcolor\": \"white\", \"plot_bgcolor\": \"#E5ECF6\", \"polar\": {\"angularaxis\": {\"gridcolor\": \"white\", \"linecolor\": \"white\", \"ticks\": \"\"}, \"bgcolor\": \"#E5ECF6\", \"radialaxis\": {\"gridcolor\": \"white\", \"linecolor\": \"white\", \"ticks\": \"\"}}, \"scene\": {\"xaxis\": {\"backgroundcolor\": \"#E5ECF6\", \"gridcolor\": \"white\", \"gridwidth\": 2, \"linecolor\": \"white\", \"showbackground\": true, \"ticks\": \"\", \"zerolinecolor\": \"white\"}, \"yaxis\": {\"backgroundcolor\": \"#E5ECF6\", \"gridcolor\": \"white\", \"gridwidth\": 2, \"linecolor\": \"white\", \"showbackground\": true, \"ticks\": \"\", \"zerolinecolor\": \"white\"}, \"zaxis\": {\"backgroundcolor\": \"#E5ECF6\", \"gridcolor\": \"white\", \"gridwidth\": 2, \"linecolor\": \"white\", \"showbackground\": true, \"ticks\": \"\", \"zerolinecolor\": \"white\"}}, \"shapedefaults\": {\"line\": {\"color\": \"#2a3f5f\"}}, \"ternary\": {\"aaxis\": {\"gridcolor\": \"white\", \"linecolor\": \"white\", \"ticks\": \"\"}, \"baxis\": {\"gridcolor\": \"white\", \"linecolor\": \"white\", \"ticks\": \"\"}, \"bgcolor\": \"#E5ECF6\", \"caxis\": {\"gridcolor\": \"white\", \"linecolor\": \"white\", \"ticks\": \"\"}}, \"title\": {\"x\": 0.05}, \"xaxis\": {\"automargin\": true, \"gridcolor\": \"white\", \"linecolor\": \"white\", \"ticks\": \"\", \"title\": {\"standoff\": 15}, \"zerolinecolor\": \"white\", \"zerolinewidth\": 2}, \"yaxis\": {\"automargin\": true, \"gridcolor\": \"white\", \"linecolor\": \"white\", \"ticks\": \"\", \"title\": {\"standoff\": 15}, \"zerolinecolor\": \"white\", \"zerolinewidth\": 2}}}, \"xaxis\": {\"anchor\": \"y\", \"domain\": [0.0, 1.0], \"title\": {\"text\": \"0\"}}, \"yaxis\": {\"anchor\": \"x\", \"domain\": [0.0, 1.0], \"title\": {\"text\": \"1\"}}},\n",
       "                        {\"responsive\": true}\n",
       "                    ).then(function(){\n",
       "                            \n",
       "var gd = document.getElementById('f3afded7-9ae9-4a50-ab42-9cd8e1700775');\n",
       "var x = new MutationObserver(function (mutations, observer) {{\n",
       "        var display = window.getComputedStyle(gd).display;\n",
       "        if (!display || display === 'none') {{\n",
       "            console.log([gd, 'removed!']);\n",
       "            Plotly.purge(gd);\n",
       "            observer.disconnect();\n",
       "        }}\n",
       "}});\n",
       "\n",
       "// Listen for the removal of the full notebook cells\n",
       "var notebookContainer = gd.closest('#notebook-container');\n",
       "if (notebookContainer) {{\n",
       "    x.observe(notebookContainer, {childList: true});\n",
       "}}\n",
       "\n",
       "// Listen for the clearing of the current output cell\n",
       "var outputEl = gd.closest('.output');\n",
       "if (outputEl) {{\n",
       "    x.observe(outputEl, {childList: true});\n",
       "}}\n",
       "\n",
       "                        })\n",
       "                };\n",
       "                });\n",
       "            </script>\n",
       "        </div>"
      ]
     },
     "metadata": {},
     "output_type": "display_data"
    }
   ],
   "source": [
    "import plotly_express as px\n",
    "fig = px.scatter(dcm, 0, 1, \n",
    "                    color='group', \n",
    "                    hover_name='title')\n",
    "fig.show()"
   ]
  },
  {
   "cell_type": "markdown",
   "metadata": {},
   "source": [
    "## Collocation - uses PMI (pointwise mutual information) to figure out \n",
    "## whether a bigram/trigram is better treated as a single \"word\"\n"
   ]
  },
  {
   "cell_type": "code",
   "execution_count": 191,
   "metadata": {},
   "outputs": [],
   "source": [
    "# start with unigrams - just p(x)\n",
    "pmi = counts_df.loc[:,[c for c in counts_df.columns.values if ' ' not in c]]\n",
    "pmi = pmi.div(pmi.sum(axis=1), axis=0)\n"
   ]
  },
  {
   "cell_type": "code",
   "execution_count": 196,
   "metadata": {},
   "outputs": [],
   "source": [
    "# bigrams - log(p(x,y) / (p(x)*p(y)))\n",
    "pmi2 = counts_df.loc[:,[c for c in counts_df.columns.values if c.count(' ')==1 ]]\n",
    "#pmi = pmi.div(pmi.sum(axis=1), axis=0)\n",
    "def pxpy(xy_term):\n",
    "    x, y = xy_term.name.split()\n",
    "    #px = pmi[x] + 1e-60\n",
    "    #py = pmi[y] + 1e-60\n",
    "    return (pmi[x] + 1e-60) * (pmi[y] + 1e-60) # add a small value to avoid divide by zero\n",
    "\n",
    "pmi2 = np.log2(pmi2.div(pmi2.apply(pxpy, axis=0), axis=0) + 1e-60)"
   ]
  },
  {
   "cell_type": "code",
   "execution_count": 199,
   "metadata": {},
   "outputs": [
    {
     "data": {
      "text/plain": [
       "array([['united states'],\n",
       "       ['donald trump'],\n",
       "       ['god bless'],\n",
       "       [\"we're going\"],\n",
       "       ['make sure'],\n",
       "       ['every day'],\n",
       "       ['states america'],\n",
       "       ['american people'],\n",
       "       [\"i'm going\"],\n",
       "       ['joe biden']], dtype=object)"
      ]
     },
     "execution_count": 199,
     "metadata": {},
     "output_type": "execute_result"
    }
   ],
   "source": [
    "pmi2.index.name = 'speech'\n",
    "pmi2['videoId'] = bow.index.values\n",
    "pmi2 = pmi2.set_index('videoId')\n",
    "pmi2['_speaker'] = pmi2.apply(lambda x: bow.loc[x.name].speaker, 1)\n",
    "pmi2 = pmi2.reset_index().set_index(['videoId','_speaker'])\n",
    "pmi2s = pmi2.reset_index().drop(columns=\"videoId\").groupby(['_speaker']).mean()\n",
    "pmi2s = pmi2s.T.reset_index()\n",
    "pmi2s.sort_values('biden', ascending=False).head(10)[['index']].values"
   ]
  },
  {
   "cell_type": "code",
   "execution_count": 200,
   "metadata": {},
   "outputs": [
    {
     "data": {
      "text/html": [
       "<div>\n",
       "<style scoped>\n",
       "    .dataframe tbody tr th:only-of-type {\n",
       "        vertical-align: middle;\n",
       "    }\n",
       "\n",
       "    .dataframe tbody tr th {\n",
       "        vertical-align: top;\n",
       "    }\n",
       "\n",
       "    .dataframe thead th {\n",
       "        text-align: right;\n",
       "    }\n",
       "</style>\n",
       "<table border=\"1\" class=\"dataframe\">\n",
       "  <thead>\n",
       "    <tr style=\"text-align: right;\">\n",
       "      <th></th>\n",
       "      <th>biden</th>\n",
       "      <th>trump</th>\n",
       "      <th>harris</th>\n",
       "      <th>pence</th>\n",
       "    </tr>\n",
       "  </thead>\n",
       "  <tbody>\n",
       "    <tr>\n",
       "      <th>0</th>\n",
       "      <td>united states</td>\n",
       "      <td>united states</td>\n",
       "      <td>united states</td>\n",
       "      <td>donald trump</td>\n",
       "    </tr>\n",
       "    <tr>\n",
       "      <th>1</th>\n",
       "      <td>donald trump</td>\n",
       "      <td>thank much</td>\n",
       "      <td>donald trump</td>\n",
       "      <td>president donald</td>\n",
       "    </tr>\n",
       "    <tr>\n",
       "      <th>2</th>\n",
       "      <td>god bless</td>\n",
       "      <td>we're going</td>\n",
       "      <td>little bit</td>\n",
       "      <td>men women</td>\n",
       "    </tr>\n",
       "    <tr>\n",
       "      <th>3</th>\n",
       "      <td>we're going</td>\n",
       "      <td>years ago</td>\n",
       "      <td>joe biden</td>\n",
       "      <td>years ago</td>\n",
       "    </tr>\n",
       "    <tr>\n",
       "      <th>4</th>\n",
       "      <td>make sure</td>\n",
       "      <td>law enforcement</td>\n",
       "      <td>looks like</td>\n",
       "      <td>every day</td>\n",
       "    </tr>\n",
       "    <tr>\n",
       "      <th>5</th>\n",
       "      <td>every day</td>\n",
       "      <td>thank thank</td>\n",
       "      <td>they're going</td>\n",
       "      <td>american history</td>\n",
       "    </tr>\n",
       "    <tr>\n",
       "      <th>6</th>\n",
       "      <td>states america</td>\n",
       "      <td>long time</td>\n",
       "      <td>vice president</td>\n",
       "      <td>president trump</td>\n",
       "    </tr>\n",
       "    <tr>\n",
       "      <th>7</th>\n",
       "      <td>american people</td>\n",
       "      <td>white house</td>\n",
       "      <td>american people</td>\n",
       "      <td>united states</td>\n",
       "    </tr>\n",
       "    <tr>\n",
       "      <th>8</th>\n",
       "      <td>i'm going</td>\n",
       "      <td>great job</td>\n",
       "      <td>president united</td>\n",
       "      <td>law enforcement</td>\n",
       "    </tr>\n",
       "    <tr>\n",
       "      <th>9</th>\n",
       "      <td>joe biden</td>\n",
       "      <td>we're gonna</td>\n",
       "      <td>barack obama</td>\n",
       "      <td>four years</td>\n",
       "    </tr>\n",
       "  </tbody>\n",
       "</table>\n",
       "</div>"
      ],
      "text/plain": [
       "             biden            trump            harris             pence\n",
       "0    united states    united states     united states      donald trump\n",
       "1     donald trump       thank much      donald trump  president donald\n",
       "2        god bless      we're going        little bit         men women\n",
       "3      we're going        years ago         joe biden         years ago\n",
       "4        make sure  law enforcement        looks like         every day\n",
       "5        every day      thank thank     they're going  american history\n",
       "6   states america        long time    vice president   president trump\n",
       "7  american people      white house   american people     united states\n",
       "8        i'm going        great job  president united   law enforcement\n",
       "9        joe biden      we're gonna      barack obama        four years"
      ]
     },
     "execution_count": 200,
     "metadata": {},
     "output_type": "execute_result"
    }
   ],
   "source": [
    "top10 = pd.DataFrame(pmi2s.sort_values('biden', ascending=False).head(10)[['index']].values)\n",
    "top10.columns = ['biden']\n",
    "top10['trump'] = pmi2s.sort_values('trump', ascending=False).head(10)[['index']].values\n",
    "top10['harris'] = pmi2s.sort_values('harris', ascending=False).head(10)[['index']].values\n",
    "top10['pence'] = pmi2s.sort_values('pence', ascending=False).head(10)[['index']].values\n",
    "top10"
   ]
  },
  {
   "cell_type": "code",
   "execution_count": null,
   "metadata": {},
   "outputs": [],
   "source": []
  },
  {
   "cell_type": "code",
   "execution_count": null,
   "metadata": {},
   "outputs": [],
   "source": []
  },
  {
   "cell_type": "markdown",
   "metadata": {},
   "source": [
    "## Only bigrams"
   ]
  },
  {
   "cell_type": "code",
   "execution_count": 207,
   "metadata": {},
   "outputs": [
    {
     "data": {
      "text/html": [
       "<div>\n",
       "<style scoped>\n",
       "    .dataframe tbody tr th:only-of-type {\n",
       "        vertical-align: middle;\n",
       "    }\n",
       "\n",
       "    .dataframe tbody tr th {\n",
       "        vertical-align: top;\n",
       "    }\n",
       "\n",
       "    .dataframe thead th {\n",
       "        text-align: right;\n",
       "    }\n",
       "</style>\n",
       "<table border=\"1\" class=\"dataframe\">\n",
       "  <thead>\n",
       "    <tr style=\"text-align: right;\">\n",
       "      <th></th>\n",
       "      <th>biden</th>\n",
       "      <th>trump</th>\n",
       "      <th>harris</th>\n",
       "      <th>pence</th>\n",
       "    </tr>\n",
       "  </thead>\n",
       "  <tbody>\n",
       "    <tr>\n",
       "      <th>0</th>\n",
       "      <td>donald trump</td>\n",
       "      <td>we're going</td>\n",
       "      <td>senator graham</td>\n",
       "      <td>president donald</td>\n",
       "    </tr>\n",
       "    <tr>\n",
       "      <th>1</th>\n",
       "      <td>joe biden</td>\n",
       "      <td>thank much</td>\n",
       "      <td>affordable care</td>\n",
       "      <td>donald trump</td>\n",
       "    </tr>\n",
       "    <tr>\n",
       "      <th>2</th>\n",
       "      <td>we're going</td>\n",
       "      <td>united states</td>\n",
       "      <td>south carolina</td>\n",
       "      <td>four years</td>\n",
       "    </tr>\n",
       "    <tr>\n",
       "      <th>3</th>\n",
       "      <td>united states</td>\n",
       "      <td>we're gonna</td>\n",
       "      <td>care act</td>\n",
       "      <td>joe biden</td>\n",
       "    </tr>\n",
       "    <tr>\n",
       "      <th>4</th>\n",
       "      <td>make sure</td>\n",
       "      <td>great job</td>\n",
       "      <td>criminal justice</td>\n",
       "      <td>president trump</td>\n",
       "    </tr>\n",
       "    <tr>\n",
       "      <th>5</th>\n",
       "      <td>middle class</td>\n",
       "      <td>make america</td>\n",
       "      <td>like know</td>\n",
       "      <td>men women</td>\n",
       "    </tr>\n",
       "    <tr>\n",
       "      <th>6</th>\n",
       "      <td>i'm going</td>\n",
       "      <td>joe biden</td>\n",
       "      <td>trump party</td>\n",
       "      <td>trump white</td>\n",
       "    </tr>\n",
       "    <tr>\n",
       "      <th>7</th>\n",
       "      <td>child care</td>\n",
       "      <td>new york</td>\n",
       "      <td>health care</td>\n",
       "      <td>years president</td>\n",
       "    </tr>\n",
       "    <tr>\n",
       "      <th>8</th>\n",
       "      <td>states america</td>\n",
       "      <td>north carolina</td>\n",
       "      <td>donald trump</td>\n",
       "      <td>years means</td>\n",
       "    </tr>\n",
       "    <tr>\n",
       "      <th>9</th>\n",
       "      <td>may god</td>\n",
       "      <td>billion dollars</td>\n",
       "      <td>president trump</td>\n",
       "      <td>united states</td>\n",
       "    </tr>\n",
       "  </tbody>\n",
       "</table>\n",
       "</div>"
      ],
      "text/plain": [
       "            biden            trump            harris             pence\n",
       "0    donald trump      we're going    senator graham  president donald\n",
       "1       joe biden       thank much   affordable care      donald trump\n",
       "2     we're going    united states    south carolina        four years\n",
       "3   united states      we're gonna          care act         joe biden\n",
       "4       make sure        great job  criminal justice   president trump\n",
       "5    middle class     make america         like know         men women\n",
       "6       i'm going        joe biden       trump party       trump white\n",
       "7      child care         new york       health care   years president\n",
       "8  states america   north carolina      donald trump       years means\n",
       "9         may god  billion dollars   president trump     united states"
      ]
     },
     "execution_count": 207,
     "metadata": {},
     "output_type": "execute_result"
    }
   ],
   "source": [
    "# create document-term count matrix\n",
    "vectorizer = CountVectorizer(#max_features=5000, # only top 5k words\n",
    "                             min_df=3,          # words must appear in this many speeches to count\n",
    "                             max_df=0.9,        # words can't appear in more % of speeches than this.  \n",
    "                             stop_words=stopwords.words('english'),\n",
    "                             tokenizer=my_tokenizer,\n",
    "                             ngram_range=(2,2)  # only bigrams\n",
    "                            )\n",
    "counts = vectorizer.fit_transform(bow['speech'])\n",
    "counts_df = pd.DataFrame(counts.toarray())\n",
    "counts_df.index.name = 'speech'\n",
    "counts_df.columns = vectorizer.get_feature_names()\n",
    "\n",
    "# convert counts into tfidf\n",
    "transformer = TfidfTransformer(smooth_idf=False)\n",
    "tfidf = transformer.fit_transform(counts)\n",
    "# make it a nice df\n",
    "tfidf_df = pd.DataFrame(tfidf.toarray())\n",
    "tfidf_df.index.name = 'speech'\n",
    "tfidf_df.columns = vectorizer.get_feature_names()\n",
    "tfidf_df['videoId'] = bow.index.values\n",
    "tfidf_df = tfidf_df.set_index('videoId')\n",
    "\n",
    "# group by speaker and aggregate\n",
    "tfidf_df['_speaker'] = tfidf_df.apply(lambda x: bow.loc[x.name].speaker, 1)\n",
    "tfidf_df = tfidf_df.reset_index().set_index(['videoId','_speaker'])\n",
    "# collapse to speaker-only\n",
    "tfidf_speaker = tfidf_df.reset_index().drop(columns=\"videoId\").groupby(['_speaker']).mean()\n",
    "# Normalize doc vector lengths\n",
    "tfidf_speaker = tfidf_speaker.apply(lambda x: x / norm(x), 1)\n",
    "# transpose for easier filtering\n",
    "tfidf_speaker = tfidf_speaker.T.reset_index()\n",
    "\n",
    "# convert df to a handy top-10 comparison matrix\n",
    "top10 = pd.DataFrame(tfidf_speaker.sort_values('biden', ascending=False).head(10)[['index']].values)\n",
    "top10.columns = ['biden']\n",
    "top10['trump'] = tfidf_speaker.sort_values('trump', ascending=False).head(10)[['index']].values\n",
    "top10['harris'] = tfidf_speaker.sort_values('harris', ascending=False).head(10)[['index']].values\n",
    "top10['pence'] = tfidf_speaker.sort_values('pence', ascending=False).head(10)[['index']].values\n",
    "top10"
   ]
  },
  {
   "cell_type": "code",
   "execution_count": 72,
   "metadata": {},
   "outputs": [
    {
     "data": {
      "text/html": [
       "<div>\n",
       "<style scoped>\n",
       "    .dataframe tbody tr th:only-of-type {\n",
       "        vertical-align: middle;\n",
       "    }\n",
       "\n",
       "    .dataframe tbody tr th {\n",
       "        vertical-align: top;\n",
       "    }\n",
       "\n",
       "    .dataframe thead th {\n",
       "        text-align: right;\n",
       "    }\n",
       "</style>\n",
       "<table border=\"1\" class=\"dataframe\">\n",
       "  <thead>\n",
       "    <tr style=\"text-align: right;\">\n",
       "      <th></th>\n",
       "      <th>biden</th>\n",
       "      <th>trump</th>\n",
       "      <th>harris</th>\n",
       "      <th>pence</th>\n",
       "    </tr>\n",
       "  </thead>\n",
       "  <tbody>\n",
       "    <tr>\n",
       "      <th>0</th>\n",
       "      <td>middle class</td>\n",
       "      <td>great job</td>\n",
       "      <td>senator graham</td>\n",
       "      <td>president donald</td>\n",
       "    </tr>\n",
       "    <tr>\n",
       "      <th>1</th>\n",
       "      <td>child care</td>\n",
       "      <td>fake news</td>\n",
       "      <td>affordable care</td>\n",
       "      <td>trump white</td>\n",
       "    </tr>\n",
       "    <tr>\n",
       "      <th>2</th>\n",
       "      <td>battle soul</td>\n",
       "      <td>thank much</td>\n",
       "      <td>south carolina</td>\n",
       "      <td>years means</td>\n",
       "    </tr>\n",
       "    <tr>\n",
       "      <th>3</th>\n",
       "      <td>mr president,</td>\n",
       "      <td>sleepy joe</td>\n",
       "      <td>trump party</td>\n",
       "      <td>four years</td>\n",
       "    </tr>\n",
       "    <tr>\n",
       "      <th>4</th>\n",
       "      <td>across world</td>\n",
       "      <td>great people</td>\n",
       "      <td>care act</td>\n",
       "      <td>stand president</td>\n",
       "    </tr>\n",
       "    <tr>\n",
       "      <th>5</th>\n",
       "      <td>back better</td>\n",
       "      <td>going win</td>\n",
       "      <td>criminal justice</td>\n",
       "      <td>years president</td>\n",
       "    </tr>\n",
       "    <tr>\n",
       "      <th>6</th>\n",
       "      <td>god protect</td>\n",
       "      <td>history country</td>\n",
       "      <td>make case</td>\n",
       "      <td>president stands</td>\n",
       "    </tr>\n",
       "    <tr>\n",
       "      <th>7</th>\n",
       "      <td>protect troops</td>\n",
       "      <td>make america</td>\n",
       "      <td>million years</td>\n",
       "      <td>need four</td>\n",
       "    </tr>\n",
       "    <tr>\n",
       "      <th>8</th>\n",
       "      <td>clean energy</td>\n",
       "      <td>sanctuary cities</td>\n",
       "      <td>bring us</td>\n",
       "      <td>red tape</td>\n",
       "    </tr>\n",
       "    <tr>\n",
       "      <th>9</th>\n",
       "      <td>community college</td>\n",
       "      <td>air force</td>\n",
       "      <td>death penalty</td>\n",
       "      <td>promises made</td>\n",
       "    </tr>\n",
       "  </tbody>\n",
       "</table>\n",
       "</div>"
      ],
      "text/plain": [
       "               biden             trump            harris             pence\n",
       "0       middle class         great job    senator graham  president donald\n",
       "1         child care         fake news   affordable care       trump white\n",
       "2        battle soul        thank much    south carolina       years means\n",
       "3      mr president,        sleepy joe       trump party        four years\n",
       "4       across world      great people          care act   stand president\n",
       "5        back better         going win  criminal justice   years president\n",
       "6        god protect   history country         make case  president stands\n",
       "7     protect troops      make america     million years         need four\n",
       "8       clean energy  sanctuary cities          bring us          red tape\n",
       "9  community college         air force     death penalty     promises made"
      ]
     },
     "execution_count": 72,
     "metadata": {},
     "output_type": "execute_result"
    }
   ],
   "source": [
    "# key phrases - a score for which terms each speaker uses that the others don't.\n",
    "tfidf_speaker['biden2'] = tfidf_speaker.biden - (tfidf_speaker.harris + tfidf_speaker.pence + tfidf_speaker.trump)\n",
    "tfidf_speaker['trump2'] = tfidf_speaker.trump - (tfidf_speaker.harris + tfidf_speaker.pence + tfidf_speaker.biden)\n",
    "tfidf_speaker['harris2'] = tfidf_speaker.harris - (tfidf_speaker.trump + tfidf_speaker.pence + tfidf_speaker.biden)\n",
    "tfidf_speaker['pence2'] = tfidf_speaker.pence - (tfidf_speaker.harris + tfidf_speaker.trump + tfidf_speaker.biden)\n",
    "\n",
    "top10 = pd.DataFrame(tfidf_speaker.sort_values('biden2', ascending=False).head(10)[['index']].values)\n",
    "top10.columns = ['biden']\n",
    "top10['trump'] = tfidf_speaker.sort_values('trump2', ascending=False).head(10)[['index']].values\n",
    "top10['harris'] = tfidf_speaker.sort_values('harris2', ascending=False).head(10)[['index']].values\n",
    "top10['pence'] = tfidf_speaker.sort_values('pence2', ascending=False).head(10)[['index']].values\n",
    "top10"
   ]
  },
  {
   "cell_type": "markdown",
   "metadata": {},
   "source": [
    "## Only trigrams"
   ]
  },
  {
   "cell_type": "code",
   "execution_count": 208,
   "metadata": {},
   "outputs": [
    {
     "data": {
      "text/html": [
       "<div>\n",
       "<style scoped>\n",
       "    .dataframe tbody tr th:only-of-type {\n",
       "        vertical-align: middle;\n",
       "    }\n",
       "\n",
       "    .dataframe tbody tr th {\n",
       "        vertical-align: top;\n",
       "    }\n",
       "\n",
       "    .dataframe thead th {\n",
       "        text-align: right;\n",
       "    }\n",
       "</style>\n",
       "<table border=\"1\" class=\"dataframe\">\n",
       "  <thead>\n",
       "    <tr style=\"text-align: right;\">\n",
       "      <th></th>\n",
       "      <th>biden</th>\n",
       "      <th>trump</th>\n",
       "      <th>harris</th>\n",
       "      <th>pence</th>\n",
       "    </tr>\n",
       "  </thead>\n",
       "  <tbody>\n",
       "    <tr>\n",
       "      <th>0</th>\n",
       "      <td>united states america</td>\n",
       "      <td>thank much thank</td>\n",
       "      <td>affordable care act</td>\n",
       "      <td>president donald trump</td>\n",
       "    </tr>\n",
       "    <tr>\n",
       "      <th>1</th>\n",
       "      <td>battle soul nation</td>\n",
       "      <td>make america great</td>\n",
       "      <td>black lives matter</td>\n",
       "      <td>years president donald</td>\n",
       "    </tr>\n",
       "    <tr>\n",
       "      <th>2</th>\n",
       "      <td>build back better</td>\n",
       "      <td>new york times</td>\n",
       "      <td>criminal justice reform</td>\n",
       "      <td>four years president</td>\n",
       "    </tr>\n",
       "    <tr>\n",
       "      <th>3</th>\n",
       "      <td>may god protect</td>\n",
       "      <td>late term abortion</td>\n",
       "      <td>people south carolina</td>\n",
       "      <td>donald trump white</td>\n",
       "    </tr>\n",
       "    <tr>\n",
       "      <th>4</th>\n",
       "      <td>god protect troops</td>\n",
       "      <td>done great job</td>\n",
       "      <td>know i'm saying</td>\n",
       "      <td>four years means</td>\n",
       "    </tr>\n",
       "    <tr>\n",
       "      <th>5</th>\n",
       "      <td>bless may god</td>\n",
       "      <td>we're going win</td>\n",
       "      <td>united states senate</td>\n",
       "      <td>trump white house</td>\n",
       "    </tr>\n",
       "    <tr>\n",
       "      <th>6</th>\n",
       "      <td>god bless may</td>\n",
       "      <td>thank thank much</td>\n",
       "      <td>bring us together</td>\n",
       "      <td>first three years</td>\n",
       "    </tr>\n",
       "    <tr>\n",
       "      <th>7</th>\n",
       "      <td>thank thank thank</td>\n",
       "      <td>thank thank thank</td>\n",
       "      <td>president trump party</td>\n",
       "      <td>president donald trump.</td>\n",
       "    </tr>\n",
       "    <tr>\n",
       "      <th>8</th>\n",
       "      <td>beat donald trump</td>\n",
       "      <td>black lives matter</td>\n",
       "      <td>like know like</td>\n",
       "      <td>need four years</td>\n",
       "    </tr>\n",
       "    <tr>\n",
       "      <th>9</th>\n",
       "      <td>president united states</td>\n",
       "      <td>president united states</td>\n",
       "      <td>president united states</td>\n",
       "      <td>stand president donald</td>\n",
       "    </tr>\n",
       "  </tbody>\n",
       "</table>\n",
       "</div>"
      ],
      "text/plain": [
       "                     biden                    trump                   harris  \\\n",
       "0    united states america         thank much thank      affordable care act   \n",
       "1       battle soul nation       make america great       black lives matter   \n",
       "2        build back better           new york times  criminal justice reform   \n",
       "3          may god protect       late term abortion    people south carolina   \n",
       "4       god protect troops           done great job          know i'm saying   \n",
       "5            bless may god          we're going win     united states senate   \n",
       "6            god bless may         thank thank much        bring us together   \n",
       "7        thank thank thank        thank thank thank    president trump party   \n",
       "8        beat donald trump       black lives matter           like know like   \n",
       "9  president united states  president united states  president united states   \n",
       "\n",
       "                     pence  \n",
       "0   president donald trump  \n",
       "1   years president donald  \n",
       "2     four years president  \n",
       "3       donald trump white  \n",
       "4         four years means  \n",
       "5        trump white house  \n",
       "6        first three years  \n",
       "7  president donald trump.  \n",
       "8          need four years  \n",
       "9   stand president donald  "
      ]
     },
     "execution_count": 208,
     "metadata": {},
     "output_type": "execute_result"
    }
   ],
   "source": [
    "# create document-term count matrix\n",
    "vectorizer = CountVectorizer(#max_features=5000, # only top 5k words\n",
    "                             min_df=3,          # words must appear in this many speeches to count\n",
    "                             max_df=0.9,        # words can't appear in more % of speeches than this.  \n",
    "                             stop_words=stopwords.words('english'),\n",
    "                             tokenizer=my_tokenizer,\n",
    "                             ngram_range=(3,3)  # only bigrams\n",
    "                            )\n",
    "counts = vectorizer.fit_transform(bow['speech'])\n",
    "counts_df = pd.DataFrame(counts.toarray())\n",
    "counts_df.index.name = 'speech'\n",
    "counts_df.columns = vectorizer.get_feature_names()\n",
    "\n",
    "# convert counts into tfidf\n",
    "transformer = TfidfTransformer(smooth_idf=False)\n",
    "tfidf = transformer.fit_transform(counts)\n",
    "# make it a nice df\n",
    "tfidf_df = pd.DataFrame(tfidf.toarray())\n",
    "tfidf_df.index.name = 'speech'\n",
    "tfidf_df.columns = vectorizer.get_feature_names()\n",
    "tfidf_df['videoId'] = bow.index.values\n",
    "tfidf_df = tfidf_df.set_index('videoId')\n",
    "\n",
    "# group by speaker and aggregate\n",
    "tfidf_df['_speaker'] = tfidf_df.apply(lambda x: bow.loc[x.name].speaker, 1)\n",
    "tfidf_df = tfidf_df.reset_index().set_index(['videoId','_speaker'])\n",
    "# collapse to speaker-only\n",
    "tfidf_speaker = tfidf_df.reset_index().drop(columns=\"videoId\").groupby(['_speaker']).mean()\n",
    "# Normalize doc vector lengths\n",
    "tfidf_speaker = tfidf_speaker.apply(lambda x: x / norm(x), 1)\n",
    "# transpose for easier filtering\n",
    "tfidf_speaker = tfidf_speaker.T.reset_index()\n",
    "\n",
    "# convert df to a handy top-10 comparison matrix\n",
    "top10 = pd.DataFrame(tfidf_speaker.sort_values('biden', ascending=False).head(10)[['index']].values)\n",
    "top10.columns = ['biden']\n",
    "top10['trump'] = tfidf_speaker.sort_values('trump', ascending=False).head(10)[['index']].values\n",
    "top10['harris'] = tfidf_speaker.sort_values('harris', ascending=False).head(10)[['index']].values\n",
    "top10['pence'] = tfidf_speaker.sort_values('pence', ascending=False).head(10)[['index']].values\n",
    "top10"
   ]
  },
  {
   "cell_type": "code",
   "execution_count": 211,
   "metadata": {},
   "outputs": [
    {
     "data": {
      "text/html": [
       "<div>\n",
       "<style scoped>\n",
       "    .dataframe tbody tr th:only-of-type {\n",
       "        vertical-align: middle;\n",
       "    }\n",
       "\n",
       "    .dataframe tbody tr th {\n",
       "        vertical-align: top;\n",
       "    }\n",
       "\n",
       "    .dataframe thead th {\n",
       "        text-align: right;\n",
       "    }\n",
       "</style>\n",
       "<table border=\"1\" class=\"dataframe\">\n",
       "  <thead>\n",
       "    <tr style=\"text-align: right;\">\n",
       "      <th>_speaker</th>\n",
       "      <th>index</th>\n",
       "      <th>biden</th>\n",
       "      <th>harris</th>\n",
       "      <th>pence</th>\n",
       "      <th>trump</th>\n",
       "    </tr>\n",
       "  </thead>\n",
       "  <tbody>\n",
       "    <tr>\n",
       "      <th>0</th>\n",
       "      <td>000 african americans</td>\n",
       "      <td>0.000000</td>\n",
       "      <td>0.000000</td>\n",
       "      <td>0.000000</td>\n",
       "      <td>0.007060</td>\n",
       "    </tr>\n",
       "    <tr>\n",
       "      <th>1</th>\n",
       "      <td>000 criminals onto</td>\n",
       "      <td>0.000000</td>\n",
       "      <td>0.000000</td>\n",
       "      <td>0.000000</td>\n",
       "      <td>0.006645</td>\n",
       "    </tr>\n",
       "    <tr>\n",
       "      <th>2</th>\n",
       "      <td>000 gang members</td>\n",
       "      <td>0.000000</td>\n",
       "      <td>0.000000</td>\n",
       "      <td>0.000000</td>\n",
       "      <td>0.009829</td>\n",
       "    </tr>\n",
       "    <tr>\n",
       "      <th>3</th>\n",
       "      <td>000 jobs right</td>\n",
       "      <td>0.000000</td>\n",
       "      <td>0.000000</td>\n",
       "      <td>0.008774</td>\n",
       "      <td>0.001312</td>\n",
       "    </tr>\n",
       "    <tr>\n",
       "      <th>4</th>\n",
       "      <td>000 manufacturing jobs</td>\n",
       "      <td>0.019316</td>\n",
       "      <td>0.000000</td>\n",
       "      <td>0.012691</td>\n",
       "      <td>0.004076</td>\n",
       "    </tr>\n",
       "    <tr>\n",
       "      <th>...</th>\n",
       "      <td>...</td>\n",
       "      <td>...</td>\n",
       "      <td>...</td>\n",
       "      <td>...</td>\n",
       "      <td>...</td>\n",
       "    </tr>\n",
       "    <tr>\n",
       "      <th>14413</th>\n",
       "      <td>zoe shout dress</td>\n",
       "      <td>0.001409</td>\n",
       "      <td>0.002864</td>\n",
       "      <td>0.000000</td>\n",
       "      <td>0.001342</td>\n",
       "    </tr>\n",
       "    <tr>\n",
       "      <th>14414</th>\n",
       "      <td>zones demanded american</td>\n",
       "      <td>0.000000</td>\n",
       "      <td>0.000000</td>\n",
       "      <td>0.000000</td>\n",
       "      <td>0.005932</td>\n",
       "    </tr>\n",
       "    <tr>\n",
       "      <th>14415</th>\n",
       "      <td>zones jobs investment</td>\n",
       "      <td>0.000000</td>\n",
       "      <td>0.000000</td>\n",
       "      <td>0.000000</td>\n",
       "      <td>0.005930</td>\n",
       "    </tr>\n",
       "    <tr>\n",
       "      <th>14416</th>\n",
       "      <td>zoom right right</td>\n",
       "      <td>0.001409</td>\n",
       "      <td>0.002864</td>\n",
       "      <td>0.000000</td>\n",
       "      <td>0.001342</td>\n",
       "    </tr>\n",
       "    <tr>\n",
       "      <th>14417</th>\n",
       "      <td>zoz kid jean</td>\n",
       "      <td>0.001409</td>\n",
       "      <td>0.002864</td>\n",
       "      <td>0.000000</td>\n",
       "      <td>0.001342</td>\n",
       "    </tr>\n",
       "  </tbody>\n",
       "</table>\n",
       "<p>14418 rows × 5 columns</p>\n",
       "</div>"
      ],
      "text/plain": [
       "_speaker                    index     biden    harris     pence     trump\n",
       "0           000 african americans  0.000000  0.000000  0.000000  0.007060\n",
       "1              000 criminals onto  0.000000  0.000000  0.000000  0.006645\n",
       "2                000 gang members  0.000000  0.000000  0.000000  0.009829\n",
       "3                  000 jobs right  0.000000  0.000000  0.008774  0.001312\n",
       "4          000 manufacturing jobs  0.019316  0.000000  0.012691  0.004076\n",
       "...                           ...       ...       ...       ...       ...\n",
       "14413             zoe shout dress  0.001409  0.002864  0.000000  0.001342\n",
       "14414     zones demanded american  0.000000  0.000000  0.000000  0.005932\n",
       "14415       zones jobs investment  0.000000  0.000000  0.000000  0.005930\n",
       "14416            zoom right right  0.001409  0.002864  0.000000  0.001342\n",
       "14417                zoz kid jean  0.001409  0.002864  0.000000  0.001342\n",
       "\n",
       "[14418 rows x 5 columns]"
      ]
     },
     "execution_count": 211,
     "metadata": {},
     "output_type": "execute_result"
    }
   ],
   "source": [
    "tfidf_speaker"
   ]
  },
  {
   "cell_type": "code",
   "execution_count": 70,
   "metadata": {},
   "outputs": [
    {
     "data": {
      "text/html": [
       "<div>\n",
       "<style scoped>\n",
       "    .dataframe tbody tr th:only-of-type {\n",
       "        vertical-align: middle;\n",
       "    }\n",
       "\n",
       "    .dataframe tbody tr th {\n",
       "        vertical-align: top;\n",
       "    }\n",
       "\n",
       "    .dataframe thead th {\n",
       "        text-align: right;\n",
       "    }\n",
       "</style>\n",
       "<table border=\"1\" class=\"dataframe\">\n",
       "  <thead>\n",
       "    <tr style=\"text-align: right;\">\n",
       "      <th></th>\n",
       "      <th>biden</th>\n",
       "      <th>trump</th>\n",
       "      <th>harris</th>\n",
       "      <th>pence</th>\n",
       "    </tr>\n",
       "  </thead>\n",
       "  <tbody>\n",
       "    <tr>\n",
       "      <th>0</th>\n",
       "      <td>build back better</td>\n",
       "      <td>late term abortion</td>\n",
       "      <td>affordable care act</td>\n",
       "      <td>president donald trump</td>\n",
       "    </tr>\n",
       "    <tr>\n",
       "      <th>1</th>\n",
       "      <td>god protect troops</td>\n",
       "      <td>we're going win</td>\n",
       "      <td>people south carolina</td>\n",
       "      <td>years president donald</td>\n",
       "    </tr>\n",
       "    <tr>\n",
       "      <th>2</th>\n",
       "      <td>may god protect</td>\n",
       "      <td>thank much thank</td>\n",
       "      <td>criminal justice reform</td>\n",
       "      <td>donald trump white</td>\n",
       "    </tr>\n",
       "    <tr>\n",
       "      <th>3</th>\n",
       "      <td>bless may god</td>\n",
       "      <td>done great job</td>\n",
       "      <td>bring us together</td>\n",
       "      <td>trump white house</td>\n",
       "    </tr>\n",
       "    <tr>\n",
       "      <th>4</th>\n",
       "      <td>god bless may</td>\n",
       "      <td>thank thank much</td>\n",
       "      <td>know i'm saying</td>\n",
       "      <td>four years means</td>\n",
       "    </tr>\n",
       "    <tr>\n",
       "      <th>5</th>\n",
       "      <td>battle soul nation</td>\n",
       "      <td>billions billions dollars</td>\n",
       "      <td>like know like</td>\n",
       "      <td>four years president</td>\n",
       "    </tr>\n",
       "    <tr>\n",
       "      <th>6</th>\n",
       "      <td>beat donald trump</td>\n",
       "      <td>sleepy joe biden</td>\n",
       "      <td>president trump party</td>\n",
       "      <td>stand president donald</td>\n",
       "    </tr>\n",
       "    <tr>\n",
       "      <th>7</th>\n",
       "      <td>hope history rhyme</td>\n",
       "      <td>make america great</td>\n",
       "      <td>equal justice law.</td>\n",
       "      <td>need four years</td>\n",
       "    </tr>\n",
       "    <tr>\n",
       "      <th>8</th>\n",
       "      <td>mr. vice president</td>\n",
       "      <td>air force one</td>\n",
       "      <td>black lives matter</td>\n",
       "      <td>trump president stands</td>\n",
       "    </tr>\n",
       "    <tr>\n",
       "      <th>9</th>\n",
       "      <td>there's single thing</td>\n",
       "      <td>short period time</td>\n",
       "      <td>criminal justice system</td>\n",
       "      <td>i'm proud report</td>\n",
       "    </tr>\n",
       "  </tbody>\n",
       "</table>\n",
       "</div>"
      ],
      "text/plain": [
       "                  biden                      trump                   harris  \\\n",
       "0     build back better         late term abortion      affordable care act   \n",
       "1    god protect troops            we're going win    people south carolina   \n",
       "2       may god protect           thank much thank  criminal justice reform   \n",
       "3         bless may god             done great job        bring us together   \n",
       "4         god bless may           thank thank much          know i'm saying   \n",
       "5    battle soul nation  billions billions dollars           like know like   \n",
       "6     beat donald trump           sleepy joe biden    president trump party   \n",
       "7    hope history rhyme         make america great       equal justice law.   \n",
       "8    mr. vice president              air force one       black lives matter   \n",
       "9  there's single thing          short period time  criminal justice system   \n",
       "\n",
       "                    pence  \n",
       "0  president donald trump  \n",
       "1  years president donald  \n",
       "2      donald trump white  \n",
       "3       trump white house  \n",
       "4        four years means  \n",
       "5    four years president  \n",
       "6  stand president donald  \n",
       "7         need four years  \n",
       "8  trump president stands  \n",
       "9        i'm proud report  "
      ]
     },
     "execution_count": 70,
     "metadata": {},
     "output_type": "execute_result"
    }
   ],
   "source": [
    "# key phrases - a score for which terms each speaker uses that the others don't.\n",
    "tfidf_speaker['biden2'] = tfidf_speaker.biden - (tfidf_speaker.harris + tfidf_speaker.pence + tfidf_speaker.trump)\n",
    "tfidf_speaker['trump2'] = tfidf_speaker.trump - (tfidf_speaker.harris + tfidf_speaker.pence + tfidf_speaker.biden)\n",
    "tfidf_speaker['harris2'] = tfidf_speaker.harris - (tfidf_speaker.trump + tfidf_speaker.pence + tfidf_speaker.biden)\n",
    "tfidf_speaker['pence2'] = tfidf_speaker.pence - (tfidf_speaker.harris + tfidf_speaker.trump + tfidf_speaker.biden)\n",
    "\n",
    "top10 = pd.DataFrame(tfidf_speaker.sort_values('biden2', ascending=False).head(10)[['index']].values)\n",
    "top10.columns = ['biden']\n",
    "top10['trump'] = tfidf_speaker.sort_values('trump2', ascending=False).head(10)[['index']].values\n",
    "top10['harris'] = tfidf_speaker.sort_values('harris2', ascending=False).head(10)[['index']].values\n",
    "top10['pence'] = tfidf_speaker.sort_values('pence2', ascending=False).head(10)[['index']].values\n",
    "top10"
   ]
  },
  {
   "cell_type": "code",
   "execution_count": null,
   "metadata": {},
   "outputs": [],
   "source": []
  }
 ],
 "metadata": {
  "kernelspec": {
   "display_name": "Python 3",
   "language": "python",
   "name": "python3"
  },
  "language_info": {
   "codemirror_mode": {
    "name": "ipython",
    "version": 3
   },
   "file_extension": ".py",
   "mimetype": "text/x-python",
   "name": "python",
   "nbconvert_exporter": "python",
   "pygments_lexer": "ipython3",
   "version": "3.8.3"
  }
 },
 "nbformat": 4,
 "nbformat_minor": 4
}
