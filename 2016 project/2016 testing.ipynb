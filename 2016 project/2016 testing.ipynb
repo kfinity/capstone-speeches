{
 "cells": [
  {
   "cell_type": "code",
   "execution_count": 1,
   "metadata": {},
   "outputs": [],
   "source": [
    "import pandas as pd"
   ]
  },
  {
   "cell_type": "code",
   "execution_count": 2,
   "metadata": {},
   "outputs": [],
   "source": [
    "df = pd.read_json('data/ucsb_speeches_2016.json')"
   ]
  },
  {
   "cell_type": "code",
   "execution_count": 3,
   "metadata": {},
   "outputs": [],
   "source": [
    "df = df.reset_index().drop(columns=['index'])"
   ]
  },
  {
   "cell_type": "code",
   "execution_count": 4,
   "metadata": {},
   "outputs": [
    {
     "data": {
      "text/plain": [
       "'\\nThis is amazing. What a great place. Thank you very much. We have thousands of people outside trying to get in. But we should start. Do we agree? [applause]\\nWe should start. So they\\'ll come in. They\\'ll come in.\\nFirst of all I want to thank you. Special, special place. It\\'s a special place with incredible people. In one day, do you believe this? One day we are going to win the great state of North Carolina... [applause]\\nAnd we are going to win back the White House. [applause]\\nThis election will decide whether we are ruled by a corrupt political class. You\\'re seeing what\\'s happening. Everybody\\'s watching. Or whether we are ruled by the people. We\\'re going to be ruled by the people, folks. [applause]\\nThat is going to be the choice. A failed political establishment has delivered nothing but poverty, nothing but problems, nothing but losses. Nothing but losses. We don\\'t win anymore as a country. We\\'re going to start winning again. [applause]\\nThey get rich by making America poorer in many cases. It\\'s time to reject the media and political elite that has bled our country dry. [applause]\\nAnd these are among the most dishonest people. They don\\'t give you the truth, folks. They don\\'t give you the truth. [booing]\\nThey rarely give you the truth. You know it. And they know it. That\\'s the scary part. They know it.\\nIt\\'s time to fight for America. I\\'m not a politician, I can say proudly. My only special interest is you. It\\'s you. [applause]\\nWe\\'re going to bring back the jobs that have been stolen from you. We\\'re going to bring back the wealth that has been taken from our country. We\\'re going to bring back the miners and the factory workers and the steel workers. We\\'re going to put them back to work. [applause]\\nThe economic policies of Bill and Hillary Clinton have destroyed manufacturing in your state and throughout the entire country.\\nThe corrupt Clintons gave us NAFTA. China\\'s too horrible entry into the World Trade Organization. One of the disasters. The job-killing deal with South Korea. That was a Hillary Clinton beauty. And the Trans-Pacific Partnership, which will be a total disaster. [booing]\\nThat Hillary Clinton said this is the gold standard. And you know what? It is the gold -- she lied. She lied during the debate. She said -- hey, by the way, who won the debate? Did we win that debate? [applause]\\nBut she lied during the debate. She lied during the debate. She said it\\'s the gold standard. And then she said she never said it.\\nDon\\'t worry about coal. We\\'re bringing back coal, sir. He\\'s holding up a couple of...[applause]\\nClean coal. Clean coal. Right? We\\'re going to do clean coal, the miners. The miners are going to be back. Not if Hillary Clinton gets in. The miners, I guess you got to start thinking about something else. But the miners are going to be back. Clean coal. Clean coal\\nYou know, thinking about it, though. Also, people, the press doesn\\'t talk about it. Donna Brazile gets the questions through a debate...[booing]...but then it turns out to be a number of debates. [booing]\\nWho cares about Donna Brazile? She\\'s turned out to be not what people thought. She gets, illegally -- illegally. She gets the questions to the debate. She then takes those questions and gives them to crooked Hillary Clinton. [booing]\\nNow, does crooked Hillary report it? Does she say I shouldn\\'t have these questions or these answers? I think they gave them the answers also, right? No, she doesn\\'t. They doesn\\'t.\\nI wonder if she had -- I wonder if she had the questions in my debates. I don\\'t think so because she didn\\'t do that well. I don\\'t think so. I don\\'t think so. But the years of betrayal will end. And they will end. And they\\'re going to end quickly. They\\'re going to end as of the day we take office, which is going to be very, very soon. [applause]\\nThe theft of North Carolina jobs will end. You\\'ve taken in harder than most states.\\nReal change begins with immediately repealing and replacing Obamacare. [applause]\\nSadly, it\\'s just been announced that the residents of North Carolina are going to experience massive double-digit premium hikes. Ninety-five...[booing]...of the 100 North Carolina counties will only have one insurer in the Obamacare exchange next year. Lots of luck negotiating.\\nHonestly, it\\'s not going to matter because we\\'re going to win and we\\'re going to terminate it. You\\'re going to have such great health care...[applause]...for much less money. It won\\'t matter. [applause]\\nPremiums are searching. Companies are leaving. Insurers are fleeing. Doctors are quitting.\\nBy the way, doctors, they\\'re leaving. They\\'re quitting. I have a friend who\\'s a doctor. He said that I have more accountants than I have nurses, it\\'s so complicated.\\nAnd deductibles are going through the roof. Yet Hillary Clinton wants to double down and expand Obamacare and make it even more expensive. [booing]\\nI\\'m asking for your vote so we can repeal and replace Obamacare, and save health care for every family in North Carolina. [applause]\\nThank you. Thank you.\\nThank you. [applause]\\nPeople are pouring in, folks. They\\'re pouring in.\\nDid you see last night in Michigan the crowd we had? And the crowd we had -- by the way, how about 24,000 maybe 25,000 right next to Fort Brag. You saw that the other night. [applause]\\nAnd we went to Minnesota. Minnesota\\'s been treated very, very badly. We went to Minnesota where we\\'re doing very well. Everyone said why Minnesota? That doesn\\'t go Republican. It\\'s going Republican this year, I\\'ll tell you. Minnesota. Great place.\\nAnd you know, you\\'ve been watching and you\\'ve been seeing and these people are being driven crazy, the dishonest media. We\\'re winning Ohio. We\\'re winning Iowa. We\\'re winning, we think, New Hampshire. We\\'re going to do great in New Hampshire. I hear we\\'re winning North Carolina big... [applause]\\nI hear.\\nWe\\'re winning Florida. We\\'re winning Florida, doing really well. Headlines today are on drudge. how well we\\'re doing in Florida. And I think we\\'re going to win the great state of Pennsylvania, I do.\\nThen we\\'re winning plenty of other places. So we have to go. The big key, you have to go. You don\\'t win a rigged system, folks. We\\'re in a rigged system. You got to go. You got to vote. Got to make sure that vote gets registered.\\nReal change also means restoring honesty to our government\\nThank you. Thank you. Wow. Great, great spirit.\\nI have a job right next to -- we have a beautiful, beautiful property right next to -- right near Charlotte. You know about it, folks? It\\'s great right? Some of the people. But it\\'s an amazing place. It\\'s an amazing place to work and to live, and we love it.\\nHillary Clinton is the most corrupt person ever to seek the office of the presidency of the United States. [booing]\\nShe threatened national security, she sold her office to the highest bidder. And then to cover her tracks...[booing]...she deleted 33,000 emails after receiving a congressional subpoena, nothing happens to her. Nothing happens [booing]\\nShe\\'s being protected by a totally rigged system -- General James Cartwright. A four-star general. Two weeks ago probably going to jail for up to five years for doing nothing by comparison. But he said he did it for national security reasons and I can understand that. Go to jail for up to five years. General betrayes, his life was destroyed and here she is she is running for president 25 times worse than anybody has ever dreamt. It\\'s a rigged system. It is a rigged rigged system. [booing]\\nDon\\'t worry, folks. The cameras will never spin around and show this crowd. They never do. They show my face and the two people behind me, not the thousands behind me. They never do. They never do. [applause] [booing]\\nSo dishonest. There they are. There they are. My group. Women for Trump. [applause]\\nWomen for Trump. [applause]\\nThey\\'ve been following me, these ladies, for a long time. How are we doing? Are we doing well?\\nGreat people. Women for Trump.\\nAnd now it\\'s up to the American people to deliver the justice that we deserve at the ballot box tomorrow. At the ballot box. We\\'re going to win.\\nI think it\\'s a great way of showing what we have to show in light of what\\'s going on with justice in this country. I really do. I think it\\'s a great way. You show it tomorrow. We show it tomorrow.\\nMy contract with the American voter begins with a plan to end government corruption and to take our country back from the special interests. [applause]\\nAnd folks, I was on the other side for a long time. It\\'s a very good place to be. But I love the country. I love this country. I\\'ve really gotten to love the people of this country because I have been everywhere. We have the greatest people on earth. But I love this country.\\nAnd I couldn\\'t watch it when they made the Iran deal. They gave them $150 billion, a terrorist state. [booing]\\nA state that was ready to collapse until we made them rich and powerful. We gave them a path to nuclear weapons. They were ready to collapse. We gave them, remember, $400 billion, right? We gave them $400 million. Then we found out that was -- it wasn\\'t $400 million. It was $1.7 billion in cash. In cash. Do you know what $1.7 billion in cash is? You could take that whole side of the arena and you wouldn\\'t have enough room. How stupid are we to allow this to happen? Our leaders are incompetent. President Obama is campaigning today with Hillary Clinton because she can\\'t campaign. [booing]\\nShe can\\'t campaign. [booing]\\nSo Obama is taking Air Force One, which costs a fortune. You know he\\'s very much into the environment. And he\\'ll take a massive, old engine 747. Very much into the environment. Very much into the ozone layer. And yet he\\'ll fly that 747 all over the place to campaign for crooked Hillary.\\nAnd I don\\'t think it\\'s going to work. And she\\'s not getting any crowds. So she gets Beyonce and Jay-Z. I like them. [booing]\\nI like them. [booing]\\nAnd you know what they do? I get bigger crowds than they do. [applause]\\nIt\\'s true. I get far bigger crowds. [applause]\\nLook at this place. I mean, look at the crowds we had in Michigan.\\nBy the way, Michigan is in play. It hasn\\'t been in play for Republicans for 30 something years. Michigan is in play because they\\'re tired of watching their car factories be taken out. They\\'re tired of losing their jobs to Mexico.\\nFord. Ford right now moved all of its small car production to Mexico. They\\'re building the biggest plants in the world in Mexico. And Michigan has been complaining about it for five years to Mexico. [applause]\\nNo, we\\'re going to have some -- tomorrow\\'s going to be a very historic day. I really believe that. I think it\\'s going to show -- I think it\\'s going to be a Brexit plus, plus, plus. Does that make sense? [applause]\\nPlus, plus, plus. [applause]\\nIt will be amazing. It will be amazing.\\nI want the entire corrupt Washington establishment to hear the words we\\'re all about to say. This is a phrase, I told you. I didn\\'t like it. I thought it was hokie. But it\\'s not hokie. It\\'s called \"drain the swamp.\"\\nWe\\'re going to go to Washington. We\\'re going to drain the swamp. Can\\'t believe it.\\nI told the story. I hated that expression. I said no way I\\'m going to say that, no way. That\\'s so hokie. And I said it. The place went crazy.\\nThen I said it to another place. It went crazier. Then I said it with more confidence because you know confidence is -- and it went wild. Now I love the expression. I think it was genius.\\nDrain the swamp. Drain the swamp. [laughter]\\nIs there any place better to be than a Trump rally? Are we having fun? [applause]\\nAre we having fun? No? And I don\\'t have a guitar. And I don\\'t have a piano. All we have is great concepts for our country, which is the most important thing. Because frankly, when people get on stage, and they\\'re entertainers, and they entertain in order to get people to fill up a room for Hillary Clinton.\\nAnd by the way, they use the dirtiest language the other night. And it was -- many of the people left. You know they\\'re political people. They heard words they\\'ve never heard before. They left.\\nSo the place was half empty by the time -- actually, it never got full, even with them. Then it was pretty much empty midway through. And then most of the people just left. And when Hillary got up there was practically -- she might as well just have started with a few people. It would\\'ve been easier. [laughter]\\nBut you know she hears those words. I won\\'t use the words. I won\\'t even address the words. Because if I do the crooked media will say \"did you hear what Donald Trump said today?\" [booing]\\nBut honestly -- yes. [booing]\\nThose words were disgusting. If I ever said those words that Jay-Z said or that Beyonce said the other night, you know what would happen to me? The reinstitution of the electric chair.\\nIt would be -- how about if I got the answers to the debate? Or if I got the questions? Supposing instead of Hillary getting the questions to the debate, which is cheating. She\\'s a cheat. She is a cheat. She never reported it. She is a cheat.\\nSo supposing instead of her -- supposing somebody gave Donald Trump the questions to the debate. Headlines all over the world. He must withdraw from the race. You don\\'t even hear anything about crooked Hillary. She got the questions.\\nTo me that\\'s such a big difference. Some people say, my people, oh don\\'t mention that, it\\'s just -- I say to me it\\'s a big deal.\\nIt\\'s a big deal. But it\\'s not a big deal for the dishonest media to say. They don\\'t want to report it. But just think about it, supposing it was us.\\nAt the core of my contract is my plan to bring back our jobs. Bring them back to America. [applause]\\nAnd by the way, you have a great governor. Support your governor. He\\'s a great guy. [applause] Where is he? He\\'s here someplace. He\\'s a great guy and he\\'s in a tough fight. And he\\'s going to win that fight. But he\\'s a great guy. So hopefully you\\'ll support your governor.\\nNorth Carolina has lost nearly half of its manufacturing jobs since NAFTA, a deal signed by Bill Clinton and his lovely wife, Hillary. [booing]\\nWell think of it. Think of it. Think of the numbers of jobs.\\nHere\\'s the one that gets me the most. Two things get me the most. Two things that just don\\'t seem real. Because we\\'re going to take care of our veterans, right? Like big league. Because our veterans are great.\\nBut two statistics I can\\'t believe. Twenty-two suicides a day for our veterans.\\nThink of it. You wouldn\\'t think that\\'s possible. Because they\\'re treated so badly. They wait on line for six, seven, eight days for simple procedure that could solve their problem or for a prescription.\\nBut two numbers I don\\'t -- it just doesn\\'t make sense. Twenty- two suicides a day for our veterans. OK? It doesn\\'t make sense.\\nAnd here\\'s another one. America has lost 70,000 factories. Now I thought they meant 700 or 7,000 maybe. It\\'s 70,000 factories since China entered the World Trade Organization, another Bill and Hillary Clinton-backed disaster.\\nThink of it though. [booing]\\nThink of what 70,000 factories is.\\nSo those are the two numbers. They just don\\'t seem to be real. Sad numbers. Sad numbers. Especially the vets, to be honest with you.\\nWe\\'re living through the greatest jobs theft in the history of our world. There\\'s never been anything happened to a country like has been happening to the United States. Our jobs are fleeing. Our companies are being taken. And leaving. And leaving.\\nA Trump administration will stop the jobs from leaving America. And we will stop the jobs from leaving North Carolina. Believe me. [applause]\\nIf a company wants to fire their workers and leave, as an example North Carolina, and move to another country, and then ship their products back into the United States through what will be a very strong border, by the way.\\nWe will make them pay a 35 percent tax on every product that they ship back here. [applause]\\nAnd here\\'s what\\'s going to happen. They\\'re not going to leave. They\\'re not going to leave.\\nNow your politicians, some of them don\\'t understand it. Some only cut taxes for the middle class. And by the way, Hillary Clinton wants to raise your taxes, and you know that [booing]\\nSubstantially.\\nSo one of the highest taxes in the world, she wants to raise your taxes. Same old story.\\nWe will unleash the power of American energy including shale, oil, natural gas and clean coal. Our plan will end the EPA intrusion into your family farms, and stop double taxation of a family farm at that. [applause]\\nWe will cancel billions in global warming payments to the United Nations. Billions and billions of dollars. And we have no idea what they do with that money. I actually have a pretty good idea. You\\'re not going to like it. And use that -- we\\'re going to use that money to rebuild the infrastructure of our country. [applause]\\nAnd we will rebuild our inner cities. The African-American community, the Hispanic community...[applause]...have had such lies told to them. They live -- many, many people living in the inner cities of our country, they\\'re getting worse and worse. The crime is unbelievable. You can\\'t walk to the store and get a loaf of bread. Often you get shot.\\nChicago. Thousands and thousands of shootings since Jan. 1. You read it. The murder rate of the United States is the highest it\\'s been in 45 years. The dishonest media doesn\\'t tell you that stuff because they want you to like Obama. They want you to think Obama is doing a good job. And he\\'s not. [booing] And he\\'s not. [booing]\\nAnd he\\'s not. [booing]\\nSo you live in the inner cities. You\\'re African-American. You\\'re Hispanic. The schools are no good. There are no jobs. And it\\'s totally unsafe. And I say I will fix it. What the hell do you have to lose? I\\'m going to fix it. [applause]\\nWe are all going to fix it. [applause]\\nWe\\'re going to fix it. We\\'re going to bring back jobs. We\\'re going to bring back safety. And we\\'re going to get really good education going. There is tremendous potential, folks, in the inner cities, believe me, tremendous potential.\\nWe will become a rich nation again. But to be a rich nation, we must also be a safe nation. Hillary Clinton wants a 550 percent increase in Syrian refugees flowing into our country. [booing]\\nUnbelievable. It\\'s unbelievable. [booing]\\nHer plan will import generations of terrorism, extremism and radicalism into your schools and throughout your communities. And you don\\'t even know where they\\'re going. Your government doesn\\'t even know where they\\'re going.\\nWhen I\\'m elected president, we will suspend the Syrian refugee program...[applause]...and we will keep radical Islamic terrorists the hell out of our country. [applause]\\nHave no choice. [applause]\\nWe have no choice.\\nAUDIENCE: USA. USA. USA.\\nTRUMP: We have no choice.\\nBut we\\'re going to work because we all have hearts and it\\'s a big problem, caused to a large extent by Obama and Hillary Clinton.\\nThe migration, caused to a large extent -- ISIS was caused by them. They left a big vacuum. There was no ISIS when she first served as secretary. There was no ISIS. She created it.\\nNow she stands at the debate, \"I will fight ISIS.\" She\\'s got no chance. She\\'s going to fight nobody. She wants to go home and go to sleep. [laughter]\\nUnbelievable. She\\'s going to fight ISIS.\\nSo we\\'re going to build -- we\\'re going to build, we are going to build safe havens. We\\'re going to have the Gulf States who have nothing but money, they\\'re going to pay for it. We have $20 trillion in debt. And if it\\'s OK, I\\'m not going to spend a penny. We have $20 trillion in debt. And we still have to rebuild our country.\\nYou know it\\'s one thing like when you buy a company and it\\'s got some debt. We have $20 trillion in debt. But the country\\'s a mess. The roads are bad. The bridges are bad. The schools are bad. The hospitals are bad. The tunnels are bad. Everything\\'s bad. The military needs massive amounts of money.\\nSo we have all this horrible debt. It\\'s one thing if we had it and everything\\'s in tippy top shape. I like to say. You know I like the properties. Give me them. I want them. Give me them. But we have them and they\\'re a mess. And we have $20 trillion, which is far too much.\\nSo we\\'re going to get it down. And we\\'re going to rebuild our country. We have so many things we\\'re going to be doing. We\\'re going to be a rich nation again. [applause]\\nA Trump administration will also secure and defend the borders of the United States. [applause]\\nAnd yes, we will build a great wall and Mexico will pay for the wall 100 percent. [applause]\\nOne hundred percent. [applause]\\nMexico will pay. If you look at the incredible -- if you look at the incredible deficits we have with Mexico, it\\'s unbelievable. What we have, the cost of that wall is peanuts, is peanuts compared to the numbers you\\'re talking about on trade with Mexico.\\nAnd the numbers with China? Trade deficit? I mean we will have a trade deficit with China of close to $500 billion this year. We are going to lose in worldwide trade of goods, we\\'re going to lose worldwide close to $800 billion. What are we doing?\\nYou really ask, who is negotiating these deals? Where do these people come? You know where they come from? They\\'re political hacks.\\nYou\\'re dealing with the smartest people in the world. You have Chinese people, every -- you have from Japan, you have from all these other countries. They put their smartest and the best. We put political hacks that don\\'t know what they\\'re doing.\\nSo we have an -- and we have the greatest in the world. We have the greatest business people. We have the greatest negotiators. We don\\'t use them. We don\\'t use them. We use political people. Some of them got their job because they give campaign contributions. [booing]\\nWe\\'re going to get it straightened out, folks, starting tomorrow. Go vote. Go vote. [applause]\\nRight?\\nMy women. Hillary supports totally open borders. There goes your country. And strongly supports sanctuary cities like San Francisco where Kate Steinle was murdered violently by an illegal immigrant deported at least five times. We will cancel all federal funding to sanctuary cities. [applause]\\nWe will stop illegal immigration, deport all criminal aliens and dismantle every last criminal gang and cartel threatening our citizens. [applause]\\nWe will also repeal the Obama-Clinton Defense sequester, and rebuild our badly depleted military. [applause]\\nThere have been few times in our history where we\\'ve needed it more, few times. North Carolina will be at the very center of this effort with brand new advanced fighters flying from Seymour Johnson Air Force Base. [applause]\\nBeautiful. Beautiful. Beautiful, beautiful new fighters from Seymour Johnson.\\nAnd we\\'re going to have more battalions. You know the Marines are way, way off in terms of numbers. You know that. I know. Has there ever been? Yes, there have been. But rarely do we have times when we need this strong presence like now. The world hates us. The world hates us.\\nSo we\\'re going to increase -- thank you. We\\'re going to increase Marine battalions at Camp Lejeune. I\\'ve been to Camp Lejeune...[applause]\\nThey make major new investments. Where I was the other night, right next to it. I guess like 25,000 or 27,000 people at Fort Bragg. [applause]\\nGreat people. All soldiers are tough. A couple of them shook my hand. It was like oy, whoa. Take it easy, fellas. They are tough cookies. They are strong. They don\\'t know how strong they are. These are great people.\\nAnd new military technologies will be researched and developed right here at the Research Triangle. Right here. [applause]\\nI\\'m honored to have the endorsements of more than 200 top admirals and generals, and 22 Medal of Honor recipients. And every day those numbers go up big league. Big league. Show Less Text\\nAnd I asked some of the generals and admirals the other night by Fort Bragg. I asked them. I said fellas, let me ask you a question. They want to take over Mosul. Am I getting something wrong? Whatever happened to the element of surprise for us?\\nI\\'m talking to admirals now and generals. That\\'s what they do. I do other things. But you know it\\'s called like common sense.\\nYou got to say we\\'ve made a lot of right calls. I said why is it that four months away from going into Mosul they\\'re announcing \"we are going into Mosul?\" We\\'re going into Mosul because we want to get the leaders of ISIS and they\\'re staying in Mosul. And then three months they\\'re saying \"we are going in, in three months to Mosul.\" And then we\\'re going in, in two months.\\nAnd every time I hear, I put my hands, I go like this. I don\\'t want to hear this, please. And as you know, they\\'ve been met with tremendous resistance, much more than they would\\'ve been\\nAnd I guarantee you this. I can\\'t say it with certainty, only about 99.9 percent, OK? I can\\'t say -- nothing\\'s 100 percent. Even our victory isn\\'t 100 percent. But it\\'s starting to look pretty close, isn\\'t it? [applause]\\nThose numbers. Those numbers. [applause]\\nOh, these guys are unhappy. Look at them. They\\'re not happy. They are unhappy campers. Starting to look good. [booing]\\nStarting to look good.\\nBut wouldn\\'t it be nice if instead of announcing four months ago and there months ago. Then they have last -- two weeks ago they go next week we\\'re getting ready to raid.\\nThe leaders all left. They\\'re gone. And the other people are putting up much more of a fight. Horrible. They\\'re using human shields. It\\'s a horrible situation. I mean it\\'s hell. It\\'s hell.\\nBut why do we just watch what\\'s going on. Hillary and her failed establishment have trillion dollars on wars in the Middle East that we never win. We just keep fighting and fighting. It\\'s like a hose. The money just keeps pouring out. We never win.\\nAnd now the Middle East is in worse shape by far than it\\'s ever been. We have the Great Migration, the whole thing. They\\'ve dragged -- thank you. [applause]\\nI don\\'t even want to look. I\\'ll get myself. I don\\'t want to look. [laughter]\\nThey\\'ll make it -- I won\\'t even say I love you too because they\\'re going to make it a major headline if I said that. World\\'s most dishonest people. The world\\'s really dishonest people. [booing]\\nThey dragged us into foreign wars that have made us less safe. Shipped our jobs and wealth all over -- right open at home. You ever notice we send these incredible troops, so much death, so much injury, in order to create a border for a country that most people have never even heard of. And yet we don\\'t protect our own borders. Isn\\'t it an incredible thing?\\nThat will change starting tomorrow. [applause]\\nBecause from now on it\\'s going to be America first, America first. [applause]\\nSo just in summing up, to all Americans I say it\\'s time for a real leadership and time for change. We have to have change. [applause]\\nCan you imagine having Hillary for four years? [booing]\\nI\\'m being serious about that. I wouldn\\'t want to watch the news every night.\\nI mean look at what she\\'s done with the e-mails as an example. I mean did you ever see a mess like this? Did you ever see -- of course the FBI -- the director was obviously under tremendous pressure. So they went through 650,000 e-mails in eight days. Right.\\nSo sad what\\'s going on. And she still deleted them after getting a subpoena from Congress. I mean that\\'s a crime. What happened? That\\'s a crime. You don\\'t even need the new stuff. She shouldn\\'t be allowed to run. Shouldn\\'t be allowed to run.\\nJust think about what we can accomplish in the first 100 days of a Trump administration. [applause]\\nWe\\'re going to have the biggest tax cuts since Ronald Reagan.\\nAnd Hillary is going to raise your taxes substantially.\\nWe\\'re going to save and protect your Social Security and Medicare. [applause]\\nAnd Hillary is going to cut your Social Security and really injure Medicare. That\\'s what\\'s going to happen.\\nWe will eliminate every unnecessary, job-killing regulation. We\\'ll cancel every illegal Obama executive order. [applause]\\nBy the way, a man that loves this state. It\\'s his birthday today. Billy Graham, 98. [applause]\\nThe father of Franklin. Billy Graham. What a great one, right? Ninety-eight years old. He is a fantastic man. Franklin\\'s a fantastic man. And it\\'s so wonderful to have support of people like that.\\nWe\\'re going to protect religious liberty...[applause]...rebuild our military and take care of our great veterans. We\\'re going to take care of our veterans. [applause]\\nWe will provide school choice and put an end to Common Core. We move our education locally. [applause]\\nWe will support the men and women -- these are great people, the men and women of law enforcement. [applause]\\nWe\\'re going to save our Second Amendment. [applause]\\nAnd appoint justices to the United States Supreme Court who will uphold and defend the Constitution of the United States. [applause]\\nThis sounds so good to me because I started this on June 16th of last year because I couldn\\'t stand when I looked at what was going on with our country, I couldn\\'t stand it. I couldn\\'t stand it.\\nComing down the escalator, right, with Melania. Coming down that escalator June 16 of last year. And they were all saying -- there were all the dishonest pundits. Actually a few of them thought I had a hell of a chance if you want to know the -- the smarter ones. But they were all saying but he\\'s not involved with -- I\\'ve been involved with politics all my life, on the other side. But I\\'ve been involved.\\nWe had 17 people -- by the way, one of the great people in here tonight, Mike Huckabee. Where is Mike Huckabee? [applause]\\nHe\\'s such -- is he here someplace? He is here. He is so great. Mike, wherever you are, come on out because you are great. I just saw him.\\nBut we had 17 people of great talent. Ben Carson endorsed us. Mike...[applause]\\nMike endorsed us. Tremendous -- I mean very talented people. And one by one by one -- and they used to say -- well I remember we were down to like 13 or 14. In one state I got 49 percent. And one of these clowns said \"he has not reached the 50 percent mark.\" I got 49 percent with like 14 people. How do you get 49 percent with 14 people? And they said he hasn\\'t reached the 50 percent mark. They\\'re very dishonest people.\\nSo we ended up with 17 people, right? Don\\'t forget that\\'s hard because nobody else ever had a field that big or that violent, or that violent.\\nAnd we have a couple that didn\\'t endorse and that\\'s too bad. You know they signed a pledge. They didn\\'t honor it. But...[booing]\\nBut -- no. But for the most part...[booing]\\nNo. For the most part they were very honorable. But it was rough. They said it was the roughest primary every. I would say this is the roughest election.\\nYou know the NFL ratings are way down. You know why? Because everyone\\'s watching this. It\\'s actually tougher. It\\'s actually tougher. [applause]\\nEveryone\\'s watching. The NFL ratings are way down. A lot of people say it\\'s because of this.\\nSo you had 17 people. You\\'ve came down -- but we\\'ve got -- and this is a tribute to everybody in this room. We got the highest number of voters in the history of the Republican primary system. [applause]\\nSo well done. [applause]\\nThat\\'s a long time. You know, starting with Honest Abe Lincoln, right. That\\'s a long time. I got more than Honest Abe. That\\'s really the only thing I did better than Honest Abe. Honest Abe was pretty -- he was pretty good.\\nSo here\\'s the beauty. You have one day until the election. And it\\'s not even one day. It\\'s a half a day. To make every dream you\\'ve ever dreamed for your country and for your family to come true. You have one magnificent chance. And honestly, in four years it\\'s over, folks.\\nThere has never been a movement like this. Even these dishonest people in the media say there has never -- Bill O\\'Reilly. He said it\\'s the single greatest political phenomena that he\\'s witnessed in his life. That\\'s a pretty good statement. [applause]\\nBut others have said it. Others have said it. Others have said it. And it\\'s not going to happen again. It won\\'t be able to happen again. Four years it\\'ll never happen. So you got to get out there and you got to vote. Got to get out.\\nSomebody said what you\\'ve done has never been done before. It doesn\\'t matter if you win or lose. I said believe me, it matters. No, they said that. It\\'ll be down in the history books. I said you know what? You may be right about that.\\nBut if we don\\'t win I will consider this the single greatest waste of time, energy. Wow do I -- you need energy for this. The single greatest waste of time, energy and money.\\nI have over $100 million. That\\'s a lot of money that I don\\'t take in from the special interests because I don\\'t need it. That\\'s nice.\\nAnd we have the biggest Internet -- you know the small donors? The small donors are giving us money at record clips. I think we had $82 million and then we had close to $100 million. And it comes in. And I think the average was like $61 each. I love those people. Those are people that love this country. [applause]\\nAnd usually that\\'s for the Democrats. You know in all fairness, that\\'s usually for the Democrats to do that. But we\\'re beating everybody. Nobody\\'s seen anything like what we\\'re doing.\\nSo we don\\'t want to blow it. We don\\'t want to waste it. Go vote. Go vote. Because believe me, if we don\\'t win, all of us, honestly we\\'ve all wasted our time, I\\'ll be honest. Because nothing\\'s going to happen.\\nThey may say good things about us as a movement. Won\\'t mean a damn thing, folks. You got to go out. We got to vote and we got to win. Change. [applause]\\nChange.\\nSo you have one magnificent chance to beat the corrupt system that you\\'re witnessing today, and to deliver justice for every forgotten man and woman and child in this nation. Do not let this opportunity slip away. We\\'re fighting for every citizen who believes that government should serve the people, not the donors and not the special interests. [applause]\\nAnd we\\'re fighting, we\\'re fighting to bring us all together as Americans. We\\'re a very divided country. People don\\'t realize we are an unbelievably divided country. We\\'re going to come together.\\nJust imagine what our country could accomplish if we started working together as one people under one God, saluting one American flag. [applause]\\nJust imagine.\\nI\\'m asking you to dream big because with your vote we are just one day away from the change you\\'ve been waiting for, for your entire life. [applause]\\nBecause if we win tomorrow, we will be able to make America wealthy again, to make America strong again, to make America safe again, and to make America great again.\\nGod bless you, everybody. [applause]\\nThank you. God bless you. Thank you, North Carolina. [applause]\\nThank you, folks. Thank you. [applause]\\n'"
      ]
     },
     "execution_count": 4,
     "metadata": {},
     "output_type": "execute_result"
    }
   ],
   "source": [
    "df.loc[31]['transcript']"
   ]
  },
  {
   "cell_type": "code",
   "execution_count": 5,
   "metadata": {},
   "outputs": [
    {
     "data": {
      "text/html": [
       "<div>\n",
       "<style scoped>\n",
       "    .dataframe tbody tr th:only-of-type {\n",
       "        vertical-align: middle;\n",
       "    }\n",
       "\n",
       "    .dataframe tbody tr th {\n",
       "        vertical-align: top;\n",
       "    }\n",
       "\n",
       "    .dataframe thead th {\n",
       "        text-align: right;\n",
       "    }\n",
       "</style>\n",
       "<table border=\"1\" class=\"dataframe\">\n",
       "  <thead>\n",
       "    <tr style=\"text-align: right;\">\n",
       "      <th></th>\n",
       "      <th>link</th>\n",
       "      <th>title</th>\n",
       "      <th>date</th>\n",
       "      <th>person</th>\n",
       "      <th>transcript</th>\n",
       "    </tr>\n",
       "  </thead>\n",
       "  <tbody>\n",
       "    <tr>\n",
       "      <th>0</th>\n",
       "      <td>/documents/remarks-town-hall-meeting-portsmout...</td>\n",
       "      <td>Remarks at a Town Hall Meeting in Portsmouth, ...</td>\n",
       "      <td>2015-12-29 00:00:00+00:00</td>\n",
       "      <td>Hillary Clinton</td>\n",
       "      <td>\\nCLINTON: Wow. Thank you. Thank you all. Than...</td>\n",
       "    </tr>\n",
       "    <tr>\n",
       "      <th>1</th>\n",
       "      <td>/documents/remarks-the-university-minnesota-mi...</td>\n",
       "      <td>Remarks at the University of Minnesota in Minn...</td>\n",
       "      <td>2015-12-15 00:00:00+00:00</td>\n",
       "      <td>Hillary Clinton</td>\n",
       "      <td>\\nThank you. Thank you all very much. Thank yo...</td>\n",
       "    </tr>\n",
       "    <tr>\n",
       "      <th>2</th>\n",
       "      <td>/documents/interview-with-george-stephanopoulo...</td>\n",
       "      <td>Interview with George Stephanopoulos of ABC Ne...</td>\n",
       "      <td>2015-12-06 00:00:00+00:00</td>\n",
       "      <td>Hillary Clinton</td>\n",
       "      <td>\\nSTEPHANOPOULOS: And we'll hear more on that ...</td>\n",
       "    </tr>\n",
       "    <tr>\n",
       "      <th>3</th>\n",
       "      <td>/documents/interview-with-charlie-rose</td>\n",
       "      <td>Interview with Charlie Rose</td>\n",
       "      <td>2015-12-01 00:00:00+00:00</td>\n",
       "      <td>Hillary Clinton</td>\n",
       "      <td>\\nROSE: She is a former first lady, a former s...</td>\n",
       "    </tr>\n",
       "    <tr>\n",
       "      <th>4</th>\n",
       "      <td>/documents/remarks-and-question-and-answer-ses...</td>\n",
       "      <td>Remarks and a Question and Answer Session at t...</td>\n",
       "      <td>2015-11-19 00:00:00+00:00</td>\n",
       "      <td>Hillary Clinton</td>\n",
       "      <td>\\nCLINTON: Thank you. Thank you very much. [ap...</td>\n",
       "    </tr>\n",
       "    <tr>\n",
       "      <th>...</th>\n",
       "      <td>...</td>\n",
       "      <td>...</td>\n",
       "      <td>...</td>\n",
       "      <td>...</td>\n",
       "      <td>...</td>\n",
       "    </tr>\n",
       "    <tr>\n",
       "      <th>158</th>\n",
       "      <td>/documents/interview-with-chuck-todd-nbc-news-...</td>\n",
       "      <td>Interview with Chuck Todd of NBC News \"Meet th...</td>\n",
       "      <td>2016-01-17 00:00:00+00:00</td>\n",
       "      <td>Hillary Clinton</td>\n",
       "      <td>\\nTODD: But we start with the Democrats and a ...</td>\n",
       "    </tr>\n",
       "    <tr>\n",
       "      <th>159</th>\n",
       "      <td>/documents/interview-with-jake-tapper-cnns-sta...</td>\n",
       "      <td>Interview with Jake tapper of CNN's \"State of ...</td>\n",
       "      <td>2016-01-17 00:00:00+00:00</td>\n",
       "      <td>Hillary Clinton</td>\n",
       "      <td>\\nTAPPER: We're joined right off the bat by De...</td>\n",
       "    </tr>\n",
       "    <tr>\n",
       "      <th>160</th>\n",
       "      <td>/documents/interview-with-alisyn-camerota-cnn</td>\n",
       "      <td>Interview with Alisyn Camerota of CNN</td>\n",
       "      <td>2016-01-13 00:00:00+00:00</td>\n",
       "      <td>Hillary Clinton</td>\n",
       "      <td>\\nCAMEROTA: Secretary Clinton, thanks so much ...</td>\n",
       "    </tr>\n",
       "    <tr>\n",
       "      <th>161</th>\n",
       "      <td>/documents/interview-with-john-dickerson-cbs-n...</td>\n",
       "      <td>Interview with John Dickerson of CBS News \"Fac...</td>\n",
       "      <td>2016-01-10 00:00:00+00:00</td>\n",
       "      <td>Hillary Clinton</td>\n",
       "      <td>\\nDICKERSON: We're going to get right to our l...</td>\n",
       "    </tr>\n",
       "    <tr>\n",
       "      <th>162</th>\n",
       "      <td>/documents/interview-with-chris-matthews-msnbc-1</td>\n",
       "      <td>Interview with Chris Matthews of MSNBC</td>\n",
       "      <td>2016-01-05 00:00:00+00:00</td>\n",
       "      <td>Hillary Clinton</td>\n",
       "      <td>\\nMATTHEWS: Thank you, Madam Secretary. This i...</td>\n",
       "    </tr>\n",
       "  </tbody>\n",
       "</table>\n",
       "<p>163 rows × 5 columns</p>\n",
       "</div>"
      ],
      "text/plain": [
       "                                                  link  \\\n",
       "0    /documents/remarks-town-hall-meeting-portsmout...   \n",
       "1    /documents/remarks-the-university-minnesota-mi...   \n",
       "2    /documents/interview-with-george-stephanopoulo...   \n",
       "3               /documents/interview-with-charlie-rose   \n",
       "4    /documents/remarks-and-question-and-answer-ses...   \n",
       "..                                                 ...   \n",
       "158  /documents/interview-with-chuck-todd-nbc-news-...   \n",
       "159  /documents/interview-with-jake-tapper-cnns-sta...   \n",
       "160      /documents/interview-with-alisyn-camerota-cnn   \n",
       "161  /documents/interview-with-john-dickerson-cbs-n...   \n",
       "162   /documents/interview-with-chris-matthews-msnbc-1   \n",
       "\n",
       "                                                 title  \\\n",
       "0    Remarks at a Town Hall Meeting in Portsmouth, ...   \n",
       "1    Remarks at the University of Minnesota in Minn...   \n",
       "2    Interview with George Stephanopoulos of ABC Ne...   \n",
       "3                          Interview with Charlie Rose   \n",
       "4    Remarks and a Question and Answer Session at t...   \n",
       "..                                                 ...   \n",
       "158  Interview with Chuck Todd of NBC News \"Meet th...   \n",
       "159  Interview with Jake tapper of CNN's \"State of ...   \n",
       "160              Interview with Alisyn Camerota of CNN   \n",
       "161  Interview with John Dickerson of CBS News \"Fac...   \n",
       "162             Interview with Chris Matthews of MSNBC   \n",
       "\n",
       "                         date           person  \\\n",
       "0   2015-12-29 00:00:00+00:00  Hillary Clinton   \n",
       "1   2015-12-15 00:00:00+00:00  Hillary Clinton   \n",
       "2   2015-12-06 00:00:00+00:00  Hillary Clinton   \n",
       "3   2015-12-01 00:00:00+00:00  Hillary Clinton   \n",
       "4   2015-11-19 00:00:00+00:00  Hillary Clinton   \n",
       "..                        ...              ...   \n",
       "158 2016-01-17 00:00:00+00:00  Hillary Clinton   \n",
       "159 2016-01-17 00:00:00+00:00  Hillary Clinton   \n",
       "160 2016-01-13 00:00:00+00:00  Hillary Clinton   \n",
       "161 2016-01-10 00:00:00+00:00  Hillary Clinton   \n",
       "162 2016-01-05 00:00:00+00:00  Hillary Clinton   \n",
       "\n",
       "                                            transcript  \n",
       "0    \\nCLINTON: Wow. Thank you. Thank you all. Than...  \n",
       "1    \\nThank you. Thank you all very much. Thank yo...  \n",
       "2    \\nSTEPHANOPOULOS: And we'll hear more on that ...  \n",
       "3    \\nROSE: She is a former first lady, a former s...  \n",
       "4    \\nCLINTON: Thank you. Thank you very much. [ap...  \n",
       "..                                                 ...  \n",
       "158  \\nTODD: But we start with the Democrats and a ...  \n",
       "159  \\nTAPPER: We're joined right off the bat by De...  \n",
       "160  \\nCAMEROTA: Secretary Clinton, thanks so much ...  \n",
       "161  \\nDICKERSON: We're going to get right to our l...  \n",
       "162  \\nMATTHEWS: Thank you, Madam Secretary. This i...  \n",
       "\n",
       "[163 rows x 5 columns]"
      ]
     },
     "execution_count": 5,
     "metadata": {},
     "output_type": "execute_result"
    }
   ],
   "source": [
    "df"
   ]
  },
  {
   "cell_type": "code",
   "execution_count": 4,
   "metadata": {},
   "outputs": [],
   "source": [
    "dates = df.groupby(['person','date']).agg({'transcript': 'count'}).reset_index()"
   ]
  },
  {
   "cell_type": "code",
   "execution_count": 5,
   "metadata": {},
   "outputs": [],
   "source": [
    "from matplotlib import pyplot as plt"
   ]
  },
  {
   "cell_type": "code",
   "execution_count": 6,
   "metadata": {},
   "outputs": [],
   "source": [
    "dt_dates = dates[dates['person']=='Donald J. Trump'].drop(columns='person').set_index('date')\n",
    "hc_dates = dates[dates['person']=='Hillary Clinton'].drop(columns='person').set_index('date')"
   ]
  },
  {
   "cell_type": "code",
   "execution_count": 7,
   "metadata": {},
   "outputs": [],
   "source": [
    "idx = pd.date_range(min(dates.date), max(dates.date))\n",
    "#dt_dates.set_index('date')\n",
    "dt_dates = dt_dates.reindex(idx, fill_value=0)\n",
    "hc_dates = hc_dates.reindex(idx, fill_value=0)"
   ]
  },
  {
   "cell_type": "code",
   "execution_count": 11,
   "metadata": {},
   "outputs": [
    {
     "data": {
      "image/png": "[encoded data removed]",
      "text/plain": [
       "<Figure size 792x576 with 2 Axes>"
      ]
     },
     "metadata": {
      "needs_background": "light"
     },
     "output_type": "display_data"
    }
   ],
   "source": [
    "from matplotlib import dates as d\n",
    "from matplotlib.dates import AutoDateFormatter, AutoDateLocator\n",
    "import numpy as np\n",
    "#x = np.arange(0,len(idx),1)\n",
    "fig, ax = plt.subplots(2,1)\n",
    "fig.set_size_inches(11,8)\n",
    "ax[0].bar(d.date2num(idx), dt_dates['transcript'], color=\"red\")\n",
    "ax[1].bar(d.date2num(idx), hc_dates['transcript'], color=\"blue\")\n",
    "#xt = np.arange(min(d.date2num(idx)),max(d.date2num(idx)),step=14)\n",
    "#xl = [d.num2date(x).strftime('%m-%d') for x in xt]\n",
    "#ax[0].set_xticks(xt)\n",
    "#ax[1].set_xticks(xt)\n",
    "#ax[0].set_xticklabels(xl, rotation=20)\n",
    "#ax[1].set_xticklabels(xl, rotation=20)\n",
    "\n",
    "xtick_locator = AutoDateLocator()\n",
    "xtick_formatter = AutoDateFormatter(xtick_locator)\n",
    "ax[0].xaxis.set_major_locator(xtick_locator)\n",
    "ax[0].xaxis.set_major_formatter(xtick_formatter)\n",
    "ax[1].xaxis.set_major_locator(xtick_locator)\n",
    "ax[1].xaxis.set_major_formatter(xtick_formatter)\n",
    "\n",
    "ax[0].set_ylabel('Trump speeches - 75')\n",
    "ax[1].set_ylabel('Clinton speeches - 88')\n",
    "ax[0].set_title('2016 Presidential Candidate Speeches')\n",
    "plt.show()"
   ]
  },
  {
   "cell_type": "code",
   "execution_count": null,
   "metadata": {},
   "outputs": [],
   "source": []
  }
 ],
 "metadata": {
  "kernelspec": {
   "display_name": "Python 3",
   "language": "python",
   "name": "python3"
  },
  "language_info": {
   "codemirror_mode": {
    "name": "ipython",
    "version": 3
   },
   "file_extension": ".py",
   "mimetype": "text/x-python",
   "name": "python",
   "nbconvert_exporter": "python",
   "pygments_lexer": "ipython3",
   "version": "3.8.3"
  }
 },
 "nbformat": 4,
 "nbformat_minor": 4
}
