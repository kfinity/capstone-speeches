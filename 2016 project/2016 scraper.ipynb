{
 "cells": [
  {
   "cell_type": "code",
   "execution_count": 2,
   "metadata": {},
   "outputs": [],
   "source": [
    "import pandas as pd\n",
    "import requests\n",
    "from bs4 import BeautifulSoup"
   ]
  },
  {
   "cell_type": "code",
   "execution_count": 3,
   "metadata": {},
   "outputs": [],
   "source": [
    "base_url = 'https://www.presidency.ucsb.edu'\n",
    "\n",
    "init_urls = ['https://www.presidency.ucsb.edu/documents/app-categories/elections-and-transitions/campaign-documents?items_per_page=250&field_docs_start_date_time_value%5Bvalue%5D%5Bdate%5D=2015',\n",
    "             'https://www.presidency.ucsb.edu/documents/app-categories/elections-and-transitions/campaign-documents?items_per_page=250&field_docs_start_date_time_value%5Bvalue%5D%5Bdate%5D=2016']"
   ]
  },
  {
   "cell_type": "code",
   "execution_count": 4,
   "metadata": {},
   "outputs": [],
   "source": [
    "sdf = pd.DataFrame(columns=['title', 'date', 'person', 'link'])\n",
    "for u in init_urls:\n",
    "    r = requests.get(u)\n",
    "    s = BeautifulSoup(r.text, 'html.parser')\n",
    "    dates = [d.find(\"span\",attrs={'class':'date-display-single'})['content'] for d in s.find_all(\"div\",attrs={'class':'views-row'})]\n",
    "    doc_links = [d.find(\"div\",attrs={'class':'field-title'}).find(\"a\") for d in s.find_all(\"div\",attrs={'class':'views-row'})]\n",
    "    titles = [d.string for d in doc_links]\n",
    "    links = [d['href'] for d in doc_links]\n",
    "    persons = [d.find(\"div\",attrs={'class':'col-sm-4'}).find(\"a\").string for d in s.find_all(\"div\",attrs={'class':'views-row'})]\n",
    "    sdf = sdf.append(pd.DataFrame({\"title\": titles, \"date\": dates, \"person\": persons, \"link\": links}))"
   ]
  },
  {
   "cell_type": "code",
   "execution_count": 8,
   "metadata": {},
   "outputs": [],
   "source": [
    "# at this point it includes speeches by other people - Obama, Sanders\n",
    "# it also includes dates outside of the campaign season\n",
    "# to match Liu and Lei, dates should be from \"April 1, 2015 for Clinton and June 16th, 2015 for Trump\"\n",
    "# to Trump’s victory and Clinton’s concession speeches on November 9, 2016\n",
    "sdf = sdf[sdf['person'].isin(['Donald J. Trump','Hillary Clinton']) & sdf['date'].between('2015-04-01','2016-11-09')]"
   ]
  },
  {
   "cell_type": "code",
   "execution_count": 9,
   "metadata": {},
   "outputs": [],
   "source": [
    "sdf[\"transcript\"] = \"\""
   ]
  },
  {
   "cell_type": "code",
   "execution_count": 10,
   "metadata": {},
   "outputs": [],
   "source": [
    "# This will take a few minutes to download them all.\n",
    "sdf = sdf.set_index('link')\n",
    "for link in sdf.index:\n",
    "    #link = '/documents/remarks-new-york-city-accepting-election-the-45th-president-the-united-states'\n",
    "    #fname = link[11:]\n",
    "    r = requests.get(base_url + link)\n",
    "    s = BeautifulSoup(r.text, 'html.parser')\n",
    "    transcript = s.find(\"div\",attrs={'class':'field-docs-content'}).get_text()\n",
    "    sdf.at[link, \"transcript\"] = transcript\n",
    "    \n",
    "sdf = sdf.reset_index()"
   ]
  },
  {
   "cell_type": "code",
   "execution_count": 11,
   "metadata": {},
   "outputs": [],
   "source": [
    "sdf.to_json(\"data/ucsb_speeches_2016.json\")"
   ]
  },
  {
   "cell_type": "code",
   "execution_count": 12,
   "metadata": {},
   "outputs": [
    {
     "data": {
      "text/html": [
       "<div>\n",
       "<style scoped>\n",
       "    .dataframe tbody tr th:only-of-type {\n",
       "        vertical-align: middle;\n",
       "    }\n",
       "\n",
       "    .dataframe tbody tr th {\n",
       "        vertical-align: top;\n",
       "    }\n",
       "\n",
       "    .dataframe thead th {\n",
       "        text-align: right;\n",
       "    }\n",
       "</style>\n",
       "<table border=\"1\" class=\"dataframe\">\n",
       "  <thead>\n",
       "    <tr style=\"text-align: right;\">\n",
       "      <th></th>\n",
       "      <th>link</th>\n",
       "      <th>title</th>\n",
       "      <th>date</th>\n",
       "      <th>person</th>\n",
       "      <th>transcript</th>\n",
       "    </tr>\n",
       "  </thead>\n",
       "  <tbody>\n",
       "    <tr>\n",
       "      <th>0</th>\n",
       "      <td>/documents/remarks-town-hall-meeting-portsmout...</td>\n",
       "      <td>Remarks at a Town Hall Meeting in Portsmouth, ...</td>\n",
       "      <td>2015-12-29T00:00:00+00:00</td>\n",
       "      <td>Hillary Clinton</td>\n",
       "      <td>\\nCLINTON: Wow. Thank you. Thank you all. Than...</td>\n",
       "    </tr>\n",
       "    <tr>\n",
       "      <th>1</th>\n",
       "      <td>/documents/remarks-the-university-minnesota-mi...</td>\n",
       "      <td>Remarks at the University of Minnesota in Minn...</td>\n",
       "      <td>2015-12-15T00:00:00+00:00</td>\n",
       "      <td>Hillary Clinton</td>\n",
       "      <td>\\nThank you. Thank you all very much. Thank yo...</td>\n",
       "    </tr>\n",
       "    <tr>\n",
       "      <th>2</th>\n",
       "      <td>/documents/interview-with-george-stephanopoulo...</td>\n",
       "      <td>Interview with George Stephanopoulos of ABC Ne...</td>\n",
       "      <td>2015-12-06T00:00:00+00:00</td>\n",
       "      <td>Hillary Clinton</td>\n",
       "      <td>\\nSTEPHANOPOULOS: And we'll hear more on that ...</td>\n",
       "    </tr>\n",
       "    <tr>\n",
       "      <th>3</th>\n",
       "      <td>/documents/interview-with-charlie-rose</td>\n",
       "      <td>Interview with Charlie Rose</td>\n",
       "      <td>2015-12-01T00:00:00+00:00</td>\n",
       "      <td>Hillary Clinton</td>\n",
       "      <td>\\nROSE: She is a former first lady, a former s...</td>\n",
       "    </tr>\n",
       "    <tr>\n",
       "      <th>4</th>\n",
       "      <td>/documents/remarks-and-question-and-answer-ses...</td>\n",
       "      <td>Remarks and a Question and Answer Session at t...</td>\n",
       "      <td>2015-11-19T00:00:00+00:00</td>\n",
       "      <td>Hillary Clinton</td>\n",
       "      <td>\\nCLINTON: Thank you. Thank you very much. [ap...</td>\n",
       "    </tr>\n",
       "    <tr>\n",
       "      <th>...</th>\n",
       "      <td>...</td>\n",
       "      <td>...</td>\n",
       "      <td>...</td>\n",
       "      <td>...</td>\n",
       "      <td>...</td>\n",
       "    </tr>\n",
       "    <tr>\n",
       "      <th>158</th>\n",
       "      <td>/documents/interview-with-chuck-todd-nbc-news-...</td>\n",
       "      <td>Interview with Chuck Todd of NBC News \"Meet th...</td>\n",
       "      <td>2016-01-17T00:00:00+00:00</td>\n",
       "      <td>Hillary Clinton</td>\n",
       "      <td>\\nTODD: But we start with the Democrats and a ...</td>\n",
       "    </tr>\n",
       "    <tr>\n",
       "      <th>159</th>\n",
       "      <td>/documents/interview-with-jake-tapper-cnns-sta...</td>\n",
       "      <td>Interview with Jake tapper of CNN's \"State of ...</td>\n",
       "      <td>2016-01-17T00:00:00+00:00</td>\n",
       "      <td>Hillary Clinton</td>\n",
       "      <td>\\nTAPPER: We're joined right off the bat by De...</td>\n",
       "    </tr>\n",
       "    <tr>\n",
       "      <th>160</th>\n",
       "      <td>/documents/interview-with-alisyn-camerota-cnn</td>\n",
       "      <td>Interview with Alisyn Camerota of CNN</td>\n",
       "      <td>2016-01-13T00:00:00+00:00</td>\n",
       "      <td>Hillary Clinton</td>\n",
       "      <td>\\nCAMEROTA: Secretary Clinton, thanks so much ...</td>\n",
       "    </tr>\n",
       "    <tr>\n",
       "      <th>161</th>\n",
       "      <td>/documents/interview-with-john-dickerson-cbs-n...</td>\n",
       "      <td>Interview with John Dickerson of CBS News \"Fac...</td>\n",
       "      <td>2016-01-10T00:00:00+00:00</td>\n",
       "      <td>Hillary Clinton</td>\n",
       "      <td>\\nDICKERSON: We're going to get right to our l...</td>\n",
       "    </tr>\n",
       "    <tr>\n",
       "      <th>162</th>\n",
       "      <td>/documents/interview-with-chris-matthews-msnbc-1</td>\n",
       "      <td>Interview with Chris Matthews of MSNBC</td>\n",
       "      <td>2016-01-05T00:00:00+00:00</td>\n",
       "      <td>Hillary Clinton</td>\n",
       "      <td>\\nMATTHEWS: Thank you, Madam Secretary. This i...</td>\n",
       "    </tr>\n",
       "  </tbody>\n",
       "</table>\n",
       "<p>163 rows × 5 columns</p>\n",
       "</div>"
      ],
      "text/plain": [
       "                                                  link  \\\n",
       "0    /documents/remarks-town-hall-meeting-portsmout...   \n",
       "1    /documents/remarks-the-university-minnesota-mi...   \n",
       "2    /documents/interview-with-george-stephanopoulo...   \n",
       "3               /documents/interview-with-charlie-rose   \n",
       "4    /documents/remarks-and-question-and-answer-ses...   \n",
       "..                                                 ...   \n",
       "158  /documents/interview-with-chuck-todd-nbc-news-...   \n",
       "159  /documents/interview-with-jake-tapper-cnns-sta...   \n",
       "160      /documents/interview-with-alisyn-camerota-cnn   \n",
       "161  /documents/interview-with-john-dickerson-cbs-n...   \n",
       "162   /documents/interview-with-chris-matthews-msnbc-1   \n",
       "\n",
       "                                                 title  \\\n",
       "0    Remarks at a Town Hall Meeting in Portsmouth, ...   \n",
       "1    Remarks at the University of Minnesota in Minn...   \n",
       "2    Interview with George Stephanopoulos of ABC Ne...   \n",
       "3                          Interview with Charlie Rose   \n",
       "4    Remarks and a Question and Answer Session at t...   \n",
       "..                                                 ...   \n",
       "158  Interview with Chuck Todd of NBC News \"Meet th...   \n",
       "159  Interview with Jake tapper of CNN's \"State of ...   \n",
       "160              Interview with Alisyn Camerota of CNN   \n",
       "161  Interview with John Dickerson of CBS News \"Fac...   \n",
       "162             Interview with Chris Matthews of MSNBC   \n",
       "\n",
       "                          date           person  \\\n",
       "0    2015-12-29T00:00:00+00:00  Hillary Clinton   \n",
       "1    2015-12-15T00:00:00+00:00  Hillary Clinton   \n",
       "2    2015-12-06T00:00:00+00:00  Hillary Clinton   \n",
       "3    2015-12-01T00:00:00+00:00  Hillary Clinton   \n",
       "4    2015-11-19T00:00:00+00:00  Hillary Clinton   \n",
       "..                         ...              ...   \n",
       "158  2016-01-17T00:00:00+00:00  Hillary Clinton   \n",
       "159  2016-01-17T00:00:00+00:00  Hillary Clinton   \n",
       "160  2016-01-13T00:00:00+00:00  Hillary Clinton   \n",
       "161  2016-01-10T00:00:00+00:00  Hillary Clinton   \n",
       "162  2016-01-05T00:00:00+00:00  Hillary Clinton   \n",
       "\n",
       "                                            transcript  \n",
       "0    \\nCLINTON: Wow. Thank you. Thank you all. Than...  \n",
       "1    \\nThank you. Thank you all very much. Thank yo...  \n",
       "2    \\nSTEPHANOPOULOS: And we'll hear more on that ...  \n",
       "3    \\nROSE: She is a former first lady, a former s...  \n",
       "4    \\nCLINTON: Thank you. Thank you very much. [ap...  \n",
       "..                                                 ...  \n",
       "158  \\nTODD: But we start with the Democrats and a ...  \n",
       "159  \\nTAPPER: We're joined right off the bat by De...  \n",
       "160  \\nCAMEROTA: Secretary Clinton, thanks so much ...  \n",
       "161  \\nDICKERSON: We're going to get right to our l...  \n",
       "162  \\nMATTHEWS: Thank you, Madam Secretary. This i...  \n",
       "\n",
       "[163 rows x 5 columns]"
      ]
     },
     "execution_count": 12,
     "metadata": {},
     "output_type": "execute_result"
    }
   ],
   "source": [
    "sdf"
   ]
  },
  {
   "cell_type": "code",
   "execution_count": 1,
   "metadata": {},
   "outputs": [
    {
     "data": {
      "text/plain": [
       "'Specifically, the Clinton cor-\\npus contains 89 scripts with a total of 286,899 words while the\\nTrump corpus includes 74 scripts with a total of 276,212 words.'"
      ]
     },
     "execution_count": 1,
     "metadata": {},
     "output_type": "execute_result"
    }
   ],
   "source": [
    "#Liu and Lei: \n",
    "\"\"\"Specifically, the Clinton corpus contains 89 scripts with a total of 286,899 words while the\n",
    "Trump corpus includes 74 scripts with a total of 276,212 words.\"\"\""
   ]
  },
  {
   "cell_type": "code",
   "execution_count": 13,
   "metadata": {},
   "outputs": [
    {
     "data": {
      "text/html": [
       "<div>\n",
       "<style scoped>\n",
       "    .dataframe tbody tr th:only-of-type {\n",
       "        vertical-align: middle;\n",
       "    }\n",
       "\n",
       "    .dataframe tbody tr th {\n",
       "        vertical-align: top;\n",
       "    }\n",
       "\n",
       "    .dataframe thead th {\n",
       "        text-align: right;\n",
       "    }\n",
       "</style>\n",
       "<table border=\"1\" class=\"dataframe\">\n",
       "  <thead>\n",
       "    <tr style=\"text-align: right;\">\n",
       "      <th></th>\n",
       "      <th>link</th>\n",
       "      <th>title</th>\n",
       "      <th>date</th>\n",
       "      <th>transcript</th>\n",
       "    </tr>\n",
       "    <tr>\n",
       "      <th>person</th>\n",
       "      <th></th>\n",
       "      <th></th>\n",
       "      <th></th>\n",
       "      <th></th>\n",
       "    </tr>\n",
       "  </thead>\n",
       "  <tbody>\n",
       "    <tr>\n",
       "      <th>Donald J. Trump</th>\n",
       "      <td>75</td>\n",
       "      <td>75</td>\n",
       "      <td>75</td>\n",
       "      <td>75</td>\n",
       "    </tr>\n",
       "    <tr>\n",
       "      <th>Hillary Clinton</th>\n",
       "      <td>88</td>\n",
       "      <td>88</td>\n",
       "      <td>88</td>\n",
       "      <td>88</td>\n",
       "    </tr>\n",
       "  </tbody>\n",
       "</table>\n",
       "</div>"
      ],
      "text/plain": [
       "                 link  title  date  transcript\n",
       "person                                        \n",
       "Donald J. Trump    75     75    75          75\n",
       "Hillary Clinton    88     88    88          88"
      ]
     },
     "execution_count": 13,
     "metadata": {},
     "output_type": "execute_result"
    }
   ],
   "source": [
    "sdf.groupby('person').count()"
   ]
  },
  {
   "cell_type": "code",
   "execution_count": null,
   "metadata": {},
   "outputs": [],
   "source": [
    "# Not identical, but close enough that we should get similar results."
   ]
  }
 ],
 "metadata": {
  "kernelspec": {
   "display_name": "Python 3",
   "language": "python",
   "name": "python3"
  },
  "language_info": {
   "codemirror_mode": {
    "name": "ipython",
    "version": 3
   },
   "file_extension": ".py",
   "mimetype": "text/x-python",
   "name": "python",
   "nbconvert_exporter": "python",
   "pygments_lexer": "ipython3",
   "version": "3.8.3"
  }
 },
 "nbformat": 4,
 "nbformat_minor": 4
}
