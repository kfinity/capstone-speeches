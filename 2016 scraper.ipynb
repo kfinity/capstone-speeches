{
 "cells": [
  {
   "cell_type": "code",
   "execution_count": 5,
   "metadata": {},
   "outputs": [],
   "source": [
    "import pandas as pd\n",
    "import requests\n",
    "from bs4 import BeautifulSoup"
   ]
  },
  {
   "cell_type": "code",
   "execution_count": 21,
   "metadata": {},
   "outputs": [],
   "source": [
    "base_url = 'https://www.presidency.ucsb.edu'\n",
    "# to match Liu and Lei, dates should be from \"April 1, 2015 for Clinton and June 16th, 2015 for Trump\"\n",
    "# to Trump’s victory and Clinton’s concession speeches on November 9, 2016\n",
    "init_url = 'https://www.presidency.ucsb.edu/documents/app-categories/elections-and-transitions/campaign-documents?items_per_page=250&field_docs_start_date_time_value%5Bvalue%5D%5Bdate%5D=2016'"
   ]
  },
  {
   "cell_type": "code",
   "execution_count": 22,
   "metadata": {},
   "outputs": [],
   "source": [
    "r = requests.get(init_url)\n",
    "s = BeautifulSoup(r.text, 'html.parser')"
   ]
  },
  {
   "cell_type": "code",
   "execution_count": 23,
   "metadata": {},
   "outputs": [],
   "source": [
    "dates = [d.find(\"span\",attrs={'class':'date-display-single'})['content'] for d in s.find_all(\"div\",attrs={'class':'views-row'})]\n",
    "doc_links = [d.find(\"div\",attrs={'class':'field-title'}).find(\"a\") for d in s.find_all(\"div\",attrs={'class':'views-row'})]\n",
    "titles = [d.string for d in doc_links]\n",
    "links = [d['href'] for d in doc_links]\n",
    "persons = [d.find(\"div\",attrs={'class':'col-sm-4'}).find(\"a\").string for d in s.find_all(\"div\",attrs={'class':'views-row'})]"
   ]
  },
  {
   "cell_type": "code",
   "execution_count": 27,
   "metadata": {},
   "outputs": [],
   "source": [
    "sdf = pd.DataFrame({\"title\": titles, \"date\": dates, \"person\": persons, \"link\": links})"
   ]
  },
  {
   "cell_type": "code",
   "execution_count": 40,
   "metadata": {},
   "outputs": [],
   "source": [
    "sdf[\"transcript\"] = \"\""
   ]
  },
  {
   "cell_type": "code",
   "execution_count": 48,
   "metadata": {},
   "outputs": [],
   "source": [
    "# This will take a few minutes to download them all.\n",
    "sdf = sdf.set_index('link')\n",
    "for link in links:\n",
    "    #link = '/documents/remarks-new-york-city-accepting-election-the-45th-president-the-united-states'\n",
    "    #fname = link[11:]\n",
    "    r = requests.get(base_url + link)\n",
    "    s = BeautifulSoup(r.text, 'html.parser')\n",
    "    transcript = s.find(\"div\",attrs={'class':'field-docs-content'}).get_text()\n",
    "    sdf.at[link, \"transcript\"] = transcript\n",
    "    \n",
    "sdf = sdf.reset_index()"
   ]
  },
  {
   "cell_type": "code",
   "execution_count": 50,
   "metadata": {},
   "outputs": [],
   "source": [
    "# at this point it includes speeches by other people - Obama, Sanders\n",
    "# it also includes dates outside of the campaign season\n",
    "#sdf.to_json(\"data/ucsb_speeches_2016_all.json\")"
   ]
  },
  {
   "cell_type": "code",
   "execution_count": 60,
   "metadata": {},
   "outputs": [],
   "source": [
    "# this cuts the number of transcripts about in half\n",
    "sdf = sdf[sdf['person'].isin(['Donald J. Trump','Hillary Clinton']) & sdf['date'].between('2016-07-28','2016-11-08')]"
   ]
  },
  {
   "cell_type": "code",
   "execution_count": 61,
   "metadata": {},
   "outputs": [],
   "source": [
    "sdf.to_json(\"data/ucsb_speeches_2016.json\")"
   ]
  },
  {
   "cell_type": "code",
   "execution_count": 62,
   "metadata": {},
   "outputs": [
    {
     "data": {
      "text/html": [
       "<div>\n",
       "<style scoped>\n",
       "    .dataframe tbody tr th:only-of-type {\n",
       "        vertical-align: middle;\n",
       "    }\n",
       "\n",
       "    .dataframe tbody tr th {\n",
       "        vertical-align: top;\n",
       "    }\n",
       "\n",
       "    .dataframe thead th {\n",
       "        text-align: right;\n",
       "    }\n",
       "</style>\n",
       "<table border=\"1\" class=\"dataframe\">\n",
       "  <thead>\n",
       "    <tr style=\"text-align: right;\">\n",
       "      <th></th>\n",
       "      <th>link</th>\n",
       "      <th>title</th>\n",
       "      <th>date</th>\n",
       "      <th>person</th>\n",
       "      <th>transcript</th>\n",
       "    </tr>\n",
       "  </thead>\n",
       "  <tbody>\n",
       "    <tr>\n",
       "      <th>2</th>\n",
       "      <td>/documents/remarks-grand-valley-state-universi...</td>\n",
       "      <td>Remarks at Grand Valley State University in Gr...</td>\n",
       "      <td>2016-11-07T00:00:00+00:00</td>\n",
       "      <td>Hillary Clinton</td>\n",
       "      <td>\\nHello Grand Valley! Thank you! Thank you.\\nI...</td>\n",
       "    </tr>\n",
       "    <tr>\n",
       "      <th>3</th>\n",
       "      <td>/documents/remarks-js-dorton-arena-raleigh-nor...</td>\n",
       "      <td>Remarks at J.S Dorton Arena in Raleigh, North ...</td>\n",
       "      <td>2016-11-07T00:00:00+00:00</td>\n",
       "      <td>Donald J. Trump</td>\n",
       "      <td>\\nThis is amazing. What a great place. Thank y...</td>\n",
       "    </tr>\n",
       "    <tr>\n",
       "      <th>4</th>\n",
       "      <td>/documents/remarks-north-carolina-state-univer...</td>\n",
       "      <td>Remarks at North Carolina State University in ...</td>\n",
       "      <td>2016-11-07T00:00:00+00:00</td>\n",
       "      <td>Hillary Clinton</td>\n",
       "      <td>\\nThank you all! Whoa! Thank you! Thank you. W...</td>\n",
       "    </tr>\n",
       "    <tr>\n",
       "      <th>5</th>\n",
       "      <td>/documents/remarks-the-university-pittsburgh</td>\n",
       "      <td>Remarks at the University of Pittsburgh</td>\n",
       "      <td>2016-11-07T00:00:00+00:00</td>\n",
       "      <td>Hillary Clinton</td>\n",
       "      <td>\\nHello, Pittsburgh! Woah! Hello back there!\\n...</td>\n",
       "    </tr>\n",
       "    <tr>\n",
       "      <th>6</th>\n",
       "      <td>/documents/remarks-eastern-market-detroit-mich...</td>\n",
       "      <td>Remarks at Eastern Market in Detroit, Michigan</td>\n",
       "      <td>2016-11-04T00:00:00+00:00</td>\n",
       "      <td>Hillary Clinton</td>\n",
       "      <td>\\nHello Detroit! Thank you! I'll tell you, I a...</td>\n",
       "    </tr>\n",
       "    <tr>\n",
       "      <th>...</th>\n",
       "      <td>...</td>\n",
       "      <td>...</td>\n",
       "      <td>...</td>\n",
       "      <td>...</td>\n",
       "      <td>...</td>\n",
       "    </tr>\n",
       "    <tr>\n",
       "      <th>103</th>\n",
       "      <td>/documents/remarks-erie-insurance-arena-erie-p...</td>\n",
       "      <td>Remarks at Erie Insurance Arena in Erie, Penns...</td>\n",
       "      <td>2016-08-12T00:00:00+00:00</td>\n",
       "      <td>Donald J. Trump</td>\n",
       "      <td>\\nThank you. Thank you, everybody. Thank you. ...</td>\n",
       "    </tr>\n",
       "    <tr>\n",
       "      <th>104</th>\n",
       "      <td>/documents/remarks-rally-the-university-north-...</td>\n",
       "      <td>Remarks at a Rally at the University of North ...</td>\n",
       "      <td>2016-08-09T00:00:00+00:00</td>\n",
       "      <td>Donald J. Trump</td>\n",
       "      <td>\\nThank you. Thank you very much. [applause] T...</td>\n",
       "    </tr>\n",
       "    <tr>\n",
       "      <th>105</th>\n",
       "      <td>/documents/remarks-the-detroit-economic-club-1</td>\n",
       "      <td>Remarks to the Detroit Economic Club</td>\n",
       "      <td>2016-08-08T00:00:00+00:00</td>\n",
       "      <td>Donald J. Trump</td>\n",
       "      <td>\\nThank you for the invitation to speak to you...</td>\n",
       "    </tr>\n",
       "    <tr>\n",
       "      <th>106</th>\n",
       "      <td>/documents/remarks-the-ki-convention-center-gr...</td>\n",
       "      <td>Remarks at the KI Convention Center in Green B...</td>\n",
       "      <td>2016-08-05T00:00:00+00:00</td>\n",
       "      <td>Donald J. Trump</td>\n",
       "      <td>\\nSo how good is he? How good is he? [applause...</td>\n",
       "    </tr>\n",
       "    <tr>\n",
       "      <th>107</th>\n",
       "      <td>/documents/address-accepting-the-presidential-...</td>\n",
       "      <td>Address Accepting the Presidential Nomination ...</td>\n",
       "      <td>2016-07-28T00:00:00+00:00</td>\n",
       "      <td>Hillary Clinton</td>\n",
       "      <td>\\nThank you all very, very much! Thank you for...</td>\n",
       "    </tr>\n",
       "  </tbody>\n",
       "</table>\n",
       "<p>101 rows × 5 columns</p>\n",
       "</div>"
      ],
      "text/plain": [
       "                                                  link  \\\n",
       "2    /documents/remarks-grand-valley-state-universi...   \n",
       "3    /documents/remarks-js-dorton-arena-raleigh-nor...   \n",
       "4    /documents/remarks-north-carolina-state-univer...   \n",
       "5         /documents/remarks-the-university-pittsburgh   \n",
       "6    /documents/remarks-eastern-market-detroit-mich...   \n",
       "..                                                 ...   \n",
       "103  /documents/remarks-erie-insurance-arena-erie-p...   \n",
       "104  /documents/remarks-rally-the-university-north-...   \n",
       "105     /documents/remarks-the-detroit-economic-club-1   \n",
       "106  /documents/remarks-the-ki-convention-center-gr...   \n",
       "107  /documents/address-accepting-the-presidential-...   \n",
       "\n",
       "                                                 title  \\\n",
       "2    Remarks at Grand Valley State University in Gr...   \n",
       "3    Remarks at J.S Dorton Arena in Raleigh, North ...   \n",
       "4    Remarks at North Carolina State University in ...   \n",
       "5              Remarks at the University of Pittsburgh   \n",
       "6       Remarks at Eastern Market in Detroit, Michigan   \n",
       "..                                                 ...   \n",
       "103  Remarks at Erie Insurance Arena in Erie, Penns...   \n",
       "104  Remarks at a Rally at the University of North ...   \n",
       "105               Remarks to the Detroit Economic Club   \n",
       "106  Remarks at the KI Convention Center in Green B...   \n",
       "107  Address Accepting the Presidential Nomination ...   \n",
       "\n",
       "                          date           person  \\\n",
       "2    2016-11-07T00:00:00+00:00  Hillary Clinton   \n",
       "3    2016-11-07T00:00:00+00:00  Donald J. Trump   \n",
       "4    2016-11-07T00:00:00+00:00  Hillary Clinton   \n",
       "5    2016-11-07T00:00:00+00:00  Hillary Clinton   \n",
       "6    2016-11-04T00:00:00+00:00  Hillary Clinton   \n",
       "..                         ...              ...   \n",
       "103  2016-08-12T00:00:00+00:00  Donald J. Trump   \n",
       "104  2016-08-09T00:00:00+00:00  Donald J. Trump   \n",
       "105  2016-08-08T00:00:00+00:00  Donald J. Trump   \n",
       "106  2016-08-05T00:00:00+00:00  Donald J. Trump   \n",
       "107  2016-07-28T00:00:00+00:00  Hillary Clinton   \n",
       "\n",
       "                                            transcript  \n",
       "2    \\nHello Grand Valley! Thank you! Thank you.\\nI...  \n",
       "3    \\nThis is amazing. What a great place. Thank y...  \n",
       "4    \\nThank you all! Whoa! Thank you! Thank you. W...  \n",
       "5    \\nHello, Pittsburgh! Woah! Hello back there!\\n...  \n",
       "6    \\nHello Detroit! Thank you! I'll tell you, I a...  \n",
       "..                                                 ...  \n",
       "103  \\nThank you. Thank you, everybody. Thank you. ...  \n",
       "104  \\nThank you. Thank you very much. [applause] T...  \n",
       "105  \\nThank you for the invitation to speak to you...  \n",
       "106  \\nSo how good is he? How good is he? [applause...  \n",
       "107  \\nThank you all very, very much! Thank you for...  \n",
       "\n",
       "[101 rows x 5 columns]"
      ]
     },
     "execution_count": 62,
     "metadata": {},
     "output_type": "execute_result"
    }
   ],
   "source": [
    "sdf"
   ]
  },
  {
   "cell_type": "code",
   "execution_count": 1,
   "metadata": {},
   "outputs": [
    {
     "data": {
      "text/plain": [
       "'Specifically, the Clinton cor-\\npus contains 89 scripts with a total of 286,899 words while the\\nTrump corpus includes 74 scripts with a total of 276,212 words.'"
      ]
     },
     "execution_count": 1,
     "metadata": {},
     "output_type": "execute_result"
    }
   ],
   "source": [
    "#Liu and Lei: \n",
    "\"\"\"Specifically, the Clinton corpus contains 89 scripts with a total of 286,899 words while the\n",
    "Trump corpus includes 74 scripts with a total of 276,212 words.\"\"\""
   ]
  },
  {
   "cell_type": "code",
   "execution_count": null,
   "metadata": {},
   "outputs": [],
   "source": []
  }
 ],
 "metadata": {
  "kernelspec": {
   "display_name": "Python 3",
   "language": "python",
   "name": "python3"
  },
  "language_info": {
   "codemirror_mode": {
    "name": "ipython",
    "version": 3
   },
   "file_extension": ".py",
   "mimetype": "text/x-python",
   "name": "python",
   "nbconvert_exporter": "python",
   "pygments_lexer": "ipython3",
   "version": "3.7.6"
  }
 },
 "nbformat": 4,
 "nbformat_minor": 4
}
