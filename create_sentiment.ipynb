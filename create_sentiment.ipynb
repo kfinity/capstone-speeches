{
 "cells": [
  {
   "cell_type": "code",
   "execution_count": 5,
   "metadata": {},
   "outputs": [],
   "source": [
    "# Generate a Sentiment Analysis file for the Streamlit app\n",
    "import pandas as pd\n",
    "import numpy as np\n",
    "import json\n",
    "\n",
    "# local library\n",
    "from preproc import *"
   ]
  },
  {
   "cell_type": "code",
   "execution_count": 10,
   "metadata": {},
   "outputs": [],
   "source": [
    "with open('speeches.json',encoding='utf-8') as f:\n",
    "    speeches = json.load(f)\n",
    "bow = create_bow(speeches)\n",
    "speech = bow.reset_index()"
   ]
  },
  {
   "cell_type": "code",
   "execution_count": 14,
   "metadata": {},
   "outputs": [],
   "source": [
    "salex_csv = 'StreamlitApp/salex_nrc.csv'\n",
    "nrc_cols = \"nrc_negative nrc_positive nrc_anger nrc_anticipation nrc_disgust nrc_fear nrc_joy nrc_sadness nrc_surprise nrc_trust\".split()\n",
    "emo = 'polarity'\n",
    "\n",
    "salex = pd.read_csv(salex_csv).set_index('term_str')\n",
    "salex.columns = [col.replace('nrc_','') for col in salex.columns]\n",
    "salex['polarity'] = salex.positive - salex.negative\n",
    "\n",
    "emo_cols = \"anger anticipation disgust fear joy sadness surprise trust polarity\".split()\n",
    "\n",
    "TOKEN = tokenize(speech)\n",
    "TOKEN = TOKEN.join(salex, on='term_str', how='left')\n",
    "TOKEN[emo_cols] = TOKEN[emo_cols].fillna(0)\n",
    "\n",
    "Sentiment = TOKEN.loc[speech['id']].copy()\n",
    "Sentiment = Sentiment[emo_cols].mean().sort_values()"
   ]
  },
  {
   "cell_type": "code",
   "execution_count": 15,
   "metadata": {},
   "outputs": [],
   "source": [
    "Sentiment.to_csv('StreamlitApp/sentiment.csv', index=True)"
   ]
  },
  {
   "cell_type": "code",
   "execution_count": 35,
   "metadata": {},
   "outputs": [
    {
     "data": {
      "text/plain": [
       "<matplotlib.axes._subplots.AxesSubplot at 0x7fccc983c130>"
      ]
     },
     "execution_count": 35,
     "metadata": {},
     "output_type": "execute_result"
    },
    {
     "data": {
      "image/png": "[encoded data removed]",
      "text/plain": [
       "<Figure size 432x288 with 1 Axes>"
      ]
     },
     "metadata": {
      "needs_background": "light"
     },
     "output_type": "display_data"
    }
   ],
   "source": [
    "pd.read_csv('StreamlitApp/sentiment.csv')\\\n",
    "    .rename(columns={'Unnamed: 0': 'emotion', '0': 'value'})\\\n",
    "    .set_index('emotion').plot.barh()\n"
   ]
  },
  {
   "cell_type": "code",
   "execution_count": 36,
   "metadata": {},
   "outputs": [
    {
     "data": {
      "text/plain": [
       "array(['trump', 'biden', 'harris', 'pence'], dtype=object)"
      ]
     },
     "execution_count": 36,
     "metadata": {},
     "output_type": "execute_result"
    }
   ],
   "source": [
    "speech['speaker'].unique()"
   ]
  },
  {
   "cell_type": "code",
   "execution_count": 44,
   "metadata": {},
   "outputs": [
    {
     "data": {
      "text/html": [
       "<div>\n",
       "<style scoped>\n",
       "    .dataframe tbody tr th:only-of-type {\n",
       "        vertical-align: middle;\n",
       "    }\n",
       "\n",
       "    .dataframe tbody tr th {\n",
       "        vertical-align: top;\n",
       "    }\n",
       "\n",
       "    .dataframe thead th {\n",
       "        text-align: right;\n",
       "    }\n",
       "</style>\n",
       "<table border=\"1\" class=\"dataframe\">\n",
       "  <thead>\n",
       "    <tr style=\"text-align: right;\">\n",
       "      <th></th>\n",
       "      <th>id</th>\n",
       "      <th>index</th>\n",
       "      <th>speaker</th>\n",
       "      <th>date</th>\n",
       "      <th>speech</th>\n",
       "      <th>title</th>\n",
       "      <th>transcript_type</th>\n",
       "    </tr>\n",
       "  </thead>\n",
       "  <tbody>\n",
       "    <tr>\n",
       "      <th>0</th>\n",
       "      <td>Z6N1WdJgnLo</td>\n",
       "      <td>47</td>\n",
       "      <td>biden</td>\n",
       "      <td>2019-04-29T21:04:46Z</td>\n",
       "      <td>[Applause] [Music] my name [Applause] thank yo...</td>\n",
       "      <td>Joe Biden holds first 2020 campaign rally</td>\n",
       "      <td>speech</td>\n",
       "    </tr>\n",
       "    <tr>\n",
       "      <th>1</th>\n",
       "      <td>u-AEAq7jzcU</td>\n",
       "      <td>48</td>\n",
       "      <td>biden</td>\n",
       "      <td>2019-05-18T19:53:18Z</td>\n",
       "      <td>so let's do this please welcome my husband Joe...</td>\n",
       "      <td>Joe Biden speaks during a campaign rally in Ph...</td>\n",
       "      <td>speech</td>\n",
       "    </tr>\n",
       "  </tbody>\n",
       "</table>\n",
       "</div>"
      ],
      "text/plain": [
       "            id  index speaker                  date  \\\n",
       "0  Z6N1WdJgnLo     47   biden  2019-04-29T21:04:46Z   \n",
       "1  u-AEAq7jzcU     48   biden  2019-05-18T19:53:18Z   \n",
       "\n",
       "                                              speech  \\\n",
       "0  [Applause] [Music] my name [Applause] thank yo...   \n",
       "1  so let's do this please welcome my husband Joe...   \n",
       "\n",
       "                                               title transcript_type  \n",
       "0          Joe Biden holds first 2020 campaign rally          speech  \n",
       "1  Joe Biden speaks during a campaign rally in Ph...          speech  "
      ]
     },
     "execution_count": 44,
     "metadata": {},
     "output_type": "execute_result"
    }
   ],
   "source": [
    "speech.loc[speech['speaker']=='biden',:].reset_index(drop=True).head(2)"
   ]
  },
  {
   "cell_type": "code",
   "execution_count": null,
   "metadata": {},
   "outputs": [],
   "source": []
  }
 ],
 "metadata": {
  "kernelspec": {
   "display_name": "Python 3",
   "language": "python",
   "name": "python3"
  },
  "language_info": {
   "codemirror_mode": {
    "name": "ipython",
    "version": 3
   },
   "file_extension": ".py",
   "mimetype": "text/x-python",
   "name": "python",
   "nbconvert_exporter": "python",
   "pygments_lexer": "ipython3",
   "version": "3.8.3"
  }
 },
 "nbformat": 4,
 "nbformat_minor": 4
}
