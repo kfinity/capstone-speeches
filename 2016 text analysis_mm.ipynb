{
 "cells": [
  {
   "cell_type": "code",
   "execution_count": 1,
   "metadata": {},
   "outputs": [],
   "source": [
    "import pandas as pd\n",
    "import numpy as np\n",
    "from glob import glob\n",
    "import re\n",
    "import nltk\n",
    "from sklearn.metrics import confusion_matrix"
   ]
  },
  {
   "cell_type": "code",
   "execution_count": 2,
   "metadata": {},
   "outputs": [],
   "source": [
    "ohco = ['speech_id','speaker','para_id','sent_id','token_id']"
   ]
  },
  {
   "cell_type": "code",
   "execution_count": 3,
   "metadata": {},
   "outputs": [],
   "source": [
    "df = pd.read_json('data/ucsb_speeches_2016.json')"
   ]
  },
  {
   "cell_type": "code",
   "execution_count": 4,
   "metadata": {},
   "outputs": [
    {
     "data": {
      "text/html": [
       "<div>\n",
       "<style scoped>\n",
       "    .dataframe tbody tr th:only-of-type {\n",
       "        vertical-align: middle;\n",
       "    }\n",
       "\n",
       "    .dataframe tbody tr th {\n",
       "        vertical-align: top;\n",
       "    }\n",
       "\n",
       "    .dataframe thead th {\n",
       "        text-align: right;\n",
       "    }\n",
       "</style>\n",
       "<table border=\"1\" class=\"dataframe\">\n",
       "  <thead>\n",
       "    <tr style=\"text-align: right;\">\n",
       "      <th></th>\n",
       "      <th>link</th>\n",
       "      <th>title</th>\n",
       "      <th>date</th>\n",
       "      <th>person</th>\n",
       "      <th>transcript</th>\n",
       "    </tr>\n",
       "  </thead>\n",
       "  <tbody>\n",
       "    <tr>\n",
       "      <th>0</th>\n",
       "      <td>/documents/remarks-town-hall-meeting-portsmout...</td>\n",
       "      <td>Remarks at a Town Hall Meeting in Portsmouth, ...</td>\n",
       "      <td>2015-12-29 00:00:00+00:00</td>\n",
       "      <td>Hillary Clinton</td>\n",
       "      <td>\\nCLINTON: Wow. Thank you. Thank you all. Than...</td>\n",
       "    </tr>\n",
       "    <tr>\n",
       "      <th>1</th>\n",
       "      <td>/documents/remarks-the-university-minnesota-mi...</td>\n",
       "      <td>Remarks at the University of Minnesota in Minn...</td>\n",
       "      <td>2015-12-15 00:00:00+00:00</td>\n",
       "      <td>Hillary Clinton</td>\n",
       "      <td>\\nThank you. Thank you all very much. Thank yo...</td>\n",
       "    </tr>\n",
       "    <tr>\n",
       "      <th>2</th>\n",
       "      <td>/documents/interview-with-george-stephanopoulo...</td>\n",
       "      <td>Interview with George Stephanopoulos of ABC Ne...</td>\n",
       "      <td>2015-12-06 00:00:00+00:00</td>\n",
       "      <td>Hillary Clinton</td>\n",
       "      <td>\\nSTEPHANOPOULOS: And we'll hear more on that ...</td>\n",
       "    </tr>\n",
       "    <tr>\n",
       "      <th>3</th>\n",
       "      <td>/documents/interview-with-charlie-rose</td>\n",
       "      <td>Interview with Charlie Rose</td>\n",
       "      <td>2015-12-01 00:00:00+00:00</td>\n",
       "      <td>Hillary Clinton</td>\n",
       "      <td>\\nROSE: She is a former first lady, a former s...</td>\n",
       "    </tr>\n",
       "    <tr>\n",
       "      <th>4</th>\n",
       "      <td>/documents/remarks-and-question-and-answer-ses...</td>\n",
       "      <td>Remarks and a Question and Answer Session at t...</td>\n",
       "      <td>2015-11-19 00:00:00+00:00</td>\n",
       "      <td>Hillary Clinton</td>\n",
       "      <td>\\nCLINTON: Thank you. Thank you very much. [ap...</td>\n",
       "    </tr>\n",
       "  </tbody>\n",
       "</table>\n",
       "</div>"
      ],
      "text/plain": [
       "                                                link  \\\n",
       "0  /documents/remarks-town-hall-meeting-portsmout...   \n",
       "1  /documents/remarks-the-university-minnesota-mi...   \n",
       "2  /documents/interview-with-george-stephanopoulo...   \n",
       "3             /documents/interview-with-charlie-rose   \n",
       "4  /documents/remarks-and-question-and-answer-ses...   \n",
       "\n",
       "                                               title  \\\n",
       "0  Remarks at a Town Hall Meeting in Portsmouth, ...   \n",
       "1  Remarks at the University of Minnesota in Minn...   \n",
       "2  Interview with George Stephanopoulos of ABC Ne...   \n",
       "3                        Interview with Charlie Rose   \n",
       "4  Remarks and a Question and Answer Session at t...   \n",
       "\n",
       "                       date           person  \\\n",
       "0 2015-12-29 00:00:00+00:00  Hillary Clinton   \n",
       "1 2015-12-15 00:00:00+00:00  Hillary Clinton   \n",
       "2 2015-12-06 00:00:00+00:00  Hillary Clinton   \n",
       "3 2015-12-01 00:00:00+00:00  Hillary Clinton   \n",
       "4 2015-11-19 00:00:00+00:00  Hillary Clinton   \n",
       "\n",
       "                                          transcript  \n",
       "0  \\nCLINTON: Wow. Thank you. Thank you all. Than...  \n",
       "1  \\nThank you. Thank you all very much. Thank yo...  \n",
       "2  \\nSTEPHANOPOULOS: And we'll hear more on that ...  \n",
       "3  \\nROSE: She is a former first lady, a former s...  \n",
       "4  \\nCLINTON: Thank you. Thank you very much. [ap...  "
      ]
     },
     "execution_count": 4,
     "metadata": {},
     "output_type": "execute_result"
    }
   ],
   "source": [
    "df.head()"
   ]
  },
  {
   "cell_type": "code",
   "execution_count": 5,
   "metadata": {},
   "outputs": [],
   "source": [
    "df.index.name = 'speech_id'\n",
    "library = df[['link','title','date','person']]"
   ]
  },
  {
   "cell_type": "code",
   "execution_count": 6,
   "metadata": {},
   "outputs": [],
   "source": [
    "# first OHCO level - split out speakers, using e.g. \"CLINTON:\"\n",
    "# set default speaker for each speech - we'll set the specific ones later.\n",
    "df['speaker'] = [x[1] for x in df['person'].str.upper().str.rsplit(' ',1)]"
   ]
  },
  {
   "cell_type": "code",
   "execution_count": 7,
   "metadata": {},
   "outputs": [],
   "source": [
    "df = df.reset_index().set_index(['speech_id','speaker'])"
   ]
  },
  {
   "cell_type": "code",
   "execution_count": 8,
   "metadata": {},
   "outputs": [],
   "source": [
    "# second OHCO level - split out paragraphs, using \"\\n\" as the separator (for these transcripts). \n",
    "# Remove initial/trailing whitespace, including \\n\n",
    "df = df['transcript'].str.strip().str.split(\"\\n\", expand=True)\\\n",
    "    .stack().to_frame().rename(columns={0:'para_str'})\n",
    "df.index.names = ohco[0:3]"
   ]
  },
  {
   "cell_type": "code",
   "execution_count": 9,
   "metadata": {},
   "outputs": [],
   "source": [
    "df = df.reset_index().set_index(['speech_id','para_id'])"
   ]
  },
  {
   "cell_type": "code",
   "execution_count": 10,
   "metadata": {},
   "outputs": [],
   "source": [
    "# whenever a paragraph starts with a caps name e.g. CLINTON:\n",
    "# use that as the speaker until the next caps name\n",
    "df['speaker'] = df['para_str'].str.extract(r'([A-Z]+)(:)')[0].ffill()\n",
    "# remove the non-Trump/Clinton speakers\n",
    "df = df[df['speaker'].isin(['TRUMP','CLINTON'])]"
   ]
  },
  {
   "cell_type": "code",
   "execution_count": 11,
   "metadata": {},
   "outputs": [],
   "source": [
    "df = df.reset_index().set_index(ohco[0:3])"
   ]
  },
  {
   "cell_type": "code",
   "execution_count": 12,
   "metadata": {},
   "outputs": [],
   "source": [
    "# remove the caps names\n",
    "df['para_str'] = df['para_str'].str.replace(r'[A-Z]+: ','')\n",
    "# add spaces around dashes - count them as 2 words\n",
    "df['para_str'] = df['para_str'].str.replace('—', ' — ')\\\n",
    "    .str.replace('-', ' - ')"
   ]
  },
  {
   "cell_type": "code",
   "execution_count": 13,
   "metadata": {},
   "outputs": [],
   "source": [
    "# third ohco level - sentence\n",
    "\n",
    "# Alvarado used NLTK sentence tokenizer to split sentences. \n",
    "# but let's try it the lazy way to start\n",
    "#df = df['para_str'].str.split(\"[.!?]+\", expand=True)\\\n",
    "#    .stack().to_frame().rename(columns={0:'sent_str'})\n",
    "\n",
    "# alternate method - sentence tokenizer\n",
    "df = df['para_str'].apply(lambda x: pd.Series(nltk.sent_tokenize(x)))\\\n",
    "    .stack()\\\n",
    "    .to_frame()\\\n",
    "    .rename(columns={0:'sent_str'})\n",
    "\n",
    "\n",
    "df.index.names = ohco[0:4]"
   ]
  },
  {
   "cell_type": "code",
   "execution_count": 14,
   "metadata": {},
   "outputs": [],
   "source": [
    "# drop 0-length strings (usually at end of paragraph)\n",
    "df = df[df['sent_str'].str.len() > 0]"
   ]
  },
  {
   "cell_type": "code",
   "execution_count": 15,
   "metadata": {},
   "outputs": [
    {
     "data": {
      "text/html": [
       "<div>\n",
       "<style scoped>\n",
       "    .dataframe tbody tr th:only-of-type {\n",
       "        vertical-align: middle;\n",
       "    }\n",
       "\n",
       "    .dataframe tbody tr th {\n",
       "        vertical-align: top;\n",
       "    }\n",
       "\n",
       "    .dataframe thead th {\n",
       "        text-align: right;\n",
       "    }\n",
       "</style>\n",
       "<table border=\"1\" class=\"dataframe\">\n",
       "  <thead>\n",
       "    <tr style=\"text-align: right;\">\n",
       "      <th></th>\n",
       "      <th></th>\n",
       "      <th></th>\n",
       "      <th></th>\n",
       "      <th>sent_str</th>\n",
       "    </tr>\n",
       "    <tr>\n",
       "      <th>speech_id</th>\n",
       "      <th>speaker</th>\n",
       "      <th>para_id</th>\n",
       "      <th>sent_id</th>\n",
       "      <th></th>\n",
       "    </tr>\n",
       "  </thead>\n",
       "  <tbody>\n",
       "    <tr>\n",
       "      <th rowspan=\"5\" valign=\"top\">0</th>\n",
       "      <th rowspan=\"5\" valign=\"top\">CLINTON</th>\n",
       "      <th rowspan=\"5\" valign=\"top\">0</th>\n",
       "      <th>0</th>\n",
       "      <td>Wow.</td>\n",
       "    </tr>\n",
       "    <tr>\n",
       "      <th>1</th>\n",
       "      <td>Thank you.</td>\n",
       "    </tr>\n",
       "    <tr>\n",
       "      <th>2</th>\n",
       "      <td>Thank you all.</td>\n",
       "    </tr>\n",
       "    <tr>\n",
       "      <th>3</th>\n",
       "      <td>Thank you.</td>\n",
       "    </tr>\n",
       "    <tr>\n",
       "      <th>4</th>\n",
       "      <td>I am really delighted to be here on the first ...</td>\n",
       "    </tr>\n",
       "  </tbody>\n",
       "</table>\n",
       "</div>"
      ],
      "text/plain": [
       "                                                                            sent_str\n",
       "speech_id speaker para_id sent_id                                                   \n",
       "0         CLINTON 0       0                                                     Wow.\n",
       "                          1                                               Thank you.\n",
       "                          2                                           Thank you all.\n",
       "                          3                                               Thank you.\n",
       "                          4        I am really delighted to be here on the first ..."
      ]
     },
     "execution_count": 15,
     "metadata": {},
     "output_type": "execute_result"
    }
   ],
   "source": [
    "df.head()"
   ]
  },
  {
   "cell_type": "code",
   "execution_count": 16,
   "metadata": {},
   "outputs": [],
   "source": [
    "# fourth ohco level - tokens"
   ]
  },
  {
   "cell_type": "code",
   "execution_count": 17,
   "metadata": {},
   "outputs": [],
   "source": [
    "token = df['sent_str'].apply(lambda x: pd.Series(nltk.pos_tag(nltk.WhitespaceTokenizer().tokenize(x))))\\\n",
    "    .stack().to_frame()\\\n",
    "    .rename(columns={0:'pos_tuple'})\n",
    "token['pos'] = token.pos_tuple.apply(lambda x: x[1])\n",
    "token['token_str'] = token.pos_tuple.apply(lambda x: x[0])\n",
    "token = token.drop('pos_tuple', 1)"
   ]
  },
  {
   "cell_type": "code",
   "execution_count": 18,
   "metadata": {},
   "outputs": [],
   "source": [
    "token.index.names = ohco # ok, all done"
   ]
  },
  {
   "cell_type": "code",
   "execution_count": 19,
   "metadata": {},
   "outputs": [
    {
     "data": {
      "text/html": [
       "<div>\n",
       "<style scoped>\n",
       "    .dataframe tbody tr th:only-of-type {\n",
       "        vertical-align: middle;\n",
       "    }\n",
       "\n",
       "    .dataframe tbody tr th {\n",
       "        vertical-align: top;\n",
       "    }\n",
       "\n",
       "    .dataframe thead th {\n",
       "        text-align: right;\n",
       "    }\n",
       "</style>\n",
       "<table border=\"1\" class=\"dataframe\">\n",
       "  <thead>\n",
       "    <tr style=\"text-align: right;\">\n",
       "      <th></th>\n",
       "      <th></th>\n",
       "      <th></th>\n",
       "      <th></th>\n",
       "      <th></th>\n",
       "      <th>pos</th>\n",
       "      <th>token_str</th>\n",
       "    </tr>\n",
       "    <tr>\n",
       "      <th>speech_id</th>\n",
       "      <th>speaker</th>\n",
       "      <th>para_id</th>\n",
       "      <th>sent_id</th>\n",
       "      <th>token_id</th>\n",
       "      <th></th>\n",
       "      <th></th>\n",
       "    </tr>\n",
       "  </thead>\n",
       "  <tbody>\n",
       "    <tr>\n",
       "      <th rowspan=\"5\" valign=\"top\">0</th>\n",
       "      <th rowspan=\"5\" valign=\"top\">CLINTON</th>\n",
       "      <th rowspan=\"5\" valign=\"top\">0</th>\n",
       "      <th>0</th>\n",
       "      <th>0</th>\n",
       "      <td>NN</td>\n",
       "      <td>Wow.</td>\n",
       "    </tr>\n",
       "    <tr>\n",
       "      <th rowspan=\"2\" valign=\"top\">1</th>\n",
       "      <th>0</th>\n",
       "      <td>NNP</td>\n",
       "      <td>Thank</td>\n",
       "    </tr>\n",
       "    <tr>\n",
       "      <th>1</th>\n",
       "      <td>NN</td>\n",
       "      <td>you.</td>\n",
       "    </tr>\n",
       "    <tr>\n",
       "      <th rowspan=\"2\" valign=\"top\">2</th>\n",
       "      <th>0</th>\n",
       "      <td>NNP</td>\n",
       "      <td>Thank</td>\n",
       "    </tr>\n",
       "    <tr>\n",
       "      <th>1</th>\n",
       "      <td>PRP</td>\n",
       "      <td>you</td>\n",
       "    </tr>\n",
       "  </tbody>\n",
       "</table>\n",
       "</div>"
      ],
      "text/plain": [
       "                                            pos token_str\n",
       "speech_id speaker para_id sent_id token_id               \n",
       "0         CLINTON 0       0       0          NN      Wow.\n",
       "                          1       0         NNP     Thank\n",
       "                                  1          NN      you.\n",
       "                          2       0         NNP     Thank\n",
       "                                  1         PRP       you"
      ]
     },
     "execution_count": 19,
     "metadata": {},
     "output_type": "execute_result"
    }
   ],
   "source": [
    "token.head()"
   ]
  },
  {
   "cell_type": "code",
   "execution_count": 20,
   "metadata": {},
   "outputs": [],
   "source": [
    "# Lowercase, remove non-word characters\n",
    "token['term_str'] = token['token_str'].str.lower().str.replace('[\\W_]', '')\n",
    "# drop words which consist entirely of non-word characters\n",
    "token = token[token.term_str!=''].sort_index()"
   ]
  },
  {
   "cell_type": "code",
   "execution_count": 21,
   "metadata": {},
   "outputs": [],
   "source": [
    "# testing - using stems instead of base term str\n",
    "# worse performance - 25% accuracy\n",
    "#token['term_str_orig'] = token['term_str']\n",
    "# simple stemming - add to token so it's available in everything later\n",
    "#from nltk.stem.porter import PorterStemmer\n",
    "\n",
    "#stemmer = PorterStemmer()\n",
    "#token['term_str'] = token.term_str.apply(stemmer.stem)"
   ]
  },
  {
   "cell_type": "code",
   "execution_count": 22,
   "metadata": {},
   "outputs": [],
   "source": [
    "# testing - use bigrams instead of base term str\n",
    "# even worse performance! 10% accuracy\n",
    "#token['term_str_orig'] = token['term_str']\n",
    "\n",
    "# n+1\n",
    "#token['next_term_str'] = token.groupby(ohco[:4])['term_str'].shift(-1)\n",
    "\n",
    "#token['term_str'] = (token['term_str'] + ' ' + token['next_term_str'])\n",
    "#token = token.dropna()"
   ]
  },
  {
   "cell_type": "code",
   "execution_count": null,
   "metadata": {},
   "outputs": [],
   "source": []
  },
  {
   "cell_type": "code",
   "execution_count": 23,
   "metadata": {},
   "outputs": [],
   "source": [
    "# Checkpoint\n",
    "token.to_parquet('data/token.parquet')\n",
    "library.to_parquet('data/library.parquet')"
   ]
  },
  {
   "cell_type": "code",
   "execution_count": 24,
   "metadata": {},
   "outputs": [],
   "source": [
    "# Load from checkpoint\n",
    "if 'token' not in locals():\n",
    "    token = pd.read_parquet('data/token.parquet')\n",
    "if 'library' not in locals():\n",
    "    library = pd.read_parquet('data/library.parquet')"
   ]
  },
  {
   "cell_type": "code",
   "execution_count": 25,
   "metadata": {},
   "outputs": [],
   "source": [
    "# create vocab table\n",
    "# \n",
    "vocab = token.term_str.value_counts().to_frame().rename(columns={'index':'term_str', 'term_str':'n'})\\\n",
    "    .sort_index().reset_index().rename(columns={'index':'term_str'})\n",
    "vocab.index.name = 'term_id'"
   ]
  },
  {
   "cell_type": "code",
   "execution_count": 26,
   "metadata": {},
   "outputs": [],
   "source": [
    "# add stopwords\n",
    "vocab['stop'] = 0\n",
    "vocab.loc[vocab['term_str'].isin(nltk.corpus.stopwords.words('english')),'stop'] = 1"
   ]
  },
  {
   "cell_type": "code",
   "execution_count": 27,
   "metadata": {},
   "outputs": [],
   "source": [
    "# add term rank \n",
    "if 'term_rank' not in vocab.columns:\n",
    "    vocab = vocab.sort_values('n', ascending=False).reset_index()\n",
    "    vocab.index.name = 'term_rank'\n",
    "    vocab = vocab.reset_index().set_index('term_id')\n",
    "    vocab['term_rank'] = vocab['term_rank'] + 1 # start with 1 instead of 0"
   ]
  },
  {
   "cell_type": "code",
   "execution_count": 28,
   "metadata": {},
   "outputs": [
    {
     "data": {
      "text/html": [
       "<div>\n",
       "<style scoped>\n",
       "    .dataframe tbody tr th:only-of-type {\n",
       "        vertical-align: middle;\n",
       "    }\n",
       "\n",
       "    .dataframe tbody tr th {\n",
       "        vertical-align: top;\n",
       "    }\n",
       "\n",
       "    .dataframe thead th {\n",
       "        text-align: right;\n",
       "    }\n",
       "</style>\n",
       "<table border=\"1\" class=\"dataframe\">\n",
       "  <thead>\n",
       "    <tr style=\"text-align: right;\">\n",
       "      <th></th>\n",
       "      <th>term_rank</th>\n",
       "      <th>term_str</th>\n",
       "      <th>n</th>\n",
       "      <th>stop</th>\n",
       "    </tr>\n",
       "    <tr>\n",
       "      <th>term_id</th>\n",
       "      <th></th>\n",
       "      <th></th>\n",
       "      <th></th>\n",
       "      <th></th>\n",
       "    </tr>\n",
       "  </thead>\n",
       "  <tbody>\n",
       "    <tr>\n",
       "      <th>10012</th>\n",
       "      <td>1</td>\n",
       "      <td>the</td>\n",
       "      <td>13625</td>\n",
       "      <td>1</td>\n",
       "    </tr>\n",
       "    <tr>\n",
       "      <th>10126</th>\n",
       "      <td>2</td>\n",
       "      <td>to</td>\n",
       "      <td>12744</td>\n",
       "      <td>1</td>\n",
       "    </tr>\n",
       "    <tr>\n",
       "      <th>729</th>\n",
       "      <td>3</td>\n",
       "      <td>and</td>\n",
       "      <td>12268</td>\n",
       "      <td>1</td>\n",
       "    </tr>\n",
       "    <tr>\n",
       "      <th>5103</th>\n",
       "      <td>4</td>\n",
       "      <td>i</td>\n",
       "      <td>7464</td>\n",
       "      <td>1</td>\n",
       "    </tr>\n",
       "    <tr>\n",
       "      <th>6923</th>\n",
       "      <td>5</td>\n",
       "      <td>of</td>\n",
       "      <td>6933</td>\n",
       "      <td>1</td>\n",
       "    </tr>\n",
       "  </tbody>\n",
       "</table>\n",
       "</div>"
      ],
      "text/plain": [
       "         term_rank term_str      n  stop\n",
       "term_id                                 \n",
       "10012            1      the  13625     1\n",
       "10126            2       to  12744     1\n",
       "729              3      and  12268     1\n",
       "5103             4        i   7464     1\n",
       "6923             5       of   6933     1"
      ]
     },
     "execution_count": 28,
     "metadata": {},
     "output_type": "execute_result"
    }
   ],
   "source": [
    "vocab.sort_values('n', ascending=False).head()"
   ]
  },
  {
   "cell_type": "code",
   "execution_count": 29,
   "metadata": {},
   "outputs": [],
   "source": [
    "# add term id back to token table, for easy joining\n",
    "token['term_id'] = token.term_str.map(vocab.reset_index().set_index('term_str').term_id)"
   ]
  },
  {
   "cell_type": "code",
   "execution_count": 30,
   "metadata": {},
   "outputs": [],
   "source": [
    "# Checkpoint\n",
    "vocab.to_parquet('data/vocab.parquet')"
   ]
  },
  {
   "cell_type": "markdown",
   "metadata": {},
   "source": [
    "## Create DT matrices \n",
    "(Document-Term matrix, using Bag of Words and TF-IDF)\n",
    "\n",
    "One each for Trump and Clinton"
   ]
  },
  {
   "cell_type": "code",
   "execution_count": 31,
   "metadata": {},
   "outputs": [],
   "source": [
    "# Load from checkpoint\n",
    "if 'vocab' not in locals():\n",
    "    vocab = pd.read_parquet('data/vocab.parquet')"
   ]
  },
  {
   "cell_type": "code",
   "execution_count": 32,
   "metadata": {},
   "outputs": [],
   "source": [
    "bag = ohco[:1] # bag size = 1 speech"
   ]
  },
  {
   "cell_type": "code",
   "execution_count": 33,
   "metadata": {},
   "outputs": [],
   "source": [
    "# identify stopwords\n",
    "token['stop'] = 0\n",
    "token.loc[token['term_str'].isin(nltk.corpus.stopwords.words('english')),'stop'] = 1"
   ]
  },
  {
   "cell_type": "code",
   "execution_count": 34,
   "metadata": {},
   "outputs": [],
   "source": [
    "#remove stopwords\n",
    "token=token[token.stop==0]"
   ]
  },
  {
   "cell_type": "code",
   "execution_count": 35,
   "metadata": {},
   "outputs": [],
   "source": [
    "# 100 speeches, take 20% for test set\n",
    "test_ids = np.random.choice(token.reset_index().speech_id.unique(),size=20,replace=False)"
   ]
  },
  {
   "cell_type": "code",
   "execution_count": 36,
   "metadata": {},
   "outputs": [],
   "source": [
    "token = token.reset_index().set_index('speech_id')"
   ]
  },
  {
   "cell_type": "code",
   "execution_count": 37,
   "metadata": {},
   "outputs": [],
   "source": [
    "test_token = token.loc[test_ids]\n",
    "train_token = token.loc[~token.index.isin(test_ids)]"
   ]
  },
  {
   "cell_type": "code",
   "execution_count": 38,
   "metadata": {},
   "outputs": [
    {
     "data": {
      "text/html": [
       "<div>\n",
       "<style scoped>\n",
       "    .dataframe tbody tr th:only-of-type {\n",
       "        vertical-align: middle;\n",
       "    }\n",
       "\n",
       "    .dataframe tbody tr th {\n",
       "        vertical-align: top;\n",
       "    }\n",
       "\n",
       "    .dataframe thead th {\n",
       "        text-align: right;\n",
       "    }\n",
       "</style>\n",
       "<table border=\"1\" class=\"dataframe\">\n",
       "  <thead>\n",
       "    <tr style=\"text-align: right;\">\n",
       "      <th></th>\n",
       "      <th>speaker</th>\n",
       "      <th>para_id</th>\n",
       "      <th>sent_id</th>\n",
       "      <th>token_id</th>\n",
       "      <th>pos</th>\n",
       "      <th>token_str</th>\n",
       "      <th>term_str</th>\n",
       "      <th>term_id</th>\n",
       "      <th>stop</th>\n",
       "    </tr>\n",
       "    <tr>\n",
       "      <th>speech_id</th>\n",
       "      <th></th>\n",
       "      <th></th>\n",
       "      <th></th>\n",
       "      <th></th>\n",
       "      <th></th>\n",
       "      <th></th>\n",
       "      <th></th>\n",
       "      <th></th>\n",
       "      <th></th>\n",
       "    </tr>\n",
       "  </thead>\n",
       "  <tbody>\n",
       "    <tr>\n",
       "      <th>0</th>\n",
       "      <td>CLINTON</td>\n",
       "      <td>0</td>\n",
       "      <td>0</td>\n",
       "      <td>0</td>\n",
       "      <td>NN</td>\n",
       "      <td>Wow.</td>\n",
       "      <td>wow</td>\n",
       "      <td>11049</td>\n",
       "      <td>0</td>\n",
       "    </tr>\n",
       "    <tr>\n",
       "      <th>0</th>\n",
       "      <td>CLINTON</td>\n",
       "      <td>0</td>\n",
       "      <td>1</td>\n",
       "      <td>0</td>\n",
       "      <td>NNP</td>\n",
       "      <td>Thank</td>\n",
       "      <td>thank</td>\n",
       "      <td>10001</td>\n",
       "      <td>0</td>\n",
       "    </tr>\n",
       "    <tr>\n",
       "      <th>0</th>\n",
       "      <td>CLINTON</td>\n",
       "      <td>0</td>\n",
       "      <td>2</td>\n",
       "      <td>0</td>\n",
       "      <td>NNP</td>\n",
       "      <td>Thank</td>\n",
       "      <td>thank</td>\n",
       "      <td>10001</td>\n",
       "      <td>0</td>\n",
       "    </tr>\n",
       "    <tr>\n",
       "      <th>0</th>\n",
       "      <td>CLINTON</td>\n",
       "      <td>0</td>\n",
       "      <td>3</td>\n",
       "      <td>0</td>\n",
       "      <td>NNP</td>\n",
       "      <td>Thank</td>\n",
       "      <td>thank</td>\n",
       "      <td>10001</td>\n",
       "      <td>0</td>\n",
       "    </tr>\n",
       "    <tr>\n",
       "      <th>0</th>\n",
       "      <td>CLINTON</td>\n",
       "      <td>0</td>\n",
       "      <td>4</td>\n",
       "      <td>2</td>\n",
       "      <td>RB</td>\n",
       "      <td>really</td>\n",
       "      <td>really</td>\n",
       "      <td>8151</td>\n",
       "      <td>0</td>\n",
       "    </tr>\n",
       "    <tr>\n",
       "      <th>...</th>\n",
       "      <td>...</td>\n",
       "      <td>...</td>\n",
       "      <td>...</td>\n",
       "      <td>...</td>\n",
       "      <td>...</td>\n",
       "      <td>...</td>\n",
       "      <td>...</td>\n",
       "      <td>...</td>\n",
       "      <td>...</td>\n",
       "    </tr>\n",
       "    <tr>\n",
       "      <th>162</th>\n",
       "      <td>CLINTON</td>\n",
       "      <td>273</td>\n",
       "      <td>0</td>\n",
       "      <td>0</td>\n",
       "      <td>NNP</td>\n",
       "      <td>Thank</td>\n",
       "      <td>thank</td>\n",
       "      <td>10001</td>\n",
       "      <td>0</td>\n",
       "    </tr>\n",
       "    <tr>\n",
       "      <th>162</th>\n",
       "      <td>CLINTON</td>\n",
       "      <td>273</td>\n",
       "      <td>0</td>\n",
       "      <td>3</td>\n",
       "      <td>VBP</td>\n",
       "      <td>much,</td>\n",
       "      <td>much</td>\n",
       "      <td>6637</td>\n",
       "      <td>0</td>\n",
       "    </tr>\n",
       "    <tr>\n",
       "      <th>162</th>\n",
       "      <td>CLINTON</td>\n",
       "      <td>273</td>\n",
       "      <td>0</td>\n",
       "      <td>4</td>\n",
       "      <td>NNP</td>\n",
       "      <td>Chris.</td>\n",
       "      <td>chris</td>\n",
       "      <td>1965</td>\n",
       "      <td>0</td>\n",
       "    </tr>\n",
       "    <tr>\n",
       "      <th>162</th>\n",
       "      <td>CLINTON</td>\n",
       "      <td>273</td>\n",
       "      <td>1</td>\n",
       "      <td>0</td>\n",
       "      <td>NN</td>\n",
       "      <td>Great</td>\n",
       "      <td>great</td>\n",
       "      <td>4640</td>\n",
       "      <td>0</td>\n",
       "    </tr>\n",
       "    <tr>\n",
       "      <th>162</th>\n",
       "      <td>CLINTON</td>\n",
       "      <td>273</td>\n",
       "      <td>1</td>\n",
       "      <td>2</td>\n",
       "      <td>VB</td>\n",
       "      <td>see</td>\n",
       "      <td>see</td>\n",
       "      <td>8913</td>\n",
       "      <td>0</td>\n",
       "    </tr>\n",
       "  </tbody>\n",
       "</table>\n",
       "<p>169832 rows × 9 columns</p>\n",
       "</div>"
      ],
      "text/plain": [
       "           speaker  para_id  sent_id  token_id  pos token_str term_str  \\\n",
       "speech_id                                                                \n",
       "0          CLINTON        0        0         0   NN      Wow.      wow   \n",
       "0          CLINTON        0        1         0  NNP     Thank    thank   \n",
       "0          CLINTON        0        2         0  NNP     Thank    thank   \n",
       "0          CLINTON        0        3         0  NNP     Thank    thank   \n",
       "0          CLINTON        0        4         2   RB    really   really   \n",
       "...            ...      ...      ...       ...  ...       ...      ...   \n",
       "162        CLINTON      273        0         0  NNP     Thank    thank   \n",
       "162        CLINTON      273        0         3  VBP     much,     much   \n",
       "162        CLINTON      273        0         4  NNP    Chris.    chris   \n",
       "162        CLINTON      273        1         0   NN     Great    great   \n",
       "162        CLINTON      273        1         2   VB       see      see   \n",
       "\n",
       "           term_id  stop  \n",
       "speech_id                 \n",
       "0            11049     0  \n",
       "0            10001     0  \n",
       "0            10001     0  \n",
       "0            10001     0  \n",
       "0             8151     0  \n",
       "...            ...   ...  \n",
       "162          10001     0  \n",
       "162           6637     0  \n",
       "162           1965     0  \n",
       "162           4640     0  \n",
       "162           8913     0  \n",
       "\n",
       "[169832 rows x 9 columns]"
      ]
     },
     "execution_count": 38,
     "metadata": {},
     "output_type": "execute_result"
    }
   ],
   "source": [
    "token"
   ]
  },
  {
   "cell_type": "code",
   "execution_count": 39,
   "metadata": {},
   "outputs": [],
   "source": [
    "# Split into Trump/Clinton\n",
    "clinton_train = train_token.query('speaker==\"CLINTON\"')\n",
    "trump_train = train_token.query('speaker==\"TRUMP\"')"
   ]
  },
  {
   "cell_type": "code",
   "execution_count": 40,
   "metadata": {},
   "outputs": [
    {
     "data": {
      "text/plain": [
       "[0.4878048780487805, 0.5121951219512195]"
      ]
     },
     "execution_count": 40,
     "metadata": {},
     "output_type": "execute_result"
    }
   ],
   "source": [
    "clinton_count = len(clinton_train.index.unique())\n",
    "trump_count = len(trump_train.index.unique())\n",
    "total_count = clinton_count + trump_count\n",
    "priors = [clinton_count/total_count,trump_count/total_count]\n",
    "priors"
   ]
  },
  {
   "cell_type": "code",
   "execution_count": 41,
   "metadata": {},
   "outputs": [],
   "source": [
    "def create_vocab(token, token_full, a=1):\n",
    "    # a=1 for Laplace smoothing\n",
    "    vocab = token.term_str.value_counts().to_frame().rename(columns={'index':'term_str', 'term_str':'n'})\\\n",
    "    .sort_index().reset_index().rename(columns={'index':'term_str'})\n",
    "    vocab.index.name = 'term_id'\n",
    "\n",
    "    vocab_full = token_full.term_str.value_counts().to_frame().rename(columns={'index':'term_str', 'term_str':'n'})\\\n",
    "    .sort_index().reset_index().rename(columns={'index':'term_str'})\n",
    "    vocab_full.index.name = 'term_id'\n",
    "\n",
    "    #Add all terms with a 0 for any terms not in training set\n",
    "    to_add=vocab_full[~vocab_full['term_str'].isin(vocab['term_str'])]\n",
    "    to_add['n']=0\n",
    "    vocab=vocab.append(to_add)\n",
    "\n",
    "    if 'term_rank' not in vocab.columns:\n",
    "        vocab = vocab.sort_values('n', ascending=False).reset_index()\n",
    "        vocab.index.name = 'term_rank'\n",
    "        vocab = vocab.reset_index().set_index('term_id')\n",
    "        vocab['term_rank'] = vocab['term_rank'] + 1 # start with 1 instead of 0\n",
    "    token['term_id'] = token.term_str.map(vocab.reset_index().set_index('term_str').term_id)\n",
    "    BOW = token.groupby(bag+['term_id']).term_id.count()\\\n",
    "    .to_frame().rename(columns={'term_id':'n'})\n",
    "    DTCM = BOW['n'].unstack().fillna(0).astype('int')\n",
    "    # Term frequency - normalized\n",
    "    TF = DTCM #(DTCM.T / DTCM.T.sum()).T \n",
    "    DF = DTCM[DTCM > 0].count()\n",
    "    freq=TF.sum().reset_index()\n",
    "    #freq=DTCM.sum().reset_index() #optional to get more variance in the likelihood\n",
    "    vocab['freq'] = freq[0]\n",
    "    tf = vocab.freq # term frequency \n",
    "    N = vocab.freq.sum() # sum of all term frequencies in this class\n",
    "    V = vocab[vocab.freq > 0].shape[0] # vocab size\n",
    "    # https://stackoverflow.com/questions/3704570/in-python-small-floats-tending-to-zero\n",
    "    # https://nlp.stanford.edu/IR-book/html/htmledition/naive-bayes-text-classification-1.html\n",
    "    # using the log likelihood for these reasons\n",
    "    vocab['likelihood'] = np.log((tf+a) / (N + a*V))\n",
    "    vocab.sort_values('likelihood',ascending=False)\n",
    "    return vocab"
   ]
  },
  {
   "cell_type": "code",
   "execution_count": 42,
   "metadata": {},
   "outputs": [
    {
     "name": "stderr",
     "output_type": "stream",
     "text": [
      "<ipython-input-41-3e68dfb70ced>:13: SettingWithCopyWarning: \n",
      "A value is trying to be set on a copy of a slice from a DataFrame.\n",
      "Try using .loc[row_indexer,col_indexer] = value instead\n",
      "\n",
      "See the caveats in the documentation: https://pandas.pydata.org/pandas-docs/stable/user_guide/indexing.html#returning-a-view-versus-a-copy\n",
      "  to_add['n']=0\n",
      "<ipython-input-41-3e68dfb70ced>:21: SettingWithCopyWarning: \n",
      "A value is trying to be set on a copy of a slice from a DataFrame.\n",
      "Try using .loc[row_indexer,col_indexer] = value instead\n",
      "\n",
      "See the caveats in the documentation: https://pandas.pydata.org/pandas-docs/stable/user_guide/indexing.html#returning-a-view-versus-a-copy\n",
      "  token['term_id'] = token.term_str.map(vocab.reset_index().set_index('term_str').term_id)\n"
     ]
    }
   ],
   "source": [
    "vocab_c = create_vocab(clinton_train, train_token).reset_index().set_index('term_str')\n",
    "vocab_t = create_vocab(trump_train, train_token).reset_index().set_index('term_str')"
   ]
  },
  {
   "cell_type": "code",
   "execution_count": 58,
   "metadata": {},
   "outputs": [
    {
     "data": {
      "text/html": [
       "<div>\n",
       "<style scoped>\n",
       "    .dataframe tbody tr th:only-of-type {\n",
       "        vertical-align: middle;\n",
       "    }\n",
       "\n",
       "    .dataframe tbody tr th {\n",
       "        vertical-align: top;\n",
       "    }\n",
       "\n",
       "    .dataframe thead th {\n",
       "        text-align: right;\n",
       "    }\n",
       "</style>\n",
       "<table border=\"1\" class=\"dataframe\">\n",
       "  <thead>\n",
       "    <tr style=\"text-align: right;\">\n",
       "      <th></th>\n",
       "      <th>term_id</th>\n",
       "      <th>term_rank</th>\n",
       "      <th>n</th>\n",
       "      <th>freq</th>\n",
       "      <th>likelihood</th>\n",
       "    </tr>\n",
       "    <tr>\n",
       "      <th>term_str</th>\n",
       "      <th></th>\n",
       "      <th></th>\n",
       "      <th></th>\n",
       "      <th></th>\n",
       "      <th></th>\n",
       "    </tr>\n",
       "  </thead>\n",
       "  <tbody>\n",
       "    <tr>\n",
       "      <th>know</th>\n",
       "      <td>3604</td>\n",
       "      <td>1</td>\n",
       "      <td>1018</td>\n",
       "      <td>1018.0</td>\n",
       "      <td>-4.408656</td>\n",
       "    </tr>\n",
       "    <tr>\n",
       "      <th>people</th>\n",
       "      <td>4574</td>\n",
       "      <td>2</td>\n",
       "      <td>720</td>\n",
       "      <td>720.0</td>\n",
       "      <td>-4.754594</td>\n",
       "    </tr>\n",
       "    <tr>\n",
       "      <th>going</th>\n",
       "      <td>2836</td>\n",
       "      <td>3</td>\n",
       "      <td>632</td>\n",
       "      <td>632.0</td>\n",
       "      <td>-4.884763</td>\n",
       "    </tr>\n",
       "    <tr>\n",
       "      <th>think</th>\n",
       "      <td>6304</td>\n",
       "      <td>4</td>\n",
       "      <td>588</td>\n",
       "      <td>588.0</td>\n",
       "      <td>-4.956807</td>\n",
       "    </tr>\n",
       "    <tr>\n",
       "      <th>get</th>\n",
       "      <td>2806</td>\n",
       "      <td>5</td>\n",
       "      <td>491</td>\n",
       "      <td>491.0</td>\n",
       "      <td>-5.136754</td>\n",
       "    </tr>\n",
       "    <tr>\n",
       "      <th>...</th>\n",
       "      <td>...</td>\n",
       "      <td>...</td>\n",
       "      <td>...</td>\n",
       "      <td>...</td>\n",
       "      <td>...</td>\n",
       "    </tr>\n",
       "    <tr>\n",
       "      <th>eh</th>\n",
       "      <td>3186</td>\n",
       "      <td>10051</td>\n",
       "      <td>0</td>\n",
       "      <td>3.0</td>\n",
       "      <td>-9.948939</td>\n",
       "    </tr>\n",
       "    <tr>\n",
       "      <th>eisenhower</th>\n",
       "      <td>3191</td>\n",
       "      <td>10052</td>\n",
       "      <td>0</td>\n",
       "      <td>1.0</td>\n",
       "      <td>-10.642086</td>\n",
       "    </tr>\n",
       "    <tr>\n",
       "      <th>eke</th>\n",
       "      <td>3193</td>\n",
       "      <td>10053</td>\n",
       "      <td>0</td>\n",
       "      <td>58.0</td>\n",
       "      <td>-7.257696</td>\n",
       "    </tr>\n",
       "    <tr>\n",
       "      <th>elder</th>\n",
       "      <td>3195</td>\n",
       "      <td>10054</td>\n",
       "      <td>0</td>\n",
       "      <td>3.0</td>\n",
       "      <td>-9.948939</td>\n",
       "    </tr>\n",
       "    <tr>\n",
       "      <th>yorkers</th>\n",
       "      <td>10037</td>\n",
       "      <td>10055</td>\n",
       "      <td>0</td>\n",
       "      <td>NaN</td>\n",
       "      <td>0.000000</td>\n",
       "    </tr>\n",
       "  </tbody>\n",
       "</table>\n",
       "<p>10055 rows × 5 columns</p>\n",
       "</div>"
      ],
      "text/plain": [
       "            term_id  term_rank     n    freq  likelihood\n",
       "term_str                                                \n",
       "know           3604          1  1018  1018.0   -4.408656\n",
       "people         4574          2   720   720.0   -4.754594\n",
       "going          2836          3   632   632.0   -4.884763\n",
       "think          6304          4   588   588.0   -4.956807\n",
       "get            2806          5   491   491.0   -5.136754\n",
       "...             ...        ...   ...     ...         ...\n",
       "eh             3186      10051     0     3.0   -9.948939\n",
       "eisenhower     3191      10052     0     1.0  -10.642086\n",
       "eke            3193      10053     0    58.0   -7.257696\n",
       "elder          3195      10054     0     3.0   -9.948939\n",
       "yorkers       10037      10055     0     NaN    0.000000\n",
       "\n",
       "[10055 rows x 5 columns]"
      ]
     },
     "execution_count": 58,
     "metadata": {},
     "output_type": "execute_result"
    }
   ],
   "source": [
    "vocab_c = vocab_c.fillna({'likelihood':0})\n",
    "vocab_t = vocab_t.fillna({'likelihood':0})\n",
    "vocab_c"
   ]
  },
  {
   "cell_type": "code",
   "execution_count": 59,
   "metadata": {},
   "outputs": [],
   "source": [
    "def NB_classifier(token_test, class1_vocab, class2_vocab, class_1_name = 'Class 1', class_2_name = 'Class 2', priors=[.5,.5]):\n",
    "    d = {'speech_id': token_test.index.unique(), 'true_value': \"\", 'prediction': \"\"}\n",
    "    results = pd.DataFrame(d).set_index('speech_id')\n",
    "    \n",
    "    for i in results.index:\n",
    "        results['true_value'].loc[i] = test_token.at[i,'speaker'][0]\n",
    "        \n",
    "        speech = token_test.loc[i]\n",
    "        \n",
    "        speech = speech.merge(class1_vocab['likelihood'], how='left', on=\"term_str\")\\\n",
    "        .rename(columns={'likelihood': class_1_name})\n",
    "        speech = speech.merge(class2_vocab['likelihood'], how='left', on=\"term_str\")\\\n",
    "        .rename(columns={'likelihood': class_2_name})\n",
    "        \n",
    "        predict = pd.DataFrame(speech[[class_1_name,class_2_name]].sum())\n",
    "        logpriors = np.log(priors)\n",
    "        predict[0] = predict[0] + logpriors\n",
    "        predict = predict.sort_values(by=0, ascending=False)\n",
    "        classification = predict.index[0]\n",
    "        \n",
    "        results['prediction'].loc[i] = classification\n",
    "        \n",
    "    return results"
   ]
  },
  {
   "cell_type": "code",
   "execution_count": 60,
   "metadata": {},
   "outputs": [
    {
     "data": {
      "text/html": [
       "<div>\n",
       "<style scoped>\n",
       "    .dataframe tbody tr th:only-of-type {\n",
       "        vertical-align: middle;\n",
       "    }\n",
       "\n",
       "    .dataframe tbody tr th {\n",
       "        vertical-align: top;\n",
       "    }\n",
       "\n",
       "    .dataframe thead th {\n",
       "        text-align: right;\n",
       "    }\n",
       "</style>\n",
       "<table border=\"1\" class=\"dataframe\">\n",
       "  <thead>\n",
       "    <tr style=\"text-align: right;\">\n",
       "      <th></th>\n",
       "      <th>true_value</th>\n",
       "      <th>prediction</th>\n",
       "    </tr>\n",
       "    <tr>\n",
       "      <th>speech_id</th>\n",
       "      <th></th>\n",
       "      <th></th>\n",
       "    </tr>\n",
       "  </thead>\n",
       "  <tbody>\n",
       "    <tr>\n",
       "      <th>60</th>\n",
       "      <td>CLINTON</td>\n",
       "      <td>TRUMP</td>\n",
       "    </tr>\n",
       "    <tr>\n",
       "      <th>29</th>\n",
       "      <td>CLINTON</td>\n",
       "      <td>CLINTON</td>\n",
       "    </tr>\n",
       "    <tr>\n",
       "      <th>130</th>\n",
       "      <td>TRUMP</td>\n",
       "      <td>CLINTON</td>\n",
       "    </tr>\n",
       "    <tr>\n",
       "      <th>12</th>\n",
       "      <td>CLINTON</td>\n",
       "      <td>CLINTON</td>\n",
       "    </tr>\n",
       "    <tr>\n",
       "      <th>156</th>\n",
       "      <td>CLINTON</td>\n",
       "      <td>CLINTON</td>\n",
       "    </tr>\n",
       "    <tr>\n",
       "      <th>114</th>\n",
       "      <td>TRUMP</td>\n",
       "      <td>TRUMP</td>\n",
       "    </tr>\n",
       "    <tr>\n",
       "      <th>131</th>\n",
       "      <td>TRUMP</td>\n",
       "      <td>TRUMP</td>\n",
       "    </tr>\n",
       "    <tr>\n",
       "      <th>0</th>\n",
       "      <td>CLINTON</td>\n",
       "      <td>CLINTON</td>\n",
       "    </tr>\n",
       "    <tr>\n",
       "      <th>138</th>\n",
       "      <td>TRUMP</td>\n",
       "      <td>CLINTON</td>\n",
       "    </tr>\n",
       "    <tr>\n",
       "      <th>142</th>\n",
       "      <td>CLINTON</td>\n",
       "      <td>CLINTON</td>\n",
       "    </tr>\n",
       "    <tr>\n",
       "      <th>50</th>\n",
       "      <td>TRUMP</td>\n",
       "      <td>TRUMP</td>\n",
       "    </tr>\n",
       "    <tr>\n",
       "      <th>117</th>\n",
       "      <td>TRUMP</td>\n",
       "      <td>TRUMP</td>\n",
       "    </tr>\n",
       "    <tr>\n",
       "      <th>111</th>\n",
       "      <td>TRUMP</td>\n",
       "      <td>TRUMP</td>\n",
       "    </tr>\n",
       "    <tr>\n",
       "      <th>133</th>\n",
       "      <td>TRUMP</td>\n",
       "      <td>TRUMP</td>\n",
       "    </tr>\n",
       "    <tr>\n",
       "      <th>149</th>\n",
       "      <td>CLINTON</td>\n",
       "      <td>CLINTON</td>\n",
       "    </tr>\n",
       "    <tr>\n",
       "      <th>8</th>\n",
       "      <td>CLINTON</td>\n",
       "      <td>CLINTON</td>\n",
       "    </tr>\n",
       "    <tr>\n",
       "      <th>161</th>\n",
       "      <td>CLINTON</td>\n",
       "      <td>CLINTON</td>\n",
       "    </tr>\n",
       "    <tr>\n",
       "      <th>36</th>\n",
       "      <td>TRUMP</td>\n",
       "      <td>CLINTON</td>\n",
       "    </tr>\n",
       "    <tr>\n",
       "      <th>47</th>\n",
       "      <td>TRUMP</td>\n",
       "      <td>TRUMP</td>\n",
       "    </tr>\n",
       "    <tr>\n",
       "      <th>34</th>\n",
       "      <td>TRUMP</td>\n",
       "      <td>CLINTON</td>\n",
       "    </tr>\n",
       "  </tbody>\n",
       "</table>\n",
       "</div>"
      ],
      "text/plain": [
       "          true_value prediction\n",
       "speech_id                      \n",
       "60           CLINTON      TRUMP\n",
       "29           CLINTON    CLINTON\n",
       "130            TRUMP    CLINTON\n",
       "12           CLINTON    CLINTON\n",
       "156          CLINTON    CLINTON\n",
       "114            TRUMP      TRUMP\n",
       "131            TRUMP      TRUMP\n",
       "0            CLINTON    CLINTON\n",
       "138            TRUMP    CLINTON\n",
       "142          CLINTON    CLINTON\n",
       "50             TRUMP      TRUMP\n",
       "117            TRUMP      TRUMP\n",
       "111            TRUMP      TRUMP\n",
       "133            TRUMP      TRUMP\n",
       "149          CLINTON    CLINTON\n",
       "8            CLINTON    CLINTON\n",
       "161          CLINTON    CLINTON\n",
       "36             TRUMP    CLINTON\n",
       "47             TRUMP      TRUMP\n",
       "34             TRUMP    CLINTON"
      ]
     },
     "execution_count": 60,
     "metadata": {},
     "output_type": "execute_result"
    }
   ],
   "source": [
    "# class 1 is clinton, class 2 is trump\n",
    "\n",
    "results=NB_classifier(test_token,vocab_c,vocab_t, class_1_name = 'CLINTON', class_2_name = 'TRUMP', priors=priors)\n",
    "results"
   ]
  },
  {
   "cell_type": "code",
   "execution_count": 61,
   "metadata": {},
   "outputs": [
    {
     "data": {
      "text/plain": [
       "array([[8, 1],\n",
       "       [4, 7]])"
      ]
     },
     "execution_count": 61,
     "metadata": {},
     "output_type": "execute_result"
    }
   ],
   "source": [
    "confusion_matrix(results.true_value, results.prediction)"
   ]
  },
  {
   "cell_type": "code",
   "execution_count": 62,
   "metadata": {},
   "outputs": [],
   "source": [
    "speech = test_token.loc[test_token.head(1).index[0]]\n",
    "        \n",
    "speech = speech.merge(vocab_c['likelihood'], how='left', on=\"term_str\")\\\n",
    "        .rename(columns={'likelihood': 'clinton'})\n",
    "speech = speech.merge(vocab_t['likelihood'], how='left', on=\"term_str\")\\\n",
    "        .rename(columns={'likelihood': 'trump'})\n",
    "        \n",
    "predict = pd.DataFrame(speech[['clinton','trump']].sum())\n",
    "logpriors = np.log(priors)\n",
    "predict[0] = predict[0] + logpriors\n",
    "predict = predict.sort_values(by=0, ascending=False)"
   ]
  },
  {
   "cell_type": "code",
   "execution_count": 63,
   "metadata": {},
   "outputs": [
    {
     "data": {
      "text/html": [
       "<div>\n",
       "<style scoped>\n",
       "    .dataframe tbody tr th:only-of-type {\n",
       "        vertical-align: middle;\n",
       "    }\n",
       "\n",
       "    .dataframe tbody tr th {\n",
       "        vertical-align: top;\n",
       "    }\n",
       "\n",
       "    .dataframe thead th {\n",
       "        text-align: right;\n",
       "    }\n",
       "</style>\n",
       "<table border=\"1\" class=\"dataframe\">\n",
       "  <thead>\n",
       "    <tr style=\"text-align: right;\">\n",
       "      <th></th>\n",
       "      <th>0</th>\n",
       "    </tr>\n",
       "  </thead>\n",
       "  <tbody>\n",
       "    <tr>\n",
       "      <th>trump</th>\n",
       "      <td>-6972.346557</td>\n",
       "    </tr>\n",
       "    <tr>\n",
       "      <th>clinton</th>\n",
       "      <td>-7380.324898</td>\n",
       "    </tr>\n",
       "  </tbody>\n",
       "</table>\n",
       "</div>"
      ],
      "text/plain": [
       "                   0\n",
       "trump   -6972.346557\n",
       "clinton -7380.324898"
      ]
     },
     "execution_count": 63,
     "metadata": {},
     "output_type": "execute_result"
    }
   ],
   "source": [
    "predict"
   ]
  },
  {
   "cell_type": "code",
   "execution_count": 64,
   "metadata": {},
   "outputs": [
    {
     "data": {
      "text/plain": [
       "term_id       2661.000000\n",
       "term_rank     3147.000000\n",
       "n                3.000000\n",
       "freq             3.000000\n",
       "likelihood     -10.196857\n",
       "Name: fallen, dtype: float64"
      ]
     },
     "execution_count": 64,
     "metadata": {},
     "output_type": "execute_result"
    }
   ],
   "source": [
    "vocab_t.loc['fallen']"
   ]
  },
  {
   "cell_type": "code",
   "execution_count": 65,
   "metadata": {},
   "outputs": [
    {
     "data": {
      "text/html": [
       "<div>\n",
       "<style scoped>\n",
       "    .dataframe tbody tr th:only-of-type {\n",
       "        vertical-align: middle;\n",
       "    }\n",
       "\n",
       "    .dataframe tbody tr th {\n",
       "        vertical-align: top;\n",
       "    }\n",
       "\n",
       "    .dataframe thead th {\n",
       "        text-align: right;\n",
       "    }\n",
       "</style>\n",
       "<table border=\"1\" class=\"dataframe\">\n",
       "  <thead>\n",
       "    <tr style=\"text-align: right;\">\n",
       "      <th></th>\n",
       "      <th>speaker</th>\n",
       "      <th>para_id</th>\n",
       "      <th>sent_id</th>\n",
       "      <th>token_id</th>\n",
       "      <th>pos</th>\n",
       "      <th>token_str</th>\n",
       "      <th>term_str</th>\n",
       "      <th>term_id</th>\n",
       "      <th>stop</th>\n",
       "      <th>clinton</th>\n",
       "      <th>trump</th>\n",
       "    </tr>\n",
       "  </thead>\n",
       "  <tbody>\n",
       "    <tr>\n",
       "      <th>0</th>\n",
       "      <td>CLINTON</td>\n",
       "      <td>0</td>\n",
       "      <td>0</td>\n",
       "      <td>0</td>\n",
       "      <td>NNP</td>\n",
       "      <td>Thank</td>\n",
       "      <td>thank</td>\n",
       "      <td>10001</td>\n",
       "      <td>0</td>\n",
       "      <td>-6.498951</td>\n",
       "      <td>-5.882707</td>\n",
       "    </tr>\n",
       "    <tr>\n",
       "      <th>1</th>\n",
       "      <td>CLINTON</td>\n",
       "      <td>1</td>\n",
       "      <td>0</td>\n",
       "      <td>1</td>\n",
       "      <td>CD</td>\n",
       "      <td>18</td>\n",
       "      <td>18</td>\n",
       "      <td>69</td>\n",
       "      <td>0</td>\n",
       "      <td>-8.850327</td>\n",
       "      <td>-8.944094</td>\n",
       "    </tr>\n",
       "    <tr>\n",
       "      <th>2</th>\n",
       "      <td>CLINTON</td>\n",
       "      <td>1</td>\n",
       "      <td>0</td>\n",
       "      <td>2</td>\n",
       "      <td>NN</td>\n",
       "      <td>days,</td>\n",
       "      <td>days</td>\n",
       "      <td>2739</td>\n",
       "      <td>0</td>\n",
       "      <td>-7.869497</td>\n",
       "      <td>-7.018803</td>\n",
       "    </tr>\n",
       "    <tr>\n",
       "      <th>3</th>\n",
       "      <td>CLINTON</td>\n",
       "      <td>1</td>\n",
       "      <td>0</td>\n",
       "      <td>5</td>\n",
       "      <td>VBG</td>\n",
       "      <td>going</td>\n",
       "      <td>going</td>\n",
       "      <td>4554</td>\n",
       "      <td>0</td>\n",
       "      <td>-4.884763</td>\n",
       "      <td>-4.602145</td>\n",
       "    </tr>\n",
       "    <tr>\n",
       "      <th>4</th>\n",
       "      <td>CLINTON</td>\n",
       "      <td>1</td>\n",
       "      <td>0</td>\n",
       "      <td>7</td>\n",
       "      <td>VB</td>\n",
       "      <td>win</td>\n",
       "      <td>win</td>\n",
       "      <td>10967</td>\n",
       "      <td>0</td>\n",
       "      <td>-7.697647</td>\n",
       "      <td>-6.495555</td>\n",
       "    </tr>\n",
       "    <tr>\n",
       "      <th>...</th>\n",
       "      <td>...</td>\n",
       "      <td>...</td>\n",
       "      <td>...</td>\n",
       "      <td>...</td>\n",
       "      <td>...</td>\n",
       "      <td>...</td>\n",
       "      <td>...</td>\n",
       "      <td>...</td>\n",
       "      <td>...</td>\n",
       "      <td>...</td>\n",
       "      <td>...</td>\n",
       "    </tr>\n",
       "    <tr>\n",
       "      <th>944</th>\n",
       "      <td>CLINTON</td>\n",
       "      <td>88</td>\n",
       "      <td>0</td>\n",
       "      <td>3</td>\n",
       "      <td>NNP</td>\n",
       "      <td>America</td>\n",
       "      <td>america</td>\n",
       "      <td>700</td>\n",
       "      <td>0</td>\n",
       "      <td>-6.556110</td>\n",
       "      <td>-5.589189</td>\n",
       "    </tr>\n",
       "    <tr>\n",
       "      <th>945</th>\n",
       "      <td>CLINTON</td>\n",
       "      <td>88</td>\n",
       "      <td>0</td>\n",
       "      <td>4</td>\n",
       "      <td>NNP</td>\n",
       "      <td>Safe</td>\n",
       "      <td>safe</td>\n",
       "      <td>8753</td>\n",
       "      <td>0</td>\n",
       "      <td>-7.621661</td>\n",
       "      <td>-7.164310</td>\n",
       "    </tr>\n",
       "    <tr>\n",
       "      <th>946</th>\n",
       "      <td>CLINTON</td>\n",
       "      <td>89</td>\n",
       "      <td>0</td>\n",
       "      <td>3</td>\n",
       "      <td>NNP</td>\n",
       "      <td>Make</td>\n",
       "      <td>make</td>\n",
       "      <td>6204</td>\n",
       "      <td>0</td>\n",
       "      <td>-5.605133</td>\n",
       "      <td>-5.708220</td>\n",
       "    </tr>\n",
       "    <tr>\n",
       "      <th>947</th>\n",
       "      <td>CLINTON</td>\n",
       "      <td>89</td>\n",
       "      <td>0</td>\n",
       "      <td>4</td>\n",
       "      <td>NNP</td>\n",
       "      <td>America</td>\n",
       "      <td>america</td>\n",
       "      <td>700</td>\n",
       "      <td>0</td>\n",
       "      <td>-6.556110</td>\n",
       "      <td>-5.589189</td>\n",
       "    </tr>\n",
       "    <tr>\n",
       "      <th>948</th>\n",
       "      <td>CLINTON</td>\n",
       "      <td>89</td>\n",
       "      <td>0</td>\n",
       "      <td>5</td>\n",
       "      <td>NNP</td>\n",
       "      <td>Great</td>\n",
       "      <td>great</td>\n",
       "      <td>4640</td>\n",
       "      <td>0</td>\n",
       "      <td>-6.072543</td>\n",
       "      <td>-5.601737</td>\n",
       "    </tr>\n",
       "  </tbody>\n",
       "</table>\n",
       "<p>949 rows × 11 columns</p>\n",
       "</div>"
      ],
      "text/plain": [
       "     speaker  para_id  sent_id  token_id  pos token_str term_str  term_id  \\\n",
       "0    CLINTON        0        0         0  NNP     Thank    thank    10001   \n",
       "1    CLINTON        1        0         1   CD        18       18       69   \n",
       "2    CLINTON        1        0         2   NN     days,     days     2739   \n",
       "3    CLINTON        1        0         5  VBG     going    going     4554   \n",
       "4    CLINTON        1        0         7   VB       win      win    10967   \n",
       "..       ...      ...      ...       ...  ...       ...      ...      ...   \n",
       "944  CLINTON       88        0         3  NNP   America  america      700   \n",
       "945  CLINTON       88        0         4  NNP      Safe     safe     8753   \n",
       "946  CLINTON       89        0         3  NNP      Make     make     6204   \n",
       "947  CLINTON       89        0         4  NNP   America  america      700   \n",
       "948  CLINTON       89        0         5  NNP     Great    great     4640   \n",
       "\n",
       "     stop   clinton     trump  \n",
       "0       0 -6.498951 -5.882707  \n",
       "1       0 -8.850327 -8.944094  \n",
       "2       0 -7.869497 -7.018803  \n",
       "3       0 -4.884763 -4.602145  \n",
       "4       0 -7.697647 -6.495555  \n",
       "..    ...       ...       ...  \n",
       "944     0 -6.556110 -5.589189  \n",
       "945     0 -7.621661 -7.164310  \n",
       "946     0 -5.605133 -5.708220  \n",
       "947     0 -6.556110 -5.589189  \n",
       "948     0 -6.072543 -5.601737  \n",
       "\n",
       "[949 rows x 11 columns]"
      ]
     },
     "execution_count": 65,
     "metadata": {},
     "output_type": "execute_result"
    }
   ],
   "source": [
    "speech"
   ]
  },
  {
   "cell_type": "code",
   "execution_count": 66,
   "metadata": {},
   "outputs": [
    {
     "data": {
      "text/html": [
       "<div>\n",
       "<style scoped>\n",
       "    .dataframe tbody tr th:only-of-type {\n",
       "        vertical-align: middle;\n",
       "    }\n",
       "\n",
       "    .dataframe tbody tr th {\n",
       "        vertical-align: top;\n",
       "    }\n",
       "\n",
       "    .dataframe thead th {\n",
       "        text-align: right;\n",
       "    }\n",
       "</style>\n",
       "<table border=\"1\" class=\"dataframe\">\n",
       "  <thead>\n",
       "    <tr style=\"text-align: right;\">\n",
       "      <th></th>\n",
       "      <th>speaker</th>\n",
       "      <th>para_id</th>\n",
       "      <th>sent_id</th>\n",
       "      <th>token_id</th>\n",
       "      <th>pos</th>\n",
       "      <th>token_str</th>\n",
       "      <th>term_str</th>\n",
       "      <th>term_id</th>\n",
       "      <th>stop</th>\n",
       "      <th>clinton</th>\n",
       "      <th>trump</th>\n",
       "    </tr>\n",
       "  </thead>\n",
       "  <tbody>\n",
       "    <tr>\n",
       "      <th>114</th>\n",
       "      <td>CLINTON</td>\n",
       "      <td>7</td>\n",
       "      <td>1</td>\n",
       "      <td>24</td>\n",
       "      <td>NN</td>\n",
       "      <td>orbit</td>\n",
       "      <td>orbit</td>\n",
       "      <td>7031</td>\n",
       "      <td>0</td>\n",
       "      <td>NaN</td>\n",
       "      <td>NaN</td>\n",
       "    </tr>\n",
       "    <tr>\n",
       "      <th>257</th>\n",
       "      <td>CLINTON</td>\n",
       "      <td>16</td>\n",
       "      <td>0</td>\n",
       "      <td>30</td>\n",
       "      <td>VB</td>\n",
       "      <td>resign.</td>\n",
       "      <td>resign</td>\n",
       "      <td>8472</td>\n",
       "      <td>0</td>\n",
       "      <td>NaN</td>\n",
       "      <td>NaN</td>\n",
       "    </tr>\n",
       "    <tr>\n",
       "      <th>267</th>\n",
       "      <td>CLINTON</td>\n",
       "      <td>17</td>\n",
       "      <td>0</td>\n",
       "      <td>18</td>\n",
       "      <td>JJ</td>\n",
       "      <td>inappropriate.</td>\n",
       "      <td>inappropriate</td>\n",
       "      <td>5213</td>\n",
       "      <td>0</td>\n",
       "      <td>NaN</td>\n",
       "      <td>NaN</td>\n",
       "    </tr>\n",
       "    <tr>\n",
       "      <th>272</th>\n",
       "      <td>CLINTON</td>\n",
       "      <td>18</td>\n",
       "      <td>0</td>\n",
       "      <td>8</td>\n",
       "      <td>NNP</td>\n",
       "      <td>$64,000</td>\n",
       "      <td>64000</td>\n",
       "      <td>293</td>\n",
       "      <td>0</td>\n",
       "      <td>NaN</td>\n",
       "      <td>NaN</td>\n",
       "    </tr>\n",
       "    <tr>\n",
       "      <th>274</th>\n",
       "      <td>CLINTON</td>\n",
       "      <td>18</td>\n",
       "      <td>0</td>\n",
       "      <td>12</td>\n",
       "      <td>NN</td>\n",
       "      <td>contestant</td>\n",
       "      <td>contestant</td>\n",
       "      <td>2388</td>\n",
       "      <td>0</td>\n",
       "      <td>NaN</td>\n",
       "      <td>NaN</td>\n",
       "    </tr>\n",
       "    <tr>\n",
       "      <th>368</th>\n",
       "      <td>CLINTON</td>\n",
       "      <td>30</td>\n",
       "      <td>0</td>\n",
       "      <td>7</td>\n",
       "      <td>VBN</td>\n",
       "      <td>summed</td>\n",
       "      <td>summed</td>\n",
       "      <td>9718</td>\n",
       "      <td>0</td>\n",
       "      <td>NaN</td>\n",
       "      <td>NaN</td>\n",
       "    </tr>\n",
       "    <tr>\n",
       "      <th>383</th>\n",
       "      <td>CLINTON</td>\n",
       "      <td>32</td>\n",
       "      <td>0</td>\n",
       "      <td>0</td>\n",
       "      <td>CD</td>\n",
       "      <td>47</td>\n",
       "      <td>47</td>\n",
       "      <td>239</td>\n",
       "      <td>0</td>\n",
       "      <td>NaN</td>\n",
       "      <td>NaN</td>\n",
       "    </tr>\n",
       "    <tr>\n",
       "      <th>479</th>\n",
       "      <td>CLINTON</td>\n",
       "      <td>39</td>\n",
       "      <td>0</td>\n",
       "      <td>21</td>\n",
       "      <td>VB</td>\n",
       "      <td>undertake</td>\n",
       "      <td>undertake</td>\n",
       "      <td>10442</td>\n",
       "      <td>0</td>\n",
       "      <td>NaN</td>\n",
       "      <td>NaN</td>\n",
       "    </tr>\n",
       "    <tr>\n",
       "      <th>488</th>\n",
       "      <td>CLINTON</td>\n",
       "      <td>40</td>\n",
       "      <td>0</td>\n",
       "      <td>5</td>\n",
       "      <td>VBN</td>\n",
       "      <td>mismanaged</td>\n",
       "      <td>mismanaged</td>\n",
       "      <td>6514</td>\n",
       "      <td>0</td>\n",
       "      <td>NaN</td>\n",
       "      <td>NaN</td>\n",
       "    </tr>\n",
       "    <tr>\n",
       "      <th>491</th>\n",
       "      <td>CLINTON</td>\n",
       "      <td>40</td>\n",
       "      <td>0</td>\n",
       "      <td>10</td>\n",
       "      <td>NNS</td>\n",
       "      <td>bureaucracies</td>\n",
       "      <td>bureaucracies</td>\n",
       "      <td>1619</td>\n",
       "      <td>0</td>\n",
       "      <td>NaN</td>\n",
       "      <td>NaN</td>\n",
       "    </tr>\n",
       "    <tr>\n",
       "      <th>495</th>\n",
       "      <td>CLINTON</td>\n",
       "      <td>40</td>\n",
       "      <td>0</td>\n",
       "      <td>16</td>\n",
       "      <td>NNP</td>\n",
       "      <td>Agriculture,</td>\n",
       "      <td>agriculture</td>\n",
       "      <td>599</td>\n",
       "      <td>0</td>\n",
       "      <td>NaN</td>\n",
       "      <td>NaN</td>\n",
       "    </tr>\n",
       "    <tr>\n",
       "      <th>496</th>\n",
       "      <td>CLINTON</td>\n",
       "      <td>40</td>\n",
       "      <td>0</td>\n",
       "      <td>17</td>\n",
       "      <td>NNP</td>\n",
       "      <td>Commerce,</td>\n",
       "      <td>commerce</td>\n",
       "      <td>2158</td>\n",
       "      <td>0</td>\n",
       "      <td>NaN</td>\n",
       "      <td>NaN</td>\n",
       "    </tr>\n",
       "    <tr>\n",
       "      <th>506</th>\n",
       "      <td>CLINTON</td>\n",
       "      <td>41</td>\n",
       "      <td>0</td>\n",
       "      <td>5</td>\n",
       "      <td>NN</td>\n",
       "      <td>policymaking</td>\n",
       "      <td>policymaking</td>\n",
       "      <td>7553</td>\n",
       "      <td>0</td>\n",
       "      <td>NaN</td>\n",
       "      <td>NaN</td>\n",
       "    </tr>\n",
       "    <tr>\n",
       "      <th>507</th>\n",
       "      <td>CLINTON</td>\n",
       "      <td>41</td>\n",
       "      <td>0</td>\n",
       "      <td>8</td>\n",
       "      <td>VBN</td>\n",
       "      <td>consolidated</td>\n",
       "      <td>consolidated</td>\n",
       "      <td>2344</td>\n",
       "      <td>0</td>\n",
       "      <td>NaN</td>\n",
       "      <td>NaN</td>\n",
       "    </tr>\n",
       "    <tr>\n",
       "      <th>743</th>\n",
       "      <td>CLINTON</td>\n",
       "      <td>65</td>\n",
       "      <td>0</td>\n",
       "      <td>10</td>\n",
       "      <td>NN</td>\n",
       "      <td>horrors?</td>\n",
       "      <td>horrors</td>\n",
       "      <td>5022</td>\n",
       "      <td>0</td>\n",
       "      <td>NaN</td>\n",
       "      <td>NaN</td>\n",
       "    </tr>\n",
       "    <tr>\n",
       "      <th>824</th>\n",
       "      <td>CLINTON</td>\n",
       "      <td>72</td>\n",
       "      <td>0</td>\n",
       "      <td>6</td>\n",
       "      <td>NN</td>\n",
       "      <td>cynicism</td>\n",
       "      <td>cynicism</td>\n",
       "      <td>2684</td>\n",
       "      <td>0</td>\n",
       "      <td>NaN</td>\n",
       "      <td>NaN</td>\n",
       "    </tr>\n",
       "    <tr>\n",
       "      <th>825</th>\n",
       "      <td>CLINTON</td>\n",
       "      <td>72</td>\n",
       "      <td>0</td>\n",
       "      <td>8</td>\n",
       "      <td>NN</td>\n",
       "      <td>elitism</td>\n",
       "      <td>elitism</td>\n",
       "      <td>3546</td>\n",
       "      <td>0</td>\n",
       "      <td>NaN</td>\n",
       "      <td>NaN</td>\n",
       "    </tr>\n",
       "  </tbody>\n",
       "</table>\n",
       "</div>"
      ],
      "text/plain": [
       "     speaker  para_id  sent_id  token_id  pos       token_str       term_str  \\\n",
       "114  CLINTON        7        1        24   NN           orbit          orbit   \n",
       "257  CLINTON       16        0        30   VB         resign.         resign   \n",
       "267  CLINTON       17        0        18   JJ  inappropriate.  inappropriate   \n",
       "272  CLINTON       18        0         8  NNP         $64,000          64000   \n",
       "274  CLINTON       18        0        12   NN      contestant     contestant   \n",
       "368  CLINTON       30        0         7  VBN          summed         summed   \n",
       "383  CLINTON       32        0         0   CD              47             47   \n",
       "479  CLINTON       39        0        21   VB       undertake      undertake   \n",
       "488  CLINTON       40        0         5  VBN      mismanaged     mismanaged   \n",
       "491  CLINTON       40        0        10  NNS   bureaucracies  bureaucracies   \n",
       "495  CLINTON       40        0        16  NNP    Agriculture,    agriculture   \n",
       "496  CLINTON       40        0        17  NNP       Commerce,       commerce   \n",
       "506  CLINTON       41        0         5   NN    policymaking   policymaking   \n",
       "507  CLINTON       41        0         8  VBN    consolidated   consolidated   \n",
       "743  CLINTON       65        0        10   NN        horrors?        horrors   \n",
       "824  CLINTON       72        0         6   NN        cynicism       cynicism   \n",
       "825  CLINTON       72        0         8   NN         elitism        elitism   \n",
       "\n",
       "     term_id  stop  clinton  trump  \n",
       "114     7031     0      NaN    NaN  \n",
       "257     8472     0      NaN    NaN  \n",
       "267     5213     0      NaN    NaN  \n",
       "272      293     0      NaN    NaN  \n",
       "274     2388     0      NaN    NaN  \n",
       "368     9718     0      NaN    NaN  \n",
       "383      239     0      NaN    NaN  \n",
       "479    10442     0      NaN    NaN  \n",
       "488     6514     0      NaN    NaN  \n",
       "491     1619     0      NaN    NaN  \n",
       "495      599     0      NaN    NaN  \n",
       "496     2158     0      NaN    NaN  \n",
       "506     7553     0      NaN    NaN  \n",
       "507     2344     0      NaN    NaN  \n",
       "743     5022     0      NaN    NaN  \n",
       "824     2684     0      NaN    NaN  \n",
       "825     3546     0      NaN    NaN  "
      ]
     },
     "execution_count": 66,
     "metadata": {},
     "output_type": "execute_result"
    }
   ],
   "source": [
    "speech[speech['clinton'].isnull().values]"
   ]
  },
  {
   "cell_type": "markdown",
   "metadata": {},
   "source": [
    "## Plotting"
   ]
  },
  {
   "cell_type": "code",
   "execution_count": 67,
   "metadata": {},
   "outputs": [],
   "source": [
    "import seaborn as sns\n",
    "import matplotlib.pyplot as plt"
   ]
  },
  {
   "cell_type": "code",
   "execution_count": 68,
   "metadata": {},
   "outputs": [],
   "source": [
    "token = token.reset_index()\n",
    "token = token.merge(vocab_c['likelihood'], how='left', on=\"term_str\")\\\n",
    "        .rename(columns={'likelihood': 'p_clinton'})\n",
    "token = token.merge(vocab_t['likelihood'], how='left', on=\"term_str\")\\\n",
    "        .rename(columns={'likelihood': 'p_trump'})\n",
    "token = token.set_index('speech_id')"
   ]
  },
  {
   "cell_type": "code",
   "execution_count": 72,
   "metadata": {},
   "outputs": [
    {
     "ename": "SpecificationError",
     "evalue": "nested renamer is not supported",
     "output_type": "error",
     "traceback": [
      "\u001b[0;31m---------------------------------------------------------------------------\u001b[0m",
      "\u001b[0;31mSpecificationError\u001b[0m                        Traceback (most recent call last)",
      "\u001b[0;32m<ipython-input-72-85ea33d2224c>\u001b[0m in \u001b[0;36m<module>\u001b[0;34m\u001b[0m\n\u001b[0;32m----> 1\u001b[0;31m \u001b[0mtg\u001b[0m \u001b[0;34m=\u001b[0m \u001b[0mtoken\u001b[0m\u001b[0;34m.\u001b[0m\u001b[0mreset_index\u001b[0m\u001b[0;34m(\u001b[0m\u001b[0;34m)\u001b[0m\u001b[0;34m.\u001b[0m\u001b[0mgroupby\u001b[0m\u001b[0;34m(\u001b[0m\u001b[0;34m[\u001b[0m\u001b[0;34m'speech_id'\u001b[0m\u001b[0;34m,\u001b[0m\u001b[0;34m'speaker'\u001b[0m\u001b[0;34m]\u001b[0m\u001b[0;34m)\u001b[0m\u001b[0;31m\\\u001b[0m\u001b[0;34m\u001b[0m\u001b[0;34m\u001b[0m\u001b[0m\n\u001b[0m\u001b[1;32m      2\u001b[0m     \u001b[0;34m.\u001b[0m\u001b[0magg\u001b[0m\u001b[0;34m(\u001b[0m\u001b[0;34m{\u001b[0m\u001b[0;34m'p_clinton'\u001b[0m\u001b[0;34m:\u001b[0m\u001b[0;34m'sum'\u001b[0m\u001b[0;34m,\u001b[0m\u001b[0;34m'p_trump'\u001b[0m\u001b[0;34m:\u001b[0m\u001b[0;34m'sum'\u001b[0m\u001b[0;34m,\u001b[0m\u001b[0;34m'token_id'\u001b[0m\u001b[0;34m:\u001b[0m\u001b[0;34m'count'\u001b[0m\u001b[0;34m}\u001b[0m\u001b[0;34m)\u001b[0m\u001b[0;34m.\u001b[0m\u001b[0mreset_index\u001b[0m\u001b[0;34m(\u001b[0m\u001b[0;34m)\u001b[0m\u001b[0;34m\u001b[0m\u001b[0;34m\u001b[0m\u001b[0m\n\u001b[1;32m      3\u001b[0m \u001b[0mtg\u001b[0m \u001b[0;34m=\u001b[0m \u001b[0mtg\u001b[0m\u001b[0;34m.\u001b[0m\u001b[0mrename\u001b[0m\u001b[0;34m(\u001b[0m\u001b[0mcolumns\u001b[0m\u001b[0;34m=\u001b[0m\u001b[0;34m{\u001b[0m\u001b[0;34m'token_id'\u001b[0m\u001b[0;34m:\u001b[0m \u001b[0;34m'length'\u001b[0m\u001b[0;34m}\u001b[0m\u001b[0;34m)\u001b[0m\u001b[0;34m\u001b[0m\u001b[0;34m\u001b[0m\u001b[0m\n",
      "\u001b[0;32m~/anaconda3/envs/python38/lib/python3.8/site-packages/pandas/core/groupby/generic.py\u001b[0m in \u001b[0;36maggregate\u001b[0;34m(self, func, *args, **kwargs)\u001b[0m\n\u001b[1;32m    926\u001b[0m         \u001b[0mfunc\u001b[0m \u001b[0;34m=\u001b[0m \u001b[0m_maybe_mangle_lambdas\u001b[0m\u001b[0;34m(\u001b[0m\u001b[0mfunc\u001b[0m\u001b[0;34m)\u001b[0m\u001b[0;34m\u001b[0m\u001b[0;34m\u001b[0m\u001b[0m\n\u001b[1;32m    927\u001b[0m \u001b[0;34m\u001b[0m\u001b[0m\n\u001b[0;32m--> 928\u001b[0;31m         \u001b[0mresult\u001b[0m\u001b[0;34m,\u001b[0m \u001b[0mhow\u001b[0m \u001b[0;34m=\u001b[0m \u001b[0mself\u001b[0m\u001b[0;34m.\u001b[0m\u001b[0m_aggregate\u001b[0m\u001b[0;34m(\u001b[0m\u001b[0mfunc\u001b[0m\u001b[0;34m,\u001b[0m \u001b[0;34m*\u001b[0m\u001b[0margs\u001b[0m\u001b[0;34m,\u001b[0m \u001b[0;34m**\u001b[0m\u001b[0mkwargs\u001b[0m\u001b[0;34m)\u001b[0m\u001b[0;34m\u001b[0m\u001b[0;34m\u001b[0m\u001b[0m\n\u001b[0m\u001b[1;32m    929\u001b[0m         \u001b[0;32mif\u001b[0m \u001b[0mhow\u001b[0m \u001b[0;32mis\u001b[0m \u001b[0;32mNone\u001b[0m\u001b[0;34m:\u001b[0m\u001b[0;34m\u001b[0m\u001b[0;34m\u001b[0m\u001b[0m\n\u001b[1;32m    930\u001b[0m             \u001b[0;32mreturn\u001b[0m \u001b[0mresult\u001b[0m\u001b[0;34m\u001b[0m\u001b[0;34m\u001b[0m\u001b[0m\n",
      "\u001b[0;32m~/anaconda3/envs/python38/lib/python3.8/site-packages/pandas/core/base.py\u001b[0m in \u001b[0;36m_aggregate\u001b[0;34m(self, arg, *args, **kwargs)\u001b[0m\n\u001b[1;32m    355\u001b[0m                     \u001b[0mobj\u001b[0m\u001b[0;34m.\u001b[0m\u001b[0mcolumns\u001b[0m\u001b[0;34m.\u001b[0m\u001b[0mintersection\u001b[0m\u001b[0;34m(\u001b[0m\u001b[0mkeys\u001b[0m\u001b[0;34m)\u001b[0m\u001b[0;34m\u001b[0m\u001b[0;34m\u001b[0m\u001b[0m\n\u001b[1;32m    356\u001b[0m                 ) != len(keys):\n\u001b[0;32m--> 357\u001b[0;31m                     \u001b[0;32mraise\u001b[0m \u001b[0mSpecificationError\u001b[0m\u001b[0;34m(\u001b[0m\u001b[0;34m\"nested renamer is not supported\"\u001b[0m\u001b[0;34m)\u001b[0m\u001b[0;34m\u001b[0m\u001b[0;34m\u001b[0m\u001b[0m\n\u001b[0m\u001b[1;32m    358\u001b[0m \u001b[0;34m\u001b[0m\u001b[0m\n\u001b[1;32m    359\u001b[0m             \u001b[0;32mfrom\u001b[0m \u001b[0mpandas\u001b[0m\u001b[0;34m.\u001b[0m\u001b[0mcore\u001b[0m\u001b[0;34m.\u001b[0m\u001b[0mreshape\u001b[0m\u001b[0;34m.\u001b[0m\u001b[0mconcat\u001b[0m \u001b[0;32mimport\u001b[0m \u001b[0mconcat\u001b[0m\u001b[0;34m\u001b[0m\u001b[0;34m\u001b[0m\u001b[0m\n",
      "\u001b[0;31mSpecificationError\u001b[0m: nested renamer is not supported"
     ]
    }
   ],
   "source": [
    "tg = token.reset_index().groupby(['speech_id','speaker'])\\\n",
    "    .agg({'p_clinton':'sum','p_trump':'sum','token_id':'count'}).reset_index()\n",
    "tg = tg.rename(columns={'token_id': 'length'})"
   ]
  },
  {
   "cell_type": "code",
   "execution_count": 70,
   "metadata": {},
   "outputs": [
    {
     "data": {
      "image/png": "[encoded data removed]",
      "text/plain": [
       "<Figure size 720x720 with 1 Axes>"
      ]
     },
     "metadata": {
      "needs_background": "light"
     },
     "output_type": "display_data"
    }
   ],
   "source": [
    "plt.figure(figsize=(10,10))\n",
    "ax = sns.scatterplot(x='p_clinton',y='p_trump',hue='speaker', data=tg)"
   ]
  },
  {
   "cell_type": "code",
   "execution_count": 71,
   "metadata": {},
   "outputs": [
    {
     "data": {
      "application/vnd.plotly.v1+json": {
       "config": {
        "plotlyServerURL": "https://plot.ly"
       },
       "data": [
        {
         "customdata": [
          [
           0
          ],
          [
           1
          ],
          [
           2
          ],
          [
           3
          ],
          [
           4
          ],
          [
           5
          ],
          [
           6
          ],
          [
           7
          ],
          [
           8
          ],
          [
           9
          ],
          [
           10
          ],
          [
           11
          ],
          [
           12
          ],
          [
           15
          ],
          [
           16
          ],
          [
           17
          ],
          [
           18
          ],
          [
           24
          ],
          [
           25
          ],
          [
           26
          ],
          [
           27
          ],
          [
           28
          ],
          [
           29
          ],
          [
           30
          ],
          [
           31
          ],
          [
           59
          ],
          [
           60
          ],
          [
           61
          ],
          [
           62
          ],
          [
           142
          ],
          [
           143
          ],
          [
           144
          ],
          [
           145
          ],
          [
           146
          ],
          [
           147
          ],
          [
           148
          ],
          [
           149
          ],
          [
           151
          ],
          [
           152
          ],
          [
           153
          ],
          [
           154
          ],
          [
           155
          ],
          [
           156
          ],
          [
           157
          ],
          [
           158
          ],
          [
           159
          ],
          [
           160
          ],
          [
           161
          ],
          [
           162
          ]
         ],
         "hovertemplate": "speaker=CLINTON<br>p_clinton=%{x}<br>p_trump=%{y}<br>length=%{marker.size}<br>speech_id=%{customdata[0]}<extra></extra>",
         "legendgroup": "CLINTON",
         "marker": {
          "color": "#636efa",
          "size": [
           3034,
           2521,
           1401,
           3465,
           3689,
           968,
           892,
           1120,
           1116,
           965,
           1389,
           807,
           4014,
           2854,
           325,
           3336,
           3290,
           1879,
           2657,
           1783,
           3409,
           744,
           198,
           1858,
           1723,
           1028,
           949,
           935,
           44,
           1191,
           425,
           628,
           847,
           552,
           3496,
           579,
           654,
           365,
           632,
           558,
           883,
           2280,
           523,
           587,
           863,
           570,
           1247,
           579,
           1234
          ],
          "sizemode": "area",
          "sizeref": 12.82,
          "symbol": "circle"
         },
         "mode": "markers",
         "name": "CLINTON",
         "orientation": "v",
         "showlegend": true,
         "type": "scatter",
         "x": [
          -21812.39748317985,
          -20560.319934002437,
          -10614.42449671969,
          -26468.86800457333,
          -29960.48620331841,
          -8159.927152563287,
          -6825.048066772348,
          -8569.378109635343,
          -8040.125671780287,
          -7387.938986495685,
          -10724.268679554418,
          -6017.755376081144,
          -29723.117617918797,
          -22714.452965768975,
          -2422.271340028561,
          -25222.856380770605,
          -24943.398988587855,
          -13899.163986558735,
          -19975.513933080063,
          -14719.432531054797,
          -25506.90722218992,
          -5719.896826789196,
          -1321.0644335422287,
          -14266.866947329065,
          -13265.782231231153,
          -7813.073891406971,
          -7379.6070586564565,
          -7581.520794706954,
          -340.97735351483146,
          -8435.007611865747,
          -3319.282006877017,
          -4676.659728631269,
          -6270.343074694266,
          -4169.931265109255,
          -26465.65726482435,
          -4254.84913572327,
          -4677.436050187376,
          -2736.283858401696,
          -4698.034833972949,
          -4151.617157604869,
          -6416.122658752644,
          -16893.457538723167,
          -3661.916355411645,
          -4511.593003106631,
          -6723.515123579198,
          -4447.737715872827,
          -9424.92752480277,
          -4211.454905900815,
          -9232.577700609918
         ],
         "xaxis": "x",
         "y": [
          -22267.815029093108,
          -20251.98014128357,
          -10791.320107143374,
          -26357.532604993918,
          -29648.421581064962,
          -8016.610490540263,
          -7036.694628139853,
          -8809.539993326813,
          -8199.072668712775,
          -7441.428714368523,
          -10758.7104059973,
          -6180.903744839805,
          -30312.384423791984,
          -22600.66222981273,
          -2457.8995066977077,
          -24718.085122054163,
          -25270.81890040882,
          -14128.426373087867,
          -20094.825056999627,
          -14344.004969281552,
          -25701.914695951415,
          -5735.8750238303455,
          -1325.618092203139,
          -14256.1358634032,
          -12666.458159728501,
          -7771.866856386747,
          -6971.677507518083,
          -7144.669643620434,
          -319.6760715158809,
          -8776.616086397975,
          -3305.273377768922,
          -4791.6171559091,
          -6316.7971103122845,
          -4285.465244702271,
          -26439.861473706107,
          -4398.350045363503,
          -4806.743744828437,
          -2788.2939127140394,
          -4803.6134088050285,
          -4225.158873838837,
          -6607.39315760578,
          -17118.058913893667,
          -3806.5499730512865,
          -4622.495064004272,
          -6880.788842962529,
          -4552.056564408439,
          -9610.62157947701,
          -4332.272106186822,
          -9401.64634436594
         ],
         "yaxis": "y"
        },
        {
         "customdata": [
          [
           2
          ],
          [
           13
          ],
          [
           31
          ],
          [
           32
          ],
          [
           33
          ],
          [
           34
          ],
          [
           35
          ],
          [
           36
          ],
          [
           37
          ],
          [
           38
          ],
          [
           39
          ],
          [
           40
          ],
          [
           41
          ],
          [
           42
          ],
          [
           43
          ],
          [
           44
          ],
          [
           45
          ],
          [
           46
          ],
          [
           47
          ],
          [
           48
          ],
          [
           49
          ],
          [
           50
          ],
          [
           111
          ],
          [
           112
          ],
          [
           113
          ],
          [
           114
          ],
          [
           115
          ],
          [
           116
          ],
          [
           117
          ],
          [
           118
          ],
          [
           119
          ],
          [
           120
          ],
          [
           121
          ],
          [
           122
          ],
          [
           123
          ],
          [
           124
          ],
          [
           125
          ],
          [
           126
          ],
          [
           127
          ],
          [
           128
          ],
          [
           129
          ],
          [
           130
          ],
          [
           131
          ],
          [
           132
          ],
          [
           133
          ],
          [
           134
          ],
          [
           135
          ],
          [
           136
          ],
          [
           137
          ],
          [
           138
          ],
          [
           139
          ],
          [
           140
          ],
          [
           141
          ]
         ],
         "hovertemplate": "speaker=TRUMP<br>p_clinton=%{x}<br>p_trump=%{y}<br>length=%{marker.size}<br>speech_id=%{customdata[0]}<extra></extra>",
         "legendgroup": "TRUMP",
         "marker": {
          "color": "#EF553B",
          "size": [
           29,
           3348,
           1501,
           743,
           1352,
           1894,
           2005,
           1685,
           2257,
           1987,
           2610,
           1220,
           1784,
           1438,
           1322,
           1698,
           920,
           414,
           1164,
           2770,
           1214,
           70,
           2945,
           1496,
           1334,
           1140,
           749,
           640,
           834,
           3599,
           1021,
           2273,
           1260,
           2179,
           1646,
           1546,
           2611,
           3919,
           3691,
           2096,
           4501,
           2726,
           5128,
           2565,
           2070,
           1359,
           1798,
           1589,
           973,
           2217,
           2390,
           1233,
           1793
          ],
          "sizemode": "area",
          "sizeref": 12.82,
          "symbol": "circle"
         },
         "mode": "markers",
         "name": "TRUMP",
         "orientation": "v",
         "showlegend": true,
         "type": "scatter",
         "x": [
          -219.44838670237533,
          -24516.565998114937,
          -11163.297908215589,
          -5700.206213250356,
          -10199.420193546835,
          -13764.407913568091,
          -15234.779855556471,
          -12358.062615356903,
          -17301.513938855758,
          -14987.482871849485,
          -20126.480458150952,
          -9351.395418425045,
          -13754.5285267927,
          -10906.35043466853,
          -10361.933584587568,
          -12779.717076738205,
          -6923.179341340956,
          -3296.190578513097,
          -9114.367661052078,
          -20887.650129989768,
          -9153.41520495407,
          -485.5107114557876,
          -21783.632621199824,
          -11953.73080340614,
          -10916.438472735594,
          -8881.71577977976,
          -5675.716586884131,
          -5000.849425751011,
          -6519.412839074321,
          -27915.945495404678,
          -8189.236764692321,
          -17546.689272061245,
          -10040.295948949033,
          -16709.353385182912,
          -12841.13766438917,
          -12277.877035775955,
          -20999.933036898135,
          -28759.543091423722,
          -27275.023107580055,
          -16858.71215175597,
          -33760.68936816966,
          -20212.739777869083,
          -37588.04442304963,
          -20391.267633743068,
          -15280.660001301867,
          -10960.642316499314,
          -14161.80541263066,
          -12622.158002313443,
          -7345.498506689562,
          -16740.375609342016,
          -18661.226790755903,
          -9753.57940419621,
          -14413.615227727847
         ],
         "xaxis": "x",
         "y": [
          -236.1666408291965,
          -24900.84888427812,
          -11069.023931405662,
          -5815.091820520909,
          -10382.167996412267,
          -13930.545888266624,
          -15657.547777790696,
          -12418.179317123084,
          -17561.439802108114,
          -14640.348089841524,
          -19552.554880127194,
          -9246.673016662215,
          -14346.765359189452,
          -11139.058262705928,
          -10047.082456632352,
          -13154.627580648797,
          -6948.251179258341,
          -3379.756914068078,
          -8913.558639855992,
          -20498.798180871767,
          -9356.597139361647,
          -483.8460285555663,
          -21510.86642912417,
          -11988.655167770969,
          -11065.772394980933,
          -8660.773056729799,
          -5704.339624009376,
          -4992.8769366660545,
          -6251.638100251292,
          -28001.906859529445,
          -7873.498838983681,
          -17033.061307385808,
          -9960.697654524321,
          -16146.915983809868,
          -12615.955739401676,
          -12064.308548566132,
          -21441.871052725826,
          -28709.547619022604,
          -27088.636368765478,
          -16701.534846220744,
          -33571.066727875426,
          -20372.338727239377,
          -37361.32199158434,
          -20263.04553222789,
          -14946.172115663576,
          -11060.497801401814,
          -14018.337595654315,
          -12469.51291347371,
          -7221.096040018441,
          -16761.56883481774,
          -18900.958833462388,
          -9803.315405768157,
          -14983.853839600491
         ],
         "yaxis": "y"
        }
       ],
       "layout": {
        "legend": {
         "itemsizing": "constant",
         "title": {
          "text": "speaker"
         },
         "tracegroupgap": 0
        },
        "margin": {
         "t": 60
        },
        "template": {
         "data": {
          "bar": [
           {
            "error_x": {
             "color": "#2a3f5f"
            },
            "error_y": {
             "color": "#2a3f5f"
            },
            "marker": {
             "line": {
              "color": "#E5ECF6",
              "width": 0.5
             }
            },
            "type": "bar"
           }
          ],
          "barpolar": [
           {
            "marker": {
             "line": {
              "color": "#E5ECF6",
              "width": 0.5
             }
            },
            "type": "barpolar"
           }
          ],
          "carpet": [
           {
            "aaxis": {
             "endlinecolor": "#2a3f5f",
             "gridcolor": "white",
             "linecolor": "white",
             "minorgridcolor": "white",
             "startlinecolor": "#2a3f5f"
            },
            "baxis": {
             "endlinecolor": "#2a3f5f",
             "gridcolor": "white",
             "linecolor": "white",
             "minorgridcolor": "white",
             "startlinecolor": "#2a3f5f"
            },
            "type": "carpet"
           }
          ],
          "choropleth": [
           {
            "colorbar": {
             "outlinewidth": 0,
             "ticks": ""
            },
            "type": "choropleth"
           }
          ],
          "contour": [
           {
            "colorbar": {
             "outlinewidth": 0,
             "ticks": ""
            },
            "colorscale": [
             [
              0,
              "#0d0887"
             ],
             [
              0.1111111111111111,
              "#46039f"
             ],
             [
              0.2222222222222222,
              "#7201a8"
             ],
             [
              0.3333333333333333,
              "#9c179e"
             ],
             [
              0.4444444444444444,
              "#bd3786"
             ],
             [
              0.5555555555555556,
              "#d8576b"
             ],
             [
              0.6666666666666666,
              "#ed7953"
             ],
             [
              0.7777777777777778,
              "#fb9f3a"
             ],
             [
              0.8888888888888888,
              "#fdca26"
             ],
             [
              1,
              "#f0f921"
             ]
            ],
            "type": "contour"
           }
          ],
          "contourcarpet": [
           {
            "colorbar": {
             "outlinewidth": 0,
             "ticks": ""
            },
            "type": "contourcarpet"
           }
          ],
          "heatmap": [
           {
            "colorbar": {
             "outlinewidth": 0,
             "ticks": ""
            },
            "colorscale": [
             [
              0,
              "#0d0887"
             ],
             [
              0.1111111111111111,
              "#46039f"
             ],
             [
              0.2222222222222222,
              "#7201a8"
             ],
             [
              0.3333333333333333,
              "#9c179e"
             ],
             [
              0.4444444444444444,
              "#bd3786"
             ],
             [
              0.5555555555555556,
              "#d8576b"
             ],
             [
              0.6666666666666666,
              "#ed7953"
             ],
             [
              0.7777777777777778,
              "#fb9f3a"
             ],
             [
              0.8888888888888888,
              "#fdca26"
             ],
             [
              1,
              "#f0f921"
             ]
            ],
            "type": "heatmap"
           }
          ],
          "heatmapgl": [
           {
            "colorbar": {
             "outlinewidth": 0,
             "ticks": ""
            },
            "colorscale": [
             [
              0,
              "#0d0887"
             ],
             [
              0.1111111111111111,
              "#46039f"
             ],
             [
              0.2222222222222222,
              "#7201a8"
             ],
             [
              0.3333333333333333,
              "#9c179e"
             ],
             [
              0.4444444444444444,
              "#bd3786"
             ],
             [
              0.5555555555555556,
              "#d8576b"
             ],
             [
              0.6666666666666666,
              "#ed7953"
             ],
             [
              0.7777777777777778,
              "#fb9f3a"
             ],
             [
              0.8888888888888888,
              "#fdca26"
             ],
             [
              1,
              "#f0f921"
             ]
            ],
            "type": "heatmapgl"
           }
          ],
          "histogram": [
           {
            "marker": {
             "colorbar": {
              "outlinewidth": 0,
              "ticks": ""
             }
            },
            "type": "histogram"
           }
          ],
          "histogram2d": [
           {
            "colorbar": {
             "outlinewidth": 0,
             "ticks": ""
            },
            "colorscale": [
             [
              0,
              "#0d0887"
             ],
             [
              0.1111111111111111,
              "#46039f"
             ],
             [
              0.2222222222222222,
              "#7201a8"
             ],
             [
              0.3333333333333333,
              "#9c179e"
             ],
             [
              0.4444444444444444,
              "#bd3786"
             ],
             [
              0.5555555555555556,
              "#d8576b"
             ],
             [
              0.6666666666666666,
              "#ed7953"
             ],
             [
              0.7777777777777778,
              "#fb9f3a"
             ],
             [
              0.8888888888888888,
              "#fdca26"
             ],
             [
              1,
              "#f0f921"
             ]
            ],
            "type": "histogram2d"
           }
          ],
          "histogram2dcontour": [
           {
            "colorbar": {
             "outlinewidth": 0,
             "ticks": ""
            },
            "colorscale": [
             [
              0,
              "#0d0887"
             ],
             [
              0.1111111111111111,
              "#46039f"
             ],
             [
              0.2222222222222222,
              "#7201a8"
             ],
             [
              0.3333333333333333,
              "#9c179e"
             ],
             [
              0.4444444444444444,
              "#bd3786"
             ],
             [
              0.5555555555555556,
              "#d8576b"
             ],
             [
              0.6666666666666666,
              "#ed7953"
             ],
             [
              0.7777777777777778,
              "#fb9f3a"
             ],
             [
              0.8888888888888888,
              "#fdca26"
             ],
             [
              1,
              "#f0f921"
             ]
            ],
            "type": "histogram2dcontour"
           }
          ],
          "mesh3d": [
           {
            "colorbar": {
             "outlinewidth": 0,
             "ticks": ""
            },
            "type": "mesh3d"
           }
          ],
          "parcoords": [
           {
            "line": {
             "colorbar": {
              "outlinewidth": 0,
              "ticks": ""
             }
            },
            "type": "parcoords"
           }
          ],
          "pie": [
           {
            "automargin": true,
            "type": "pie"
           }
          ],
          "scatter": [
           {
            "marker": {
             "colorbar": {
              "outlinewidth": 0,
              "ticks": ""
             }
            },
            "type": "scatter"
           }
          ],
          "scatter3d": [
           {
            "line": {
             "colorbar": {
              "outlinewidth": 0,
              "ticks": ""
             }
            },
            "marker": {
             "colorbar": {
              "outlinewidth": 0,
              "ticks": ""
             }
            },
            "type": "scatter3d"
           }
          ],
          "scattercarpet": [
           {
            "marker": {
             "colorbar": {
              "outlinewidth": 0,
              "ticks": ""
             }
            },
            "type": "scattercarpet"
           }
          ],
          "scattergeo": [
           {
            "marker": {
             "colorbar": {
              "outlinewidth": 0,
              "ticks": ""
             }
            },
            "type": "scattergeo"
           }
          ],
          "scattergl": [
           {
            "marker": {
             "colorbar": {
              "outlinewidth": 0,
              "ticks": ""
             }
            },
            "type": "scattergl"
           }
          ],
          "scattermapbox": [
           {
            "marker": {
             "colorbar": {
              "outlinewidth": 0,
              "ticks": ""
             }
            },
            "type": "scattermapbox"
           }
          ],
          "scatterpolar": [
           {
            "marker": {
             "colorbar": {
              "outlinewidth": 0,
              "ticks": ""
             }
            },
            "type": "scatterpolar"
           }
          ],
          "scatterpolargl": [
           {
            "marker": {
             "colorbar": {
              "outlinewidth": 0,
              "ticks": ""
             }
            },
            "type": "scatterpolargl"
           }
          ],
          "scatterternary": [
           {
            "marker": {
             "colorbar": {
              "outlinewidth": 0,
              "ticks": ""
             }
            },
            "type": "scatterternary"
           }
          ],
          "surface": [
           {
            "colorbar": {
             "outlinewidth": 0,
             "ticks": ""
            },
            "colorscale": [
             [
              0,
              "#0d0887"
             ],
             [
              0.1111111111111111,
              "#46039f"
             ],
             [
              0.2222222222222222,
              "#7201a8"
             ],
             [
              0.3333333333333333,
              "#9c179e"
             ],
             [
              0.4444444444444444,
              "#bd3786"
             ],
             [
              0.5555555555555556,
              "#d8576b"
             ],
             [
              0.6666666666666666,
              "#ed7953"
             ],
             [
              0.7777777777777778,
              "#fb9f3a"
             ],
             [
              0.8888888888888888,
              "#fdca26"
             ],
             [
              1,
              "#f0f921"
             ]
            ],
            "type": "surface"
           }
          ],
          "table": [
           {
            "cells": {
             "fill": {
              "color": "#EBF0F8"
             },
             "line": {
              "color": "white"
             }
            },
            "header": {
             "fill": {
              "color": "#C8D4E3"
             },
             "line": {
              "color": "white"
             }
            },
            "type": "table"
           }
          ]
         },
         "layout": {
          "annotationdefaults": {
           "arrowcolor": "#2a3f5f",
           "arrowhead": 0,
           "arrowwidth": 1
          },
          "coloraxis": {
           "colorbar": {
            "outlinewidth": 0,
            "ticks": ""
           }
          },
          "colorscale": {
           "diverging": [
            [
             0,
             "#8e0152"
            ],
            [
             0.1,
             "#c51b7d"
            ],
            [
             0.2,
             "#de77ae"
            ],
            [
             0.3,
             "#f1b6da"
            ],
            [
             0.4,
             "#fde0ef"
            ],
            [
             0.5,
             "#f7f7f7"
            ],
            [
             0.6,
             "#e6f5d0"
            ],
            [
             0.7,
             "#b8e186"
            ],
            [
             0.8,
             "#7fbc41"
            ],
            [
             0.9,
             "#4d9221"
            ],
            [
             1,
             "#276419"
            ]
           ],
           "sequential": [
            [
             0,
             "#0d0887"
            ],
            [
             0.1111111111111111,
             "#46039f"
            ],
            [
             0.2222222222222222,
             "#7201a8"
            ],
            [
             0.3333333333333333,
             "#9c179e"
            ],
            [
             0.4444444444444444,
             "#bd3786"
            ],
            [
             0.5555555555555556,
             "#d8576b"
            ],
            [
             0.6666666666666666,
             "#ed7953"
            ],
            [
             0.7777777777777778,
             "#fb9f3a"
            ],
            [
             0.8888888888888888,
             "#fdca26"
            ],
            [
             1,
             "#f0f921"
            ]
           ],
           "sequentialminus": [
            [
             0,
             "#0d0887"
            ],
            [
             0.1111111111111111,
             "#46039f"
            ],
            [
             0.2222222222222222,
             "#7201a8"
            ],
            [
             0.3333333333333333,
             "#9c179e"
            ],
            [
             0.4444444444444444,
             "#bd3786"
            ],
            [
             0.5555555555555556,
             "#d8576b"
            ],
            [
             0.6666666666666666,
             "#ed7953"
            ],
            [
             0.7777777777777778,
             "#fb9f3a"
            ],
            [
             0.8888888888888888,
             "#fdca26"
            ],
            [
             1,
             "#f0f921"
            ]
           ]
          },
          "colorway": [
           "#636efa",
           "#EF553B",
           "#00cc96",
           "#ab63fa",
           "#FFA15A",
           "#19d3f3",
           "#FF6692",
           "#B6E880",
           "#FF97FF",
           "#FECB52"
          ],
          "font": {
           "color": "#2a3f5f"
          },
          "geo": {
           "bgcolor": "white",
           "lakecolor": "white",
           "landcolor": "#E5ECF6",
           "showlakes": true,
           "showland": true,
           "subunitcolor": "white"
          },
          "hoverlabel": {
           "align": "left"
          },
          "hovermode": "closest",
          "mapbox": {
           "style": "light"
          },
          "paper_bgcolor": "white",
          "plot_bgcolor": "#E5ECF6",
          "polar": {
           "angularaxis": {
            "gridcolor": "white",
            "linecolor": "white",
            "ticks": ""
           },
           "bgcolor": "#E5ECF6",
           "radialaxis": {
            "gridcolor": "white",
            "linecolor": "white",
            "ticks": ""
           }
          },
          "scene": {
           "xaxis": {
            "backgroundcolor": "#E5ECF6",
            "gridcolor": "white",
            "gridwidth": 2,
            "linecolor": "white",
            "showbackground": true,
            "ticks": "",
            "zerolinecolor": "white"
           },
           "yaxis": {
            "backgroundcolor": "#E5ECF6",
            "gridcolor": "white",
            "gridwidth": 2,
            "linecolor": "white",
            "showbackground": true,
            "ticks": "",
            "zerolinecolor": "white"
           },
           "zaxis": {
            "backgroundcolor": "#E5ECF6",
            "gridcolor": "white",
            "gridwidth": 2,
            "linecolor": "white",
            "showbackground": true,
            "ticks": "",
            "zerolinecolor": "white"
           }
          },
          "shapedefaults": {
           "line": {
            "color": "#2a3f5f"
           }
          },
          "ternary": {
           "aaxis": {
            "gridcolor": "white",
            "linecolor": "white",
            "ticks": ""
           },
           "baxis": {
            "gridcolor": "white",
            "linecolor": "white",
            "ticks": ""
           },
           "bgcolor": "#E5ECF6",
           "caxis": {
            "gridcolor": "white",
            "linecolor": "white",
            "ticks": ""
           }
          },
          "title": {
           "x": 0.05
          },
          "xaxis": {
           "automargin": true,
           "gridcolor": "white",
           "linecolor": "white",
           "ticks": "",
           "title": {
            "standoff": 15
           },
           "zerolinecolor": "white",
           "zerolinewidth": 2
          },
          "yaxis": {
           "automargin": true,
           "gridcolor": "white",
           "linecolor": "white",
           "ticks": "",
           "title": {
            "standoff": 15
           },
           "zerolinecolor": "white",
           "zerolinewidth": 2
          }
         }
        },
        "xaxis": {
         "anchor": "y",
         "domain": [
          0,
          1
         ],
         "title": {
          "text": "p_clinton"
         }
        },
        "yaxis": {
         "anchor": "x",
         "domain": [
          0,
          1
         ],
         "title": {
          "text": "p_trump"
         }
        }
       }
      },
      "text/html": [
       "<div>\n",
       "        \n",
       "        \n",
       "            <div id=\"19d924c7-dad6-4684-a74c-48aa53b809e1\" class=\"plotly-graph-div\" style=\"height:525px; width:100%;\"></div>\n",
       "            <script type=\"text/javascript\">\n",
       "                require([\"plotly\"], function(Plotly) {\n",
       "                    window.PLOTLYENV=window.PLOTLYENV || {};\n",
       "                    \n",
       "                if (document.getElementById(\"19d924c7-dad6-4684-a74c-48aa53b809e1\")) {\n",
       "                    Plotly.newPlot(\n",
       "                        '19d924c7-dad6-4684-a74c-48aa53b809e1',\n",
       "                        [{\"customdata\": [[0], [1], [2], [3], [4], [5], [6], [7], [8], [9], [10], [11], [12], [15], [16], [17], [18], [24], [25], [26], [27], [28], [29], [30], [31], [59], [60], [61], [62], [142], [143], [144], [145], [146], [147], [148], [149], [151], [152], [153], [154], [155], [156], [157], [158], [159], [160], [161], [162]], \"hovertemplate\": \"speaker=CLINTON<br>p_clinton=%{x}<br>p_trump=%{y}<br>length=%{marker.size}<br>speech_id=%{customdata[0]}<extra></extra>\", \"legendgroup\": \"CLINTON\", \"marker\": {\"color\": \"#636efa\", \"size\": [3034, 2521, 1401, 3465, 3689, 968, 892, 1120, 1116, 965, 1389, 807, 4014, 2854, 325, 3336, 3290, 1879, 2657, 1783, 3409, 744, 198, 1858, 1723, 1028, 949, 935, 44, 1191, 425, 628, 847, 552, 3496, 579, 654, 365, 632, 558, 883, 2280, 523, 587, 863, 570, 1247, 579, 1234], \"sizemode\": \"area\", \"sizeref\": 12.82, \"symbol\": \"circle\"}, \"mode\": \"markers\", \"name\": \"CLINTON\", \"orientation\": \"v\", \"showlegend\": true, \"type\": \"scatter\", \"x\": [-21812.39748317985, -20560.319934002437, -10614.42449671969, -26468.86800457333, -29960.48620331841, -8159.927152563287, -6825.048066772348, -8569.378109635343, -8040.125671780287, -7387.938986495685, -10724.268679554418, -6017.755376081144, -29723.117617918797, -22714.452965768975, -2422.271340028561, -25222.856380770605, -24943.398988587855, -13899.163986558735, -19975.513933080063, -14719.432531054797, -25506.90722218992, -5719.896826789196, -1321.0644335422287, -14266.866947329065, -13265.782231231153, -7813.073891406971, -7379.6070586564565, -7581.520794706954, -340.97735351483146, -8435.007611865747, -3319.282006877017, -4676.659728631269, -6270.343074694266, -4169.931265109255, -26465.65726482435, -4254.84913572327, -4677.436050187376, -2736.283858401696, -4698.034833972949, -4151.617157604869, -6416.122658752644, -16893.457538723167, -3661.916355411645, -4511.593003106631, -6723.515123579198, -4447.737715872827, -9424.92752480277, -4211.454905900815, -9232.577700609918], \"xaxis\": \"x\", \"y\": [-22267.815029093108, -20251.98014128357, -10791.320107143374, -26357.532604993918, -29648.421581064962, -8016.610490540263, -7036.694628139853, -8809.539993326813, -8199.072668712775, -7441.428714368523, -10758.7104059973, -6180.903744839805, -30312.384423791984, -22600.66222981273, -2457.8995066977077, -24718.085122054163, -25270.81890040882, -14128.426373087867, -20094.825056999627, -14344.004969281552, -25701.914695951415, -5735.8750238303455, -1325.618092203139, -14256.1358634032, -12666.458159728501, -7771.866856386747, -6971.677507518083, -7144.669643620434, -319.6760715158809, -8776.616086397975, -3305.273377768922, -4791.6171559091, -6316.7971103122845, -4285.465244702271, -26439.861473706107, -4398.350045363503, -4806.743744828437, -2788.2939127140394, -4803.6134088050285, -4225.158873838837, -6607.39315760578, -17118.058913893667, -3806.5499730512865, -4622.495064004272, -6880.788842962529, -4552.056564408439, -9610.62157947701, -4332.272106186822, -9401.64634436594], \"yaxis\": \"y\"}, {\"customdata\": [[2], [13], [31], [32], [33], [34], [35], [36], [37], [38], [39], [40], [41], [42], [43], [44], [45], [46], [47], [48], [49], [50], [111], [112], [113], [114], [115], [116], [117], [118], [119], [120], [121], [122], [123], [124], [125], [126], [127], [128], [129], [130], [131], [132], [133], [134], [135], [136], [137], [138], [139], [140], [141]], \"hovertemplate\": \"speaker=TRUMP<br>p_clinton=%{x}<br>p_trump=%{y}<br>length=%{marker.size}<br>speech_id=%{customdata[0]}<extra></extra>\", \"legendgroup\": \"TRUMP\", \"marker\": {\"color\": \"#EF553B\", \"size\": [29, 3348, 1501, 743, 1352, 1894, 2005, 1685, 2257, 1987, 2610, 1220, 1784, 1438, 1322, 1698, 920, 414, 1164, 2770, 1214, 70, 2945, 1496, 1334, 1140, 749, 640, 834, 3599, 1021, 2273, 1260, 2179, 1646, 1546, 2611, 3919, 3691, 2096, 4501, 2726, 5128, 2565, 2070, 1359, 1798, 1589, 973, 2217, 2390, 1233, 1793], \"sizemode\": \"area\", \"sizeref\": 12.82, \"symbol\": \"circle\"}, \"mode\": \"markers\", \"name\": \"TRUMP\", \"orientation\": \"v\", \"showlegend\": true, \"type\": \"scatter\", \"x\": [-219.44838670237533, -24516.565998114937, -11163.297908215589, -5700.206213250356, -10199.420193546835, -13764.407913568091, -15234.779855556471, -12358.062615356903, -17301.513938855758, -14987.482871849485, -20126.480458150952, -9351.395418425045, -13754.5285267927, -10906.35043466853, -10361.933584587568, -12779.717076738205, -6923.179341340956, -3296.190578513097, -9114.367661052078, -20887.650129989768, -9153.41520495407, -485.5107114557876, -21783.632621199824, -11953.73080340614, -10916.438472735594, -8881.71577977976, -5675.716586884131, -5000.849425751011, -6519.412839074321, -27915.945495404678, -8189.236764692321, -17546.689272061245, -10040.295948949033, -16709.353385182912, -12841.13766438917, -12277.877035775955, -20999.933036898135, -28759.543091423722, -27275.023107580055, -16858.71215175597, -33760.68936816966, -20212.739777869083, -37588.04442304963, -20391.267633743068, -15280.660001301867, -10960.642316499314, -14161.80541263066, -12622.158002313443, -7345.498506689562, -16740.375609342016, -18661.226790755903, -9753.57940419621, -14413.615227727847], \"xaxis\": \"x\", \"y\": [-236.1666408291965, -24900.84888427812, -11069.023931405662, -5815.091820520909, -10382.167996412267, -13930.545888266624, -15657.547777790696, -12418.179317123084, -17561.439802108114, -14640.348089841524, -19552.554880127194, -9246.673016662215, -14346.765359189452, -11139.058262705928, -10047.082456632352, -13154.627580648797, -6948.251179258341, -3379.756914068078, -8913.558639855992, -20498.798180871767, -9356.597139361647, -483.8460285555663, -21510.86642912417, -11988.655167770969, -11065.772394980933, -8660.773056729799, -5704.339624009376, -4992.8769366660545, -6251.638100251292, -28001.906859529445, -7873.498838983681, -17033.061307385808, -9960.697654524321, -16146.915983809868, -12615.955739401676, -12064.308548566132, -21441.871052725826, -28709.547619022604, -27088.636368765478, -16701.534846220744, -33571.066727875426, -20372.338727239377, -37361.32199158434, -20263.04553222789, -14946.172115663576, -11060.497801401814, -14018.337595654315, -12469.51291347371, -7221.096040018441, -16761.56883481774, -18900.958833462388, -9803.315405768157, -14983.853839600491], \"yaxis\": \"y\"}],\n",
       "                        {\"legend\": {\"itemsizing\": \"constant\", \"title\": {\"text\": \"speaker\"}, \"tracegroupgap\": 0}, \"margin\": {\"t\": 60}, \"template\": {\"data\": {\"bar\": [{\"error_x\": {\"color\": \"#2a3f5f\"}, \"error_y\": {\"color\": \"#2a3f5f\"}, \"marker\": {\"line\": {\"color\": \"#E5ECF6\", \"width\": 0.5}}, \"type\": \"bar\"}], \"barpolar\": [{\"marker\": {\"line\": {\"color\": \"#E5ECF6\", \"width\": 0.5}}, \"type\": \"barpolar\"}], \"carpet\": [{\"aaxis\": {\"endlinecolor\": \"#2a3f5f\", \"gridcolor\": \"white\", \"linecolor\": \"white\", \"minorgridcolor\": \"white\", \"startlinecolor\": \"#2a3f5f\"}, \"baxis\": {\"endlinecolor\": \"#2a3f5f\", \"gridcolor\": \"white\", \"linecolor\": \"white\", \"minorgridcolor\": \"white\", \"startlinecolor\": \"#2a3f5f\"}, \"type\": \"carpet\"}], \"choropleth\": [{\"colorbar\": {\"outlinewidth\": 0, \"ticks\": \"\"}, \"type\": \"choropleth\"}], \"contour\": [{\"colorbar\": {\"outlinewidth\": 0, \"ticks\": \"\"}, \"colorscale\": [[0.0, \"#0d0887\"], [0.1111111111111111, \"#46039f\"], [0.2222222222222222, \"#7201a8\"], [0.3333333333333333, \"#9c179e\"], [0.4444444444444444, \"#bd3786\"], [0.5555555555555556, \"#d8576b\"], [0.6666666666666666, \"#ed7953\"], [0.7777777777777778, \"#fb9f3a\"], [0.8888888888888888, \"#fdca26\"], [1.0, \"#f0f921\"]], \"type\": \"contour\"}], \"contourcarpet\": [{\"colorbar\": {\"outlinewidth\": 0, \"ticks\": \"\"}, \"type\": \"contourcarpet\"}], \"heatmap\": [{\"colorbar\": {\"outlinewidth\": 0, \"ticks\": \"\"}, \"colorscale\": [[0.0, \"#0d0887\"], [0.1111111111111111, \"#46039f\"], [0.2222222222222222, \"#7201a8\"], [0.3333333333333333, \"#9c179e\"], [0.4444444444444444, \"#bd3786\"], [0.5555555555555556, \"#d8576b\"], [0.6666666666666666, \"#ed7953\"], [0.7777777777777778, \"#fb9f3a\"], [0.8888888888888888, \"#fdca26\"], [1.0, \"#f0f921\"]], \"type\": \"heatmap\"}], \"heatmapgl\": [{\"colorbar\": {\"outlinewidth\": 0, \"ticks\": \"\"}, \"colorscale\": [[0.0, \"#0d0887\"], [0.1111111111111111, \"#46039f\"], [0.2222222222222222, \"#7201a8\"], [0.3333333333333333, \"#9c179e\"], [0.4444444444444444, \"#bd3786\"], [0.5555555555555556, \"#d8576b\"], [0.6666666666666666, \"#ed7953\"], [0.7777777777777778, \"#fb9f3a\"], [0.8888888888888888, \"#fdca26\"], [1.0, \"#f0f921\"]], \"type\": \"heatmapgl\"}], \"histogram\": [{\"marker\": {\"colorbar\": {\"outlinewidth\": 0, \"ticks\": \"\"}}, \"type\": \"histogram\"}], \"histogram2d\": [{\"colorbar\": {\"outlinewidth\": 0, \"ticks\": \"\"}, \"colorscale\": [[0.0, \"#0d0887\"], [0.1111111111111111, \"#46039f\"], [0.2222222222222222, \"#7201a8\"], [0.3333333333333333, \"#9c179e\"], [0.4444444444444444, \"#bd3786\"], [0.5555555555555556, \"#d8576b\"], [0.6666666666666666, \"#ed7953\"], [0.7777777777777778, \"#fb9f3a\"], [0.8888888888888888, \"#fdca26\"], [1.0, \"#f0f921\"]], \"type\": \"histogram2d\"}], \"histogram2dcontour\": [{\"colorbar\": {\"outlinewidth\": 0, \"ticks\": \"\"}, \"colorscale\": [[0.0, \"#0d0887\"], [0.1111111111111111, \"#46039f\"], [0.2222222222222222, \"#7201a8\"], [0.3333333333333333, \"#9c179e\"], [0.4444444444444444, \"#bd3786\"], [0.5555555555555556, \"#d8576b\"], [0.6666666666666666, \"#ed7953\"], [0.7777777777777778, \"#fb9f3a\"], [0.8888888888888888, \"#fdca26\"], [1.0, \"#f0f921\"]], \"type\": \"histogram2dcontour\"}], \"mesh3d\": [{\"colorbar\": {\"outlinewidth\": 0, \"ticks\": \"\"}, \"type\": \"mesh3d\"}], \"parcoords\": [{\"line\": {\"colorbar\": {\"outlinewidth\": 0, \"ticks\": \"\"}}, \"type\": \"parcoords\"}], \"pie\": [{\"automargin\": true, \"type\": \"pie\"}], \"scatter\": [{\"marker\": {\"colorbar\": {\"outlinewidth\": 0, \"ticks\": \"\"}}, \"type\": \"scatter\"}], \"scatter3d\": [{\"line\": {\"colorbar\": {\"outlinewidth\": 0, \"ticks\": \"\"}}, \"marker\": {\"colorbar\": {\"outlinewidth\": 0, \"ticks\": \"\"}}, \"type\": \"scatter3d\"}], \"scattercarpet\": [{\"marker\": {\"colorbar\": {\"outlinewidth\": 0, \"ticks\": \"\"}}, \"type\": \"scattercarpet\"}], \"scattergeo\": [{\"marker\": {\"colorbar\": {\"outlinewidth\": 0, \"ticks\": \"\"}}, \"type\": \"scattergeo\"}], \"scattergl\": [{\"marker\": {\"colorbar\": {\"outlinewidth\": 0, \"ticks\": \"\"}}, \"type\": \"scattergl\"}], \"scattermapbox\": [{\"marker\": {\"colorbar\": {\"outlinewidth\": 0, \"ticks\": \"\"}}, \"type\": \"scattermapbox\"}], \"scatterpolar\": [{\"marker\": {\"colorbar\": {\"outlinewidth\": 0, \"ticks\": \"\"}}, \"type\": \"scatterpolar\"}], \"scatterpolargl\": [{\"marker\": {\"colorbar\": {\"outlinewidth\": 0, \"ticks\": \"\"}}, \"type\": \"scatterpolargl\"}], \"scatterternary\": [{\"marker\": {\"colorbar\": {\"outlinewidth\": 0, \"ticks\": \"\"}}, \"type\": \"scatterternary\"}], \"surface\": [{\"colorbar\": {\"outlinewidth\": 0, \"ticks\": \"\"}, \"colorscale\": [[0.0, \"#0d0887\"], [0.1111111111111111, \"#46039f\"], [0.2222222222222222, \"#7201a8\"], [0.3333333333333333, \"#9c179e\"], [0.4444444444444444, \"#bd3786\"], [0.5555555555555556, \"#d8576b\"], [0.6666666666666666, \"#ed7953\"], [0.7777777777777778, \"#fb9f3a\"], [0.8888888888888888, \"#fdca26\"], [1.0, \"#f0f921\"]], \"type\": \"surface\"}], \"table\": [{\"cells\": {\"fill\": {\"color\": \"#EBF0F8\"}, \"line\": {\"color\": \"white\"}}, \"header\": {\"fill\": {\"color\": \"#C8D4E3\"}, \"line\": {\"color\": \"white\"}}, \"type\": \"table\"}]}, \"layout\": {\"annotationdefaults\": {\"arrowcolor\": \"#2a3f5f\", \"arrowhead\": 0, \"arrowwidth\": 1}, \"coloraxis\": {\"colorbar\": {\"outlinewidth\": 0, \"ticks\": \"\"}}, \"colorscale\": {\"diverging\": [[0, \"#8e0152\"], [0.1, \"#c51b7d\"], [0.2, \"#de77ae\"], [0.3, \"#f1b6da\"], [0.4, \"#fde0ef\"], [0.5, \"#f7f7f7\"], [0.6, \"#e6f5d0\"], [0.7, \"#b8e186\"], [0.8, \"#7fbc41\"], [0.9, \"#4d9221\"], [1, \"#276419\"]], \"sequential\": [[0.0, \"#0d0887\"], [0.1111111111111111, \"#46039f\"], [0.2222222222222222, \"#7201a8\"], [0.3333333333333333, \"#9c179e\"], [0.4444444444444444, \"#bd3786\"], [0.5555555555555556, \"#d8576b\"], [0.6666666666666666, \"#ed7953\"], [0.7777777777777778, \"#fb9f3a\"], [0.8888888888888888, \"#fdca26\"], [1.0, \"#f0f921\"]], \"sequentialminus\": [[0.0, \"#0d0887\"], [0.1111111111111111, \"#46039f\"], [0.2222222222222222, \"#7201a8\"], [0.3333333333333333, \"#9c179e\"], [0.4444444444444444, \"#bd3786\"], [0.5555555555555556, \"#d8576b\"], [0.6666666666666666, \"#ed7953\"], [0.7777777777777778, \"#fb9f3a\"], [0.8888888888888888, \"#fdca26\"], [1.0, \"#f0f921\"]]}, \"colorway\": [\"#636efa\", \"#EF553B\", \"#00cc96\", \"#ab63fa\", \"#FFA15A\", \"#19d3f3\", \"#FF6692\", \"#B6E880\", \"#FF97FF\", \"#FECB52\"], \"font\": {\"color\": \"#2a3f5f\"}, \"geo\": {\"bgcolor\": \"white\", \"lakecolor\": \"white\", \"landcolor\": \"#E5ECF6\", \"showlakes\": true, \"showland\": true, \"subunitcolor\": \"white\"}, \"hoverlabel\": {\"align\": \"left\"}, \"hovermode\": \"closest\", \"mapbox\": {\"style\": \"light\"}, \"paper_bgcolor\": \"white\", \"plot_bgcolor\": \"#E5ECF6\", \"polar\": {\"angularaxis\": {\"gridcolor\": \"white\", \"linecolor\": \"white\", \"ticks\": \"\"}, \"bgcolor\": \"#E5ECF6\", \"radialaxis\": {\"gridcolor\": \"white\", \"linecolor\": \"white\", \"ticks\": \"\"}}, \"scene\": {\"xaxis\": {\"backgroundcolor\": \"#E5ECF6\", \"gridcolor\": \"white\", \"gridwidth\": 2, \"linecolor\": \"white\", \"showbackground\": true, \"ticks\": \"\", \"zerolinecolor\": \"white\"}, \"yaxis\": {\"backgroundcolor\": \"#E5ECF6\", \"gridcolor\": \"white\", \"gridwidth\": 2, \"linecolor\": \"white\", \"showbackground\": true, \"ticks\": \"\", \"zerolinecolor\": \"white\"}, \"zaxis\": {\"backgroundcolor\": \"#E5ECF6\", \"gridcolor\": \"white\", \"gridwidth\": 2, \"linecolor\": \"white\", \"showbackground\": true, \"ticks\": \"\", \"zerolinecolor\": \"white\"}}, \"shapedefaults\": {\"line\": {\"color\": \"#2a3f5f\"}}, \"ternary\": {\"aaxis\": {\"gridcolor\": \"white\", \"linecolor\": \"white\", \"ticks\": \"\"}, \"baxis\": {\"gridcolor\": \"white\", \"linecolor\": \"white\", \"ticks\": \"\"}, \"bgcolor\": \"#E5ECF6\", \"caxis\": {\"gridcolor\": \"white\", \"linecolor\": \"white\", \"ticks\": \"\"}}, \"title\": {\"x\": 0.05}, \"xaxis\": {\"automargin\": true, \"gridcolor\": \"white\", \"linecolor\": \"white\", \"ticks\": \"\", \"title\": {\"standoff\": 15}, \"zerolinecolor\": \"white\", \"zerolinewidth\": 2}, \"yaxis\": {\"automargin\": true, \"gridcolor\": \"white\", \"linecolor\": \"white\", \"ticks\": \"\", \"title\": {\"standoff\": 15}, \"zerolinecolor\": \"white\", \"zerolinewidth\": 2}}}, \"xaxis\": {\"anchor\": \"y\", \"domain\": [0.0, 1.0], \"title\": {\"text\": \"p_clinton\"}}, \"yaxis\": {\"anchor\": \"x\", \"domain\": [0.0, 1.0], \"title\": {\"text\": \"p_trump\"}}},\n",
       "                        {\"responsive\": true}\n",
       "                    ).then(function(){\n",
       "                            \n",
       "var gd = document.getElementById('19d924c7-dad6-4684-a74c-48aa53b809e1');\n",
       "var x = new MutationObserver(function (mutations, observer) {{\n",
       "        var display = window.getComputedStyle(gd).display;\n",
       "        if (!display || display === 'none') {{\n",
       "            console.log([gd, 'removed!']);\n",
       "            Plotly.purge(gd);\n",
       "            observer.disconnect();\n",
       "        }}\n",
       "}});\n",
       "\n",
       "// Listen for the removal of the full notebook cells\n",
       "var notebookContainer = gd.closest('#notebook-container');\n",
       "if (notebookContainer) {{\n",
       "    x.observe(notebookContainer, {childList: true});\n",
       "}}\n",
       "\n",
       "// Listen for the clearing of the current output cell\n",
       "var outputEl = gd.closest('.output');\n",
       "if (outputEl) {{\n",
       "    x.observe(outputEl, {childList: true});\n",
       "}}\n",
       "\n",
       "                        })\n",
       "                };\n",
       "                });\n",
       "            </script>\n",
       "        </div>"
      ]
     },
     "metadata": {},
     "output_type": "display_data"
    }
   ],
   "source": [
    "import plotly.express as px\n",
    "fig = px.scatter(tg, x='p_clinton',y='p_trump',color='speaker', size=\"length\", hover_data=['speech_id'])\n",
    "fig.show()"
   ]
  },
  {
   "cell_type": "code",
   "execution_count": 57,
   "metadata": {},
   "outputs": [
    {
     "data": {
      "text/html": [
       "<div>\n",
       "<style scoped>\n",
       "    .dataframe tbody tr th:only-of-type {\n",
       "        vertical-align: middle;\n",
       "    }\n",
       "\n",
       "    .dataframe tbody tr th {\n",
       "        vertical-align: top;\n",
       "    }\n",
       "\n",
       "    .dataframe thead th {\n",
       "        text-align: right;\n",
       "    }\n",
       "</style>\n",
       "<table border=\"1\" class=\"dataframe\">\n",
       "  <thead>\n",
       "    <tr style=\"text-align: right;\">\n",
       "      <th></th>\n",
       "      <th>speech_id</th>\n",
       "      <th>speaker</th>\n",
       "      <th>p_clinton</th>\n",
       "      <th>p_trump</th>\n",
       "      <th>length</th>\n",
       "    </tr>\n",
       "  </thead>\n",
       "  <tbody>\n",
       "    <tr>\n",
       "      <th>0</th>\n",
       "      <td>0</td>\n",
       "      <td>CLINTON</td>\n",
       "      <td>-21812.397483</td>\n",
       "      <td>-22267.815029</td>\n",
       "      <td>3034</td>\n",
       "    </tr>\n",
       "    <tr>\n",
       "      <th>1</th>\n",
       "      <td>1</td>\n",
       "      <td>CLINTON</td>\n",
       "      <td>-20560.319934</td>\n",
       "      <td>-20251.980141</td>\n",
       "      <td>2521</td>\n",
       "    </tr>\n",
       "    <tr>\n",
       "      <th>2</th>\n",
       "      <td>2</td>\n",
       "      <td>CLINTON</td>\n",
       "      <td>-10614.424497</td>\n",
       "      <td>-10791.320107</td>\n",
       "      <td>1401</td>\n",
       "    </tr>\n",
       "    <tr>\n",
       "      <th>3</th>\n",
       "      <td>2</td>\n",
       "      <td>TRUMP</td>\n",
       "      <td>-219.448387</td>\n",
       "      <td>-236.166641</td>\n",
       "      <td>29</td>\n",
       "    </tr>\n",
       "    <tr>\n",
       "      <th>4</th>\n",
       "      <td>3</td>\n",
       "      <td>CLINTON</td>\n",
       "      <td>-26468.868005</td>\n",
       "      <td>-26357.532605</td>\n",
       "      <td>3465</td>\n",
       "    </tr>\n",
       "    <tr>\n",
       "      <th>...</th>\n",
       "      <td>...</td>\n",
       "      <td>...</td>\n",
       "      <td>...</td>\n",
       "      <td>...</td>\n",
       "      <td>...</td>\n",
       "    </tr>\n",
       "    <tr>\n",
       "      <th>97</th>\n",
       "      <td>158</td>\n",
       "      <td>CLINTON</td>\n",
       "      <td>-6723.515124</td>\n",
       "      <td>-6880.788843</td>\n",
       "      <td>863</td>\n",
       "    </tr>\n",
       "    <tr>\n",
       "      <th>98</th>\n",
       "      <td>159</td>\n",
       "      <td>CLINTON</td>\n",
       "      <td>-4447.737716</td>\n",
       "      <td>-4552.056564</td>\n",
       "      <td>570</td>\n",
       "    </tr>\n",
       "    <tr>\n",
       "      <th>99</th>\n",
       "      <td>160</td>\n",
       "      <td>CLINTON</td>\n",
       "      <td>-9424.927525</td>\n",
       "      <td>-9610.621579</td>\n",
       "      <td>1247</td>\n",
       "    </tr>\n",
       "    <tr>\n",
       "      <th>100</th>\n",
       "      <td>161</td>\n",
       "      <td>CLINTON</td>\n",
       "      <td>-4211.454906</td>\n",
       "      <td>-4332.272106</td>\n",
       "      <td>579</td>\n",
       "    </tr>\n",
       "    <tr>\n",
       "      <th>101</th>\n",
       "      <td>162</td>\n",
       "      <td>CLINTON</td>\n",
       "      <td>-9232.577701</td>\n",
       "      <td>-9401.646344</td>\n",
       "      <td>1234</td>\n",
       "    </tr>\n",
       "  </tbody>\n",
       "</table>\n",
       "<p>102 rows × 5 columns</p>\n",
       "</div>"
      ],
      "text/plain": [
       "     speech_id  speaker     p_clinton       p_trump  length\n",
       "0            0  CLINTON -21812.397483 -22267.815029    3034\n",
       "1            1  CLINTON -20560.319934 -20251.980141    2521\n",
       "2            2  CLINTON -10614.424497 -10791.320107    1401\n",
       "3            2    TRUMP   -219.448387   -236.166641      29\n",
       "4            3  CLINTON -26468.868005 -26357.532605    3465\n",
       "..         ...      ...           ...           ...     ...\n",
       "97         158  CLINTON  -6723.515124  -6880.788843     863\n",
       "98         159  CLINTON  -4447.737716  -4552.056564     570\n",
       "99         160  CLINTON  -9424.927525  -9610.621579    1247\n",
       "100        161  CLINTON  -4211.454906  -4332.272106     579\n",
       "101        162  CLINTON  -9232.577701  -9401.646344    1234\n",
       "\n",
       "[102 rows x 5 columns]"
      ]
     },
     "execution_count": 57,
     "metadata": {},
     "output_type": "execute_result"
    }
   ],
   "source": [
    "tg"
   ]
  },
  {
   "cell_type": "code",
   "execution_count": null,
   "metadata": {},
   "outputs": [],
   "source": []
  },
  {
   "cell_type": "code",
   "execution_count": null,
   "metadata": {},
   "outputs": [],
   "source": []
  },
  {
   "cell_type": "code",
   "execution_count": 73,
   "metadata": {},
   "outputs": [
    {
     "data": {
      "text/html": [
       "<div>\n",
       "<style scoped>\n",
       "    .dataframe tbody tr th:only-of-type {\n",
       "        vertical-align: middle;\n",
       "    }\n",
       "\n",
       "    .dataframe tbody tr th {\n",
       "        vertical-align: top;\n",
       "    }\n",
       "\n",
       "    .dataframe thead th {\n",
       "        text-align: right;\n",
       "    }\n",
       "</style>\n",
       "<table border=\"1\" class=\"dataframe\">\n",
       "  <thead>\n",
       "    <tr style=\"text-align: right;\">\n",
       "      <th></th>\n",
       "      <th>speaker</th>\n",
       "      <th>para_id</th>\n",
       "      <th>sent_id</th>\n",
       "      <th>token_id</th>\n",
       "      <th>pos</th>\n",
       "      <th>token_str</th>\n",
       "      <th>term_str</th>\n",
       "      <th>term_id</th>\n",
       "      <th>stop</th>\n",
       "      <th>p_clinton</th>\n",
       "      <th>p_trump</th>\n",
       "      <th>p_clinton</th>\n",
       "      <th>p_trump</th>\n",
       "    </tr>\n",
       "    <tr>\n",
       "      <th>speech_id</th>\n",
       "      <th></th>\n",
       "      <th></th>\n",
       "      <th></th>\n",
       "      <th></th>\n",
       "      <th></th>\n",
       "      <th></th>\n",
       "      <th></th>\n",
       "      <th></th>\n",
       "      <th></th>\n",
       "      <th></th>\n",
       "      <th></th>\n",
       "      <th></th>\n",
       "      <th></th>\n",
       "    </tr>\n",
       "  </thead>\n",
       "  <tbody>\n",
       "    <tr>\n",
       "      <th>0</th>\n",
       "      <td>CLINTON</td>\n",
       "      <td>0</td>\n",
       "      <td>0</td>\n",
       "      <td>0</td>\n",
       "      <td>NN</td>\n",
       "      <td>Wow.</td>\n",
       "      <td>wow</td>\n",
       "      <td>11049</td>\n",
       "      <td>0</td>\n",
       "      <td>-9.255792</td>\n",
       "      <td>-8.638712</td>\n",
       "      <td>-9.255792</td>\n",
       "      <td>-8.638712</td>\n",
       "    </tr>\n",
       "    <tr>\n",
       "      <th>0</th>\n",
       "      <td>CLINTON</td>\n",
       "      <td>0</td>\n",
       "      <td>1</td>\n",
       "      <td>0</td>\n",
       "      <td>NNP</td>\n",
       "      <td>Thank</td>\n",
       "      <td>thank</td>\n",
       "      <td>10001</td>\n",
       "      <td>0</td>\n",
       "      <td>-6.498951</td>\n",
       "      <td>-5.882707</td>\n",
       "      <td>-6.498951</td>\n",
       "      <td>-5.882707</td>\n",
       "    </tr>\n",
       "    <tr>\n",
       "      <th>0</th>\n",
       "      <td>CLINTON</td>\n",
       "      <td>0</td>\n",
       "      <td>2</td>\n",
       "      <td>0</td>\n",
       "      <td>NNP</td>\n",
       "      <td>Thank</td>\n",
       "      <td>thank</td>\n",
       "      <td>10001</td>\n",
       "      <td>0</td>\n",
       "      <td>-6.498951</td>\n",
       "      <td>-5.882707</td>\n",
       "      <td>-6.498951</td>\n",
       "      <td>-5.882707</td>\n",
       "    </tr>\n",
       "    <tr>\n",
       "      <th>0</th>\n",
       "      <td>CLINTON</td>\n",
       "      <td>0</td>\n",
       "      <td>3</td>\n",
       "      <td>0</td>\n",
       "      <td>NNP</td>\n",
       "      <td>Thank</td>\n",
       "      <td>thank</td>\n",
       "      <td>10001</td>\n",
       "      <td>0</td>\n",
       "      <td>-6.498951</td>\n",
       "      <td>-5.882707</td>\n",
       "      <td>-6.498951</td>\n",
       "      <td>-5.882707</td>\n",
       "    </tr>\n",
       "    <tr>\n",
       "      <th>0</th>\n",
       "      <td>CLINTON</td>\n",
       "      <td>0</td>\n",
       "      <td>4</td>\n",
       "      <td>2</td>\n",
       "      <td>RB</td>\n",
       "      <td>really</td>\n",
       "      <td>really</td>\n",
       "      <td>8151</td>\n",
       "      <td>0</td>\n",
       "      <td>-5.563792</td>\n",
       "      <td>-6.265031</td>\n",
       "      <td>-5.563792</td>\n",
       "      <td>-6.265031</td>\n",
       "    </tr>\n",
       "    <tr>\n",
       "      <th>...</th>\n",
       "      <td>...</td>\n",
       "      <td>...</td>\n",
       "      <td>...</td>\n",
       "      <td>...</td>\n",
       "      <td>...</td>\n",
       "      <td>...</td>\n",
       "      <td>...</td>\n",
       "      <td>...</td>\n",
       "      <td>...</td>\n",
       "      <td>...</td>\n",
       "      <td>...</td>\n",
       "      <td>...</td>\n",
       "      <td>...</td>\n",
       "    </tr>\n",
       "    <tr>\n",
       "      <th>162</th>\n",
       "      <td>CLINTON</td>\n",
       "      <td>273</td>\n",
       "      <td>0</td>\n",
       "      <td>0</td>\n",
       "      <td>NNP</td>\n",
       "      <td>Thank</td>\n",
       "      <td>thank</td>\n",
       "      <td>10001</td>\n",
       "      <td>0</td>\n",
       "      <td>-6.498951</td>\n",
       "      <td>-5.882707</td>\n",
       "      <td>-6.498951</td>\n",
       "      <td>-5.882707</td>\n",
       "    </tr>\n",
       "    <tr>\n",
       "      <th>162</th>\n",
       "      <td>CLINTON</td>\n",
       "      <td>273</td>\n",
       "      <td>0</td>\n",
       "      <td>3</td>\n",
       "      <td>VBP</td>\n",
       "      <td>much,</td>\n",
       "      <td>much</td>\n",
       "      <td>6637</td>\n",
       "      <td>0</td>\n",
       "      <td>-6.338021</td>\n",
       "      <td>-6.207873</td>\n",
       "      <td>-6.338021</td>\n",
       "      <td>-6.207873</td>\n",
       "    </tr>\n",
       "    <tr>\n",
       "      <th>162</th>\n",
       "      <td>CLINTON</td>\n",
       "      <td>273</td>\n",
       "      <td>0</td>\n",
       "      <td>4</td>\n",
       "      <td>NNP</td>\n",
       "      <td>Chris.</td>\n",
       "      <td>chris</td>\n",
       "      <td>1965</td>\n",
       "      <td>0</td>\n",
       "      <td>-7.869497</td>\n",
       "      <td>-10.196857</td>\n",
       "      <td>-7.869497</td>\n",
       "      <td>-10.196857</td>\n",
       "    </tr>\n",
       "    <tr>\n",
       "      <th>162</th>\n",
       "      <td>CLINTON</td>\n",
       "      <td>273</td>\n",
       "      <td>1</td>\n",
       "      <td>0</td>\n",
       "      <td>NN</td>\n",
       "      <td>Great</td>\n",
       "      <td>great</td>\n",
       "      <td>4640</td>\n",
       "      <td>0</td>\n",
       "      <td>-6.072543</td>\n",
       "      <td>-5.601737</td>\n",
       "      <td>-6.072543</td>\n",
       "      <td>-5.601737</td>\n",
       "    </tr>\n",
       "    <tr>\n",
       "      <th>162</th>\n",
       "      <td>CLINTON</td>\n",
       "      <td>273</td>\n",
       "      <td>1</td>\n",
       "      <td>2</td>\n",
       "      <td>VB</td>\n",
       "      <td>see</td>\n",
       "      <td>see</td>\n",
       "      <td>8913</td>\n",
       "      <td>0</td>\n",
       "      <td>-6.422578</td>\n",
       "      <td>-6.429859</td>\n",
       "      <td>-6.422578</td>\n",
       "      <td>-6.429859</td>\n",
       "    </tr>\n",
       "  </tbody>\n",
       "</table>\n",
       "<p>169832 rows × 13 columns</p>\n",
       "</div>"
      ],
      "text/plain": [
       "           speaker  para_id  sent_id  token_id  pos token_str term_str  \\\n",
       "speech_id                                                                \n",
       "0          CLINTON        0        0         0   NN      Wow.      wow   \n",
       "0          CLINTON        0        1         0  NNP     Thank    thank   \n",
       "0          CLINTON        0        2         0  NNP     Thank    thank   \n",
       "0          CLINTON        0        3         0  NNP     Thank    thank   \n",
       "0          CLINTON        0        4         2   RB    really   really   \n",
       "...            ...      ...      ...       ...  ...       ...      ...   \n",
       "162        CLINTON      273        0         0  NNP     Thank    thank   \n",
       "162        CLINTON      273        0         3  VBP     much,     much   \n",
       "162        CLINTON      273        0         4  NNP    Chris.    chris   \n",
       "162        CLINTON      273        1         0   NN     Great    great   \n",
       "162        CLINTON      273        1         2   VB       see      see   \n",
       "\n",
       "           term_id  stop  p_clinton    p_trump  p_clinton    p_trump  \n",
       "speech_id                                                             \n",
       "0            11049     0  -9.255792  -8.638712  -9.255792  -8.638712  \n",
       "0            10001     0  -6.498951  -5.882707  -6.498951  -5.882707  \n",
       "0            10001     0  -6.498951  -5.882707  -6.498951  -5.882707  \n",
       "0            10001     0  -6.498951  -5.882707  -6.498951  -5.882707  \n",
       "0             8151     0  -5.563792  -6.265031  -5.563792  -6.265031  \n",
       "...            ...   ...        ...        ...        ...        ...  \n",
       "162          10001     0  -6.498951  -5.882707  -6.498951  -5.882707  \n",
       "162           6637     0  -6.338021  -6.207873  -6.338021  -6.207873  \n",
       "162           1965     0  -7.869497 -10.196857  -7.869497 -10.196857  \n",
       "162           4640     0  -6.072543  -5.601737  -6.072543  -5.601737  \n",
       "162           8913     0  -6.422578  -6.429859  -6.422578  -6.429859  \n",
       "\n",
       "[169832 rows x 13 columns]"
      ]
     },
     "execution_count": 73,
     "metadata": {},
     "output_type": "execute_result"
    }
   ],
   "source": [
    "token"
   ]
  },
  {
   "cell_type": "code",
   "execution_count": null,
   "metadata": {},
   "outputs": [],
   "source": []
  },
  {
   "cell_type": "code",
   "execution_count": 74,
   "metadata": {},
   "outputs": [
    {
     "name": "stderr",
     "output_type": "stream",
     "text": [
      "<ipython-input-74-5bf9a51ae2b1>:15: SettingWithCopyWarning:\n",
      "\n",
      "\n",
      "A value is trying to be set on a copy of a slice from a DataFrame.\n",
      "Try using .loc[row_indexer,col_indexer] = value instead\n",
      "\n",
      "See the caveats in the documentation: https://pandas.pydata.org/pandas-docs/stable/user_guide/indexing.html#returning-a-view-versus-a-copy\n",
      "\n",
      "<ipython-input-74-5bf9a51ae2b1>:18: SettingWithCopyWarning:\n",
      "\n",
      "\n",
      "A value is trying to be set on a copy of a slice from a DataFrame.\n",
      "Try using .loc[row_indexer,col_indexer] = value instead\n",
      "\n",
      "See the caveats in the documentation: https://pandas.pydata.org/pandas-docs/stable/user_guide/indexing.html#returning-a-view-versus-a-copy\n",
      "\n"
     ]
    },
    {
     "data": {
      "text/html": [
       "<div>\n",
       "<style scoped>\n",
       "    .dataframe tbody tr th:only-of-type {\n",
       "        vertical-align: middle;\n",
       "    }\n",
       "\n",
       "    .dataframe tbody tr th {\n",
       "        vertical-align: top;\n",
       "    }\n",
       "\n",
       "    .dataframe thead th {\n",
       "        text-align: right;\n",
       "    }\n",
       "</style>\n",
       "<table border=\"1\" class=\"dataframe\">\n",
       "  <thead>\n",
       "    <tr style=\"text-align: right;\">\n",
       "      <th></th>\n",
       "      <th>term_str</th>\n",
       "      <th>n</th>\n",
       "      <th>freq</th>\n",
       "      <th>likelihood</th>\n",
       "    </tr>\n",
       "    <tr>\n",
       "      <th>term_id</th>\n",
       "      <th></th>\n",
       "      <th></th>\n",
       "      <th></th>\n",
       "      <th></th>\n",
       "    </tr>\n",
       "  </thead>\n",
       "  <tbody>\n",
       "    <tr>\n",
       "      <th>3604</th>\n",
       "      <td>extorted</td>\n",
       "      <td>0</td>\n",
       "      <td>1018.0</td>\n",
       "      <td>-4.408656</td>\n",
       "    </tr>\n",
       "    <tr>\n",
       "      <th>3604</th>\n",
       "      <td>know</td>\n",
       "      <td>1018</td>\n",
       "      <td>1018.0</td>\n",
       "      <td>-4.408656</td>\n",
       "    </tr>\n",
       "    <tr>\n",
       "      <th>4574</th>\n",
       "      <td>people</td>\n",
       "      <td>720</td>\n",
       "      <td>720.0</td>\n",
       "      <td>-4.754594</td>\n",
       "    </tr>\n",
       "    <tr>\n",
       "      <th>2836</th>\n",
       "      <td>going</td>\n",
       "      <td>632</td>\n",
       "      <td>632.0</td>\n",
       "      <td>-4.884763</td>\n",
       "    </tr>\n",
       "    <tr>\n",
       "      <th>6304</th>\n",
       "      <td>think</td>\n",
       "      <td>588</td>\n",
       "      <td>588.0</td>\n",
       "      <td>-4.956807</td>\n",
       "    </tr>\n",
       "    <tr>\n",
       "      <th>...</th>\n",
       "      <td>...</td>\n",
       "      <td>...</td>\n",
       "      <td>...</td>\n",
       "      <td>...</td>\n",
       "    </tr>\n",
       "    <tr>\n",
       "      <th>10026</th>\n",
       "      <td>yen</td>\n",
       "      <td>0</td>\n",
       "      <td>NaN</td>\n",
       "      <td>NaN</td>\n",
       "    </tr>\n",
       "    <tr>\n",
       "      <th>10032</th>\n",
       "      <td>yitzhak</td>\n",
       "      <td>0</td>\n",
       "      <td>NaN</td>\n",
       "      <td>NaN</td>\n",
       "    </tr>\n",
       "    <tr>\n",
       "      <th>10034</th>\n",
       "      <td>yoga</td>\n",
       "      <td>0</td>\n",
       "      <td>NaN</td>\n",
       "      <td>NaN</td>\n",
       "    </tr>\n",
       "    <tr>\n",
       "      <th>10036</th>\n",
       "      <td>yorker</td>\n",
       "      <td>0</td>\n",
       "      <td>NaN</td>\n",
       "      <td>NaN</td>\n",
       "    </tr>\n",
       "    <tr>\n",
       "      <th>10037</th>\n",
       "      <td>yorkers</td>\n",
       "      <td>0</td>\n",
       "      <td>NaN</td>\n",
       "      <td>NaN</td>\n",
       "    </tr>\n",
       "  </tbody>\n",
       "</table>\n",
       "<p>10055 rows × 4 columns</p>\n",
       "</div>"
      ],
      "text/plain": [
       "         term_str     n    freq  likelihood\n",
       "term_id                                    \n",
       "3604     extorted     0  1018.0   -4.408656\n",
       "3604         know  1018  1018.0   -4.408656\n",
       "4574       people   720   720.0   -4.754594\n",
       "2836        going   632   632.0   -4.884763\n",
       "6304        think   588   588.0   -4.956807\n",
       "...           ...   ...     ...         ...\n",
       "10026         yen     0     NaN         NaN\n",
       "10032     yitzhak     0     NaN         NaN\n",
       "10034        yoga     0     NaN         NaN\n",
       "10036      yorker     0     NaN         NaN\n",
       "10037     yorkers     0     NaN         NaN\n",
       "\n",
       "[10055 rows x 4 columns]"
      ]
     },
     "execution_count": 74,
     "metadata": {},
     "output_type": "execute_result"
    }
   ],
   "source": [
    "a = 1\n",
    "token1 = clinton_train\n",
    "token_full = train_token\n",
    "# a=1 for Laplace smoothing\n",
    "vocab1 = token1.term_str.value_counts().to_frame().rename(columns={'index':'term_str', 'term_str':'n'})\\\n",
    "    .sort_index().reset_index().rename(columns={'index':'term_str'})\n",
    "vocab1.index.name = 'term_id'\n",
    "\n",
    "vocab_full = token_full.term_str.value_counts().to_frame().rename(columns={'index':'term_str', 'term_str':'n'})\\\n",
    "    .sort_index().reset_index().rename(columns={'index':'term_str'})\n",
    "vocab_full.index.name = 'term_id'\n",
    "\n",
    "#Add all terms with a 0 for any terms not in training set\n",
    "to_add=vocab_full[~vocab_full['term_str'].isin(vocab1['term_str'])]\n",
    "to_add['n']=0\n",
    "vocab1=vocab1.append(to_add)\n",
    "\n",
    "token1['term_id'] = token1.term_str.map(vocab.reset_index().set_index('term_str').term_id)\n",
    "BOW = token1.groupby(bag+['term_id']).term_id.count()\\\n",
    "    .to_frame().rename(columns={'term_id':'n'})\n",
    "DTCM = BOW['n'].unstack().fillna(0).astype('int')\n",
    "# Term frequency - normalized\n",
    "TF = DTCM #(DTCM.T / DTCM.T.sum()).T \n",
    "DF = DTCM[DTCM > 0].count()\n",
    "freq=TF.sum().reset_index()\n",
    "#freq=DTCM.sum().reset_index() #optional to get more variance in the likelihood\n",
    "vocab1['freq'] = freq[0]\n",
    "tf = vocab1.freq # term frequency \n",
    "N = vocab1.freq.sum() # sum of all term frequencies in this class\n",
    "V = vocab1[vocab1.freq > 0].shape[0] # vocab size\n",
    "# https://stackoverflow.com/questions/3704570/in-python-small-floats-tending-to-zero\n",
    "# https://nlp.stanford.edu/IR-book/html/htmledition/naive-bayes-text-classification-1.html\n",
    "# using the log likelihood for these reasons\n",
    "vocab1['likelihood'] = np.log((tf+a) / (N + a*V))\n",
    "vocab1.sort_values('likelihood',ascending=False)\n",
    "\n"
   ]
  },
  {
   "cell_type": "code",
   "execution_count": null,
   "metadata": {},
   "outputs": [],
   "source": []
  }
 ],
 "metadata": {
  "kernelspec": {
   "display_name": "Python 3",
   "language": "python",
   "name": "python3"
  },
  "language_info": {
   "codemirror_mode": {
    "name": "ipython",
    "version": 3
   },
   "file_extension": ".py",
   "mimetype": "text/x-python",
   "name": "python",
   "nbconvert_exporter": "python",
   "pygments_lexer": "ipython3",
   "version": "3.8.3"
  }
 },
 "nbformat": 4,
 "nbformat_minor": 4
}
