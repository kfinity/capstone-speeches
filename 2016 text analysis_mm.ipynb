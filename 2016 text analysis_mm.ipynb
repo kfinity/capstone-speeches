{
 "cells": [
  {
   "cell_type": "code",
   "execution_count": 208,
   "metadata": {},
   "outputs": [],
   "source": [
    "import pandas as pd\n",
    "import numpy as np\n",
    "from glob import glob\n",
    "import re\n",
    "import nltk\n",
    "from sklearn.metrics import confusion_matrix"
   ]
  },
  {
   "cell_type": "code",
   "execution_count": 209,
   "metadata": {},
   "outputs": [],
   "source": [
    "ohco = ['speech_id','speaker','para_id','sent_id','token_id']"
   ]
  },
  {
   "cell_type": "code",
   "execution_count": 210,
   "metadata": {},
   "outputs": [],
   "source": [
    "df = pd.read_json('data/ucsb_speeches_2016.json')"
   ]
  },
  {
   "cell_type": "code",
   "execution_count": 211,
   "metadata": {},
   "outputs": [
    {
     "data": {
      "text/html": [
       "<div>\n",
       "<style scoped>\n",
       "    .dataframe tbody tr th:only-of-type {\n",
       "        vertical-align: middle;\n",
       "    }\n",
       "\n",
       "    .dataframe tbody tr th {\n",
       "        vertical-align: top;\n",
       "    }\n",
       "\n",
       "    .dataframe thead th {\n",
       "        text-align: right;\n",
       "    }\n",
       "</style>\n",
       "<table border=\"1\" class=\"dataframe\">\n",
       "  <thead>\n",
       "    <tr style=\"text-align: right;\">\n",
       "      <th></th>\n",
       "      <th>link</th>\n",
       "      <th>title</th>\n",
       "      <th>date</th>\n",
       "      <th>person</th>\n",
       "      <th>transcript</th>\n",
       "    </tr>\n",
       "  </thead>\n",
       "  <tbody>\n",
       "    <tr>\n",
       "      <th>0</th>\n",
       "      <td>/documents/remarks-town-hall-meeting-portsmout...</td>\n",
       "      <td>Remarks at a Town Hall Meeting in Portsmouth, ...</td>\n",
       "      <td>2015-12-29 00:00:00+00:00</td>\n",
       "      <td>Hillary Clinton</td>\n",
       "      <td>\\nCLINTON: Wow. Thank you. Thank you all. Than...</td>\n",
       "    </tr>\n",
       "    <tr>\n",
       "      <th>1</th>\n",
       "      <td>/documents/remarks-the-university-minnesota-mi...</td>\n",
       "      <td>Remarks at the University of Minnesota in Minn...</td>\n",
       "      <td>2015-12-15 00:00:00+00:00</td>\n",
       "      <td>Hillary Clinton</td>\n",
       "      <td>\\nThank you. Thank you all very much. Thank yo...</td>\n",
       "    </tr>\n",
       "    <tr>\n",
       "      <th>2</th>\n",
       "      <td>/documents/interview-with-george-stephanopoulo...</td>\n",
       "      <td>Interview with George Stephanopoulos of ABC Ne...</td>\n",
       "      <td>2015-12-06 00:00:00+00:00</td>\n",
       "      <td>Hillary Clinton</td>\n",
       "      <td>\\nSTEPHANOPOULOS: And we'll hear more on that ...</td>\n",
       "    </tr>\n",
       "    <tr>\n",
       "      <th>3</th>\n",
       "      <td>/documents/interview-with-charlie-rose</td>\n",
       "      <td>Interview with Charlie Rose</td>\n",
       "      <td>2015-12-01 00:00:00+00:00</td>\n",
       "      <td>Hillary Clinton</td>\n",
       "      <td>\\nROSE: She is a former first lady, a former s...</td>\n",
       "    </tr>\n",
       "    <tr>\n",
       "      <th>4</th>\n",
       "      <td>/documents/remarks-and-question-and-answer-ses...</td>\n",
       "      <td>Remarks and a Question and Answer Session at t...</td>\n",
       "      <td>2015-11-19 00:00:00+00:00</td>\n",
       "      <td>Hillary Clinton</td>\n",
       "      <td>\\nCLINTON: Thank you. Thank you very much. [ap...</td>\n",
       "    </tr>\n",
       "  </tbody>\n",
       "</table>\n",
       "</div>"
      ],
      "text/plain": [
       "                                                link  \\\n",
       "0  /documents/remarks-town-hall-meeting-portsmout...   \n",
       "1  /documents/remarks-the-university-minnesota-mi...   \n",
       "2  /documents/interview-with-george-stephanopoulo...   \n",
       "3             /documents/interview-with-charlie-rose   \n",
       "4  /documents/remarks-and-question-and-answer-ses...   \n",
       "\n",
       "                                               title  \\\n",
       "0  Remarks at a Town Hall Meeting in Portsmouth, ...   \n",
       "1  Remarks at the University of Minnesota in Minn...   \n",
       "2  Interview with George Stephanopoulos of ABC Ne...   \n",
       "3                        Interview with Charlie Rose   \n",
       "4  Remarks and a Question and Answer Session at t...   \n",
       "\n",
       "                       date           person  \\\n",
       "0 2015-12-29 00:00:00+00:00  Hillary Clinton   \n",
       "1 2015-12-15 00:00:00+00:00  Hillary Clinton   \n",
       "2 2015-12-06 00:00:00+00:00  Hillary Clinton   \n",
       "3 2015-12-01 00:00:00+00:00  Hillary Clinton   \n",
       "4 2015-11-19 00:00:00+00:00  Hillary Clinton   \n",
       "\n",
       "                                          transcript  \n",
       "0  \\nCLINTON: Wow. Thank you. Thank you all. Than...  \n",
       "1  \\nThank you. Thank you all very much. Thank yo...  \n",
       "2  \\nSTEPHANOPOULOS: And we'll hear more on that ...  \n",
       "3  \\nROSE: She is a former first lady, a former s...  \n",
       "4  \\nCLINTON: Thank you. Thank you very much. [ap...  "
      ]
     },
     "execution_count": 211,
     "metadata": {},
     "output_type": "execute_result"
    }
   ],
   "source": [
    "df.head()"
   ]
  },
  {
   "cell_type": "code",
   "execution_count": 212,
   "metadata": {},
   "outputs": [],
   "source": [
    "df.index.name = 'speech_id'\n",
    "library = df[['link','title','date','person']]"
   ]
  },
  {
   "cell_type": "code",
   "execution_count": 213,
   "metadata": {},
   "outputs": [],
   "source": [
    "# first OHCO level - split out speakers, using e.g. \"CLINTON:\"\n",
    "# set default speaker for each speech - we'll set the specific ones later.\n",
    "df['speaker'] = [x[1] for x in df['person'].str.upper().str.rsplit(' ',1)]"
   ]
  },
  {
   "cell_type": "code",
   "execution_count": 214,
   "metadata": {},
   "outputs": [],
   "source": [
    "df = df.reset_index().set_index(['speech_id','speaker'])"
   ]
  },
  {
   "cell_type": "code",
   "execution_count": 215,
   "metadata": {},
   "outputs": [],
   "source": [
    "# second OHCO level - split out paragraphs, using \"\\n\" as the separator (for these transcripts). \n",
    "# Remove initial/trailing whitespace, including \\n\n",
    "df = df['transcript'].str.strip().str.split(\"\\n\", expand=True)\\\n",
    "    .stack().to_frame().rename(columns={0:'para_str'})\n",
    "df.index.names = ohco[0:3]"
   ]
  },
  {
   "cell_type": "code",
   "execution_count": 216,
   "metadata": {},
   "outputs": [],
   "source": [
    "df = df.reset_index().set_index(['speech_id','para_id'])"
   ]
  },
  {
   "cell_type": "code",
   "execution_count": 217,
   "metadata": {},
   "outputs": [],
   "source": [
    "# whenever a paragraph starts with a caps name e.g. CLINTON:\n",
    "# use that as the speaker until the next caps name\n",
    "df['speaker'] = df['para_str'].str.extract(r'([A-Z]+)(:)')[0].ffill()\n",
    "# remove the non-Trump/Clinton speakers\n",
    "df = df[df['speaker'].isin(['TRUMP','CLINTON'])]"
   ]
  },
  {
   "cell_type": "code",
   "execution_count": 218,
   "metadata": {},
   "outputs": [],
   "source": [
    "df = df.reset_index().set_index(ohco[0:3])"
   ]
  },
  {
   "cell_type": "code",
   "execution_count": 219,
   "metadata": {},
   "outputs": [],
   "source": [
    "# remove the caps names\n",
    "df['para_str'] = df['para_str'].str.replace(r'[A-Z]+: ','')\n",
    "# add spaces around dashes - count them as 2 words\n",
    "df['para_str'] = df['para_str'].str.replace('—', ' — ')\\\n",
    "    .str.replace('-', ' - ')"
   ]
  },
  {
   "cell_type": "code",
   "execution_count": 220,
   "metadata": {},
   "outputs": [],
   "source": [
    "# third ohco level - sentence\n",
    "\n",
    "# Alvarado used NLTK sentence tokenizer to split sentences. \n",
    "# but let's try it the lazy way to start\n",
    "#df = df['para_str'].str.split(\"[.!?]+\", expand=True)\\\n",
    "#    .stack().to_frame().rename(columns={0:'sent_str'})\n",
    "\n",
    "# alternate method - sentence tokenizer\n",
    "df = df['para_str'].apply(lambda x: pd.Series(nltk.sent_tokenize(x)))\\\n",
    "    .stack()\\\n",
    "    .to_frame()\\\n",
    "    .rename(columns={0:'sent_str'})\n",
    "\n",
    "\n",
    "df.index.names = ohco[0:4]"
   ]
  },
  {
   "cell_type": "code",
   "execution_count": 221,
   "metadata": {},
   "outputs": [],
   "source": [
    "# drop 0-length strings (usually at end of paragraph)\n",
    "df = df[df['sent_str'].str.len() > 0]"
   ]
  },
  {
   "cell_type": "code",
   "execution_count": 222,
   "metadata": {},
   "outputs": [
    {
     "data": {
      "text/html": [
       "<div>\n",
       "<style scoped>\n",
       "    .dataframe tbody tr th:only-of-type {\n",
       "        vertical-align: middle;\n",
       "    }\n",
       "\n",
       "    .dataframe tbody tr th {\n",
       "        vertical-align: top;\n",
       "    }\n",
       "\n",
       "    .dataframe thead th {\n",
       "        text-align: right;\n",
       "    }\n",
       "</style>\n",
       "<table border=\"1\" class=\"dataframe\">\n",
       "  <thead>\n",
       "    <tr style=\"text-align: right;\">\n",
       "      <th></th>\n",
       "      <th></th>\n",
       "      <th></th>\n",
       "      <th></th>\n",
       "      <th>sent_str</th>\n",
       "    </tr>\n",
       "    <tr>\n",
       "      <th>speech_id</th>\n",
       "      <th>speaker</th>\n",
       "      <th>para_id</th>\n",
       "      <th>sent_id</th>\n",
       "      <th></th>\n",
       "    </tr>\n",
       "  </thead>\n",
       "  <tbody>\n",
       "    <tr>\n",
       "      <th rowspan=\"5\" valign=\"top\">0</th>\n",
       "      <th rowspan=\"5\" valign=\"top\">CLINTON</th>\n",
       "      <th rowspan=\"5\" valign=\"top\">0</th>\n",
       "      <th>0</th>\n",
       "      <td>Wow.</td>\n",
       "    </tr>\n",
       "    <tr>\n",
       "      <th>1</th>\n",
       "      <td>Thank you.</td>\n",
       "    </tr>\n",
       "    <tr>\n",
       "      <th>2</th>\n",
       "      <td>Thank you all.</td>\n",
       "    </tr>\n",
       "    <tr>\n",
       "      <th>3</th>\n",
       "      <td>Thank you.</td>\n",
       "    </tr>\n",
       "    <tr>\n",
       "      <th>4</th>\n",
       "      <td>I am really delighted to be here on the first ...</td>\n",
       "    </tr>\n",
       "  </tbody>\n",
       "</table>\n",
       "</div>"
      ],
      "text/plain": [
       "                                                                            sent_str\n",
       "speech_id speaker para_id sent_id                                                   \n",
       "0         CLINTON 0       0                                                     Wow.\n",
       "                          1                                               Thank you.\n",
       "                          2                                           Thank you all.\n",
       "                          3                                               Thank you.\n",
       "                          4        I am really delighted to be here on the first ..."
      ]
     },
     "execution_count": 222,
     "metadata": {},
     "output_type": "execute_result"
    }
   ],
   "source": [
    "df.head()"
   ]
  },
  {
   "cell_type": "code",
   "execution_count": 223,
   "metadata": {},
   "outputs": [],
   "source": [
    "# fourth ohco level - tokens"
   ]
  },
  {
   "cell_type": "code",
   "execution_count": 363,
   "metadata": {},
   "outputs": [],
   "source": [
    "token = df['sent_str'].apply(lambda x: pd.Series(nltk.pos_tag(nltk.WhitespaceTokenizer().tokenize(x))))\\\n",
    "    .stack().to_frame()\\\n",
    "    .rename(columns={0:'pos_tuple'})\n",
    "token['pos'] = token.pos_tuple.apply(lambda x: x[1])\n",
    "token['token_str'] = token.pos_tuple.apply(lambda x: x[0])\n",
    "token = token.drop('pos_tuple', 1)"
   ]
  },
  {
   "cell_type": "code",
   "execution_count": 364,
   "metadata": {},
   "outputs": [],
   "source": [
    "token.index.names = ohco # ok, all done"
   ]
  },
  {
   "cell_type": "code",
   "execution_count": 365,
   "metadata": {},
   "outputs": [
    {
     "data": {
      "text/html": [
       "<div>\n",
       "<style scoped>\n",
       "    .dataframe tbody tr th:only-of-type {\n",
       "        vertical-align: middle;\n",
       "    }\n",
       "\n",
       "    .dataframe tbody tr th {\n",
       "        vertical-align: top;\n",
       "    }\n",
       "\n",
       "    .dataframe thead th {\n",
       "        text-align: right;\n",
       "    }\n",
       "</style>\n",
       "<table border=\"1\" class=\"dataframe\">\n",
       "  <thead>\n",
       "    <tr style=\"text-align: right;\">\n",
       "      <th></th>\n",
       "      <th></th>\n",
       "      <th></th>\n",
       "      <th></th>\n",
       "      <th></th>\n",
       "      <th>pos</th>\n",
       "      <th>token_str</th>\n",
       "    </tr>\n",
       "    <tr>\n",
       "      <th>speech_id</th>\n",
       "      <th>speaker</th>\n",
       "      <th>para_id</th>\n",
       "      <th>sent_id</th>\n",
       "      <th>token_id</th>\n",
       "      <th></th>\n",
       "      <th></th>\n",
       "    </tr>\n",
       "  </thead>\n",
       "  <tbody>\n",
       "    <tr>\n",
       "      <th rowspan=\"5\" valign=\"top\">0</th>\n",
       "      <th rowspan=\"5\" valign=\"top\">CLINTON</th>\n",
       "      <th rowspan=\"5\" valign=\"top\">0</th>\n",
       "      <th>0</th>\n",
       "      <th>0</th>\n",
       "      <td>NN</td>\n",
       "      <td>Wow.</td>\n",
       "    </tr>\n",
       "    <tr>\n",
       "      <th rowspan=\"2\" valign=\"top\">1</th>\n",
       "      <th>0</th>\n",
       "      <td>NNP</td>\n",
       "      <td>Thank</td>\n",
       "    </tr>\n",
       "    <tr>\n",
       "      <th>1</th>\n",
       "      <td>NN</td>\n",
       "      <td>you.</td>\n",
       "    </tr>\n",
       "    <tr>\n",
       "      <th rowspan=\"2\" valign=\"top\">2</th>\n",
       "      <th>0</th>\n",
       "      <td>NNP</td>\n",
       "      <td>Thank</td>\n",
       "    </tr>\n",
       "    <tr>\n",
       "      <th>1</th>\n",
       "      <td>PRP</td>\n",
       "      <td>you</td>\n",
       "    </tr>\n",
       "  </tbody>\n",
       "</table>\n",
       "</div>"
      ],
      "text/plain": [
       "                                            pos token_str\n",
       "speech_id speaker para_id sent_id token_id               \n",
       "0         CLINTON 0       0       0          NN      Wow.\n",
       "                          1       0         NNP     Thank\n",
       "                                  1          NN      you.\n",
       "                          2       0         NNP     Thank\n",
       "                                  1         PRP       you"
      ]
     },
     "execution_count": 365,
     "metadata": {},
     "output_type": "execute_result"
    }
   ],
   "source": [
    "token.head()"
   ]
  },
  {
   "cell_type": "code",
   "execution_count": 366,
   "metadata": {},
   "outputs": [],
   "source": [
    "# Lowercase, remove non-word characters\n",
    "token['term_str'] = token['token_str'].str.lower().str.replace('[\\W_]', '')\n",
    "# drop words which consist entirely of non-word characters\n",
    "token = token[token.term_str!=''].sort_index()"
   ]
  },
  {
   "cell_type": "code",
   "execution_count": 367,
   "metadata": {},
   "outputs": [],
   "source": [
    "# testing - using stems instead of base term str\n",
    "# worse performance - 25% accuracy\n",
    "#token['term_str_orig'] = token['term_str']\n",
    "# simple stemming - add to token so it's available in everything later\n",
    "#from nltk.stem.porter import PorterStemmer\n",
    "\n",
    "#stemmer = PorterStemmer()\n",
    "#token['term_str'] = token.term_str.apply(stemmer.stem)"
   ]
  },
  {
   "cell_type": "code",
   "execution_count": 368,
   "metadata": {},
   "outputs": [],
   "source": [
    "# testing - use bigrams instead of base term str\n",
    "# even worse performance! 10% accuracy\n",
    "#token['term_str_orig'] = token['term_str']\n",
    "\n",
    "# n+1\n",
    "#token['next_term_str'] = token.groupby(ohco[:4])['term_str'].shift(-1)\n",
    "\n",
    "#token['term_str'] = (token['term_str'] + ' ' + token['next_term_str'])\n",
    "#token = token.dropna()"
   ]
  },
  {
   "cell_type": "code",
   "execution_count": null,
   "metadata": {},
   "outputs": [],
   "source": []
  },
  {
   "cell_type": "code",
   "execution_count": 369,
   "metadata": {},
   "outputs": [],
   "source": [
    "# Checkpoint\n",
    "token.to_parquet('data/token.parquet')\n",
    "library.to_parquet('data/library.parquet')"
   ]
  },
  {
   "cell_type": "code",
   "execution_count": 370,
   "metadata": {},
   "outputs": [],
   "source": [
    "# Load from checkpoint\n",
    "if 'token' not in locals():\n",
    "    token = pd.read_parquet('data/token.parquet')\n",
    "if 'library' not in locals():\n",
    "    library = pd.read_parquet('data/library.parquet')"
   ]
  },
  {
   "cell_type": "code",
   "execution_count": 371,
   "metadata": {},
   "outputs": [],
   "source": [
    "# create vocab table\n",
    "# \n",
    "vocab = token.term_str.value_counts().to_frame().rename(columns={'index':'term_str', 'term_str':'n'})\\\n",
    "    .sort_index().reset_index().rename(columns={'index':'term_str'})\n",
    "vocab.index.name = 'term_id'"
   ]
  },
  {
   "cell_type": "code",
   "execution_count": 372,
   "metadata": {},
   "outputs": [],
   "source": [
    "# add stopwords\n",
    "vocab['stop'] = 0\n",
    "vocab.loc[vocab['term_str'].isin(nltk.corpus.stopwords.words('english')),'stop'] = 1"
   ]
  },
  {
   "cell_type": "code",
   "execution_count": 373,
   "metadata": {},
   "outputs": [],
   "source": [
    "# add term rank \n",
    "if 'term_rank' not in vocab.columns:\n",
    "    vocab = vocab.sort_values('n', ascending=False).reset_index()\n",
    "    vocab.index.name = 'term_rank'\n",
    "    vocab = vocab.reset_index().set_index('term_id')\n",
    "    vocab['term_rank'] = vocab['term_rank'] + 1 # start with 1 instead of 0"
   ]
  },
  {
   "cell_type": "code",
   "execution_count": 374,
   "metadata": {},
   "outputs": [
    {
     "data": {
      "text/html": [
       "<div>\n",
       "<style scoped>\n",
       "    .dataframe tbody tr th:only-of-type {\n",
       "        vertical-align: middle;\n",
       "    }\n",
       "\n",
       "    .dataframe tbody tr th {\n",
       "        vertical-align: top;\n",
       "    }\n",
       "\n",
       "    .dataframe thead th {\n",
       "        text-align: right;\n",
       "    }\n",
       "</style>\n",
       "<table border=\"1\" class=\"dataframe\">\n",
       "  <thead>\n",
       "    <tr style=\"text-align: right;\">\n",
       "      <th></th>\n",
       "      <th>term_rank</th>\n",
       "      <th>term_str</th>\n",
       "      <th>n</th>\n",
       "      <th>stop</th>\n",
       "    </tr>\n",
       "    <tr>\n",
       "      <th>term_id</th>\n",
       "      <th></th>\n",
       "      <th></th>\n",
       "      <th></th>\n",
       "      <th></th>\n",
       "    </tr>\n",
       "  </thead>\n",
       "  <tbody>\n",
       "    <tr>\n",
       "      <th>10012</th>\n",
       "      <td>1</td>\n",
       "      <td>the</td>\n",
       "      <td>13625</td>\n",
       "      <td>1</td>\n",
       "    </tr>\n",
       "    <tr>\n",
       "      <th>10126</th>\n",
       "      <td>2</td>\n",
       "      <td>to</td>\n",
       "      <td>12744</td>\n",
       "      <td>1</td>\n",
       "    </tr>\n",
       "    <tr>\n",
       "      <th>729</th>\n",
       "      <td>3</td>\n",
       "      <td>and</td>\n",
       "      <td>12268</td>\n",
       "      <td>1</td>\n",
       "    </tr>\n",
       "    <tr>\n",
       "      <th>5103</th>\n",
       "      <td>4</td>\n",
       "      <td>i</td>\n",
       "      <td>7464</td>\n",
       "      <td>1</td>\n",
       "    </tr>\n",
       "    <tr>\n",
       "      <th>6923</th>\n",
       "      <td>5</td>\n",
       "      <td>of</td>\n",
       "      <td>6933</td>\n",
       "      <td>1</td>\n",
       "    </tr>\n",
       "  </tbody>\n",
       "</table>\n",
       "</div>"
      ],
      "text/plain": [
       "         term_rank term_str      n  stop\n",
       "term_id                                 \n",
       "10012            1      the  13625     1\n",
       "10126            2       to  12744     1\n",
       "729              3      and  12268     1\n",
       "5103             4        i   7464     1\n",
       "6923             5       of   6933     1"
      ]
     },
     "execution_count": 374,
     "metadata": {},
     "output_type": "execute_result"
    }
   ],
   "source": [
    "vocab.sort_values('n', ascending=False).head()"
   ]
  },
  {
   "cell_type": "code",
   "execution_count": 375,
   "metadata": {},
   "outputs": [],
   "source": [
    "# add term id back to token table, for easy joining\n",
    "token['term_id'] = token.term_str.map(vocab.reset_index().set_index('term_str').term_id)"
   ]
  },
  {
   "cell_type": "code",
   "execution_count": 376,
   "metadata": {},
   "outputs": [],
   "source": [
    "# Checkpoint\n",
    "vocab.to_parquet('data/vocab.parquet')"
   ]
  },
  {
   "cell_type": "markdown",
   "metadata": {},
   "source": [
    "## Create DT matrices \n",
    "(Document-Term matrix, using Bag of Words and TF-IDF)\n",
    "\n",
    "One each for Trump and Clinton"
   ]
  },
  {
   "cell_type": "code",
   "execution_count": 377,
   "metadata": {},
   "outputs": [],
   "source": [
    "# Load from checkpoint\n",
    "if 'vocab' not in locals():\n",
    "    vocab = pd.read_parquet('data/vocab.parquet')"
   ]
  },
  {
   "cell_type": "code",
   "execution_count": 378,
   "metadata": {},
   "outputs": [],
   "source": [
    "bag = ohco[:1] # bag size = 1 speech"
   ]
  },
  {
   "cell_type": "code",
   "execution_count": 379,
   "metadata": {},
   "outputs": [],
   "source": [
    "# identify stopwords\n",
    "token['stop'] = 0\n",
    "token.loc[token['term_str'].isin(nltk.corpus.stopwords.words('english')),'stop'] = 1"
   ]
  },
  {
   "cell_type": "code",
   "execution_count": 380,
   "metadata": {},
   "outputs": [],
   "source": [
    "#remove stopwords\n",
    "token=token[token.stop==0]"
   ]
  },
  {
   "cell_type": "code",
   "execution_count": 381,
   "metadata": {},
   "outputs": [],
   "source": [
    "# 100 speeches, take 20% for test set\n",
    "test_ids = np.random.choice(token.reset_index().speech_id.unique(),size=20,replace=False)"
   ]
  },
  {
   "cell_type": "code",
   "execution_count": 382,
   "metadata": {},
   "outputs": [],
   "source": [
    "token = token.reset_index().set_index('speech_id')"
   ]
  },
  {
   "cell_type": "code",
   "execution_count": 484,
   "metadata": {},
   "outputs": [],
   "source": [
    "test_token = token.loc[test_ids]\n",
    "train_token = token.loc[~token.index.isin(test_ids)]"
   ]
  },
  {
   "cell_type": "code",
   "execution_count": 386,
   "metadata": {},
   "outputs": [
    {
     "data": {
      "text/html": [
       "<div>\n",
       "<style scoped>\n",
       "    .dataframe tbody tr th:only-of-type {\n",
       "        vertical-align: middle;\n",
       "    }\n",
       "\n",
       "    .dataframe tbody tr th {\n",
       "        vertical-align: top;\n",
       "    }\n",
       "\n",
       "    .dataframe thead th {\n",
       "        text-align: right;\n",
       "    }\n",
       "</style>\n",
       "<table border=\"1\" class=\"dataframe\">\n",
       "  <thead>\n",
       "    <tr style=\"text-align: right;\">\n",
       "      <th></th>\n",
       "      <th>speaker</th>\n",
       "      <th>para_id</th>\n",
       "      <th>sent_id</th>\n",
       "      <th>token_id</th>\n",
       "      <th>pos</th>\n",
       "      <th>token_str</th>\n",
       "      <th>term_str</th>\n",
       "      <th>term_id</th>\n",
       "      <th>stop</th>\n",
       "    </tr>\n",
       "    <tr>\n",
       "      <th>speech_id</th>\n",
       "      <th></th>\n",
       "      <th></th>\n",
       "      <th></th>\n",
       "      <th></th>\n",
       "      <th></th>\n",
       "      <th></th>\n",
       "      <th></th>\n",
       "      <th></th>\n",
       "      <th></th>\n",
       "    </tr>\n",
       "  </thead>\n",
       "  <tbody>\n",
       "    <tr>\n",
       "      <th>0</th>\n",
       "      <td>CLINTON</td>\n",
       "      <td>0</td>\n",
       "      <td>0</td>\n",
       "      <td>0</td>\n",
       "      <td>NN</td>\n",
       "      <td>Wow.</td>\n",
       "      <td>wow</td>\n",
       "      <td>11049</td>\n",
       "      <td>0</td>\n",
       "    </tr>\n",
       "    <tr>\n",
       "      <th>0</th>\n",
       "      <td>CLINTON</td>\n",
       "      <td>0</td>\n",
       "      <td>1</td>\n",
       "      <td>0</td>\n",
       "      <td>NNP</td>\n",
       "      <td>Thank</td>\n",
       "      <td>thank</td>\n",
       "      <td>10001</td>\n",
       "      <td>0</td>\n",
       "    </tr>\n",
       "    <tr>\n",
       "      <th>0</th>\n",
       "      <td>CLINTON</td>\n",
       "      <td>0</td>\n",
       "      <td>2</td>\n",
       "      <td>0</td>\n",
       "      <td>NNP</td>\n",
       "      <td>Thank</td>\n",
       "      <td>thank</td>\n",
       "      <td>10001</td>\n",
       "      <td>0</td>\n",
       "    </tr>\n",
       "    <tr>\n",
       "      <th>0</th>\n",
       "      <td>CLINTON</td>\n",
       "      <td>0</td>\n",
       "      <td>3</td>\n",
       "      <td>0</td>\n",
       "      <td>NNP</td>\n",
       "      <td>Thank</td>\n",
       "      <td>thank</td>\n",
       "      <td>10001</td>\n",
       "      <td>0</td>\n",
       "    </tr>\n",
       "    <tr>\n",
       "      <th>0</th>\n",
       "      <td>CLINTON</td>\n",
       "      <td>0</td>\n",
       "      <td>4</td>\n",
       "      <td>2</td>\n",
       "      <td>RB</td>\n",
       "      <td>really</td>\n",
       "      <td>really</td>\n",
       "      <td>8151</td>\n",
       "      <td>0</td>\n",
       "    </tr>\n",
       "    <tr>\n",
       "      <th>...</th>\n",
       "      <td>...</td>\n",
       "      <td>...</td>\n",
       "      <td>...</td>\n",
       "      <td>...</td>\n",
       "      <td>...</td>\n",
       "      <td>...</td>\n",
       "      <td>...</td>\n",
       "      <td>...</td>\n",
       "      <td>...</td>\n",
       "    </tr>\n",
       "    <tr>\n",
       "      <th>162</th>\n",
       "      <td>CLINTON</td>\n",
       "      <td>273</td>\n",
       "      <td>0</td>\n",
       "      <td>0</td>\n",
       "      <td>NNP</td>\n",
       "      <td>Thank</td>\n",
       "      <td>thank</td>\n",
       "      <td>10001</td>\n",
       "      <td>0</td>\n",
       "    </tr>\n",
       "    <tr>\n",
       "      <th>162</th>\n",
       "      <td>CLINTON</td>\n",
       "      <td>273</td>\n",
       "      <td>0</td>\n",
       "      <td>3</td>\n",
       "      <td>VBP</td>\n",
       "      <td>much,</td>\n",
       "      <td>much</td>\n",
       "      <td>6637</td>\n",
       "      <td>0</td>\n",
       "    </tr>\n",
       "    <tr>\n",
       "      <th>162</th>\n",
       "      <td>CLINTON</td>\n",
       "      <td>273</td>\n",
       "      <td>0</td>\n",
       "      <td>4</td>\n",
       "      <td>NNP</td>\n",
       "      <td>Chris.</td>\n",
       "      <td>chris</td>\n",
       "      <td>1965</td>\n",
       "      <td>0</td>\n",
       "    </tr>\n",
       "    <tr>\n",
       "      <th>162</th>\n",
       "      <td>CLINTON</td>\n",
       "      <td>273</td>\n",
       "      <td>1</td>\n",
       "      <td>0</td>\n",
       "      <td>NN</td>\n",
       "      <td>Great</td>\n",
       "      <td>great</td>\n",
       "      <td>4640</td>\n",
       "      <td>0</td>\n",
       "    </tr>\n",
       "    <tr>\n",
       "      <th>162</th>\n",
       "      <td>CLINTON</td>\n",
       "      <td>273</td>\n",
       "      <td>1</td>\n",
       "      <td>2</td>\n",
       "      <td>VB</td>\n",
       "      <td>see</td>\n",
       "      <td>see</td>\n",
       "      <td>8913</td>\n",
       "      <td>0</td>\n",
       "    </tr>\n",
       "  </tbody>\n",
       "</table>\n",
       "<p>169832 rows × 9 columns</p>\n",
       "</div>"
      ],
      "text/plain": [
       "           speaker  para_id  sent_id  token_id  pos token_str term_str  \\\n",
       "speech_id                                                                \n",
       "0          CLINTON        0        0         0   NN      Wow.      wow   \n",
       "0          CLINTON        0        1         0  NNP     Thank    thank   \n",
       "0          CLINTON        0        2         0  NNP     Thank    thank   \n",
       "0          CLINTON        0        3         0  NNP     Thank    thank   \n",
       "0          CLINTON        0        4         2   RB    really   really   \n",
       "...            ...      ...      ...       ...  ...       ...      ...   \n",
       "162        CLINTON      273        0         0  NNP     Thank    thank   \n",
       "162        CLINTON      273        0         3  VBP     much,     much   \n",
       "162        CLINTON      273        0         4  NNP    Chris.    chris   \n",
       "162        CLINTON      273        1         0   NN     Great    great   \n",
       "162        CLINTON      273        1         2   VB       see      see   \n",
       "\n",
       "           term_id  stop  \n",
       "speech_id                 \n",
       "0            11049     0  \n",
       "0            10001     0  \n",
       "0            10001     0  \n",
       "0            10001     0  \n",
       "0             8151     0  \n",
       "...            ...   ...  \n",
       "162          10001     0  \n",
       "162           6637     0  \n",
       "162           1965     0  \n",
       "162           4640     0  \n",
       "162           8913     0  \n",
       "\n",
       "[169832 rows x 9 columns]"
      ]
     },
     "execution_count": 386,
     "metadata": {},
     "output_type": "execute_result"
    }
   ],
   "source": [
    "token"
   ]
  },
  {
   "cell_type": "code",
   "execution_count": 463,
   "metadata": {},
   "outputs": [],
   "source": [
    "# Split into Trump/Clinton\n",
    "clinton_train = train_token.query('speaker==\"CLINTON\"')\n",
    "trump_train = train_token.query('speaker==\"TRUMP\"')"
   ]
  },
  {
   "cell_type": "code",
   "execution_count": 388,
   "metadata": {},
   "outputs": [
    {
     "data": {
      "text/plain": [
       "[0.4691358024691358, 0.5308641975308642]"
      ]
     },
     "execution_count": 388,
     "metadata": {},
     "output_type": "execute_result"
    }
   ],
   "source": [
    "clinton_count = len(clinton_train.index.unique())\n",
    "trump_count = len(trump_train.index.unique())\n",
    "total_count = clinton_count + trump_count\n",
    "priors = [clinton_count/total_count,trump_count/total_count]\n",
    "priors"
   ]
  },
  {
   "cell_type": "code",
   "execution_count": 488,
   "metadata": {},
   "outputs": [],
   "source": [
    "def create_vocab(token, token_full, a=1):\n",
    "    # a=1 for Laplace smoothing\n",
    "    vocab = token.term_str.value_counts().to_frame().rename(columns={'index':'term_str', 'term_str':'n'})\\\n",
    "    .sort_index().reset_index().rename(columns={'index':'term_str'})\n",
    "    vocab.index.name = 'term_id'\n",
    "\n",
    "    vocab_full = token_full.term_str.value_counts().to_frame().rename(columns={'index':'term_str', 'term_str':'n'})\\\n",
    "    .sort_index().reset_index().rename(columns={'index':'term_str'})\n",
    "    vocab_full.index.name = 'term_id'\n",
    "\n",
    "    #Add all terms with a 0 for any terms not in training set\n",
    "    to_add=vocab_full[~vocab_full['term_str'].isin(vocab['term_str'])]\n",
    "    to_add['n']=0\n",
    "    vocab=vocab.append(to_add)\n",
    "\n",
    "    if 'term_rank' not in vocab.columns:\n",
    "        vocab = vocab.sort_values('n', ascending=False).reset_index()\n",
    "        vocab.index.name = 'term_rank'\n",
    "        vocab = vocab.reset_index().set_index('term_id')\n",
    "        vocab['term_rank'] = vocab['term_rank'] + 1 # start with 1 instead of 0\n",
    "    token['term_id'] = token.term_str.map(vocab.reset_index().set_index('term_str').term_id)\n",
    "    BOW = token.groupby(bag+['term_id']).term_id.count()\\\n",
    "    .to_frame().rename(columns={'term_id':'n'})\n",
    "    DTCM = BOW['n'].unstack().fillna(0).astype('int')\n",
    "    # Term frequency - normalized\n",
    "    TF = DTCM #(DTCM.T / DTCM.T.sum()).T \n",
    "    DF = DTCM[DTCM > 0].count()\n",
    "    freq=TF.sum().reset_index()\n",
    "    #freq=DTCM.sum().reset_index() #optional to get more variance in the likelihood\n",
    "    vocab['freq'] = freq[0]\n",
    "    tf = vocab.freq # term frequency \n",
    "    N = vocab.freq.sum() # sum of all term frequencies in this class\n",
    "    V = vocab.shape[0] # vocab size\n",
    "    # https://stackoverflow.com/questions/3704570/in-python-small-floats-tending-to-zero\n",
    "    # https://nlp.stanford.edu/IR-book/html/htmledition/naive-bayes-text-classification-1.html\n",
    "    # using the log likelihood for these reasons\n",
    "    vocab['likelihood'] = np.log((tf+a) / (N + a*V))\n",
    "    vocab.sort_values('likelihood',ascending=False)\n",
    "    return vocab"
   ]
  },
  {
   "cell_type": "code",
   "execution_count": 489,
   "metadata": {},
   "outputs": [
    {
     "name": "stderr",
     "output_type": "stream",
     "text": [
      "/Users/maxwell/opt/anaconda3/lib/python3.7/site-packages/ipykernel_launcher.py:13: SettingWithCopyWarning:\n",
      "\n",
      "\n",
      "A value is trying to be set on a copy of a slice from a DataFrame.\n",
      "Try using .loc[row_indexer,col_indexer] = value instead\n",
      "\n",
      "See the caveats in the documentation: https://pandas.pydata.org/pandas-docs/stable/user_guide/indexing.html#returning-a-view-versus-a-copy\n",
      "\n",
      "/Users/maxwell/opt/anaconda3/lib/python3.7/site-packages/ipykernel_launcher.py:21: SettingWithCopyWarning:\n",
      "\n",
      "\n",
      "A value is trying to be set on a copy of a slice from a DataFrame.\n",
      "Try using .loc[row_indexer,col_indexer] = value instead\n",
      "\n",
      "See the caveats in the documentation: https://pandas.pydata.org/pandas-docs/stable/user_guide/indexing.html#returning-a-view-versus-a-copy\n",
      "\n"
     ]
    }
   ],
   "source": [
    "vocab_c = create_vocab(clinton_train, train_token).reset_index().set_index('term_str')\n",
    "vocab_t = create_vocab(trump_train, train_token).reset_index().set_index('term_str')"
   ]
  },
  {
   "cell_type": "code",
   "execution_count": 490,
   "metadata": {},
   "outputs": [
    {
     "data": {
      "text/html": [
       "<div>\n",
       "<style scoped>\n",
       "    .dataframe tbody tr th:only-of-type {\n",
       "        vertical-align: middle;\n",
       "    }\n",
       "\n",
       "    .dataframe tbody tr th {\n",
       "        vertical-align: top;\n",
       "    }\n",
       "\n",
       "    .dataframe thead th {\n",
       "        text-align: right;\n",
       "    }\n",
       "</style>\n",
       "<table border=\"1\" class=\"dataframe\">\n",
       "  <thead>\n",
       "    <tr style=\"text-align: right;\">\n",
       "      <th></th>\n",
       "      <th>term_id</th>\n",
       "      <th>term_rank</th>\n",
       "      <th>n</th>\n",
       "      <th>freq</th>\n",
       "      <th>likelihood</th>\n",
       "    </tr>\n",
       "    <tr>\n",
       "      <th>term_str</th>\n",
       "      <th></th>\n",
       "      <th></th>\n",
       "      <th></th>\n",
       "      <th></th>\n",
       "      <th></th>\n",
       "    </tr>\n",
       "  </thead>\n",
       "  <tbody>\n",
       "    <tr>\n",
       "      <th>know</th>\n",
       "      <td>3628</td>\n",
       "      <td>1</td>\n",
       "      <td>970</td>\n",
       "      <td>970.0</td>\n",
       "      <td>-4.475076</td>\n",
       "    </tr>\n",
       "    <tr>\n",
       "      <th>people</th>\n",
       "      <td>4626</td>\n",
       "      <td>2</td>\n",
       "      <td>724</td>\n",
       "      <td>724.0</td>\n",
       "      <td>-4.767230</td>\n",
       "    </tr>\n",
       "    <tr>\n",
       "      <th>think</th>\n",
       "      <td>6404</td>\n",
       "      <td>3</td>\n",
       "      <td>615</td>\n",
       "      <td>615.0</td>\n",
       "      <td>-4.930155</td>\n",
       "    </tr>\n",
       "    <tr>\n",
       "      <th>going</th>\n",
       "      <td>2876</td>\n",
       "      <td>4</td>\n",
       "      <td>607</td>\n",
       "      <td>607.0</td>\n",
       "      <td>-4.943227</td>\n",
       "    </tr>\n",
       "    <tr>\n",
       "      <th>get</th>\n",
       "      <td>2845</td>\n",
       "      <td>5</td>\n",
       "      <td>456</td>\n",
       "      <td>456.0</td>\n",
       "      <td>-5.228719</td>\n",
       "    </tr>\n",
       "    <tr>\n",
       "      <th>...</th>\n",
       "      <td>...</td>\n",
       "      <td>...</td>\n",
       "      <td>...</td>\n",
       "      <td>...</td>\n",
       "      <td>...</td>\n",
       "    </tr>\n",
       "    <tr>\n",
       "      <th>employs</th>\n",
       "      <td>3245</td>\n",
       "      <td>10074</td>\n",
       "      <td>0</td>\n",
       "      <td>2.0</td>\n",
       "      <td>-10.254790</td>\n",
       "    </tr>\n",
       "    <tr>\n",
       "      <th>empowered</th>\n",
       "      <td>3247</td>\n",
       "      <td>10075</td>\n",
       "      <td>0</td>\n",
       "      <td>2.0</td>\n",
       "      <td>-10.254790</td>\n",
       "    </tr>\n",
       "    <tr>\n",
       "      <th>emptied</th>\n",
       "      <td>3250</td>\n",
       "      <td>10076</td>\n",
       "      <td>0</td>\n",
       "      <td>4.0</td>\n",
       "      <td>-9.743964</td>\n",
       "    </tr>\n",
       "    <tr>\n",
       "      <th>emts</th>\n",
       "      <td>3252</td>\n",
       "      <td>10077</td>\n",
       "      <td>0</td>\n",
       "      <td>1.0</td>\n",
       "      <td>-10.660255</td>\n",
       "    </tr>\n",
       "    <tr>\n",
       "      <th>yuma</th>\n",
       "      <td>10070</td>\n",
       "      <td>10078</td>\n",
       "      <td>0</td>\n",
       "      <td>NaN</td>\n",
       "      <td>NaN</td>\n",
       "    </tr>\n",
       "  </tbody>\n",
       "</table>\n",
       "<p>10078 rows × 5 columns</p>\n",
       "</div>"
      ],
      "text/plain": [
       "           term_id  term_rank    n   freq  likelihood\n",
       "term_str                                             \n",
       "know          3628          1  970  970.0   -4.475076\n",
       "people        4626          2  724  724.0   -4.767230\n",
       "think         6404          3  615  615.0   -4.930155\n",
       "going         2876          4  607  607.0   -4.943227\n",
       "get           2845          5  456  456.0   -5.228719\n",
       "...            ...        ...  ...    ...         ...\n",
       "employs       3245      10074    0    2.0  -10.254790\n",
       "empowered     3247      10075    0    2.0  -10.254790\n",
       "emptied       3250      10076    0    4.0   -9.743964\n",
       "emts          3252      10077    0    1.0  -10.660255\n",
       "yuma         10070      10078    0    NaN         NaN\n",
       "\n",
       "[10078 rows x 5 columns]"
      ]
     },
     "execution_count": 490,
     "metadata": {},
     "output_type": "execute_result"
    }
   ],
   "source": [
    "vocab_c"
   ]
  },
  {
   "cell_type": "code",
   "execution_count": 491,
   "metadata": {},
   "outputs": [],
   "source": [
    "def NB_classifier(token_test, class1_vocab, class2_vocab, class_1_name = 'Class 1', class_2_name = 'Class 2', priors=[.5,.5]):\n",
    "    d = {'speech_id': token_test.index.unique(), 'true_value': \"\", 'prediction': \"\"}\n",
    "    results = pd.DataFrame(d).set_index('speech_id')\n",
    "    \n",
    "    for i in results.index:\n",
    "        results['true_value'].loc[i] = test_token.at[i,'speaker'][0]\n",
    "        \n",
    "        speech = token_test.loc[i]\n",
    "        \n",
    "        speech = speech.merge(class1_vocab['likelihood'], how='left', on=\"term_str\")\\\n",
    "        .rename(columns={'likelihood': class_1_name})\n",
    "        speech = speech.merge(class2_vocab['likelihood'], how='left', on=\"term_str\")\\\n",
    "        .rename(columns={'likelihood': class_2_name})\n",
    "        \n",
    "        predict = pd.DataFrame(speech[[class_1_name,class_2_name]].sum())\n",
    "        logpriors = np.log(priors)\n",
    "        predict[0] = predict[0] + logpriors\n",
    "        predict = predict.sort_values(by=0, ascending=False)\n",
    "        classification = predict.index[0]\n",
    "        \n",
    "        results['prediction'].loc[i] = classification\n",
    "        \n",
    "    return results"
   ]
  },
  {
   "cell_type": "code",
   "execution_count": 492,
   "metadata": {},
   "outputs": [
    {
     "data": {
      "text/html": [
       "<div>\n",
       "<style scoped>\n",
       "    .dataframe tbody tr th:only-of-type {\n",
       "        vertical-align: middle;\n",
       "    }\n",
       "\n",
       "    .dataframe tbody tr th {\n",
       "        vertical-align: top;\n",
       "    }\n",
       "\n",
       "    .dataframe thead th {\n",
       "        text-align: right;\n",
       "    }\n",
       "</style>\n",
       "<table border=\"1\" class=\"dataframe\">\n",
       "  <thead>\n",
       "    <tr style=\"text-align: right;\">\n",
       "      <th></th>\n",
       "      <th>true_value</th>\n",
       "      <th>prediction</th>\n",
       "    </tr>\n",
       "    <tr>\n",
       "      <th>speech_id</th>\n",
       "      <th></th>\n",
       "      <th></th>\n",
       "    </tr>\n",
       "  </thead>\n",
       "  <tbody>\n",
       "    <tr>\n",
       "      <th>49</th>\n",
       "      <td>TRUMP</td>\n",
       "      <td>CLINTON</td>\n",
       "    </tr>\n",
       "    <tr>\n",
       "      <th>59</th>\n",
       "      <td>CLINTON</td>\n",
       "      <td>CLINTON</td>\n",
       "    </tr>\n",
       "    <tr>\n",
       "      <th>24</th>\n",
       "      <td>CLINTON</td>\n",
       "      <td>CLINTON</td>\n",
       "    </tr>\n",
       "    <tr>\n",
       "      <th>151</th>\n",
       "      <td>CLINTON</td>\n",
       "      <td>CLINTON</td>\n",
       "    </tr>\n",
       "    <tr>\n",
       "      <th>125</th>\n",
       "      <td>TRUMP</td>\n",
       "      <td>TRUMP</td>\n",
       "    </tr>\n",
       "    <tr>\n",
       "      <th>11</th>\n",
       "      <td>CLINTON</td>\n",
       "      <td>CLINTON</td>\n",
       "    </tr>\n",
       "    <tr>\n",
       "      <th>126</th>\n",
       "      <td>TRUMP</td>\n",
       "      <td>TRUMP</td>\n",
       "    </tr>\n",
       "    <tr>\n",
       "      <th>18</th>\n",
       "      <td>CLINTON</td>\n",
       "      <td>CLINTON</td>\n",
       "    </tr>\n",
       "    <tr>\n",
       "      <th>2</th>\n",
       "      <td>CLINTON</td>\n",
       "      <td>CLINTON</td>\n",
       "    </tr>\n",
       "    <tr>\n",
       "      <th>61</th>\n",
       "      <td>CLINTON</td>\n",
       "      <td>TRUMP</td>\n",
       "    </tr>\n",
       "    <tr>\n",
       "      <th>114</th>\n",
       "      <td>TRUMP</td>\n",
       "      <td>TRUMP</td>\n",
       "    </tr>\n",
       "    <tr>\n",
       "      <th>129</th>\n",
       "      <td>TRUMP</td>\n",
       "      <td>TRUMP</td>\n",
       "    </tr>\n",
       "    <tr>\n",
       "      <th>29</th>\n",
       "      <td>CLINTON</td>\n",
       "      <td>CLINTON</td>\n",
       "    </tr>\n",
       "    <tr>\n",
       "      <th>16</th>\n",
       "      <td>CLINTON</td>\n",
       "      <td>CLINTON</td>\n",
       "    </tr>\n",
       "    <tr>\n",
       "      <th>44</th>\n",
       "      <td>TRUMP</td>\n",
       "      <td>TRUMP</td>\n",
       "    </tr>\n",
       "    <tr>\n",
       "      <th>141</th>\n",
       "      <td>TRUMP</td>\n",
       "      <td>CLINTON</td>\n",
       "    </tr>\n",
       "    <tr>\n",
       "      <th>146</th>\n",
       "      <td>CLINTON</td>\n",
       "      <td>CLINTON</td>\n",
       "    </tr>\n",
       "    <tr>\n",
       "      <th>113</th>\n",
       "      <td>TRUMP</td>\n",
       "      <td>TRUMP</td>\n",
       "    </tr>\n",
       "    <tr>\n",
       "      <th>155</th>\n",
       "      <td>CLINTON</td>\n",
       "      <td>CLINTON</td>\n",
       "    </tr>\n",
       "    <tr>\n",
       "      <th>116</th>\n",
       "      <td>TRUMP</td>\n",
       "      <td>TRUMP</td>\n",
       "    </tr>\n",
       "  </tbody>\n",
       "</table>\n",
       "</div>"
      ],
      "text/plain": [
       "          true_value prediction\n",
       "speech_id                      \n",
       "49             TRUMP    CLINTON\n",
       "59           CLINTON    CLINTON\n",
       "24           CLINTON    CLINTON\n",
       "151          CLINTON    CLINTON\n",
       "125            TRUMP      TRUMP\n",
       "11           CLINTON    CLINTON\n",
       "126            TRUMP      TRUMP\n",
       "18           CLINTON    CLINTON\n",
       "2            CLINTON    CLINTON\n",
       "61           CLINTON      TRUMP\n",
       "114            TRUMP      TRUMP\n",
       "129            TRUMP      TRUMP\n",
       "29           CLINTON    CLINTON\n",
       "16           CLINTON    CLINTON\n",
       "44             TRUMP      TRUMP\n",
       "141            TRUMP    CLINTON\n",
       "146          CLINTON    CLINTON\n",
       "113            TRUMP      TRUMP\n",
       "155          CLINTON    CLINTON\n",
       "116            TRUMP      TRUMP"
      ]
     },
     "execution_count": 492,
     "metadata": {},
     "output_type": "execute_result"
    }
   ],
   "source": [
    "# class 1 is clinton, class 2 is trump\n",
    "\n",
    "results=NB_classifier(test_token,vocab_c,vocab_t, class_1_name = 'CLINTON', class_2_name = 'TRUMP', priors=priors)\n",
    "results"
   ]
  },
  {
   "cell_type": "code",
   "execution_count": 493,
   "metadata": {},
   "outputs": [
    {
     "data": {
      "text/plain": [
       "array([[10,  1],\n",
       "       [ 2,  7]])"
      ]
     },
     "execution_count": 493,
     "metadata": {},
     "output_type": "execute_result"
    }
   ],
   "source": [
    "confusion_matrix(results.true_value, results.prediction)"
   ]
  },
  {
   "cell_type": "code",
   "execution_count": 395,
   "metadata": {},
   "outputs": [],
   "source": [
    "speech = test_token.loc[test_token.head(1).index[0]]\n",
    "        \n",
    "speech = speech.merge(vocab_c['likelihood'], how='left', on=\"term_str\")\\\n",
    "        .rename(columns={'likelihood': 'clinton'})\n",
    "speech = speech.merge(vocab_t['likelihood'], how='left', on=\"term_str\")\\\n",
    "        .rename(columns={'likelihood': 'trump'})\n",
    "        \n",
    "predict = pd.DataFrame(speech[['clinton','trump']].sum())\n",
    "logpriors = np.log(priors)\n",
    "predict[0] = predict[0] + logpriors\n",
    "predict = predict.sort_values(by=0, ascending=False)"
   ]
  },
  {
   "cell_type": "code",
   "execution_count": 396,
   "metadata": {},
   "outputs": [
    {
     "data": {
      "text/html": [
       "<div>\n",
       "<style scoped>\n",
       "    .dataframe tbody tr th:only-of-type {\n",
       "        vertical-align: middle;\n",
       "    }\n",
       "\n",
       "    .dataframe tbody tr th {\n",
       "        vertical-align: top;\n",
       "    }\n",
       "\n",
       "    .dataframe thead th {\n",
       "        text-align: right;\n",
       "    }\n",
       "</style>\n",
       "<table border=\"1\" class=\"dataframe\">\n",
       "  <thead>\n",
       "    <tr style=\"text-align: right;\">\n",
       "      <th></th>\n",
       "      <th>0</th>\n",
       "    </tr>\n",
       "  </thead>\n",
       "  <tbody>\n",
       "    <tr>\n",
       "      <th>clinton</th>\n",
       "      <td>-8916.032351</td>\n",
       "    </tr>\n",
       "    <tr>\n",
       "      <th>trump</th>\n",
       "      <td>-8976.015611</td>\n",
       "    </tr>\n",
       "  </tbody>\n",
       "</table>\n",
       "</div>"
      ],
      "text/plain": [
       "                   0\n",
       "clinton -8916.032351\n",
       "trump   -8976.015611"
      ]
     },
     "execution_count": 396,
     "metadata": {},
     "output_type": "execute_result"
    }
   ],
   "source": [
    "predict"
   ]
  },
  {
   "cell_type": "code",
   "execution_count": 397,
   "metadata": {},
   "outputs": [
    {
     "data": {
      "text/plain": [
       "term_id       2621.000000\n",
       "term_rank     2313.000000\n",
       "n                5.000000\n",
       "freq             5.000000\n",
       "likelihood      -9.838015\n",
       "Name: fallen, dtype: float64"
      ]
     },
     "execution_count": 397,
     "metadata": {},
     "output_type": "execute_result"
    }
   ],
   "source": [
    "vocab_t.loc['fallen']"
   ]
  },
  {
   "cell_type": "code",
   "execution_count": 398,
   "metadata": {},
   "outputs": [
    {
     "data": {
      "text/html": [
       "<div>\n",
       "<style scoped>\n",
       "    .dataframe tbody tr th:only-of-type {\n",
       "        vertical-align: middle;\n",
       "    }\n",
       "\n",
       "    .dataframe tbody tr th {\n",
       "        vertical-align: top;\n",
       "    }\n",
       "\n",
       "    .dataframe thead th {\n",
       "        text-align: right;\n",
       "    }\n",
       "</style>\n",
       "<table border=\"1\" class=\"dataframe\">\n",
       "  <thead>\n",
       "    <tr style=\"text-align: right;\">\n",
       "      <th></th>\n",
       "      <th>speaker</th>\n",
       "      <th>para_id</th>\n",
       "      <th>sent_id</th>\n",
       "      <th>token_id</th>\n",
       "      <th>pos</th>\n",
       "      <th>token_str</th>\n",
       "      <th>term_str</th>\n",
       "      <th>term_id</th>\n",
       "      <th>stop</th>\n",
       "      <th>clinton</th>\n",
       "      <th>trump</th>\n",
       "    </tr>\n",
       "  </thead>\n",
       "  <tbody>\n",
       "    <tr>\n",
       "      <th>0</th>\n",
       "      <td>TRUMP</td>\n",
       "      <td>0</td>\n",
       "      <td>0</td>\n",
       "      <td>0</td>\n",
       "      <td>NNP</td>\n",
       "      <td>Hello,</td>\n",
       "      <td>hello</td>\n",
       "      <td>4873</td>\n",
       "      <td>0</td>\n",
       "      <td>-9.407492</td>\n",
       "      <td>-9.432550</td>\n",
       "    </tr>\n",
       "    <tr>\n",
       "      <th>1</th>\n",
       "      <td>TRUMP</td>\n",
       "      <td>0</td>\n",
       "      <td>0</td>\n",
       "      <td>1</td>\n",
       "      <td>NNP</td>\n",
       "      <td>Winston</td>\n",
       "      <td>winston</td>\n",
       "      <td>10979</td>\n",
       "      <td>0</td>\n",
       "      <td>NaN</td>\n",
       "      <td>-10.936628</td>\n",
       "    </tr>\n",
       "    <tr>\n",
       "      <th>2</th>\n",
       "      <td>TRUMP</td>\n",
       "      <td>0</td>\n",
       "      <td>0</td>\n",
       "      <td>3</td>\n",
       "      <td>NN</td>\n",
       "      <td>Salem!</td>\n",
       "      <td>salem</td>\n",
       "      <td>8769</td>\n",
       "      <td>0</td>\n",
       "      <td>NaN</td>\n",
       "      <td>-10.936628</td>\n",
       "    </tr>\n",
       "    <tr>\n",
       "      <th>3</th>\n",
       "      <td>TRUMP</td>\n",
       "      <td>0</td>\n",
       "      <td>1</td>\n",
       "      <td>0</td>\n",
       "      <td>NNP</td>\n",
       "      <td>Hello</td>\n",
       "      <td>hello</td>\n",
       "      <td>4873</td>\n",
       "      <td>0</td>\n",
       "      <td>-9.407492</td>\n",
       "      <td>-9.432550</td>\n",
       "    </tr>\n",
       "    <tr>\n",
       "      <th>4</th>\n",
       "      <td>TRUMP</td>\n",
       "      <td>0</td>\n",
       "      <td>1</td>\n",
       "      <td>1</td>\n",
       "      <td>NNP</td>\n",
       "      <td>Wake</td>\n",
       "      <td>wake</td>\n",
       "      <td>10777</td>\n",
       "      <td>0</td>\n",
       "      <td>-9.967108</td>\n",
       "      <td>-9.683865</td>\n",
       "    </tr>\n",
       "    <tr>\n",
       "      <th>...</th>\n",
       "      <td>...</td>\n",
       "      <td>...</td>\n",
       "      <td>...</td>\n",
       "      <td>...</td>\n",
       "      <td>...</td>\n",
       "      <td>...</td>\n",
       "      <td>...</td>\n",
       "      <td>...</td>\n",
       "      <td>...</td>\n",
       "      <td>...</td>\n",
       "      <td>...</td>\n",
       "    </tr>\n",
       "    <tr>\n",
       "      <th>1209</th>\n",
       "      <td>TRUMP</td>\n",
       "      <td>37</td>\n",
       "      <td>3</td>\n",
       "      <td>22</td>\n",
       "      <td>VBG</td>\n",
       "      <td>amazing</td>\n",
       "      <td>amazing</td>\n",
       "      <td>687</td>\n",
       "      <td>0</td>\n",
       "      <td>-8.520189</td>\n",
       "      <td>-7.801133</td>\n",
       "    </tr>\n",
       "    <tr>\n",
       "      <th>1210</th>\n",
       "      <td>TRUMP</td>\n",
       "      <td>37</td>\n",
       "      <td>3</td>\n",
       "      <td>23</td>\n",
       "      <td>NNP</td>\n",
       "      <td>First</td>\n",
       "      <td>first</td>\n",
       "      <td>4186</td>\n",
       "      <td>0</td>\n",
       "      <td>-6.426148</td>\n",
       "      <td>-6.222603</td>\n",
       "    </tr>\n",
       "    <tr>\n",
       "      <th>1211</th>\n",
       "      <td>TRUMP</td>\n",
       "      <td>37</td>\n",
       "      <td>3</td>\n",
       "      <td>24</td>\n",
       "      <td>NNP</td>\n",
       "      <td>Lady</td>\n",
       "      <td>lady</td>\n",
       "      <td>5814</td>\n",
       "      <td>0</td>\n",
       "      <td>-8.714345</td>\n",
       "      <td>-8.990717</td>\n",
       "    </tr>\n",
       "    <tr>\n",
       "      <th>1212</th>\n",
       "      <td>TRUMP</td>\n",
       "      <td>37</td>\n",
       "      <td>3</td>\n",
       "      <td>25</td>\n",
       "      <td>NNP</td>\n",
       "      <td>Michelle</td>\n",
       "      <td>michelle</td>\n",
       "      <td>6428</td>\n",
       "      <td>0</td>\n",
       "      <td>-10.254790</td>\n",
       "      <td>-9.231879</td>\n",
       "    </tr>\n",
       "    <tr>\n",
       "      <th>1213</th>\n",
       "      <td>TRUMP</td>\n",
       "      <td>37</td>\n",
       "      <td>3</td>\n",
       "      <td>26</td>\n",
       "      <td>NNP</td>\n",
       "      <td>Obama!</td>\n",
       "      <td>obama</td>\n",
       "      <td>6879</td>\n",
       "      <td>0</td>\n",
       "      <td>-7.148709</td>\n",
       "      <td>-6.573529</td>\n",
       "    </tr>\n",
       "  </tbody>\n",
       "</table>\n",
       "<p>1214 rows × 11 columns</p>\n",
       "</div>"
      ],
      "text/plain": [
       "     speaker  para_id  sent_id  token_id  pos token_str  term_str  term_id  \\\n",
       "0      TRUMP        0        0         0  NNP    Hello,     hello     4873   \n",
       "1      TRUMP        0        0         1  NNP   Winston   winston    10979   \n",
       "2      TRUMP        0        0         3   NN    Salem!     salem     8769   \n",
       "3      TRUMP        0        1         0  NNP     Hello     hello     4873   \n",
       "4      TRUMP        0        1         1  NNP      Wake      wake    10777   \n",
       "...      ...      ...      ...       ...  ...       ...       ...      ...   \n",
       "1209   TRUMP       37        3        22  VBG   amazing   amazing      687   \n",
       "1210   TRUMP       37        3        23  NNP     First     first     4186   \n",
       "1211   TRUMP       37        3        24  NNP      Lady      lady     5814   \n",
       "1212   TRUMP       37        3        25  NNP  Michelle  michelle     6428   \n",
       "1213   TRUMP       37        3        26  NNP    Obama!     obama     6879   \n",
       "\n",
       "      stop    clinton      trump  \n",
       "0        0  -9.407492  -9.432550  \n",
       "1        0        NaN -10.936628  \n",
       "2        0        NaN -10.936628  \n",
       "3        0  -9.407492  -9.432550  \n",
       "4        0  -9.967108  -9.683865  \n",
       "...    ...        ...        ...  \n",
       "1209     0  -8.520189  -7.801133  \n",
       "1210     0  -6.426148  -6.222603  \n",
       "1211     0  -8.714345  -8.990717  \n",
       "1212     0 -10.254790  -9.231879  \n",
       "1213     0  -7.148709  -6.573529  \n",
       "\n",
       "[1214 rows x 11 columns]"
      ]
     },
     "execution_count": 398,
     "metadata": {},
     "output_type": "execute_result"
    }
   ],
   "source": [
    "speech"
   ]
  },
  {
   "cell_type": "code",
   "execution_count": 399,
   "metadata": {},
   "outputs": [
    {
     "data": {
      "text/html": [
       "<div>\n",
       "<style scoped>\n",
       "    .dataframe tbody tr th:only-of-type {\n",
       "        vertical-align: middle;\n",
       "    }\n",
       "\n",
       "    .dataframe tbody tr th {\n",
       "        vertical-align: top;\n",
       "    }\n",
       "\n",
       "    .dataframe thead th {\n",
       "        text-align: right;\n",
       "    }\n",
       "</style>\n",
       "<table border=\"1\" class=\"dataframe\">\n",
       "  <thead>\n",
       "    <tr style=\"text-align: right;\">\n",
       "      <th></th>\n",
       "      <th>speaker</th>\n",
       "      <th>para_id</th>\n",
       "      <th>sent_id</th>\n",
       "      <th>token_id</th>\n",
       "      <th>pos</th>\n",
       "      <th>token_str</th>\n",
       "      <th>term_str</th>\n",
       "      <th>term_id</th>\n",
       "      <th>stop</th>\n",
       "      <th>clinton</th>\n",
       "      <th>trump</th>\n",
       "    </tr>\n",
       "  </thead>\n",
       "  <tbody>\n",
       "    <tr>\n",
       "      <th>1</th>\n",
       "      <td>TRUMP</td>\n",
       "      <td>0</td>\n",
       "      <td>0</td>\n",
       "      <td>1</td>\n",
       "      <td>NNP</td>\n",
       "      <td>Winston</td>\n",
       "      <td>winston</td>\n",
       "      <td>10979</td>\n",
       "      <td>0</td>\n",
       "      <td>NaN</td>\n",
       "      <td>-10.936628</td>\n",
       "    </tr>\n",
       "    <tr>\n",
       "      <th>2</th>\n",
       "      <td>TRUMP</td>\n",
       "      <td>0</td>\n",
       "      <td>0</td>\n",
       "      <td>3</td>\n",
       "      <td>NN</td>\n",
       "      <td>Salem!</td>\n",
       "      <td>salem</td>\n",
       "      <td>8769</td>\n",
       "      <td>0</td>\n",
       "      <td>NaN</td>\n",
       "      <td>-10.936628</td>\n",
       "    </tr>\n",
       "    <tr>\n",
       "      <th>5</th>\n",
       "      <td>TRUMP</td>\n",
       "      <td>0</td>\n",
       "      <td>1</td>\n",
       "      <td>2</td>\n",
       "      <td>NNP</td>\n",
       "      <td>Forest!</td>\n",
       "      <td>forest</td>\n",
       "      <td>4293</td>\n",
       "      <td>0</td>\n",
       "      <td>NaN</td>\n",
       "      <td>NaN</td>\n",
       "    </tr>\n",
       "    <tr>\n",
       "      <th>15</th>\n",
       "      <td>TRUMP</td>\n",
       "      <td>0</td>\n",
       "      <td>2</td>\n",
       "      <td>28</td>\n",
       "      <td>NNP</td>\n",
       "      <td>Forest</td>\n",
       "      <td>forest</td>\n",
       "      <td>4293</td>\n",
       "      <td>0</td>\n",
       "      <td>NaN</td>\n",
       "      <td>NaN</td>\n",
       "    </tr>\n",
       "    <tr>\n",
       "      <th>34</th>\n",
       "      <td>TRUMP</td>\n",
       "      <td>0</td>\n",
       "      <td>4</td>\n",
       "      <td>17</td>\n",
       "      <td>NNP</td>\n",
       "      <td>Hatch</td>\n",
       "      <td>hatch</td>\n",
       "      <td>4804</td>\n",
       "      <td>0</td>\n",
       "      <td>NaN</td>\n",
       "      <td>NaN</td>\n",
       "    </tr>\n",
       "    <tr>\n",
       "      <th>39</th>\n",
       "      <td>TRUMP</td>\n",
       "      <td>0</td>\n",
       "      <td>4</td>\n",
       "      <td>26</td>\n",
       "      <td>NNP</td>\n",
       "      <td>Forest</td>\n",
       "      <td>forest</td>\n",
       "      <td>4293</td>\n",
       "      <td>0</td>\n",
       "      <td>NaN</td>\n",
       "      <td>NaN</td>\n",
       "    </tr>\n",
       "    <tr>\n",
       "      <th>107</th>\n",
       "      <td>TRUMP</td>\n",
       "      <td>2</td>\n",
       "      <td>1</td>\n",
       "      <td>5</td>\n",
       "      <td>NNP</td>\n",
       "      <td>Roy</td>\n",
       "      <td>roy</td>\n",
       "      <td>8703</td>\n",
       "      <td>0</td>\n",
       "      <td>NaN</td>\n",
       "      <td>-10.531162</td>\n",
       "    </tr>\n",
       "    <tr>\n",
       "      <th>127</th>\n",
       "      <td>TRUMP</td>\n",
       "      <td>2</td>\n",
       "      <td>4</td>\n",
       "      <td>8</td>\n",
       "      <td>NNP</td>\n",
       "      <td>Carolina's</td>\n",
       "      <td>carolinas</td>\n",
       "      <td>1746</td>\n",
       "      <td>0</td>\n",
       "      <td>NaN</td>\n",
       "      <td>NaN</td>\n",
       "    </tr>\n",
       "    <tr>\n",
       "      <th>132</th>\n",
       "      <td>TRUMP</td>\n",
       "      <td>3</td>\n",
       "      <td>0</td>\n",
       "      <td>4</td>\n",
       "      <td>NNP</td>\n",
       "      <td>Ross</td>\n",
       "      <td>ross</td>\n",
       "      <td>8687</td>\n",
       "      <td>0</td>\n",
       "      <td>NaN</td>\n",
       "      <td>-10.020337</td>\n",
       "    </tr>\n",
       "    <tr>\n",
       "      <th>148</th>\n",
       "      <td>TRUMP</td>\n",
       "      <td>4</td>\n",
       "      <td>0</td>\n",
       "      <td>5</td>\n",
       "      <td>NNP</td>\n",
       "      <td>Ross</td>\n",
       "      <td>ross</td>\n",
       "      <td>8687</td>\n",
       "      <td>0</td>\n",
       "      <td>NaN</td>\n",
       "      <td>-10.020337</td>\n",
       "    </tr>\n",
       "    <tr>\n",
       "      <th>155</th>\n",
       "      <td>TRUMP</td>\n",
       "      <td>4</td>\n",
       "      <td>1</td>\n",
       "      <td>6</td>\n",
       "      <td>NNP</td>\n",
       "      <td>Roy's</td>\n",
       "      <td>roys</td>\n",
       "      <td>8704</td>\n",
       "      <td>0</td>\n",
       "      <td>NaN</td>\n",
       "      <td>NaN</td>\n",
       "    </tr>\n",
       "    <tr>\n",
       "      <th>157</th>\n",
       "      <td>TRUMP</td>\n",
       "      <td>4</td>\n",
       "      <td>1</td>\n",
       "      <td>9</td>\n",
       "      <td>NNP</td>\n",
       "      <td>Deborah's</td>\n",
       "      <td>deborahs</td>\n",
       "      <td>2770</td>\n",
       "      <td>0</td>\n",
       "      <td>NaN</td>\n",
       "      <td>NaN</td>\n",
       "    </tr>\n",
       "    <tr>\n",
       "      <th>183</th>\n",
       "      <td>TRUMP</td>\n",
       "      <td>5</td>\n",
       "      <td>1</td>\n",
       "      <td>29</td>\n",
       "      <td>NN</td>\n",
       "      <td>chip</td>\n",
       "      <td>chip</td>\n",
       "      <td>1950</td>\n",
       "      <td>0</td>\n",
       "      <td>NaN</td>\n",
       "      <td>NaN</td>\n",
       "    </tr>\n",
       "    <tr>\n",
       "      <th>194</th>\n",
       "      <td>TRUMP</td>\n",
       "      <td>5</td>\n",
       "      <td>2</td>\n",
       "      <td>15</td>\n",
       "      <td>VB</td>\n",
       "      <td>suppress</td>\n",
       "      <td>suppress</td>\n",
       "      <td>9760</td>\n",
       "      <td>0</td>\n",
       "      <td>NaN</td>\n",
       "      <td>-10.020337</td>\n",
       "    </tr>\n",
       "    <tr>\n",
       "      <th>219</th>\n",
       "      <td>TRUMP</td>\n",
       "      <td>6</td>\n",
       "      <td>2</td>\n",
       "      <td>13</td>\n",
       "      <td>IN</td>\n",
       "      <td>worn</td>\n",
       "      <td>worn</td>\n",
       "      <td>11031</td>\n",
       "      <td>0</td>\n",
       "      <td>NaN</td>\n",
       "      <td>NaN</td>\n",
       "    </tr>\n",
       "    <tr>\n",
       "      <th>220</th>\n",
       "      <td>TRUMP</td>\n",
       "      <td>6</td>\n",
       "      <td>2</td>\n",
       "      <td>15</td>\n",
       "      <td>NN</td>\n",
       "      <td>uniform</td>\n",
       "      <td>uniform</td>\n",
       "      <td>10476</td>\n",
       "      <td>0</td>\n",
       "      <td>NaN</td>\n",
       "      <td>-9.550333</td>\n",
       "    </tr>\n",
       "    <tr>\n",
       "      <th>233</th>\n",
       "      <td>TRUMP</td>\n",
       "      <td>6</td>\n",
       "      <td>2</td>\n",
       "      <td>50</td>\n",
       "      <td>VBD</td>\n",
       "      <td>sacrificed</td>\n",
       "      <td>sacrificed</td>\n",
       "      <td>8744</td>\n",
       "      <td>0</td>\n",
       "      <td>NaN</td>\n",
       "      <td>-10.020337</td>\n",
       "    </tr>\n",
       "    <tr>\n",
       "      <th>386</th>\n",
       "      <td>TRUMP</td>\n",
       "      <td>12</td>\n",
       "      <td>3</td>\n",
       "      <td>10</td>\n",
       "      <td>JJ</td>\n",
       "      <td>eloquent,</td>\n",
       "      <td>eloquent</td>\n",
       "      <td>3551</td>\n",
       "      <td>0</td>\n",
       "      <td>NaN</td>\n",
       "      <td>NaN</td>\n",
       "    </tr>\n",
       "    <tr>\n",
       "      <th>428</th>\n",
       "      <td>TRUMP</td>\n",
       "      <td>13</td>\n",
       "      <td>2</td>\n",
       "      <td>1</td>\n",
       "      <td>VBZ</td>\n",
       "      <td>reminds</td>\n",
       "      <td>reminds</td>\n",
       "      <td>8361</td>\n",
       "      <td>0</td>\n",
       "      <td>NaN</td>\n",
       "      <td>NaN</td>\n",
       "    </tr>\n",
       "    <tr>\n",
       "      <th>457</th>\n",
       "      <td>TRUMP</td>\n",
       "      <td>14</td>\n",
       "      <td>1</td>\n",
       "      <td>4</td>\n",
       "      <td>JJR</td>\n",
       "      <td>healthier</td>\n",
       "      <td>healthier</td>\n",
       "      <td>4838</td>\n",
       "      <td>0</td>\n",
       "      <td>NaN</td>\n",
       "      <td>NaN</td>\n",
       "    </tr>\n",
       "    <tr>\n",
       "      <th>458</th>\n",
       "      <td>TRUMP</td>\n",
       "      <td>14</td>\n",
       "      <td>1</td>\n",
       "      <td>5</td>\n",
       "      <td>NNS</td>\n",
       "      <td>childhoods</td>\n",
       "      <td>childhoods</td>\n",
       "      <td>1942</td>\n",
       "      <td>0</td>\n",
       "      <td>NaN</td>\n",
       "      <td>NaN</td>\n",
       "    </tr>\n",
       "    <tr>\n",
       "      <th>469</th>\n",
       "      <td>TRUMP</td>\n",
       "      <td>14</td>\n",
       "      <td>3</td>\n",
       "      <td>7</td>\n",
       "      <td>JJ</td>\n",
       "      <td>healthier,</td>\n",
       "      <td>healthier</td>\n",
       "      <td>4838</td>\n",
       "      <td>0</td>\n",
       "      <td>NaN</td>\n",
       "      <td>NaN</td>\n",
       "    </tr>\n",
       "    <tr>\n",
       "      <th>495</th>\n",
       "      <td>TRUMP</td>\n",
       "      <td>15</td>\n",
       "      <td>1</td>\n",
       "      <td>6</td>\n",
       "      <td>NNP</td>\n",
       "      <td>'Carpool</td>\n",
       "      <td>carpool</td>\n",
       "      <td>1750</td>\n",
       "      <td>0</td>\n",
       "      <td>NaN</td>\n",
       "      <td>NaN</td>\n",
       "    </tr>\n",
       "    <tr>\n",
       "      <th>496</th>\n",
       "      <td>TRUMP</td>\n",
       "      <td>15</td>\n",
       "      <td>1</td>\n",
       "      <td>7</td>\n",
       "      <td>NNP</td>\n",
       "      <td>Karaoke,'</td>\n",
       "      <td>karaoke</td>\n",
       "      <td>5697</td>\n",
       "      <td>0</td>\n",
       "      <td>NaN</td>\n",
       "      <td>NaN</td>\n",
       "    </tr>\n",
       "    <tr>\n",
       "      <th>512</th>\n",
       "      <td>TRUMP</td>\n",
       "      <td>15</td>\n",
       "      <td>3</td>\n",
       "      <td>3</td>\n",
       "      <td>VBD</td>\n",
       "      <td>planted</td>\n",
       "      <td>planted</td>\n",
       "      <td>7482</td>\n",
       "      <td>0</td>\n",
       "      <td>NaN</td>\n",
       "      <td>NaN</td>\n",
       "    </tr>\n",
       "    <tr>\n",
       "      <th>514</th>\n",
       "      <td>TRUMP</td>\n",
       "      <td>15</td>\n",
       "      <td>3</td>\n",
       "      <td>6</td>\n",
       "      <td>JJ</td>\n",
       "      <td>vegetable</td>\n",
       "      <td>vegetable</td>\n",
       "      <td>10639</td>\n",
       "      <td>0</td>\n",
       "      <td>NaN</td>\n",
       "      <td>NaN</td>\n",
       "    </tr>\n",
       "    <tr>\n",
       "      <th>528</th>\n",
       "      <td>TRUMP</td>\n",
       "      <td>16</td>\n",
       "      <td>1</td>\n",
       "      <td>3</td>\n",
       "      <td>VBD</td>\n",
       "      <td>dazzle</td>\n",
       "      <td>dazzle</td>\n",
       "      <td>2742</td>\n",
       "      <td>0</td>\n",
       "      <td>NaN</td>\n",
       "      <td>NaN</td>\n",
       "    </tr>\n",
       "    <tr>\n",
       "      <th>556</th>\n",
       "      <td>TRUMP</td>\n",
       "      <td>17</td>\n",
       "      <td>1</td>\n",
       "      <td>9</td>\n",
       "      <td>NN</td>\n",
       "      <td>loop</td>\n",
       "      <td>loop</td>\n",
       "      <td>6109</td>\n",
       "      <td>0</td>\n",
       "      <td>NaN</td>\n",
       "      <td>NaN</td>\n",
       "    </tr>\n",
       "    <tr>\n",
       "      <th>632</th>\n",
       "      <td>TRUMP</td>\n",
       "      <td>20</td>\n",
       "      <td>4</td>\n",
       "      <td>31</td>\n",
       "      <td>NNS</td>\n",
       "      <td>childhoods</td>\n",
       "      <td>childhoods</td>\n",
       "      <td>1942</td>\n",
       "      <td>0</td>\n",
       "      <td>NaN</td>\n",
       "      <td>NaN</td>\n",
       "    </tr>\n",
       "    <tr>\n",
       "      <th>675</th>\n",
       "      <td>TRUMP</td>\n",
       "      <td>21</td>\n",
       "      <td>1</td>\n",
       "      <td>5</td>\n",
       "      <td>NN</td>\n",
       "      <td>pure</td>\n",
       "      <td>pure</td>\n",
       "      <td>7965</td>\n",
       "      <td>0</td>\n",
       "      <td>NaN</td>\n",
       "      <td>-10.936628</td>\n",
       "    </tr>\n",
       "    <tr>\n",
       "      <th>698</th>\n",
       "      <td>TRUMP</td>\n",
       "      <td>23</td>\n",
       "      <td>0</td>\n",
       "      <td>10</td>\n",
       "      <td>NNP</td>\n",
       "      <td>Lady's</td>\n",
       "      <td>ladys</td>\n",
       "      <td>5815</td>\n",
       "      <td>0</td>\n",
       "      <td>NaN</td>\n",
       "      <td>NaN</td>\n",
       "    </tr>\n",
       "    <tr>\n",
       "      <th>712</th>\n",
       "      <td>TRUMP</td>\n",
       "      <td>23</td>\n",
       "      <td>4</td>\n",
       "      <td>4</td>\n",
       "      <td>NN</td>\n",
       "      <td>boil</td>\n",
       "      <td>boil</td>\n",
       "      <td>1406</td>\n",
       "      <td>0</td>\n",
       "      <td>NaN</td>\n",
       "      <td>NaN</td>\n",
       "    </tr>\n",
       "    <tr>\n",
       "      <th>748</th>\n",
       "      <td>TRUMP</td>\n",
       "      <td>24</td>\n",
       "      <td>1</td>\n",
       "      <td>13</td>\n",
       "      <td>VB</td>\n",
       "      <td>rub</td>\n",
       "      <td>rub</td>\n",
       "      <td>8705</td>\n",
       "      <td>0</td>\n",
       "      <td>NaN</td>\n",
       "      <td>NaN</td>\n",
       "    </tr>\n",
       "    <tr>\n",
       "      <th>749</th>\n",
       "      <td>TRUMP</td>\n",
       "      <td>24</td>\n",
       "      <td>1</td>\n",
       "      <td>14</td>\n",
       "      <td>NN</td>\n",
       "      <td>salt</td>\n",
       "      <td>salt</td>\n",
       "      <td>8771</td>\n",
       "      <td>0</td>\n",
       "      <td>NaN</td>\n",
       "      <td>NaN</td>\n",
       "    </tr>\n",
       "    <tr>\n",
       "      <th>799</th>\n",
       "      <td>TRUMP</td>\n",
       "      <td>25</td>\n",
       "      <td>3</td>\n",
       "      <td>14</td>\n",
       "      <td>JJ</td>\n",
       "      <td>uniform</td>\n",
       "      <td>uniform</td>\n",
       "      <td>10476</td>\n",
       "      <td>0</td>\n",
       "      <td>NaN</td>\n",
       "      <td>-9.550333</td>\n",
       "    </tr>\n",
       "    <tr>\n",
       "      <th>806</th>\n",
       "      <td>TRUMP</td>\n",
       "      <td>25</td>\n",
       "      <td>4</td>\n",
       "      <td>13</td>\n",
       "      <td>NNS</td>\n",
       "      <td>disrespects</td>\n",
       "      <td>disrespects</td>\n",
       "      <td>3224</td>\n",
       "      <td>0</td>\n",
       "      <td>NaN</td>\n",
       "      <td>NaN</td>\n",
       "    </tr>\n",
       "    <tr>\n",
       "      <th>830</th>\n",
       "      <td>TRUMP</td>\n",
       "      <td>26</td>\n",
       "      <td>2</td>\n",
       "      <td>6</td>\n",
       "      <td>VBD</td>\n",
       "      <td>cracked</td>\n",
       "      <td>cracked</td>\n",
       "      <td>2539</td>\n",
       "      <td>0</td>\n",
       "      <td>NaN</td>\n",
       "      <td>NaN</td>\n",
       "    </tr>\n",
       "    <tr>\n",
       "      <th>885</th>\n",
       "      <td>TRUMP</td>\n",
       "      <td>29</td>\n",
       "      <td>3</td>\n",
       "      <td>3</td>\n",
       "      <td>JJ</td>\n",
       "      <td>ugly,</td>\n",
       "      <td>ugly</td>\n",
       "      <td>10378</td>\n",
       "      <td>0</td>\n",
       "      <td>NaN</td>\n",
       "      <td>-10.020337</td>\n",
       "    </tr>\n",
       "    <tr>\n",
       "      <th>903</th>\n",
       "      <td>TRUMP</td>\n",
       "      <td>30</td>\n",
       "      <td>0</td>\n",
       "      <td>24</td>\n",
       "      <td>VBP</td>\n",
       "      <td>shake</td>\n",
       "      <td>shake</td>\n",
       "      <td>9021</td>\n",
       "      <td>0</td>\n",
       "      <td>NaN</td>\n",
       "      <td>-10.531162</td>\n",
       "    </tr>\n",
       "    <tr>\n",
       "      <th>924</th>\n",
       "      <td>TRUMP</td>\n",
       "      <td>31</td>\n",
       "      <td>0</td>\n",
       "      <td>4</td>\n",
       "      <td>JJ</td>\n",
       "      <td>ugly</td>\n",
       "      <td>ugly</td>\n",
       "      <td>10378</td>\n",
       "      <td>0</td>\n",
       "      <td>NaN</td>\n",
       "      <td>-10.020337</td>\n",
       "    </tr>\n",
       "    <tr>\n",
       "      <th>937</th>\n",
       "      <td>TRUMP</td>\n",
       "      <td>31</td>\n",
       "      <td>0</td>\n",
       "      <td>37</td>\n",
       "      <td>NNP</td>\n",
       "      <td>Lady's,</td>\n",
       "      <td>ladys</td>\n",
       "      <td>5815</td>\n",
       "      <td>0</td>\n",
       "      <td>NaN</td>\n",
       "      <td>NaN</td>\n",
       "    </tr>\n",
       "    <tr>\n",
       "      <th>974</th>\n",
       "      <td>TRUMP</td>\n",
       "      <td>32</td>\n",
       "      <td>2</td>\n",
       "      <td>12</td>\n",
       "      <td>NNP</td>\n",
       "      <td>Wisconsin,</td>\n",
       "      <td>wisconsin</td>\n",
       "      <td>10985</td>\n",
       "      <td>0</td>\n",
       "      <td>NaN</td>\n",
       "      <td>-10.243480</td>\n",
       "    </tr>\n",
       "    <tr>\n",
       "      <th>978</th>\n",
       "      <td>TRUMP</td>\n",
       "      <td>32</td>\n",
       "      <td>2</td>\n",
       "      <td>19</td>\n",
       "      <td>NNP</td>\n",
       "      <td>Felix</td>\n",
       "      <td>felix</td>\n",
       "      <td>4099</td>\n",
       "      <td>0</td>\n",
       "      <td>NaN</td>\n",
       "      <td>NaN</td>\n",
       "    </tr>\n",
       "    <tr>\n",
       "      <th>979</th>\n",
       "      <td>TRUMP</td>\n",
       "      <td>32</td>\n",
       "      <td>2</td>\n",
       "      <td>21</td>\n",
       "      <td>NNP</td>\n",
       "      <td>Ethiopia</td>\n",
       "      <td>ethiopia</td>\n",
       "      <td>3788</td>\n",
       "      <td>0</td>\n",
       "      <td>NaN</td>\n",
       "      <td>NaN</td>\n",
       "    </tr>\n",
       "    <tr>\n",
       "      <th>980</th>\n",
       "      <td>TRUMP</td>\n",
       "      <td>32</td>\n",
       "      <td>2</td>\n",
       "      <td>26</td>\n",
       "      <td>NN</td>\n",
       "      <td>toddler.</td>\n",
       "      <td>toddler</td>\n",
       "      <td>10129</td>\n",
       "      <td>0</td>\n",
       "      <td>NaN</td>\n",
       "      <td>NaN</td>\n",
       "    </tr>\n",
       "    <tr>\n",
       "      <th>997</th>\n",
       "      <td>TRUMP</td>\n",
       "      <td>32</td>\n",
       "      <td>4</td>\n",
       "      <td>9</td>\n",
       "      <td>VB</td>\n",
       "      <td>remembrances.</td>\n",
       "      <td>remembrances</td>\n",
       "      <td>8355</td>\n",
       "      <td>0</td>\n",
       "      <td>NaN</td>\n",
       "      <td>NaN</td>\n",
       "    </tr>\n",
       "    <tr>\n",
       "      <th>1016</th>\n",
       "      <td>TRUMP</td>\n",
       "      <td>32</td>\n",
       "      <td>6</td>\n",
       "      <td>23</td>\n",
       "      <td>NNP</td>\n",
       "      <td>Ethiopia?'</td>\n",
       "      <td>ethiopia</td>\n",
       "      <td>3788</td>\n",
       "      <td>0</td>\n",
       "      <td>NaN</td>\n",
       "      <td>NaN</td>\n",
       "    </tr>\n",
       "    <tr>\n",
       "      <th>1057</th>\n",
       "      <td>TRUMP</td>\n",
       "      <td>34</td>\n",
       "      <td>1</td>\n",
       "      <td>12</td>\n",
       "      <td>NNS</td>\n",
       "      <td>playgrounds</td>\n",
       "      <td>playgrounds</td>\n",
       "      <td>7496</td>\n",
       "      <td>0</td>\n",
       "      <td>NaN</td>\n",
       "      <td>NaN</td>\n",
       "    </tr>\n",
       "    <tr>\n",
       "      <th>1093</th>\n",
       "      <td>TRUMP</td>\n",
       "      <td>34</td>\n",
       "      <td>3</td>\n",
       "      <td>21</td>\n",
       "      <td>NN</td>\n",
       "      <td>guidance</td>\n",
       "      <td>guidance</td>\n",
       "      <td>4695</td>\n",
       "      <td>0</td>\n",
       "      <td>NaN</td>\n",
       "      <td>NaN</td>\n",
       "    </tr>\n",
       "    <tr>\n",
       "      <th>1099</th>\n",
       "      <td>TRUMP</td>\n",
       "      <td>34</td>\n",
       "      <td>3</td>\n",
       "      <td>30</td>\n",
       "      <td>NNS</td>\n",
       "      <td>psychologists</td>\n",
       "      <td>psychologists</td>\n",
       "      <td>7934</td>\n",
       "      <td>0</td>\n",
       "      <td>NaN</td>\n",
       "      <td>NaN</td>\n",
       "    </tr>\n",
       "    <tr>\n",
       "      <th>1110</th>\n",
       "      <td>TRUMP</td>\n",
       "      <td>34</td>\n",
       "      <td>3</td>\n",
       "      <td>50</td>\n",
       "      <td>VBN</td>\n",
       "      <td>bullied</td>\n",
       "      <td>bullied</td>\n",
       "      <td>1606</td>\n",
       "      <td>0</td>\n",
       "      <td>NaN</td>\n",
       "      <td>NaN</td>\n",
       "    </tr>\n",
       "    <tr>\n",
       "      <th>1169</th>\n",
       "      <td>TRUMP</td>\n",
       "      <td>36</td>\n",
       "      <td>3</td>\n",
       "      <td>7</td>\n",
       "      <td>JJ</td>\n",
       "      <td>mutual</td>\n",
       "      <td>mutual</td>\n",
       "      <td>6664</td>\n",
       "      <td>0</td>\n",
       "      <td>NaN</td>\n",
       "      <td>NaN</td>\n",
       "    </tr>\n",
       "    <tr>\n",
       "      <th>1186</th>\n",
       "      <td>TRUMP</td>\n",
       "      <td>37</td>\n",
       "      <td>0</td>\n",
       "      <td>16</td>\n",
       "      <td>NNP</td>\n",
       "      <td>Roy</td>\n",
       "      <td>roy</td>\n",
       "      <td>8703</td>\n",
       "      <td>0</td>\n",
       "      <td>NaN</td>\n",
       "      <td>-10.531162</td>\n",
       "    </tr>\n",
       "    <tr>\n",
       "      <th>1189</th>\n",
       "      <td>TRUMP</td>\n",
       "      <td>37</td>\n",
       "      <td>0</td>\n",
       "      <td>19</td>\n",
       "      <td>NNP</td>\n",
       "      <td>Ross,</td>\n",
       "      <td>ross</td>\n",
       "      <td>8687</td>\n",
       "      <td>0</td>\n",
       "      <td>NaN</td>\n",
       "      <td>-10.020337</td>\n",
       "    </tr>\n",
       "  </tbody>\n",
       "</table>\n",
       "</div>"
      ],
      "text/plain": [
       "     speaker  para_id  sent_id  token_id  pos      token_str       term_str  \\\n",
       "1      TRUMP        0        0         1  NNP        Winston        winston   \n",
       "2      TRUMP        0        0         3   NN         Salem!          salem   \n",
       "5      TRUMP        0        1         2  NNP        Forest!         forest   \n",
       "15     TRUMP        0        2        28  NNP         Forest         forest   \n",
       "34     TRUMP        0        4        17  NNP          Hatch          hatch   \n",
       "39     TRUMP        0        4        26  NNP         Forest         forest   \n",
       "107    TRUMP        2        1         5  NNP            Roy            roy   \n",
       "127    TRUMP        2        4         8  NNP     Carolina's      carolinas   \n",
       "132    TRUMP        3        0         4  NNP           Ross           ross   \n",
       "148    TRUMP        4        0         5  NNP           Ross           ross   \n",
       "155    TRUMP        4        1         6  NNP          Roy's           roys   \n",
       "157    TRUMP        4        1         9  NNP      Deborah's       deborahs   \n",
       "183    TRUMP        5        1        29   NN           chip           chip   \n",
       "194    TRUMP        5        2        15   VB       suppress       suppress   \n",
       "219    TRUMP        6        2        13   IN           worn           worn   \n",
       "220    TRUMP        6        2        15   NN        uniform        uniform   \n",
       "233    TRUMP        6        2        50  VBD     sacrificed     sacrificed   \n",
       "386    TRUMP       12        3        10   JJ      eloquent,       eloquent   \n",
       "428    TRUMP       13        2         1  VBZ        reminds        reminds   \n",
       "457    TRUMP       14        1         4  JJR      healthier      healthier   \n",
       "458    TRUMP       14        1         5  NNS     childhoods     childhoods   \n",
       "469    TRUMP       14        3         7   JJ     healthier,      healthier   \n",
       "495    TRUMP       15        1         6  NNP       'Carpool        carpool   \n",
       "496    TRUMP       15        1         7  NNP      Karaoke,'        karaoke   \n",
       "512    TRUMP       15        3         3  VBD        planted        planted   \n",
       "514    TRUMP       15        3         6   JJ      vegetable      vegetable   \n",
       "528    TRUMP       16        1         3  VBD         dazzle         dazzle   \n",
       "556    TRUMP       17        1         9   NN           loop           loop   \n",
       "632    TRUMP       20        4        31  NNS     childhoods     childhoods   \n",
       "675    TRUMP       21        1         5   NN           pure           pure   \n",
       "698    TRUMP       23        0        10  NNP         Lady's          ladys   \n",
       "712    TRUMP       23        4         4   NN           boil           boil   \n",
       "748    TRUMP       24        1        13   VB            rub            rub   \n",
       "749    TRUMP       24        1        14   NN           salt           salt   \n",
       "799    TRUMP       25        3        14   JJ        uniform        uniform   \n",
       "806    TRUMP       25        4        13  NNS    disrespects    disrespects   \n",
       "830    TRUMP       26        2         6  VBD        cracked        cracked   \n",
       "885    TRUMP       29        3         3   JJ          ugly,           ugly   \n",
       "903    TRUMP       30        0        24  VBP          shake          shake   \n",
       "924    TRUMP       31        0         4   JJ           ugly           ugly   \n",
       "937    TRUMP       31        0        37  NNP        Lady's,          ladys   \n",
       "974    TRUMP       32        2        12  NNP     Wisconsin,      wisconsin   \n",
       "978    TRUMP       32        2        19  NNP          Felix          felix   \n",
       "979    TRUMP       32        2        21  NNP       Ethiopia       ethiopia   \n",
       "980    TRUMP       32        2        26   NN       toddler.        toddler   \n",
       "997    TRUMP       32        4         9   VB  remembrances.   remembrances   \n",
       "1016   TRUMP       32        6        23  NNP     Ethiopia?'       ethiopia   \n",
       "1057   TRUMP       34        1        12  NNS    playgrounds    playgrounds   \n",
       "1093   TRUMP       34        3        21   NN       guidance       guidance   \n",
       "1099   TRUMP       34        3        30  NNS  psychologists  psychologists   \n",
       "1110   TRUMP       34        3        50  VBN        bullied        bullied   \n",
       "1169   TRUMP       36        3         7   JJ         mutual         mutual   \n",
       "1186   TRUMP       37        0        16  NNP            Roy            roy   \n",
       "1189   TRUMP       37        0        19  NNP          Ross,           ross   \n",
       "\n",
       "      term_id  stop  clinton      trump  \n",
       "1       10979     0      NaN -10.936628  \n",
       "2        8769     0      NaN -10.936628  \n",
       "5        4293     0      NaN        NaN  \n",
       "15       4293     0      NaN        NaN  \n",
       "34       4804     0      NaN        NaN  \n",
       "39       4293     0      NaN        NaN  \n",
       "107      8703     0      NaN -10.531162  \n",
       "127      1746     0      NaN        NaN  \n",
       "132      8687     0      NaN -10.020337  \n",
       "148      8687     0      NaN -10.020337  \n",
       "155      8704     0      NaN        NaN  \n",
       "157      2770     0      NaN        NaN  \n",
       "183      1950     0      NaN        NaN  \n",
       "194      9760     0      NaN -10.020337  \n",
       "219     11031     0      NaN        NaN  \n",
       "220     10476     0      NaN  -9.550333  \n",
       "233      8744     0      NaN -10.020337  \n",
       "386      3551     0      NaN        NaN  \n",
       "428      8361     0      NaN        NaN  \n",
       "457      4838     0      NaN        NaN  \n",
       "458      1942     0      NaN        NaN  \n",
       "469      4838     0      NaN        NaN  \n",
       "495      1750     0      NaN        NaN  \n",
       "496      5697     0      NaN        NaN  \n",
       "512      7482     0      NaN        NaN  \n",
       "514     10639     0      NaN        NaN  \n",
       "528      2742     0      NaN        NaN  \n",
       "556      6109     0      NaN        NaN  \n",
       "632      1942     0      NaN        NaN  \n",
       "675      7965     0      NaN -10.936628  \n",
       "698      5815     0      NaN        NaN  \n",
       "712      1406     0      NaN        NaN  \n",
       "748      8705     0      NaN        NaN  \n",
       "749      8771     0      NaN        NaN  \n",
       "799     10476     0      NaN  -9.550333  \n",
       "806      3224     0      NaN        NaN  \n",
       "830      2539     0      NaN        NaN  \n",
       "885     10378     0      NaN -10.020337  \n",
       "903      9021     0      NaN -10.531162  \n",
       "924     10378     0      NaN -10.020337  \n",
       "937      5815     0      NaN        NaN  \n",
       "974     10985     0      NaN -10.243480  \n",
       "978      4099     0      NaN        NaN  \n",
       "979      3788     0      NaN        NaN  \n",
       "980     10129     0      NaN        NaN  \n",
       "997      8355     0      NaN        NaN  \n",
       "1016     3788     0      NaN        NaN  \n",
       "1057     7496     0      NaN        NaN  \n",
       "1093     4695     0      NaN        NaN  \n",
       "1099     7934     0      NaN        NaN  \n",
       "1110     1606     0      NaN        NaN  \n",
       "1169     6664     0      NaN        NaN  \n",
       "1186     8703     0      NaN -10.531162  \n",
       "1189     8687     0      NaN -10.020337  "
      ]
     },
     "execution_count": 399,
     "metadata": {},
     "output_type": "execute_result"
    }
   ],
   "source": [
    "speech[speech['clinton'].isnull().values]"
   ]
  },
  {
   "cell_type": "markdown",
   "metadata": {},
   "source": [
    "## Plotting"
   ]
  },
  {
   "cell_type": "code",
   "execution_count": 400,
   "metadata": {},
   "outputs": [],
   "source": [
    "import seaborn as sns\n",
    "import matplotlib.pyplot as plt"
   ]
  },
  {
   "cell_type": "code",
   "execution_count": 401,
   "metadata": {},
   "outputs": [],
   "source": [
    "token = token.reset_index()\n",
    "token = token.merge(vocab_c['likelihood'], how='left', on=\"term_str\")\\\n",
    "        .rename(columns={'likelihood': 'p_clinton'})\n",
    "token = token.merge(vocab_t['likelihood'], how='left', on=\"term_str\")\\\n",
    "        .rename(columns={'likelihood': 'p_trump'})\n",
    "token = token.set_index('speech_id')"
   ]
  },
  {
   "cell_type": "code",
   "execution_count": 402,
   "metadata": {},
   "outputs": [],
   "source": [
    "tg = token.reset_index().groupby(['speech_id','speaker'])\\\n",
    "    .agg({'p_clinton':'sum','p_trump':'sum','token_id':'count'}).reset_index()\\\n",
    "    .rename(columns={'token_id': 'length'})"
   ]
  },
  {
   "cell_type": "code",
   "execution_count": 403,
   "metadata": {},
   "outputs": [
    {
     "data": {
      "image/png": "[encoded data removed]",
      "text/plain": [
       "<Figure size 720x720 with 1 Axes>"
      ]
     },
     "metadata": {
      "needs_background": "light"
     },
     "output_type": "display_data"
    }
   ],
   "source": [
    "plt.figure(figsize=(10,10))\n",
    "ax = sns.scatterplot(x='p_clinton',y='p_trump',hue='speaker', data=tg)"
   ]
  },
  {
   "cell_type": "code",
   "execution_count": 359,
   "metadata": {},
   "outputs": [
    {
     "data": {
      "application/vnd.plotly.v1+json": {
       "config": {
        "plotlyServerURL": "https://plot.ly"
       },
       "data": [
        {
         "customdata": [
          [
           0
          ],
          [
           1
          ],
          [
           2
          ],
          [
           3
          ],
          [
           4
          ],
          [
           5
          ],
          [
           6
          ],
          [
           7
          ],
          [
           8
          ],
          [
           9
          ],
          [
           10
          ],
          [
           11
          ],
          [
           12
          ],
          [
           15
          ],
          [
           16
          ],
          [
           17
          ],
          [
           18
          ],
          [
           24
          ],
          [
           25
          ],
          [
           26
          ],
          [
           27
          ],
          [
           28
          ],
          [
           29
          ],
          [
           30
          ],
          [
           31
          ],
          [
           59
          ],
          [
           60
          ],
          [
           61
          ],
          [
           62
          ],
          [
           142
          ],
          [
           143
          ],
          [
           144
          ],
          [
           145
          ],
          [
           146
          ],
          [
           147
          ],
          [
           148
          ],
          [
           149
          ],
          [
           151
          ],
          [
           152
          ],
          [
           153
          ],
          [
           154
          ],
          [
           155
          ],
          [
           156
          ],
          [
           157
          ],
          [
           158
          ],
          [
           159
          ],
          [
           160
          ],
          [
           161
          ],
          [
           162
          ]
         ],
         "hoverlabel": {
          "namelength": 0
         },
         "hovertemplate": "speaker=CLINTON<br>p_clinton=%{x}<br>p_trump=%{y}<br>length=%{marker.size}<br>speech_id=%{customdata[0]}",
         "legendgroup": "CLINTON",
         "marker": {
          "color": "#636efa",
          "size": [
           3034,
           2521,
           1401,
           3465,
           3689,
           968,
           892,
           1120,
           1116,
           965,
           1389,
           807,
           4014,
           2854,
           325,
           3336,
           3290,
           1879,
           2657,
           1783,
           3409,
           744,
           198,
           1858,
           1723,
           1028,
           949,
           935,
           44,
           1191,
           425,
           628,
           847,
           552,
           3496,
           579,
           654,
           365,
           632,
           558,
           883,
           2280,
           523,
           587,
           863,
           570,
           1247,
           579,
           1234
          ],
          "sizemode": "area",
          "sizeref": 12.82,
          "symbol": "circle"
         },
         "mode": "markers",
         "name": "CLINTON",
         "showlegend": true,
         "type": "scatter",
         "x": [
          -23301.641692588888,
          -20212.88438957804,
          -10832.122022019505,
          -25914.72411004574,
          -30587.14432230825,
          -8286.787334214041,
          -6814.802428470085,
          -8529.603061715447,
          -8550.914080277362,
          -7213.601847458616,
          -10905.667695555076,
          -6097.275809187461,
          -31007.948653818792,
          -23023.348655099468,
          -2472.083856568151,
          -25548.143796526885,
          -24715.64601955369,
          -14129.914614881325,
          -19781.08595892954,
          -14892.634023635912,
          -25980.746595685738,
          -5817.40794110364,
          -1559.1182453202387,
          -14479.868909269737,
          -13376.216299752352,
          -7919.203592430621,
          -7599.905526466149,
          -7605.144824140123,
          -346.52958234511993,
          -8874.7338351589,
          -3354.240517402736,
          -4754.565737813811,
          -6369.859425418635,
          -4232.87528620208,
          -26843.918874080926,
          -4295.348049945176,
          -4782.471035653078,
          -2776.728146652695,
          -4761.725999968066,
          -4220.024396577583,
          -6497.727431181623,
          -17138.377201273433,
          -3904.6021088656826,
          -4569.9485615576705,
          -6825.099103142011,
          -4516.883367882301,
          -9553.755849330535,
          -4465.9121220457155,
          -9101.628106049438
         ],
         "xaxis": "x",
         "y": [
          -23121.62114488102,
          -20223.03451251779,
          -10807.20698122842,
          -26316.22292747133,
          -29739.85280822305,
          -7954.3298161136945,
          -7027.006801259088,
          -8782.551745146571,
          -8430.280273803955,
          -7402.491453547049,
          -10738.808127834836,
          -6153.475328859732,
          -31847.50374479147,
          -22544.557885091384,
          -2451.7095375857366,
          -24852.597098767714,
          -25229.494007910314,
          -14116.873741725018,
          -20107.02559379437,
          -14241.934408146748,
          -25743.588075373016,
          -5745.406019656164,
          -1359.6990719515045,
          -14281.07049700957,
          -12700.190052727292,
          -7805.231753224069,
          -7155.59962776435,
          -7160.029383606439,
          -332.54510240599114,
          -9198.18046942585,
          -3345.824695378641,
          -4837.789007594876,
          -6310.032079779537,
          -4307.959864789541,
          -26459.4532212091,
          -4389.3540936728905,
          -4874.333610580024,
          -2801.15390523114,
          -4817.1336955044835,
          -4227.938109475631,
          -6589.205265513362,
          -17081.418764354727,
          -3955.731369471236,
          -4633.286781610561,
          -6833.6818774511175,
          -4545.30879585619,
          -9604.942147643163,
          -4480.178946109432,
          -9385.337113033562
         ],
         "yaxis": "y"
        },
        {
         "customdata": [
          [
           2
          ],
          [
           13
          ],
          [
           31
          ],
          [
           32
          ],
          [
           33
          ],
          [
           34
          ],
          [
           35
          ],
          [
           36
          ],
          [
           37
          ],
          [
           38
          ],
          [
           39
          ],
          [
           40
          ],
          [
           41
          ],
          [
           42
          ],
          [
           43
          ],
          [
           44
          ],
          [
           45
          ],
          [
           46
          ],
          [
           47
          ],
          [
           48
          ],
          [
           49
          ],
          [
           50
          ],
          [
           111
          ],
          [
           112
          ],
          [
           113
          ],
          [
           114
          ],
          [
           115
          ],
          [
           116
          ],
          [
           117
          ],
          [
           118
          ],
          [
           119
          ],
          [
           120
          ],
          [
           121
          ],
          [
           122
          ],
          [
           123
          ],
          [
           124
          ],
          [
           125
          ],
          [
           126
          ],
          [
           127
          ],
          [
           128
          ],
          [
           129
          ],
          [
           130
          ],
          [
           131
          ],
          [
           132
          ],
          [
           133
          ],
          [
           134
          ],
          [
           135
          ],
          [
           136
          ],
          [
           137
          ],
          [
           138
          ],
          [
           139
          ],
          [
           140
          ],
          [
           141
          ]
         ],
         "hoverlabel": {
          "namelength": 0
         },
         "hovertemplate": "speaker=TRUMP<br>p_clinton=%{x}<br>p_trump=%{y}<br>length=%{marker.size}<br>speech_id=%{customdata[0]}",
         "legendgroup": "TRUMP",
         "marker": {
          "color": "#EF553B",
          "size": [
           29,
           3348,
           1501,
           743,
           1352,
           1894,
           2005,
           1685,
           2257,
           1987,
           2610,
           1220,
           1784,
           1438,
           1322,
           1698,
           920,
           414,
           1164,
           2770,
           1214,
           70,
           2945,
           1496,
           1334,
           1140,
           749,
           640,
           834,
           3599,
           1021,
           2273,
           1260,
           2179,
           1646,
           1546,
           2611,
           3919,
           3691,
           2096,
           4501,
           2726,
           5128,
           2565,
           2070,
           1359,
           1798,
           1589,
           973,
           2217,
           2390,
           1233,
           1793
          ],
          "sizemode": "area",
          "sizeref": 12.82,
          "symbol": "circle"
         },
         "mode": "markers",
         "name": "TRUMP",
         "showlegend": true,
         "type": "scatter",
         "x": [
          -222.29919665938903,
          -24568.3425422615,
          -11135.63445841688,
          -5745.094031203127,
          -10221.550185139546,
          -14289.683201248969,
          -15175.511068913793,
          -12657.817019695309,
          -17188.446150712836,
          -15050.309237532458,
          -20015.263514257418,
          -9361.889692498602,
          -13629.639973250372,
          -10955.285190685647,
          -10415.490724776131,
          -12650.703373069953,
          -6835.503106884849,
          -3298.6624142020664,
          -9167.345490215153,
          -20948.43225693898,
          -9092.75818622799,
          -491.07565344798303,
          -22272.39307048548,
          -11903.929816429698,
          -10851.257226594807,
          -9076.802420519889,
          -5612.764471250204,
          -5036.694783421633,
          -6491.972215903352,
          -27776.411505304884,
          -8226.604737871743,
          -17358.414629502382,
          -9911.03312201725,
          -16688.794979731916,
          -12872.249227357723,
          -12119.007177351403,
          -20672.342929474922,
          -28733.932091013165,
          -27415.063038041553,
          -16671.491655341437,
          -33602.13364030567,
          -20697.855961712972,
          -38981.04370318814,
          -20386.97528249535,
          -15573.93063166306,
          -10894.71824849539,
          -13940.30461210656,
          -12529.101324911104,
          -7327.814126640898,
          -17172.923758646073,
          -18500.668091200092,
          -9477.243301733639,
          -14123.48297454997
         ],
         "xaxis": "x",
         "y": [
          -237.31183443426562,
          -25023.76726739004,
          -11137.200004181233,
          -5725.431766057871,
          -10403.319139621395,
          -14516.014320092887,
          -15678.644036671467,
          -13089.46167620428,
          -17546.688013950556,
          -14655.650534305318,
          -19707.137149581187,
          -9298.837406648832,
          -14354.352036546312,
          -11148.314765625417,
          -10113.723379868166,
          -13191.268923614376,
          -6903.424678168566,
          -3384.3694304474297,
          -9267.181772810001,
          -20637.30127234193,
          -9370.484392670034,
          -504.88650152282975,
          -22085.91642792499,
          -12050.757039802571,
          -10910.290986512779,
          -9058.235443321657,
          -5687.795210165736,
          -5018.662536653288,
          -6378.87057691521,
          -28202.54502771366,
          -7918.483383840548,
          -17165.237378084865,
          -10035.124336383902,
          -16259.371147600861,
          -12685.716528329487,
          -12134.898240611628,
          -20961.879036130485,
          -28876.688467155578,
          -27252.830626897856,
          -16808.474364236678,
          -33759.30522891707,
          -21464.311117366797,
          -38762.34505210182,
          -20400.230328837915,
          -15498.63272074318,
          -11129.407939981467,
          -13762.829162607764,
          -12624.993983335627,
          -7268.999870261147,
          -17873.393761451636,
          -19054.327915856742,
          -9870.017664937055,
          -15055.26158760216
         ],
         "yaxis": "y"
        }
       ],
       "layout": {
        "legend": {
         "itemsizing": "constant",
         "title": {
          "text": "speaker"
         },
         "tracegroupgap": 0
        },
        "margin": {
         "t": 60
        },
        "template": {
         "data": {
          "bar": [
           {
            "error_x": {
             "color": "#2a3f5f"
            },
            "error_y": {
             "color": "#2a3f5f"
            },
            "marker": {
             "line": {
              "color": "#E5ECF6",
              "width": 0.5
             }
            },
            "type": "bar"
           }
          ],
          "barpolar": [
           {
            "marker": {
             "line": {
              "color": "#E5ECF6",
              "width": 0.5
             }
            },
            "type": "barpolar"
           }
          ],
          "carpet": [
           {
            "aaxis": {
             "endlinecolor": "#2a3f5f",
             "gridcolor": "white",
             "linecolor": "white",
             "minorgridcolor": "white",
             "startlinecolor": "#2a3f5f"
            },
            "baxis": {
             "endlinecolor": "#2a3f5f",
             "gridcolor": "white",
             "linecolor": "white",
             "minorgridcolor": "white",
             "startlinecolor": "#2a3f5f"
            },
            "type": "carpet"
           }
          ],
          "choropleth": [
           {
            "colorbar": {
             "outlinewidth": 0,
             "ticks": ""
            },
            "type": "choropleth"
           }
          ],
          "contour": [
           {
            "colorbar": {
             "outlinewidth": 0,
             "ticks": ""
            },
            "colorscale": [
             [
              0,
              "#0d0887"
             ],
             [
              0.1111111111111111,
              "#46039f"
             ],
             [
              0.2222222222222222,
              "#7201a8"
             ],
             [
              0.3333333333333333,
              "#9c179e"
             ],
             [
              0.4444444444444444,
              "#bd3786"
             ],
             [
              0.5555555555555556,
              "#d8576b"
             ],
             [
              0.6666666666666666,
              "#ed7953"
             ],
             [
              0.7777777777777778,
              "#fb9f3a"
             ],
             [
              0.8888888888888888,
              "#fdca26"
             ],
             [
              1,
              "#f0f921"
             ]
            ],
            "type": "contour"
           }
          ],
          "contourcarpet": [
           {
            "colorbar": {
             "outlinewidth": 0,
             "ticks": ""
            },
            "type": "contourcarpet"
           }
          ],
          "heatmap": [
           {
            "colorbar": {
             "outlinewidth": 0,
             "ticks": ""
            },
            "colorscale": [
             [
              0,
              "#0d0887"
             ],
             [
              0.1111111111111111,
              "#46039f"
             ],
             [
              0.2222222222222222,
              "#7201a8"
             ],
             [
              0.3333333333333333,
              "#9c179e"
             ],
             [
              0.4444444444444444,
              "#bd3786"
             ],
             [
              0.5555555555555556,
              "#d8576b"
             ],
             [
              0.6666666666666666,
              "#ed7953"
             ],
             [
              0.7777777777777778,
              "#fb9f3a"
             ],
             [
              0.8888888888888888,
              "#fdca26"
             ],
             [
              1,
              "#f0f921"
             ]
            ],
            "type": "heatmap"
           }
          ],
          "heatmapgl": [
           {
            "colorbar": {
             "outlinewidth": 0,
             "ticks": ""
            },
            "colorscale": [
             [
              0,
              "#0d0887"
             ],
             [
              0.1111111111111111,
              "#46039f"
             ],
             [
              0.2222222222222222,
              "#7201a8"
             ],
             [
              0.3333333333333333,
              "#9c179e"
             ],
             [
              0.4444444444444444,
              "#bd3786"
             ],
             [
              0.5555555555555556,
              "#d8576b"
             ],
             [
              0.6666666666666666,
              "#ed7953"
             ],
             [
              0.7777777777777778,
              "#fb9f3a"
             ],
             [
              0.8888888888888888,
              "#fdca26"
             ],
             [
              1,
              "#f0f921"
             ]
            ],
            "type": "heatmapgl"
           }
          ],
          "histogram": [
           {
            "marker": {
             "colorbar": {
              "outlinewidth": 0,
              "ticks": ""
             }
            },
            "type": "histogram"
           }
          ],
          "histogram2d": [
           {
            "colorbar": {
             "outlinewidth": 0,
             "ticks": ""
            },
            "colorscale": [
             [
              0,
              "#0d0887"
             ],
             [
              0.1111111111111111,
              "#46039f"
             ],
             [
              0.2222222222222222,
              "#7201a8"
             ],
             [
              0.3333333333333333,
              "#9c179e"
             ],
             [
              0.4444444444444444,
              "#bd3786"
             ],
             [
              0.5555555555555556,
              "#d8576b"
             ],
             [
              0.6666666666666666,
              "#ed7953"
             ],
             [
              0.7777777777777778,
              "#fb9f3a"
             ],
             [
              0.8888888888888888,
              "#fdca26"
             ],
             [
              1,
              "#f0f921"
             ]
            ],
            "type": "histogram2d"
           }
          ],
          "histogram2dcontour": [
           {
            "colorbar": {
             "outlinewidth": 0,
             "ticks": ""
            },
            "colorscale": [
             [
              0,
              "#0d0887"
             ],
             [
              0.1111111111111111,
              "#46039f"
             ],
             [
              0.2222222222222222,
              "#7201a8"
             ],
             [
              0.3333333333333333,
              "#9c179e"
             ],
             [
              0.4444444444444444,
              "#bd3786"
             ],
             [
              0.5555555555555556,
              "#d8576b"
             ],
             [
              0.6666666666666666,
              "#ed7953"
             ],
             [
              0.7777777777777778,
              "#fb9f3a"
             ],
             [
              0.8888888888888888,
              "#fdca26"
             ],
             [
              1,
              "#f0f921"
             ]
            ],
            "type": "histogram2dcontour"
           }
          ],
          "mesh3d": [
           {
            "colorbar": {
             "outlinewidth": 0,
             "ticks": ""
            },
            "type": "mesh3d"
           }
          ],
          "parcoords": [
           {
            "line": {
             "colorbar": {
              "outlinewidth": 0,
              "ticks": ""
             }
            },
            "type": "parcoords"
           }
          ],
          "pie": [
           {
            "automargin": true,
            "type": "pie"
           }
          ],
          "scatter": [
           {
            "marker": {
             "colorbar": {
              "outlinewidth": 0,
              "ticks": ""
             }
            },
            "type": "scatter"
           }
          ],
          "scatter3d": [
           {
            "line": {
             "colorbar": {
              "outlinewidth": 0,
              "ticks": ""
             }
            },
            "marker": {
             "colorbar": {
              "outlinewidth": 0,
              "ticks": ""
             }
            },
            "type": "scatter3d"
           }
          ],
          "scattercarpet": [
           {
            "marker": {
             "colorbar": {
              "outlinewidth": 0,
              "ticks": ""
             }
            },
            "type": "scattercarpet"
           }
          ],
          "scattergeo": [
           {
            "marker": {
             "colorbar": {
              "outlinewidth": 0,
              "ticks": ""
             }
            },
            "type": "scattergeo"
           }
          ],
          "scattergl": [
           {
            "marker": {
             "colorbar": {
              "outlinewidth": 0,
              "ticks": ""
             }
            },
            "type": "scattergl"
           }
          ],
          "scattermapbox": [
           {
            "marker": {
             "colorbar": {
              "outlinewidth": 0,
              "ticks": ""
             }
            },
            "type": "scattermapbox"
           }
          ],
          "scatterpolar": [
           {
            "marker": {
             "colorbar": {
              "outlinewidth": 0,
              "ticks": ""
             }
            },
            "type": "scatterpolar"
           }
          ],
          "scatterpolargl": [
           {
            "marker": {
             "colorbar": {
              "outlinewidth": 0,
              "ticks": ""
             }
            },
            "type": "scatterpolargl"
           }
          ],
          "scatterternary": [
           {
            "marker": {
             "colorbar": {
              "outlinewidth": 0,
              "ticks": ""
             }
            },
            "type": "scatterternary"
           }
          ],
          "surface": [
           {
            "colorbar": {
             "outlinewidth": 0,
             "ticks": ""
            },
            "colorscale": [
             [
              0,
              "#0d0887"
             ],
             [
              0.1111111111111111,
              "#46039f"
             ],
             [
              0.2222222222222222,
              "#7201a8"
             ],
             [
              0.3333333333333333,
              "#9c179e"
             ],
             [
              0.4444444444444444,
              "#bd3786"
             ],
             [
              0.5555555555555556,
              "#d8576b"
             ],
             [
              0.6666666666666666,
              "#ed7953"
             ],
             [
              0.7777777777777778,
              "#fb9f3a"
             ],
             [
              0.8888888888888888,
              "#fdca26"
             ],
             [
              1,
              "#f0f921"
             ]
            ],
            "type": "surface"
           }
          ],
          "table": [
           {
            "cells": {
             "fill": {
              "color": "#EBF0F8"
             },
             "line": {
              "color": "white"
             }
            },
            "header": {
             "fill": {
              "color": "#C8D4E3"
             },
             "line": {
              "color": "white"
             }
            },
            "type": "table"
           }
          ]
         },
         "layout": {
          "annotationdefaults": {
           "arrowcolor": "#2a3f5f",
           "arrowhead": 0,
           "arrowwidth": 1
          },
          "coloraxis": {
           "colorbar": {
            "outlinewidth": 0,
            "ticks": ""
           }
          },
          "colorscale": {
           "diverging": [
            [
             0,
             "#8e0152"
            ],
            [
             0.1,
             "#c51b7d"
            ],
            [
             0.2,
             "#de77ae"
            ],
            [
             0.3,
             "#f1b6da"
            ],
            [
             0.4,
             "#fde0ef"
            ],
            [
             0.5,
             "#f7f7f7"
            ],
            [
             0.6,
             "#e6f5d0"
            ],
            [
             0.7,
             "#b8e186"
            ],
            [
             0.8,
             "#7fbc41"
            ],
            [
             0.9,
             "#4d9221"
            ],
            [
             1,
             "#276419"
            ]
           ],
           "sequential": [
            [
             0,
             "#0d0887"
            ],
            [
             0.1111111111111111,
             "#46039f"
            ],
            [
             0.2222222222222222,
             "#7201a8"
            ],
            [
             0.3333333333333333,
             "#9c179e"
            ],
            [
             0.4444444444444444,
             "#bd3786"
            ],
            [
             0.5555555555555556,
             "#d8576b"
            ],
            [
             0.6666666666666666,
             "#ed7953"
            ],
            [
             0.7777777777777778,
             "#fb9f3a"
            ],
            [
             0.8888888888888888,
             "#fdca26"
            ],
            [
             1,
             "#f0f921"
            ]
           ],
           "sequentialminus": [
            [
             0,
             "#0d0887"
            ],
            [
             0.1111111111111111,
             "#46039f"
            ],
            [
             0.2222222222222222,
             "#7201a8"
            ],
            [
             0.3333333333333333,
             "#9c179e"
            ],
            [
             0.4444444444444444,
             "#bd3786"
            ],
            [
             0.5555555555555556,
             "#d8576b"
            ],
            [
             0.6666666666666666,
             "#ed7953"
            ],
            [
             0.7777777777777778,
             "#fb9f3a"
            ],
            [
             0.8888888888888888,
             "#fdca26"
            ],
            [
             1,
             "#f0f921"
            ]
           ]
          },
          "colorway": [
           "#636efa",
           "#EF553B",
           "#00cc96",
           "#ab63fa",
           "#FFA15A",
           "#19d3f3",
           "#FF6692",
           "#B6E880",
           "#FF97FF",
           "#FECB52"
          ],
          "font": {
           "color": "#2a3f5f"
          },
          "geo": {
           "bgcolor": "white",
           "lakecolor": "white",
           "landcolor": "#E5ECF6",
           "showlakes": true,
           "showland": true,
           "subunitcolor": "white"
          },
          "hoverlabel": {
           "align": "left"
          },
          "hovermode": "closest",
          "mapbox": {
           "style": "light"
          },
          "paper_bgcolor": "white",
          "plot_bgcolor": "#E5ECF6",
          "polar": {
           "angularaxis": {
            "gridcolor": "white",
            "linecolor": "white",
            "ticks": ""
           },
           "bgcolor": "#E5ECF6",
           "radialaxis": {
            "gridcolor": "white",
            "linecolor": "white",
            "ticks": ""
           }
          },
          "scene": {
           "xaxis": {
            "backgroundcolor": "#E5ECF6",
            "gridcolor": "white",
            "gridwidth": 2,
            "linecolor": "white",
            "showbackground": true,
            "ticks": "",
            "zerolinecolor": "white"
           },
           "yaxis": {
            "backgroundcolor": "#E5ECF6",
            "gridcolor": "white",
            "gridwidth": 2,
            "linecolor": "white",
            "showbackground": true,
            "ticks": "",
            "zerolinecolor": "white"
           },
           "zaxis": {
            "backgroundcolor": "#E5ECF6",
            "gridcolor": "white",
            "gridwidth": 2,
            "linecolor": "white",
            "showbackground": true,
            "ticks": "",
            "zerolinecolor": "white"
           }
          },
          "shapedefaults": {
           "line": {
            "color": "#2a3f5f"
           }
          },
          "ternary": {
           "aaxis": {
            "gridcolor": "white",
            "linecolor": "white",
            "ticks": ""
           },
           "baxis": {
            "gridcolor": "white",
            "linecolor": "white",
            "ticks": ""
           },
           "bgcolor": "#E5ECF6",
           "caxis": {
            "gridcolor": "white",
            "linecolor": "white",
            "ticks": ""
           }
          },
          "title": {
           "x": 0.05
          },
          "xaxis": {
           "automargin": true,
           "gridcolor": "white",
           "linecolor": "white",
           "ticks": "",
           "title": {
            "standoff": 15
           },
           "zerolinecolor": "white",
           "zerolinewidth": 2
          },
          "yaxis": {
           "automargin": true,
           "gridcolor": "white",
           "linecolor": "white",
           "ticks": "",
           "title": {
            "standoff": 15
           },
           "zerolinecolor": "white",
           "zerolinewidth": 2
          }
         }
        },
        "xaxis": {
         "anchor": "y",
         "domain": [
          0,
          1
         ],
         "title": {
          "text": "p_clinton"
         }
        },
        "yaxis": {
         "anchor": "x",
         "domain": [
          0,
          1
         ],
         "title": {
          "text": "p_trump"
         }
        }
       }
      },
      "text/html": [
       "<div>\n",
       "        \n",
       "        \n",
       "            <div id=\"cc172f38-6c19-4a67-9d2f-014476af36fb\" class=\"plotly-graph-div\" style=\"height:525px; width:100%;\"></div>\n",
       "            <script type=\"text/javascript\">\n",
       "                require([\"plotly\"], function(Plotly) {\n",
       "                    window.PLOTLYENV=window.PLOTLYENV || {};\n",
       "                    \n",
       "                if (document.getElementById(\"cc172f38-6c19-4a67-9d2f-014476af36fb\")) {\n",
       "                    Plotly.newPlot(\n",
       "                        'cc172f38-6c19-4a67-9d2f-014476af36fb',\n",
       "                        [{\"customdata\": [[0], [1], [2], [3], [4], [5], [6], [7], [8], [9], [10], [11], [12], [15], [16], [17], [18], [24], [25], [26], [27], [28], [29], [30], [31], [59], [60], [61], [62], [142], [143], [144], [145], [146], [147], [148], [149], [151], [152], [153], [154], [155], [156], [157], [158], [159], [160], [161], [162]], \"hoverlabel\": {\"namelength\": 0}, \"hovertemplate\": \"speaker=CLINTON<br>p_clinton=%{x}<br>p_trump=%{y}<br>length=%{marker.size}<br>speech_id=%{customdata[0]}\", \"legendgroup\": \"CLINTON\", \"marker\": {\"color\": \"#636efa\", \"size\": [3034, 2521, 1401, 3465, 3689, 968, 892, 1120, 1116, 965, 1389, 807, 4014, 2854, 325, 3336, 3290, 1879, 2657, 1783, 3409, 744, 198, 1858, 1723, 1028, 949, 935, 44, 1191, 425, 628, 847, 552, 3496, 579, 654, 365, 632, 558, 883, 2280, 523, 587, 863, 570, 1247, 579, 1234], \"sizemode\": \"area\", \"sizeref\": 12.82, \"symbol\": \"circle\"}, \"mode\": \"markers\", \"name\": \"CLINTON\", \"showlegend\": true, \"type\": \"scatter\", \"x\": [-23301.641692588888, -20212.88438957804, -10832.122022019505, -25914.72411004574, -30587.14432230825, -8286.787334214041, -6814.802428470085, -8529.603061715447, -8550.914080277362, -7213.601847458616, -10905.667695555076, -6097.275809187461, -31007.948653818792, -23023.348655099468, -2472.083856568151, -25548.143796526885, -24715.64601955369, -14129.914614881325, -19781.08595892954, -14892.634023635912, -25980.746595685738, -5817.40794110364, -1559.1182453202387, -14479.868909269737, -13376.216299752352, -7919.203592430621, -7599.905526466149, -7605.144824140123, -346.52958234511993, -8874.7338351589, -3354.240517402736, -4754.565737813811, -6369.859425418635, -4232.87528620208, -26843.918874080926, -4295.348049945176, -4782.471035653078, -2776.728146652695, -4761.725999968066, -4220.024396577583, -6497.727431181623, -17138.377201273433, -3904.6021088656826, -4569.9485615576705, -6825.099103142011, -4516.883367882301, -9553.755849330535, -4465.9121220457155, -9101.628106049438], \"xaxis\": \"x\", \"y\": [-23121.62114488102, -20223.03451251779, -10807.20698122842, -26316.22292747133, -29739.85280822305, -7954.3298161136945, -7027.006801259088, -8782.551745146571, -8430.280273803955, -7402.491453547049, -10738.808127834836, -6153.475328859732, -31847.50374479147, -22544.557885091384, -2451.7095375857366, -24852.597098767714, -25229.494007910314, -14116.873741725018, -20107.02559379437, -14241.934408146748, -25743.588075373016, -5745.406019656164, -1359.6990719515045, -14281.07049700957, -12700.190052727292, -7805.231753224069, -7155.59962776435, -7160.029383606439, -332.54510240599114, -9198.18046942585, -3345.824695378641, -4837.789007594876, -6310.032079779537, -4307.959864789541, -26459.4532212091, -4389.3540936728905, -4874.333610580024, -2801.15390523114, -4817.1336955044835, -4227.938109475631, -6589.205265513362, -17081.418764354727, -3955.731369471236, -4633.286781610561, -6833.6818774511175, -4545.30879585619, -9604.942147643163, -4480.178946109432, -9385.337113033562], \"yaxis\": \"y\"}, {\"customdata\": [[2], [13], [31], [32], [33], [34], [35], [36], [37], [38], [39], [40], [41], [42], [43], [44], [45], [46], [47], [48], [49], [50], [111], [112], [113], [114], [115], [116], [117], [118], [119], [120], [121], [122], [123], [124], [125], [126], [127], [128], [129], [130], [131], [132], [133], [134], [135], [136], [137], [138], [139], [140], [141]], \"hoverlabel\": {\"namelength\": 0}, \"hovertemplate\": \"speaker=TRUMP<br>p_clinton=%{x}<br>p_trump=%{y}<br>length=%{marker.size}<br>speech_id=%{customdata[0]}\", \"legendgroup\": \"TRUMP\", \"marker\": {\"color\": \"#EF553B\", \"size\": [29, 3348, 1501, 743, 1352, 1894, 2005, 1685, 2257, 1987, 2610, 1220, 1784, 1438, 1322, 1698, 920, 414, 1164, 2770, 1214, 70, 2945, 1496, 1334, 1140, 749, 640, 834, 3599, 1021, 2273, 1260, 2179, 1646, 1546, 2611, 3919, 3691, 2096, 4501, 2726, 5128, 2565, 2070, 1359, 1798, 1589, 973, 2217, 2390, 1233, 1793], \"sizemode\": \"area\", \"sizeref\": 12.82, \"symbol\": \"circle\"}, \"mode\": \"markers\", \"name\": \"TRUMP\", \"showlegend\": true, \"type\": \"scatter\", \"x\": [-222.29919665938903, -24568.3425422615, -11135.63445841688, -5745.094031203127, -10221.550185139546, -14289.683201248969, -15175.511068913793, -12657.817019695309, -17188.446150712836, -15050.309237532458, -20015.263514257418, -9361.889692498602, -13629.639973250372, -10955.285190685647, -10415.490724776131, -12650.703373069953, -6835.503106884849, -3298.6624142020664, -9167.345490215153, -20948.43225693898, -9092.75818622799, -491.07565344798303, -22272.39307048548, -11903.929816429698, -10851.257226594807, -9076.802420519889, -5612.764471250204, -5036.694783421633, -6491.972215903352, -27776.411505304884, -8226.604737871743, -17358.414629502382, -9911.03312201725, -16688.794979731916, -12872.249227357723, -12119.007177351403, -20672.342929474922, -28733.932091013165, -27415.063038041553, -16671.491655341437, -33602.13364030567, -20697.855961712972, -38981.04370318814, -20386.97528249535, -15573.93063166306, -10894.71824849539, -13940.30461210656, -12529.101324911104, -7327.814126640898, -17172.923758646073, -18500.668091200092, -9477.243301733639, -14123.48297454997], \"xaxis\": \"x\", \"y\": [-237.31183443426562, -25023.76726739004, -11137.200004181233, -5725.431766057871, -10403.319139621395, -14516.014320092887, -15678.644036671467, -13089.46167620428, -17546.688013950556, -14655.650534305318, -19707.137149581187, -9298.837406648832, -14354.352036546312, -11148.314765625417, -10113.723379868166, -13191.268923614376, -6903.424678168566, -3384.3694304474297, -9267.181772810001, -20637.30127234193, -9370.484392670034, -504.88650152282975, -22085.91642792499, -12050.757039802571, -10910.290986512779, -9058.235443321657, -5687.795210165736, -5018.662536653288, -6378.87057691521, -28202.54502771366, -7918.483383840548, -17165.237378084865, -10035.124336383902, -16259.371147600861, -12685.716528329487, -12134.898240611628, -20961.879036130485, -28876.688467155578, -27252.830626897856, -16808.474364236678, -33759.30522891707, -21464.311117366797, -38762.34505210182, -20400.230328837915, -15498.63272074318, -11129.407939981467, -13762.829162607764, -12624.993983335627, -7268.999870261147, -17873.393761451636, -19054.327915856742, -9870.017664937055, -15055.26158760216], \"yaxis\": \"y\"}],\n",
       "                        {\"legend\": {\"itemsizing\": \"constant\", \"title\": {\"text\": \"speaker\"}, \"tracegroupgap\": 0}, \"margin\": {\"t\": 60}, \"template\": {\"data\": {\"bar\": [{\"error_x\": {\"color\": \"#2a3f5f\"}, \"error_y\": {\"color\": \"#2a3f5f\"}, \"marker\": {\"line\": {\"color\": \"#E5ECF6\", \"width\": 0.5}}, \"type\": \"bar\"}], \"barpolar\": [{\"marker\": {\"line\": {\"color\": \"#E5ECF6\", \"width\": 0.5}}, \"type\": \"barpolar\"}], \"carpet\": [{\"aaxis\": {\"endlinecolor\": \"#2a3f5f\", \"gridcolor\": \"white\", \"linecolor\": \"white\", \"minorgridcolor\": \"white\", \"startlinecolor\": \"#2a3f5f\"}, \"baxis\": {\"endlinecolor\": \"#2a3f5f\", \"gridcolor\": \"white\", \"linecolor\": \"white\", \"minorgridcolor\": \"white\", \"startlinecolor\": \"#2a3f5f\"}, \"type\": \"carpet\"}], \"choropleth\": [{\"colorbar\": {\"outlinewidth\": 0, \"ticks\": \"\"}, \"type\": \"choropleth\"}], \"contour\": [{\"colorbar\": {\"outlinewidth\": 0, \"ticks\": \"\"}, \"colorscale\": [[0.0, \"#0d0887\"], [0.1111111111111111, \"#46039f\"], [0.2222222222222222, \"#7201a8\"], [0.3333333333333333, \"#9c179e\"], [0.4444444444444444, \"#bd3786\"], [0.5555555555555556, \"#d8576b\"], [0.6666666666666666, \"#ed7953\"], [0.7777777777777778, \"#fb9f3a\"], [0.8888888888888888, \"#fdca26\"], [1.0, \"#f0f921\"]], \"type\": \"contour\"}], \"contourcarpet\": [{\"colorbar\": {\"outlinewidth\": 0, \"ticks\": \"\"}, \"type\": \"contourcarpet\"}], \"heatmap\": [{\"colorbar\": {\"outlinewidth\": 0, \"ticks\": \"\"}, \"colorscale\": [[0.0, \"#0d0887\"], [0.1111111111111111, \"#46039f\"], [0.2222222222222222, \"#7201a8\"], [0.3333333333333333, \"#9c179e\"], [0.4444444444444444, \"#bd3786\"], [0.5555555555555556, \"#d8576b\"], [0.6666666666666666, \"#ed7953\"], [0.7777777777777778, \"#fb9f3a\"], [0.8888888888888888, \"#fdca26\"], [1.0, \"#f0f921\"]], \"type\": \"heatmap\"}], \"heatmapgl\": [{\"colorbar\": {\"outlinewidth\": 0, \"ticks\": \"\"}, \"colorscale\": [[0.0, \"#0d0887\"], [0.1111111111111111, \"#46039f\"], [0.2222222222222222, \"#7201a8\"], [0.3333333333333333, \"#9c179e\"], [0.4444444444444444, \"#bd3786\"], [0.5555555555555556, \"#d8576b\"], [0.6666666666666666, \"#ed7953\"], [0.7777777777777778, \"#fb9f3a\"], [0.8888888888888888, \"#fdca26\"], [1.0, \"#f0f921\"]], \"type\": \"heatmapgl\"}], \"histogram\": [{\"marker\": {\"colorbar\": {\"outlinewidth\": 0, \"ticks\": \"\"}}, \"type\": \"histogram\"}], \"histogram2d\": [{\"colorbar\": {\"outlinewidth\": 0, \"ticks\": \"\"}, \"colorscale\": [[0.0, \"#0d0887\"], [0.1111111111111111, \"#46039f\"], [0.2222222222222222, \"#7201a8\"], [0.3333333333333333, \"#9c179e\"], [0.4444444444444444, \"#bd3786\"], [0.5555555555555556, \"#d8576b\"], [0.6666666666666666, \"#ed7953\"], [0.7777777777777778, \"#fb9f3a\"], [0.8888888888888888, \"#fdca26\"], [1.0, \"#f0f921\"]], \"type\": \"histogram2d\"}], \"histogram2dcontour\": [{\"colorbar\": {\"outlinewidth\": 0, \"ticks\": \"\"}, \"colorscale\": [[0.0, \"#0d0887\"], [0.1111111111111111, \"#46039f\"], [0.2222222222222222, \"#7201a8\"], [0.3333333333333333, \"#9c179e\"], [0.4444444444444444, \"#bd3786\"], [0.5555555555555556, \"#d8576b\"], [0.6666666666666666, \"#ed7953\"], [0.7777777777777778, \"#fb9f3a\"], [0.8888888888888888, \"#fdca26\"], [1.0, \"#f0f921\"]], \"type\": \"histogram2dcontour\"}], \"mesh3d\": [{\"colorbar\": {\"outlinewidth\": 0, \"ticks\": \"\"}, \"type\": \"mesh3d\"}], \"parcoords\": [{\"line\": {\"colorbar\": {\"outlinewidth\": 0, \"ticks\": \"\"}}, \"type\": \"parcoords\"}], \"pie\": [{\"automargin\": true, \"type\": \"pie\"}], \"scatter\": [{\"marker\": {\"colorbar\": {\"outlinewidth\": 0, \"ticks\": \"\"}}, \"type\": \"scatter\"}], \"scatter3d\": [{\"line\": {\"colorbar\": {\"outlinewidth\": 0, \"ticks\": \"\"}}, \"marker\": {\"colorbar\": {\"outlinewidth\": 0, \"ticks\": \"\"}}, \"type\": \"scatter3d\"}], \"scattercarpet\": [{\"marker\": {\"colorbar\": {\"outlinewidth\": 0, \"ticks\": \"\"}}, \"type\": \"scattercarpet\"}], \"scattergeo\": [{\"marker\": {\"colorbar\": {\"outlinewidth\": 0, \"ticks\": \"\"}}, \"type\": \"scattergeo\"}], \"scattergl\": [{\"marker\": {\"colorbar\": {\"outlinewidth\": 0, \"ticks\": \"\"}}, \"type\": \"scattergl\"}], \"scattermapbox\": [{\"marker\": {\"colorbar\": {\"outlinewidth\": 0, \"ticks\": \"\"}}, \"type\": \"scattermapbox\"}], \"scatterpolar\": [{\"marker\": {\"colorbar\": {\"outlinewidth\": 0, \"ticks\": \"\"}}, \"type\": \"scatterpolar\"}], \"scatterpolargl\": [{\"marker\": {\"colorbar\": {\"outlinewidth\": 0, \"ticks\": \"\"}}, \"type\": \"scatterpolargl\"}], \"scatterternary\": [{\"marker\": {\"colorbar\": {\"outlinewidth\": 0, \"ticks\": \"\"}}, \"type\": \"scatterternary\"}], \"surface\": [{\"colorbar\": {\"outlinewidth\": 0, \"ticks\": \"\"}, \"colorscale\": [[0.0, \"#0d0887\"], [0.1111111111111111, \"#46039f\"], [0.2222222222222222, \"#7201a8\"], [0.3333333333333333, \"#9c179e\"], [0.4444444444444444, \"#bd3786\"], [0.5555555555555556, \"#d8576b\"], [0.6666666666666666, \"#ed7953\"], [0.7777777777777778, \"#fb9f3a\"], [0.8888888888888888, \"#fdca26\"], [1.0, \"#f0f921\"]], \"type\": \"surface\"}], \"table\": [{\"cells\": {\"fill\": {\"color\": \"#EBF0F8\"}, \"line\": {\"color\": \"white\"}}, \"header\": {\"fill\": {\"color\": \"#C8D4E3\"}, \"line\": {\"color\": \"white\"}}, \"type\": \"table\"}]}, \"layout\": {\"annotationdefaults\": {\"arrowcolor\": \"#2a3f5f\", \"arrowhead\": 0, \"arrowwidth\": 1}, \"coloraxis\": {\"colorbar\": {\"outlinewidth\": 0, \"ticks\": \"\"}}, \"colorscale\": {\"diverging\": [[0, \"#8e0152\"], [0.1, \"#c51b7d\"], [0.2, \"#de77ae\"], [0.3, \"#f1b6da\"], [0.4, \"#fde0ef\"], [0.5, \"#f7f7f7\"], [0.6, \"#e6f5d0\"], [0.7, \"#b8e186\"], [0.8, \"#7fbc41\"], [0.9, \"#4d9221\"], [1, \"#276419\"]], \"sequential\": [[0.0, \"#0d0887\"], [0.1111111111111111, \"#46039f\"], [0.2222222222222222, \"#7201a8\"], [0.3333333333333333, \"#9c179e\"], [0.4444444444444444, \"#bd3786\"], [0.5555555555555556, \"#d8576b\"], [0.6666666666666666, \"#ed7953\"], [0.7777777777777778, \"#fb9f3a\"], [0.8888888888888888, \"#fdca26\"], [1.0, \"#f0f921\"]], \"sequentialminus\": [[0.0, \"#0d0887\"], [0.1111111111111111, \"#46039f\"], [0.2222222222222222, \"#7201a8\"], [0.3333333333333333, \"#9c179e\"], [0.4444444444444444, \"#bd3786\"], [0.5555555555555556, \"#d8576b\"], [0.6666666666666666, \"#ed7953\"], [0.7777777777777778, \"#fb9f3a\"], [0.8888888888888888, \"#fdca26\"], [1.0, \"#f0f921\"]]}, \"colorway\": [\"#636efa\", \"#EF553B\", \"#00cc96\", \"#ab63fa\", \"#FFA15A\", \"#19d3f3\", \"#FF6692\", \"#B6E880\", \"#FF97FF\", \"#FECB52\"], \"font\": {\"color\": \"#2a3f5f\"}, \"geo\": {\"bgcolor\": \"white\", \"lakecolor\": \"white\", \"landcolor\": \"#E5ECF6\", \"showlakes\": true, \"showland\": true, \"subunitcolor\": \"white\"}, \"hoverlabel\": {\"align\": \"left\"}, \"hovermode\": \"closest\", \"mapbox\": {\"style\": \"light\"}, \"paper_bgcolor\": \"white\", \"plot_bgcolor\": \"#E5ECF6\", \"polar\": {\"angularaxis\": {\"gridcolor\": \"white\", \"linecolor\": \"white\", \"ticks\": \"\"}, \"bgcolor\": \"#E5ECF6\", \"radialaxis\": {\"gridcolor\": \"white\", \"linecolor\": \"white\", \"ticks\": \"\"}}, \"scene\": {\"xaxis\": {\"backgroundcolor\": \"#E5ECF6\", \"gridcolor\": \"white\", \"gridwidth\": 2, \"linecolor\": \"white\", \"showbackground\": true, \"ticks\": \"\", \"zerolinecolor\": \"white\"}, \"yaxis\": {\"backgroundcolor\": \"#E5ECF6\", \"gridcolor\": \"white\", \"gridwidth\": 2, \"linecolor\": \"white\", \"showbackground\": true, \"ticks\": \"\", \"zerolinecolor\": \"white\"}, \"zaxis\": {\"backgroundcolor\": \"#E5ECF6\", \"gridcolor\": \"white\", \"gridwidth\": 2, \"linecolor\": \"white\", \"showbackground\": true, \"ticks\": \"\", \"zerolinecolor\": \"white\"}}, \"shapedefaults\": {\"line\": {\"color\": \"#2a3f5f\"}}, \"ternary\": {\"aaxis\": {\"gridcolor\": \"white\", \"linecolor\": \"white\", \"ticks\": \"\"}, \"baxis\": {\"gridcolor\": \"white\", \"linecolor\": \"white\", \"ticks\": \"\"}, \"bgcolor\": \"#E5ECF6\", \"caxis\": {\"gridcolor\": \"white\", \"linecolor\": \"white\", \"ticks\": \"\"}}, \"title\": {\"x\": 0.05}, \"xaxis\": {\"automargin\": true, \"gridcolor\": \"white\", \"linecolor\": \"white\", \"ticks\": \"\", \"title\": {\"standoff\": 15}, \"zerolinecolor\": \"white\", \"zerolinewidth\": 2}, \"yaxis\": {\"automargin\": true, \"gridcolor\": \"white\", \"linecolor\": \"white\", \"ticks\": \"\", \"title\": {\"standoff\": 15}, \"zerolinecolor\": \"white\", \"zerolinewidth\": 2}}}, \"xaxis\": {\"anchor\": \"y\", \"domain\": [0.0, 1.0], \"title\": {\"text\": \"p_clinton\"}}, \"yaxis\": {\"anchor\": \"x\", \"domain\": [0.0, 1.0], \"title\": {\"text\": \"p_trump\"}}},\n",
       "                        {\"responsive\": true}\n",
       "                    ).then(function(){\n",
       "                            \n",
       "var gd = document.getElementById('cc172f38-6c19-4a67-9d2f-014476af36fb');\n",
       "var x = new MutationObserver(function (mutations, observer) {{\n",
       "        var display = window.getComputedStyle(gd).display;\n",
       "        if (!display || display === 'none') {{\n",
       "            console.log([gd, 'removed!']);\n",
       "            Plotly.purge(gd);\n",
       "            observer.disconnect();\n",
       "        }}\n",
       "}});\n",
       "\n",
       "// Listen for the removal of the full notebook cells\n",
       "var notebookContainer = gd.closest('#notebook-container');\n",
       "if (notebookContainer) {{\n",
       "    x.observe(notebookContainer, {childList: true});\n",
       "}}\n",
       "\n",
       "// Listen for the clearing of the current output cell\n",
       "var outputEl = gd.closest('.output');\n",
       "if (outputEl) {{\n",
       "    x.observe(outputEl, {childList: true});\n",
       "}}\n",
       "\n",
       "                        })\n",
       "                };\n",
       "                });\n",
       "            </script>\n",
       "        </div>"
      ]
     },
     "metadata": {},
     "output_type": "display_data"
    }
   ],
   "source": [
    "import plotly.express as px\n",
    "fig = px.scatter(tg, x='p_clinton',y='p_trump',color='speaker', size=\"length\", hover_data=['speech_id'])\n",
    "fig.show()"
   ]
  },
  {
   "cell_type": "code",
   "execution_count": 360,
   "metadata": {},
   "outputs": [
    {
     "data": {
      "text/html": [
       "<div>\n",
       "<style scoped>\n",
       "    .dataframe tbody tr th:only-of-type {\n",
       "        vertical-align: middle;\n",
       "    }\n",
       "\n",
       "    .dataframe tbody tr th {\n",
       "        vertical-align: top;\n",
       "    }\n",
       "\n",
       "    .dataframe thead th {\n",
       "        text-align: right;\n",
       "    }\n",
       "</style>\n",
       "<table border=\"1\" class=\"dataframe\">\n",
       "  <thead>\n",
       "    <tr style=\"text-align: right;\">\n",
       "      <th></th>\n",
       "      <th>speech_id</th>\n",
       "      <th>speaker</th>\n",
       "      <th>p_clinton</th>\n",
       "      <th>p_trump</th>\n",
       "      <th>length</th>\n",
       "    </tr>\n",
       "  </thead>\n",
       "  <tbody>\n",
       "    <tr>\n",
       "      <th>0</th>\n",
       "      <td>0</td>\n",
       "      <td>CLINTON</td>\n",
       "      <td>-23301.641693</td>\n",
       "      <td>-23121.621145</td>\n",
       "      <td>3034</td>\n",
       "    </tr>\n",
       "    <tr>\n",
       "      <th>1</th>\n",
       "      <td>1</td>\n",
       "      <td>CLINTON</td>\n",
       "      <td>-20212.884390</td>\n",
       "      <td>-20223.034513</td>\n",
       "      <td>2521</td>\n",
       "    </tr>\n",
       "    <tr>\n",
       "      <th>2</th>\n",
       "      <td>2</td>\n",
       "      <td>CLINTON</td>\n",
       "      <td>-10832.122022</td>\n",
       "      <td>-10807.206981</td>\n",
       "      <td>1401</td>\n",
       "    </tr>\n",
       "    <tr>\n",
       "      <th>3</th>\n",
       "      <td>2</td>\n",
       "      <td>TRUMP</td>\n",
       "      <td>-222.299197</td>\n",
       "      <td>-237.311834</td>\n",
       "      <td>29</td>\n",
       "    </tr>\n",
       "    <tr>\n",
       "      <th>4</th>\n",
       "      <td>3</td>\n",
       "      <td>CLINTON</td>\n",
       "      <td>-25914.724110</td>\n",
       "      <td>-26316.222927</td>\n",
       "      <td>3465</td>\n",
       "    </tr>\n",
       "    <tr>\n",
       "      <th>...</th>\n",
       "      <td>...</td>\n",
       "      <td>...</td>\n",
       "      <td>...</td>\n",
       "      <td>...</td>\n",
       "      <td>...</td>\n",
       "    </tr>\n",
       "    <tr>\n",
       "      <th>97</th>\n",
       "      <td>158</td>\n",
       "      <td>CLINTON</td>\n",
       "      <td>-6825.099103</td>\n",
       "      <td>-6833.681877</td>\n",
       "      <td>863</td>\n",
       "    </tr>\n",
       "    <tr>\n",
       "      <th>98</th>\n",
       "      <td>159</td>\n",
       "      <td>CLINTON</td>\n",
       "      <td>-4516.883368</td>\n",
       "      <td>-4545.308796</td>\n",
       "      <td>570</td>\n",
       "    </tr>\n",
       "    <tr>\n",
       "      <th>99</th>\n",
       "      <td>160</td>\n",
       "      <td>CLINTON</td>\n",
       "      <td>-9553.755849</td>\n",
       "      <td>-9604.942148</td>\n",
       "      <td>1247</td>\n",
       "    </tr>\n",
       "    <tr>\n",
       "      <th>100</th>\n",
       "      <td>161</td>\n",
       "      <td>CLINTON</td>\n",
       "      <td>-4465.912122</td>\n",
       "      <td>-4480.178946</td>\n",
       "      <td>579</td>\n",
       "    </tr>\n",
       "    <tr>\n",
       "      <th>101</th>\n",
       "      <td>162</td>\n",
       "      <td>CLINTON</td>\n",
       "      <td>-9101.628106</td>\n",
       "      <td>-9385.337113</td>\n",
       "      <td>1234</td>\n",
       "    </tr>\n",
       "  </tbody>\n",
       "</table>\n",
       "<p>102 rows × 5 columns</p>\n",
       "</div>"
      ],
      "text/plain": [
       "     speech_id  speaker     p_clinton       p_trump  length\n",
       "0            0  CLINTON -23301.641693 -23121.621145    3034\n",
       "1            1  CLINTON -20212.884390 -20223.034513    2521\n",
       "2            2  CLINTON -10832.122022 -10807.206981    1401\n",
       "3            2    TRUMP   -222.299197   -237.311834      29\n",
       "4            3  CLINTON -25914.724110 -26316.222927    3465\n",
       "..         ...      ...           ...           ...     ...\n",
       "97         158  CLINTON  -6825.099103  -6833.681877     863\n",
       "98         159  CLINTON  -4516.883368  -4545.308796     570\n",
       "99         160  CLINTON  -9553.755849  -9604.942148    1247\n",
       "100        161  CLINTON  -4465.912122  -4480.178946     579\n",
       "101        162  CLINTON  -9101.628106  -9385.337113    1234\n",
       "\n",
       "[102 rows x 5 columns]"
      ]
     },
     "execution_count": 360,
     "metadata": {},
     "output_type": "execute_result"
    }
   ],
   "source": [
    "tg"
   ]
  },
  {
   "cell_type": "code",
   "execution_count": null,
   "metadata": {},
   "outputs": [],
   "source": []
  }
 ],
 "metadata": {
  "kernelspec": {
   "display_name": "Python 3",
   "language": "python",
   "name": "python3"
  },
  "language_info": {
   "codemirror_mode": {
    "name": "ipython",
    "version": 3
   },
   "file_extension": ".py",
   "mimetype": "text/x-python",
   "name": "python",
   "nbconvert_exporter": "python",
   "pygments_lexer": "ipython3",
   "version": "3.7.7"
  }
 },
 "nbformat": 4,
 "nbformat_minor": 4
}
