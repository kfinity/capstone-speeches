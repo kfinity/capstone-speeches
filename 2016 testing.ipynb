{
 "cells": [
  {
   "cell_type": "code",
   "execution_count": 1,
   "metadata": {},
   "outputs": [],
   "source": [
    "import pandas as pd"
   ]
  },
  {
   "cell_type": "code",
   "execution_count": 2,
   "metadata": {},
   "outputs": [],
   "source": [
    "df = pd.read_json('data/ucsb_speeches_2016.json')"
   ]
  },
  {
   "cell_type": "code",
   "execution_count": 3,
   "metadata": {},
   "outputs": [],
   "source": [
    "df = df.reset_index().drop(columns=['index'])"
   ]
  },
  {
   "cell_type": "code",
   "execution_count": 4,
   "metadata": {},
   "outputs": [
    {
     "data": {
      "text/plain": [
       "'\\nHello Grand Valley! Thank you! Thank you.\\nIt is great to be back in western Michigan. Thank you. Are there any Lakers here?\\nOh, my gosh. I am so thrilled to be here. I want to thank the president of this great university, Tom Haas, the faculty, the staff, the students. I want to thank Brandon Dillon, the Chair of the Michigan Democratic Party. And I especially really want to thank you for sending Debbie Stabenow to the United States Senate.\\nI have also the great personal experience and privilege of having worked with Debbie, gotten to know her, become a friend of hers, and I am so excited at the possibility that I\\'ll be able to work with her again. But I want you to know this - and I really, really hope you\\'ll tell folks, because there is no more dedicated, effective member of the United States Senate than Debbie Stabenow.\\nShe fights for all of you every day, but she does it with that smile that never leaves her face. And she brings people together who are on opposite sides of issues because she just keeps talking. And don\\'t we need more of that in Washington where people actually talk and listen to each other. So it\\'s wonderful to be with all of you and to be introduced by Debbie.\\nAre you ready to vote tomorrow, Michigan? Are you ready to help get your friends to vote tomorrow? That is clearly the right answer because we have a really important election tomorrow.\\nThe choice in this election could not be clearer. And I know that for many people, you\\'ve gone back and forth, you\\'ve thought about what to do, and I really respect that. But let me say this. Let me say this. This election is basically between division and unity in our country.\\nIt\\'s between strong and steady leadership or a loose cannon who could put everything at risk. It is between an economy that works for everyone or one that is even more stacked for those at the top. And I want each and every one of you to be thinking through about all the issues that you care about. Because although my name and my opponents name will be on the ballot, those issues, and those values, are on the ballot as well.\\nAnd as you think about what you care about and what you want your future to look like you have to recognize this is a consequential election. I have been privileged to know a lot of our presidents over the past decades, and people who ran for president. I was privileged to know as a college student, Gerald Ford.\\nIn fact, I had an internship with the House Republican Conference Committee, which he headed, after my junior year in college. So when I say I\\'ve gotten to know a lot of our presidents, and people who\\'ve run for president, it goes back a ways. And here\\'s what I want you to understand. I didn\\'t agree with everything they did or said. Even the Democrats. We had differences and politics and policies and sometimes on principle, but I never doubted, I never doubted that they were fit to serve as our president and commander-in-chief.\\nThat\\'s why this election is so different. And it\\'s why so many Republicans have spoken out to endorse me and support me, and who have taken very courageous stands against the nominee of their own party. Because they believe that we must put country ahead of party when it comes to this election.\\nI was at Kent State, in Ohio, last week and I was introduced by a gentleman by the name of Bruce Blair. And Mr. Blair had served in the Air Force, he was a young officer assigned to be what was called a launch officer. That meant he served his time every day sitting in a bunker where the controls for launching nuclear weapons were housed. And his job - imagine the responsibility. A young Air Force officer in his twenties, waiting to hear whether or not an order is given for him to launch nuclear weapons.\\nAnd Bruce Blair explained that there is no appeal from a president\\'s order to do that. The joint chiefs of our military forces can\\'t say, \"No, don\\'t do it.\" There\\'s no veto from Congress or anyone else. And the time between the order being given and the actual launch is four minutes.\\nSo after watching this election Mr. Blair began contacting others who had served in this incredibly responsible position to share his concerns about what he was hearing and seeing. And several dozen of them - I\\'d never met them before - several dozen of them wrote a letter explaining why they could never support Donald Trump to be our commander-in-chief.\\nThe awesome responsibility that is housed in one person is something I want you to think about between now and the time you vote. Because I will pledge to you that I will exercise the greatest care and responsibility in all of the powers invested in the office of the presidency.\\nI also want to pose to you a contrast in visions. Did any of you see the debates? First of all, I did stand for four and a half hours with Donald Trump on the stage, proving conclusively I have the stamina to be president.\\nBut I have to say, in addition to that, there were so many things that he said that of course I sometimes was surprised by. But the theme that ran through much of his rhetoric was the presentation of a dark and divisive vision for America. Now I have to tell you, I know we\\'ve got problems. I\\'ve spent 18 months traveling around our country talking to - by now - hundreds and hundreds of thousands of people, hearing what\\'s on people\\'s minds. We\\'ve got challenges but America\\'s always had challenges. And since when do we become pessimistic and not able to think about what we can do to overcome those challenges and solve those problems together?\\nI often didn\\'t recognize the country that Donald Trump was describing. Because from my perspective, looking back at our history, we have a tremendous opportunity ahead of us. And you can vote for a hopeful, inclusive, big-hearted America that will set the stage for an even better future.\\nAnd I want to say especially to the students who are here - I really believe that America\\'s best days are still ahead of us if we reach for them together.\\nMake no mistake. Our core values are being tested in this election. But my faith in our future has never been stronger. Last night in Manchester, New Hampshire, I was introduced by Mr. Khizr Khan.\\nSome of you know or remember that his son, Captain Khan, serving in the United States Army, was killed serving in Iraq. And like at the Democratic Convention this summer, he spoke powerfully about what America means to him. And how we have to defend our values and our Constitution that are the envy of the rest of the world. People look at us with yearning. They see that we are a beacon of freedom, hope and opportunity for people, right here, at home.\\nWhen I heard Mr. Khan speak at the convention, and I heard him again last night, I was so touched because what he said exhibited a love of our country. He said that when he started hearing Donald Trump speak, and all of the things he said about so many people, not only Muslims but African-Americans and Latinos and POWs and women and so many people - when he heard it he couldn\\'t help but think as he walked around his house - he has a room where his son\\'s medals - he got the Bronze Star, he got the Purple Heart - the flag that was draped on his coffin - is respectfully presented in the box that he was given it in. And he thought to himself, \"Would there be any room for my son in Donald Trump\\'s America?\"\\nThink about that for a minute. Because every single one of us has something to contribute. To this great country. We are already great but we can be greater. And we will be greater.\\nI love our country and I believe in the American people, and I know there is nothing we can\\'t do when we make up our minds. Throughout our history, generations of Americans have risen together to meet the tests of their time. They defended democracy. They built the greatest middle class the world has ever known. They marched for civil rights and voting rights, for workers\\' rights and union rights, for LGBT rights, rights for people with disabilities.\\nAnd now, now we\\'ve got to come together and we have to prove we can meet the chal-lenges of our time. We\\'ve got to get the economy working for everybody, not just those at the top.\\nIf you believe, as I do, that America thrives when the middle class thrives, then you have to vote tomorrow.\\nWe are going to make the biggest investment in good paying jobs since World War II. Jobs in infrastructure. Our roads, our bridges, our tunnels, our ports, our airports, our water systems.\\nThese are jobs we need doing in American and these are jobs that cannot be exported. They\\'ve got to be done right here in Michigan and across our country.\\nAnd we are going to invest in new jobs in advanced manufacturing. I am not one of these folks who think, \"We just can\\'t make it in America anymore.\" And I\\'ll tell you why. Because if we have a plan and we actually commit to fulfilling that plan, we can lead the world in precision machining, in 3-D printing. We\\'re not competing for low-wage jobs, we\\'re competing with Germany for high manufacturing, high- skilled jobs.\\nAnd we are going to have clean, renewable energy jobs as a way to fight climate change. As you heard, my opponent chose to make many of his products overseas. And as I pointed out in the last debate, he buys cheap Chinese steel and aluminum instead of good American steel, made by American steel workers.\\nHe\\'s gone all over this country, and he\\'s gone all over Michigan, talking about how he\\'s gonna really get more jobs and he\\'s going to bring back what used to be there. Well I\\'ll tell you what. Look at his record, don\\'t just listen to his rhetoric.\\nBecause I have a different idea. We\\'re going to invest in America again. And for every-body who is frustrated, and anxious, and maybe even angry because they feel left out, left behind, that America\\'s not working the way it should - I understand that. I under-stand that. I represented upstate New York for eight years, and I saw first hand a lot of the loss of jobs and factories, picking up and moving out.\\nBut I also realized that anger is not a plan. You\\'ve got to come together and figure out what is it we\\'re gonna do to bring new jobs back and create more opportunity for people.\\nAnd I\\'ll just tell you that I believe that we\\'ve got to defend the American worker\\'s right to organize and bargain for better wages and benefits.\\nWe\\'re gonna get incomes rising here in western Michigan and across this state. And we\\'re also gonna do more to help small business. My dad was a small businessman. He worked really hard. He ran a printing plant that printed fabrics for draperies, and I would from time to time help him out. You take a silkscreen, you put it down on the long table, you pour the paint in, you do the squeegee, you pick it up - it wasn\\'t automated, we were the automaters - and you\\'d go all the way down to one table, you\\'d go to the other table. So I know how hard people in small business work.\\nAnd I also know something else. Donald Trump made a lot of money off the backs of small business people and contractors by stiffing them and refusing to pay his bills. And I have said, \"I am sure glad my dad never got a contract from Donald Trump, because we could not have afforded that.\"\\nBut it\\'s not just enough to grow the economy. We have to make it fairer. And if you believe we need a fairer economy then you have to vote. I think the best antidote for whatever ails a person is a good job. I believe in hard work. That\\'s how I was raised. But I also believe that if you work hard and you work full time you shouldn\\'t still be in poverty at the end of the year. And I\\'m gonna raise the national minimum wage.\\nAnd one of the things I\\'ve heard all over America, especially from young families, really from all families but particularly young families, is how hard it is to do so many of the things that are expected - like where do you find affordable quality childcare? In lots of states, it\\'s more expensive than college tuition. We\\'re gonna get the cost of childcare down. We\\'re going to have a paid family leave program so that when you have a sick relative or you\\'re sick you won\\'t lose your job.\\nI saw the folks over there holding up the Tim Kaine sign and I really appreciate that. Thank you. Thank you. I got to tell you - Tim and I were in Pittsburgh last month, with a big crowd, and we couldn\\'t get everybody in, like today, so Tim went out to say hello to people and he saw a woman holding a baby, probably about three years old. And he stopped to talk to her and she said, \"I came here because I wanted to tell you, and to tell Hillary Clinton, what happened to me.\" She said that, \"I had my baby, it was a hard labor and delivery and I needed some time off. And I called by boss and said the doctors want me to take some time off and so I won\\'t be in for - I think she said two weeks - and they said, \"OK. You\\'re fired.\"\\nThat is legal in America, still. And what that does is to say that - wait a minute, do we really value children? Do we really value families? And we\\'ve got to have a system that is fair to employers and fair to employees because you got to be able to balance work and family in today\\'s America.\\nAnd then finally, I think it is way past time to guarantee equal pay for women\\'s work.\\nAnd you know I gotta say - this always gets a huge round of applause, as you can tell - but this is not just a woman\\'s issue. It\\'s a family issue. If you have a wife, a mother, a sister, a daughter, who\\'s in the work force, you want her to be paid what she deserves to be paid to help you and your family.\\nJust about everything I\\'ve said so far my opponent disagrees with. And whenever I talk about affordable childcare, and paid family leave, and equal pay - he says I\\'m playing the woman\\'s card and you know what I say, if that\\'s the case? Then deal me in.\\nAnd here\\'s what else I want you to know. It\\'s fair to ask, \"How are you going to pay for that?\" That\\'s not only fair, that\\'s necessary to ask. Because I want to be a good steward of your tax dollars just as I expect you\\'re a good steward of your family budget. I have proposed a very simple formula. I will not raise taxes on anyone making less than $250,000 a year.\\nAnd for small businesses, we\\'re gonna cut your taxes because I know a lot of small businesses need that kind of tax relief. So instead, we\\'re going where the money is, to the millionaires and the billionaires and the big corporations.\\nAnd that is in stark contrast to what Donald Trump has proposed. His whole economic plan is cut trillions of dollars in taxes from millionaires and billionaires and corporations. That is trickle-down economics on steroids. I profoundly disagree. I think the way you build an economy is from the middle out and the bottom up, not from the top down.\\nWhen you think about it, Donald hasn\\'t paid anything for 20 years. He\\'s paid zero to support our military, our vets, Pell grants for students here at Grand Valley, our high-ways - and I am still pondering, I am just pondering how anybody can lose a billion dollars in one year.\\nEspecially when you\\'re running casinos. I do not understand that. But that will be one of the mysteries in this campaign because he\\'s not going to release his tax returns now and the time you start voting. And that sort of suggests there must be something really terrible in those tax returns because everybody else for more than 40 years has released them.\\nSo, we\\'ll still wonder. But what we know is his economic approach will cost us jobs, not create jobs. And we can\\'t afford that. We need to keep building. We have recovered from the worst financial crash since the Great Depression but we\\'re not where we need to be yet. The last thing we need is a failed economic policy coming back in and pushing us back down. And depriving people of the jobs that we want to create.\\nAnd if you believe all of our kids should have good schools and good teachers no matter what zip code they live in then you have to vote.\\nAnd if you believe college should be affordable you have to vote. I\\'ve got to say I am proud of the campaign that Bernie Sanders and I ran. It was a campaign about ideas and issues, not insults. And when it was over, we actually got together. What a novel idea. We wanted to figure out how we can work together to actually produce on some of the goals that we both shared. So Bernie and I worked on this plan together.\\nPublic colleges and universities should be tuition-free for everyone who makes less than a $125,000 a year. And they should be debt-free for everyone else because nobody should go into debt. And if you have gone into debt, if you\\'re among the millions of Americans who are struggling - as I see some hands pointing in the air - paying back your student debt, we are going to help you pay it down and pay it off.\\nIt makes no sense at all. We have interest rates that are really low right now. Buy a car for what, 1 or 2 percent. You can buy a house for 3,4 percent. There are so many people who are paying 8, 10, 12, higher - 8, 10, 12 percent interest - how much? Twelve point seven. Fourteen point one. I got to tell you friends. That is outrageous. The federal government should not be making money off of sending kids to college.\\nI can\\'t wait to roll up my sleeves with Debbie and Bernie and we\\'re gonna get to work right after this election if I am fortunate enough to win.\\nLook. Working for children and families has been the cause of my life, but it\\'s never been more important than it is right now. And that has to be our mission together. Doing all we can to help every American, and especially every young American and every child in America to have the chance to live up to their God-given potential. I will wake up every single day in the White House trying to figure out what I can do to make that a reality for you.\\nSo after tomorrow the work will begin, and one of the highest priorities that I feel an obligation to address is how we bring our country together. A lot of people say we\\'ve got to heal our country, or as the Bible says repair the breach. Because we have so much divisiveness right now. We\\'ve got to start listening to each other. Respecting each other. I know it is unusual, I admit, for somebody running for president, especially the day before an election, but I\\'ve been saying this for months. To say that we need more of two things right now.\\nWe need more love and kindness in America.\\nI don\\'t know about you, I don\\'t know about you but I bet everyone of us has received a kindness and maybe, I hope, we\\'ve all extended one. I am standing here today because my mother, who was abandoned by her parents, rejected by her grandparents, went to work at the age of 14 as a maid, and a babysitter, was extended kindness. Not by those who should have loved her, but by others. The first grade teacher who saw she had nothing to eat at lunch, who began bringing extra food. The woman whose house she went to work in who knew that my mother wanted to go to high school. She would have been a freshman in high school when she had to leave her grandparents\\' home and she got this job. And that woman said, \"I know you want to go to high school. If you get up early and you get your chores done, you can go to high school, but you\\'ll have to come back because we\\'ll need you in the late afternoon.\"\\nNow that may sound harsh to say to a 14-year old but to my mother it was a gift. I tell you this because we all have to start thinking about how we want to be treated and what that means about how we treat others. And …\\nThere\\'s a version of the golden rule in every major religion. And it is a reminder that every one of us gets knocked down. The question as my mother would say is are you gonna get back up? And for people in our country who feel like they\\'ve been knocked down and nobody cares, nobody\\'s paying attention, here\\'s what I want you to know. If you give me the honor of being your president I\\'m gonna do everything I can to get this country and everybody in it back up on our feet moving forward together.\\nBecause I want to be a president for all Americans.\\nDemocrats, Republicans, Independents. Not just the people who support me, everybody in this country. Because I believe with all my heart each of us has a role to play in building a better future. So let\\'s take that first step tomorrow. If you don\\'t know where you\\'re supposed to vote go to iwillvote.com - you can get all the information you need. If you want to help us bringing out the vote here in western Michigan in the last 24, 36 hours, you can still sign up to volunteer. Go to hillaryclinton.com. Or you can text join247246 or stop by one of our offices. We would be really excited to see you, because when your kids and grandkids ask what you did in 2016, when everything was on the line, I hope you\\'ll be able to say that you voted for a better, stronger, fairer America.\\nAn America where we build bridges, not walls.And an America where we prove that yes, love trumps hate.\\nThank you all so much.\\n'"
      ]
     },
     "execution_count": 4,
     "metadata": {},
     "output_type": "execute_result"
    }
   ],
   "source": [
    "df.loc[0]['transcript']"
   ]
  },
  {
   "cell_type": "code",
   "execution_count": 5,
   "metadata": {},
   "outputs": [
    {
     "data": {
      "text/html": [
       "<div>\n",
       "<style scoped>\n",
       "    .dataframe tbody tr th:only-of-type {\n",
       "        vertical-align: middle;\n",
       "    }\n",
       "\n",
       "    .dataframe tbody tr th {\n",
       "        vertical-align: top;\n",
       "    }\n",
       "\n",
       "    .dataframe thead th {\n",
       "        text-align: right;\n",
       "    }\n",
       "</style>\n",
       "<table border=\"1\" class=\"dataframe\">\n",
       "  <thead>\n",
       "    <tr style=\"text-align: right;\">\n",
       "      <th></th>\n",
       "      <th>link</th>\n",
       "      <th>title</th>\n",
       "      <th>date</th>\n",
       "      <th>person</th>\n",
       "      <th>transcript</th>\n",
       "    </tr>\n",
       "  </thead>\n",
       "  <tbody>\n",
       "    <tr>\n",
       "      <th>0</th>\n",
       "      <td>/documents/remarks-grand-valley-state-universi...</td>\n",
       "      <td>Remarks at Grand Valley State University in Gr...</td>\n",
       "      <td>2016-11-07 00:00:00+00:00</td>\n",
       "      <td>Hillary Clinton</td>\n",
       "      <td>\\nHello Grand Valley! Thank you! Thank you.\\nI...</td>\n",
       "    </tr>\n",
       "    <tr>\n",
       "      <th>1</th>\n",
       "      <td>/documents/remarks-js-dorton-arena-raleigh-nor...</td>\n",
       "      <td>Remarks at J.S Dorton Arena in Raleigh, North ...</td>\n",
       "      <td>2016-11-07 00:00:00+00:00</td>\n",
       "      <td>Donald J. Trump</td>\n",
       "      <td>\\nThis is amazing. What a great place. Thank y...</td>\n",
       "    </tr>\n",
       "    <tr>\n",
       "      <th>2</th>\n",
       "      <td>/documents/remarks-north-carolina-state-univer...</td>\n",
       "      <td>Remarks at North Carolina State University in ...</td>\n",
       "      <td>2016-11-07 00:00:00+00:00</td>\n",
       "      <td>Hillary Clinton</td>\n",
       "      <td>\\nThank you all! Whoa! Thank you! Thank you. W...</td>\n",
       "    </tr>\n",
       "    <tr>\n",
       "      <th>3</th>\n",
       "      <td>/documents/remarks-the-university-pittsburgh</td>\n",
       "      <td>Remarks at the University of Pittsburgh</td>\n",
       "      <td>2016-11-07 00:00:00+00:00</td>\n",
       "      <td>Hillary Clinton</td>\n",
       "      <td>\\nHello, Pittsburgh! Woah! Hello back there!\\n...</td>\n",
       "    </tr>\n",
       "    <tr>\n",
       "      <th>4</th>\n",
       "      <td>/documents/remarks-eastern-market-detroit-mich...</td>\n",
       "      <td>Remarks at Eastern Market in Detroit, Michigan</td>\n",
       "      <td>2016-11-04 00:00:00+00:00</td>\n",
       "      <td>Hillary Clinton</td>\n",
       "      <td>\\nHello Detroit! Thank you! I'll tell you, I a...</td>\n",
       "    </tr>\n",
       "    <tr>\n",
       "      <th>...</th>\n",
       "      <td>...</td>\n",
       "      <td>...</td>\n",
       "      <td>...</td>\n",
       "      <td>...</td>\n",
       "      <td>...</td>\n",
       "    </tr>\n",
       "    <tr>\n",
       "      <th>96</th>\n",
       "      <td>/documents/remarks-erie-insurance-arena-erie-p...</td>\n",
       "      <td>Remarks at Erie Insurance Arena in Erie, Penns...</td>\n",
       "      <td>2016-08-12 00:00:00+00:00</td>\n",
       "      <td>Donald J. Trump</td>\n",
       "      <td>\\nThank you. Thank you, everybody. Thank you. ...</td>\n",
       "    </tr>\n",
       "    <tr>\n",
       "      <th>97</th>\n",
       "      <td>/documents/remarks-rally-the-university-north-...</td>\n",
       "      <td>Remarks at a Rally at the University of North ...</td>\n",
       "      <td>2016-08-09 00:00:00+00:00</td>\n",
       "      <td>Donald J. Trump</td>\n",
       "      <td>\\nThank you. Thank you very much. [applause] T...</td>\n",
       "    </tr>\n",
       "    <tr>\n",
       "      <th>98</th>\n",
       "      <td>/documents/remarks-the-detroit-economic-club-1</td>\n",
       "      <td>Remarks to the Detroit Economic Club</td>\n",
       "      <td>2016-08-08 00:00:00+00:00</td>\n",
       "      <td>Donald J. Trump</td>\n",
       "      <td>\\nThank you for the invitation to speak to you...</td>\n",
       "    </tr>\n",
       "    <tr>\n",
       "      <th>99</th>\n",
       "      <td>/documents/remarks-the-ki-convention-center-gr...</td>\n",
       "      <td>Remarks at the KI Convention Center in Green B...</td>\n",
       "      <td>2016-08-05 00:00:00+00:00</td>\n",
       "      <td>Donald J. Trump</td>\n",
       "      <td>\\nSo how good is he? How good is he? [applause...</td>\n",
       "    </tr>\n",
       "    <tr>\n",
       "      <th>100</th>\n",
       "      <td>/documents/address-accepting-the-presidential-...</td>\n",
       "      <td>Address Accepting the Presidential Nomination ...</td>\n",
       "      <td>2016-07-28 00:00:00+00:00</td>\n",
       "      <td>Hillary Clinton</td>\n",
       "      <td>\\nThank you all very, very much! Thank you for...</td>\n",
       "    </tr>\n",
       "  </tbody>\n",
       "</table>\n",
       "<p>101 rows × 5 columns</p>\n",
       "</div>"
      ],
      "text/plain": [
       "                                                  link  \\\n",
       "0    /documents/remarks-grand-valley-state-universi...   \n",
       "1    /documents/remarks-js-dorton-arena-raleigh-nor...   \n",
       "2    /documents/remarks-north-carolina-state-univer...   \n",
       "3         /documents/remarks-the-university-pittsburgh   \n",
       "4    /documents/remarks-eastern-market-detroit-mich...   \n",
       "..                                                 ...   \n",
       "96   /documents/remarks-erie-insurance-arena-erie-p...   \n",
       "97   /documents/remarks-rally-the-university-north-...   \n",
       "98      /documents/remarks-the-detroit-economic-club-1   \n",
       "99   /documents/remarks-the-ki-convention-center-gr...   \n",
       "100  /documents/address-accepting-the-presidential-...   \n",
       "\n",
       "                                                 title  \\\n",
       "0    Remarks at Grand Valley State University in Gr...   \n",
       "1    Remarks at J.S Dorton Arena in Raleigh, North ...   \n",
       "2    Remarks at North Carolina State University in ...   \n",
       "3              Remarks at the University of Pittsburgh   \n",
       "4       Remarks at Eastern Market in Detroit, Michigan   \n",
       "..                                                 ...   \n",
       "96   Remarks at Erie Insurance Arena in Erie, Penns...   \n",
       "97   Remarks at a Rally at the University of North ...   \n",
       "98                Remarks to the Detroit Economic Club   \n",
       "99   Remarks at the KI Convention Center in Green B...   \n",
       "100  Address Accepting the Presidential Nomination ...   \n",
       "\n",
       "                         date           person  \\\n",
       "0   2016-11-07 00:00:00+00:00  Hillary Clinton   \n",
       "1   2016-11-07 00:00:00+00:00  Donald J. Trump   \n",
       "2   2016-11-07 00:00:00+00:00  Hillary Clinton   \n",
       "3   2016-11-07 00:00:00+00:00  Hillary Clinton   \n",
       "4   2016-11-04 00:00:00+00:00  Hillary Clinton   \n",
       "..                        ...              ...   \n",
       "96  2016-08-12 00:00:00+00:00  Donald J. Trump   \n",
       "97  2016-08-09 00:00:00+00:00  Donald J. Trump   \n",
       "98  2016-08-08 00:00:00+00:00  Donald J. Trump   \n",
       "99  2016-08-05 00:00:00+00:00  Donald J. Trump   \n",
       "100 2016-07-28 00:00:00+00:00  Hillary Clinton   \n",
       "\n",
       "                                            transcript  \n",
       "0    \\nHello Grand Valley! Thank you! Thank you.\\nI...  \n",
       "1    \\nThis is amazing. What a great place. Thank y...  \n",
       "2    \\nThank you all! Whoa! Thank you! Thank you. W...  \n",
       "3    \\nHello, Pittsburgh! Woah! Hello back there!\\n...  \n",
       "4    \\nHello Detroit! Thank you! I'll tell you, I a...  \n",
       "..                                                 ...  \n",
       "96   \\nThank you. Thank you, everybody. Thank you. ...  \n",
       "97   \\nThank you. Thank you very much. [applause] T...  \n",
       "98   \\nThank you for the invitation to speak to you...  \n",
       "99   \\nSo how good is he? How good is he? [applause...  \n",
       "100  \\nThank you all very, very much! Thank you for...  \n",
       "\n",
       "[101 rows x 5 columns]"
      ]
     },
     "execution_count": 5,
     "metadata": {},
     "output_type": "execute_result"
    }
   ],
   "source": [
    "df"
   ]
  },
  {
   "cell_type": "code",
   "execution_count": 6,
   "metadata": {},
   "outputs": [],
   "source": [
    "dates = df.groupby(['person','date']).agg({'transcript': 'count'}).reset_index()"
   ]
  },
  {
   "cell_type": "code",
   "execution_count": 7,
   "metadata": {},
   "outputs": [],
   "source": [
    "from matplotlib import pyplot as plt"
   ]
  },
  {
   "cell_type": "code",
   "execution_count": 8,
   "metadata": {},
   "outputs": [],
   "source": [
    "dt_dates = dates[dates['person']=='Donald J. Trump'].drop(columns='person').set_index('date')\n",
    "hc_dates = dates[dates['person']=='Hillary Clinton'].drop(columns='person').set_index('date')"
   ]
  },
  {
   "cell_type": "code",
   "execution_count": 9,
   "metadata": {},
   "outputs": [],
   "source": [
    "idx = pd.date_range(min(dates.date), max(dates.date))\n",
    "#dt_dates.set_index('date')\n",
    "dt_dates = dt_dates.reindex(idx, fill_value=0)\n",
    "hc_dates = hc_dates.reindex(idx, fill_value=0)"
   ]
  },
  {
   "cell_type": "code",
   "execution_count": 10,
   "metadata": {},
   "outputs": [
    {
     "data": {
      "image/png": "[encoded data removed]",
      "text/plain": [
       "<Figure size 792x576 with 2 Axes>"
      ]
     },
     "metadata": {
      "needs_background": "light"
     },
     "output_type": "display_data"
    }
   ],
   "source": [
    "from matplotlib import dates as d\n",
    "import numpy as np\n",
    "#x = np.arange(0,len(idx),1)\n",
    "fig, ax = plt.subplots(2,1)\n",
    "fig.set_size_inches(11,8)\n",
    "ax[0].bar(d.date2num(idx), dt_dates['transcript'], color=\"red\")\n",
    "ax[1].bar(d.date2num(idx), hc_dates['transcript'], color=\"blue\")\n",
    "xt = np.arange(min(d.date2num(idx)),max(d.date2num(idx)),step=14)\n",
    "xl = [d.num2date(x).strftime('%m-%d') for x in xt]\n",
    "ax[0].set_xticks(xt)\n",
    "ax[1].set_xticks(xt)\n",
    "ax[0].set_xticklabels(xl, rotation=20)\n",
    "ax[1].set_xticklabels(xl, rotation=20)\n",
    "ax[0].set_ylabel('Trump speeches - 51')\n",
    "ax[1].set_ylabel('Clinton speeches - 28')\n",
    "ax[0].set_title('2016 Presidential Candidate Speeches')\n",
    "plt.show()"
   ]
  },
  {
   "cell_type": "code",
   "execution_count": null,
   "metadata": {},
   "outputs": [],
   "source": []
  }
 ],
 "metadata": {
  "kernelspec": {
   "display_name": "Python 3",
   "language": "python",
   "name": "python3"
  },
  "language_info": {
   "codemirror_mode": {
    "name": "ipython",
    "version": 3
   },
   "file_extension": ".py",
   "mimetype": "text/x-python",
   "name": "python",
   "nbconvert_exporter": "python",
   "pygments_lexer": "ipython3",
   "version": "3.7.6"
  }
 },
 "nbformat": 4,
 "nbformat_minor": 4
}
